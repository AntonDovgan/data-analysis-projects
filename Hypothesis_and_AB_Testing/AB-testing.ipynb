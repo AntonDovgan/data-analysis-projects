{
 "cells": [
  {
   "cell_type": "markdown",
   "metadata": {},
   "source": [
    "# Описание проекта"
   ]
  },
  {
   "cell_type": "markdown",
   "metadata": {},
   "source": [
    "Вы — аналитик крупного интернет-магазина. Вместе с отделом маркетинга вы подготовили список гипотез для увеличения выручки."
   ]
  },
  {
   "cell_type": "markdown",
   "metadata": {},
   "source": [
    "## Задача    \n",
    "Приоритезировать гипотезы, запустить A/B-тест и проанализировать результаты.\n",
    "\n",
    "## Описание данных\n",
    "`hypothesis.csv`:    \n",
    "- Hypothesis — краткое описание гипотезы;\n",
    "- Reach — охват пользователей по 10-балльной шкале;\n",
    "- Impact — влияние на пользователей по 10-балльной шкале;\n",
    "- Confidence — уверенность в гипотезе по 10-балльной шкале;\n",
    "- Efforts — затраты ресурсов на проверку гипотезы по 10-балльной шкале. Чем больше значение Efforts, тем дороже проверка гипотезы.    \n",
    "\n",
    "\n",
    "`orders.csv`:\n",
    "- transactionId — идентификатор заказа;\n",
    "- visitorId — идентификатор пользователя, совершившего заказ;\n",
    "- date — дата, когда был совершён заказ;\n",
    "- revenue — выручка заказа;\n",
    "- group — группа A/B-теста, в которую попал заказ.    \n",
    "\n",
    "\n",
    "`visitors.csv`:\n",
    "- date — дата;\n",
    "- group — группа A/B-теста;\n",
    "- visitors — количество пользователей в указанную дату в указанной группе A/B-теста\n",
    "\n"
   ]
  },
  {
   "cell_type": "markdown",
   "metadata": {},
   "source": [
    "# Импорт библиотек"
   ]
  },
  {
   "cell_type": "code",
   "execution_count": 1,
   "metadata": {},
   "outputs": [],
   "source": [
    "import pandas as pd\n",
    "import datetime as dt\n",
    "import seaborn as sns\n",
    "import matplotlib.pyplot as plt\n",
    "import numpy as np\n",
    "import scipy.stats as stats\n",
    "from pandas.plotting import register_matplotlib_converters\n",
    "\n",
    "register_matplotlib_converters()"
   ]
  },
  {
   "cell_type": "markdown",
   "metadata": {},
   "source": [
    "# Импорт и изучение данных"
   ]
  },
  {
   "cell_type": "code",
   "execution_count": 2,
   "metadata": {},
   "outputs": [],
   "source": [
    "hypothesis = pd.read_csv('hypothesis.csv')\n",
    "orders = pd.read_csv('orders.csv')\n",
    "visitors = pd.read_csv('visitors.csv')"
   ]
  },
  {
   "cell_type": "markdown",
   "metadata": {},
   "source": [
    "## hypothesis"
   ]
  },
  {
   "cell_type": "code",
   "execution_count": 3,
   "metadata": {},
   "outputs": [
    {
     "data": {
      "text/html": [
       "<div>\n",
       "<style scoped>\n",
       "    .dataframe tbody tr th:only-of-type {\n",
       "        vertical-align: middle;\n",
       "    }\n",
       "\n",
       "    .dataframe tbody tr th {\n",
       "        vertical-align: top;\n",
       "    }\n",
       "\n",
       "    .dataframe thead th {\n",
       "        text-align: right;\n",
       "    }\n",
       "</style>\n",
       "<table border=\"1\" class=\"dataframe\">\n",
       "  <thead>\n",
       "    <tr style=\"text-align: right;\">\n",
       "      <th></th>\n",
       "      <th>Hypothesis</th>\n",
       "      <th>Reach</th>\n",
       "      <th>Impact</th>\n",
       "      <th>Confidence</th>\n",
       "      <th>Efforts</th>\n",
       "    </tr>\n",
       "  </thead>\n",
       "  <tbody>\n",
       "    <tr>\n",
       "      <td>0</td>\n",
       "      <td>Добавить два новых канала привлечения трафика,...</td>\n",
       "      <td>3</td>\n",
       "      <td>10</td>\n",
       "      <td>8</td>\n",
       "      <td>6</td>\n",
       "    </tr>\n",
       "    <tr>\n",
       "      <td>1</td>\n",
       "      <td>Запустить собственную службу доставки, что сок...</td>\n",
       "      <td>2</td>\n",
       "      <td>5</td>\n",
       "      <td>4</td>\n",
       "      <td>10</td>\n",
       "    </tr>\n",
       "    <tr>\n",
       "      <td>2</td>\n",
       "      <td>Добавить блоки рекомендаций товаров на сайт ин...</td>\n",
       "      <td>8</td>\n",
       "      <td>3</td>\n",
       "      <td>7</td>\n",
       "      <td>3</td>\n",
       "    </tr>\n",
       "    <tr>\n",
       "      <td>3</td>\n",
       "      <td>Изменить структура категорий, что увеличит кон...</td>\n",
       "      <td>8</td>\n",
       "      <td>3</td>\n",
       "      <td>3</td>\n",
       "      <td>8</td>\n",
       "    </tr>\n",
       "    <tr>\n",
       "      <td>4</td>\n",
       "      <td>Изменить цвет фона главной страницы, чтобы уве...</td>\n",
       "      <td>3</td>\n",
       "      <td>1</td>\n",
       "      <td>1</td>\n",
       "      <td>1</td>\n",
       "    </tr>\n",
       "  </tbody>\n",
       "</table>\n",
       "</div>"
      ],
      "text/plain": [
       "                                          Hypothesis  Reach  Impact  \\\n",
       "0  Добавить два новых канала привлечения трафика,...      3      10   \n",
       "1  Запустить собственную службу доставки, что сок...      2       5   \n",
       "2  Добавить блоки рекомендаций товаров на сайт ин...      8       3   \n",
       "3  Изменить структура категорий, что увеличит кон...      8       3   \n",
       "4  Изменить цвет фона главной страницы, чтобы уве...      3       1   \n",
       "\n",
       "   Confidence  Efforts  \n",
       "0           8        6  \n",
       "1           4       10  \n",
       "2           7        3  \n",
       "3           3        8  \n",
       "4           1        1  "
      ]
     },
     "execution_count": 3,
     "metadata": {},
     "output_type": "execute_result"
    }
   ],
   "source": [
    "hypothesis.head()"
   ]
  },
  {
   "cell_type": "code",
   "execution_count": 4,
   "metadata": {},
   "outputs": [
    {
     "name": "stdout",
     "output_type": "stream",
     "text": [
      "<class 'pandas.core.frame.DataFrame'>\n",
      "RangeIndex: 9 entries, 0 to 8\n",
      "Data columns (total 5 columns):\n",
      "Hypothesis    9 non-null object\n",
      "Reach         9 non-null int64\n",
      "Impact        9 non-null int64\n",
      "Confidence    9 non-null int64\n",
      "Efforts       9 non-null int64\n",
      "dtypes: int64(4), object(1)\n",
      "memory usage: 488.0+ bytes\n"
     ]
    }
   ],
   "source": [
    "hypothesis.info()"
   ]
  },
  {
   "cell_type": "code",
   "execution_count": 5,
   "metadata": {},
   "outputs": [
    {
     "name": "stdout",
     "output_type": "stream",
     "text": [
      "Дубликаты: 0\n"
     ]
    }
   ],
   "source": [
    "# поиск дублей\n",
    "print('Дубликаты: {}'.format(hypothesis.duplicated().sum()))"
   ]
  },
  {
   "cell_type": "code",
   "execution_count": 6,
   "metadata": {},
   "outputs": [
    {
     "name": "stdout",
     "output_type": "stream",
     "text": [
      "Пропуски: Hypothesis    0\n",
      "Reach         0\n",
      "Impact        0\n",
      "Confidence    0\n",
      "Efforts       0\n",
      "dtype: int64\n"
     ]
    }
   ],
   "source": [
    "# поиск пропусков\n",
    "print(f'Пропуски:',hypothesis.isna().sum())"
   ]
  },
  {
   "cell_type": "code",
   "execution_count": 7,
   "metadata": {},
   "outputs": [
    {
     "data": {
      "text/html": [
       "<div>\n",
       "<style scoped>\n",
       "    .dataframe tbody tr th:only-of-type {\n",
       "        vertical-align: middle;\n",
       "    }\n",
       "\n",
       "    .dataframe tbody tr th {\n",
       "        vertical-align: top;\n",
       "    }\n",
       "\n",
       "    .dataframe thead th {\n",
       "        text-align: right;\n",
       "    }\n",
       "</style>\n",
       "<table border=\"1\" class=\"dataframe\">\n",
       "  <thead>\n",
       "    <tr style=\"text-align: right;\">\n",
       "      <th></th>\n",
       "      <th>Reach</th>\n",
       "      <th>Impact</th>\n",
       "      <th>Confidence</th>\n",
       "      <th>Efforts</th>\n",
       "    </tr>\n",
       "  </thead>\n",
       "  <tbody>\n",
       "    <tr>\n",
       "      <td>count</td>\n",
       "      <td>9.000000</td>\n",
       "      <td>9.000000</td>\n",
       "      <td>9.000000</td>\n",
       "      <td>9.000000</td>\n",
       "    </tr>\n",
       "    <tr>\n",
       "      <td>mean</td>\n",
       "      <td>4.777778</td>\n",
       "      <td>4.777778</td>\n",
       "      <td>5.555556</td>\n",
       "      <td>4.888889</td>\n",
       "    </tr>\n",
       "    <tr>\n",
       "      <td>std</td>\n",
       "      <td>3.153481</td>\n",
       "      <td>3.192874</td>\n",
       "      <td>3.045944</td>\n",
       "      <td>2.803767</td>\n",
       "    </tr>\n",
       "    <tr>\n",
       "      <td>min</td>\n",
       "      <td>1.000000</td>\n",
       "      <td>1.000000</td>\n",
       "      <td>1.000000</td>\n",
       "      <td>1.000000</td>\n",
       "    </tr>\n",
       "    <tr>\n",
       "      <td>25%</td>\n",
       "      <td>3.000000</td>\n",
       "      <td>3.000000</td>\n",
       "      <td>3.000000</td>\n",
       "      <td>3.000000</td>\n",
       "    </tr>\n",
       "    <tr>\n",
       "      <td>50%</td>\n",
       "      <td>3.000000</td>\n",
       "      <td>3.000000</td>\n",
       "      <td>7.000000</td>\n",
       "      <td>5.000000</td>\n",
       "    </tr>\n",
       "    <tr>\n",
       "      <td>75%</td>\n",
       "      <td>8.000000</td>\n",
       "      <td>7.000000</td>\n",
       "      <td>8.000000</td>\n",
       "      <td>6.000000</td>\n",
       "    </tr>\n",
       "    <tr>\n",
       "      <td>max</td>\n",
       "      <td>10.000000</td>\n",
       "      <td>10.000000</td>\n",
       "      <td>9.000000</td>\n",
       "      <td>10.000000</td>\n",
       "    </tr>\n",
       "  </tbody>\n",
       "</table>\n",
       "</div>"
      ],
      "text/plain": [
       "           Reach     Impact  Confidence    Efforts\n",
       "count   9.000000   9.000000    9.000000   9.000000\n",
       "mean    4.777778   4.777778    5.555556   4.888889\n",
       "std     3.153481   3.192874    3.045944   2.803767\n",
       "min     1.000000   1.000000    1.000000   1.000000\n",
       "25%     3.000000   3.000000    3.000000   3.000000\n",
       "50%     3.000000   3.000000    7.000000   5.000000\n",
       "75%     8.000000   7.000000    8.000000   6.000000\n",
       "max    10.000000  10.000000    9.000000  10.000000"
      ]
     },
     "execution_count": 7,
     "metadata": {},
     "output_type": "execute_result"
    }
   ],
   "source": [
    "hypothesis.describe()"
   ]
  },
  {
   "cell_type": "code",
   "execution_count": 8,
   "metadata": {},
   "outputs": [],
   "source": [
    "hypothesis.columns = hypothesis.columns.str.lower()\n",
    "hypothesis['hypothesis'] = hypothesis['hypothesis'].str.lower()"
   ]
  },
  {
   "cell_type": "code",
   "execution_count": 9,
   "metadata": {},
   "outputs": [
    {
     "data": {
      "text/html": [
       "<div>\n",
       "<style scoped>\n",
       "    .dataframe tbody tr th:only-of-type {\n",
       "        vertical-align: middle;\n",
       "    }\n",
       "\n",
       "    .dataframe tbody tr th {\n",
       "        vertical-align: top;\n",
       "    }\n",
       "\n",
       "    .dataframe thead th {\n",
       "        text-align: right;\n",
       "    }\n",
       "</style>\n",
       "<table border=\"1\" class=\"dataframe\">\n",
       "  <thead>\n",
       "    <tr style=\"text-align: right;\">\n",
       "      <th></th>\n",
       "      <th>hypothesis</th>\n",
       "      <th>reach</th>\n",
       "      <th>impact</th>\n",
       "      <th>confidence</th>\n",
       "      <th>efforts</th>\n",
       "    </tr>\n",
       "  </thead>\n",
       "  <tbody>\n",
       "    <tr>\n",
       "      <td>0</td>\n",
       "      <td>добавить два новых канала привлечения трафика, что позволит привлекать на 30% больше пользователей</td>\n",
       "      <td>3</td>\n",
       "      <td>10</td>\n",
       "      <td>8</td>\n",
       "      <td>6</td>\n",
       "    </tr>\n",
       "    <tr>\n",
       "      <td>1</td>\n",
       "      <td>запустить собственную службу доставки, что сократит срок доставки заказов</td>\n",
       "      <td>2</td>\n",
       "      <td>5</td>\n",
       "      <td>4</td>\n",
       "      <td>10</td>\n",
       "    </tr>\n",
       "    <tr>\n",
       "      <td>2</td>\n",
       "      <td>добавить блоки рекомендаций товаров на сайт интернет магазина, чтобы повысить конверсию и средний чек заказа</td>\n",
       "      <td>8</td>\n",
       "      <td>3</td>\n",
       "      <td>7</td>\n",
       "      <td>3</td>\n",
       "    </tr>\n",
       "    <tr>\n",
       "      <td>3</td>\n",
       "      <td>изменить структура категорий, что увеличит конверсию, т.к. пользователи быстрее найдут нужный товар</td>\n",
       "      <td>8</td>\n",
       "      <td>3</td>\n",
       "      <td>3</td>\n",
       "      <td>8</td>\n",
       "    </tr>\n",
       "    <tr>\n",
       "      <td>4</td>\n",
       "      <td>изменить цвет фона главной страницы, чтобы увеличить вовлеченность пользователей</td>\n",
       "      <td>3</td>\n",
       "      <td>1</td>\n",
       "      <td>1</td>\n",
       "      <td>1</td>\n",
       "    </tr>\n",
       "    <tr>\n",
       "      <td>5</td>\n",
       "      <td>добавить страницу отзывов клиентов о магазине, что позволит увеличить количество заказов</td>\n",
       "      <td>3</td>\n",
       "      <td>2</td>\n",
       "      <td>2</td>\n",
       "      <td>3</td>\n",
       "    </tr>\n",
       "    <tr>\n",
       "      <td>6</td>\n",
       "      <td>показать на главной странице баннеры с актуальными акциями и распродажами, чтобы увеличить конверсию</td>\n",
       "      <td>5</td>\n",
       "      <td>3</td>\n",
       "      <td>8</td>\n",
       "      <td>3</td>\n",
       "    </tr>\n",
       "    <tr>\n",
       "      <td>7</td>\n",
       "      <td>добавить форму подписки на все основные страницы, чтобы собрать базу клиентов для email-рассылок</td>\n",
       "      <td>10</td>\n",
       "      <td>7</td>\n",
       "      <td>8</td>\n",
       "      <td>5</td>\n",
       "    </tr>\n",
       "    <tr>\n",
       "      <td>8</td>\n",
       "      <td>запустить акцию, дающую скидку на товар в день рождения</td>\n",
       "      <td>1</td>\n",
       "      <td>9</td>\n",
       "      <td>9</td>\n",
       "      <td>5</td>\n",
       "    </tr>\n",
       "  </tbody>\n",
       "</table>\n",
       "</div>"
      ],
      "text/plain": [
       "                                                                                                     hypothesis  \\\n",
       "0            добавить два новых канала привлечения трафика, что позволит привлекать на 30% больше пользователей   \n",
       "1                                     запустить собственную службу доставки, что сократит срок доставки заказов   \n",
       "2  добавить блоки рекомендаций товаров на сайт интернет магазина, чтобы повысить конверсию и средний чек заказа   \n",
       "3           изменить структура категорий, что увеличит конверсию, т.к. пользователи быстрее найдут нужный товар   \n",
       "4                              изменить цвет фона главной страницы, чтобы увеличить вовлеченность пользователей   \n",
       "5                      добавить страницу отзывов клиентов о магазине, что позволит увеличить количество заказов   \n",
       "6          показать на главной странице баннеры с актуальными акциями и распродажами, чтобы увеличить конверсию   \n",
       "7              добавить форму подписки на все основные страницы, чтобы собрать базу клиентов для email-рассылок   \n",
       "8                                                       запустить акцию, дающую скидку на товар в день рождения   \n",
       "\n",
       "   reach  impact  confidence  efforts  \n",
       "0      3      10           8        6  \n",
       "1      2       5           4       10  \n",
       "2      8       3           7        3  \n",
       "3      8       3           3        8  \n",
       "4      3       1           1        1  \n",
       "5      3       2           2        3  \n",
       "6      5       3           8        3  \n",
       "7     10       7           8        5  \n",
       "8      1       9           9        5  "
      ]
     },
     "execution_count": 9,
     "metadata": {},
     "output_type": "execute_result"
    }
   ],
   "source": [
    "pd.set_option('display.max_columns', None)\n",
    "pd.options.display.max_colwidth = 150 \n",
    "hypothesis"
   ]
  },
  {
   "cell_type": "markdown",
   "metadata": {},
   "source": [
    "**Вывод:**   \n",
    "    - дубликаты, пропуски, аномалии = отсутствуют;        \n",
    "    - регистр букв скорректирован по всей таблице."
   ]
  },
  {
   "cell_type": "markdown",
   "metadata": {},
   "source": [
    "## orders"
   ]
  },
  {
   "cell_type": "code",
   "execution_count": 10,
   "metadata": {},
   "outputs": [
    {
     "data": {
      "text/html": [
       "<div>\n",
       "<style scoped>\n",
       "    .dataframe tbody tr th:only-of-type {\n",
       "        vertical-align: middle;\n",
       "    }\n",
       "\n",
       "    .dataframe tbody tr th {\n",
       "        vertical-align: top;\n",
       "    }\n",
       "\n",
       "    .dataframe thead th {\n",
       "        text-align: right;\n",
       "    }\n",
       "</style>\n",
       "<table border=\"1\" class=\"dataframe\">\n",
       "  <thead>\n",
       "    <tr style=\"text-align: right;\">\n",
       "      <th></th>\n",
       "      <th>transactionId</th>\n",
       "      <th>visitorId</th>\n",
       "      <th>date</th>\n",
       "      <th>revenue</th>\n",
       "      <th>group</th>\n",
       "    </tr>\n",
       "  </thead>\n",
       "  <tbody>\n",
       "    <tr>\n",
       "      <td>0</td>\n",
       "      <td>3667963787</td>\n",
       "      <td>3312258926</td>\n",
       "      <td>2019-08-15</td>\n",
       "      <td>1650</td>\n",
       "      <td>B</td>\n",
       "    </tr>\n",
       "    <tr>\n",
       "      <td>1</td>\n",
       "      <td>2804400009</td>\n",
       "      <td>3642806036</td>\n",
       "      <td>2019-08-15</td>\n",
       "      <td>730</td>\n",
       "      <td>B</td>\n",
       "    </tr>\n",
       "    <tr>\n",
       "      <td>2</td>\n",
       "      <td>2961555356</td>\n",
       "      <td>4069496402</td>\n",
       "      <td>2019-08-15</td>\n",
       "      <td>400</td>\n",
       "      <td>A</td>\n",
       "    </tr>\n",
       "    <tr>\n",
       "      <td>3</td>\n",
       "      <td>3797467345</td>\n",
       "      <td>1196621759</td>\n",
       "      <td>2019-08-15</td>\n",
       "      <td>9759</td>\n",
       "      <td>B</td>\n",
       "    </tr>\n",
       "    <tr>\n",
       "      <td>4</td>\n",
       "      <td>2282983706</td>\n",
       "      <td>2322279887</td>\n",
       "      <td>2019-08-15</td>\n",
       "      <td>2308</td>\n",
       "      <td>B</td>\n",
       "    </tr>\n",
       "  </tbody>\n",
       "</table>\n",
       "</div>"
      ],
      "text/plain": [
       "   transactionId   visitorId        date  revenue group\n",
       "0     3667963787  3312258926  2019-08-15     1650     B\n",
       "1     2804400009  3642806036  2019-08-15      730     B\n",
       "2     2961555356  4069496402  2019-08-15      400     A\n",
       "3     3797467345  1196621759  2019-08-15     9759     B\n",
       "4     2282983706  2322279887  2019-08-15     2308     B"
      ]
     },
     "execution_count": 10,
     "metadata": {},
     "output_type": "execute_result"
    }
   ],
   "source": [
    "orders.head()"
   ]
  },
  {
   "cell_type": "code",
   "execution_count": 11,
   "metadata": {},
   "outputs": [
    {
     "name": "stdout",
     "output_type": "stream",
     "text": [
      "<class 'pandas.core.frame.DataFrame'>\n",
      "RangeIndex: 1197 entries, 0 to 1196\n",
      "Data columns (total 5 columns):\n",
      "transactionId    1197 non-null int64\n",
      "visitorId        1197 non-null int64\n",
      "date             1197 non-null object\n",
      "revenue          1197 non-null int64\n",
      "group            1197 non-null object\n",
      "dtypes: int64(3), object(2)\n",
      "memory usage: 46.9+ KB\n"
     ]
    }
   ],
   "source": [
    "orders.info()"
   ]
  },
  {
   "cell_type": "code",
   "execution_count": 12,
   "metadata": {},
   "outputs": [
    {
     "name": "stdout",
     "output_type": "stream",
     "text": [
      "Дубликаты: 0\n"
     ]
    }
   ],
   "source": [
    "# поиск дублей\n",
    "print('Дубликаты: {}'.format(orders.duplicated().sum()))"
   ]
  },
  {
   "cell_type": "code",
   "execution_count": 13,
   "metadata": {},
   "outputs": [
    {
     "name": "stdout",
     "output_type": "stream",
     "text": [
      "Пропуски: transactionId    0\n",
      "visitorId        0\n",
      "date             0\n",
      "revenue          0\n",
      "group            0\n",
      "dtype: int64\n"
     ]
    }
   ],
   "source": [
    "# поиск пропусков\n",
    "print(f'Пропуски:',orders.isna().sum())"
   ]
  },
  {
   "cell_type": "code",
   "execution_count": 14,
   "metadata": {},
   "outputs": [
    {
     "data": {
      "text/html": [
       "<div>\n",
       "<style scoped>\n",
       "    .dataframe tbody tr th:only-of-type {\n",
       "        vertical-align: middle;\n",
       "    }\n",
       "\n",
       "    .dataframe tbody tr th {\n",
       "        vertical-align: top;\n",
       "    }\n",
       "\n",
       "    .dataframe thead th {\n",
       "        text-align: right;\n",
       "    }\n",
       "</style>\n",
       "<table border=\"1\" class=\"dataframe\">\n",
       "  <thead>\n",
       "    <tr style=\"text-align: right;\">\n",
       "      <th></th>\n",
       "      <th>transactionId</th>\n",
       "      <th>visitorId</th>\n",
       "      <th>revenue</th>\n",
       "    </tr>\n",
       "  </thead>\n",
       "  <tbody>\n",
       "    <tr>\n",
       "      <td>count</td>\n",
       "      <td>1.197000e+03</td>\n",
       "      <td>1.197000e+03</td>\n",
       "      <td>1.197000e+03</td>\n",
       "    </tr>\n",
       "    <tr>\n",
       "      <td>mean</td>\n",
       "      <td>2.155621e+09</td>\n",
       "      <td>2.165960e+09</td>\n",
       "      <td>8.348006e+03</td>\n",
       "    </tr>\n",
       "    <tr>\n",
       "      <td>std</td>\n",
       "      <td>1.229085e+09</td>\n",
       "      <td>1.236014e+09</td>\n",
       "      <td>3.919113e+04</td>\n",
       "    </tr>\n",
       "    <tr>\n",
       "      <td>min</td>\n",
       "      <td>1.062393e+06</td>\n",
       "      <td>5.114589e+06</td>\n",
       "      <td>5.000000e+01</td>\n",
       "    </tr>\n",
       "    <tr>\n",
       "      <td>25%</td>\n",
       "      <td>1.166776e+09</td>\n",
       "      <td>1.111826e+09</td>\n",
       "      <td>1.220000e+03</td>\n",
       "    </tr>\n",
       "    <tr>\n",
       "      <td>50%</td>\n",
       "      <td>2.145194e+09</td>\n",
       "      <td>2.217985e+09</td>\n",
       "      <td>2.978000e+03</td>\n",
       "    </tr>\n",
       "    <tr>\n",
       "      <td>75%</td>\n",
       "      <td>3.237740e+09</td>\n",
       "      <td>3.177606e+09</td>\n",
       "      <td>8.290000e+03</td>\n",
       "    </tr>\n",
       "    <tr>\n",
       "      <td>max</td>\n",
       "      <td>4.293856e+09</td>\n",
       "      <td>4.283872e+09</td>\n",
       "      <td>1.294500e+06</td>\n",
       "    </tr>\n",
       "  </tbody>\n",
       "</table>\n",
       "</div>"
      ],
      "text/plain": [
       "       transactionId     visitorId       revenue\n",
       "count   1.197000e+03  1.197000e+03  1.197000e+03\n",
       "mean    2.155621e+09  2.165960e+09  8.348006e+03\n",
       "std     1.229085e+09  1.236014e+09  3.919113e+04\n",
       "min     1.062393e+06  5.114589e+06  5.000000e+01\n",
       "25%     1.166776e+09  1.111826e+09  1.220000e+03\n",
       "50%     2.145194e+09  2.217985e+09  2.978000e+03\n",
       "75%     3.237740e+09  3.177606e+09  8.290000e+03\n",
       "max     4.293856e+09  4.283872e+09  1.294500e+06"
      ]
     },
     "execution_count": 14,
     "metadata": {},
     "output_type": "execute_result"
    }
   ],
   "source": [
    "orders.describe()"
   ]
  },
  {
   "cell_type": "code",
   "execution_count": 15,
   "metadata": {},
   "outputs": [],
   "source": [
    "orders['date'] = orders['date'].map(\n",
    "    lambda x: dt.datetime.strptime(x, '%Y-%m-%d'))"
   ]
  },
  {
   "cell_type": "code",
   "execution_count": 16,
   "metadata": {},
   "outputs": [
    {
     "name": "stdout",
     "output_type": "stream",
     "text": [
      "Данные лежат в диапаоне дат от 2019-08-01 00:00:00 до 2019-08-31 00:00:00\n"
     ]
    }
   ],
   "source": [
    "print('Данные лежат в диапаоне дат от', orders['date'].min(), 'до',\n",
    "      orders['date'].max())"
   ]
  },
  {
   "cell_type": "code",
   "execution_count": 17,
   "metadata": {
    "scrolled": false
   },
   "outputs": [
    {
     "data": {
      "text/html": [
       "<div>\n",
       "<style scoped>\n",
       "    .dataframe tbody tr th:only-of-type {\n",
       "        vertical-align: middle;\n",
       "    }\n",
       "\n",
       "    .dataframe tbody tr th {\n",
       "        vertical-align: top;\n",
       "    }\n",
       "\n",
       "    .dataframe thead th {\n",
       "        text-align: right;\n",
       "    }\n",
       "</style>\n",
       "<table border=\"1\" class=\"dataframe\">\n",
       "  <thead>\n",
       "    <tr style=\"text-align: right;\">\n",
       "      <th></th>\n",
       "      <th>transactionId</th>\n",
       "      <th>visitorId</th>\n",
       "      <th>date</th>\n",
       "      <th>revenue</th>\n",
       "      <th>group</th>\n",
       "    </tr>\n",
       "  </thead>\n",
       "  <tbody>\n",
       "    <tr>\n",
       "      <td>41</td>\n",
       "      <td>2594268419</td>\n",
       "      <td>237748145</td>\n",
       "      <td>2019-08-15</td>\n",
       "      <td>1090</td>\n",
       "      <td>A</td>\n",
       "    </tr>\n",
       "    <tr>\n",
       "      <td>91</td>\n",
       "      <td>3176574859</td>\n",
       "      <td>2742574263</td>\n",
       "      <td>2019-08-22</td>\n",
       "      <td>17868</td>\n",
       "      <td>B</td>\n",
       "    </tr>\n",
       "    <tr>\n",
       "      <td>95</td>\n",
       "      <td>372616894</td>\n",
       "      <td>457167155</td>\n",
       "      <td>2019-08-22</td>\n",
       "      <td>987</td>\n",
       "      <td>B</td>\n",
       "    </tr>\n",
       "    <tr>\n",
       "      <td>98</td>\n",
       "      <td>1962247337</td>\n",
       "      <td>2706377257</td>\n",
       "      <td>2019-08-01</td>\n",
       "      <td>7129</td>\n",
       "      <td>A</td>\n",
       "    </tr>\n",
       "    <tr>\n",
       "      <td>112</td>\n",
       "      <td>1638982251</td>\n",
       "      <td>3062433592</td>\n",
       "      <td>2019-08-01</td>\n",
       "      <td>8470</td>\n",
       "      <td>B</td>\n",
       "    </tr>\n",
       "  </tbody>\n",
       "</table>\n",
       "</div>"
      ],
      "text/plain": [
       "     transactionId   visitorId       date  revenue group\n",
       "41      2594268419   237748145 2019-08-15     1090     A\n",
       "91      3176574859  2742574263 2019-08-22    17868     B\n",
       "95       372616894   457167155 2019-08-22      987     B\n",
       "98      1962247337  2706377257 2019-08-01     7129     A\n",
       "112     1638982251  3062433592 2019-08-01     8470     B"
      ]
     },
     "execution_count": 17,
     "metadata": {},
     "output_type": "execute_result"
    }
   ],
   "source": [
    "# проверяем, на попадание одного пользователя в несколько групп\n",
    "orders.loc[(orders['visitorId']).duplicated() == True].head()"
   ]
  },
  {
   "cell_type": "code",
   "execution_count": 18,
   "metadata": {},
   "outputs": [
    {
     "name": "stdout",
     "output_type": "stream",
     "text": [
      "Всего пользователй, которые вошли одновременно в сегмент \"A\" и \"B\" = 58\n",
      "Доля пользователей, которые вошли одновременно в сегмент \"A\" и \"B\" = 4.85%\n"
     ]
    }
   ],
   "source": [
    "list_one = orders.query(\"group =='A'\")['visitorId'].tolist()\n",
    "list_two = orders.query(\"group == 'B'\")['visitorId'].tolist()\n",
    "list_three = []\n",
    "for a in list_one:\n",
    "    for b in list_two:\n",
    "        if a == b:\n",
    "            list_three.append(b)\n",
    "# оставляем только уникальные.\n",
    "list_three = set(list_three)\n",
    "print('Всего пользователй, которые вошли одновременно в сегмент \"A\" и \"B\" =', len(list_three))\n",
    "print('Доля пользователей, которые вошли одновременно в сегмент \"A\" и \"B\" = {:.2%}'.format(len(list_three)/len(orders)))"
   ]
  },
  {
   "cell_type": "markdown",
   "metadata": {},
   "source": [
    "**Вывод:**    \n",
    "дублей и пустых значений нет. Есть аномалии в revenue.\n",
    "Потребовалось скорректиторовать формат даты.    \n",
    "Но есть пользователи, которые относятся к группе A и B. Всего скорее это штатные сотрудники, которые тестировали работоспособность перед запуском. Удалять их не будем, так как они могут повлиять на дальнейшие результаты проекта. Но в \"реальной жизни\" их лучше удалять.\n",
    "\n",
    "Всего таких пользователей: 58 шт.    \n",
    "Доля от общего кол-ва данных: 4.85%."
   ]
  },
  {
   "cell_type": "markdown",
   "metadata": {},
   "source": [
    "## visitors"
   ]
  },
  {
   "cell_type": "code",
   "execution_count": 19,
   "metadata": {},
   "outputs": [
    {
     "data": {
      "text/html": [
       "<div>\n",
       "<style scoped>\n",
       "    .dataframe tbody tr th:only-of-type {\n",
       "        vertical-align: middle;\n",
       "    }\n",
       "\n",
       "    .dataframe tbody tr th {\n",
       "        vertical-align: top;\n",
       "    }\n",
       "\n",
       "    .dataframe thead th {\n",
       "        text-align: right;\n",
       "    }\n",
       "</style>\n",
       "<table border=\"1\" class=\"dataframe\">\n",
       "  <thead>\n",
       "    <tr style=\"text-align: right;\">\n",
       "      <th></th>\n",
       "      <th>date</th>\n",
       "      <th>group</th>\n",
       "      <th>visitors</th>\n",
       "    </tr>\n",
       "  </thead>\n",
       "  <tbody>\n",
       "    <tr>\n",
       "      <td>0</td>\n",
       "      <td>2019-08-01</td>\n",
       "      <td>A</td>\n",
       "      <td>719</td>\n",
       "    </tr>\n",
       "    <tr>\n",
       "      <td>1</td>\n",
       "      <td>2019-08-02</td>\n",
       "      <td>A</td>\n",
       "      <td>619</td>\n",
       "    </tr>\n",
       "    <tr>\n",
       "      <td>2</td>\n",
       "      <td>2019-08-03</td>\n",
       "      <td>A</td>\n",
       "      <td>507</td>\n",
       "    </tr>\n",
       "    <tr>\n",
       "      <td>3</td>\n",
       "      <td>2019-08-04</td>\n",
       "      <td>A</td>\n",
       "      <td>717</td>\n",
       "    </tr>\n",
       "    <tr>\n",
       "      <td>4</td>\n",
       "      <td>2019-08-05</td>\n",
       "      <td>A</td>\n",
       "      <td>756</td>\n",
       "    </tr>\n",
       "  </tbody>\n",
       "</table>\n",
       "</div>"
      ],
      "text/plain": [
       "         date group  visitors\n",
       "0  2019-08-01     A       719\n",
       "1  2019-08-02     A       619\n",
       "2  2019-08-03     A       507\n",
       "3  2019-08-04     A       717\n",
       "4  2019-08-05     A       756"
      ]
     },
     "execution_count": 19,
     "metadata": {},
     "output_type": "execute_result"
    }
   ],
   "source": [
    "visitors.head()"
   ]
  },
  {
   "cell_type": "code",
   "execution_count": 20,
   "metadata": {},
   "outputs": [
    {
     "name": "stdout",
     "output_type": "stream",
     "text": [
      "<class 'pandas.core.frame.DataFrame'>\n",
      "RangeIndex: 62 entries, 0 to 61\n",
      "Data columns (total 3 columns):\n",
      "date        62 non-null object\n",
      "group       62 non-null object\n",
      "visitors    62 non-null int64\n",
      "dtypes: int64(1), object(2)\n",
      "memory usage: 1.6+ KB\n"
     ]
    }
   ],
   "source": [
    "visitors.info()"
   ]
  },
  {
   "cell_type": "code",
   "execution_count": 21,
   "metadata": {},
   "outputs": [
    {
     "name": "stdout",
     "output_type": "stream",
     "text": [
      "Пропуски: date        0\n",
      "group       0\n",
      "visitors    0\n",
      "dtype: int64\n"
     ]
    }
   ],
   "source": [
    "# поиск пропусков\n",
    "print(f'Пропуски:', visitors.isna().sum())"
   ]
  },
  {
   "cell_type": "code",
   "execution_count": 22,
   "metadata": {},
   "outputs": [
    {
     "name": "stdout",
     "output_type": "stream",
     "text": [
      "Дубликаты: 0\n"
     ]
    }
   ],
   "source": [
    "# поиск дублей\n",
    "print('Дубликаты: {}'.format(visitors.duplicated().sum()))"
   ]
  },
  {
   "cell_type": "code",
   "execution_count": 23,
   "metadata": {},
   "outputs": [
    {
     "data": {
      "text/html": [
       "<div>\n",
       "<style scoped>\n",
       "    .dataframe tbody tr th:only-of-type {\n",
       "        vertical-align: middle;\n",
       "    }\n",
       "\n",
       "    .dataframe tbody tr th {\n",
       "        vertical-align: top;\n",
       "    }\n",
       "\n",
       "    .dataframe thead th {\n",
       "        text-align: right;\n",
       "    }\n",
       "</style>\n",
       "<table border=\"1\" class=\"dataframe\">\n",
       "  <thead>\n",
       "    <tr style=\"text-align: right;\">\n",
       "      <th></th>\n",
       "      <th>visitors</th>\n",
       "    </tr>\n",
       "  </thead>\n",
       "  <tbody>\n",
       "    <tr>\n",
       "      <td>count</td>\n",
       "      <td>62.000000</td>\n",
       "    </tr>\n",
       "    <tr>\n",
       "      <td>mean</td>\n",
       "      <td>607.290323</td>\n",
       "    </tr>\n",
       "    <tr>\n",
       "      <td>std</td>\n",
       "      <td>114.400560</td>\n",
       "    </tr>\n",
       "    <tr>\n",
       "      <td>min</td>\n",
       "      <td>361.000000</td>\n",
       "    </tr>\n",
       "    <tr>\n",
       "      <td>25%</td>\n",
       "      <td>534.000000</td>\n",
       "    </tr>\n",
       "    <tr>\n",
       "      <td>50%</td>\n",
       "      <td>624.500000</td>\n",
       "    </tr>\n",
       "    <tr>\n",
       "      <td>75%</td>\n",
       "      <td>710.500000</td>\n",
       "    </tr>\n",
       "    <tr>\n",
       "      <td>max</td>\n",
       "      <td>770.000000</td>\n",
       "    </tr>\n",
       "  </tbody>\n",
       "</table>\n",
       "</div>"
      ],
      "text/plain": [
       "         visitors\n",
       "count   62.000000\n",
       "mean   607.290323\n",
       "std    114.400560\n",
       "min    361.000000\n",
       "25%    534.000000\n",
       "50%    624.500000\n",
       "75%    710.500000\n",
       "max    770.000000"
      ]
     },
     "execution_count": 23,
     "metadata": {},
     "output_type": "execute_result"
    }
   ],
   "source": [
    "visitors.describe()"
   ]
  },
  {
   "cell_type": "code",
   "execution_count": 24,
   "metadata": {},
   "outputs": [],
   "source": [
    "visitors['date'] = visitors['date'].map(\n",
    "    lambda x: dt.datetime.strptime(x, '%Y-%m-%d'))"
   ]
  },
  {
   "cell_type": "code",
   "execution_count": 25,
   "metadata": {},
   "outputs": [
    {
     "name": "stdout",
     "output_type": "stream",
     "text": [
      "Данные лежат в диапаоне дат от 2019-08-01 00:00:00 до 2019-08-31 00:00:00\n"
     ]
    }
   ],
   "source": [
    "print('Данные лежат в диапаоне дат от', visitors['date'].min(), 'до',\n",
    "      visitors['date'].max())"
   ]
  },
  {
   "cell_type": "markdown",
   "metadata": {},
   "source": [
    "**Вывод:**   \n",
    "аномалий, дублей и пустых значений нет. Потребовалось скорректиторовать формат даты.    \n",
    "Диапазон дат заказов и визитов совпадает.\n"
   ]
  },
  {
   "cell_type": "markdown",
   "metadata": {},
   "source": [
    "# Приоритизация гипотез\n",
    "## ICE"
   ]
  },
  {
   "cell_type": "markdown",
   "metadata": {},
   "source": [
    "Рассчитать ICE, отсортировать по убыванию приоритета.    \n",
    "Формула: ICE = (impact * confidence) / efforts"
   ]
  },
  {
   "cell_type": "code",
   "execution_count": 26,
   "metadata": {},
   "outputs": [
    {
     "data": {
      "text/html": [
       "<div>\n",
       "<style scoped>\n",
       "    .dataframe tbody tr th:only-of-type {\n",
       "        vertical-align: middle;\n",
       "    }\n",
       "\n",
       "    .dataframe tbody tr th {\n",
       "        vertical-align: top;\n",
       "    }\n",
       "\n",
       "    .dataframe thead th {\n",
       "        text-align: right;\n",
       "    }\n",
       "</style>\n",
       "<table border=\"1\" class=\"dataframe\">\n",
       "  <thead>\n",
       "    <tr style=\"text-align: right;\">\n",
       "      <th></th>\n",
       "      <th>hypothesis</th>\n",
       "      <th>reach</th>\n",
       "      <th>impact</th>\n",
       "      <th>confidence</th>\n",
       "      <th>efforts</th>\n",
       "    </tr>\n",
       "  </thead>\n",
       "  <tbody>\n",
       "    <tr>\n",
       "      <td>0</td>\n",
       "      <td>добавить два новых канала привлечения трафика, что позволит привлекать на 30% больше пользователей</td>\n",
       "      <td>3</td>\n",
       "      <td>10</td>\n",
       "      <td>8</td>\n",
       "      <td>6</td>\n",
       "    </tr>\n",
       "    <tr>\n",
       "      <td>1</td>\n",
       "      <td>запустить собственную службу доставки, что сократит срок доставки заказов</td>\n",
       "      <td>2</td>\n",
       "      <td>5</td>\n",
       "      <td>4</td>\n",
       "      <td>10</td>\n",
       "    </tr>\n",
       "    <tr>\n",
       "      <td>2</td>\n",
       "      <td>добавить блоки рекомендаций товаров на сайт интернет магазина, чтобы повысить конверсию и средний чек заказа</td>\n",
       "      <td>8</td>\n",
       "      <td>3</td>\n",
       "      <td>7</td>\n",
       "      <td>3</td>\n",
       "    </tr>\n",
       "    <tr>\n",
       "      <td>3</td>\n",
       "      <td>изменить структура категорий, что увеличит конверсию, т.к. пользователи быстрее найдут нужный товар</td>\n",
       "      <td>8</td>\n",
       "      <td>3</td>\n",
       "      <td>3</td>\n",
       "      <td>8</td>\n",
       "    </tr>\n",
       "    <tr>\n",
       "      <td>4</td>\n",
       "      <td>изменить цвет фона главной страницы, чтобы увеличить вовлеченность пользователей</td>\n",
       "      <td>3</td>\n",
       "      <td>1</td>\n",
       "      <td>1</td>\n",
       "      <td>1</td>\n",
       "    </tr>\n",
       "    <tr>\n",
       "      <td>5</td>\n",
       "      <td>добавить страницу отзывов клиентов о магазине, что позволит увеличить количество заказов</td>\n",
       "      <td>3</td>\n",
       "      <td>2</td>\n",
       "      <td>2</td>\n",
       "      <td>3</td>\n",
       "    </tr>\n",
       "    <tr>\n",
       "      <td>6</td>\n",
       "      <td>показать на главной странице баннеры с актуальными акциями и распродажами, чтобы увеличить конверсию</td>\n",
       "      <td>5</td>\n",
       "      <td>3</td>\n",
       "      <td>8</td>\n",
       "      <td>3</td>\n",
       "    </tr>\n",
       "    <tr>\n",
       "      <td>7</td>\n",
       "      <td>добавить форму подписки на все основные страницы, чтобы собрать базу клиентов для email-рассылок</td>\n",
       "      <td>10</td>\n",
       "      <td>7</td>\n",
       "      <td>8</td>\n",
       "      <td>5</td>\n",
       "    </tr>\n",
       "    <tr>\n",
       "      <td>8</td>\n",
       "      <td>запустить акцию, дающую скидку на товар в день рождения</td>\n",
       "      <td>1</td>\n",
       "      <td>9</td>\n",
       "      <td>9</td>\n",
       "      <td>5</td>\n",
       "    </tr>\n",
       "  </tbody>\n",
       "</table>\n",
       "</div>"
      ],
      "text/plain": [
       "                                                                                                     hypothesis  \\\n",
       "0            добавить два новых канала привлечения трафика, что позволит привлекать на 30% больше пользователей   \n",
       "1                                     запустить собственную службу доставки, что сократит срок доставки заказов   \n",
       "2  добавить блоки рекомендаций товаров на сайт интернет магазина, чтобы повысить конверсию и средний чек заказа   \n",
       "3           изменить структура категорий, что увеличит конверсию, т.к. пользователи быстрее найдут нужный товар   \n",
       "4                              изменить цвет фона главной страницы, чтобы увеличить вовлеченность пользователей   \n",
       "5                      добавить страницу отзывов клиентов о магазине, что позволит увеличить количество заказов   \n",
       "6          показать на главной странице баннеры с актуальными акциями и распродажами, чтобы увеличить конверсию   \n",
       "7              добавить форму подписки на все основные страницы, чтобы собрать базу клиентов для email-рассылок   \n",
       "8                                                       запустить акцию, дающую скидку на товар в день рождения   \n",
       "\n",
       "   reach  impact  confidence  efforts  \n",
       "0      3      10           8        6  \n",
       "1      2       5           4       10  \n",
       "2      8       3           7        3  \n",
       "3      8       3           3        8  \n",
       "4      3       1           1        1  \n",
       "5      3       2           2        3  \n",
       "6      5       3           8        3  \n",
       "7     10       7           8        5  \n",
       "8      1       9           9        5  "
      ]
     },
     "execution_count": 26,
     "metadata": {},
     "output_type": "execute_result"
    }
   ],
   "source": [
    "hypothesis"
   ]
  },
  {
   "cell_type": "code",
   "execution_count": 27,
   "metadata": {},
   "outputs": [
    {
     "data": {
      "text/html": [
       "<div>\n",
       "<style scoped>\n",
       "    .dataframe tbody tr th:only-of-type {\n",
       "        vertical-align: middle;\n",
       "    }\n",
       "\n",
       "    .dataframe tbody tr th {\n",
       "        vertical-align: top;\n",
       "    }\n",
       "\n",
       "    .dataframe thead th {\n",
       "        text-align: right;\n",
       "    }\n",
       "</style>\n",
       "<table border=\"1\" class=\"dataframe\">\n",
       "  <thead>\n",
       "    <tr style=\"text-align: right;\">\n",
       "      <th></th>\n",
       "      <th>hypothesis</th>\n",
       "      <th>reach</th>\n",
       "      <th>impact</th>\n",
       "      <th>confidence</th>\n",
       "      <th>efforts</th>\n",
       "      <th>ice</th>\n",
       "    </tr>\n",
       "  </thead>\n",
       "  <tbody>\n",
       "    <tr>\n",
       "      <td>8</td>\n",
       "      <td>запустить акцию, дающую скидку на товар в день рождения</td>\n",
       "      <td>1</td>\n",
       "      <td>9</td>\n",
       "      <td>9</td>\n",
       "      <td>5</td>\n",
       "      <td>16.2</td>\n",
       "    </tr>\n",
       "    <tr>\n",
       "      <td>0</td>\n",
       "      <td>добавить два новых канала привлечения трафика, что позволит привлекать на 30% больше пользователей</td>\n",
       "      <td>3</td>\n",
       "      <td>10</td>\n",
       "      <td>8</td>\n",
       "      <td>6</td>\n",
       "      <td>13.3</td>\n",
       "    </tr>\n",
       "    <tr>\n",
       "      <td>7</td>\n",
       "      <td>добавить форму подписки на все основные страницы, чтобы собрать базу клиентов для email-рассылок</td>\n",
       "      <td>10</td>\n",
       "      <td>7</td>\n",
       "      <td>8</td>\n",
       "      <td>5</td>\n",
       "      <td>11.2</td>\n",
       "    </tr>\n",
       "    <tr>\n",
       "      <td>6</td>\n",
       "      <td>показать на главной странице баннеры с актуальными акциями и распродажами, чтобы увеличить конверсию</td>\n",
       "      <td>5</td>\n",
       "      <td>3</td>\n",
       "      <td>8</td>\n",
       "      <td>3</td>\n",
       "      <td>8.0</td>\n",
       "    </tr>\n",
       "    <tr>\n",
       "      <td>2</td>\n",
       "      <td>добавить блоки рекомендаций товаров на сайт интернет магазина, чтобы повысить конверсию и средний чек заказа</td>\n",
       "      <td>8</td>\n",
       "      <td>3</td>\n",
       "      <td>7</td>\n",
       "      <td>3</td>\n",
       "      <td>7.0</td>\n",
       "    </tr>\n",
       "    <tr>\n",
       "      <td>1</td>\n",
       "      <td>запустить собственную службу доставки, что сократит срок доставки заказов</td>\n",
       "      <td>2</td>\n",
       "      <td>5</td>\n",
       "      <td>4</td>\n",
       "      <td>10</td>\n",
       "      <td>2.0</td>\n",
       "    </tr>\n",
       "    <tr>\n",
       "      <td>5</td>\n",
       "      <td>добавить страницу отзывов клиентов о магазине, что позволит увеличить количество заказов</td>\n",
       "      <td>3</td>\n",
       "      <td>2</td>\n",
       "      <td>2</td>\n",
       "      <td>3</td>\n",
       "      <td>1.3</td>\n",
       "    </tr>\n",
       "    <tr>\n",
       "      <td>3</td>\n",
       "      <td>изменить структура категорий, что увеличит конверсию, т.к. пользователи быстрее найдут нужный товар</td>\n",
       "      <td>8</td>\n",
       "      <td>3</td>\n",
       "      <td>3</td>\n",
       "      <td>8</td>\n",
       "      <td>1.1</td>\n",
       "    </tr>\n",
       "    <tr>\n",
       "      <td>4</td>\n",
       "      <td>изменить цвет фона главной страницы, чтобы увеличить вовлеченность пользователей</td>\n",
       "      <td>3</td>\n",
       "      <td>1</td>\n",
       "      <td>1</td>\n",
       "      <td>1</td>\n",
       "      <td>1.0</td>\n",
       "    </tr>\n",
       "  </tbody>\n",
       "</table>\n",
       "</div>"
      ],
      "text/plain": [
       "                                                                                                     hypothesis  \\\n",
       "8                                                       запустить акцию, дающую скидку на товар в день рождения   \n",
       "0            добавить два новых канала привлечения трафика, что позволит привлекать на 30% больше пользователей   \n",
       "7              добавить форму подписки на все основные страницы, чтобы собрать базу клиентов для email-рассылок   \n",
       "6          показать на главной странице баннеры с актуальными акциями и распродажами, чтобы увеличить конверсию   \n",
       "2  добавить блоки рекомендаций товаров на сайт интернет магазина, чтобы повысить конверсию и средний чек заказа   \n",
       "1                                     запустить собственную службу доставки, что сократит срок доставки заказов   \n",
       "5                      добавить страницу отзывов клиентов о магазине, что позволит увеличить количество заказов   \n",
       "3           изменить структура категорий, что увеличит конверсию, т.к. пользователи быстрее найдут нужный товар   \n",
       "4                              изменить цвет фона главной страницы, чтобы увеличить вовлеченность пользователей   \n",
       "\n",
       "   reach  impact  confidence  efforts   ice  \n",
       "8      1       9           9        5  16.2  \n",
       "0      3      10           8        6  13.3  \n",
       "7     10       7           8        5  11.2  \n",
       "6      5       3           8        3   8.0  \n",
       "2      8       3           7        3   7.0  \n",
       "1      2       5           4       10   2.0  \n",
       "5      3       2           2        3   1.3  \n",
       "3      8       3           3        8   1.1  \n",
       "4      3       1           1        1   1.0  "
      ]
     },
     "execution_count": 27,
     "metadata": {},
     "output_type": "execute_result"
    }
   ],
   "source": [
    "hypothesis['ice'] = ((hypothesis['impact'] * hypothesis['confidence']) /\n",
    "                     hypothesis['efforts']).round(1)\n",
    "hypothesis.sort_values(by='ice', ascending=False)"
   ]
  },
  {
   "cell_type": "markdown",
   "metadata": {},
   "source": [
    "## RICE\n",
    "Рассчитать RICE, отсортировать по убыванию приоритета.    \n",
    "Формула: ICE = (reach * impact *confidence) / efforts"
   ]
  },
  {
   "cell_type": "code",
   "execution_count": 28,
   "metadata": {},
   "outputs": [
    {
     "data": {
      "text/html": [
       "<div>\n",
       "<style scoped>\n",
       "    .dataframe tbody tr th:only-of-type {\n",
       "        vertical-align: middle;\n",
       "    }\n",
       "\n",
       "    .dataframe tbody tr th {\n",
       "        vertical-align: top;\n",
       "    }\n",
       "\n",
       "    .dataframe thead th {\n",
       "        text-align: right;\n",
       "    }\n",
       "</style>\n",
       "<table border=\"1\" class=\"dataframe\">\n",
       "  <thead>\n",
       "    <tr style=\"text-align: right;\">\n",
       "      <th></th>\n",
       "      <th>hypothesis</th>\n",
       "      <th>ice</th>\n",
       "      <th>rice</th>\n",
       "    </tr>\n",
       "  </thead>\n",
       "  <tbody>\n",
       "    <tr>\n",
       "      <td>7</td>\n",
       "      <td>добавить форму подписки на все основные страницы, чтобы собрать базу клиентов для email-рассылок</td>\n",
       "      <td>11.2</td>\n",
       "      <td>112.0</td>\n",
       "    </tr>\n",
       "    <tr>\n",
       "      <td>2</td>\n",
       "      <td>добавить блоки рекомендаций товаров на сайт интернет магазина, чтобы повысить конверсию и средний чек заказа</td>\n",
       "      <td>7.0</td>\n",
       "      <td>56.0</td>\n",
       "    </tr>\n",
       "    <tr>\n",
       "      <td>0</td>\n",
       "      <td>добавить два новых канала привлечения трафика, что позволит привлекать на 30% больше пользователей</td>\n",
       "      <td>13.3</td>\n",
       "      <td>40.0</td>\n",
       "    </tr>\n",
       "    <tr>\n",
       "      <td>6</td>\n",
       "      <td>показать на главной странице баннеры с актуальными акциями и распродажами, чтобы увеличить конверсию</td>\n",
       "      <td>8.0</td>\n",
       "      <td>40.0</td>\n",
       "    </tr>\n",
       "    <tr>\n",
       "      <td>8</td>\n",
       "      <td>запустить акцию, дающую скидку на товар в день рождения</td>\n",
       "      <td>16.2</td>\n",
       "      <td>16.2</td>\n",
       "    </tr>\n",
       "    <tr>\n",
       "      <td>3</td>\n",
       "      <td>изменить структура категорий, что увеличит конверсию, т.к. пользователи быстрее найдут нужный товар</td>\n",
       "      <td>1.1</td>\n",
       "      <td>9.0</td>\n",
       "    </tr>\n",
       "    <tr>\n",
       "      <td>1</td>\n",
       "      <td>запустить собственную службу доставки, что сократит срок доставки заказов</td>\n",
       "      <td>2.0</td>\n",
       "      <td>4.0</td>\n",
       "    </tr>\n",
       "    <tr>\n",
       "      <td>5</td>\n",
       "      <td>добавить страницу отзывов клиентов о магазине, что позволит увеличить количество заказов</td>\n",
       "      <td>1.3</td>\n",
       "      <td>4.0</td>\n",
       "    </tr>\n",
       "    <tr>\n",
       "      <td>4</td>\n",
       "      <td>изменить цвет фона главной страницы, чтобы увеличить вовлеченность пользователей</td>\n",
       "      <td>1.0</td>\n",
       "      <td>3.0</td>\n",
       "    </tr>\n",
       "  </tbody>\n",
       "</table>\n",
       "</div>"
      ],
      "text/plain": [
       "                                                                                                     hypothesis  \\\n",
       "7              добавить форму подписки на все основные страницы, чтобы собрать базу клиентов для email-рассылок   \n",
       "2  добавить блоки рекомендаций товаров на сайт интернет магазина, чтобы повысить конверсию и средний чек заказа   \n",
       "0            добавить два новых канала привлечения трафика, что позволит привлекать на 30% больше пользователей   \n",
       "6          показать на главной странице баннеры с актуальными акциями и распродажами, чтобы увеличить конверсию   \n",
       "8                                                       запустить акцию, дающую скидку на товар в день рождения   \n",
       "3           изменить структура категорий, что увеличит конверсию, т.к. пользователи быстрее найдут нужный товар   \n",
       "1                                     запустить собственную службу доставки, что сократит срок доставки заказов   \n",
       "5                      добавить страницу отзывов клиентов о магазине, что позволит увеличить количество заказов   \n",
       "4                              изменить цвет фона главной страницы, чтобы увеличить вовлеченность пользователей   \n",
       "\n",
       "    ice   rice  \n",
       "7  11.2  112.0  \n",
       "2   7.0   56.0  \n",
       "0  13.3   40.0  \n",
       "6   8.0   40.0  \n",
       "8  16.2   16.2  \n",
       "3   1.1    9.0  \n",
       "1   2.0    4.0  \n",
       "5   1.3    4.0  \n",
       "4   1.0    3.0  "
      ]
     },
     "execution_count": 28,
     "metadata": {},
     "output_type": "execute_result"
    }
   ],
   "source": [
    "hypothesis['rice'] = (\n",
    "    (hypothesis['reach'] * hypothesis['impact'] * hypothesis['confidence']) /\n",
    "    hypothesis['efforts']).round(1)\n",
    "hypothesis[['hypothesis', 'ice', 'rice']].sort_values(by='rice',\n",
    "                                                      ascending=False)"
   ]
  },
  {
   "cell_type": "markdown",
   "metadata": {},
   "source": [
    "## Разница приоритетов\n",
    "\n",
    "При помощи heatmap отобразим разницу приоритетов, в зависимости от выбранного метода оценивания гипотез"
   ]
  },
  {
   "cell_type": "code",
   "execution_count": 29,
   "metadata": {},
   "outputs": [
    {
     "data": {
      "image/png": "[encoded data removed]",
      "text/plain": [
       "<Figure size 720x504 with 2 Axes>"
      ]
     },
     "metadata": {
      "needs_background": "light"
     },
     "output_type": "display_data"
    },
    {
     "data": {
      "image/png": "[encoded data removed]",
      "text/plain": [
       "<Figure size 720x504 with 2 Axes>"
      ]
     },
     "metadata": {
      "needs_background": "light"
     },
     "output_type": "display_data"
    }
   ],
   "source": [
    "plt.figure(figsize=(10, 7))\n",
    "ax = sns.heatmap(hypothesis[['reach', 'impact', 'confidence', 'efforts']],\n",
    "                 fmt='.1f',\n",
    "                 linecolor='white',\n",
    "                 cmap=\"Blues\",\n",
    "                 annot=True,\n",
    "                 linewidths=0.1,\n",
    "                 vmax=10)\n",
    "plt.title('Оценка гипотез', size=14)\n",
    "ax.set_ylabel('№ гипотезы', size=12)\n",
    "ax.set_xlabel('Оценки', size=12)\n",
    "plt.yticks(rotation=0)\n",
    "\n",
    "plt.show()\n",
    "plt.figure(figsize=(10, 7))\n",
    "ax = sns.heatmap(hypothesis[['ice', 'rice']],\n",
    "                 fmt='.1f',\n",
    "                 linecolor='white',\n",
    "                 cmap=\"Blues\",\n",
    "                 annot=True,\n",
    "                 linewidths=0.1,\n",
    "                 vmax=10)\n",
    "plt.title('Оценка приоритетов по ICE и RICE', size=14)\n",
    "ax.set_ylabel('№ гипотезы', size=12)\n",
    "ax.set_xlabel('Метот оценки', size=12)\n",
    "plt.yticks(rotation=0)\n",
    "plt.show()"
   ]
  },
  {
   "cell_type": "code",
   "execution_count": 30,
   "metadata": {},
   "outputs": [
    {
     "data": {
      "text/html": [
       "<div>\n",
       "<style scoped>\n",
       "    .dataframe tbody tr th:only-of-type {\n",
       "        vertical-align: middle;\n",
       "    }\n",
       "\n",
       "    .dataframe tbody tr th {\n",
       "        vertical-align: top;\n",
       "    }\n",
       "\n",
       "    .dataframe thead th {\n",
       "        text-align: right;\n",
       "    }\n",
       "</style>\n",
       "<table border=\"1\" class=\"dataframe\">\n",
       "  <thead>\n",
       "    <tr style=\"text-align: right;\">\n",
       "      <th></th>\n",
       "      <th>hypothesis</th>\n",
       "      <th>reach</th>\n",
       "      <th>impact</th>\n",
       "      <th>confidence</th>\n",
       "      <th>efforts</th>\n",
       "      <th>ice</th>\n",
       "      <th>rice</th>\n",
       "    </tr>\n",
       "  </thead>\n",
       "  <tbody>\n",
       "    <tr>\n",
       "      <td>0</td>\n",
       "      <td>добавить два новых канала привлечения трафика, что позволит привлекать на 30% больше пользователей</td>\n",
       "      <td>3</td>\n",
       "      <td>10</td>\n",
       "      <td>8</td>\n",
       "      <td>6</td>\n",
       "      <td>13.3</td>\n",
       "      <td>40.0</td>\n",
       "    </tr>\n",
       "    <tr>\n",
       "      <td>1</td>\n",
       "      <td>запустить собственную службу доставки, что сократит срок доставки заказов</td>\n",
       "      <td>2</td>\n",
       "      <td>5</td>\n",
       "      <td>4</td>\n",
       "      <td>10</td>\n",
       "      <td>2.0</td>\n",
       "      <td>4.0</td>\n",
       "    </tr>\n",
       "    <tr>\n",
       "      <td>2</td>\n",
       "      <td>добавить блоки рекомендаций товаров на сайт интернет магазина, чтобы повысить конверсию и средний чек заказа</td>\n",
       "      <td>8</td>\n",
       "      <td>3</td>\n",
       "      <td>7</td>\n",
       "      <td>3</td>\n",
       "      <td>7.0</td>\n",
       "      <td>56.0</td>\n",
       "    </tr>\n",
       "    <tr>\n",
       "      <td>3</td>\n",
       "      <td>изменить структура категорий, что увеличит конверсию, т.к. пользователи быстрее найдут нужный товар</td>\n",
       "      <td>8</td>\n",
       "      <td>3</td>\n",
       "      <td>3</td>\n",
       "      <td>8</td>\n",
       "      <td>1.1</td>\n",
       "      <td>9.0</td>\n",
       "    </tr>\n",
       "    <tr>\n",
       "      <td>4</td>\n",
       "      <td>изменить цвет фона главной страницы, чтобы увеличить вовлеченность пользователей</td>\n",
       "      <td>3</td>\n",
       "      <td>1</td>\n",
       "      <td>1</td>\n",
       "      <td>1</td>\n",
       "      <td>1.0</td>\n",
       "      <td>3.0</td>\n",
       "    </tr>\n",
       "    <tr>\n",
       "      <td>5</td>\n",
       "      <td>добавить страницу отзывов клиентов о магазине, что позволит увеличить количество заказов</td>\n",
       "      <td>3</td>\n",
       "      <td>2</td>\n",
       "      <td>2</td>\n",
       "      <td>3</td>\n",
       "      <td>1.3</td>\n",
       "      <td>4.0</td>\n",
       "    </tr>\n",
       "    <tr>\n",
       "      <td>6</td>\n",
       "      <td>показать на главной странице баннеры с актуальными акциями и распродажами, чтобы увеличить конверсию</td>\n",
       "      <td>5</td>\n",
       "      <td>3</td>\n",
       "      <td>8</td>\n",
       "      <td>3</td>\n",
       "      <td>8.0</td>\n",
       "      <td>40.0</td>\n",
       "    </tr>\n",
       "    <tr>\n",
       "      <td>7</td>\n",
       "      <td>добавить форму подписки на все основные страницы, чтобы собрать базу клиентов для email-рассылок</td>\n",
       "      <td>10</td>\n",
       "      <td>7</td>\n",
       "      <td>8</td>\n",
       "      <td>5</td>\n",
       "      <td>11.2</td>\n",
       "      <td>112.0</td>\n",
       "    </tr>\n",
       "    <tr>\n",
       "      <td>8</td>\n",
       "      <td>запустить акцию, дающую скидку на товар в день рождения</td>\n",
       "      <td>1</td>\n",
       "      <td>9</td>\n",
       "      <td>9</td>\n",
       "      <td>5</td>\n",
       "      <td>16.2</td>\n",
       "      <td>16.2</td>\n",
       "    </tr>\n",
       "  </tbody>\n",
       "</table>\n",
       "</div>"
      ],
      "text/plain": [
       "                                                                                                     hypothesis  \\\n",
       "0            добавить два новых канала привлечения трафика, что позволит привлекать на 30% больше пользователей   \n",
       "1                                     запустить собственную службу доставки, что сократит срок доставки заказов   \n",
       "2  добавить блоки рекомендаций товаров на сайт интернет магазина, чтобы повысить конверсию и средний чек заказа   \n",
       "3           изменить структура категорий, что увеличит конверсию, т.к. пользователи быстрее найдут нужный товар   \n",
       "4                              изменить цвет фона главной страницы, чтобы увеличить вовлеченность пользователей   \n",
       "5                      добавить страницу отзывов клиентов о магазине, что позволит увеличить количество заказов   \n",
       "6          показать на главной странице баннеры с актуальными акциями и распродажами, чтобы увеличить конверсию   \n",
       "7              добавить форму подписки на все основные страницы, чтобы собрать базу клиентов для email-рассылок   \n",
       "8                                                       запустить акцию, дающую скидку на товар в день рождения   \n",
       "\n",
       "   reach  impact  confidence  efforts   ice   rice  \n",
       "0      3      10           8        6  13.3   40.0  \n",
       "1      2       5           4       10   2.0    4.0  \n",
       "2      8       3           7        3   7.0   56.0  \n",
       "3      8       3           3        8   1.1    9.0  \n",
       "4      3       1           1        1   1.0    3.0  \n",
       "5      3       2           2        3   1.3    4.0  \n",
       "6      5       3           8        3   8.0   40.0  \n",
       "7     10       7           8        5  11.2  112.0  \n",
       "8      1       9           9        5  16.2   16.2  "
      ]
     },
     "execution_count": 30,
     "metadata": {},
     "output_type": "execute_result"
    }
   ],
   "source": [
    " hypothesis"
   ]
  },
  {
   "cell_type": "markdown",
   "metadata": {},
   "source": [
    "**Вывод:**\n",
    "\n",
    "По методу ICE наиболее перспективные гипотезы:\n",
    " - запустить акцию, дающую скидку на товар в день рождения\n",
    " - добавить два новых канала привлечения трафика, что позволит привлекать на 30% больше пользователей;     \n",
    " - добавить форму подписки на все основные страницы, чтобы собрать базу клиентов для email-рассылок.     \n",
    " \n",
    " \n",
    "Но если использовать метот RICE, который учитывает охват пользователей (Reach), приоритетными становятся:\n",
    " - добавить форму подписки на все основные страницы, чтобы собрать базу клиентов для email-рассылок;\t         \n",
    " - добавить блоки рекомендаций товаров на сайт интернет магазина, чтобы повысить конверсию и средний чек заказа;     \t  \n",
    " - добавить два новых канала привлечения трафика, что позволит привлекать на 30% больше пользователей;     \n",
    " - показать на главной странице баннеры с актуальными акциями и распродажами, чтобы увеличить конверсию.\n",
    " \n",
    "Всё-таки охват пользователей оказывает сильное влияение. В нашем случае у гипотезы <i>`добавить форму подписки на все основные страницы, чтобы собрать базу клиентов для email-рассылок`</i> охват = 10, а у гипотезы <i>`добавить блоки рекомендаций товаров на сайт интернет магазина, чтобы повысить конверсию и средний чек заказа`</i>  и <i>`изменить структуру категорий, что увеличит конверсию, т.к. пользователи быстрее найдут нужный товар`</i>  = 8. Гипотеза <i>`изменить структуру категорий, что увеличит конверсию, т.к. пользователи быстрее найдут нужный товар`</i> не попала в данную выборку, так как она дороже (efforts) 2.6 раза, чем <i>`добавить блоки рекомендаций товаров на сайт интернет магазина, чтобы повысить конверсию и средний чек заказа`</i>.    \n",
    "Гипотеза <i>`добавить два новых канала привлечения трафика, что позволит привлекать на 30% больше пользователей`</i> - оказывает высокое влияние на пользователей, а гипотеза <i>`показать на главной странице баннеры с актуальными акциями и распродажами, чтобы увеличить конверсию`\t</i> имеет оценку уверенности (confidence) = 8, при том она не является дорогой.    \n",
    "\n",
    "Для теста советую выбрать следующие гипотезы:    \n",
    " - <i>`добавить форму подписки на все основные страницы, чтобы собрать базу клиентов для email-рассылок`;</i>      \n",
    " - <i>`добавить блоки рекомендаций товаров на сайт интернет магазина, чтобы повысить конверсию и средний чек заказа`;</i>     \n",
    " - <i>`добавить два новых канала привлечения трафика, что позволит привлекать на 30% больше пользователей`</i>.       \n",
    " \n",
    "Так как по оценкам <i>`добавить форму подписки на все основные страницы, чтобы собрать базу клиентов для email-рассылок`</i> и <i>`добавить блоки рекомендаций товаров на сайт интернет магазина, чтобы повысить конверсию и средний чек заказа`</i> имеют высокий охват, а значит мы без проблем найдём нужное количесво трафика. А гипотеза <i>`добавить два новых канала привлечения трафика, что позволит привлекать на 30% больше пользователей`</i> дополнит данное тестирование, ведь при успешном тестировании мы получим +30% трафика. Но если у нас проблема с остатками, то стоит выбрать гипотезу <i>`показать на главной странице баннеры с актуальными акциями и распродажами, чтобы увеличить конверсию`</i>."
   ]
  },
  {
   "cell_type": "markdown",
   "metadata": {},
   "source": [
    "# Анализ A/B-теста\n",
    "## График кумулятивной выручки по группам"
   ]
  },
  {
   "cell_type": "markdown",
   "metadata": {},
   "source": [
    "Создадим df `datesGroups` с уникальными парами значений 'date' и 'group', таблицы orders. \n",
    "Избавимся от дубликатов."
   ]
  },
  {
   "cell_type": "code",
   "execution_count": 31,
   "metadata": {},
   "outputs": [
    {
     "data": {
      "text/html": [
       "<div>\n",
       "<style scoped>\n",
       "    .dataframe tbody tr th:only-of-type {\n",
       "        vertical-align: middle;\n",
       "    }\n",
       "\n",
       "    .dataframe tbody tr th {\n",
       "        vertical-align: top;\n",
       "    }\n",
       "\n",
       "    .dataframe thead th {\n",
       "        text-align: right;\n",
       "    }\n",
       "</style>\n",
       "<table border=\"1\" class=\"dataframe\">\n",
       "  <thead>\n",
       "    <tr style=\"text-align: right;\">\n",
       "      <th></th>\n",
       "      <th>date</th>\n",
       "      <th>group</th>\n",
       "    </tr>\n",
       "  </thead>\n",
       "  <tbody>\n",
       "    <tr>\n",
       "      <td>0</td>\n",
       "      <td>2019-08-15</td>\n",
       "      <td>B</td>\n",
       "    </tr>\n",
       "    <tr>\n",
       "      <td>2</td>\n",
       "      <td>2019-08-15</td>\n",
       "      <td>A</td>\n",
       "    </tr>\n",
       "  </tbody>\n",
       "</table>\n",
       "</div>"
      ],
      "text/plain": [
       "        date group\n",
       "0 2019-08-15     B\n",
       "2 2019-08-15     A"
      ]
     },
     "execution_count": 31,
     "metadata": {},
     "output_type": "execute_result"
    }
   ],
   "source": [
    "datesGroups = orders[['date', 'group']].drop_duplicates()\n",
    "datesGroups.head(2)"
   ]
  },
  {
   "cell_type": "markdown",
   "metadata": {},
   "source": [
    "Объявляем переменную `ordersAggregated`, содержащую:\n",
    " - дату;\n",
    " - группу A/B-теста;\n",
    " - число уникальных заказов в группе теста по указанную дату включительно;\n",
    " - число уникальных пользователей, совершивших хотя бы 1 заказ в группе теста по указанную дату включительно;\n",
    " - суммарную выручку заказов в группе теста по указанную дату включительно."
   ]
  },
  {
   "cell_type": "code",
   "execution_count": 32,
   "metadata": {},
   "outputs": [],
   "source": [
    "ordersAggregated = datesGroups.apply(\n",
    "    lambda x: orders[np.logical_and(orders[\"date\"] <= x[\"date\"], orders[\n",
    "        \"group\"] == x[\"group\"])].agg({\n",
    "            \"date\": \"max\",\n",
    "            \"group\": \"max\",\n",
    "            \"transactionId\": pd.Series.nunique,\n",
    "            \"visitorId\": pd.Series.nunique,\n",
    "            \"revenue\": \"sum\",\n",
    "        }),\n",
    "    axis=1,\n",
    ").sort_values(by=[\"date\", \"group\"])"
   ]
  },
  {
   "cell_type": "markdown",
   "metadata": {},
   "source": [
    "Объявляем переменную `visitorsAggregated`, содержащую:     \n",
    "    - дату;    \n",
    "    - группу A/B-теста;      \n",
    "    - количество уникальных посетителей в группе теста по указанную дату включительно."
   ]
  },
  {
   "cell_type": "code",
   "execution_count": 33,
   "metadata": {},
   "outputs": [],
   "source": [
    "visitorsAggregated = datesGroups.apply(\n",
    "    lambda x: visitors[np.logical_and(visitors['date'] <= x['date'], visitors[\n",
    "        'group'] == x['group'])].agg({\n",
    "            'date': 'max',\n",
    "            'group': 'max',\n",
    "            'visitors': 'sum'\n",
    "        }),\n",
    "    axis=1,\n",
    ").sort_values(by=['date', 'group'])"
   ]
  },
  {
   "cell_type": "markdown",
   "metadata": {},
   "source": [
    "Определим переменную `cumulativeData`, объединив `ordersAggregated` и `visitorsAggregated` по колонкам 'date', 'group'"
   ]
  },
  {
   "cell_type": "code",
   "execution_count": 34,
   "metadata": {},
   "outputs": [],
   "source": [
    "cumulativeData = ordersAggregated.merge(visitorsAggregated,\n",
    "                                        left_on=['date', 'group'],\n",
    "                                        right_on=['date', 'group'])\n",
    "cumulativeData.columns = [\n",
    "    'date', 'group', 'orders', 'buyers', 'revenue', 'visitors'\n",
    "]"
   ]
  },
  {
   "cell_type": "markdown",
   "metadata": {},
   "source": [
    "Объявим переменные `cumulativeRevenueA`, `cumulativeRevenueB`, в которых сохраним данные о датах, выручке и числе заказов в группах A и B."
   ]
  },
  {
   "cell_type": "code",
   "execution_count": 35,
   "metadata": {},
   "outputs": [
    {
     "data": {
      "text/html": [
       "<div>\n",
       "<style scoped>\n",
       "    .dataframe tbody tr th:only-of-type {\n",
       "        vertical-align: middle;\n",
       "    }\n",
       "\n",
       "    .dataframe tbody tr th {\n",
       "        vertical-align: top;\n",
       "    }\n",
       "\n",
       "    .dataframe thead th {\n",
       "        text-align: right;\n",
       "    }\n",
       "</style>\n",
       "<table border=\"1\" class=\"dataframe\">\n",
       "  <thead>\n",
       "    <tr style=\"text-align: right;\">\n",
       "      <th></th>\n",
       "      <th>date</th>\n",
       "      <th>revenue</th>\n",
       "      <th>orders</th>\n",
       "    </tr>\n",
       "  </thead>\n",
       "  <tbody>\n",
       "    <tr>\n",
       "      <td>0</td>\n",
       "      <td>2019-08-01</td>\n",
       "      <td>148579</td>\n",
       "      <td>24</td>\n",
       "    </tr>\n",
       "    <tr>\n",
       "      <td>2</td>\n",
       "      <td>2019-08-02</td>\n",
       "      <td>242401</td>\n",
       "      <td>44</td>\n",
       "    </tr>\n",
       "    <tr>\n",
       "      <td>4</td>\n",
       "      <td>2019-08-03</td>\n",
       "      <td>354874</td>\n",
       "      <td>68</td>\n",
       "    </tr>\n",
       "    <tr>\n",
       "      <td>6</td>\n",
       "      <td>2019-08-04</td>\n",
       "      <td>425699</td>\n",
       "      <td>84</td>\n",
       "    </tr>\n",
       "    <tr>\n",
       "      <td>8</td>\n",
       "      <td>2019-08-05</td>\n",
       "      <td>549917</td>\n",
       "      <td>109</td>\n",
       "    </tr>\n",
       "  </tbody>\n",
       "</table>\n",
       "</div>"
      ],
      "text/plain": [
       "        date  revenue  orders\n",
       "0 2019-08-01   148579      24\n",
       "2 2019-08-02   242401      44\n",
       "4 2019-08-03   354874      68\n",
       "6 2019-08-04   425699      84\n",
       "8 2019-08-05   549917     109"
      ]
     },
     "execution_count": 35,
     "metadata": {},
     "output_type": "execute_result"
    }
   ],
   "source": [
    "cumulativeRevenueA = cumulativeData[cumulativeData['group'] == 'A'][[\n",
    "    'date', 'revenue', 'orders'\n",
    "]]\n",
    "cumulativeRevenueA.head()"
   ]
  },
  {
   "cell_type": "code",
   "execution_count": 36,
   "metadata": {},
   "outputs": [],
   "source": [
    "cumulativeRevenueB = cumulativeData[cumulativeData['group'] == 'B'][[\n",
    "    'date', 'revenue', 'orders'\n",
    "]]"
   ]
  },
  {
   "cell_type": "markdown",
   "metadata": {},
   "source": [
    "Построим графики кумулятивной выручки по дням и по группам"
   ]
  },
  {
   "cell_type": "code",
   "execution_count": 37,
   "metadata": {},
   "outputs": [
    {
     "data": {
      "image/png": "[encoded data removed]",
      "text/plain": [
       "<Figure size 720x360 with 1 Axes>"
      ]
     },
     "metadata": {
      "needs_background": "light"
     },
     "output_type": "display_data"
    }
   ],
   "source": [
    "plt.rcParams['figure.figsize'] = (10, 5)\n",
    "sns.lineplot(cumulativeRevenueA['date'],\n",
    "             cumulativeRevenueA['revenue'],\n",
    "             label='A')\n",
    "sns.lineplot(cumulativeRevenueB['date'],\n",
    "             cumulativeRevenueB['revenue'],\n",
    "             label='B')\n",
    "plt.title('График кумулятивной выручки по группам', size=14)\n",
    "plt.xlabel(\"Дата\")\n",
    "plt.ylabel(\"Выручка, руб.\")\n",
    "plt.xticks(rotation=45)\n",
    "plt.legend()\n",
    "plt.grid()"
   ]
  },
  {
   "cell_type": "markdown",
   "metadata": {},
   "source": [
    "**Вывод:**     \n",
    "тестрование шло равномерно, но в середине теста сегмент 'B' вырвался вперед и продолжил лидировать.\n",
    "Это указывает на влияение аномально больших заказов или о всплеске количества заказов."
   ]
  },
  {
   "cell_type": "markdown",
   "metadata": {},
   "source": [
    "## График среднего чека по группам"
   ]
  },
  {
   "cell_type": "markdown",
   "metadata": {},
   "source": [
    "Разделим кумулятивную выручку на кумулятивное число заказов."
   ]
  },
  {
   "cell_type": "code",
   "execution_count": 38,
   "metadata": {},
   "outputs": [
    {
     "data": {
      "image/png": "[encoded data removed]",
      "text/plain": [
       "<Figure size 720x360 with 1 Axes>"
      ]
     },
     "metadata": {
      "needs_background": "light"
     },
     "output_type": "display_data"
    }
   ],
   "source": [
    "plt.plot(cumulativeRevenueA['date'],\n",
    "         cumulativeRevenueA['revenue'] / cumulativeRevenueA['orders'],\n",
    "         label='A')\n",
    "plt.plot(cumulativeRevenueB['date'],\n",
    "         cumulativeRevenueB['revenue'] / cumulativeRevenueB['orders'],\n",
    "         label='B')\n",
    "plt.rcParams['figure.figsize'] = (10, 5)\n",
    "plt.title('График среднего чека по группам', size=14)\n",
    "plt.xlabel(\"Дата\")\n",
    "plt.ylabel(\"Средний чек, руб.\")\n",
    "plt.xticks(rotation=45)\n",
    "plt.legend()\n",
    "plt.grid()"
   ]
  },
  {
   "cell_type": "markdown",
   "metadata": {},
   "source": [
    "**Вывод:**   \n",
    "2019-08-17 сегмент 'B' сильно вырос, после плавно снижается. Решение по этой метрике принимать рано, нужно сделать анализ выбросов или получить ещё больше данных, чтобы прийти к реальному среднему чеку."
   ]
  },
  {
   "cell_type": "markdown",
   "metadata": {},
   "source": [
    "## График относительного различия для среднего чека"
   ]
  },
  {
   "cell_type": "code",
   "execution_count": 39,
   "metadata": {},
   "outputs": [
    {
     "data": {
      "image/png": "[encoded data removed]",
      "text/plain": [
       "<Figure size 720x360 with 1 Axes>"
      ]
     },
     "metadata": {
      "needs_background": "light"
     },
     "output_type": "display_data"
    }
   ],
   "source": [
    "# объеденим таблицы\n",
    "mergedCumulativeRevenue = cumulativeRevenueA.merge(cumulativeRevenueB,\n",
    "                                                   left_on='date',\n",
    "                                                   right_on='date',\n",
    "                                                   how='left',\n",
    "                                                   suffixes=['A', 'B'])\n",
    "\n",
    "# построим отношение средних чеков\n",
    "plt.plot(\n",
    "    mergedCumulativeRevenue['date'],\n",
    "    (mergedCumulativeRevenue['revenueB'] / mergedCumulativeRevenue['ordersB'])\n",
    "    /\n",
    "    (mergedCumulativeRevenue['revenueA'] / mergedCumulativeRevenue['ordersA'])\n",
    "    - 1)\n",
    "\n",
    "# добавим ось X\n",
    "plt.axhline(y=0, color='green', linestyle='--')\n",
    "plt.rcParams['figure.figsize'] = (10, 5)\n",
    "plt.title(\n",
    "    'График относительного изменения кумулятивного среднего чека группы B к группе A',\n",
    "    size=14)\n",
    "plt.xlabel('Дата')\n",
    "plt.xticks(rotation=45)\n",
    "plt.grid()"
   ]
  },
  {
   "cell_type": "markdown",
   "metadata": {},
   "source": [
    "**Вывод:**   \n",
    "из-за крупных заказов, график сильно «скачет». Нужно найти их и исключить."
   ]
  },
  {
   "cell_type": "markdown",
   "metadata": {},
   "source": [
    "## График кумулятивной конверсии"
   ]
  },
  {
   "cell_type": "code",
   "execution_count": 40,
   "metadata": {},
   "outputs": [
    {
     "data": {
      "image/png": "[encoded data removed]",
      "text/plain": [
       "<Figure size 720x360 with 1 Axes>"
      ]
     },
     "metadata": {
      "needs_background": "light"
     },
     "output_type": "display_data"
    }
   ],
   "source": [
    "# посчитаем кумулятивную конверсию\n",
    "cumulativeData[\n",
    "    'conversion'] = cumulativeData['orders'] / cumulativeData['visitors']\n",
    "\n",
    "# отделеяем данные на группу A и B\n",
    "cumulativeDataA = cumulativeData[cumulativeData['group'] == 'A']\n",
    "cumulativeDataB = cumulativeData[cumulativeData['group'] == 'B']\n",
    "\n",
    "# строим графики\n",
    "plt.rcParams['figure.figsize'] = (10, 5)\n",
    "plt.plot(cumulativeDataA['date'], cumulativeDataA['conversion'], label='A')\n",
    "plt.plot(cumulativeDataB['date'], cumulativeDataB['conversion'], label='B')\n",
    "plt.title('График кумулятивной конверсии', size=14)\n",
    "plt.xlabel(\"Дата\")\n",
    "plt.ylabel(\"Конверсия, доля\")\n",
    "plt.xticks(rotation=45)\n",
    "plt.legend()\n",
    "plt.grid()"
   ]
  },
  {
   "cell_type": "markdown",
   "metadata": {},
   "source": [
    "**Вывод:**   \n",
    "    получили ассиметричный график. В начале теста конверсии почти симметричны, затем конверсия группы A резко проседает, а конверсия группы B резко растёт. После данных скачков, конверсии зафиксировались.     \n",
    "    На момент окончания теста:      \n",
    "        - конверсия группы А ~ 0.030     \n",
    "        - конверсия группы B ~ 0.034"
   ]
  },
  {
   "cell_type": "code",
   "execution_count": 41,
   "metadata": {},
   "outputs": [
    {
     "data": {
      "text/html": [
       "<div>\n",
       "<style scoped>\n",
       "    .dataframe tbody tr th:only-of-type {\n",
       "        vertical-align: middle;\n",
       "    }\n",
       "\n",
       "    .dataframe tbody tr th {\n",
       "        vertical-align: top;\n",
       "    }\n",
       "\n",
       "    .dataframe thead th {\n",
       "        text-align: right;\n",
       "    }\n",
       "</style>\n",
       "<table border=\"1\" class=\"dataframe\">\n",
       "  <thead>\n",
       "    <tr style=\"text-align: right;\">\n",
       "      <th></th>\n",
       "      <th>transactionId</th>\n",
       "      <th>visitorId</th>\n",
       "      <th>date</th>\n",
       "      <th>revenue</th>\n",
       "      <th>group</th>\n",
       "    </tr>\n",
       "  </thead>\n",
       "  <tbody>\n",
       "    <tr>\n",
       "      <td>0</td>\n",
       "      <td>3667963787</td>\n",
       "      <td>3312258926</td>\n",
       "      <td>2019-08-15</td>\n",
       "      <td>1650</td>\n",
       "      <td>B</td>\n",
       "    </tr>\n",
       "    <tr>\n",
       "      <td>1</td>\n",
       "      <td>2804400009</td>\n",
       "      <td>3642806036</td>\n",
       "      <td>2019-08-15</td>\n",
       "      <td>730</td>\n",
       "      <td>B</td>\n",
       "    </tr>\n",
       "    <tr>\n",
       "      <td>2</td>\n",
       "      <td>2961555356</td>\n",
       "      <td>4069496402</td>\n",
       "      <td>2019-08-15</td>\n",
       "      <td>400</td>\n",
       "      <td>A</td>\n",
       "    </tr>\n",
       "    <tr>\n",
       "      <td>3</td>\n",
       "      <td>3797467345</td>\n",
       "      <td>1196621759</td>\n",
       "      <td>2019-08-15</td>\n",
       "      <td>9759</td>\n",
       "      <td>B</td>\n",
       "    </tr>\n",
       "    <tr>\n",
       "      <td>4</td>\n",
       "      <td>2282983706</td>\n",
       "      <td>2322279887</td>\n",
       "      <td>2019-08-15</td>\n",
       "      <td>2308</td>\n",
       "      <td>B</td>\n",
       "    </tr>\n",
       "  </tbody>\n",
       "</table>\n",
       "</div>"
      ],
      "text/plain": [
       "   transactionId   visitorId       date  revenue group\n",
       "0     3667963787  3312258926 2019-08-15     1650     B\n",
       "1     2804400009  3642806036 2019-08-15      730     B\n",
       "2     2961555356  4069496402 2019-08-15      400     A\n",
       "3     3797467345  1196621759 2019-08-15     9759     B\n",
       "4     2282983706  2322279887 2019-08-15     2308     B"
      ]
     },
     "execution_count": 41,
     "metadata": {},
     "output_type": "execute_result"
    }
   ],
   "source": [
    "orders.head()"
   ]
  },
  {
   "cell_type": "markdown",
   "metadata": {},
   "source": [
    "## График относительного различия кумулятивных конверсий"
   ]
  },
  {
   "cell_type": "code",
   "execution_count": 42,
   "metadata": {},
   "outputs": [
    {
     "data": {
      "image/png": "[encoded data removed]",
      "text/plain": [
       "<Figure size 720x360 with 1 Axes>"
      ]
     },
     "metadata": {
      "needs_background": "light"
     },
     "output_type": "display_data"
    }
   ],
   "source": [
    "mergedCumulativeConversions = cumulativeDataA[['date', 'conversion']].merge(\n",
    "    cumulativeDataB[['date', 'conversion']],\n",
    "    left_on='date',\n",
    "    right_on='date',\n",
    "    how='left',\n",
    "    suffixes=['A', 'B'])\n",
    "plt.rcParams['figure.figsize'] = (10, 5)\n",
    "plt.plot(\n",
    "    mergedCumulativeConversions['date'],\n",
    "    mergedCumulativeConversions['conversionB'] /\n",
    "    mergedCumulativeConversions['conversionA'] - 1\n",
    ")\n",
    "\n",
    "plt.title('График относительного различия кумулятивных конверсий', size=14)\n",
    "plt.xlabel(\"Дата\")\n",
    "plt.xticks(rotation=45)\n",
    "plt.grid()"
   ]
  },
  {
   "cell_type": "markdown",
   "metadata": {},
   "source": [
    "**Вывод:**   \n",
    "начиная с 2019-08-05 группа B уверенно лидирует по конверсии.\n",
    "Но чтобы сделать более уверенный вывод, в пользу какого-либо сегмента, нужно больше дней теста или выполнить анализ аномалий."
   ]
  },
  {
   "cell_type": "markdown",
   "metadata": {},
   "source": [
    "## Точечный график количества заказов по пользователям¶"
   ]
  },
  {
   "cell_type": "code",
   "execution_count": 43,
   "metadata": {},
   "outputs": [
    {
     "name": "stdout",
     "output_type": "stream",
     "text": [
      "       visitorId  orders\n",
      "1023  4256040402      11\n",
      "591   2458001652      11\n",
      "569   2378935119       9\n",
      "487   2038680547       8\n",
      "44     199603092       5\n"
     ]
    }
   ],
   "source": [
    "ordersByUsers = (orders.drop(['group', 'revenue', 'date'], axis=1).groupby(\n",
    "    'visitorId', as_index=False).agg({'transactionId': pd.Series.nunique}))\n",
    "ordersByUsers.columns = ['visitorId', 'orders']\n",
    "print(ordersByUsers.sort_values(by='orders', ascending=False).head())"
   ]
  },
  {
   "cell_type": "code",
   "execution_count": 44,
   "metadata": {},
   "outputs": [
    {
     "data": {
      "image/png": "[encoded data removed]",
      "text/plain": [
       "<Figure size 720x360 with 1 Axes>"
      ]
     },
     "metadata": {
      "needs_background": "light"
     },
     "output_type": "display_data"
    }
   ],
   "source": [
    "x_values = pd.Series(range(0, len(ordersByUsers)))\n",
    "plt.scatter(x_values, ordersByUsers['orders'])\n",
    "plt.title('Точечный график количества заказов по пользователям', size=14)\n",
    "plt.xlabel(\"Количество наблюдений\")\n",
    "plt.ylabel(\"Количество заказов, шт\")\n",
    "plt.grid()\n",
    "plt.show()"
   ]
  },
  {
   "cell_type": "markdown",
   "metadata": {},
   "source": [
    "**Вывод:**    \n",
    "много пользователей с 2 и 3 заказами, точная доля их не ясна. Пока непонятно, считать их аномалиями или нет."
   ]
  },
  {
   "cell_type": "markdown",
   "metadata": {},
   "source": [
    "## Рассчёт 95-ого и 99-ого перцентиля количества заказов на пользователя"
   ]
  },
  {
   "cell_type": "code",
   "execution_count": 45,
   "metadata": {},
   "outputs": [
    {
     "name": "stdout",
     "output_type": "stream",
     "text": [
      "[1. 2. 4.]\n"
     ]
    }
   ],
   "source": [
    "print(np.percentile(ordersByUsers['orders'], [90, 95, 99])) "
   ]
  },
  {
   "cell_type": "markdown",
   "metadata": {},
   "source": [
    "**Вывод:**   \n",
    "не более 5% пользователей оформляли более чем 2 заказа. И только 1% пользователей заказывали более 4 заказов.\n",
    "Всё что за 99% - является аномалией."
   ]
  },
  {
   "cell_type": "markdown",
   "metadata": {},
   "source": [
    "## Точечный график стоимостей заказов"
   ]
  },
  {
   "cell_type": "code",
   "execution_count": 46,
   "metadata": {},
   "outputs": [
    {
     "name": "stdout",
     "output_type": "stream",
     "text": [
      "      transactionId   visitorId       date  revenue group\n",
      "425       590470918  1920142716 2019-08-19  1294500     B\n",
      "1196     3936777065  2108080724 2019-08-15   202740     B\n",
      "858       192721366  1316129916 2019-08-27    93940     A\n",
      "1136      666610489  1307669133 2019-08-13    92550     A\n",
      "744      3668308183   888512513 2019-08-27    86620     B\n",
      "682      1216533772  4266935830 2019-08-29    78990     B\n",
      "662      1811671147  4266935830 2019-08-29    78990     A\n",
      "743      3603576309  4133034833 2019-08-09    67990     A\n",
      "1103     1348774318  1164614297 2019-08-12    66350     A\n",
      "1099      316924019   148427295 2019-08-12    65710     A\n"
     ]
    },
    {
     "data": {
      "image/png": "[encoded data removed]",
      "text/plain": [
       "<Figure size 720x360 with 1 Axes>"
      ]
     },
     "metadata": {
      "needs_background": "light"
     },
     "output_type": "display_data"
    }
   ],
   "source": [
    "print(orders.sort_values(by='revenue', ascending=False).head(10))\n",
    "x_values = pd.Series(range(0, len(orders['revenue'])))\n",
    "plt.scatter(x_values, orders['revenue'])\n",
    "plt.title('Точечный график количества заказов по пользователям', size=14)\n",
    "plt.xlabel(\"Количество наблюдений\")\n",
    "plt.ylabel(\"Сумма заказа, руб.\")\n",
    "plt.grid()\n",
    "plt.show()"
   ]
  },
  {
   "cell_type": "markdown",
   "metadata": {},
   "source": [
    "**Вывод:**   \n",
    "имеем два выброса."
   ]
  },
  {
   "cell_type": "markdown",
   "metadata": {},
   "source": [
    "## Рассчёт 95-й и 99-й перцентили стоимости заказов"
   ]
  },
  {
   "cell_type": "code",
   "execution_count": 47,
   "metadata": {},
   "outputs": [
    {
     "name": "stdout",
     "output_type": "stream",
     "text": [
      "[18168.  28000.  58233.2]\n"
     ]
    }
   ],
   "source": [
    "print(np.percentile(orders['revenue'], [90, 95, 99]))"
   ]
  },
  {
   "cell_type": "markdown",
   "metadata": {},
   "source": [
    "**Вывод:**   \n",
    "имеем 5% заказов на сумму 2800, и 1% заказов на сумму 582233.2. Всё что за 95% - является аномалией"
   ]
  },
  {
   "cell_type": "markdown",
   "metadata": {},
   "source": [
    "## Статистическая значимость различий в конверсию между группами по «сырым» данным\n",
    "\n",
    "H0: Конверсия в группе A равна конверсии в группе B     \n",
    "H1: Конверсия в группе A НЕ равна конверсии в группе B"
   ]
  },
  {
   "cell_type": "code",
   "execution_count": 48,
   "metadata": {},
   "outputs": [
    {
     "data": {
      "text/html": [
       "<div>\n",
       "<style scoped>\n",
       "    .dataframe tbody tr th:only-of-type {\n",
       "        vertical-align: middle;\n",
       "    }\n",
       "\n",
       "    .dataframe tbody tr th {\n",
       "        vertical-align: top;\n",
       "    }\n",
       "\n",
       "    .dataframe thead th {\n",
       "        text-align: right;\n",
       "    }\n",
       "</style>\n",
       "<table border=\"1\" class=\"dataframe\">\n",
       "  <thead>\n",
       "    <tr style=\"text-align: right;\">\n",
       "      <th></th>\n",
       "      <th>date</th>\n",
       "      <th>group</th>\n",
       "      <th>orders</th>\n",
       "      <th>buyers</th>\n",
       "      <th>revenue</th>\n",
       "      <th>visitors</th>\n",
       "      <th>conversion</th>\n",
       "    </tr>\n",
       "  </thead>\n",
       "  <tbody>\n",
       "    <tr>\n",
       "      <td>0</td>\n",
       "      <td>2019-08-01</td>\n",
       "      <td>A</td>\n",
       "      <td>24</td>\n",
       "      <td>20</td>\n",
       "      <td>148579</td>\n",
       "      <td>719</td>\n",
       "      <td>0.033380</td>\n",
       "    </tr>\n",
       "    <tr>\n",
       "      <td>2</td>\n",
       "      <td>2019-08-02</td>\n",
       "      <td>A</td>\n",
       "      <td>44</td>\n",
       "      <td>38</td>\n",
       "      <td>242401</td>\n",
       "      <td>1338</td>\n",
       "      <td>0.032885</td>\n",
       "    </tr>\n",
       "    <tr>\n",
       "      <td>4</td>\n",
       "      <td>2019-08-03</td>\n",
       "      <td>A</td>\n",
       "      <td>68</td>\n",
       "      <td>62</td>\n",
       "      <td>354874</td>\n",
       "      <td>1845</td>\n",
       "      <td>0.036856</td>\n",
       "    </tr>\n",
       "  </tbody>\n",
       "</table>\n",
       "</div>"
      ],
      "text/plain": [
       "        date group  orders  buyers  revenue  visitors  conversion\n",
       "0 2019-08-01     A      24      20   148579       719    0.033380\n",
       "2 2019-08-02     A      44      38   242401      1338    0.032885\n",
       "4 2019-08-03     A      68      62   354874      1845    0.036856"
      ]
     },
     "execution_count": 48,
     "metadata": {},
     "output_type": "execute_result"
    }
   ],
   "source": [
    "cumulativeDataA.head(3)"
   ]
  },
  {
   "cell_type": "code",
   "execution_count": 49,
   "metadata": {},
   "outputs": [
    {
     "data": {
      "text/html": [
       "<div>\n",
       "<style scoped>\n",
       "    .dataframe tbody tr th:only-of-type {\n",
       "        vertical-align: middle;\n",
       "    }\n",
       "\n",
       "    .dataframe tbody tr th {\n",
       "        vertical-align: top;\n",
       "    }\n",
       "\n",
       "    .dataframe thead th {\n",
       "        text-align: right;\n",
       "    }\n",
       "</style>\n",
       "<table border=\"1\" class=\"dataframe\">\n",
       "  <thead>\n",
       "    <tr style=\"text-align: right;\">\n",
       "      <th></th>\n",
       "      <th>date</th>\n",
       "      <th>group</th>\n",
       "      <th>orders</th>\n",
       "      <th>buyers</th>\n",
       "      <th>revenue</th>\n",
       "      <th>visitors</th>\n",
       "      <th>conversion</th>\n",
       "    </tr>\n",
       "  </thead>\n",
       "  <tbody>\n",
       "    <tr>\n",
       "      <td>1</td>\n",
       "      <td>2019-08-01</td>\n",
       "      <td>B</td>\n",
       "      <td>21</td>\n",
       "      <td>20</td>\n",
       "      <td>101217</td>\n",
       "      <td>713</td>\n",
       "      <td>0.029453</td>\n",
       "    </tr>\n",
       "    <tr>\n",
       "      <td>3</td>\n",
       "      <td>2019-08-02</td>\n",
       "      <td>B</td>\n",
       "      <td>45</td>\n",
       "      <td>43</td>\n",
       "      <td>266748</td>\n",
       "      <td>1294</td>\n",
       "      <td>0.034776</td>\n",
       "    </tr>\n",
       "    <tr>\n",
       "      <td>5</td>\n",
       "      <td>2019-08-03</td>\n",
       "      <td>B</td>\n",
       "      <td>61</td>\n",
       "      <td>59</td>\n",
       "      <td>380996</td>\n",
       "      <td>1803</td>\n",
       "      <td>0.033833</td>\n",
       "    </tr>\n",
       "  </tbody>\n",
       "</table>\n",
       "</div>"
      ],
      "text/plain": [
       "        date group  orders  buyers  revenue  visitors  conversion\n",
       "1 2019-08-01     B      21      20   101217       713    0.029453\n",
       "3 2019-08-02     B      45      43   266748      1294    0.034776\n",
       "5 2019-08-03     B      61      59   380996      1803    0.033833"
      ]
     },
     "execution_count": 49,
     "metadata": {},
     "output_type": "execute_result"
    }
   ],
   "source": [
    "cumulativeDataB.head(3)"
   ]
  },
  {
   "cell_type": "code",
   "execution_count": 50,
   "metadata": {},
   "outputs": [
    {
     "data": {
      "text/html": [
       "<div>\n",
       "<style scoped>\n",
       "    .dataframe tbody tr th:only-of-type {\n",
       "        vertical-align: middle;\n",
       "    }\n",
       "\n",
       "    .dataframe tbody tr th {\n",
       "        vertical-align: top;\n",
       "    }\n",
       "\n",
       "    .dataframe thead th {\n",
       "        text-align: right;\n",
       "    }\n",
       "</style>\n",
       "<table border=\"1\" class=\"dataframe\">\n",
       "  <thead>\n",
       "    <tr style=\"text-align: right;\">\n",
       "      <th></th>\n",
       "      <th>date</th>\n",
       "      <th>visitorsPerDateB</th>\n",
       "    </tr>\n",
       "  </thead>\n",
       "  <tbody>\n",
       "    <tr>\n",
       "      <td>31</td>\n",
       "      <td>2019-08-01</td>\n",
       "      <td>713</td>\n",
       "    </tr>\n",
       "    <tr>\n",
       "      <td>32</td>\n",
       "      <td>2019-08-02</td>\n",
       "      <td>581</td>\n",
       "    </tr>\n",
       "    <tr>\n",
       "      <td>33</td>\n",
       "      <td>2019-08-03</td>\n",
       "      <td>509</td>\n",
       "    </tr>\n",
       "    <tr>\n",
       "      <td>34</td>\n",
       "      <td>2019-08-04</td>\n",
       "      <td>770</td>\n",
       "    </tr>\n",
       "    <tr>\n",
       "      <td>35</td>\n",
       "      <td>2019-08-05</td>\n",
       "      <td>707</td>\n",
       "    </tr>\n",
       "  </tbody>\n",
       "</table>\n",
       "</div>"
      ],
      "text/plain": [
       "         date  visitorsPerDateB\n",
       "31 2019-08-01               713\n",
       "32 2019-08-02               581\n",
       "33 2019-08-03               509\n",
       "34 2019-08-04               770\n",
       "35 2019-08-05               707"
      ]
     },
     "execution_count": 50,
     "metadata": {},
     "output_type": "execute_result"
    }
   ],
   "source": [
    "visitorsADaily = visitors[visitors['group'] == 'A'][['date', 'visitors']]\n",
    "visitorsADaily.columns = ['date', 'visitorsPerDateA']\n",
    "# visitorsADaily.head()\n",
    "visitorsBDaily = visitors[visitors['group'] == 'B'][['date', 'visitors']]\n",
    "visitorsBDaily.columns = ['date', 'visitorsPerDateB']\n",
    "visitorsBDaily.head()"
   ]
  },
  {
   "cell_type": "code",
   "execution_count": 51,
   "metadata": {},
   "outputs": [
    {
     "data": {
      "text/html": [
       "<div>\n",
       "<style scoped>\n",
       "    .dataframe tbody tr th:only-of-type {\n",
       "        vertical-align: middle;\n",
       "    }\n",
       "\n",
       "    .dataframe tbody tr th {\n",
       "        vertical-align: top;\n",
       "    }\n",
       "\n",
       "    .dataframe thead th {\n",
       "        text-align: right;\n",
       "    }\n",
       "</style>\n",
       "<table border=\"1\" class=\"dataframe\">\n",
       "  <thead>\n",
       "    <tr style=\"text-align: right;\">\n",
       "      <th></th>\n",
       "      <th>userId</th>\n",
       "      <th>orders</th>\n",
       "    </tr>\n",
       "  </thead>\n",
       "  <tbody>\n",
       "    <tr>\n",
       "      <td>0</td>\n",
       "      <td>8300375</td>\n",
       "      <td>1</td>\n",
       "    </tr>\n",
       "    <tr>\n",
       "      <td>1</td>\n",
       "      <td>11685486</td>\n",
       "      <td>1</td>\n",
       "    </tr>\n",
       "    <tr>\n",
       "      <td>2</td>\n",
       "      <td>54447517</td>\n",
       "      <td>1</td>\n",
       "    </tr>\n",
       "    <tr>\n",
       "      <td>3</td>\n",
       "      <td>66685450</td>\n",
       "      <td>1</td>\n",
       "    </tr>\n",
       "    <tr>\n",
       "      <td>4</td>\n",
       "      <td>78758296</td>\n",
       "      <td>1</td>\n",
       "    </tr>\n",
       "  </tbody>\n",
       "</table>\n",
       "</div>"
      ],
      "text/plain": [
       "     userId  orders\n",
       "0   8300375       1\n",
       "1  11685486       1\n",
       "2  54447517       1\n",
       "3  66685450       1\n",
       "4  78758296       1"
      ]
     },
     "execution_count": 51,
     "metadata": {},
     "output_type": "execute_result"
    }
   ],
   "source": [
    "ordersByUsersA = (orders[orders['group'] == 'A'].groupby(\n",
    "    'visitorId', as_index=False).agg({'transactionId': pd.Series.nunique}))\n",
    "ordersByUsersA.columns = ['userId', 'orders']\n",
    "ordersByUsersA.head()"
   ]
  },
  {
   "cell_type": "code",
   "execution_count": 52,
   "metadata": {
    "scrolled": true
   },
   "outputs": [
    {
     "data": {
      "text/html": [
       "<div>\n",
       "<style scoped>\n",
       "    .dataframe tbody tr th:only-of-type {\n",
       "        vertical-align: middle;\n",
       "    }\n",
       "\n",
       "    .dataframe tbody tr th {\n",
       "        vertical-align: top;\n",
       "    }\n",
       "\n",
       "    .dataframe thead th {\n",
       "        text-align: right;\n",
       "    }\n",
       "</style>\n",
       "<table border=\"1\" class=\"dataframe\">\n",
       "  <thead>\n",
       "    <tr style=\"text-align: right;\">\n",
       "      <th></th>\n",
       "      <th>userId</th>\n",
       "      <th>orders</th>\n",
       "    </tr>\n",
       "  </thead>\n",
       "  <tbody>\n",
       "    <tr>\n",
       "      <td>0</td>\n",
       "      <td>5114589</td>\n",
       "      <td>1</td>\n",
       "    </tr>\n",
       "    <tr>\n",
       "      <td>1</td>\n",
       "      <td>6958315</td>\n",
       "      <td>1</td>\n",
       "    </tr>\n",
       "    <tr>\n",
       "      <td>2</td>\n",
       "      <td>8300375</td>\n",
       "      <td>1</td>\n",
       "    </tr>\n",
       "    <tr>\n",
       "      <td>3</td>\n",
       "      <td>39475350</td>\n",
       "      <td>1</td>\n",
       "    </tr>\n",
       "    <tr>\n",
       "      <td>4</td>\n",
       "      <td>47206413</td>\n",
       "      <td>1</td>\n",
       "    </tr>\n",
       "  </tbody>\n",
       "</table>\n",
       "</div>"
      ],
      "text/plain": [
       "     userId  orders\n",
       "0   5114589       1\n",
       "1   6958315       1\n",
       "2   8300375       1\n",
       "3  39475350       1\n",
       "4  47206413       1"
      ]
     },
     "execution_count": 52,
     "metadata": {},
     "output_type": "execute_result"
    }
   ],
   "source": [
    "ordersByUsersB = (orders[orders['group'] == 'B'].groupby(\n",
    "    'visitorId', as_index=False).agg({'transactionId': pd.Series.nunique}))\n",
    "ordersByUsersB.columns = ['userId', 'orders']\n",
    "ordersByUsersB.head()"
   ]
  },
  {
   "cell_type": "code",
   "execution_count": 53,
   "metadata": {},
   "outputs": [],
   "source": [
    "sampleA = pd.concat([\n",
    "    ordersByUsersA['orders'],\n",
    "    pd.Series(0,\n",
    "              index=np.arange(visitorsADaily['visitorsPerDateA'].sum() -\n",
    "                              len(ordersByUsersA['orders'])),\n",
    "              name='orders')\n",
    "],\n",
    "                    axis=0)\n",
    "sampleB = pd.concat([\n",
    "    ordersByUsersB['orders'],\n",
    "    pd.Series(0,\n",
    "              index=np.arange(visitorsBDaily['visitorsPerDateB'].sum() -\n",
    "                              len(ordersByUsersB['orders'])),\n",
    "              name='orders')\n",
    "],\n",
    "                    axis=0)"
   ]
  },
  {
   "cell_type": "code",
   "execution_count": 54,
   "metadata": {},
   "outputs": [
    {
     "name": "stdout",
     "output_type": "stream",
     "text": [
      "p-value = 0.017\n",
      "13.81%\n"
     ]
    }
   ],
   "source": [
    "print('p-value = {0:.3f}'.format(stats.mannwhitneyu(sampleA, sampleB, alternative='two-sided')[1]))\n",
    "print('{0:.2%}'.format(sampleB.mean() / sampleA.mean() - 1))"
   ]
  },
  {
   "cell_type": "markdown",
   "metadata": {},
   "source": [
    "**Вывод:**  \n",
    "p-value = 0.017 меньше 0.05, отвергаем нулевую гипотезу. Анализ по «сырым» данным говорит, что между группами есть статистически значимые различия.      \n",
    "Относительный прирост конверсии группы B к конверсии группы A = 13.8%"
   ]
  },
  {
   "cell_type": "markdown",
   "metadata": {},
   "source": [
    "## Cтатистическая значимость различий в среднем чеке заказа между группами по «сырым» данным\n",
    "\n",
    "H0: Средний чек группы A равен среднему чеку группы B     \n",
    "H1: Средний чек группы A НЕ равен среднему чеку группы B"
   ]
  },
  {
   "cell_type": "code",
   "execution_count": 55,
   "metadata": {},
   "outputs": [
    {
     "name": "stdout",
     "output_type": "stream",
     "text": [
      "p-value = 0.729\n",
      "25.87%\n"
     ]
    }
   ],
   "source": [
    "print('p-value = {0:.3f}'.format(\n",
    "    stats.mannwhitneyu(orders[orders['group'] == 'A']['revenue'],\n",
    "                       orders[orders['group'] == 'B']['revenue'], alternative = 'two-sided')[1],))\n",
    "print('{0:.2%}'.format(orders[orders['group'] == 'B']['revenue'].mean() /\n",
    "                       orders[orders['group'] == 'A']['revenue'].mean() - 1))"
   ]
  },
  {
   "cell_type": "markdown",
   "metadata": {},
   "source": [
    "**Вывод:**   \n",
    "p-value больше 0.05 - статистически значимых отличий в среднем чеке между групп нет, принимаем H0. Относительное различие среднего чека между сегментами составляет 25.9%"
   ]
  },
  {
   "cell_type": "markdown",
   "metadata": {},
   "source": [
    "## Статистическая значимость различий в конверсию между группами по «очищенным» данным\n",
    "\n",
    "H0: Конверсия в группе A равна конверсии в группе B     \n",
    "H1: Конверсия в группе A НЕ равна конверсии в группе B"
   ]
  },
  {
   "cell_type": "code",
   "execution_count": 56,
   "metadata": {},
   "outputs": [
    {
     "name": "stdout",
     "output_type": "stream",
     "text": [
      "1099    148427295\n",
      "928     204675465\n",
      "684     358944393\n",
      "648     382846391\n",
      "1189    393266494\n",
      "dtype: int64\n",
      "(59,)\n"
     ]
    }
   ],
   "source": [
    "usersWithManyOrders = pd.concat(\n",
    "    [\n",
    "        ordersByUsersA[ordersByUsersA['orders'] > 4]['userId'],\n",
    "        ordersByUsersB[ordersByUsersB['orders'] > 4]['userId'],\n",
    "    ],\n",
    "    axis=0,\n",
    ")\n",
    "usersWithExpensiveOrders = orders[orders['revenue'] > 28000]['visitorId']\n",
    "abnormalUsers = (pd.concat([usersWithManyOrders, usersWithExpensiveOrders],\n",
    "                           axis=0).drop_duplicates().sort_values())\n",
    "print(abnormalUsers.head(5))\n",
    "print(abnormalUsers.shape)"
   ]
  },
  {
   "cell_type": "markdown",
   "metadata": {},
   "source": [
    "**Вывод:**   \n",
    "всего 59 аномальных заказа"
   ]
  },
  {
   "cell_type": "code",
   "execution_count": 57,
   "metadata": {},
   "outputs": [
    {
     "name": "stdout",
     "output_type": "stream",
     "text": [
      "p-value = 0.018\n",
      "14.53%\n"
     ]
    }
   ],
   "source": [
    "sampleAFiltered = pd.concat(\n",
    "    [\n",
    "        ordersByUsersA[np.logical_not(\n",
    "            ordersByUsersA['userId'].isin(abnormalUsers))]['orders'],\n",
    "        pd.Series(\n",
    "            0,\n",
    "            index=np.arange(visitorsADaily['visitorsPerDateA'].sum() -\n",
    "                            len(ordersByUsersA['orders'])),\n",
    "            name='orders',\n",
    "        ),\n",
    "    ],\n",
    "    axis=0,\n",
    ")\n",
    "\n",
    "sampleBFiltered = pd.concat(\n",
    "    [\n",
    "        ordersByUsersB[np.logical_not(\n",
    "            ordersByUsersB['userId'].isin(abnormalUsers))]['orders'],\n",
    "        pd.Series(\n",
    "            0,\n",
    "            index=np.arange(visitorsBDaily['visitorsPerDateB'].sum() -\n",
    "                            len(ordersByUsersB['orders'])),\n",
    "            name='orders',\n",
    "        ),\n",
    "    ],\n",
    "    axis=0,\n",
    ")\n",
    "print('p-value = {0:.3f}'.format(\n",
    "    stats.mannwhitneyu(sampleAFiltered, sampleBFiltered, alternative='two-sided')[1]))\n",
    "print('{0:.2%}'.format(sampleBFiltered.mean() / sampleAFiltered.mean() - 1))"
   ]
  },
  {
   "cell_type": "markdown",
   "metadata": {},
   "source": [
    "**Вывод:**  \n",
    "результаты конверсии практически не изменились. p-value меньше 0.05, отвергаем нулевую гипотезу, конверсия в группе A не равна конверсии в группе B."
   ]
  },
  {
   "cell_type": "markdown",
   "metadata": {},
   "source": [
    "## Cтатистическая значимость различий в среднем чеке заказа между группами по «очищенным» данным"
   ]
  },
  {
   "cell_type": "markdown",
   "metadata": {},
   "source": [
    "H0: Средний чек группы A равен среднему чеку группы B     \n",
    "H1: Средний чек группы A НЕ равен среднему чеку группы B"
   ]
  },
  {
   "cell_type": "code",
   "execution_count": 58,
   "metadata": {},
   "outputs": [
    {
     "name": "stdout",
     "output_type": "stream",
     "text": [
      "p-value = 0.961\n",
      "-1.38%\n"
     ]
    }
   ],
   "source": [
    "print('p-value = {0:.3f}'.format(\n",
    "    stats.mannwhitneyu(orders[np.logical_and(\n",
    "        orders['group'] == 'A',\n",
    "        np.logical_not(orders['visitorId'].isin(abnormalUsers)),\n",
    "    )]['revenue'],\n",
    "                       orders[np.logical_and(\n",
    "                           orders['group'] == 'B',\n",
    "                           np.logical_not(\n",
    "                               orders['visitorId'].isin(abnormalUsers)),\n",
    "                       )]['revenue'],\n",
    "                       alternative='two-sided')[1]))\n",
    "\n",
    "print(\"{0:.2%}\".format(orders[np.logical_and(\n",
    "    orders['group'] == 'B',\n",
    "    np.logical_not(orders['visitorId'].isin(abnormalUsers)),\n",
    ")]['revenue'].mean() / orders[np.logical_and(\n",
    "    orders['group'] == 'A',\n",
    "    np.logical_not(orders['visitorId'].isin(abnormalUsers)),\n",
    ")]['revenue'].mean() - 1))"
   ]
  },
  {
   "cell_type": "markdown",
   "metadata": {},
   "source": [
    "**Вывод:**  \n",
    "p-value больше 0.05, принимаем H0 - средний чек группы A равен среднему чеку группы B.\n",
    "p-value увеличился, но и разница между сегментами сильно сократилась: 25.9% => -1.4%."
   ]
  },
  {
   "cell_type": "markdown",
   "metadata": {},
   "source": [
    "# Общий вывод    "
   ]
  },
  {
   "attachments": {
    "image-2.png": {
     "image/png": "[encoded data removed]"
    },
    "image.png": {
     "image/png": "[encoded data removed]"
    }
   },
   "cell_type": "markdown",
   "metadata": {},
   "source": [
    "**Изучение и подготовка данных**     \n",
    "\n",
    "`hypothrsis`:\n",
    "- дубликаты, пропуски, аномалии = отсутствуют;\n",
    "- регистр букв скорректирован по всей таблице.      \n",
    "\n",
    "`orders`:\n",
    "- дублей и пустых значений нет. Есть аномалии в revenue.\n",
    "- cкорректирован формат даты;  \n",
    "- данные лежат в диапазоне дат: 2019-08-01 до 2019-08-31;\n",
    "- есть пользователи, которые отнесены к группе A и B. Всего скорее это штатные сотрудники, которые тестировали работоспособность перед запуском.     \n",
    "\n",
    "`visitors`:\n",
    "- аномалий, дублей и пустых значений нет; \n",
    "- скорректирован формат даты;\n",
    "- диапазон дат заказов и визитов совпадает.\n",
    "\n",
    "**Гипотезы:**\n",
    "Анализ гипотез выполнен по методу ICE и RICE.\n",
    "Для интернет-магазина важен охват, поэтому предпочтительнее выбирать RICE.\n",
    "\n",
    "Для теста советую выбрать следующие гипотезы:\n",
    "\n",
    "- добавить форму подписки на все основные страницы, чтобы собрать базу клиентов для email-рассылок;\n",
    "- добавить блоки рекомендаций товаров на сайт интернет магазина, чтобы повысить конверсию и средний чек заказа;\n",
    "- добавить два новых канала привлечения трафика, что позволит привлекать на 30% больше пользователей.\n",
    "\n",
    "**A/B-тест**    \n",
    "\n",
    "\n",
    "Факты:   \n",
    "    - есть статистически значимые различия по конверсии между группами по «сырым» и по отфильтрованным данным;    \n",
    "    - нет статистически значимого различия по среднему чеку между группами ни по «сырым», ни по отфильтрованным данным;    \n",
    "    - график различия конверсии между группами сообщает, что результаты группы A хуже группы B и нет значительной тенденции к улучшению:\n",
    "    ![image.png](attachment:image.png)\n",
    "    - график различия среднего чека говорит о том, что результаты группы B лучше, приблизительно на 25%:\n",
    "    ![image-2.png](attachment:image-2.png)    \n",
    "Предлагаемое решение: остановить тест, зафиксировать победу группы B. Поздравить команду с успешным увеличем CR на 14.5%."
   ]
  },
  {
   "cell_type": "markdown",
   "metadata": {},
   "source": []
  }
 ],
 "metadata": {
  "ExecuteTimeLog": [
   {
    "duration": 1461,
    "start_time": "2021-10-03T12:28:58.912Z"
   },
   {
    "duration": 2494,
    "start_time": "2021-10-03T12:29:00.376Z"
   },
   {
    "duration": -8,
    "start_time": "2021-10-03T12:29:02.884Z"
   },
   {
    "duration": -10,
    "start_time": "2021-10-03T12:29:02.887Z"
   },
   {
    "duration": -12,
    "start_time": "2021-10-03T12:29:02.890Z"
   },
   {
    "duration": -13,
    "start_time": "2021-10-03T12:29:02.893Z"
   },
   {
    "duration": -16,
    "start_time": "2021-10-03T12:29:02.897Z"
   },
   {
    "duration": -17,
    "start_time": "2021-10-03T12:29:02.900Z"
   },
   {
    "duration": -20,
    "start_time": "2021-10-03T12:29:02.904Z"
   },
   {
    "duration": -22,
    "start_time": "2021-10-03T12:29:02.907Z"
   },
   {
    "duration": -24,
    "start_time": "2021-10-03T12:29:02.911Z"
   },
   {
    "duration": -26,
    "start_time": "2021-10-03T12:29:02.914Z"
   },
   {
    "duration": -28,
    "start_time": "2021-10-03T12:29:02.917Z"
   },
   {
    "duration": -30,
    "start_time": "2021-10-03T12:29:02.921Z"
   },
   {
    "duration": -32,
    "start_time": "2021-10-03T12:29:02.924Z"
   },
   {
    "duration": -34,
    "start_time": "2021-10-03T12:29:02.927Z"
   },
   {
    "duration": -36,
    "start_time": "2021-10-03T12:29:02.931Z"
   },
   {
    "duration": -38,
    "start_time": "2021-10-03T12:29:02.934Z"
   },
   {
    "duration": -67,
    "start_time": "2021-10-03T12:29:02.964Z"
   },
   {
    "duration": -68,
    "start_time": "2021-10-03T12:29:02.967Z"
   },
   {
    "duration": -70,
    "start_time": "2021-10-03T12:29:02.970Z"
   },
   {
    "duration": -72,
    "start_time": "2021-10-03T12:29:02.973Z"
   },
   {
    "duration": -73,
    "start_time": "2021-10-03T12:29:02.976Z"
   },
   {
    "duration": -75,
    "start_time": "2021-10-03T12:29:02.979Z"
   },
   {
    "duration": -77,
    "start_time": "2021-10-03T12:29:02.982Z"
   },
   {
    "duration": -78,
    "start_time": "2021-10-03T12:29:02.985Z"
   },
   {
    "duration": -80,
    "start_time": "2021-10-03T12:29:02.988Z"
   },
   {
    "duration": -81,
    "start_time": "2021-10-03T12:29:02.991Z"
   },
   {
    "duration": -27,
    "start_time": "2021-10-03T12:29:02.994Z"
   },
   {
    "duration": -28,
    "start_time": "2021-10-03T12:29:02.997Z"
   },
   {
    "duration": -30,
    "start_time": "2021-10-03T12:29:03.000Z"
   },
   {
    "duration": -32,
    "start_time": "2021-10-03T12:29:03.003Z"
   },
   {
    "duration": -34,
    "start_time": "2021-10-03T12:29:03.007Z"
   },
   {
    "duration": -36,
    "start_time": "2021-10-03T12:29:03.010Z"
   },
   {
    "duration": -37,
    "start_time": "2021-10-03T12:29:03.013Z"
   },
   {
    "duration": -86,
    "start_time": "2021-10-03T12:29:03.063Z"
   },
   {
    "duration": -89,
    "start_time": "2021-10-03T12:29:03.067Z"
   },
   {
    "duration": -90,
    "start_time": "2021-10-03T12:29:03.070Z"
   },
   {
    "duration": -93,
    "start_time": "2021-10-03T12:29:03.074Z"
   },
   {
    "duration": -95,
    "start_time": "2021-10-03T12:29:03.078Z"
   },
   {
    "duration": -97,
    "start_time": "2021-10-03T12:29:03.081Z"
   },
   {
    "duration": -98,
    "start_time": "2021-10-03T12:29:03.084Z"
   },
   {
    "duration": -101,
    "start_time": "2021-10-03T12:29:03.088Z"
   },
   {
    "duration": -103,
    "start_time": "2021-10-03T12:29:03.091Z"
   },
   {
    "duration": -105,
    "start_time": "2021-10-03T12:29:03.095Z"
   },
   {
    "duration": -107,
    "start_time": "2021-10-03T12:29:03.098Z"
   },
   {
    "duration": -109,
    "start_time": "2021-10-03T12:29:03.102Z"
   },
   {
    "duration": -111,
    "start_time": "2021-10-03T12:29:03.105Z"
   },
   {
    "duration": -113,
    "start_time": "2021-10-03T12:29:03.108Z"
   },
   {
    "duration": -114,
    "start_time": "2021-10-03T12:29:03.111Z"
   },
   {
    "duration": -116,
    "start_time": "2021-10-03T12:29:03.114Z"
   },
   {
    "duration": -118,
    "start_time": "2021-10-03T12:29:03.117Z"
   },
   {
    "duration": -119,
    "start_time": "2021-10-03T12:29:03.120Z"
   },
   {
    "duration": -122,
    "start_time": "2021-10-03T12:29:03.124Z"
   },
   {
    "duration": -128,
    "start_time": "2021-10-03T12:29:03.131Z"
   },
   {
    "duration": 1450,
    "start_time": "2021-10-03T12:30:15.897Z"
   },
   {
    "duration": 56,
    "start_time": "2021-10-03T12:30:17.350Z"
   },
   {
    "duration": 17,
    "start_time": "2021-10-03T12:30:17.409Z"
   },
   {
    "duration": 12,
    "start_time": "2021-10-03T12:30:17.430Z"
   },
   {
    "duration": 11,
    "start_time": "2021-10-03T12:30:17.445Z"
   },
   {
    "duration": 13,
    "start_time": "2021-10-03T12:30:17.458Z"
   },
   {
    "duration": 37,
    "start_time": "2021-10-03T12:30:17.474Z"
   },
   {
    "duration": 5,
    "start_time": "2021-10-03T12:30:17.515Z"
   },
   {
    "duration": 44,
    "start_time": "2021-10-03T12:30:17.523Z"
   },
   {
    "duration": 17,
    "start_time": "2021-10-03T12:30:17.569Z"
   },
   {
    "duration": 22,
    "start_time": "2021-10-03T12:30:17.588Z"
   },
   {
    "duration": 12,
    "start_time": "2021-10-03T12:30:17.612Z"
   },
   {
    "duration": 8,
    "start_time": "2021-10-03T12:30:17.626Z"
   },
   {
    "duration": 52,
    "start_time": "2021-10-03T12:30:17.636Z"
   },
   {
    "duration": 19,
    "start_time": "2021-10-03T12:30:17.690Z"
   },
   {
    "duration": 7,
    "start_time": "2021-10-03T12:30:17.712Z"
   },
   {
    "duration": 13,
    "start_time": "2021-10-03T12:30:17.722Z"
   },
   {
    "duration": 8,
    "start_time": "2021-10-03T12:30:17.767Z"
   },
   {
    "duration": 9,
    "start_time": "2021-10-03T12:30:17.778Z"
   },
   {
    "duration": 7,
    "start_time": "2021-10-03T12:30:17.790Z"
   },
   {
    "duration": 18,
    "start_time": "2021-10-03T12:30:17.800Z"
   },
   {
    "duration": 46,
    "start_time": "2021-10-03T12:30:17.821Z"
   },
   {
    "duration": 6,
    "start_time": "2021-10-03T12:30:17.874Z"
   },
   {
    "duration": 14,
    "start_time": "2021-10-03T12:30:17.883Z"
   },
   {
    "duration": 24,
    "start_time": "2021-10-03T12:30:17.899Z"
   },
   {
    "duration": 51,
    "start_time": "2021-10-03T12:30:17.925Z"
   },
   {
    "duration": 1324,
    "start_time": "2021-10-03T12:30:17.978Z"
   },
   {
    "duration": 15,
    "start_time": "2021-10-03T12:30:19.304Z"
   },
   {
    "duration": 367,
    "start_time": "2021-10-03T12:30:19.321Z"
   },
   {
    "duration": 284,
    "start_time": "2021-10-03T12:30:19.691Z"
   },
   {
    "duration": 13,
    "start_time": "2021-10-03T12:30:19.977Z"
   },
   {
    "duration": 16,
    "start_time": "2021-10-03T12:30:19.993Z"
   },
   {
    "duration": 9,
    "start_time": "2021-10-03T12:30:20.011Z"
   },
   {
    "duration": 495,
    "start_time": "2021-10-03T12:30:20.022Z"
   },
   {
    "duration": 510,
    "start_time": "2021-10-03T12:30:20.520Z"
   },
   {
    "duration": 528,
    "start_time": "2021-10-03T12:30:21.032Z"
   },
   {
    "duration": 507,
    "start_time": "2021-10-03T12:30:21.562Z"
   },
   {
    "duration": 11,
    "start_time": "2021-10-03T12:30:22.072Z"
   },
   {
    "duration": 498,
    "start_time": "2021-10-03T12:30:22.086Z"
   },
   {
    "duration": 197,
    "start_time": "2021-10-03T12:30:22.586Z"
   },
   {
    "duration": 412,
    "start_time": "2021-10-03T12:30:22.786Z"
   },
   {
    "duration": 5,
    "start_time": "2021-10-03T12:30:23.200Z"
   },
   {
    "duration": 445,
    "start_time": "2021-10-03T12:30:23.208Z"
   },
   {
    "duration": 14,
    "start_time": "2021-10-03T12:30:23.656Z"
   },
   {
    "duration": 16,
    "start_time": "2021-10-03T12:30:23.672Z"
   },
   {
    "duration": 14,
    "start_time": "2021-10-03T12:30:23.691Z"
   },
   {
    "duration": 21,
    "start_time": "2021-10-03T12:30:23.708Z"
   },
   {
    "duration": 177,
    "start_time": "2021-10-03T12:30:23.732Z"
   },
   {
    "duration": 129,
    "start_time": "2021-10-03T12:30:23.912Z"
   },
   {
    "duration": 34,
    "start_time": "2021-10-03T12:30:24.044Z"
   },
   {
    "duration": 72,
    "start_time": "2021-10-03T12:30:24.081Z"
   },
   {
    "duration": 14,
    "start_time": "2021-10-03T12:30:24.167Z"
   },
   {
    "duration": 14,
    "start_time": "2021-10-03T12:30:24.184Z"
   },
   {
    "duration": 19,
    "start_time": "2021-10-03T12:30:24.200Z"
   },
   {
    "duration": 58,
    "start_time": "2021-10-03T12:30:24.222Z"
   },
   {
    "duration": 10,
    "start_time": "2021-10-03T13:00:14.519Z"
   },
   {
    "duration": 21,
    "start_time": "2021-10-03T13:00:20.109Z"
   },
   {
    "duration": 71,
    "start_time": "2021-10-03T13:00:21.190Z"
   },
   {
    "duration": 8,
    "start_time": "2021-10-03T13:00:22.029Z"
   },
   {
    "duration": 18,
    "start_time": "2021-10-03T13:02:26.111Z"
   },
   {
    "duration": 8,
    "start_time": "2021-10-03T13:02:40.504Z"
   },
   {
    "duration": 6,
    "start_time": "2021-10-03T13:03:23.895Z"
   },
   {
    "duration": 3207,
    "start_time": "2021-10-03T19:23:28.983Z"
   },
   {
    "duration": 68,
    "start_time": "2021-10-03T19:23:32.192Z"
   },
   {
    "duration": 24,
    "start_time": "2021-10-03T19:23:32.263Z"
   },
   {
    "duration": 28,
    "start_time": "2021-10-03T19:23:32.289Z"
   },
   {
    "duration": 27,
    "start_time": "2021-10-03T19:23:32.320Z"
   },
   {
    "duration": 32,
    "start_time": "2021-10-03T19:23:32.350Z"
   },
   {
    "duration": 39,
    "start_time": "2021-10-03T19:23:32.385Z"
   },
   {
    "duration": 20,
    "start_time": "2021-10-03T19:23:32.427Z"
   },
   {
    "duration": 34,
    "start_time": "2021-10-03T19:23:32.450Z"
   },
   {
    "duration": 40,
    "start_time": "2021-10-03T19:23:32.486Z"
   },
   {
    "duration": 29,
    "start_time": "2021-10-03T19:23:32.528Z"
   },
   {
    "duration": 15,
    "start_time": "2021-10-03T19:23:32.560Z"
   },
   {
    "duration": 26,
    "start_time": "2021-10-03T19:23:32.577Z"
   },
   {
    "duration": 36,
    "start_time": "2021-10-03T19:23:32.605Z"
   },
   {
    "duration": 24,
    "start_time": "2021-10-03T19:23:32.643Z"
   },
   {
    "duration": 25,
    "start_time": "2021-10-03T19:23:32.669Z"
   },
   {
    "duration": 28,
    "start_time": "2021-10-03T19:23:32.697Z"
   },
   {
    "duration": 35,
    "start_time": "2021-10-03T19:23:32.728Z"
   },
   {
    "duration": 21,
    "start_time": "2021-10-03T19:23:32.766Z"
   },
   {
    "duration": 33,
    "start_time": "2021-10-03T19:23:32.790Z"
   },
   {
    "duration": 48,
    "start_time": "2021-10-03T19:23:32.825Z"
   },
   {
    "duration": 40,
    "start_time": "2021-10-03T19:23:32.876Z"
   },
   {
    "duration": 34,
    "start_time": "2021-10-03T19:23:32.921Z"
   },
   {
    "duration": 42,
    "start_time": "2021-10-03T19:23:32.958Z"
   },
   {
    "duration": 55,
    "start_time": "2021-10-03T19:23:33.002Z"
   },
   {
    "duration": 34,
    "start_time": "2021-10-03T19:23:33.060Z"
   },
   {
    "duration": 1234,
    "start_time": "2021-10-03T19:23:33.096Z"
   },
   {
    "duration": 14,
    "start_time": "2021-10-03T19:23:34.332Z"
   },
   {
    "duration": 361,
    "start_time": "2021-10-03T19:23:34.349Z"
   },
   {
    "duration": 276,
    "start_time": "2021-10-03T19:23:34.712Z"
   },
   {
    "duration": 36,
    "start_time": "2021-10-03T19:23:34.991Z"
   },
   {
    "duration": 20,
    "start_time": "2021-10-03T19:23:35.030Z"
   },
   {
    "duration": 12,
    "start_time": "2021-10-03T19:23:35.053Z"
   },
   {
    "duration": 508,
    "start_time": "2021-10-03T19:23:35.067Z"
   },
   {
    "duration": 411,
    "start_time": "2021-10-03T19:23:35.579Z"
   },
   {
    "duration": 554,
    "start_time": "2021-10-03T19:23:35.994Z"
   },
   {
    "duration": 608,
    "start_time": "2021-10-03T19:23:36.551Z"
   },
   {
    "duration": 14,
    "start_time": "2021-10-03T19:23:37.161Z"
   },
   {
    "duration": 659,
    "start_time": "2021-10-03T19:23:37.178Z"
   },
   {
    "duration": 252,
    "start_time": "2021-10-03T19:23:37.840Z"
   },
   {
    "duration": 475,
    "start_time": "2021-10-03T19:23:38.094Z"
   },
   {
    "duration": 8,
    "start_time": "2021-10-03T19:23:38.572Z"
   },
   {
    "duration": 602,
    "start_time": "2021-10-03T19:23:38.583Z"
   },
   {
    "duration": 8,
    "start_time": "2021-10-03T19:23:39.188Z"
   },
   {
    "duration": 38,
    "start_time": "2021-10-03T19:23:39.199Z"
   },
   {
    "duration": 32,
    "start_time": "2021-10-03T19:23:39.241Z"
   },
   {
    "duration": 46,
    "start_time": "2021-10-03T19:23:39.276Z"
   },
   {
    "duration": 151,
    "start_time": "2021-10-03T19:23:39.325Z"
   },
   {
    "duration": 206,
    "start_time": "2021-10-03T19:23:39.478Z"
   },
   {
    "duration": 43,
    "start_time": "2021-10-03T19:23:39.686Z"
   },
   {
    "duration": 95,
    "start_time": "2021-10-03T19:23:39.731Z"
   },
   {
    "duration": 16,
    "start_time": "2021-10-03T19:23:39.829Z"
   },
   {
    "duration": 16,
    "start_time": "2021-10-03T19:23:39.848Z"
   },
   {
    "duration": 68,
    "start_time": "2021-10-03T19:23:39.867Z"
   },
   {
    "duration": 29,
    "start_time": "2021-10-03T19:23:39.937Z"
   },
   {
    "duration": 4,
    "start_time": "2021-10-03T19:23:54.168Z"
   },
   {
    "duration": 4,
    "start_time": "2021-10-03T19:24:00.168Z"
   },
   {
    "duration": 3,
    "start_time": "2021-10-03T19:26:59.096Z"
   },
   {
    "duration": 14,
    "start_time": "2021-10-03T19:27:10.892Z"
   },
   {
    "duration": 14,
    "start_time": "2021-10-03T19:30:10.103Z"
   },
   {
    "duration": 1248,
    "start_time": "2021-10-03T19:45:05.987Z"
   },
   {
    "duration": 1247,
    "start_time": "2021-10-03T19:45:18.883Z"
   },
   {
    "duration": 8,
    "start_time": "2021-10-03T19:47:10.823Z"
   },
   {
    "duration": 9,
    "start_time": "2021-10-03T19:47:25.919Z"
   },
   {
    "duration": 22,
    "start_time": "2021-10-03T19:49:46.459Z"
   },
   {
    "duration": 1631,
    "start_time": "2021-10-03T19:50:30.939Z"
   },
   {
    "duration": 20,
    "start_time": "2021-10-03T19:50:36.943Z"
   },
   {
    "duration": 9,
    "start_time": "2021-10-03T19:51:47.735Z"
   },
   {
    "duration": 1151,
    "start_time": "2021-10-03T19:52:00.671Z"
   },
   {
    "duration": 906,
    "start_time": "2021-10-03T19:54:58.567Z"
   },
   {
    "duration": 1077,
    "start_time": "2021-10-03T19:55:06.247Z"
   },
   {
    "duration": 2845,
    "start_time": "2021-10-03T19:55:22.463Z"
   },
   {
    "duration": 4,
    "start_time": "2021-10-03T19:55:55.379Z"
   },
   {
    "duration": 8,
    "start_time": "2021-10-03T19:55:58.243Z"
   },
   {
    "duration": 7,
    "start_time": "2021-10-03T19:57:32.723Z"
   },
   {
    "duration": 5,
    "start_time": "2021-10-03T19:57:39.839Z"
   },
   {
    "duration": 11,
    "start_time": "2021-10-03T19:58:04.355Z"
   },
   {
    "duration": 297,
    "start_time": "2021-10-03T19:59:28.915Z"
   },
   {
    "duration": 357,
    "start_time": "2021-10-03T19:59:33.015Z"
   },
   {
    "duration": 280,
    "start_time": "2021-10-03T19:59:53.131Z"
   },
   {
    "duration": 289,
    "start_time": "2021-10-03T20:00:00.931Z"
   },
   {
    "duration": 10,
    "start_time": "2021-10-03T20:04:04.683Z"
   },
   {
    "duration": 10,
    "start_time": "2021-10-03T20:04:08.519Z"
   },
   {
    "duration": 7,
    "start_time": "2021-10-03T20:04:22.227Z"
   },
   {
    "duration": 7,
    "start_time": "2021-10-03T20:04:31.351Z"
   },
   {
    "duration": 9,
    "start_time": "2021-10-03T20:04:37.183Z"
   },
   {
    "duration": 8,
    "start_time": "2021-10-03T20:05:20.599Z"
   },
   {
    "duration": 20,
    "start_time": "2021-10-03T20:05:54.024Z"
   },
   {
    "duration": 292,
    "start_time": "2021-10-03T20:07:03.891Z"
   },
   {
    "duration": 271,
    "start_time": "2021-10-03T20:07:09.823Z"
   },
   {
    "duration": 20,
    "start_time": "2021-10-03T20:07:24.755Z"
   },
   {
    "duration": 23,
    "start_time": "2021-10-03T20:07:28.983Z"
   },
   {
    "duration": 271,
    "start_time": "2021-10-03T20:07:39.267Z"
   },
   {
    "duration": 271,
    "start_time": "2021-10-03T20:07:48.239Z"
   },
   {
    "duration": 14,
    "start_time": "2021-10-03T20:08:09.222Z"
   },
   {
    "duration": 14,
    "start_time": "2021-10-03T20:08:25.158Z"
   },
   {
    "duration": 13,
    "start_time": "2021-10-03T20:08:37.515Z"
   },
   {
    "duration": 14,
    "start_time": "2021-10-03T20:08:51.159Z"
   },
   {
    "duration": 13,
    "start_time": "2021-10-03T20:08:57.179Z"
   },
   {
    "duration": 13,
    "start_time": "2021-10-03T20:09:07.403Z"
   },
   {
    "duration": 13,
    "start_time": "2021-10-03T20:09:21.879Z"
   },
   {
    "duration": 12,
    "start_time": "2021-10-03T20:09:29.179Z"
   },
   {
    "duration": 722,
    "start_time": "2021-10-03T20:10:31.935Z"
   },
   {
    "duration": 531,
    "start_time": "2021-10-03T20:10:40.515Z"
   },
   {
    "duration": 442,
    "start_time": "2021-10-03T20:10:48.422Z"
   },
   {
    "duration": 419,
    "start_time": "2021-10-03T20:11:09.690Z"
   },
   {
    "duration": 2010,
    "start_time": "2021-10-03T20:11:14.895Z"
   },
   {
    "duration": 287,
    "start_time": "2021-10-03T20:11:23.803Z"
   },
   {
    "duration": 190,
    "start_time": "2021-10-03T20:15:29.698Z"
   },
   {
    "duration": 92,
    "start_time": "2021-10-03T20:15:45.258Z"
   },
   {
    "duration": 136,
    "start_time": "2021-10-03T20:15:59.491Z"
   },
   {
    "duration": 457,
    "start_time": "2021-10-03T20:16:33.927Z"
   },
   {
    "duration": 276,
    "start_time": "2021-10-03T20:16:39.223Z"
   },
   {
    "duration": 576,
    "start_time": "2021-10-03T20:16:45.151Z"
   },
   {
    "duration": 329,
    "start_time": "2021-10-03T20:16:49.495Z"
   },
   {
    "duration": 291,
    "start_time": "2021-10-03T20:17:28.227Z"
   },
   {
    "duration": 344,
    "start_time": "2021-10-03T20:17:41.531Z"
   },
   {
    "duration": 647,
    "start_time": "2021-10-03T20:17:55.886Z"
   },
   {
    "duration": 494,
    "start_time": "2021-10-03T20:18:26.223Z"
   },
   {
    "duration": 721,
    "start_time": "2021-10-03T20:18:38.571Z"
   },
   {
    "duration": 98,
    "start_time": "2021-10-03T20:19:23.971Z"
   },
   {
    "duration": 28,
    "start_time": "2021-10-03T20:19:31.923Z"
   },
   {
    "duration": 154,
    "start_time": "2021-10-03T20:22:41.978Z"
   },
   {
    "duration": 138,
    "start_time": "2021-10-03T20:22:46.626Z"
   },
   {
    "duration": 239,
    "start_time": "2021-10-03T20:22:50.958Z"
   },
   {
    "duration": 278,
    "start_time": "2021-10-03T20:22:58.542Z"
   },
   {
    "duration": 378,
    "start_time": "2021-10-03T20:23:05.514Z"
   },
   {
    "duration": 274,
    "start_time": "2021-10-03T20:23:09.642Z"
   },
   {
    "duration": 6,
    "start_time": "2021-10-03T20:23:22.875Z"
   },
   {
    "duration": 19,
    "start_time": "2021-10-03T20:23:29.926Z"
   },
   {
    "duration": 324,
    "start_time": "2021-10-03T20:23:57.322Z"
   },
   {
    "duration": 286,
    "start_time": "2021-10-03T20:24:04.914Z"
   },
   {
    "duration": 603,
    "start_time": "2021-10-03T20:24:21.639Z"
   },
   {
    "duration": 166,
    "start_time": "2021-10-03T20:24:45.523Z"
   },
   {
    "duration": 6,
    "start_time": "2021-10-03T20:24:52.076Z"
   },
   {
    "duration": 18,
    "start_time": "2021-10-03T20:24:54.554Z"
   },
   {
    "duration": 396,
    "start_time": "2021-10-03T20:26:03.613Z"
   },
   {
    "duration": 19,
    "start_time": "2021-10-03T20:26:04.106Z"
   },
   {
    "duration": 8,
    "start_time": "2021-10-03T20:26:09.906Z"
   },
   {
    "duration": 18,
    "start_time": "2021-10-03T20:26:15.422Z"
   },
   {
    "duration": 2576,
    "start_time": "2021-10-03T20:26:49.199Z"
   },
   {
    "duration": 448,
    "start_time": "2021-10-03T20:27:04.687Z"
   },
   {
    "duration": 299,
    "start_time": "2021-10-03T20:27:34.250Z"
   },
   {
    "duration": 796,
    "start_time": "2021-10-03T20:27:58.346Z"
   },
   {
    "duration": 8,
    "start_time": "2021-10-03T20:28:12.294Z"
   },
   {
    "duration": 8,
    "start_time": "2021-10-03T20:28:15.219Z"
   },
   {
    "duration": 8,
    "start_time": "2021-10-03T20:28:31.974Z"
   },
   {
    "duration": 7,
    "start_time": "2021-10-03T20:28:34.846Z"
   },
   {
    "duration": 6,
    "start_time": "2021-10-03T20:28:58.430Z"
   },
   {
    "duration": 22,
    "start_time": "2021-10-03T20:29:00.896Z"
   },
   {
    "duration": 20,
    "start_time": "2021-10-03T20:29:40.995Z"
   },
   {
    "duration": 20,
    "start_time": "2021-10-03T20:29:43.503Z"
   },
   {
    "duration": 13,
    "start_time": "2021-10-03T20:29:49.466Z"
   },
   {
    "duration": 521,
    "start_time": "2021-10-03T20:31:08.322Z"
   },
   {
    "duration": 93,
    "start_time": "2021-10-03T20:33:04.710Z"
   },
   {
    "duration": 99,
    "start_time": "2021-10-03T20:33:32.426Z"
   },
   {
    "duration": 285,
    "start_time": "2021-10-03T20:33:56.467Z"
   },
   {
    "duration": 487,
    "start_time": "2021-10-03T20:34:02.538Z"
   },
   {
    "duration": 21,
    "start_time": "2021-10-03T20:35:15.330Z"
   },
   {
    "duration": 13,
    "start_time": "2021-10-03T20:35:16.138Z"
   },
   {
    "duration": 12,
    "start_time": "2021-10-03T20:37:59.986Z"
   },
   {
    "duration": 493,
    "start_time": "2021-10-03T20:43:59.634Z"
   },
   {
    "duration": 394,
    "start_time": "2021-10-03T20:44:47.542Z"
   },
   {
    "duration": 159,
    "start_time": "2021-10-03T20:44:57.190Z"
   },
   {
    "duration": 99,
    "start_time": "2021-10-03T20:45:03.166Z"
   },
   {
    "duration": 208,
    "start_time": "2021-10-03T20:45:08.106Z"
   },
   {
    "duration": 99,
    "start_time": "2021-10-03T20:45:12.654Z"
   },
   {
    "duration": 367,
    "start_time": "2021-10-03T20:45:27.950Z"
   },
   {
    "duration": 361,
    "start_time": "2021-10-03T20:45:36.998Z"
   },
   {
    "duration": 359,
    "start_time": "2021-10-03T20:45:39.270Z"
   },
   {
    "duration": 366,
    "start_time": "2021-10-03T20:45:50.502Z"
   },
   {
    "duration": 363,
    "start_time": "2021-10-03T20:45:52.710Z"
   },
   {
    "duration": 368,
    "start_time": "2021-10-03T20:45:57.186Z"
   },
   {
    "duration": 513,
    "start_time": "2021-10-03T20:47:16.114Z"
   },
   {
    "duration": 415,
    "start_time": "2021-10-03T20:48:07.118Z"
   },
   {
    "duration": 388,
    "start_time": "2021-10-03T20:48:45.030Z"
   },
   {
    "duration": 527,
    "start_time": "2021-10-03T20:48:55.926Z"
   },
   {
    "duration": 472,
    "start_time": "2021-10-03T20:51:01.722Z"
   },
   {
    "duration": 584,
    "start_time": "2021-10-03T20:51:13.522Z"
   },
   {
    "duration": 728,
    "start_time": "2021-10-03T20:51:28.046Z"
   },
   {
    "duration": 222,
    "start_time": "2021-10-03T20:53:53.730Z"
   },
   {
    "duration": 188,
    "start_time": "2021-10-03T20:54:56.034Z"
   },
   {
    "duration": 197,
    "start_time": "2021-10-03T20:54:59.709Z"
   },
   {
    "duration": 275,
    "start_time": "2021-10-03T20:57:57.962Z"
   },
   {
    "duration": 7,
    "start_time": "2021-10-03T20:58:05.782Z"
   },
   {
    "duration": 454,
    "start_time": "2021-10-03T20:58:43.791Z"
   },
   {
    "duration": 281,
    "start_time": "2021-10-03T21:05:16.942Z"
   },
   {
    "duration": 279,
    "start_time": "2021-10-03T21:05:23.586Z"
   },
   {
    "duration": 13,
    "start_time": "2021-10-03T21:05:37.434Z"
   },
   {
    "duration": 453,
    "start_time": "2021-10-03T21:08:21.614Z"
   },
   {
    "duration": 458,
    "start_time": "2021-10-03T21:08:28.294Z"
   },
   {
    "duration": 419,
    "start_time": "2021-10-03T21:09:23.142Z"
   },
   {
    "duration": 486,
    "start_time": "2021-10-03T21:11:04.890Z"
   },
   {
    "duration": 346,
    "start_time": "2021-10-03T21:12:51.454Z"
   },
   {
    "duration": 237,
    "start_time": "2021-10-03T21:12:53.709Z"
   },
   {
    "duration": 423,
    "start_time": "2021-10-03T21:12:53.949Z"
   },
   {
    "duration": 5,
    "start_time": "2021-10-03T21:12:55.326Z"
   },
   {
    "duration": 499,
    "start_time": "2021-10-03T21:12:56.301Z"
   },
   {
    "duration": 13,
    "start_time": "2021-10-03T21:15:37.877Z"
   },
   {
    "duration": 292,
    "start_time": "2021-10-03T21:16:05.889Z"
   },
   {
    "duration": 277,
    "start_time": "2021-10-03T21:16:09.953Z"
   },
   {
    "duration": 9,
    "start_time": "2021-10-03T21:16:16.118Z"
   },
   {
    "duration": 11,
    "start_time": "2021-10-03T21:16:25.618Z"
   },
   {
    "duration": 19,
    "start_time": "2021-10-03T21:16:37.161Z"
   },
   {
    "duration": 9,
    "start_time": "2021-10-03T21:16:51.945Z"
   },
   {
    "duration": 12,
    "start_time": "2021-10-03T21:16:55.381Z"
   },
   {
    "duration": 18,
    "start_time": "2021-10-03T21:17:04.694Z"
   },
   {
    "duration": 6,
    "start_time": "2021-10-03T21:17:13.814Z"
   },
   {
    "duration": 8,
    "start_time": "2021-10-03T21:17:32.230Z"
   },
   {
    "duration": 6969,
    "start_time": "2021-10-03T21:35:22.148Z"
   },
   {
    "duration": -29,
    "start_time": "2021-10-03T21:35:29.148Z"
   },
   {
    "duration": 1486,
    "start_time": "2021-10-03T21:35:52.818Z"
   },
   {
    "duration": 72,
    "start_time": "2021-10-03T21:35:54.307Z"
   },
   {
    "duration": 19,
    "start_time": "2021-10-03T21:35:54.382Z"
   },
   {
    "duration": 20,
    "start_time": "2021-10-03T21:35:54.405Z"
   },
   {
    "duration": 12,
    "start_time": "2021-10-03T21:35:54.428Z"
   },
   {
    "duration": 17,
    "start_time": "2021-10-03T21:35:54.443Z"
   },
   {
    "duration": 35,
    "start_time": "2021-10-03T21:35:54.463Z"
   },
   {
    "duration": 6,
    "start_time": "2021-10-03T21:35:54.525Z"
   },
   {
    "duration": 18,
    "start_time": "2021-10-03T21:35:54.535Z"
   },
   {
    "duration": 20,
    "start_time": "2021-10-03T21:35:54.556Z"
   },
   {
    "duration": 44,
    "start_time": "2021-10-03T21:35:54.579Z"
   },
   {
    "duration": 18,
    "start_time": "2021-10-03T21:35:54.626Z"
   },
   {
    "duration": 18,
    "start_time": "2021-10-03T21:35:54.646Z"
   },
   {
    "duration": 32,
    "start_time": "2021-10-03T21:35:54.667Z"
   },
   {
    "duration": 31,
    "start_time": "2021-10-03T21:35:54.702Z"
   },
   {
    "duration": 32,
    "start_time": "2021-10-03T21:35:54.735Z"
   },
   {
    "duration": 24,
    "start_time": "2021-10-03T21:35:54.769Z"
   },
   {
    "duration": 21,
    "start_time": "2021-10-03T21:35:54.796Z"
   },
   {
    "duration": 16,
    "start_time": "2021-10-03T21:35:54.823Z"
   },
   {
    "duration": 20,
    "start_time": "2021-10-03T21:35:54.841Z"
   },
   {
    "duration": 16,
    "start_time": "2021-10-03T21:35:54.863Z"
   },
   {
    "duration": 40,
    "start_time": "2021-10-03T21:35:54.882Z"
   },
   {
    "duration": 77,
    "start_time": "2021-10-03T21:35:54.931Z"
   },
   {
    "duration": 60,
    "start_time": "2021-10-03T21:35:55.013Z"
   },
   {
    "duration": 21,
    "start_time": "2021-10-03T21:35:55.077Z"
   },
   {
    "duration": 40,
    "start_time": "2021-10-03T21:35:55.101Z"
   },
   {
    "duration": 41,
    "start_time": "2021-10-03T21:35:55.144Z"
   },
   {
    "duration": 50,
    "start_time": "2021-10-03T21:35:55.189Z"
   },
   {
    "duration": 1291,
    "start_time": "2021-10-03T21:35:55.242Z"
   },
   {
    "duration": 13,
    "start_time": "2021-10-03T21:35:56.536Z"
   },
   {
    "duration": 20,
    "start_time": "2021-10-03T21:35:56.551Z"
   },
   {
    "duration": 375,
    "start_time": "2021-10-03T21:35:56.573Z"
   },
   {
    "duration": 282,
    "start_time": "2021-10-03T21:35:56.951Z"
   },
   {
    "duration": 10,
    "start_time": "2021-10-03T21:35:57.235Z"
   },
   {
    "duration": 33,
    "start_time": "2021-10-03T21:35:57.247Z"
   },
   {
    "duration": 14,
    "start_time": "2021-10-03T21:35:57.283Z"
   },
   {
    "duration": 497,
    "start_time": "2021-10-03T21:35:57.300Z"
   },
   {
    "duration": 399,
    "start_time": "2021-10-03T21:35:57.800Z"
   },
   {
    "duration": 523,
    "start_time": "2021-10-03T21:35:58.202Z"
   },
   {
    "duration": 610,
    "start_time": "2021-10-03T21:35:58.727Z"
   },
   {
    "duration": 12,
    "start_time": "2021-10-03T21:35:59.340Z"
   },
   {
    "duration": 389,
    "start_time": "2021-10-03T21:35:59.354Z"
   },
   {
    "duration": 240,
    "start_time": "2021-10-03T21:35:59.746Z"
   },
   {
    "duration": 462,
    "start_time": "2021-10-03T21:35:59.989Z"
   },
   {
    "duration": 6,
    "start_time": "2021-10-03T21:36:00.453Z"
   },
   {
    "duration": 518,
    "start_time": "2021-10-03T21:36:00.461Z"
   },
   {
    "duration": 6,
    "start_time": "2021-10-03T21:36:00.982Z"
   },
   {
    "duration": 43,
    "start_time": "2021-10-03T21:36:00.991Z"
   },
   {
    "duration": 22,
    "start_time": "2021-10-03T21:36:01.036Z"
   },
   {
    "duration": 46,
    "start_time": "2021-10-03T21:36:01.061Z"
   },
   {
    "duration": 162,
    "start_time": "2021-10-03T21:36:01.110Z"
   },
   {
    "duration": 126,
    "start_time": "2021-10-03T21:36:01.274Z"
   },
   {
    "duration": 7349,
    "start_time": "2021-10-03T21:36:01.403Z"
   },
   {
    "duration": -29,
    "start_time": "2021-10-03T21:36:08.784Z"
   },
   {
    "duration": -34,
    "start_time": "2021-10-03T21:36:08.790Z"
   },
   {
    "duration": -36,
    "start_time": "2021-10-03T21:36:08.794Z"
   },
   {
    "duration": -40,
    "start_time": "2021-10-03T21:36:08.799Z"
   },
   {
    "duration": -44,
    "start_time": "2021-10-03T21:36:08.804Z"
   },
   {
    "duration": -46,
    "start_time": "2021-10-03T21:36:08.808Z"
   },
   {
    "duration": 9,
    "start_time": "2021-10-03T21:40:50.879Z"
   },
   {
    "duration": 12,
    "start_time": "2021-10-03T21:40:52.762Z"
   },
   {
    "duration": 9,
    "start_time": "2021-10-03T21:40:54.447Z"
   },
   {
    "duration": 8,
    "start_time": "2021-10-03T21:41:01.539Z"
   },
   {
    "duration": 98,
    "start_time": "2021-10-03T21:42:07.623Z"
   },
   {
    "duration": 15,
    "start_time": "2021-10-03T21:45:54.850Z"
   },
   {
    "duration": 15,
    "start_time": "2021-10-03T21:45:56.339Z"
   },
   {
    "duration": 38,
    "start_time": "2021-10-03T21:45:57.327Z"
   },
   {
    "duration": 21,
    "start_time": "2021-10-03T21:46:00.479Z"
   },
   {
    "duration": 6,
    "start_time": "2021-10-03T21:46:11.287Z"
   },
   {
    "duration": 20,
    "start_time": "2021-10-03T21:47:44.935Z"
   },
   {
    "duration": 13,
    "start_time": "2021-10-03T21:48:26.719Z"
   },
   {
    "duration": 6903,
    "start_time": "2021-10-03T21:50:08.302Z"
   },
   {
    "duration": 19,
    "start_time": "2021-10-03T21:50:30.775Z"
   },
   {
    "duration": 710,
    "start_time": "2021-10-03T22:02:54.334Z"
   },
   {
    "duration": 94,
    "start_time": "2021-10-03T22:03:03.342Z"
   },
   {
    "duration": 105,
    "start_time": "2021-10-03T22:03:19.274Z"
   },
   {
    "duration": 20,
    "start_time": "2021-10-03T22:04:19.242Z"
   },
   {
    "duration": 104,
    "start_time": "2021-10-03T22:04:33.806Z"
   },
   {
    "duration": 20,
    "start_time": "2021-10-03T22:04:41.650Z"
   },
   {
    "duration": 19,
    "start_time": "2021-10-03T22:04:43.758Z"
   },
   {
    "duration": 701,
    "start_time": "2021-10-03T22:05:05.766Z"
   },
   {
    "duration": 101,
    "start_time": "2021-10-03T22:05:11.174Z"
   },
   {
    "duration": 956,
    "start_time": "2021-10-03T22:05:14.858Z"
   },
   {
    "duration": 624,
    "start_time": "2021-10-03T22:05:23.794Z"
   },
   {
    "duration": 23,
    "start_time": "2021-10-03T22:05:30.030Z"
   },
   {
    "duration": 23,
    "start_time": "2021-10-03T22:05:39.002Z"
   },
   {
    "duration": 24,
    "start_time": "2021-10-03T22:05:46.986Z"
   },
   {
    "duration": 101,
    "start_time": "2021-10-03T22:06:13.519Z"
   },
   {
    "duration": 93,
    "start_time": "2021-10-03T22:06:17.362Z"
   },
   {
    "duration": 285,
    "start_time": "2021-10-03T22:06:20.600Z"
   },
   {
    "duration": 20,
    "start_time": "2021-10-03T22:06:26.494Z"
   },
   {
    "duration": 20,
    "start_time": "2021-10-03T22:07:36.002Z"
   },
   {
    "duration": 20,
    "start_time": "2021-10-03T22:07:43.066Z"
   },
   {
    "duration": 20,
    "start_time": "2021-10-03T22:07:45.464Z"
   },
   {
    "duration": 20,
    "start_time": "2021-10-03T22:08:01.886Z"
   },
   {
    "duration": 20,
    "start_time": "2021-10-03T22:09:49.946Z"
   },
   {
    "duration": 15,
    "start_time": "2021-10-03T22:20:18.677Z"
   },
   {
    "duration": 15,
    "start_time": "2021-10-03T22:20:24.961Z"
   },
   {
    "duration": 15,
    "start_time": "2021-10-03T22:20:29.233Z"
   },
   {
    "duration": 91,
    "start_time": "2021-10-03T22:20:41.481Z"
   },
   {
    "duration": 14,
    "start_time": "2021-10-03T22:20:49.150Z"
   },
   {
    "duration": 15,
    "start_time": "2021-10-03T22:22:29.789Z"
   },
   {
    "duration": 12,
    "start_time": "2021-10-03T22:23:24.158Z"
   },
   {
    "duration": 9,
    "start_time": "2021-10-03T22:23:28.693Z"
   },
   {
    "duration": 9,
    "start_time": "2021-10-03T22:23:43.261Z"
   },
   {
    "duration": 9,
    "start_time": "2021-10-03T22:23:46.230Z"
   },
   {
    "duration": 14,
    "start_time": "2021-10-03T22:25:04.265Z"
   },
   {
    "duration": 15,
    "start_time": "2021-10-03T22:25:07.662Z"
   },
   {
    "duration": 9,
    "start_time": "2021-10-03T22:28:58.028Z"
   },
   {
    "duration": 8,
    "start_time": "2021-10-03T22:28:58.354Z"
   },
   {
    "duration": 14,
    "start_time": "2021-10-03T22:29:01.433Z"
   },
   {
    "duration": 13,
    "start_time": "2021-10-03T22:29:10.306Z"
   },
   {
    "duration": 19,
    "start_time": "2021-10-03T22:29:11.689Z"
   },
   {
    "duration": 20,
    "start_time": "2021-10-03T22:29:13.518Z"
   },
   {
    "duration": 20,
    "start_time": "2021-10-03T22:29:13.873Z"
   },
   {
    "duration": 18,
    "start_time": "2021-10-03T22:37:35.317Z"
   },
   {
    "duration": 20,
    "start_time": "2021-10-03T22:42:17.873Z"
   },
   {
    "duration": 19,
    "start_time": "2021-10-03T22:44:40.121Z"
   },
   {
    "duration": 1313,
    "start_time": "2021-10-04T09:48:47.919Z"
   },
   {
    "duration": 80,
    "start_time": "2021-10-04T09:48:49.234Z"
   },
   {
    "duration": 13,
    "start_time": "2021-10-04T09:48:49.317Z"
   },
   {
    "duration": 9,
    "start_time": "2021-10-04T09:48:49.333Z"
   },
   {
    "duration": 7,
    "start_time": "2021-10-04T09:48:49.344Z"
   },
   {
    "duration": 7,
    "start_time": "2021-10-04T09:48:49.354Z"
   },
   {
    "duration": 20,
    "start_time": "2021-10-04T09:48:49.364Z"
   },
   {
    "duration": 3,
    "start_time": "2021-10-04T09:48:49.387Z"
   },
   {
    "duration": 11,
    "start_time": "2021-10-04T09:48:49.392Z"
   },
   {
    "duration": 9,
    "start_time": "2021-10-04T09:48:49.404Z"
   },
   {
    "duration": 37,
    "start_time": "2021-10-04T09:48:49.414Z"
   },
   {
    "duration": 9,
    "start_time": "2021-10-04T09:48:49.453Z"
   },
   {
    "duration": 5,
    "start_time": "2021-10-04T09:48:49.464Z"
   },
   {
    "duration": 26,
    "start_time": "2021-10-04T09:48:49.470Z"
   },
   {
    "duration": 13,
    "start_time": "2021-10-04T09:48:49.498Z"
   },
   {
    "duration": 37,
    "start_time": "2021-10-04T09:48:49.513Z"
   },
   {
    "duration": 19,
    "start_time": "2021-10-04T09:48:49.553Z"
   },
   {
    "duration": 9,
    "start_time": "2021-10-04T09:48:49.573Z"
   },
   {
    "duration": 9,
    "start_time": "2021-10-04T09:48:49.584Z"
   },
   {
    "duration": 6,
    "start_time": "2021-10-04T09:48:49.595Z"
   },
   {
    "duration": 7,
    "start_time": "2021-10-04T09:48:49.603Z"
   },
   {
    "duration": 39,
    "start_time": "2021-10-04T09:48:49.611Z"
   },
   {
    "duration": 12,
    "start_time": "2021-10-04T09:48:49.654Z"
   },
   {
    "duration": 7,
    "start_time": "2021-10-04T09:48:49.669Z"
   },
   {
    "duration": 25,
    "start_time": "2021-10-04T09:48:49.677Z"
   },
   {
    "duration": 26,
    "start_time": "2021-10-04T09:48:49.704Z"
   },
   {
    "duration": 13,
    "start_time": "2021-10-04T09:48:49.731Z"
   },
   {
    "duration": 18,
    "start_time": "2021-10-04T09:48:49.746Z"
   },
   {
    "duration": 880,
    "start_time": "2021-10-04T09:48:49.766Z"
   },
   {
    "duration": 11,
    "start_time": "2021-10-04T09:48:50.649Z"
   },
   {
    "duration": 14,
    "start_time": "2021-10-04T09:48:50.662Z"
   },
   {
    "duration": 693,
    "start_time": "2021-10-04T09:48:50.678Z"
   },
   {
    "duration": 167,
    "start_time": "2021-10-04T09:48:51.373Z"
   },
   {
    "duration": 10,
    "start_time": "2021-10-04T09:48:51.550Z"
   },
   {
    "duration": 11,
    "start_time": "2021-10-04T09:48:51.564Z"
   },
   {
    "duration": 9,
    "start_time": "2021-10-04T09:48:51.577Z"
   },
   {
    "duration": 327,
    "start_time": "2021-10-04T09:48:51.587Z"
   },
   {
    "duration": 266,
    "start_time": "2021-10-04T09:48:51.916Z"
   },
   {
    "duration": 371,
    "start_time": "2021-10-04T09:48:52.184Z"
   },
   {
    "duration": 362,
    "start_time": "2021-10-04T09:48:52.558Z"
   },
   {
    "duration": 9,
    "start_time": "2021-10-04T09:48:52.922Z"
   },
   {
    "duration": 245,
    "start_time": "2021-10-04T09:48:52.949Z"
   },
   {
    "duration": 115,
    "start_time": "2021-10-04T09:48:53.197Z"
   },
   {
    "duration": 339,
    "start_time": "2021-10-04T09:48:53.314Z"
   },
   {
    "duration": 5,
    "start_time": "2021-10-04T09:48:53.655Z"
   },
   {
    "duration": 357,
    "start_time": "2021-10-04T09:48:53.662Z"
   },
   {
    "duration": 4,
    "start_time": "2021-10-04T09:48:54.021Z"
   },
   {
    "duration": 23,
    "start_time": "2021-10-04T09:48:54.027Z"
   },
   {
    "duration": 11,
    "start_time": "2021-10-04T09:48:54.052Z"
   },
   {
    "duration": 16,
    "start_time": "2021-10-04T09:48:54.066Z"
   },
   {
    "duration": 92,
    "start_time": "2021-10-04T09:48:54.084Z"
   },
   {
    "duration": 101,
    "start_time": "2021-10-04T09:48:54.178Z"
   },
   {
    "duration": 8,
    "start_time": "2021-10-04T09:48:54.282Z"
   },
   {
    "duration": 11,
    "start_time": "2021-10-04T09:48:54.291Z"
   },
   {
    "duration": 11,
    "start_time": "2021-10-04T09:48:54.303Z"
   },
   {
    "duration": 41,
    "start_time": "2021-10-04T09:48:54.316Z"
   },
   {
    "duration": 15,
    "start_time": "2021-10-04T09:48:54.360Z"
   },
   {
    "duration": 14,
    "start_time": "2021-10-04T09:48:54.377Z"
   },
   {
    "duration": 13,
    "start_time": "2021-10-04T09:48:54.393Z"
   },
   {
    "duration": 81,
    "start_time": "2021-10-04T09:49:24.144Z"
   },
   {
    "duration": 10,
    "start_time": "2021-10-04T09:49:28.252Z"
   },
   {
    "duration": 17,
    "start_time": "2021-10-04T09:50:00.559Z"
   },
   {
    "duration": 19,
    "start_time": "2021-10-04T09:50:22.839Z"
   },
   {
    "duration": 11,
    "start_time": "2021-10-04T09:50:31.711Z"
   },
   {
    "duration": 14,
    "start_time": "2021-10-04T09:50:46.091Z"
   },
   {
    "duration": 17,
    "start_time": "2021-10-04T09:50:59.639Z"
   },
   {
    "duration": 14,
    "start_time": "2021-10-04T09:51:02.712Z"
   },
   {
    "duration": 15,
    "start_time": "2021-10-04T09:56:42.975Z"
   },
   {
    "duration": 15,
    "start_time": "2021-10-04T09:56:46.863Z"
   },
   {
    "duration": 25,
    "start_time": "2021-10-04T09:56:54.643Z"
   },
   {
    "duration": 15,
    "start_time": "2021-10-04T09:57:00.161Z"
   },
   {
    "duration": 16,
    "start_time": "2021-10-04T09:57:07.355Z"
   },
   {
    "duration": 13,
    "start_time": "2021-10-04T09:57:33.383Z"
   },
   {
    "duration": 14,
    "start_time": "2021-10-04T09:57:38.211Z"
   },
   {
    "duration": 11,
    "start_time": "2021-10-04T09:57:42.147Z"
   },
   {
    "duration": 23,
    "start_time": "2021-10-04T10:04:24.847Z"
   },
   {
    "duration": 1575,
    "start_time": "2021-10-06T07:14:47.571Z"
   },
   {
    "duration": 60,
    "start_time": "2021-10-06T07:14:49.148Z"
   },
   {
    "duration": 18,
    "start_time": "2021-10-06T07:14:49.211Z"
   },
   {
    "duration": 15,
    "start_time": "2021-10-06T07:14:49.232Z"
   },
   {
    "duration": 15,
    "start_time": "2021-10-06T07:14:49.250Z"
   },
   {
    "duration": 16,
    "start_time": "2021-10-06T07:14:49.268Z"
   },
   {
    "duration": 42,
    "start_time": "2021-10-06T07:14:49.287Z"
   },
   {
    "duration": 6,
    "start_time": "2021-10-06T07:14:49.332Z"
   },
   {
    "duration": 42,
    "start_time": "2021-10-06T07:14:49.342Z"
   },
   {
    "duration": 14,
    "start_time": "2021-10-06T07:14:49.387Z"
   },
   {
    "duration": 12,
    "start_time": "2021-10-06T07:14:49.404Z"
   },
   {
    "duration": 14,
    "start_time": "2021-10-06T07:14:49.419Z"
   },
   {
    "duration": 11,
    "start_time": "2021-10-06T07:14:49.435Z"
   },
   {
    "duration": 69,
    "start_time": "2021-10-06T07:14:49.448Z"
   },
   {
    "duration": 28,
    "start_time": "2021-10-06T07:14:49.520Z"
   },
   {
    "duration": 35,
    "start_time": "2021-10-06T07:14:49.551Z"
   },
   {
    "duration": 33,
    "start_time": "2021-10-06T07:14:49.588Z"
   },
   {
    "duration": 24,
    "start_time": "2021-10-06T07:14:49.624Z"
   },
   {
    "duration": 32,
    "start_time": "2021-10-06T07:14:49.651Z"
   },
   {
    "duration": 10,
    "start_time": "2021-10-06T07:14:49.686Z"
   },
   {
    "duration": 15,
    "start_time": "2021-10-06T07:14:49.699Z"
   },
   {
    "duration": 10,
    "start_time": "2021-10-06T07:14:49.716Z"
   },
   {
    "duration": 22,
    "start_time": "2021-10-06T07:14:49.734Z"
   },
   {
    "duration": 7,
    "start_time": "2021-10-06T07:14:49.785Z"
   },
   {
    "duration": 28,
    "start_time": "2021-10-06T07:14:49.794Z"
   },
   {
    "duration": 15,
    "start_time": "2021-10-06T07:14:49.825Z"
   },
   {
    "duration": 27,
    "start_time": "2021-10-06T07:14:49.843Z"
   },
   {
    "duration": 17,
    "start_time": "2021-10-06T07:14:49.883Z"
   },
   {
    "duration": 1608,
    "start_time": "2021-10-06T07:14:49.902Z"
   },
   {
    "duration": 19,
    "start_time": "2021-10-06T07:14:51.513Z"
   },
   {
    "duration": 36,
    "start_time": "2021-10-06T07:14:51.534Z"
   },
   {
    "duration": 467,
    "start_time": "2021-10-06T07:14:51.573Z"
   },
   {
    "duration": 371,
    "start_time": "2021-10-06T07:14:52.043Z"
   },
   {
    "duration": 12,
    "start_time": "2021-10-06T07:14:52.418Z"
   },
   {
    "duration": 25,
    "start_time": "2021-10-06T07:14:52.432Z"
   },
   {
    "duration": 24,
    "start_time": "2021-10-06T07:14:52.460Z"
   },
   {
    "duration": 646,
    "start_time": "2021-10-06T07:14:52.487Z"
   },
   {
    "duration": 478,
    "start_time": "2021-10-06T07:14:53.136Z"
   },
   {
    "duration": 608,
    "start_time": "2021-10-06T07:14:53.617Z"
   },
   {
    "duration": 627,
    "start_time": "2021-10-06T07:14:54.228Z"
   },
   {
    "duration": 25,
    "start_time": "2021-10-06T07:14:54.858Z"
   },
   {
    "duration": 490,
    "start_time": "2021-10-06T07:14:54.886Z"
   },
   {
    "duration": 311,
    "start_time": "2021-10-06T07:14:55.379Z"
   },
   {
    "duration": 441,
    "start_time": "2021-10-06T07:14:55.692Z"
   },
   {
    "duration": 7,
    "start_time": "2021-10-06T07:14:56.136Z"
   },
   {
    "duration": 496,
    "start_time": "2021-10-06T07:14:56.145Z"
   },
   {
    "duration": 6,
    "start_time": "2021-10-06T07:14:56.644Z"
   },
   {
    "duration": 36,
    "start_time": "2021-10-06T07:14:56.653Z"
   },
   {
    "duration": 14,
    "start_time": "2021-10-06T07:14:56.692Z"
   },
   {
    "duration": 22,
    "start_time": "2021-10-06T07:14:56.708Z"
   },
   {
    "duration": 121,
    "start_time": "2021-10-06T07:14:56.733Z"
   },
   {
    "duration": 199,
    "start_time": "2021-10-06T07:14:56.857Z"
   },
   {
    "duration": 11,
    "start_time": "2021-10-06T07:14:57.059Z"
   },
   {
    "duration": 15,
    "start_time": "2021-10-06T07:14:57.083Z"
   },
   {
    "duration": 17,
    "start_time": "2021-10-06T07:14:57.101Z"
   },
   {
    "duration": 18,
    "start_time": "2021-10-06T07:14:57.121Z"
   },
   {
    "duration": 57,
    "start_time": "2021-10-06T07:14:57.142Z"
   },
   {
    "duration": 20,
    "start_time": "2021-10-06T07:14:57.202Z"
   },
   {
    "duration": 1930,
    "start_time": "2021-10-06T07:15:17.744Z"
   },
   {
    "duration": 63,
    "start_time": "2021-10-06T07:15:19.677Z"
   },
   {
    "duration": 20,
    "start_time": "2021-10-06T07:15:19.743Z"
   },
   {
    "duration": 10,
    "start_time": "2021-10-06T07:15:19.766Z"
   },
   {
    "duration": 18,
    "start_time": "2021-10-06T07:15:19.779Z"
   },
   {
    "duration": 12,
    "start_time": "2021-10-06T07:15:19.799Z"
   },
   {
    "duration": 40,
    "start_time": "2021-10-06T07:15:19.814Z"
   },
   {
    "duration": 24,
    "start_time": "2021-10-06T07:15:19.859Z"
   },
   {
    "duration": 22,
    "start_time": "2021-10-06T07:15:19.886Z"
   },
   {
    "duration": 23,
    "start_time": "2021-10-06T07:15:19.910Z"
   },
   {
    "duration": 18,
    "start_time": "2021-10-06T07:15:19.935Z"
   },
   {
    "duration": 26,
    "start_time": "2021-10-06T07:15:19.955Z"
   },
   {
    "duration": 16,
    "start_time": "2021-10-06T07:15:19.983Z"
   },
   {
    "duration": 37,
    "start_time": "2021-10-06T07:15:20.001Z"
   },
   {
    "duration": 21,
    "start_time": "2021-10-06T07:15:20.040Z"
   },
   {
    "duration": 22,
    "start_time": "2021-10-06T07:15:20.063Z"
   },
   {
    "duration": 28,
    "start_time": "2021-10-06T07:15:20.088Z"
   },
   {
    "duration": 16,
    "start_time": "2021-10-06T07:15:20.119Z"
   },
   {
    "duration": 47,
    "start_time": "2021-10-06T07:15:20.137Z"
   },
   {
    "duration": 11,
    "start_time": "2021-10-06T07:15:20.187Z"
   },
   {
    "duration": 24,
    "start_time": "2021-10-06T07:15:20.201Z"
   },
   {
    "duration": 16,
    "start_time": "2021-10-06T07:15:20.227Z"
   },
   {
    "duration": 37,
    "start_time": "2021-10-06T07:15:20.251Z"
   },
   {
    "duration": 14,
    "start_time": "2021-10-06T07:15:20.291Z"
   },
   {
    "duration": 12,
    "start_time": "2021-10-06T07:15:20.308Z"
   },
   {
    "duration": 18,
    "start_time": "2021-10-06T07:15:20.323Z"
   },
   {
    "duration": 46,
    "start_time": "2021-10-06T07:15:20.344Z"
   },
   {
    "duration": 23,
    "start_time": "2021-10-06T07:15:20.393Z"
   },
   {
    "duration": 1580,
    "start_time": "2021-10-06T07:15:20.418Z"
   },
   {
    "duration": 19,
    "start_time": "2021-10-06T07:15:22.001Z"
   },
   {
    "duration": 35,
    "start_time": "2021-10-06T07:15:22.022Z"
   },
   {
    "duration": 475,
    "start_time": "2021-10-06T07:15:22.060Z"
   },
   {
    "duration": 351,
    "start_time": "2021-10-06T07:15:22.538Z"
   },
   {
    "duration": 11,
    "start_time": "2021-10-06T07:15:22.892Z"
   },
   {
    "duration": 23,
    "start_time": "2021-10-06T07:15:22.906Z"
   },
   {
    "duration": 13,
    "start_time": "2021-10-06T07:15:22.932Z"
   },
   {
    "duration": 673,
    "start_time": "2021-10-06T07:15:22.947Z"
   },
   {
    "duration": 403,
    "start_time": "2021-10-06T07:15:23.623Z"
   },
   {
    "duration": 658,
    "start_time": "2021-10-06T07:15:24.028Z"
   },
   {
    "duration": 630,
    "start_time": "2021-10-06T07:15:24.689Z"
   },
   {
    "duration": 15,
    "start_time": "2021-10-06T07:15:25.322Z"
   },
   {
    "duration": 383,
    "start_time": "2021-10-06T07:15:25.340Z"
   },
   {
    "duration": 218,
    "start_time": "2021-10-06T07:15:25.725Z"
   },
   {
    "duration": 466,
    "start_time": "2021-10-06T07:15:25.946Z"
   },
   {
    "duration": 5,
    "start_time": "2021-10-06T07:15:26.415Z"
   },
   {
    "duration": 467,
    "start_time": "2021-10-06T07:15:26.423Z"
   },
   {
    "duration": 5,
    "start_time": "2021-10-06T07:15:26.893Z"
   },
   {
    "duration": 19,
    "start_time": "2021-10-06T07:15:26.900Z"
   },
   {
    "duration": 12,
    "start_time": "2021-10-06T07:15:26.922Z"
   },
   {
    "duration": 54,
    "start_time": "2021-10-06T07:15:26.937Z"
   },
   {
    "duration": 127,
    "start_time": "2021-10-06T07:15:26.994Z"
   },
   {
    "duration": 142,
    "start_time": "2021-10-06T07:15:27.124Z"
   },
   {
    "duration": 20,
    "start_time": "2021-10-06T07:15:27.269Z"
   },
   {
    "duration": 11,
    "start_time": "2021-10-06T07:15:27.292Z"
   },
   {
    "duration": 14,
    "start_time": "2021-10-06T07:15:27.306Z"
   },
   {
    "duration": 14,
    "start_time": "2021-10-06T07:15:27.323Z"
   },
   {
    "duration": 59,
    "start_time": "2021-10-06T07:15:27.340Z"
   },
   {
    "duration": 24,
    "start_time": "2021-10-06T07:15:27.401Z"
   },
   {
    "duration": 13,
    "start_time": "2021-10-06T07:16:46.086Z"
   },
   {
    "duration": 23,
    "start_time": "2021-10-06T07:18:07.345Z"
   },
   {
    "duration": 115,
    "start_time": "2021-10-06T07:29:13.396Z"
   },
   {
    "duration": 1464,
    "start_time": "2021-10-06T07:34:40.191Z"
   },
   {
    "duration": 63,
    "start_time": "2021-10-06T07:34:41.658Z"
   },
   {
    "duration": 22,
    "start_time": "2021-10-06T07:34:41.724Z"
   },
   {
    "duration": 9,
    "start_time": "2021-10-06T07:34:41.749Z"
   },
   {
    "duration": 8,
    "start_time": "2021-10-06T07:34:41.760Z"
   },
   {
    "duration": 8,
    "start_time": "2021-10-06T07:34:41.771Z"
   },
   {
    "duration": 33,
    "start_time": "2021-10-06T07:34:41.781Z"
   },
   {
    "duration": 5,
    "start_time": "2021-10-06T07:34:41.818Z"
   },
   {
    "duration": 12,
    "start_time": "2021-10-06T07:34:41.826Z"
   },
   {
    "duration": 17,
    "start_time": "2021-10-06T07:34:41.840Z"
   },
   {
    "duration": 14,
    "start_time": "2021-10-06T07:34:41.859Z"
   },
   {
    "duration": 17,
    "start_time": "2021-10-06T07:34:41.876Z"
   },
   {
    "duration": 11,
    "start_time": "2021-10-06T07:34:41.895Z"
   },
   {
    "duration": 36,
    "start_time": "2021-10-06T07:34:41.908Z"
   },
   {
    "duration": 25,
    "start_time": "2021-10-06T07:34:41.946Z"
   },
   {
    "duration": 10,
    "start_time": "2021-10-06T07:34:41.974Z"
   },
   {
    "duration": 20,
    "start_time": "2021-10-06T07:34:41.987Z"
   },
   {
    "duration": 21,
    "start_time": "2021-10-06T07:34:42.009Z"
   },
   {
    "duration": 21,
    "start_time": "2021-10-06T07:34:42.033Z"
   },
   {
    "duration": 15,
    "start_time": "2021-10-06T07:34:42.056Z"
   },
   {
    "duration": 10,
    "start_time": "2021-10-06T07:34:42.074Z"
   },
   {
    "duration": 12,
    "start_time": "2021-10-06T07:34:42.087Z"
   },
   {
    "duration": 20,
    "start_time": "2021-10-06T07:34:42.106Z"
   },
   {
    "duration": 9,
    "start_time": "2021-10-06T07:34:42.130Z"
   },
   {
    "duration": 14,
    "start_time": "2021-10-06T07:34:42.142Z"
   },
   {
    "duration": 14,
    "start_time": "2021-10-06T07:34:42.159Z"
   },
   {
    "duration": 31,
    "start_time": "2021-10-06T07:34:42.176Z"
   },
   {
    "duration": 22,
    "start_time": "2021-10-06T07:34:42.209Z"
   },
   {
    "duration": 1384,
    "start_time": "2021-10-06T07:34:42.234Z"
   },
   {
    "duration": 14,
    "start_time": "2021-10-06T07:34:43.620Z"
   },
   {
    "duration": 57,
    "start_time": "2021-10-06T07:34:43.636Z"
   },
   {
    "duration": 686,
    "start_time": "2021-10-06T07:34:43.696Z"
   },
   {
    "duration": 273,
    "start_time": "2021-10-06T07:34:44.385Z"
   },
   {
    "duration": 25,
    "start_time": "2021-10-06T07:34:44.661Z"
   },
   {
    "duration": 20,
    "start_time": "2021-10-06T07:34:44.690Z"
   },
   {
    "duration": 12,
    "start_time": "2021-10-06T07:34:44.713Z"
   },
   {
    "duration": 469,
    "start_time": "2021-10-06T07:34:44.728Z"
   },
   {
    "duration": 417,
    "start_time": "2021-10-06T07:34:45.200Z"
   },
   {
    "duration": 617,
    "start_time": "2021-10-06T07:34:45.620Z"
   },
   {
    "duration": 653,
    "start_time": "2021-10-06T07:34:46.240Z"
   },
   {
    "duration": 15,
    "start_time": "2021-10-06T07:34:46.896Z"
   },
   {
    "duration": 379,
    "start_time": "2021-10-06T07:34:46.914Z"
   },
   {
    "duration": 204,
    "start_time": "2021-10-06T07:34:47.296Z"
   },
   {
    "duration": 448,
    "start_time": "2021-10-06T07:34:47.503Z"
   },
   {
    "duration": 8,
    "start_time": "2021-10-06T07:34:47.954Z"
   },
   {
    "duration": 514,
    "start_time": "2021-10-06T07:34:47.983Z"
   },
   {
    "duration": 6,
    "start_time": "2021-10-06T07:34:48.501Z"
   },
   {
    "duration": 18,
    "start_time": "2021-10-06T07:34:48.511Z"
   },
   {
    "duration": 50,
    "start_time": "2021-10-06T07:34:48.532Z"
   },
   {
    "duration": 18,
    "start_time": "2021-10-06T07:34:48.584Z"
   },
   {
    "duration": 128,
    "start_time": "2021-10-06T07:34:48.604Z"
   },
   {
    "duration": 174,
    "start_time": "2021-10-06T07:34:48.734Z"
   },
   {
    "duration": 8,
    "start_time": "2021-10-06T07:34:48.910Z"
   },
   {
    "duration": 16,
    "start_time": "2021-10-06T07:34:48.920Z"
   },
   {
    "duration": 45,
    "start_time": "2021-10-06T07:34:48.939Z"
   },
   {
    "duration": 13,
    "start_time": "2021-10-06T07:34:48.986Z"
   },
   {
    "duration": 31,
    "start_time": "2021-10-06T07:34:49.001Z"
   },
   {
    "duration": 20,
    "start_time": "2021-10-06T07:34:49.035Z"
   },
   {
    "duration": 722,
    "start_time": "2021-10-06T07:36:24.852Z"
   },
   {
    "duration": 97,
    "start_time": "2021-10-06T07:36:30.039Z"
   },
   {
    "duration": 25,
    "start_time": "2021-10-06T07:36:34.100Z"
   },
   {
    "duration": 20,
    "start_time": "2021-10-06T07:36:55.012Z"
   },
   {
    "duration": 1573,
    "start_time": "2021-10-06T07:39:27.462Z"
   },
   {
    "duration": 58,
    "start_time": "2021-10-06T07:39:29.038Z"
   },
   {
    "duration": 16,
    "start_time": "2021-10-06T07:39:29.099Z"
   },
   {
    "duration": 9,
    "start_time": "2021-10-06T07:39:29.118Z"
   },
   {
    "duration": 15,
    "start_time": "2021-10-06T07:39:29.130Z"
   },
   {
    "duration": 36,
    "start_time": "2021-10-06T07:39:29.149Z"
   },
   {
    "duration": 32,
    "start_time": "2021-10-06T07:39:29.188Z"
   },
   {
    "duration": 5,
    "start_time": "2021-10-06T07:39:29.224Z"
   },
   {
    "duration": 50,
    "start_time": "2021-10-06T07:39:29.232Z"
   },
   {
    "duration": 19,
    "start_time": "2021-10-06T07:39:29.286Z"
   },
   {
    "duration": 12,
    "start_time": "2021-10-06T07:39:29.308Z"
   },
   {
    "duration": 11,
    "start_time": "2021-10-06T07:39:29.324Z"
   },
   {
    "duration": 7,
    "start_time": "2021-10-06T07:39:29.339Z"
   },
   {
    "duration": 34,
    "start_time": "2021-10-06T07:39:29.384Z"
   },
   {
    "duration": 30,
    "start_time": "2021-10-06T07:39:29.421Z"
   },
   {
    "duration": 7,
    "start_time": "2021-10-06T07:39:29.483Z"
   },
   {
    "duration": 32,
    "start_time": "2021-10-06T07:39:29.493Z"
   },
   {
    "duration": 12,
    "start_time": "2021-10-06T07:39:29.527Z"
   },
   {
    "duration": 48,
    "start_time": "2021-10-06T07:39:29.542Z"
   },
   {
    "duration": 13,
    "start_time": "2021-10-06T07:39:29.593Z"
   },
   {
    "duration": 12,
    "start_time": "2021-10-06T07:39:29.610Z"
   },
   {
    "duration": 23,
    "start_time": "2021-10-06T07:39:29.625Z"
   },
   {
    "duration": 40,
    "start_time": "2021-10-06T07:39:29.655Z"
   },
   {
    "duration": 6,
    "start_time": "2021-10-06T07:39:29.700Z"
   },
   {
    "duration": 9,
    "start_time": "2021-10-06T07:39:29.709Z"
   },
   {
    "duration": 14,
    "start_time": "2021-10-06T07:39:29.721Z"
   },
   {
    "duration": 67,
    "start_time": "2021-10-06T07:39:29.739Z"
   },
   {
    "duration": 19,
    "start_time": "2021-10-06T07:39:29.808Z"
   },
   {
    "duration": 1279,
    "start_time": "2021-10-06T07:39:29.829Z"
   },
   {
    "duration": 13,
    "start_time": "2021-10-06T07:39:31.111Z"
   },
   {
    "duration": 23,
    "start_time": "2021-10-06T07:39:31.126Z"
   },
   {
    "duration": 355,
    "start_time": "2021-10-06T07:39:31.151Z"
   },
   {
    "duration": 273,
    "start_time": "2021-10-06T07:39:31.509Z"
   },
   {
    "duration": 9,
    "start_time": "2021-10-06T07:39:31.785Z"
   },
   {
    "duration": 19,
    "start_time": "2021-10-06T07:39:31.796Z"
   },
   {
    "duration": 13,
    "start_time": "2021-10-06T07:39:31.817Z"
   },
   {
    "duration": 473,
    "start_time": "2021-10-06T07:39:31.833Z"
   },
   {
    "duration": 403,
    "start_time": "2021-10-06T07:39:32.308Z"
   },
   {
    "duration": 494,
    "start_time": "2021-10-06T07:39:32.714Z"
   },
   {
    "duration": 536,
    "start_time": "2021-10-06T07:39:33.211Z"
   },
   {
    "duration": 12,
    "start_time": "2021-10-06T07:39:33.750Z"
   },
   {
    "duration": 389,
    "start_time": "2021-10-06T07:39:33.783Z"
   },
   {
    "duration": 201,
    "start_time": "2021-10-06T07:39:34.182Z"
   },
   {
    "duration": 456,
    "start_time": "2021-10-06T07:39:34.386Z"
   },
   {
    "duration": 7,
    "start_time": "2021-10-06T07:39:34.845Z"
   },
   {
    "duration": 496,
    "start_time": "2021-10-06T07:39:34.854Z"
   },
   {
    "duration": 7,
    "start_time": "2021-10-06T07:39:35.353Z"
   },
   {
    "duration": 28,
    "start_time": "2021-10-06T07:39:35.362Z"
   },
   {
    "duration": 12,
    "start_time": "2021-10-06T07:39:35.392Z"
   },
   {
    "duration": 18,
    "start_time": "2021-10-06T07:39:35.407Z"
   },
   {
    "duration": 142,
    "start_time": "2021-10-06T07:39:35.427Z"
   },
   {
    "duration": 151,
    "start_time": "2021-10-06T07:39:35.571Z"
   },
   {
    "duration": 10,
    "start_time": "2021-10-06T07:39:35.725Z"
   },
   {
    "duration": 22,
    "start_time": "2021-10-06T07:39:35.738Z"
   },
   {
    "duration": 33,
    "start_time": "2021-10-06T07:39:35.763Z"
   },
   {
    "duration": 17,
    "start_time": "2021-10-06T07:39:35.799Z"
   },
   {
    "duration": 40,
    "start_time": "2021-10-06T07:39:35.819Z"
   },
   {
    "duration": 37,
    "start_time": "2021-10-06T07:39:35.862Z"
   },
   {
    "duration": 457,
    "start_time": "2021-10-06T21:42:27.687Z"
   },
   {
    "duration": 2211,
    "start_time": "2021-10-06T21:42:33.684Z"
   },
   {
    "duration": 59,
    "start_time": "2021-10-06T21:42:35.898Z"
   },
   {
    "duration": 18,
    "start_time": "2021-10-06T21:42:35.965Z"
   },
   {
    "duration": 10,
    "start_time": "2021-10-06T21:42:35.986Z"
   },
   {
    "duration": 10,
    "start_time": "2021-10-06T21:42:36.000Z"
   },
   {
    "duration": 51,
    "start_time": "2021-10-06T21:42:36.012Z"
   },
   {
    "duration": 29,
    "start_time": "2021-10-06T21:42:36.067Z"
   },
   {
    "duration": 6,
    "start_time": "2021-10-06T21:42:36.099Z"
   },
   {
    "duration": 15,
    "start_time": "2021-10-06T21:42:36.107Z"
   },
   {
    "duration": 46,
    "start_time": "2021-10-06T21:42:36.125Z"
   },
   {
    "duration": 10,
    "start_time": "2021-10-06T21:42:36.174Z"
   },
   {
    "duration": 9,
    "start_time": "2021-10-06T21:42:36.186Z"
   },
   {
    "duration": 8,
    "start_time": "2021-10-06T21:42:36.198Z"
   },
   {
    "duration": 72,
    "start_time": "2021-10-06T21:42:36.208Z"
   },
   {
    "duration": 19,
    "start_time": "2021-10-06T21:42:36.282Z"
   },
   {
    "duration": 11,
    "start_time": "2021-10-06T21:42:36.303Z"
   },
   {
    "duration": 23,
    "start_time": "2021-10-06T21:42:36.316Z"
   },
   {
    "duration": 13,
    "start_time": "2021-10-06T21:42:36.363Z"
   },
   {
    "duration": 22,
    "start_time": "2021-10-06T21:42:36.378Z"
   },
   {
    "duration": 14,
    "start_time": "2021-10-06T21:42:36.402Z"
   },
   {
    "duration": 14,
    "start_time": "2021-10-06T21:42:36.418Z"
   },
   {
    "duration": 32,
    "start_time": "2021-10-06T21:42:36.439Z"
   },
   {
    "duration": 21,
    "start_time": "2021-10-06T21:42:36.475Z"
   },
   {
    "duration": 6,
    "start_time": "2021-10-06T21:42:36.498Z"
   },
   {
    "duration": 9,
    "start_time": "2021-10-06T21:42:36.506Z"
   },
   {
    "duration": 46,
    "start_time": "2021-10-06T21:42:36.517Z"
   },
   {
    "duration": 19,
    "start_time": "2021-10-06T21:42:36.566Z"
   },
   {
    "duration": 18,
    "start_time": "2021-10-06T21:42:36.587Z"
   },
   {
    "duration": 1461,
    "start_time": "2021-10-06T21:42:36.607Z"
   },
   {
    "duration": 13,
    "start_time": "2021-10-06T21:42:38.071Z"
   },
   {
    "duration": 18,
    "start_time": "2021-10-06T21:42:38.087Z"
   },
   {
    "duration": 489,
    "start_time": "2021-10-06T21:42:38.163Z"
   },
   {
    "duration": 276,
    "start_time": "2021-10-06T21:42:38.655Z"
   },
   {
    "duration": 28,
    "start_time": "2021-10-06T21:42:38.934Z"
   },
   {
    "duration": 14,
    "start_time": "2021-10-06T21:42:38.964Z"
   },
   {
    "duration": 9,
    "start_time": "2021-10-06T21:42:38.980Z"
   },
   {
    "duration": 499,
    "start_time": "2021-10-06T21:42:38.991Z"
   },
   {
    "duration": 405,
    "start_time": "2021-10-06T21:42:39.493Z"
   },
   {
    "duration": 512,
    "start_time": "2021-10-06T21:42:39.900Z"
   },
   {
    "duration": 509,
    "start_time": "2021-10-06T21:42:40.414Z"
   },
   {
    "duration": 12,
    "start_time": "2021-10-06T21:42:40.926Z"
   },
   {
    "duration": 397,
    "start_time": "2021-10-06T21:42:40.940Z"
   },
   {
    "duration": 249,
    "start_time": "2021-10-06T21:42:41.339Z"
   },
   {
    "duration": 442,
    "start_time": "2021-10-06T21:42:41.590Z"
   },
   {
    "duration": 5,
    "start_time": "2021-10-06T21:42:42.034Z"
   },
   {
    "duration": 511,
    "start_time": "2021-10-06T21:42:42.042Z"
   },
   {
    "duration": 10,
    "start_time": "2021-10-06T21:42:42.556Z"
   },
   {
    "duration": 16,
    "start_time": "2021-10-06T21:42:42.569Z"
   },
   {
    "duration": 16,
    "start_time": "2021-10-06T21:42:42.587Z"
   },
   {
    "duration": 17,
    "start_time": "2021-10-06T21:42:42.606Z"
   },
   {
    "duration": 162,
    "start_time": "2021-10-06T21:42:42.625Z"
   },
   {
    "duration": 153,
    "start_time": "2021-10-06T21:42:42.789Z"
   },
   {
    "duration": 21,
    "start_time": "2021-10-06T21:42:42.944Z"
   },
   {
    "duration": 13,
    "start_time": "2021-10-06T21:42:42.968Z"
   },
   {
    "duration": 16,
    "start_time": "2021-10-06T21:42:42.983Z"
   },
   {
    "duration": 14,
    "start_time": "2021-10-06T21:42:43.001Z"
   },
   {
    "duration": 59,
    "start_time": "2021-10-06T21:42:43.018Z"
   },
   {
    "duration": 21,
    "start_time": "2021-10-06T21:42:43.080Z"
   },
   {
    "duration": 22,
    "start_time": "2021-10-06T21:43:41.652Z"
   },
   {
    "duration": 15,
    "start_time": "2021-10-06T21:43:54.748Z"
   },
   {
    "duration": 114,
    "start_time": "2021-10-06T21:45:54.536Z"
   },
   {
    "duration": 123,
    "start_time": "2021-10-06T21:46:05.813Z"
   },
   {
    "duration": 102,
    "start_time": "2021-10-06T21:49:44.540Z"
   },
   {
    "duration": 92,
    "start_time": "2021-10-06T21:49:54.344Z"
   },
   {
    "duration": 12,
    "start_time": "2021-10-06T21:50:44.648Z"
   },
   {
    "duration": 21,
    "start_time": "2021-10-06T21:50:55.340Z"
   },
   {
    "duration": 13,
    "start_time": "2021-10-06T21:51:46.524Z"
   },
   {
    "duration": 13,
    "start_time": "2021-10-06T21:51:54.808Z"
   },
   {
    "duration": 9663,
    "start_time": "2021-10-06T21:55:55.160Z"
   },
   {
    "duration": 643,
    "start_time": "2021-10-06T21:56:27.407Z"
   },
   {
    "duration": 638,
    "start_time": "2021-10-06T21:56:27.413Z"
   },
   {
    "duration": 21,
    "start_time": "2021-10-06T21:56:45.592Z"
   },
   {
    "duration": 13,
    "start_time": "2021-10-06T21:56:46.612Z"
   },
   {
    "duration": 290,
    "start_time": "2021-10-06T21:59:16.688Z"
   },
   {
    "duration": 336,
    "start_time": "2021-10-06T21:59:34.936Z"
   },
   {
    "duration": 114,
    "start_time": "2021-10-06T22:01:17.284Z"
   },
   {
    "duration": 122,
    "start_time": "2021-10-06T22:01:26.960Z"
   },
   {
    "duration": 8916,
    "start_time": "2021-10-06T22:09:06.755Z"
   },
   {
    "duration": 4496,
    "start_time": "2021-10-06T22:09:22.092Z"
   },
   {
    "duration": 4113,
    "start_time": "2021-10-06T22:09:39.319Z"
   },
   {
    "duration": 331,
    "start_time": "2021-10-06T22:10:07.860Z"
   },
   {
    "duration": 284,
    "start_time": "2021-10-06T22:10:28.111Z"
   },
   {
    "duration": 331,
    "start_time": "2021-10-06T22:10:34.148Z"
   },
   {
    "duration": 180,
    "start_time": "2021-10-06T22:10:50.279Z"
   },
   {
    "duration": 106,
    "start_time": "2021-10-06T22:10:55.312Z"
   },
   {
    "duration": 667,
    "start_time": "2021-10-06T22:10:59.363Z"
   },
   {
    "duration": 807,
    "start_time": "2021-10-06T22:14:54.512Z"
   },
   {
    "duration": 111,
    "start_time": "2021-10-06T22:15:42.252Z"
   },
   {
    "duration": 106,
    "start_time": "2021-10-06T22:16:01.588Z"
   },
   {
    "duration": 625,
    "start_time": "2021-10-06T22:16:06.776Z"
   },
   {
    "duration": 107,
    "start_time": "2021-10-06T22:16:15.012Z"
   },
   {
    "duration": 1232,
    "start_time": "2021-10-06T22:16:30.088Z"
   },
   {
    "duration": 163,
    "start_time": "2021-10-06T22:18:25.787Z"
   },
   {
    "duration": 116,
    "start_time": "2021-10-06T22:18:28.667Z"
   },
   {
    "duration": 395,
    "start_time": "2021-10-06T22:18:41.195Z"
   },
   {
    "duration": 353,
    "start_time": "2021-10-06T22:18:51.207Z"
   },
   {
    "duration": 326,
    "start_time": "2021-10-06T22:24:00.583Z"
   },
   {
    "duration": 345,
    "start_time": "2021-10-06T22:24:15.711Z"
   },
   {
    "duration": 394,
    "start_time": "2021-10-06T22:26:43.668Z"
   },
   {
    "duration": 342,
    "start_time": "2021-10-06T22:27:03.827Z"
   },
   {
    "duration": 407,
    "start_time": "2021-10-06T22:27:09.407Z"
   },
   {
    "duration": 322,
    "start_time": "2021-10-06T22:27:27.103Z"
   },
   {
    "duration": 309,
    "start_time": "2021-10-06T22:27:44.943Z"
   },
   {
    "duration": 318,
    "start_time": "2021-10-06T22:34:20.495Z"
   },
   {
    "duration": 533,
    "start_time": "2021-10-06T22:34:29.679Z"
   },
   {
    "duration": 900,
    "start_time": "2021-10-06T22:34:46.147Z"
   },
   {
    "duration": 108,
    "start_time": "2021-10-06T22:34:55.019Z"
   },
   {
    "duration": 168,
    "start_time": "2021-10-06T22:34:58.455Z"
   },
   {
    "duration": 558,
    "start_time": "2021-10-06T22:35:01.615Z"
   },
   {
    "duration": 563,
    "start_time": "2021-10-06T22:35:05.819Z"
   },
   {
    "duration": 530,
    "start_time": "2021-10-06T22:35:45.495Z"
   },
   {
    "duration": 68,
    "start_time": "2021-10-06T22:36:16.809Z"
   },
   {
    "duration": 45,
    "start_time": "2021-10-06T22:36:20.903Z"
   },
   {
    "duration": 47,
    "start_time": "2021-10-06T22:36:51.072Z"
   },
   {
    "duration": 595,
    "start_time": "2021-10-06T22:37:04.227Z"
   },
   {
    "duration": 759,
    "start_time": "2021-10-06T22:37:06.483Z"
   },
   {
    "duration": 494,
    "start_time": "2021-10-06T22:37:11.311Z"
   },
   {
    "duration": 11,
    "start_time": "2021-10-06T22:39:50.527Z"
   },
   {
    "duration": 347,
    "start_time": "2021-10-06T22:40:01.593Z"
   },
   {
    "duration": 11,
    "start_time": "2021-10-06T22:40:05.731Z"
   },
   {
    "duration": 337,
    "start_time": "2021-10-06T22:40:14.539Z"
   },
   {
    "duration": 303,
    "start_time": "2021-10-06T22:40:21.891Z"
   },
   {
    "duration": 365,
    "start_time": "2021-10-06T22:40:29.551Z"
   },
   {
    "duration": 338,
    "start_time": "2021-10-06T22:40:34.911Z"
   },
   {
    "duration": 11,
    "start_time": "2021-10-06T22:40:39.259Z"
   },
   {
    "duration": 111,
    "start_time": "2021-10-06T22:40:48.408Z"
   },
   {
    "duration": 108,
    "start_time": "2021-10-06T22:40:51.083Z"
   },
   {
    "duration": 10,
    "start_time": "2021-10-06T22:40:59.072Z"
   },
   {
    "duration": 10,
    "start_time": "2021-10-06T22:41:05.411Z"
   },
   {
    "duration": 11,
    "start_time": "2021-10-06T22:41:14.190Z"
   },
   {
    "duration": 11,
    "start_time": "2021-10-06T22:41:52.667Z"
   },
   {
    "duration": 350,
    "start_time": "2021-10-06T22:42:10.594Z"
   },
   {
    "duration": 9,
    "start_time": "2021-10-06T22:42:30.787Z"
   },
   {
    "duration": 336,
    "start_time": "2021-10-06T22:47:20.475Z"
   },
   {
    "duration": 363,
    "start_time": "2021-10-06T22:47:25.207Z"
   },
   {
    "duration": 10,
    "start_time": "2021-10-06T23:08:07.898Z"
   },
   {
    "duration": 114,
    "start_time": "2021-10-06T23:09:16.966Z"
   },
   {
    "duration": 21,
    "start_time": "2021-10-06T23:09:21.138Z"
   },
   {
    "duration": 8816,
    "start_time": "2021-10-06T23:16:44.909Z"
   },
   {
    "duration": 22,
    "start_time": "2021-10-06T23:17:26.446Z"
   },
   {
    "duration": 12,
    "start_time": "2021-10-06T23:17:44.106Z"
   },
   {
    "duration": 22,
    "start_time": "2021-10-06T23:18:00.178Z"
   },
   {
    "duration": 13,
    "start_time": "2021-10-06T23:18:19.510Z"
   },
   {
    "duration": 13,
    "start_time": "2021-10-06T23:18:29.770Z"
   },
   {
    "duration": 349,
    "start_time": "2021-10-06T23:18:59.317Z"
   },
   {
    "duration": 23,
    "start_time": "2021-10-06T23:19:03.598Z"
   },
   {
    "duration": 104,
    "start_time": "2021-10-06T23:19:21.746Z"
   },
   {
    "duration": 23,
    "start_time": "2021-10-06T23:19:27.862Z"
   },
   {
    "duration": 21,
    "start_time": "2021-10-06T23:19:47.081Z"
   },
   {
    "duration": 22,
    "start_time": "2021-10-06T23:20:22.525Z"
   },
   {
    "duration": 341,
    "start_time": "2021-10-06T23:20:28.722Z"
   },
   {
    "duration": 14,
    "start_time": "2021-10-06T23:20:33.734Z"
   },
   {
    "duration": 352,
    "start_time": "2021-10-06T23:20:59.321Z"
   },
   {
    "duration": 1253,
    "start_time": "2021-10-06T23:21:09.409Z"
   },
   {
    "duration": 13,
    "start_time": "2021-10-06T23:21:13.025Z"
   },
   {
    "duration": 1058,
    "start_time": "2021-10-06T23:22:50.365Z"
   },
   {
    "duration": 6,
    "start_time": "2021-10-06T23:22:58.354Z"
   },
   {
    "duration": 6,
    "start_time": "2021-10-06T23:23:05.085Z"
   },
   {
    "duration": 11,
    "start_time": "2021-10-06T23:23:22.701Z"
   },
   {
    "duration": 10,
    "start_time": "2021-10-06T23:23:36.558Z"
   },
   {
    "duration": 9,
    "start_time": "2021-10-06T23:23:45.338Z"
   },
   {
    "duration": 10,
    "start_time": "2021-10-06T23:23:54.489Z"
   },
   {
    "duration": 9,
    "start_time": "2021-10-06T23:24:05.117Z"
   },
   {
    "duration": 13,
    "start_time": "2021-10-06T23:24:12.766Z"
   },
   {
    "duration": 14,
    "start_time": "2021-10-06T23:24:20.349Z"
   },
   {
    "duration": 13,
    "start_time": "2021-10-06T23:24:26.210Z"
   },
   {
    "duration": 9,
    "start_time": "2021-10-06T23:24:44.714Z"
   },
   {
    "duration": 339,
    "start_time": "2021-10-06T23:24:53.469Z"
   },
   {
    "duration": 10,
    "start_time": "2021-10-06T23:25:00.905Z"
   },
   {
    "duration": 8,
    "start_time": "2021-10-06T23:25:17.246Z"
   },
   {
    "duration": 361,
    "start_time": "2021-10-06T23:25:44.381Z"
   },
   {
    "duration": 12,
    "start_time": "2021-10-06T23:25:49.281Z"
   },
   {
    "duration": 15,
    "start_time": "2021-10-06T23:25:54.089Z"
   },
   {
    "duration": 13,
    "start_time": "2021-10-06T23:26:23.013Z"
   },
   {
    "duration": 1123,
    "start_time": "2021-10-07T07:34:31.654Z"
   },
   {
    "duration": 69,
    "start_time": "2021-10-07T07:34:32.779Z"
   },
   {
    "duration": 14,
    "start_time": "2021-10-07T07:34:32.851Z"
   },
   {
    "duration": 9,
    "start_time": "2021-10-07T07:34:32.867Z"
   },
   {
    "duration": 6,
    "start_time": "2021-10-07T07:34:32.878Z"
   },
   {
    "duration": 8,
    "start_time": "2021-10-07T07:34:32.885Z"
   },
   {
    "duration": 24,
    "start_time": "2021-10-07T07:34:32.894Z"
   },
   {
    "duration": 27,
    "start_time": "2021-10-07T07:34:32.921Z"
   },
   {
    "duration": 12,
    "start_time": "2021-10-07T07:34:32.951Z"
   },
   {
    "duration": 9,
    "start_time": "2021-10-07T07:34:32.964Z"
   },
   {
    "duration": 7,
    "start_time": "2021-10-07T07:34:32.974Z"
   },
   {
    "duration": 7,
    "start_time": "2021-10-07T07:34:32.982Z"
   },
   {
    "duration": 4,
    "start_time": "2021-10-07T07:34:32.990Z"
   },
   {
    "duration": 22,
    "start_time": "2021-10-07T07:34:32.996Z"
   },
   {
    "duration": 41,
    "start_time": "2021-10-07T07:34:33.020Z"
   },
   {
    "duration": 9,
    "start_time": "2021-10-07T07:34:33.063Z"
   },
   {
    "duration": 8,
    "start_time": "2021-10-07T07:34:33.074Z"
   },
   {
    "duration": 7,
    "start_time": "2021-10-07T07:34:33.084Z"
   },
   {
    "duration": 7,
    "start_time": "2021-10-07T07:34:33.092Z"
   },
   {
    "duration": 6,
    "start_time": "2021-10-07T07:34:33.101Z"
   },
   {
    "duration": 37,
    "start_time": "2021-10-07T07:34:33.109Z"
   },
   {
    "duration": 16,
    "start_time": "2021-10-07T07:34:33.148Z"
   },
   {
    "duration": 4,
    "start_time": "2021-10-07T07:34:33.168Z"
   },
   {
    "duration": 6,
    "start_time": "2021-10-07T07:34:33.175Z"
   },
   {
    "duration": 20,
    "start_time": "2021-10-07T07:34:33.183Z"
   },
   {
    "duration": 21,
    "start_time": "2021-10-07T07:34:33.205Z"
   },
   {
    "duration": 20,
    "start_time": "2021-10-07T07:34:33.244Z"
   },
   {
    "duration": 1124,
    "start_time": "2021-10-07T07:34:33.266Z"
   },
   {
    "duration": 59,
    "start_time": "2021-10-07T07:34:34.392Z"
   },
   {
    "duration": 13,
    "start_time": "2021-10-07T07:34:34.455Z"
   },
   {
    "duration": 325,
    "start_time": "2021-10-07T07:34:34.470Z"
   },
   {
    "duration": 180,
    "start_time": "2021-10-07T07:34:34.797Z"
   },
   {
    "duration": 6,
    "start_time": "2021-10-07T07:34:34.979Z"
   },
   {
    "duration": 12,
    "start_time": "2021-10-07T07:34:34.987Z"
   },
   {
    "duration": 4,
    "start_time": "2021-10-07T07:34:35.001Z"
   },
   {
    "duration": 309,
    "start_time": "2021-10-07T07:34:35.007Z"
   },
   {
    "duration": 258,
    "start_time": "2021-10-07T07:34:35.318Z"
   },
   {
    "duration": 348,
    "start_time": "2021-10-07T07:34:35.578Z"
   },
   {
    "duration": 335,
    "start_time": "2021-10-07T07:34:35.928Z"
   },
   {
    "duration": 8,
    "start_time": "2021-10-07T07:34:36.265Z"
   },
   {
    "duration": 235,
    "start_time": "2021-10-07T07:34:36.275Z"
   },
   {
    "duration": 123,
    "start_time": "2021-10-07T07:34:36.512Z"
   },
   {
    "duration": 353,
    "start_time": "2021-10-07T07:34:36.646Z"
   },
   {
    "duration": 4,
    "start_time": "2021-10-07T07:34:37.001Z"
   },
   {
    "duration": 379,
    "start_time": "2021-10-07T07:34:37.006Z"
   },
   {
    "duration": 4,
    "start_time": "2021-10-07T07:34:37.387Z"
   },
   {
    "duration": 15,
    "start_time": "2021-10-07T07:34:37.392Z"
   },
   {
    "duration": 14,
    "start_time": "2021-10-07T07:34:37.409Z"
   },
   {
    "duration": 25,
    "start_time": "2021-10-07T07:34:37.425Z"
   },
   {
    "duration": 63,
    "start_time": "2021-10-07T07:34:37.452Z"
   },
   {
    "duration": 88,
    "start_time": "2021-10-07T07:34:37.517Z"
   },
   {
    "duration": 5,
    "start_time": "2021-10-07T07:34:37.607Z"
   },
   {
    "duration": 11,
    "start_time": "2021-10-07T07:34:37.613Z"
   },
   {
    "duration": 32,
    "start_time": "2021-10-07T07:34:37.625Z"
   },
   {
    "duration": 10,
    "start_time": "2021-10-07T07:34:37.660Z"
   },
   {
    "duration": 14,
    "start_time": "2021-10-07T07:34:37.672Z"
   },
   {
    "duration": 14,
    "start_time": "2021-10-07T07:34:37.688Z"
   },
   {
    "duration": 342,
    "start_time": "2021-10-07T10:17:42.971Z"
   },
   {
    "duration": 297,
    "start_time": "2021-10-07T10:17:57.230Z"
   },
   {
    "duration": 1208,
    "start_time": "2021-10-07T10:18:04.441Z"
   },
   {
    "duration": 96,
    "start_time": "2021-10-07T10:18:05.651Z"
   },
   {
    "duration": 11,
    "start_time": "2021-10-07T10:18:05.751Z"
   },
   {
    "duration": 7,
    "start_time": "2021-10-07T10:18:05.764Z"
   },
   {
    "duration": 16,
    "start_time": "2021-10-07T10:18:05.773Z"
   },
   {
    "duration": 27,
    "start_time": "2021-10-07T10:18:05.792Z"
   },
   {
    "duration": 33,
    "start_time": "2021-10-07T10:18:05.822Z"
   },
   {
    "duration": 12,
    "start_time": "2021-10-07T10:18:05.857Z"
   },
   {
    "duration": 46,
    "start_time": "2021-10-07T10:18:05.870Z"
   },
   {
    "duration": 22,
    "start_time": "2021-10-07T10:18:05.917Z"
   },
   {
    "duration": 8,
    "start_time": "2021-10-07T10:18:05.941Z"
   },
   {
    "duration": 18,
    "start_time": "2021-10-07T10:18:05.951Z"
   },
   {
    "duration": 17,
    "start_time": "2021-10-07T10:18:05.971Z"
   },
   {
    "duration": 32,
    "start_time": "2021-10-07T10:18:05.990Z"
   },
   {
    "duration": 13,
    "start_time": "2021-10-07T10:18:06.024Z"
   },
   {
    "duration": 23,
    "start_time": "2021-10-07T10:18:06.038Z"
   },
   {
    "duration": 24,
    "start_time": "2021-10-07T10:18:06.063Z"
   },
   {
    "duration": 33,
    "start_time": "2021-10-07T10:18:06.089Z"
   },
   {
    "duration": 28,
    "start_time": "2021-10-07T10:18:06.124Z"
   },
   {
    "duration": 26,
    "start_time": "2021-10-07T10:18:06.154Z"
   },
   {
    "duration": 8,
    "start_time": "2021-10-07T10:18:06.188Z"
   },
   {
    "duration": 19,
    "start_time": "2021-10-07T10:18:06.202Z"
   },
   {
    "duration": 4,
    "start_time": "2021-10-07T10:18:06.223Z"
   },
   {
    "duration": 13,
    "start_time": "2021-10-07T10:18:06.228Z"
   },
   {
    "duration": 14,
    "start_time": "2021-10-07T10:18:06.243Z"
   },
   {
    "duration": 21,
    "start_time": "2021-10-07T10:18:06.258Z"
   },
   {
    "duration": 15,
    "start_time": "2021-10-07T10:18:06.281Z"
   },
   {
    "duration": 887,
    "start_time": "2021-10-07T10:18:06.298Z"
   },
   {
    "duration": 11,
    "start_time": "2021-10-07T10:18:07.187Z"
   },
   {
    "duration": 13,
    "start_time": "2021-10-07T10:18:07.200Z"
   },
   {
    "duration": 499,
    "start_time": "2021-10-07T10:18:07.215Z"
   },
   {
    "duration": 231,
    "start_time": "2021-10-07T10:18:07.717Z"
   },
   {
    "duration": 6,
    "start_time": "2021-10-07T10:18:07.949Z"
   },
   {
    "duration": 25,
    "start_time": "2021-10-07T10:18:07.957Z"
   },
   {
    "duration": 5,
    "start_time": "2021-10-07T10:18:07.984Z"
   },
   {
    "duration": 331,
    "start_time": "2021-10-07T10:18:07.991Z"
   },
   {
    "duration": 262,
    "start_time": "2021-10-07T10:18:08.324Z"
   },
   {
    "duration": 378,
    "start_time": "2021-10-07T10:18:08.588Z"
   },
   {
    "duration": 367,
    "start_time": "2021-10-07T10:18:08.968Z"
   },
   {
    "duration": 8,
    "start_time": "2021-10-07T10:18:09.337Z"
   },
   {
    "duration": 258,
    "start_time": "2021-10-07T10:18:09.347Z"
   },
   {
    "duration": 121,
    "start_time": "2021-10-07T10:18:09.607Z"
   },
   {
    "duration": 319,
    "start_time": "2021-10-07T10:18:09.729Z"
   },
   {
    "duration": 4,
    "start_time": "2021-10-07T10:18:10.049Z"
   },
   {
    "duration": 396,
    "start_time": "2021-10-07T10:18:10.055Z"
   },
   {
    "duration": 5,
    "start_time": "2021-10-07T10:18:10.452Z"
   },
   {
    "duration": 29,
    "start_time": "2021-10-07T10:18:10.458Z"
   },
   {
    "duration": 14,
    "start_time": "2021-10-07T10:18:10.489Z"
   },
   {
    "duration": 13,
    "start_time": "2021-10-07T10:18:10.507Z"
   },
   {
    "duration": 90,
    "start_time": "2021-10-07T10:18:10.522Z"
   },
   {
    "duration": 99,
    "start_time": "2021-10-07T10:18:10.613Z"
   },
   {
    "duration": 7,
    "start_time": "2021-10-07T10:18:10.713Z"
   },
   {
    "duration": 9,
    "start_time": "2021-10-07T10:18:10.722Z"
   },
   {
    "duration": 11,
    "start_time": "2021-10-07T10:18:10.733Z"
   },
   {
    "duration": 42,
    "start_time": "2021-10-07T10:18:10.746Z"
   },
   {
    "duration": 17,
    "start_time": "2021-10-07T10:18:10.790Z"
   },
   {
    "duration": 13,
    "start_time": "2021-10-07T10:18:10.809Z"
   },
   {
    "duration": 14,
    "start_time": "2021-10-07T10:18:17.113Z"
   },
   {
    "duration": 1130,
    "start_time": "2021-10-07T15:18:24.712Z"
   },
   {
    "duration": 131,
    "start_time": "2021-10-07T15:18:25.844Z"
   },
   {
    "duration": 15,
    "start_time": "2021-10-07T15:18:25.984Z"
   },
   {
    "duration": 6,
    "start_time": "2021-10-07T15:18:26.001Z"
   },
   {
    "duration": 18,
    "start_time": "2021-10-07T15:18:26.008Z"
   },
   {
    "duration": 11,
    "start_time": "2021-10-07T15:18:26.028Z"
   },
   {
    "duration": 19,
    "start_time": "2021-10-07T15:18:26.041Z"
   },
   {
    "duration": 14,
    "start_time": "2021-10-07T15:18:26.063Z"
   },
   {
    "duration": 9,
    "start_time": "2021-10-07T15:18:26.080Z"
   },
   {
    "duration": 16,
    "start_time": "2021-10-07T15:18:26.091Z"
   },
   {
    "duration": 9,
    "start_time": "2021-10-07T15:18:26.108Z"
   },
   {
    "duration": 11,
    "start_time": "2021-10-07T15:18:26.118Z"
   },
   {
    "duration": 8,
    "start_time": "2021-10-07T15:18:26.131Z"
   },
   {
    "duration": 50,
    "start_time": "2021-10-07T15:18:26.140Z"
   },
   {
    "duration": 12,
    "start_time": "2021-10-07T15:18:26.192Z"
   },
   {
    "duration": 17,
    "start_time": "2021-10-07T15:18:26.206Z"
   },
   {
    "duration": 15,
    "start_time": "2021-10-07T15:18:26.225Z"
   },
   {
    "duration": 39,
    "start_time": "2021-10-07T15:18:26.243Z"
   },
   {
    "duration": 8,
    "start_time": "2021-10-07T15:18:26.285Z"
   },
   {
    "duration": 7,
    "start_time": "2021-10-07T15:18:26.295Z"
   },
   {
    "duration": 6,
    "start_time": "2021-10-07T15:18:26.304Z"
   },
   {
    "duration": 16,
    "start_time": "2021-10-07T15:18:26.311Z"
   },
   {
    "duration": 12,
    "start_time": "2021-10-07T15:18:26.331Z"
   },
   {
    "duration": 32,
    "start_time": "2021-10-07T15:18:26.345Z"
   },
   {
    "duration": 25,
    "start_time": "2021-10-07T15:18:26.379Z"
   },
   {
    "duration": 26,
    "start_time": "2021-10-07T15:18:26.406Z"
   },
   {
    "duration": 12,
    "start_time": "2021-10-07T15:18:26.435Z"
   },
   {
    "duration": 1168,
    "start_time": "2021-10-07T15:18:26.449Z"
   },
   {
    "duration": 9,
    "start_time": "2021-10-07T15:18:27.619Z"
   },
   {
    "duration": 11,
    "start_time": "2021-10-07T15:18:27.630Z"
   },
   {
    "duration": 250,
    "start_time": "2021-10-07T15:18:27.642Z"
   },
   {
    "duration": 155,
    "start_time": "2021-10-07T15:18:27.894Z"
   },
   {
    "duration": 6,
    "start_time": "2021-10-07T15:18:28.051Z"
   },
   {
    "duration": 25,
    "start_time": "2021-10-07T15:18:28.059Z"
   },
   {
    "duration": 50,
    "start_time": "2021-10-07T15:18:28.087Z"
   },
   {
    "duration": 302,
    "start_time": "2021-10-07T15:18:28.139Z"
   },
   {
    "duration": 255,
    "start_time": "2021-10-07T15:18:28.442Z"
   },
   {
    "duration": 361,
    "start_time": "2021-10-07T15:18:28.699Z"
   },
   {
    "duration": 337,
    "start_time": "2021-10-07T15:18:29.062Z"
   },
   {
    "duration": 8,
    "start_time": "2021-10-07T15:18:29.401Z"
   },
   {
    "duration": 242,
    "start_time": "2021-10-07T15:18:29.411Z"
   },
   {
    "duration": 163,
    "start_time": "2021-10-07T15:18:29.655Z"
   },
   {
    "duration": 320,
    "start_time": "2021-10-07T15:18:29.820Z"
   },
   {
    "duration": 5,
    "start_time": "2021-10-07T15:18:30.142Z"
   },
   {
    "duration": 391,
    "start_time": "2021-10-07T15:18:30.149Z"
   },
   {
    "duration": 3,
    "start_time": "2021-10-07T15:18:30.542Z"
   },
   {
    "duration": 23,
    "start_time": "2021-10-07T15:18:30.547Z"
   },
   {
    "duration": 16,
    "start_time": "2021-10-07T15:18:30.575Z"
   },
   {
    "duration": 26,
    "start_time": "2021-10-07T15:18:30.592Z"
   },
   {
    "duration": 82,
    "start_time": "2021-10-07T15:18:30.619Z"
   },
   {
    "duration": 97,
    "start_time": "2021-10-07T15:18:30.702Z"
   },
   {
    "duration": 6,
    "start_time": "2021-10-07T15:18:30.801Z"
   },
   {
    "duration": 30,
    "start_time": "2021-10-07T15:18:30.808Z"
   },
   {
    "duration": 10,
    "start_time": "2021-10-07T15:18:30.840Z"
   },
   {
    "duration": 18,
    "start_time": "2021-10-07T15:18:30.851Z"
   },
   {
    "duration": 21,
    "start_time": "2021-10-07T15:18:30.877Z"
   },
   {
    "duration": 27,
    "start_time": "2021-10-07T15:18:30.900Z"
   },
   {
    "duration": 7815,
    "start_time": "2021-10-07T15:19:47.836Z"
   },
   {
    "duration": 8110,
    "start_time": "2021-10-07T15:20:23.108Z"
   },
   {
    "duration": 348,
    "start_time": "2021-10-07T15:20:43.212Z"
   },
   {
    "duration": 8463,
    "start_time": "2021-10-07T15:20:47.488Z"
   },
   {
    "duration": 31,
    "start_time": "2021-10-07T15:21:45.193Z"
   },
   {
    "duration": 5,
    "start_time": "2021-10-07T15:21:47.660Z"
   },
   {
    "duration": 3,
    "start_time": "2021-10-07T15:22:43.353Z"
   },
   {
    "duration": 4,
    "start_time": "2021-10-07T15:22:53.029Z"
   },
   {
    "duration": 377,
    "start_time": "2021-10-07T15:23:25.760Z"
   },
   {
    "duration": 16,
    "start_time": "2021-10-07T15:23:29.800Z"
   },
   {
    "duration": 61,
    "start_time": "2021-10-07T15:23:58.777Z"
   },
   {
    "duration": 327,
    "start_time": "2021-10-07T15:24:08.981Z"
   },
   {
    "duration": 313,
    "start_time": "2021-10-07T15:24:13.556Z"
   },
   {
    "duration": 4,
    "start_time": "2021-10-07T15:24:18.368Z"
   },
   {
    "duration": 61,
    "start_time": "2021-10-07T15:24:23.292Z"
   },
   {
    "duration": 16,
    "start_time": "2021-10-07T15:24:35.116Z"
   },
   {
    "duration": 58,
    "start_time": "2021-10-07T15:24:36.900Z"
   },
   {
    "duration": 5,
    "start_time": "2021-10-07T15:24:37.316Z"
   },
   {
    "duration": 1485,
    "start_time": "2021-10-07T15:24:47.426Z"
   },
   {
    "duration": 93,
    "start_time": "2021-10-07T15:24:48.913Z"
   },
   {
    "duration": 12,
    "start_time": "2021-10-07T15:24:49.008Z"
   },
   {
    "duration": 7,
    "start_time": "2021-10-07T15:24:49.022Z"
   },
   {
    "duration": 5,
    "start_time": "2021-10-07T15:24:49.031Z"
   },
   {
    "duration": 7,
    "start_time": "2021-10-07T15:24:49.038Z"
   },
   {
    "duration": 42,
    "start_time": "2021-10-07T15:24:49.047Z"
   },
   {
    "duration": 4,
    "start_time": "2021-10-07T15:24:49.093Z"
   },
   {
    "duration": 9,
    "start_time": "2021-10-07T15:24:49.100Z"
   },
   {
    "duration": 9,
    "start_time": "2021-10-07T15:24:49.110Z"
   },
   {
    "duration": 6,
    "start_time": "2021-10-07T15:24:49.120Z"
   },
   {
    "duration": 50,
    "start_time": "2021-10-07T15:24:49.128Z"
   },
   {
    "duration": 5,
    "start_time": "2021-10-07T15:24:49.181Z"
   },
   {
    "duration": 25,
    "start_time": "2021-10-07T15:24:49.189Z"
   },
   {
    "duration": 13,
    "start_time": "2021-10-07T15:24:49.215Z"
   },
   {
    "duration": 6,
    "start_time": "2021-10-07T15:24:49.230Z"
   },
   {
    "duration": 51,
    "start_time": "2021-10-07T15:24:49.238Z"
   },
   {
    "duration": 36,
    "start_time": "2021-10-07T15:24:49.291Z"
   },
   {
    "duration": 10,
    "start_time": "2021-10-07T15:24:49.329Z"
   },
   {
    "duration": 19,
    "start_time": "2021-10-07T15:24:49.341Z"
   },
   {
    "duration": 22,
    "start_time": "2021-10-07T15:24:49.362Z"
   },
   {
    "duration": 13,
    "start_time": "2021-10-07T15:24:49.387Z"
   },
   {
    "duration": 22,
    "start_time": "2021-10-07T15:24:49.404Z"
   },
   {
    "duration": 28,
    "start_time": "2021-10-07T15:24:49.429Z"
   },
   {
    "duration": 22,
    "start_time": "2021-10-07T15:24:49.459Z"
   },
   {
    "duration": 22,
    "start_time": "2021-10-07T15:24:49.484Z"
   },
   {
    "duration": 8,
    "start_time": "2021-10-07T15:24:49.508Z"
   },
   {
    "duration": 18,
    "start_time": "2021-10-07T15:24:49.518Z"
   },
   {
    "duration": 30,
    "start_time": "2021-10-07T15:24:49.537Z"
   },
   {
    "duration": 899,
    "start_time": "2021-10-07T15:24:49.569Z"
   },
   {
    "duration": 20,
    "start_time": "2021-10-07T15:24:50.470Z"
   },
   {
    "duration": 11,
    "start_time": "2021-10-07T15:24:50.492Z"
   },
   {
    "duration": 231,
    "start_time": "2021-10-07T15:24:50.505Z"
   },
   {
    "duration": 176,
    "start_time": "2021-10-07T15:24:50.738Z"
   },
   {
    "duration": 6,
    "start_time": "2021-10-07T15:24:50.916Z"
   },
   {
    "duration": 14,
    "start_time": "2021-10-07T15:24:50.924Z"
   },
   {
    "duration": 11,
    "start_time": "2021-10-07T15:24:50.940Z"
   },
   {
    "duration": 326,
    "start_time": "2021-10-07T15:24:50.953Z"
   },
   {
    "duration": 271,
    "start_time": "2021-10-07T15:24:51.280Z"
   },
   {
    "duration": 397,
    "start_time": "2021-10-07T15:24:51.553Z"
   },
   {
    "duration": 344,
    "start_time": "2021-10-07T15:24:51.952Z"
   },
   {
    "duration": 10,
    "start_time": "2021-10-07T15:24:52.298Z"
   },
   {
    "duration": 273,
    "start_time": "2021-10-07T15:24:52.310Z"
   },
   {
    "duration": 129,
    "start_time": "2021-10-07T15:24:52.585Z"
   },
   {
    "duration": 329,
    "start_time": "2021-10-07T15:24:52.716Z"
   },
   {
    "duration": 4,
    "start_time": "2021-10-07T15:24:53.048Z"
   },
   {
    "duration": 395,
    "start_time": "2021-10-07T15:24:53.054Z"
   },
   {
    "duration": 5,
    "start_time": "2021-10-07T15:24:53.452Z"
   },
   {
    "duration": 30,
    "start_time": "2021-10-07T15:24:53.476Z"
   },
   {
    "duration": 31,
    "start_time": "2021-10-07T15:24:53.508Z"
   },
   {
    "duration": 53,
    "start_time": "2021-10-07T15:24:53.540Z"
   },
   {
    "duration": 98,
    "start_time": "2021-10-07T15:24:53.595Z"
   },
   {
    "duration": 81,
    "start_time": "2021-10-07T15:24:53.695Z"
   },
   {
    "duration": 8,
    "start_time": "2021-10-07T15:24:53.779Z"
   },
   {
    "duration": 32,
    "start_time": "2021-10-07T15:24:53.790Z"
   },
   {
    "duration": 24,
    "start_time": "2021-10-07T15:24:53.824Z"
   },
   {
    "duration": 27,
    "start_time": "2021-10-07T15:24:53.850Z"
   },
   {
    "duration": 69,
    "start_time": "2021-10-07T15:24:53.878Z"
   },
   {
    "duration": 23,
    "start_time": "2021-10-07T15:24:53.949Z"
   },
   {
    "duration": 425,
    "start_time": "2021-10-07T15:24:55.146Z"
   },
   {
    "duration": 5,
    "start_time": "2021-10-07T15:24:59.294Z"
   },
   {
    "duration": 380,
    "start_time": "2021-10-07T15:25:09.571Z"
   },
   {
    "duration": 836,
    "start_time": "2021-10-07T15:25:17.690Z"
   },
   {
    "duration": 3,
    "start_time": "2021-10-07T15:25:28.035Z"
   },
   {
    "duration": 345,
    "start_time": "2021-10-07T15:26:10.030Z"
   },
   {
    "duration": 311,
    "start_time": "2021-10-07T15:26:21.278Z"
   },
   {
    "duration": 4,
    "start_time": "2021-10-07T15:27:31.626Z"
   },
   {
    "duration": 6,
    "start_time": "2021-10-07T15:27:38.238Z"
   },
   {
    "duration": 103,
    "start_time": "2021-10-07T15:29:05.194Z"
   },
   {
    "duration": 34,
    "start_time": "2021-10-07T15:29:10.114Z"
   },
   {
    "duration": 1168,
    "start_time": "2021-10-07T15:29:25.543Z"
   },
   {
    "duration": 78,
    "start_time": "2021-10-07T15:29:26.713Z"
   },
   {
    "duration": 11,
    "start_time": "2021-10-07T15:29:26.793Z"
   },
   {
    "duration": 8,
    "start_time": "2021-10-07T15:29:26.807Z"
   },
   {
    "duration": 7,
    "start_time": "2021-10-07T15:29:26.817Z"
   },
   {
    "duration": 6,
    "start_time": "2021-10-07T15:29:26.826Z"
   },
   {
    "duration": 47,
    "start_time": "2021-10-07T15:29:26.833Z"
   },
   {
    "duration": 7,
    "start_time": "2021-10-07T15:29:26.884Z"
   },
   {
    "duration": 8,
    "start_time": "2021-10-07T15:29:26.893Z"
   },
   {
    "duration": 8,
    "start_time": "2021-10-07T15:29:26.903Z"
   },
   {
    "duration": 8,
    "start_time": "2021-10-07T15:29:26.912Z"
   },
   {
    "duration": 8,
    "start_time": "2021-10-07T15:29:26.922Z"
   },
   {
    "duration": 7,
    "start_time": "2021-10-07T15:29:26.931Z"
   },
   {
    "duration": 22,
    "start_time": "2021-10-07T15:29:26.977Z"
   },
   {
    "duration": 14,
    "start_time": "2021-10-07T15:29:27.002Z"
   },
   {
    "duration": 7,
    "start_time": "2021-10-07T15:29:27.018Z"
   },
   {
    "duration": 62,
    "start_time": "2021-10-07T15:29:27.028Z"
   },
   {
    "duration": 34,
    "start_time": "2021-10-07T15:29:27.091Z"
   },
   {
    "duration": 6,
    "start_time": "2021-10-07T15:29:27.127Z"
   },
   {
    "duration": 8,
    "start_time": "2021-10-07T15:29:27.135Z"
   },
   {
    "duration": 39,
    "start_time": "2021-10-07T15:29:27.144Z"
   },
   {
    "duration": 6,
    "start_time": "2021-10-07T15:29:27.185Z"
   },
   {
    "duration": 13,
    "start_time": "2021-10-07T15:29:27.196Z"
   },
   {
    "duration": 4,
    "start_time": "2021-10-07T15:29:27.212Z"
   },
   {
    "duration": 6,
    "start_time": "2021-10-07T15:29:27.218Z"
   },
   {
    "duration": 10,
    "start_time": "2021-10-07T15:29:27.225Z"
   },
   {
    "duration": 46,
    "start_time": "2021-10-07T15:29:27.237Z"
   },
   {
    "duration": 18,
    "start_time": "2021-10-07T15:29:27.285Z"
   },
   {
    "duration": 845,
    "start_time": "2021-10-07T15:29:27.305Z"
   },
   {
    "duration": 10,
    "start_time": "2021-10-07T15:29:28.152Z"
   },
   {
    "duration": 26,
    "start_time": "2021-10-07T15:29:28.164Z"
   },
   {
    "duration": 227,
    "start_time": "2021-10-07T15:29:28.192Z"
   },
   {
    "duration": 300,
    "start_time": "2021-10-07T15:29:28.421Z"
   },
   {
    "duration": 10,
    "start_time": "2021-10-07T15:29:28.777Z"
   },
   {
    "duration": 18,
    "start_time": "2021-10-07T15:29:28.789Z"
   },
   {
    "duration": 6,
    "start_time": "2021-10-07T15:29:28.808Z"
   },
   {
    "duration": 463,
    "start_time": "2021-10-07T15:29:28.816Z"
   },
   {
    "duration": 255,
    "start_time": "2021-10-07T15:29:29.282Z"
   },
   {
    "duration": 396,
    "start_time": "2021-10-07T15:29:29.539Z"
   },
   {
    "duration": 355,
    "start_time": "2021-10-07T15:29:29.937Z"
   },
   {
    "duration": 8,
    "start_time": "2021-10-07T15:29:30.294Z"
   },
   {
    "duration": 248,
    "start_time": "2021-10-07T15:29:30.304Z"
   },
   {
    "duration": 146,
    "start_time": "2021-10-07T15:29:30.554Z"
   },
   {
    "duration": 330,
    "start_time": "2021-10-07T15:29:30.702Z"
   },
   {
    "duration": 4,
    "start_time": "2021-10-07T15:29:31.034Z"
   },
   {
    "duration": 399,
    "start_time": "2021-10-07T15:29:31.039Z"
   },
   {
    "duration": 4,
    "start_time": "2021-10-07T15:29:31.440Z"
   },
   {
    "duration": 36,
    "start_time": "2021-10-07T15:29:31.445Z"
   },
   {
    "duration": 14,
    "start_time": "2021-10-07T15:29:31.483Z"
   },
   {
    "duration": 22,
    "start_time": "2021-10-07T15:29:31.499Z"
   },
   {
    "duration": 82,
    "start_time": "2021-10-07T15:29:31.523Z"
   },
   {
    "duration": 98,
    "start_time": "2021-10-07T15:29:31.607Z"
   },
   {
    "duration": 10,
    "start_time": "2021-10-07T15:29:31.707Z"
   },
   {
    "duration": 17,
    "start_time": "2021-10-07T15:29:31.719Z"
   },
   {
    "duration": 14,
    "start_time": "2021-10-07T15:29:31.738Z"
   },
   {
    "duration": 26,
    "start_time": "2021-10-07T15:29:31.754Z"
   },
   {
    "duration": 25,
    "start_time": "2021-10-07T15:29:31.782Z"
   },
   {
    "duration": 23,
    "start_time": "2021-10-07T15:29:31.808Z"
   },
   {
    "duration": 116,
    "start_time": "2021-10-07T15:31:56.652Z"
   },
   {
    "duration": 32,
    "start_time": "2021-10-07T15:31:59.732Z"
   },
   {
    "duration": 105,
    "start_time": "2021-10-07T15:32:44.400Z"
   },
   {
    "duration": 40,
    "start_time": "2021-10-07T15:32:49.464Z"
   },
   {
    "duration": 38,
    "start_time": "2021-10-07T15:33:04.880Z"
   },
   {
    "duration": 875,
    "start_time": "2021-10-07T15:33:22.195Z"
   },
   {
    "duration": 886,
    "start_time": "2021-10-07T15:36:32.040Z"
   },
   {
    "duration": 819,
    "start_time": "2021-10-07T15:37:06.224Z"
   },
   {
    "duration": 104,
    "start_time": "2021-10-07T15:37:34.899Z"
   },
   {
    "duration": 131,
    "start_time": "2021-10-07T15:38:14.887Z"
   },
   {
    "duration": 37,
    "start_time": "2021-10-07T15:38:17.651Z"
   },
   {
    "duration": 35,
    "start_time": "2021-10-07T15:38:30.011Z"
   },
   {
    "duration": 423,
    "start_time": "2021-10-07T15:38:44.100Z"
   },
   {
    "duration": 44,
    "start_time": "2021-10-07T15:38:51.156Z"
   },
   {
    "duration": 39,
    "start_time": "2021-10-07T15:38:53.876Z"
   },
   {
    "duration": 4,
    "start_time": "2021-10-07T15:38:57.855Z"
   },
   {
    "duration": 34,
    "start_time": "2021-10-07T15:39:38.156Z"
   },
   {
    "duration": 1163,
    "start_time": "2021-10-07T15:40:54.631Z"
   },
   {
    "duration": 89,
    "start_time": "2021-10-07T15:40:55.796Z"
   },
   {
    "duration": 13,
    "start_time": "2021-10-07T15:40:55.888Z"
   },
   {
    "duration": 9,
    "start_time": "2021-10-07T15:40:55.903Z"
   },
   {
    "duration": 8,
    "start_time": "2021-10-07T15:40:55.914Z"
   },
   {
    "duration": 6,
    "start_time": "2021-10-07T15:40:55.924Z"
   },
   {
    "duration": 52,
    "start_time": "2021-10-07T15:40:55.932Z"
   },
   {
    "duration": 5,
    "start_time": "2021-10-07T15:40:55.987Z"
   },
   {
    "duration": 10,
    "start_time": "2021-10-07T15:40:55.995Z"
   },
   {
    "duration": 9,
    "start_time": "2021-10-07T15:40:56.007Z"
   },
   {
    "duration": 8,
    "start_time": "2021-10-07T15:40:56.018Z"
   },
   {
    "duration": 5,
    "start_time": "2021-10-07T15:40:56.028Z"
   },
   {
    "duration": 52,
    "start_time": "2021-10-07T15:40:56.035Z"
   },
   {
    "duration": 20,
    "start_time": "2021-10-07T15:40:56.089Z"
   },
   {
    "duration": 12,
    "start_time": "2021-10-07T15:40:56.110Z"
   },
   {
    "duration": 10,
    "start_time": "2021-10-07T15:40:56.124Z"
   },
   {
    "duration": 24,
    "start_time": "2021-10-07T15:40:56.135Z"
   },
   {
    "duration": 54,
    "start_time": "2021-10-07T15:40:56.161Z"
   },
   {
    "duration": 8,
    "start_time": "2021-10-07T15:40:56.216Z"
   },
   {
    "duration": 7,
    "start_time": "2021-10-07T15:40:56.225Z"
   },
   {
    "duration": 5,
    "start_time": "2021-10-07T15:40:56.234Z"
   },
   {
    "duration": 44,
    "start_time": "2021-10-07T15:40:56.241Z"
   },
   {
    "duration": 12,
    "start_time": "2021-10-07T15:40:56.290Z"
   },
   {
    "duration": 5,
    "start_time": "2021-10-07T15:40:56.304Z"
   },
   {
    "duration": 9,
    "start_time": "2021-10-07T15:40:56.310Z"
   },
   {
    "duration": 9,
    "start_time": "2021-10-07T15:40:56.320Z"
   },
   {
    "duration": 11,
    "start_time": "2021-10-07T15:40:56.331Z"
   },
   {
    "duration": 46,
    "start_time": "2021-10-07T15:40:56.344Z"
   },
   {
    "duration": 853,
    "start_time": "2021-10-07T15:40:56.394Z"
   },
   {
    "duration": 9,
    "start_time": "2021-10-07T15:40:57.249Z"
   },
   {
    "duration": 34,
    "start_time": "2021-10-07T15:40:57.260Z"
   },
   {
    "duration": 295,
    "start_time": "2021-10-07T15:40:57.295Z"
   },
   {
    "duration": 162,
    "start_time": "2021-10-07T15:40:57.593Z"
   },
   {
    "duration": 7,
    "start_time": "2021-10-07T15:40:57.756Z"
   },
   {
    "duration": 19,
    "start_time": "2021-10-07T15:40:57.765Z"
   },
   {
    "duration": 9,
    "start_time": "2021-10-07T15:40:57.786Z"
   },
   {
    "duration": 316,
    "start_time": "2021-10-07T15:40:57.797Z"
   },
   {
    "duration": 258,
    "start_time": "2021-10-07T15:40:58.114Z"
   },
   {
    "duration": 369,
    "start_time": "2021-10-07T15:40:58.374Z"
   },
   {
    "duration": 377,
    "start_time": "2021-10-07T15:40:58.745Z"
   },
   {
    "duration": 8,
    "start_time": "2021-10-07T15:40:59.124Z"
   },
   {
    "duration": 257,
    "start_time": "2021-10-07T15:40:59.134Z"
   },
   {
    "duration": 136,
    "start_time": "2021-10-07T15:40:59.392Z"
   },
   {
    "duration": 327,
    "start_time": "2021-10-07T15:40:59.531Z"
   },
   {
    "duration": 4,
    "start_time": "2021-10-07T15:40:59.860Z"
   },
   {
    "duration": 371,
    "start_time": "2021-10-07T15:40:59.866Z"
   },
   {
    "duration": 5,
    "start_time": "2021-10-07T15:41:00.239Z"
   },
   {
    "duration": 12,
    "start_time": "2021-10-07T15:41:00.246Z"
   },
   {
    "duration": 25,
    "start_time": "2021-10-07T15:41:00.260Z"
   },
   {
    "duration": 13,
    "start_time": "2021-10-07T15:41:00.287Z"
   },
   {
    "duration": 88,
    "start_time": "2021-10-07T15:41:00.301Z"
   },
   {
    "duration": 62,
    "start_time": "2021-10-07T15:41:00.391Z"
   },
   {
    "duration": 5,
    "start_time": "2021-10-07T15:41:00.455Z"
   },
   {
    "duration": 12,
    "start_time": "2021-10-07T15:41:00.481Z"
   },
   {
    "duration": 10,
    "start_time": "2021-10-07T15:41:00.495Z"
   },
   {
    "duration": 9,
    "start_time": "2021-10-07T15:41:00.507Z"
   },
   {
    "duration": 16,
    "start_time": "2021-10-07T15:41:00.517Z"
   },
   {
    "duration": 54,
    "start_time": "2021-10-07T15:41:00.535Z"
   },
   {
    "duration": 59,
    "start_time": "2021-10-07T15:41:35.084Z"
   },
   {
    "duration": 1148,
    "start_time": "2021-10-07T15:41:52.767Z"
   },
   {
    "duration": 68,
    "start_time": "2021-10-07T15:41:53.917Z"
   },
   {
    "duration": 10,
    "start_time": "2021-10-07T15:41:53.988Z"
   },
   {
    "duration": 8,
    "start_time": "2021-10-07T15:41:54.000Z"
   },
   {
    "duration": 6,
    "start_time": "2021-10-07T15:41:54.009Z"
   },
   {
    "duration": 8,
    "start_time": "2021-10-07T15:41:54.017Z"
   },
   {
    "duration": 22,
    "start_time": "2021-10-07T15:41:54.026Z"
   },
   {
    "duration": 33,
    "start_time": "2021-10-07T15:41:54.051Z"
   },
   {
    "duration": 8,
    "start_time": "2021-10-07T15:41:54.087Z"
   },
   {
    "duration": 9,
    "start_time": "2021-10-07T15:41:54.097Z"
   },
   {
    "duration": 10,
    "start_time": "2021-10-07T15:41:54.108Z"
   },
   {
    "duration": 7,
    "start_time": "2021-10-07T15:41:54.120Z"
   },
   {
    "duration": 5,
    "start_time": "2021-10-07T15:41:54.129Z"
   },
   {
    "duration": 58,
    "start_time": "2021-10-07T15:41:54.136Z"
   },
   {
    "duration": 13,
    "start_time": "2021-10-07T15:41:54.196Z"
   },
   {
    "duration": 10,
    "start_time": "2021-10-07T15:41:54.210Z"
   },
   {
    "duration": 14,
    "start_time": "2021-10-07T15:41:54.221Z"
   },
   {
    "duration": 67,
    "start_time": "2021-10-07T15:41:54.237Z"
   },
   {
    "duration": 7,
    "start_time": "2021-10-07T15:41:54.305Z"
   },
   {
    "duration": 6,
    "start_time": "2021-10-07T15:41:54.314Z"
   },
   {
    "duration": 6,
    "start_time": "2021-10-07T15:41:54.322Z"
   },
   {
    "duration": 5,
    "start_time": "2021-10-07T15:41:54.330Z"
   },
   {
    "duration": 46,
    "start_time": "2021-10-07T15:41:54.339Z"
   },
   {
    "duration": 8,
    "start_time": "2021-10-07T15:41:54.388Z"
   },
   {
    "duration": 8,
    "start_time": "2021-10-07T15:41:54.398Z"
   },
   {
    "duration": 10,
    "start_time": "2021-10-07T15:41:54.408Z"
   },
   {
    "duration": 14,
    "start_time": "2021-10-07T15:41:54.420Z"
   },
   {
    "duration": 54,
    "start_time": "2021-10-07T15:41:54.436Z"
   },
   {
    "duration": 851,
    "start_time": "2021-10-07T15:41:54.492Z"
   },
   {
    "duration": 12,
    "start_time": "2021-10-07T15:41:55.345Z"
   },
   {
    "duration": 27,
    "start_time": "2021-10-07T15:41:55.360Z"
   },
   {
    "duration": 250,
    "start_time": "2021-10-07T15:41:55.390Z"
   },
   {
    "duration": 173,
    "start_time": "2021-10-07T15:41:55.642Z"
   },
   {
    "duration": 8,
    "start_time": "2021-10-07T15:41:55.816Z"
   },
   {
    "duration": 24,
    "start_time": "2021-10-07T15:41:55.826Z"
   },
   {
    "duration": 17,
    "start_time": "2021-10-07T15:41:55.853Z"
   },
   {
    "duration": 423,
    "start_time": "2021-10-07T15:41:55.872Z"
   },
   {
    "duration": 606,
    "start_time": "2021-10-07T15:41:56.297Z"
   },
   {
    "duration": 359,
    "start_time": "2021-10-07T15:41:56.906Z"
   },
   {
    "duration": 360,
    "start_time": "2021-10-07T15:41:57.267Z"
   },
   {
    "duration": 11,
    "start_time": "2021-10-07T15:41:57.630Z"
   },
   {
    "duration": 261,
    "start_time": "2021-10-07T15:41:57.643Z"
   },
   {
    "duration": 125,
    "start_time": "2021-10-07T15:41:57.906Z"
   },
   {
    "duration": 328,
    "start_time": "2021-10-07T15:41:58.033Z"
   },
   {
    "duration": 4,
    "start_time": "2021-10-07T15:41:58.363Z"
   },
   {
    "duration": 372,
    "start_time": "2021-10-07T15:41:58.369Z"
   },
   {
    "duration": 4,
    "start_time": "2021-10-07T15:41:58.743Z"
   },
   {
    "duration": 35,
    "start_time": "2021-10-07T15:41:58.748Z"
   },
   {
    "duration": 9,
    "start_time": "2021-10-07T15:41:58.788Z"
   },
   {
    "duration": 22,
    "start_time": "2021-10-07T15:41:58.799Z"
   },
   {
    "duration": 75,
    "start_time": "2021-10-07T15:41:58.823Z"
   },
   {
    "duration": 90,
    "start_time": "2021-10-07T15:41:58.900Z"
   },
   {
    "duration": 6,
    "start_time": "2021-10-07T15:41:58.992Z"
   },
   {
    "duration": 17,
    "start_time": "2021-10-07T15:41:59.000Z"
   },
   {
    "duration": 13,
    "start_time": "2021-10-07T15:41:59.019Z"
   },
   {
    "duration": 28,
    "start_time": "2021-10-07T15:41:59.034Z"
   },
   {
    "duration": 27,
    "start_time": "2021-10-07T15:41:59.078Z"
   },
   {
    "duration": 29,
    "start_time": "2021-10-07T15:41:59.108Z"
   },
   {
    "duration": 10,
    "start_time": "2021-10-07T15:42:13.743Z"
   },
   {
    "duration": 1290,
    "start_time": "2021-10-07T15:42:21.139Z"
   },
   {
    "duration": 68,
    "start_time": "2021-10-07T15:42:22.432Z"
   },
   {
    "duration": 11,
    "start_time": "2021-10-07T15:42:22.505Z"
   },
   {
    "duration": 11,
    "start_time": "2021-10-07T15:42:22.519Z"
   },
   {
    "duration": 18,
    "start_time": "2021-10-07T15:42:22.532Z"
   },
   {
    "duration": 8,
    "start_time": "2021-10-07T15:42:22.552Z"
   },
   {
    "duration": 30,
    "start_time": "2021-10-07T15:42:22.562Z"
   },
   {
    "duration": 8,
    "start_time": "2021-10-07T15:42:22.595Z"
   },
   {
    "duration": 13,
    "start_time": "2021-10-07T15:42:22.605Z"
   },
   {
    "duration": 17,
    "start_time": "2021-10-07T15:42:22.619Z"
   },
   {
    "duration": 9,
    "start_time": "2021-10-07T15:42:22.638Z"
   },
   {
    "duration": 31,
    "start_time": "2021-10-07T15:42:22.648Z"
   },
   {
    "duration": 5,
    "start_time": "2021-10-07T15:42:22.681Z"
   },
   {
    "duration": 24,
    "start_time": "2021-10-07T15:42:22.688Z"
   },
   {
    "duration": 13,
    "start_time": "2021-10-07T15:42:22.714Z"
   },
   {
    "duration": 15,
    "start_time": "2021-10-07T15:42:22.729Z"
   },
   {
    "duration": 41,
    "start_time": "2021-10-07T15:42:22.746Z"
   },
   {
    "duration": 38,
    "start_time": "2021-10-07T15:42:22.789Z"
   },
   {
    "duration": 7,
    "start_time": "2021-10-07T15:42:22.829Z"
   },
   {
    "duration": 41,
    "start_time": "2021-10-07T15:42:22.838Z"
   },
   {
    "duration": 13,
    "start_time": "2021-10-07T15:42:22.881Z"
   },
   {
    "duration": 7,
    "start_time": "2021-10-07T15:42:22.896Z"
   },
   {
    "duration": 11,
    "start_time": "2021-10-07T15:42:22.907Z"
   },
   {
    "duration": 5,
    "start_time": "2021-10-07T15:42:22.920Z"
   },
   {
    "duration": 9,
    "start_time": "2021-10-07T15:42:22.926Z"
   },
   {
    "duration": 41,
    "start_time": "2021-10-07T15:42:22.937Z"
   },
   {
    "duration": 24,
    "start_time": "2021-10-07T15:42:22.980Z"
   },
   {
    "duration": 23,
    "start_time": "2021-10-07T15:42:23.006Z"
   },
   {
    "duration": 852,
    "start_time": "2021-10-07T15:42:23.031Z"
   },
   {
    "duration": 12,
    "start_time": "2021-10-07T15:42:23.886Z"
   },
   {
    "duration": 13,
    "start_time": "2021-10-07T15:42:23.900Z"
   },
   {
    "duration": 241,
    "start_time": "2021-10-07T15:42:23.914Z"
   },
   {
    "duration": 169,
    "start_time": "2021-10-07T15:42:24.157Z"
   },
   {
    "duration": 6,
    "start_time": "2021-10-07T15:42:24.328Z"
   },
   {
    "duration": 15,
    "start_time": "2021-10-07T15:42:24.335Z"
   },
   {
    "duration": 25,
    "start_time": "2021-10-07T15:42:24.352Z"
   },
   {
    "duration": 300,
    "start_time": "2021-10-07T15:42:24.379Z"
   },
   {
    "duration": 258,
    "start_time": "2021-10-07T15:42:24.681Z"
   },
   {
    "duration": 392,
    "start_time": "2021-10-07T15:42:24.941Z"
   },
   {
    "duration": 343,
    "start_time": "2021-10-07T15:42:25.335Z"
   },
   {
    "duration": 8,
    "start_time": "2021-10-07T15:42:25.680Z"
   },
   {
    "duration": 242,
    "start_time": "2021-10-07T15:42:25.690Z"
   },
   {
    "duration": 114,
    "start_time": "2021-10-07T15:42:25.933Z"
   },
   {
    "duration": 357,
    "start_time": "2021-10-07T15:42:26.049Z"
   },
   {
    "duration": 5,
    "start_time": "2021-10-07T15:42:26.408Z"
   },
   {
    "duration": 337,
    "start_time": "2021-10-07T15:42:26.415Z"
   },
   {
    "duration": 4,
    "start_time": "2021-10-07T15:42:26.754Z"
   },
   {
    "duration": 21,
    "start_time": "2021-10-07T15:42:26.760Z"
   },
   {
    "duration": 11,
    "start_time": "2021-10-07T15:42:26.782Z"
   },
   {
    "duration": 12,
    "start_time": "2021-10-07T15:42:26.795Z"
   },
   {
    "duration": 91,
    "start_time": "2021-10-07T15:42:26.809Z"
   },
   {
    "duration": 87,
    "start_time": "2021-10-07T15:42:26.902Z"
   },
   {
    "duration": 6,
    "start_time": "2021-10-07T15:42:26.990Z"
   },
   {
    "duration": 10,
    "start_time": "2021-10-07T15:42:26.998Z"
   },
   {
    "duration": 11,
    "start_time": "2021-10-07T15:42:27.009Z"
   },
   {
    "duration": 10,
    "start_time": "2021-10-07T15:42:27.022Z"
   },
   {
    "duration": 56,
    "start_time": "2021-10-07T15:42:27.033Z"
   },
   {
    "duration": 14,
    "start_time": "2021-10-07T15:42:27.091Z"
   },
   {
    "duration": 379,
    "start_time": "2021-10-08T16:48:48.322Z"
   },
   {
    "duration": 380,
    "start_time": "2021-10-08T16:56:10.362Z"
   },
   {
    "duration": 1697,
    "start_time": "2021-10-08T19:35:01.552Z"
   },
   {
    "duration": 90,
    "start_time": "2021-10-08T19:35:03.252Z"
   },
   {
    "duration": 16,
    "start_time": "2021-10-08T19:35:03.344Z"
   },
   {
    "duration": 19,
    "start_time": "2021-10-08T19:35:03.363Z"
   },
   {
    "duration": 19,
    "start_time": "2021-10-08T19:35:03.385Z"
   },
   {
    "duration": 18,
    "start_time": "2021-10-08T19:35:03.406Z"
   },
   {
    "duration": 39,
    "start_time": "2021-10-08T19:35:03.426Z"
   },
   {
    "duration": 5,
    "start_time": "2021-10-08T19:35:03.469Z"
   },
   {
    "duration": 31,
    "start_time": "2021-10-08T19:35:03.477Z"
   },
   {
    "duration": 18,
    "start_time": "2021-10-08T19:35:03.510Z"
   },
   {
    "duration": 15,
    "start_time": "2021-10-08T19:35:03.530Z"
   },
   {
    "duration": 14,
    "start_time": "2021-10-08T19:35:03.548Z"
   },
   {
    "duration": 12,
    "start_time": "2021-10-08T19:35:03.564Z"
   },
   {
    "duration": 29,
    "start_time": "2021-10-08T19:35:03.579Z"
   },
   {
    "duration": 27,
    "start_time": "2021-10-08T19:35:03.610Z"
   },
   {
    "duration": 61,
    "start_time": "2021-10-08T19:35:03.640Z"
   },
   {
    "duration": 14,
    "start_time": "2021-10-08T19:35:03.704Z"
   },
   {
    "duration": 114,
    "start_time": "2021-10-08T19:35:03.721Z"
   },
   {
    "duration": 11,
    "start_time": "2021-10-08T19:35:03.837Z"
   },
   {
    "duration": 13,
    "start_time": "2021-10-08T19:35:03.851Z"
   },
   {
    "duration": 14,
    "start_time": "2021-10-08T19:35:03.867Z"
   },
   {
    "duration": 20,
    "start_time": "2021-10-08T19:35:03.884Z"
   },
   {
    "duration": 31,
    "start_time": "2021-10-08T19:35:03.910Z"
   },
   {
    "duration": 59,
    "start_time": "2021-10-08T19:35:03.944Z"
   },
   {
    "duration": 14,
    "start_time": "2021-10-08T19:35:04.006Z"
   },
   {
    "duration": 80,
    "start_time": "2021-10-08T19:35:04.023Z"
   },
   {
    "duration": 28,
    "start_time": "2021-10-08T19:35:04.105Z"
   },
   {
    "duration": 23,
    "start_time": "2021-10-08T19:35:04.200Z"
   },
   {
    "duration": 2004,
    "start_time": "2021-10-08T19:35:04.225Z"
   },
   {
    "duration": 80,
    "start_time": "2021-10-08T19:35:06.231Z"
   },
   {
    "duration": 89,
    "start_time": "2021-10-08T19:35:06.313Z"
   },
   {
    "duration": 700,
    "start_time": "2021-10-08T19:35:06.405Z"
   },
   {
    "duration": 702,
    "start_time": "2021-10-08T19:35:07.108Z"
   },
   {
    "duration": 10,
    "start_time": "2021-10-08T19:35:07.812Z"
   },
   {
    "duration": 85,
    "start_time": "2021-10-08T19:35:07.825Z"
   },
   {
    "duration": 13,
    "start_time": "2021-10-08T19:35:07.913Z"
   },
   {
    "duration": 992,
    "start_time": "2021-10-08T19:35:07.928Z"
   },
   {
    "duration": 800,
    "start_time": "2021-10-08T19:35:08.923Z"
   },
   {
    "duration": 883,
    "start_time": "2021-10-08T19:35:09.726Z"
   },
   {
    "duration": 1010,
    "start_time": "2021-10-08T19:35:10.612Z"
   },
   {
    "duration": 13,
    "start_time": "2021-10-08T19:35:11.625Z"
   },
   {
    "duration": 965,
    "start_time": "2021-10-08T19:35:11.641Z"
   },
   {
    "duration": 525,
    "start_time": "2021-10-08T19:35:12.609Z"
   },
   {
    "duration": 775,
    "start_time": "2021-10-08T19:35:13.137Z"
   },
   {
    "duration": 5,
    "start_time": "2021-10-08T19:35:13.915Z"
   },
   {
    "duration": 884,
    "start_time": "2021-10-08T19:35:13.922Z"
   },
   {
    "duration": 7,
    "start_time": "2021-10-08T19:35:14.808Z"
   },
   {
    "duration": 17,
    "start_time": "2021-10-08T19:35:14.818Z"
   },
   {
    "duration": 74,
    "start_time": "2021-10-08T19:35:14.838Z"
   },
   {
    "duration": 21,
    "start_time": "2021-10-08T19:35:14.915Z"
   },
   {
    "duration": 228,
    "start_time": "2021-10-08T19:35:15.001Z"
   },
   {
    "duration": 281,
    "start_time": "2021-10-08T19:35:15.231Z"
   },
   {
    "duration": 8,
    "start_time": "2021-10-08T19:35:15.514Z"
   },
   {
    "duration": 12,
    "start_time": "2021-10-08T19:35:15.524Z"
   },
   {
    "duration": 15,
    "start_time": "2021-10-08T19:35:15.601Z"
   },
   {
    "duration": 82,
    "start_time": "2021-10-08T19:35:15.619Z"
   },
   {
    "duration": 19,
    "start_time": "2021-10-08T19:35:15.703Z"
   },
   {
    "duration": 82,
    "start_time": "2021-10-08T19:35:15.724Z"
   }
  ],
  "interpreter": {
   "hash": "b3ba2566441a7c06988d0923437866b63cedc61552a5af99d1f4fb67d367b25f"
  },
  "kernelspec": {
   "display_name": "Python 3",
   "language": "python",
   "name": "python3"
  },
  "language_info": {
   "codemirror_mode": {
    "name": "ipython",
    "version": 3
   },
   "file_extension": ".py",
   "mimetype": "text/x-python",
   "name": "python",
   "nbconvert_exporter": "python",
   "pygments_lexer": "ipython3",
   "version": "3.7.8"
  },
  "toc": {
   "base_numbering": 1,
   "nav_menu": {
    "height": "601px",
    "width": "388px"
   },
   "number_sections": true,
   "sideBar": true,
   "skip_h1_title": false,
   "title_cell": "Table of Contents",
   "title_sidebar": "Contents",
   "toc_cell": false,
   "toc_position": {
    "height": "calc(100% - 180px)",
    "left": "10px",
    "top": "150px",
    "width": "336.391px"
   },
   "toc_section_display": true,
   "toc_window_display": true
  }
 },
 "nbformat": 4,
 "nbformat_minor": 5
}
