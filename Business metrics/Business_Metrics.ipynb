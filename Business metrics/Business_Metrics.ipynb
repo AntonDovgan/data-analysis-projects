{
 "cells": [
  {
   "cell_type": "markdown",
   "metadata": {},
   "source": [
    "# Описание проекта\n",
    "\n",
    "Вас пригласили на стажировку в отдел маркетинговой аналитики Яндекс.Афиши. Первое задание: помочь маркетологам снизить расходы — отказаться от невыгодных источников трафика и перераспределить бюджет.\n",
    "Есть данные Яндекс.Афиши с июня 2017 по конец мая 2018 года:\n",
    "- лог сервера с данными о посещениях сайта Яндекс.Афиши,  \n",
    "- выгрузка всех заказов за этот период,  \n",
    "- статистика рекламных расходов.  \n",
    "\n",
    "Цели к изучению:\n",
    "- как клиенты пользуются сервисом,  \n",
    "- когда делают первые покупки на сайте,   \n",
    "- сколько денег приносит компании каждый клиент,  \n",
    "- когда расходы на привлечение клиента окупаются.    \n",
    "\n",
    "Выручка измеряется в условных единицах — у.е.\n",
    "\n",
    "<h1> Описание данных</h1>    \n",
    "\n",
    "`visits_log.csv` - хранит лог сервера с информацией о посещениях сайта.    \n",
    "Uid — уникальный идентификатор пользователя,     \n",
    "Device — категория устройства пользователя,    \n",
    "Start Ts — дата и время начала сессии,   \n",
    "End Ts — дата и время окончания сессии,    \n",
    "Source Id — идентификатор источника перехода на сайт.   \n",
    "\n",
    "`orders_log.csv` - содержит информацию о заказах.    \n",
    "Uid — уникальный идентификатор пользователя,      \n",
    "Buy Ts — дата и время заказа,    \n",
    "Revenue — сумма заказа.   \n",
    "\n",
    "`costs.csv` - хранит информацию о расходах на маркетинг.    \n",
    "source_id — идентификатор рекламного источника,    \n",
    "dt — дата проведения рекламной кампании,     \n",
    "costs — расходы на эту кампанию."
   ]
  },
  {
   "cell_type": "markdown",
   "metadata": {},
   "source": [
    "# Импорт библиотек"
   ]
  },
  {
   "cell_type": "code",
   "execution_count": 1,
   "metadata": {},
   "outputs": [],
   "source": [
    "import pandas as pd\n",
    "import numpy as np\n",
    "import seaborn as sns\n",
    "import matplotlib.pyplot as plt\n",
    "from pandas.plotting import register_matplotlib_converters"
   ]
  },
  {
   "cell_type": "markdown",
   "metadata": {},
   "source": [
    "# Изучение и предобработка данных"
   ]
  },
  {
   "cell_type": "markdown",
   "metadata": {},
   "source": [
    "## Импорт данных"
   ]
  },
  {
   "cell_type": "code",
   "execution_count": 2,
   "metadata": {},
   "outputs": [],
   "source": [
    "visits = pd.read_csv('visits_log.csv')\n",
    "orders = pd.read_csv('orders_log.csv')\n",
    "costs = pd.read_csv('costs.csv')"
   ]
  },
  {
   "cell_type": "code",
   "execution_count": 3,
   "metadata": {},
   "outputs": [
    {
     "ename": "KeyError",
     "evalue": "'uid'",
     "output_type": "error",
     "traceback": [
      "\u001b[1;31m---------------------------------------------------------------------------\u001b[0m",
      "\u001b[1;31mKeyError\u001b[0m                                  Traceback (most recent call last)",
      "\u001b[1;32m~\\Documents\\praktikum\\lib\\site-packages\\pandas\\core\\indexes\\base.py\u001b[0m in \u001b[0;36mget_loc\u001b[1;34m(self, key, method, tolerance)\u001b[0m\n\u001b[0;32m   2896\u001b[0m             \u001b[1;32mtry\u001b[0m\u001b[1;33m:\u001b[0m\u001b[1;33m\u001b[0m\u001b[1;33m\u001b[0m\u001b[0m\n\u001b[1;32m-> 2897\u001b[1;33m                 \u001b[1;32mreturn\u001b[0m \u001b[0mself\u001b[0m\u001b[1;33m.\u001b[0m\u001b[0m_engine\u001b[0m\u001b[1;33m.\u001b[0m\u001b[0mget_loc\u001b[0m\u001b[1;33m(\u001b[0m\u001b[0mkey\u001b[0m\u001b[1;33m)\u001b[0m\u001b[1;33m\u001b[0m\u001b[1;33m\u001b[0m\u001b[0m\n\u001b[0m\u001b[0;32m   2898\u001b[0m             \u001b[1;32mexcept\u001b[0m \u001b[0mKeyError\u001b[0m\u001b[1;33m:\u001b[0m\u001b[1;33m\u001b[0m\u001b[1;33m\u001b[0m\u001b[0m\n",
      "\u001b[1;32mpandas\\_libs\\index.pyx\u001b[0m in \u001b[0;36mpandas._libs.index.IndexEngine.get_loc\u001b[1;34m()\u001b[0m\n",
      "\u001b[1;32mpandas\\_libs\\index.pyx\u001b[0m in \u001b[0;36mpandas._libs.index.IndexEngine.get_loc\u001b[1;34m()\u001b[0m\n",
      "\u001b[1;32mpandas\\_libs\\hashtable_class_helper.pxi\u001b[0m in \u001b[0;36mpandas._libs.hashtable.PyObjectHashTable.get_item\u001b[1;34m()\u001b[0m\n",
      "\u001b[1;32mpandas\\_libs\\hashtable_class_helper.pxi\u001b[0m in \u001b[0;36mpandas._libs.hashtable.PyObjectHashTable.get_item\u001b[1;34m()\u001b[0m\n",
      "\u001b[1;31mKeyError\u001b[0m: 'uid'",
      "\nDuring handling of the above exception, another exception occurred:\n",
      "\u001b[1;31mKeyError\u001b[0m                                  Traceback (most recent call last)",
      "\u001b[1;32m<ipython-input-3-d684bbfb4982>\u001b[0m in \u001b[0;36m<module>\u001b[1;34m\u001b[0m\n\u001b[1;32m----> 1\u001b[1;33m \u001b[0mvisits\u001b[0m\u001b[1;33m[\u001b[0m\u001b[1;34m'uid'\u001b[0m\u001b[1;33m]\u001b[0m\u001b[1;33m.\u001b[0m\u001b[0mduplicated\u001b[0m\u001b[1;33m(\u001b[0m\u001b[1;33m)\u001b[0m\u001b[1;33m\u001b[0m\u001b[1;33m\u001b[0m\u001b[0m\n\u001b[0m",
      "\u001b[1;32m~\\Documents\\praktikum\\lib\\site-packages\\pandas\\core\\frame.py\u001b[0m in \u001b[0;36m__getitem__\u001b[1;34m(self, key)\u001b[0m\n\u001b[0;32m   2978\u001b[0m             \u001b[1;32mif\u001b[0m \u001b[0mself\u001b[0m\u001b[1;33m.\u001b[0m\u001b[0mcolumns\u001b[0m\u001b[1;33m.\u001b[0m\u001b[0mnlevels\u001b[0m \u001b[1;33m>\u001b[0m \u001b[1;36m1\u001b[0m\u001b[1;33m:\u001b[0m\u001b[1;33m\u001b[0m\u001b[1;33m\u001b[0m\u001b[0m\n\u001b[0;32m   2979\u001b[0m                 \u001b[1;32mreturn\u001b[0m \u001b[0mself\u001b[0m\u001b[1;33m.\u001b[0m\u001b[0m_getitem_multilevel\u001b[0m\u001b[1;33m(\u001b[0m\u001b[0mkey\u001b[0m\u001b[1;33m)\u001b[0m\u001b[1;33m\u001b[0m\u001b[1;33m\u001b[0m\u001b[0m\n\u001b[1;32m-> 2980\u001b[1;33m             \u001b[0mindexer\u001b[0m \u001b[1;33m=\u001b[0m \u001b[0mself\u001b[0m\u001b[1;33m.\u001b[0m\u001b[0mcolumns\u001b[0m\u001b[1;33m.\u001b[0m\u001b[0mget_loc\u001b[0m\u001b[1;33m(\u001b[0m\u001b[0mkey\u001b[0m\u001b[1;33m)\u001b[0m\u001b[1;33m\u001b[0m\u001b[1;33m\u001b[0m\u001b[0m\n\u001b[0m\u001b[0;32m   2981\u001b[0m             \u001b[1;32mif\u001b[0m \u001b[0mis_integer\u001b[0m\u001b[1;33m(\u001b[0m\u001b[0mindexer\u001b[0m\u001b[1;33m)\u001b[0m\u001b[1;33m:\u001b[0m\u001b[1;33m\u001b[0m\u001b[1;33m\u001b[0m\u001b[0m\n\u001b[0;32m   2982\u001b[0m                 \u001b[0mindexer\u001b[0m \u001b[1;33m=\u001b[0m \u001b[1;33m[\u001b[0m\u001b[0mindexer\u001b[0m\u001b[1;33m]\u001b[0m\u001b[1;33m\u001b[0m\u001b[1;33m\u001b[0m\u001b[0m\n",
      "\u001b[1;32m~\\Documents\\praktikum\\lib\\site-packages\\pandas\\core\\indexes\\base.py\u001b[0m in \u001b[0;36mget_loc\u001b[1;34m(self, key, method, tolerance)\u001b[0m\n\u001b[0;32m   2897\u001b[0m                 \u001b[1;32mreturn\u001b[0m \u001b[0mself\u001b[0m\u001b[1;33m.\u001b[0m\u001b[0m_engine\u001b[0m\u001b[1;33m.\u001b[0m\u001b[0mget_loc\u001b[0m\u001b[1;33m(\u001b[0m\u001b[0mkey\u001b[0m\u001b[1;33m)\u001b[0m\u001b[1;33m\u001b[0m\u001b[1;33m\u001b[0m\u001b[0m\n\u001b[0;32m   2898\u001b[0m             \u001b[1;32mexcept\u001b[0m \u001b[0mKeyError\u001b[0m\u001b[1;33m:\u001b[0m\u001b[1;33m\u001b[0m\u001b[1;33m\u001b[0m\u001b[0m\n\u001b[1;32m-> 2899\u001b[1;33m                 \u001b[1;32mreturn\u001b[0m \u001b[0mself\u001b[0m\u001b[1;33m.\u001b[0m\u001b[0m_engine\u001b[0m\u001b[1;33m.\u001b[0m\u001b[0mget_loc\u001b[0m\u001b[1;33m(\u001b[0m\u001b[0mself\u001b[0m\u001b[1;33m.\u001b[0m\u001b[0m_maybe_cast_indexer\u001b[0m\u001b[1;33m(\u001b[0m\u001b[0mkey\u001b[0m\u001b[1;33m)\u001b[0m\u001b[1;33m)\u001b[0m\u001b[1;33m\u001b[0m\u001b[1;33m\u001b[0m\u001b[0m\n\u001b[0m\u001b[0;32m   2900\u001b[0m         \u001b[0mindexer\u001b[0m \u001b[1;33m=\u001b[0m \u001b[0mself\u001b[0m\u001b[1;33m.\u001b[0m\u001b[0mget_indexer\u001b[0m\u001b[1;33m(\u001b[0m\u001b[1;33m[\u001b[0m\u001b[0mkey\u001b[0m\u001b[1;33m]\u001b[0m\u001b[1;33m,\u001b[0m \u001b[0mmethod\u001b[0m\u001b[1;33m=\u001b[0m\u001b[0mmethod\u001b[0m\u001b[1;33m,\u001b[0m \u001b[0mtolerance\u001b[0m\u001b[1;33m=\u001b[0m\u001b[0mtolerance\u001b[0m\u001b[1;33m)\u001b[0m\u001b[1;33m\u001b[0m\u001b[1;33m\u001b[0m\u001b[0m\n\u001b[0;32m   2901\u001b[0m         \u001b[1;32mif\u001b[0m \u001b[0mindexer\u001b[0m\u001b[1;33m.\u001b[0m\u001b[0mndim\u001b[0m \u001b[1;33m>\u001b[0m \u001b[1;36m1\u001b[0m \u001b[1;32mor\u001b[0m \u001b[0mindexer\u001b[0m\u001b[1;33m.\u001b[0m\u001b[0msize\u001b[0m \u001b[1;33m>\u001b[0m \u001b[1;36m1\u001b[0m\u001b[1;33m:\u001b[0m\u001b[1;33m\u001b[0m\u001b[1;33m\u001b[0m\u001b[0m\n",
      "\u001b[1;32mpandas\\_libs\\index.pyx\u001b[0m in \u001b[0;36mpandas._libs.index.IndexEngine.get_loc\u001b[1;34m()\u001b[0m\n",
      "\u001b[1;32mpandas\\_libs\\index.pyx\u001b[0m in \u001b[0;36mpandas._libs.index.IndexEngine.get_loc\u001b[1;34m()\u001b[0m\n",
      "\u001b[1;32mpandas\\_libs\\hashtable_class_helper.pxi\u001b[0m in \u001b[0;36mpandas._libs.hashtable.PyObjectHashTable.get_item\u001b[1;34m()\u001b[0m\n",
      "\u001b[1;32mpandas\\_libs\\hashtable_class_helper.pxi\u001b[0m in \u001b[0;36mpandas._libs.hashtable.PyObjectHashTable.get_item\u001b[1;34m()\u001b[0m\n",
      "\u001b[1;31mKeyError\u001b[0m: 'uid'"
     ]
    }
   ],
   "source": [
    "visits['uid'].duplicated()"
   ]
  },
  {
   "cell_type": "markdown",
   "metadata": {},
   "source": [
    "## Предобработка log"
   ]
  },
  {
   "cell_type": "code",
   "execution_count": null,
   "metadata": {},
   "outputs": [],
   "source": [
    "visits.head(3)"
   ]
  },
  {
   "cell_type": "code",
   "execution_count": null,
   "metadata": {},
   "outputs": [],
   "source": [
    "visits.info()\n",
    "visits.shape"
   ]
  },
  {
   "cell_type": "markdown",
   "metadata": {},
   "source": [
    "Пропуски отсутсвуют. Размер таблицы 359400 на 5."
   ]
  },
  {
   "cell_type": "code",
   "execution_count": null,
   "metadata": {},
   "outputs": [],
   "source": [
    "# найдем дубликаты\n",
    "dup = visits.duplicated().sum()\n",
    "if dup == 0:\n",
    "    print('Дубликаты отсутствуют')\n",
    "else:\n",
    "    print(f'Есть дубликаты в кол-ве: {dup}')"
   ]
  },
  {
   "cell_type": "code",
   "execution_count": null,
   "metadata": {},
   "outputs": [],
   "source": [
    "# переведём End Ts и Start Ts в формат datetime\n",
    "visits['End Ts'] = pd.to_datetime(visits['End Ts'], format = '%Y-%m-%d %H:%M:%S')\n",
    "visits['Start Ts'] = pd.to_datetime(visits['Start Ts'], format = '%Y-%m-%d %H:%M:%S')"
   ]
  },
  {
   "cell_type": "code",
   "execution_count": null,
   "metadata": {},
   "outputs": [],
   "source": [
    "# выведем названия столбцов\n",
    "visits.columns"
   ]
  },
  {
   "cell_type": "code",
   "execution_count": null,
   "metadata": {},
   "outputs": [],
   "source": [
    "# переименуем названия столбцов\n",
    "visits.columns = 'device', 'end_ts', 'source_id', 'start_ts', 'uid'"
   ]
  },
  {
   "cell_type": "code",
   "execution_count": null,
   "metadata": {},
   "outputs": [],
   "source": [
    "print(visits['start_ts'].describe())\n",
    "print(visits['end_ts'].describe())"
   ]
  },
  {
   "cell_type": "markdown",
   "metadata": {},
   "source": [
    "**Вывод:**   \n",
    "есть сессии, который закончились 2018-06-01. Не будем удалять эти данные иначе можно потерять посещения предыдущего дня."
   ]
  },
  {
   "cell_type": "code",
   "execution_count": null,
   "metadata": {},
   "outputs": [],
   "source": [
    "visits['device'] = visits['device'].astype('category')"
   ]
  },
  {
   "cell_type": "code",
   "execution_count": null,
   "metadata": {},
   "outputs": [],
   "source": [
    "print('Пользовтаели посещают платформу Я.Афиши с устройств:',visits['device'].unique())"
   ]
  },
  {
   "cell_type": "code",
   "execution_count": null,
   "metadata": {},
   "outputs": [],
   "source": [
    "visits.groupby(['device']).agg({'uid':'count'})"
   ]
  },
  {
   "cell_type": "markdown",
   "metadata": {},
   "source": [
    "**Вывод:**   \n",
    "с десктопа посещают в 2.7 раза больше, чем с touch устройств"
   ]
  },
  {
   "cell_type": "code",
   "execution_count": null,
   "metadata": {},
   "outputs": [],
   "source": [
    "visits.info()"
   ]
  },
  {
   "cell_type": "markdown",
   "metadata": {},
   "source": [
    "## Предобработка orders"
   ]
  },
  {
   "cell_type": "code",
   "execution_count": null,
   "metadata": {},
   "outputs": [],
   "source": [
    "orders.head(3)"
   ]
  },
  {
   "cell_type": "code",
   "execution_count": null,
   "metadata": {},
   "outputs": [],
   "source": [
    "orders.info()\n",
    "orders.shape"
   ]
  },
  {
   "cell_type": "markdown",
   "metadata": {},
   "source": [
    "Пропуски отсутсвуют. Размер таблицы 50415 на 3."
   ]
  },
  {
   "cell_type": "code",
   "execution_count": null,
   "metadata": {},
   "outputs": [],
   "source": [
    "# найдем дубликаты\n",
    "dup = orders.duplicated().sum()\n",
    "if dup == 0:\n",
    "    print('Дубликаты отсутствуют')\n",
    "else:\n",
    "    print(f'есть дубликаты в кол-ве: {dup}')"
   ]
  },
  {
   "cell_type": "code",
   "execution_count": null,
   "metadata": {},
   "outputs": [],
   "source": [
    "# переведём Buy Ts в формат datetime\n",
    "orders['Buy Ts'] = pd.to_datetime(orders['Buy Ts'], format = '%Y-%m-%d %H:%M:%S')"
   ]
  },
  {
   "cell_type": "code",
   "execution_count": null,
   "metadata": {},
   "outputs": [],
   "source": [
    "orders.columns"
   ]
  },
  {
   "cell_type": "code",
   "execution_count": null,
   "metadata": {},
   "outputs": [],
   "source": [
    "# переименуем названия столбцов\n",
    "orders.columns = 'buy_ts', 'revenue', 'uid'"
   ]
  },
  {
   "cell_type": "code",
   "execution_count": null,
   "metadata": {},
   "outputs": [],
   "source": [
    "print(orders['buy_ts'].describe())"
   ]
  },
  {
   "cell_type": "code",
   "execution_count": null,
   "metadata": {},
   "outputs": [],
   "source": [
    "orders.info()"
   ]
  },
  {
   "cell_type": "markdown",
   "metadata": {},
   "source": [
    "## Предобработка costs"
   ]
  },
  {
   "cell_type": "code",
   "execution_count": null,
   "metadata": {},
   "outputs": [],
   "source": [
    "costs.head(3)"
   ]
  },
  {
   "cell_type": "code",
   "execution_count": null,
   "metadata": {},
   "outputs": [],
   "source": [
    "costs.info()\n",
    "costs.shape"
   ]
  },
  {
   "cell_type": "markdown",
   "metadata": {},
   "source": [
    "Пропуски отсутсвуют. Размер таблицы 2542 на 3."
   ]
  },
  {
   "cell_type": "code",
   "execution_count": null,
   "metadata": {},
   "outputs": [],
   "source": [
    "# найдем дубликаты\n",
    "dup = costs.duplicated().sum()\n",
    "if dup == 0:\n",
    "    print('Дубликаты отсутствуют')\n",
    "else:\n",
    "    print(f'есть дубликаты в кол-ве: {dup}')"
   ]
  },
  {
   "cell_type": "code",
   "execution_count": null,
   "metadata": {},
   "outputs": [],
   "source": [
    "# переведём Buy Ts в формат datetime\n",
    "costs['dt'] = pd.to_datetime(costs['dt'], format = '%Y-%m-%d')"
   ]
  },
  {
   "cell_type": "code",
   "execution_count": null,
   "metadata": {},
   "outputs": [],
   "source": [
    "costs.columns"
   ]
  },
  {
   "cell_type": "code",
   "execution_count": null,
   "metadata": {},
   "outputs": [],
   "source": [
    "print(costs['dt'].describe())"
   ]
  },
  {
   "cell_type": "code",
   "execution_count": null,
   "metadata": {},
   "outputs": [],
   "source": [
    "costs.info()"
   ]
  },
  {
   "cell_type": "code",
   "execution_count": null,
   "metadata": {},
   "outputs": [],
   "source": [
    "costs['source_id'].unique()"
   ]
  },
  {
   "cell_type": "markdown",
   "metadata": {},
   "source": [
    "# Рассчитаем метрики и построим графики\n",
    "\n",
    "Метрики для расчёта:\n",
    " - продуктовые\n",
    " - метрики эл. коммерции.\n",
    " - маркетинговые\n",
    " ## Продуктовые метрики"
   ]
  },
  {
   "cell_type": "code",
   "execution_count": null,
   "metadata": {
    "scrolled": true
   },
   "outputs": [],
   "source": [
    "visits['date'] = visits['start_ts'].dt.date\n",
    "visits['day_number'] = visits['start_ts'].dt.day\n",
    "visits['month_number'] = visits['start_ts'].dt.month\n",
    "visits['year'] = visits['start_ts'].dt.year\n",
    "visits['week_number'] = visits['start_ts'].astype('datetime64[W]')\n",
    "visits['day_of_week'] = visits['start_ts'].dt.day_name()\n",
    "visits['month_name'] = visits['start_ts'].astype('datetime64[M]')\n",
    "\n",
    "visits.head(5)"
   ]
  },
  {
   "cell_type": "markdown",
   "metadata": {},
   "source": [
    "### DAU, WAU, MAU"
   ]
  },
  {
   "cell_type": "code",
   "execution_count": null,
   "metadata": {},
   "outputs": [],
   "source": [
    "dau_total = visits.groupby(['date']).agg({'uid':'nunique'}).mean()\n",
    "wau_total = visits.groupby(['week_number']).agg({'uid':'nunique'}).mean()\n",
    "mau_total = visits.groupby(['month_number']).agg({'uid':'nunique'}).mean()\n",
    "\n",
    "print(f'Ежeдневная аудитория DAU: {dau_total[0]:.0f} человек')\n",
    "print(f'Еженедельная аудитория WAU: {wau_total[0]:.0f} человек')\n",
    "print(f'Ежемесячная аудитория WAU: {mau_total[0]:.0f} человек')"
   ]
  },
  {
   "cell_type": "code",
   "execution_count": null,
   "metadata": {},
   "outputs": [],
   "source": [
    "sticky_wau = (dau_total/wau_total)\n",
    "sticky_mau = (dau_total/mau_total)\n",
    "print(f' Sticky Factor (недельный) {sticky_wau[0]:.2%}')\n",
    "print(f' Sticky Factor (месячный) {sticky_mau[0]:.2%}')"
   ]
  },
  {
   "cell_type": "markdown",
   "metadata": {},
   "source": [
    "**Вывод:**  \n",
    "15.59% посетителей обращаются к Я.Афише в течении недели, а 3.91% посетителей обращается к Я.Афише в течении месяца. \n",
    "\n",
    "Данному сервису сложно удержать внимание посетителей на таком длинном промежутке времени.  Предполагаю, что данный результат достаточно низкий для подобного сервиса."
   ]
  },
  {
   "cell_type": "code",
   "execution_count": null,
   "metadata": {},
   "outputs": [],
   "source": [
    "# стиль для графиков\n",
    "plt.rcParams['figure.figsize']=(15,5)\n",
    "plt.style.use('bmh')\n",
    "dau_dynamic = visits.groupby(['date']).agg({'uid':'nunique'}).reset_index()\n",
    "sns.lineplot(x = 'date' , y = 'uid', data = dau_dynamic)\n",
    "plt.title('Динамика DAU')\n",
    "plt.xlabel('Дни')\n",
    "plt.ylabel('Кол-во уникальных посетителей')\n",
    "plt.show()\n",
    "register_matplotlib_converters()"
   ]
  },
  {
   "cell_type": "code",
   "execution_count": null,
   "metadata": {},
   "outputs": [],
   "source": [
    "print(f'Ежeдневная аудитория DAU: {dau_total[0]:.0f} человек')"
   ]
  },
  {
   "cell_type": "code",
   "execution_count": null,
   "metadata": {},
   "outputs": [],
   "source": [
    "wau_dynamic = visits.groupby(['week_number']).agg({'uid':'nunique'}).reset_index()\n",
    "sns.lineplot(x = 'week_number' , y = 'uid', data = wau_dynamic)\n",
    "plt.rcParams['figure.figsize']=(15,5)\n",
    "plt.title('Динамика WAU')\n",
    "plt.xlabel('Номер недели')\n",
    "plt.ylabel('Кол-во уникальных посетителей')\n",
    "plt.show()"
   ]
  },
  {
   "cell_type": "code",
   "execution_count": null,
   "metadata": {},
   "outputs": [],
   "source": [
    "print(f'Ежeдневная аудитория DAU: {wau_total[0]:.0f} человек')"
   ]
  },
  {
   "cell_type": "markdown",
   "metadata": {},
   "source": [
    "**Вывод:**   \n",
    "наблюдаются всплески посещений на: 12, 22 и 47 неделе. Возможно, что это связано с маркетинговыми активностями."
   ]
  },
  {
   "cell_type": "code",
   "execution_count": null,
   "metadata": {
    "scrolled": false
   },
   "outputs": [],
   "source": [
    "mau_dynamic = visits.groupby(['month_name']).agg({'uid':'nunique'}).reset_index()\n",
    "sns.lineplot(x = 'month_name' , y = 'uid', data = mau_dynamic)\n",
    "plt.rcParams['figure.figsize']=(15,5)\n",
    "plt.title('Динамика MAU')\n",
    "plt.xlabel('Месяц')\n",
    "plt.ylabel('Кол-во уникальных посетителей')\n",
    "plt.show()"
   ]
  },
  {
   "cell_type": "code",
   "execution_count": null,
   "metadata": {},
   "outputs": [],
   "source": [
    "print(f'Ежемесячная аудитория WAU: {mau_total[0]:.0f} человек')"
   ]
  },
  {
   "cell_type": "code",
   "execution_count": null,
   "metadata": {
    "scrolled": true
   },
   "outputs": [],
   "source": [
    "cost_mrkt = costs.groupby(['dt']).agg({'costs':'sum'}).reset_index()\n",
    "cost_mrkt['dt']=cost_mrkt['dt'].dt.strftime('%Y-%m')\n",
    "sns.lineplot(x = 'dt' , y = 'costs', data = cost_mrkt)\n",
    "plt.rcParams['figure.figsize']=(15,5)\n",
    "plt.title('Динамика маркетинговых расходов')\n",
    "plt.xlabel('Месяц')\n",
    "plt.ylabel('Расходы, у.е')\n",
    "plt.show()"
   ]
  },
  {
   "cell_type": "markdown",
   "metadata": {},
   "source": [
    "**Вывод:**   \n",
    "c 09-2017, наблюдаются всплески по маркетинговым активносятм, посещаемость на эту дату также растёт. Соответсвенно посещаемость сильно зависит от маркетинговых активностей. Это видно даже без наложения графиков - <u>WAU</u> и <u>Динамака</u> маркетинговых расходов.        \n",
    "DAU: 908 человек;    \n",
    "WAU: 5825 человек;    \n",
    "WAU: 23228 человек.        \n"
   ]
  },
  {
   "cell_type": "markdown",
   "metadata": {},
   "source": [
    "### Сколько сессий в день"
   ]
  },
  {
   "cell_type": "code",
   "execution_count": null,
   "metadata": {},
   "outputs": [],
   "source": [
    "session_count = visits.groupby('date').agg({'uid': 'nunique'}).mean()\n",
    "print(f'Среднее количество сессий в день за период с июня 2017 по конец мая 2018 г.: {session_count[0]:.2f}')"
   ]
  },
  {
   "cell_type": "code",
   "execution_count": null,
   "metadata": {},
   "outputs": [],
   "source": [
    "session_month = visits.groupby('date').agg({'uid': 'count'}).reset_index()\n",
    "sns.lineplot(x='date', y='uid', data = session_month)\n",
    "plt.title('Динамика посещаемости')\n",
    "plt.xlabel('Номер месяца')\n",
    "plt.ylabel('Кол-во уникальных посетителей')\n",
    "plt.show()"
   ]
  },
  {
   "cell_type": "markdown",
   "metadata": {},
   "source": [
    "### Сколько длится одна сессия?¶"
   ]
  },
  {
   "cell_type": "code",
   "execution_count": null,
   "metadata": {},
   "outputs": [],
   "source": [
    "visits['session_duration_minutes'] = (visits['end_ts'] - visits['start_ts']).dt.total_seconds()/60\n",
    "visits['session_duration_minutes'].describe()"
   ]
  },
  {
   "cell_type": "code",
   "execution_count": null,
   "metadata": {},
   "outputs": [],
   "source": [
    "# убираем отрицательные сессии\n",
    "visits = visits.query('session_duration_minutes >=0')"
   ]
  },
  {
   "cell_type": "code",
   "execution_count": null,
   "metadata": {},
   "outputs": [],
   "source": [
    "print(visits['session_duration_minutes'].describe())\n",
    "print('mode',visits['session_duration_minutes'].mode())"
   ]
  },
  {
   "cell_type": "markdown",
   "metadata": {},
   "source": [
    "**Вывод:**   \n",
    "    продолжительность одной сессии:   \n",
    "        - в среднем 10 мин.    \n",
    "        - медиана 5 мин.    \n",
    "        - мода 1 мин.    \n",
    "Так как среднее больше медианы, имеем гистограмму смещенную вправо, что вполне естественно для большинства сайтов. А также означает, что больше всего данных лежит примерно до 10 минут."
   ]
  },
  {
   "cell_type": "code",
   "execution_count": null,
   "metadata": {},
   "outputs": [],
   "source": [
    "visits['session_duration_minutes'].hist(bins=20, range=(-5, 60))\n",
    "plt.title('Среднее одной сессии')\n",
    "plt.xlabel('Минуты')\n",
    "plt.ylabel('Кол-во посетителей')\n",
    "plt.show()"
   ]
  },
  {
   "cell_type": "markdown",
   "metadata": {},
   "source": [
    "**Вывод:**  \n",
    "ожидания подтвердились гистограммой, следовательно основная часть пользователей проводит до 10 минут на сайте Я.Афиши. Возможно этого достаточно для совершения целевого действия на платформе."
   ]
  },
  {
   "cell_type": "markdown",
   "metadata": {},
   "source": [
    "### Retention Rate"
   ]
  },
  {
   "cell_type": "code",
   "execution_count": null,
   "metadata": {},
   "outputs": [],
   "source": [
    "first_visit = visits.groupby(['uid'])['start_ts'].min().reset_index()\n",
    "first_visit.columns = 'uid', 'first_visit'\n",
    "first_visit.head(3)"
   ]
  },
  {
   "cell_type": "code",
   "execution_count": null,
   "metadata": {},
   "outputs": [],
   "source": [
    "visits = visits.merge(first_visit)\n",
    "visits.head(2)"
   ]
  },
  {
   "cell_type": "code",
   "execution_count": null,
   "metadata": {},
   "outputs": [],
   "source": [
    "visits['first_visit_month'] = visits['first_visit'].astype('datetime64[M]')\n",
    "visits['visit_month'] = visits['start_ts'].astype('datetime64[M]')\n",
    "visits.head(2)"
   ]
  },
  {
   "cell_type": "code",
   "execution_count": null,
   "metadata": {},
   "outputs": [],
   "source": [
    "visits['lifetime'] = (visits['visit_month'] - visits['first_visit_month']) / np.timedelta64(1, 'M')\n",
    "visits['lifetime'] = visits['lifetime'].round().astype('int')"
   ]
  },
  {
   "cell_type": "code",
   "execution_count": null,
   "metadata": {},
   "outputs": [],
   "source": [
    "cohort_visits = visits.groupby(['first_visit_month', 'lifetime']).agg({'uid': 'nunique'}).reset_index()\n",
    "f_uid = cohort_visits[cohort_visits['lifetime'] == 0][['first_visit_month', 'uid']]\n",
    "f_uid.columns = ['first_visit_month', 'f_uid']\n",
    "f_uid.head(3)"
   ]
  },
  {
   "cell_type": "code",
   "execution_count": null,
   "metadata": {},
   "outputs": [],
   "source": [
    "cohort_visits = cohort_visits.merge(f_uid)\n",
    "cohort_visits[\"retention\"] = cohort_visits[\"uid\"] / cohort_visits[\"f_uid\"]\n",
    "visits_retention_pivot = cohort_visits.pivot_table(\n",
    "    index=\"first_visit_month\", columns=\"lifetime\", values=\"retention\", aggfunc=\"sum\"\n",
    ")\n",
    "visits_retention_pivot.mean() * 100\n",
    "\n",
    "visits_retention_pivot.index = visits_retention_pivot.index.strftime(\"%m/%Y\")\n",
    "visits_retention_pivot"
   ]
  },
  {
   "cell_type": "code",
   "execution_count": null,
   "metadata": {},
   "outputs": [],
   "source": [
    "sns.set(style='white')\n",
    "plt.figure(figsize=(13, 9))\n",
    "plt.title('Когорты: Коэффициент удержания', size=14)\n",
    "ax =sns.heatmap(visits_retention_pivot, annot=True, fmt='.1%', linewidths=0.2, linecolor='gray', cmap = 'viridis',vmax=0.15)\n",
    "ax.set_ylabel('Месяц когорты')\n",
    "ax.set_xlabel('Месяц жизни когорты')\n",
    "plt.show()"
   ]
  },
  {
   "cell_type": "markdown",
   "metadata": {},
   "source": [
    "**Вывод:**  \n",
    "90-95% пользователей отваливается, видимо связано с их особенностью. Мало кто возвращается ежемесячно для покупки билетов или просмотра афиш. Всего скорее сервис используется для посещения знаковых событий, таких как кинопремьеры и выставки."
   ]
  },
  {
   "cell_type": "markdown",
   "metadata": {},
   "source": [
    "## Метрики e-commerce\n",
    "### Время совершения первой покупки"
   ]
  },
  {
   "cell_type": "code",
   "execution_count": null,
   "metadata": {},
   "outputs": [],
   "source": [
    "first_visit = visits.groupby('uid').agg({'start_ts':'min'})\\\n",
    "                .rename(columns={'start_ts':'first_visit_date'})\\\n",
    "                .reset_index()\n",
    "\n",
    "first_order = orders.groupby('uid').agg({'buy_ts':'min'})\\\n",
    "                .rename(columns={'buy_ts':'first_purchase_date'})\\\n",
    "                .reset_index()\n",
    "\n",
    "buying_time = first_visit.merge(first_order, on='uid', how='inner')\n",
    "buying_time.head(3)"
   ]
  },
  {
   "cell_type": "code",
   "execution_count": null,
   "metadata": {},
   "outputs": [],
   "source": [
    "buying_time['buying_time'] = (buying_time['first_purchase_date'] - buying_time['first_visit_date']).dt.seconds / 60\n",
    "buying_time.head()"
   ]
  },
  {
   "cell_type": "code",
   "execution_count": null,
   "metadata": {},
   "outputs": [],
   "source": [
    "buying_time['buying_time'].describe()"
   ]
  },
  {
   "cell_type": "code",
   "execution_count": null,
   "metadata": {},
   "outputs": [],
   "source": [
    "buying_time['buying_time'].mode()"
   ]
  },
  {
   "cell_type": "markdown",
   "metadata": {},
   "source": [
    "**Вывод:**   \n",
    "в большинстве случаев заказ делают в день первого визита."
   ]
  },
  {
   "cell_type": "code",
   "execution_count": null,
   "metadata": {},
   "outputs": [],
   "source": [
    "buying_time['buying_time'].hist()\n",
    "plt.rcParams['figure.figsize']=(8,5)\n",
    "plt.title('Среднее время первой покупки')\n",
    "plt.xlabel('Минуты')\n",
    "plt.ylabel('Кол-во покупок')\n",
    "plt.show()"
   ]
  },
  {
   "cell_type": "markdown",
   "metadata": {},
   "source": [
    "**Вывод:**   \n",
    "большое количество покупок совершается в первый день. Далее количество покупок резко снижается и начинает немного отрастать на 1000 минуте. Предполагаю, что это пользователи, которые ожидали какого-то события и решили вернуться для покупки на Я.Афише."
   ]
  },
  {
   "cell_type": "markdown",
   "metadata": {},
   "source": [
    "### Cреднее количество покупок на одного покупателя"
   ]
  },
  {
   "cell_type": "markdown",
   "metadata": {},
   "source": [
    "#### Когорта среднего количесва покупок на одного покупателя"
   ]
  },
  {
   "cell_type": "code",
   "execution_count": null,
   "metadata": {
    "scrolled": false
   },
   "outputs": [],
   "source": [
    "# найдем число покупателей в каждой когорте\n",
    "orders['order_month'] = orders['buy_ts'].astype('datetime64[M]')\n",
    "orders_per_month = orders.groupby('order_month').agg({'revenue': 'count'}).rename(columns={'revenue':'purchases'})\n",
    "orders_per_month.reset_index()"
   ]
  },
  {
   "cell_type": "code",
   "execution_count": null,
   "metadata": {},
   "outputs": [],
   "source": [
    "# добавим в информацию о покупках месяц первой покупки\n",
    "first_orders = orders.groupby('uid').agg({'order_month': 'min'}).reset_index()\n",
    "first_orders.columns = ['uid', 'first_order_month']\n",
    "first_orders.head()"
   ]
  },
  {
   "cell_type": "code",
   "execution_count": null,
   "metadata": {},
   "outputs": [],
   "source": [
    "# посчитаем количесво новых покупателей за каждый месяц\n",
    "cohort_sizes = first_orders.groupby('first_order_month').agg({'uid': 'nunique'}).reset_index()\n",
    "cohort_sizes.columns = ['first_order_month', 'n_buyers']\n",
    "cohort_sizes.head()"
   ]
  },
  {
   "cell_type": "code",
   "execution_count": null,
   "metadata": {},
   "outputs": [],
   "source": [
    "orders_new = pd.merge(orders,first_orders, on='uid')\n",
    "orders_new.head()"
   ]
  },
  {
   "cell_type": "code",
   "execution_count": null,
   "metadata": {},
   "outputs": [],
   "source": [
    "# Сгруппируем таблицу заказов по месяцу первой покупки и месяцу каждого заказа и сложим выручку. \n",
    "# Сбросим индекс методом reset_index()\n",
    "cohorts = orders_new.groupby(['first_order_month','order_month']).agg({'revenue': 'count'}).reset_index().rename(columns={'revenue':'order_count'})\n",
    "\n",
    "cohorts.head()"
   ]
  },
  {
   "cell_type": "code",
   "execution_count": null,
   "metadata": {},
   "outputs": [],
   "source": [
    "report = pd.merge(cohort_sizes, cohorts, on='first_order_month')\n",
    "report.head()"
   ]
  },
  {
   "cell_type": "code",
   "execution_count": null,
   "metadata": {},
   "outputs": [],
   "source": [
    "report['time'] = (report['order_month'] - report['first_order_month']) / np.timedelta64(1, 'M')\n",
    "report['time'] = report['time'].round().astype('int')\n",
    "report.head()"
   ]
  },
  {
   "cell_type": "code",
   "execution_count": null,
   "metadata": {},
   "outputs": [],
   "source": [
    "report['mean_order'] = report['order_count'] / report['n_buyers']\n",
    "report"
   ]
  },
  {
   "cell_type": "code",
   "execution_count": null,
   "metadata": {},
   "outputs": [],
   "source": [
    "output_order_mean = report.pivot_table(\n",
    "        index='first_order_month', \n",
    "        columns='time', \n",
    "        values='mean_order', \n",
    "        aggfunc='mean').round(2)\n",
    "output_order_mean.index = output_order_mean.index.strftime(\"%m/%Y\")\n",
    "output_order_mean=output_order_mean.cumsum(axis=1).round(2)\n",
    "# output_order_mean"
   ]
  },
  {
   "cell_type": "code",
   "execution_count": null,
   "metadata": {},
   "outputs": [],
   "source": [
    "plt.figure(figsize=(13, 9))\n",
    "plt.title('Среднее количество покупок на одного покупателя', size=14)\n",
    "ax=sns.heatmap(output_order_mean, annot=True, fmt='.2f', linewidths=0.2, linecolor='gray', vmin=1, vmax=2.5, cmap=\"viridis\")\n",
    "ax.set_ylabel('Месяц когорты')\n",
    "ax.set_xlabel('Месяц жизни когорты')\n",
    "plt.show()"
   ]
  },
  {
   "cell_type": "markdown",
   "metadata": {},
   "source": [
    "#### Среднее количество покупкок в месяц"
   ]
  },
  {
   "cell_type": "code",
   "execution_count": null,
   "metadata": {},
   "outputs": [],
   "source": [
    "orders_mean = pd.merge(orders_per_month, cohort_sizes, left_on='order_month', right_on = 'first_order_month')"
   ]
  },
  {
   "cell_type": "code",
   "execution_count": null,
   "metadata": {},
   "outputs": [],
   "source": [
    "orders_mean['mean_orders'] = orders_mean['purchases'] / orders_mean['n_buyers']\n",
    "f\"В среднем в 1 месяц покупают - {round(orders_mean['mean_orders'].mean(),2)} раза\""
   ]
  },
  {
   "cell_type": "markdown",
   "metadata": {},
   "source": [
    "**Вывод:** \n",
    "Среднее количество покупок во всех когортах имеет рост. \n",
    "Наиболее успешные когорты по среднему количеству покупок: 06/2017, 07/2017, 08/2017, 11/2017.    \n",
    "06/2017 - среднее кол-во покупок на 8 месяце жизни достигает 2. Возможно в этой когорте самые лояльные клиенты.    \n",
    "---\n",
    "В среднем в месяц покупают 1,34 раза."
   ]
  },
  {
   "cell_type": "markdown",
   "metadata": {},
   "source": [
    "### Средний чек"
   ]
  },
  {
   "cell_type": "code",
   "execution_count": null,
   "metadata": {},
   "outputs": [],
   "source": [
    "print('Средний чек равен:',orders['revenue'].mean().round(),'y.e')"
   ]
  },
  {
   "cell_type": "code",
   "execution_count": null,
   "metadata": {},
   "outputs": [],
   "source": [
    "orders['revenue'].mode()"
   ]
  },
  {
   "cell_type": "code",
   "execution_count": null,
   "metadata": {},
   "outputs": [],
   "source": [
    "orders"
   ]
  },
  {
   "cell_type": "code",
   "execution_count": null,
   "metadata": {},
   "outputs": [],
   "source": [
    "mean_purchase_by_month = orders.groupby('order_month').agg({'revenue': 'mean'}).reset_index()\n",
    "mean_purchase_by_month['order_month'] = mean_purchase_by_month['order_month']\n",
    "mean_purchase_by_month"
   ]
  },
  {
   "cell_type": "code",
   "execution_count": null,
   "metadata": {},
   "outputs": [],
   "source": [
    "ax = sns.lineplot(x='order_month', y='revenue', data = mean_purchase_by_month)\n",
    "plt.title('Средний чек в динамике')\n",
    "plt.xlabel('Месяц')\n",
    "plt.ylabel('Средний чек, y.e')\n",
    "plt.grid()\n",
    "plt.show()"
   ]
  },
  {
   "cell_type": "markdown",
   "metadata": {},
   "source": [
    "**Вывод:**  \n",
    "наиболее часто встречается стоимость 1.8 y.e.   \n",
    "Средний чек = 5 y.e Средний чек резко вырастет в 12 месяце, а в 1 месяце снижается до показателей 7 месяца. Падение составляет около 43%."
   ]
  },
  {
   "cell_type": "markdown",
   "metadata": {},
   "source": [
    "### LTV\n",
    "1. Найдём даты первой покупки;\n",
    "2. Найдём число новых покупателей на каждую дату;\n",
    "3. Добавим дату первой покупки в таблицу с заказами;\n",
    "4. Сгруппируем таблицу и рассчитаем выручку"
   ]
  },
  {
   "cell_type": "code",
   "execution_count": null,
   "metadata": {},
   "outputs": [],
   "source": [
    "# месяц первой покупки для каждого клиента\n",
    "orders['order_month'] = orders['buy_ts'].astype('datetime64[M]')\n",
    "orders['buy_ts'] = pd.to_datetime(orders['order_month'], format = '%Y-%m-%d')\n",
    "first_orders = orders.groupby('uid').agg({'buy_ts': 'min'}).reset_index()\n",
    "first_orders.columns = ['uid', 'first_order_month']\n",
    "first_orders.head()"
   ]
  },
  {
   "cell_type": "code",
   "execution_count": null,
   "metadata": {},
   "outputs": [],
   "source": [
    "# Рассчитаем кол-во новых покупателей за каждый месяц\n",
    "cohort_sizes = first_orders.groupby('first_order_month').agg({'uid': 'nunique'}).reset_index()\n",
    "cohort_sizes.columns = ['first_order_month', 'n_buyers']\n",
    "cohort_sizes.head(13)"
   ]
  },
  {
   "cell_type": "code",
   "execution_count": null,
   "metadata": {},
   "outputs": [],
   "source": [
    "cohort_sizes.head()"
   ]
  },
  {
   "cell_type": "code",
   "execution_count": null,
   "metadata": {},
   "outputs": [],
   "source": [
    "# добавим месяц первой покукп в таблицу с заказами. Объединяем по uid клиента.\n",
    "orders_new = pd.merge(orders, first_orders, on = 'uid')\n",
    "orders_new.head()"
   ]
  },
  {
   "cell_type": "code",
   "execution_count": null,
   "metadata": {},
   "outputs": [],
   "source": [
    "# сгруппируем таблицу заказов по месяцу первой покупки и месяцу заказа, затем сложим выручку.\n",
    "cohorts = orders_new.groupby(['first_order_month', 'order_month']).agg({'revenue': 'sum'}).reset_index()\n",
    "cohorts.head()"
   ]
  },
  {
   "cell_type": "code",
   "execution_count": null,
   "metadata": {},
   "outputs": [],
   "source": [
    "# добавим количество первых покупок в каждый месяц\n",
    "final = pd.merge(cohorts,cohort_sizes, on = 'first_order_month')\n",
    "final.head()"
   ]
  },
  {
   "cell_type": "markdown",
   "metadata": {},
   "source": [
    "LTV рассчитывается из валовой прибыли, но так как у нас нет доступа к этим данным, будем считать что 100% выручка остаётся в компании."
   ]
  },
  {
   "cell_type": "code",
   "execution_count": null,
   "metadata": {},
   "outputs": [],
   "source": [
    "final['time'] = (final['order_month'] - final['first_order_month']) / np.timedelta64(1, 'M')\n",
    "final['time'] = final['time'].round().astype('int')"
   ]
  },
  {
   "cell_type": "code",
   "execution_count": null,
   "metadata": {},
   "outputs": [],
   "source": [
    "final.head()"
   ]
  },
  {
   "cell_type": "code",
   "execution_count": null,
   "metadata": {},
   "outputs": [],
   "source": [
    "final['ltv'] = final['revenue']/final['n_buyers']\n",
    "ltv_output = final.pivot_table(\n",
    "        index='first_order_month', \n",
    "        columns='time', \n",
    "        values='ltv', \n",
    "        aggfunc='mean').round(2)\n",
    "ltv_output.index = ltv_output.index.strftime(\"%m/%Y\")\n",
    "ltv_output= ltv_output.cumsum(axis=1).round(2)"
   ]
  },
  {
   "cell_type": "code",
   "execution_count": null,
   "metadata": {
    "scrolled": false
   },
   "outputs": [],
   "source": [
    "# визуализируем LTV\n",
    "sns.set(style='white')\n",
    "plt.figure(figsize=(13, 9))\n",
    "plt.title('Когорты: LTV', size=14)\n",
    "ax=sns.heatmap(ltv_output, annot=True, fmt='.2f', linewidths=0.2, linecolor='black', vmin=1,  cmap=\"viridis\", vmax=12)\n",
    "ax.set_ylabel('Месяц когорты')\n",
    "ax.set_xlabel('Месяц жизни когорты')\n",
    "plt.show()"
   ]
  },
  {
   "cell_type": "code",
   "execution_count": null,
   "metadata": {},
   "outputs": [],
   "source": [
    "print('Cредний LTV по когортам за 6 месяцев:', ltv_output[6].mean())"
   ]
  },
  {
   "cell_type": "markdown",
   "metadata": {},
   "source": [
    "**Вывод:**  \n",
    " 06/2017 и 09/2017 - являются самыми прибыльными когортами. В январе и феврале, на работу можно не выходить =)\n",
    " Очень сильный рост наблюдается в когортах 12/2017, 09/2017, 12/2017 на третьем месяце жизни. \n",
    " Пожизненная стоимость клиента растёт по каждой кагорте, а значит есть потенциал для роста в каждой из них."
   ]
  },
  {
   "cell_type": "markdown",
   "metadata": {},
   "source": [
    "## Маркетинговые метрики"
   ]
  },
  {
   "cell_type": "markdown",
   "metadata": {},
   "source": [
    "#### Сумма расходов"
   ]
  },
  {
   "cell_type": "code",
   "execution_count": null,
   "metadata": {},
   "outputs": [],
   "source": [
    "print('Сумма маркетинговых расходов:', costs['costs'].sum(), 'y.e')"
   ]
  },
  {
   "cell_type": "markdown",
   "metadata": {},
   "source": [
    "#### Расходы по источникам"
   ]
  },
  {
   "cell_type": "code",
   "execution_count": null,
   "metadata": {},
   "outputs": [],
   "source": [
    "source_costs = costs.groupby(['source_id']).agg({'costs':'sum'}).reset_index()\n",
    "plt.figure(figsize=(8, 4))\n",
    "sns.barplot(x='source_id', y='costs', data = source_costs)\n",
    "plt.title('Расходы по источника, y.e')\n",
    "plt.xlabel('Источники')\n",
    "plt.ylabel('Расходы, y.e')\n",
    "plt.show()"
   ]
  },
  {
   "cell_type": "markdown",
   "metadata": {},
   "source": [
    "**Вывод:**  \n",
    "максимальная сумма расходов приходится на источник №3."
   ]
  },
  {
   "cell_type": "markdown",
   "metadata": {},
   "source": [
    "#### Расходы по месяцам"
   ]
  },
  {
   "cell_type": "code",
   "execution_count": null,
   "metadata": {},
   "outputs": [],
   "source": [
    "# производили данные расчёты в разделе DAU, WAU, MAU\n",
    "plt.rcParams['figure.figsize']=(15,5)\n",
    "cost_mrkt = costs.groupby(['dt']).agg({'costs':'sum'}).reset_index()\n",
    "cost_mrkt['dt']=cost_mrkt['dt'].dt.strftime('%Y-%m')\n",
    "sns.lineplot(x = 'dt' , y = 'costs', data = cost_mrkt)\n",
    "plt.title('Динамика маркетинговых расходов')\n",
    "plt.xlabel('Месяц')\n",
    "plt.ylabel('Расходы, у.е')\n",
    "plt.show()"
   ]
  },
  {
   "cell_type": "code",
   "execution_count": null,
   "metadata": {},
   "outputs": [],
   "source": [
    "monthly_costs=cost_mrkt.groupby('dt').agg({'costs':'sum'}).reset_index()\n",
    "monthly_costs['dt'] = monthly_costs['dt'].astype('datetime64[M]')\n",
    "monthly_costs_mean = monthly_costs.mean().round()\n",
    "print('Среднемесячные траты:', monthly_costs_mean)"
   ]
  },
  {
   "cell_type": "markdown",
   "metadata": {},
   "source": [
    "**Вывод:**  \n",
    "больше всего маркетинговых расходов приходится на 10, 11 и 12 месяцы. В среднем расходуется около 27 428 y.e"
   ]
  },
  {
   "cell_type": "markdown",
   "metadata": {},
   "source": [
    "### CAC"
   ]
  },
  {
   "cell_type": "markdown",
   "metadata": {},
   "source": [
    "#### CAC по всему проекту"
   ]
  },
  {
   "cell_type": "code",
   "execution_count": null,
   "metadata": {
    "scrolled": false
   },
   "outputs": [],
   "source": [
    "# день первого визита и его рекламный источник\n",
    "first_visit_day = visits.groupby(['uid','source_id']).agg({'start_ts':'min'}).reset_index()\n",
    "first_visit_day.columns = 'uid','source_id','start_ts'\n",
    "first_visit_day.head()"
   ]
  },
  {
   "cell_type": "code",
   "execution_count": null,
   "metadata": {},
   "outputs": [],
   "source": [
    "# # Маркетинговые расходы по месяцам\n",
    "monthly_costs.columns = 'month', 'costs'\n",
    "monthly_costs"
   ]
  },
  {
   "cell_type": "code",
   "execution_count": null,
   "metadata": {},
   "outputs": [],
   "source": [
    "report_cac = pd.merge(report, \n",
    "                      monthly_costs, \n",
    "                      left_on = 'first_order_month',\n",
    "                      right_on = 'month')\n",
    "report_cac['cac'] = report_cac['costs'] / report_cac['n_buyers']\n",
    "report_cac.head()"
   ]
  },
  {
   "cell_type": "code",
   "execution_count": null,
   "metadata": {},
   "outputs": [],
   "source": [
    "report_cac['cac'] = report_cac['costs'] / report_cac['n_buyers']\n",
    "report_cac['month'] = report_cac['month'].dt.strftime('%Y-%m')\n",
    "report_cac.head()"
   ]
  },
  {
   "cell_type": "code",
   "execution_count": null,
   "metadata": {},
   "outputs": [],
   "source": [
    "# график динамики CAC\n",
    "sns.lineplot(x = 'month' , y = 'cac', data = report_cac)\n",
    "plt.rcParams['figure.figsize']=(15,5)\n",
    "plt.title('Динамика CAC')\n",
    "plt.xlabel('Месяц')\n",
    "plt.ylabel('CAC, у.е')\n",
    "plt.grid()\n",
    "plt.show()"
   ]
  },
  {
   "cell_type": "markdown",
   "metadata": {},
   "source": [
    "**Вывод:**  \n",
    "самоё дорогое привлечение приходится на 2017-08 и составляет 9.7 y.e, затем в 2017-09 и 2017-08 CAC резко снижается до 8.4 y.e. Далее растёт до 10 y.e, пик данного роста приходится на 2017-12, затем снижается до рекодно низких значений в 7.5 y.e, на дату 2018-05.    \n",
    "Возможная причина роста на 2017-08, это запуск новых рекламных кампаний на новом(ых) источнике(ах).  "
   ]
  },
  {
   "cell_type": "markdown",
   "metadata": {},
   "source": [
    "#### Средний CAC по сему проекту"
   ]
  },
  {
   "cell_type": "code",
   "execution_count": null,
   "metadata": {},
   "outputs": [],
   "source": [
    "# Средний CAC по сему проекту\n",
    "cac_mean  = report_cac['cac'].mean()\n",
    "print(f'Средний CAC по всему проекту =  {cac_mean:.2f} y.e')"
   ]
  },
  {
   "cell_type": "markdown",
   "metadata": {},
   "source": [
    "#### CAC по источникам"
   ]
  },
  {
   "cell_type": "code",
   "execution_count": null,
   "metadata": {},
   "outputs": [],
   "source": [
    "visits_by_source = visits.sort_values('start_ts').groupby('uid').first()\n",
    "visits_by_source = visits_by_source['source_id']\n",
    "orders_by_source = orders.merge(visits_by_source, on = 'uid', how = 'left')\n",
    "orders_by_source.head()"
   ]
  },
  {
   "cell_type": "code",
   "execution_count": null,
   "metadata": {},
   "outputs": [],
   "source": [
    "orders_by_source['order_month'] = orders_by_source['order_month'].astype('datetime64[D]')\n",
    "cac_per_source_id = (orders_by_source.groupby(['source_id'], as_index = False)\n",
    "                     .agg({'uid':'nunique'})\n",
    "                     .rename(columns = {'uid':'n_buyers'})\n",
    "                     .merge(costs.groupby('source_id', as_index = False)\n",
    "                            .agg({'costs': 'sum'}), on = 'source_id')\n",
    "                     .assign(cac = lambda row: row['costs'] / row['n_buyers'])\n",
    "                    )\n",
    "cac_per_source_id"
   ]
  },
  {
   "cell_type": "markdown",
   "metadata": {},
   "source": [
    "**Вывод:**   \n",
    "самое дорогое привлечение приходится на источник №3. Стоимость привлечения одного клиента = 13.49 y.e Данный канал также привлёк 10473 клиентов. Так как это самый дорогой канал, можно отказаться от данного канала и распределить его бюджет на более привлекательные.\n",
    "\n",
    "  \n",
    " \n",
    "Над каналом 9 и 10 явно необходимо ещё поэксперементировать, так как стоимость клиента низкая, а бюджет израсходаван в разы ниже, по сравнению с другими источниками."
   ]
  },
  {
   "cell_type": "markdown",
   "metadata": {},
   "source": [
    "### ROMI"
   ]
  },
  {
   "cell_type": "code",
   "execution_count": null,
   "metadata": {},
   "outputs": [],
   "source": [
    "romi=pd.merge(final, monthly_costs, left_on='first_order_month', right_on='month')\n",
    "romi['cac'] = romi['costs'] / romi['n_buyers']\n",
    "romi['romi'] = romi['ltv'] / romi['cac']\n",
    "output = romi.pivot_table(\n",
    "        index='first_order_month', \n",
    "        columns='time', \n",
    "        values='romi', \n",
    "        aggfunc='mean')\n",
    "\n",
    "output=output.cumsum(axis=1).round(2)\n",
    "output.index = output.index.strftime(\"%m/%Y\")"
   ]
  },
  {
   "cell_type": "code",
   "execution_count": null,
   "metadata": {},
   "outputs": [],
   "source": [
    "sns.set(style='white')\n",
    "plt.figure(figsize=(13, 9))\n",
    "plt.title('Когорты: ROMI', size=14, weight = 'bold')\n",
    "ax=sns.heatmap(output, annot=True, fmt='.2f', linewidths=1, linecolor='black', cmap = 'hot')\n",
    "ax.set_ylabel('Месяц когорты')\n",
    "ax.set_xlabel('Месяц жизни когорты');"
   ]
  },
  {
   "cell_type": "markdown",
   "metadata": {},
   "source": [
    "**Вывод:**  \n",
    "окупились когорты:    \n",
    "- 06/2017 на 6 месяце\n",
    "- 09/2017 на 3 месяце."
   ]
  },
  {
   "cell_type": "markdown",
   "metadata": {},
   "source": [
    "### Рассчитаем ROMI по источникам рекламы"
   ]
  },
  {
   "cell_type": "code",
   "execution_count": null,
   "metadata": {},
   "outputs": [],
   "source": [
    "# найдем рекламный источник первого визита для каждого клиента\n",
    "# и объеденим с таблицей orders\n",
    "\n",
    "first_uid_source = visits.groupby(['uid'])['source_id'].min()\n",
    "first_uid_source.name = 'first_uid_source'\n",
    "first_uid_source = orders.join(first_uid_source,on='uid')\n",
    "first_uid_source.head()"
   ]
  },
  {
   "cell_type": "code",
   "execution_count": null,
   "metadata": {},
   "outputs": [],
   "source": [
    "# выведем выручку по каждому источнику\n",
    "revenue_source=first_uid_source.groupby(['first_uid_source'])['revenue'].sum().reset_index()\n",
    "revenue_source"
   ]
  },
  {
   "cell_type": "code",
   "execution_count": null,
   "metadata": {},
   "outputs": [],
   "source": [
    "romi_source = cac_per_source_id.merge(revenue_source, left_on='source_id', right_on='first_uid_source')\n",
    "romi_source['romi']=romi_source['revenue']/romi_source['costs']\n",
    "romi_source.drop('first_uid_source', axis=1, inplace=True)\n",
    "\n",
    "romi_source"
   ]
  },
  {
   "cell_type": "code",
   "execution_count": null,
   "metadata": {},
   "outputs": [],
   "source": [
    "output = romi_source.sort_values(by='romi', ascending=False).reset_index()\n",
    "\n",
    "ax=output.plot(y='romi', x='source_id', kind='bar', figsize=(8, 5), title='ROMI по источникам', legend=False, rot=360)\n",
    "plt.axhline(y=1, color='r', linestyle='--')\n",
    "ax.text(.99, 0.22, 'порог окупаемости',\n",
    "        verticalalignment='bottom', horizontalalignment='right',\n",
    "        transform=ax.transAxes,\n",
    "        color='red', fontsize=12)\n",
    "plt.xlabel('Источники рекламы')\n",
    "plt.ylabel('ROMI')\n",
    "plt.show()"
   ]
  },
  {
   "cell_type": "markdown",
   "metadata": {},
   "source": [
    "**Вывод:**  \n",
    "источник №1 окупается почти в 4 раза. Источник 2 выходит в ноль, при том, он самый дорогой. \n",
    "Остальные источники с первого взгляда не являются прибыльными, но это совсем не так. Если сложить ROMI данных источников, то данные каналы имеют право на жизнь."
   ]
  },
  {
   "cell_type": "markdown",
   "metadata": {},
   "source": [
    "# Общий вывод"
   ]
  },
  {
   "cell_type": "markdown",
   "metadata": {},
   "source": [
    "## Выполненные работы     \n",
    "\n",
    "    1. Данные изучены и подготовлены к анализу     \n",
    "    2. Рассчитаны метрики     \n",
    "    3. Построены необходимые графики  \n",
    "\n",
    "**Рассчитал и отобразил:**\n",
    "\n",
    "Продукт:\n",
    "- Посещаемость DAU, WAU, MAU\n",
    "- Количество сессий и их продолжительность\n",
    "- Retantion rate\n",
    "\n",
    "E-commerce:\n",
    "- Время совершения первой покупки\n",
    "- Среднее количество покупок за 6 месяцев\n",
    "- Средний чек\n",
    "- LTV\n",
    "\n",
    "Маркетинг:\n",
    "- Сумма расходов\n",
    "- Расходы по источникам\n",
    "- Расходы по месяцам\n",
    "- CAC\n",
    "- ROMI\n",
    "\n",
    "## Итоговый вывод\n",
    "\n",
    "Яндекс.Афиша с июня 2017 по конец мая 2018 года    \n",
    "Всего посещений за: 359400     \n",
    "Всего покупок: 50415     \n",
    "Конверсия в покупку = 14%     \n",
    "Business season начинается в марте и завершается в сентябре.     \n",
    "Бизнесу свойственны событийные транзакции.\n",
    "Если включить в рассчёты аренду офиса, пресонал и др. постоянные расходы, то бизнес сильно работает в минус.\n",
    "- - -\n",
    "Ежeдневная аудитория DAU: 908 человек;     \n",
    "Еженедельная аудитория WAU: 5825 человек;     \n",
    "Ежемесячная аудитория WAU: 23228 человек;    \n",
    "Среднее количество сессий в день: 987 сессий;    \n",
    "В среднем сессия длится: 11 минут;    \n",
    "Когорта 06/2017 имеет самый высокий Retention Rate на протяжении всего периода;     \n",
    "Заказ совершается в первые 150 минут;     \n",
    "В среднем покупают в день/неделя/месяц, раз: 138.502 / 969.519 / 4201.250;     \n",
    "Средний чек составляет: 5 y.e;     \n",
    "Больше всего маркетинговых расходов приходится на 10, 11 и 12 месяцы. В среднем расходуется около 27 428 y.e     \n",
    "окупились когорты:    \n",
    "- 06/2017 на 6 месяце\n",
    "- 09/2017 на 3 месяце.    \n",
    "\n",
    "Средний CAC 9.32 y.e больше среднего чека 5 y.e, что сигнализирует о проблемах.     \n",
    "\n",
    "\n",
    "ROMI: источник №1 окупается почти в 4 раза. Источник 2 выходит в ноль, при том он самый дорогой. \n",
    "Остальные источники с первого взгляда не являются прибыльными, но это совсем не так. Если сложить ROMI данных истоников, то данные каналы имеют право на жизнь.\n",
    "\n",
    "**Предложение по маркетинговой стратегии**    \n",
    "Из всех маркетинговых стратегий, самая удачная была в сентябре 2017 г. её можно взять за ориентир или вернуться к её более подробному изучению. \n",
    "\n",
    "\n",
    "Если канал №1 является email рассылка по своей базе, то все же не стоит рассматривать данный канал как привлечение новых пользователей, он будет лучше работать на удержание. Бизнес нужно масштабировать привлекая новых клиентов. А для этого нужно тестировать новые каналы привлечения, отказываясь от неэффективных.    \n",
    "Поэтому шаги должны быть такие:\n",
    "1. Определить max CAC, который нельзя превышать. Глобально CAC не должен превышать средний чек = 5 y.e.\n",
    "2. Отказаться от канала №3 и перекинуть его бюджет на дургие, более привлекательные каналы.\n",
    "3. Заняться поиском, ранее неиспользуемых каналов привлечения."
   ]
  }
 ],
 "metadata": {
  "ExecuteTimeLog": [
   {
    "duration": 144,
    "start_time": "2021-09-18T10:14:08.628Z"
   },
   {
    "duration": 742,
    "start_time": "2021-09-18T10:14:11.788Z"
   },
   {
    "duration": 122,
    "start_time": "2021-09-18T10:14:12.533Z"
   },
   {
    "duration": 721,
    "start_time": "2021-09-18T10:14:22.908Z"
   },
   {
    "duration": 1179,
    "start_time": "2021-09-18T10:15:33.628Z"
   },
   {
    "duration": 781,
    "start_time": "2021-09-18T21:59:29.199Z"
   },
   {
    "duration": 854,
    "start_time": "2021-09-18T21:59:29.982Z"
   },
   {
    "duration": 30,
    "start_time": "2021-09-18T21:59:41.582Z"
   },
   {
    "duration": 10,
    "start_time": "2021-09-18T21:59:50.714Z"
   },
   {
    "duration": 11,
    "start_time": "2021-09-18T21:59:58.142Z"
   },
   {
    "duration": 16,
    "start_time": "2021-09-18T22:00:31.455Z"
   },
   {
    "duration": 10,
    "start_time": "2021-09-18T22:00:33.798Z"
   },
   {
    "duration": 16,
    "start_time": "2021-09-18T22:00:36.361Z"
   },
   {
    "duration": 78,
    "start_time": "2021-09-18T22:15:08.643Z"
   },
   {
    "duration": 593,
    "start_time": "2021-09-18T22:15:33.443Z"
   },
   {
    "duration": 101,
    "start_time": "2021-09-18T22:15:39.375Z"
   },
   {
    "duration": 389,
    "start_time": "2021-09-18T22:17:14.995Z"
   },
   {
    "duration": 373,
    "start_time": "2021-09-18T22:17:19.964Z"
   },
   {
    "duration": 6,
    "start_time": "2021-09-18T22:18:19.359Z"
   },
   {
    "duration": 5,
    "start_time": "2021-09-18T22:18:56.856Z"
   },
   {
    "duration": 5,
    "start_time": "2021-09-18T22:20:04.540Z"
   },
   {
    "duration": 18,
    "start_time": "2021-09-18T22:20:12.624Z"
   },
   {
    "duration": 4,
    "start_time": "2021-09-18T22:20:17.835Z"
   },
   {
    "duration": 451,
    "start_time": "2021-09-18T22:24:59.924Z"
   },
   {
    "duration": 6975,
    "start_time": "2021-09-18T22:25:22.987Z"
   },
   {
    "duration": 7494,
    "start_time": "2021-09-18T22:25:44.024Z"
   },
   {
    "duration": 7443,
    "start_time": "2021-09-18T22:26:40.195Z"
   },
   {
    "duration": 10155,
    "start_time": "2021-09-18T22:27:00.192Z"
   },
   {
    "duration": 781,
    "start_time": "2021-09-18T22:28:12.830Z"
   },
   {
    "duration": 859,
    "start_time": "2021-09-18T22:28:13.614Z"
   },
   {
    "duration": 21,
    "start_time": "2021-09-18T22:28:14.479Z"
   },
   {
    "duration": 84,
    "start_time": "2021-09-18T22:28:14.502Z"
   },
   {
    "duration": 394,
    "start_time": "2021-09-18T22:28:14.588Z"
   },
   {
    "duration": 252,
    "start_time": "2021-09-18T22:28:14.985Z"
   },
   {
    "duration": 5,
    "start_time": "2021-09-18T22:28:15.241Z"
   },
   {
    "duration": 5,
    "start_time": "2021-09-18T22:28:15.259Z"
   },
   {
    "duration": 14,
    "start_time": "2021-09-18T22:28:15.271Z"
   },
   {
    "duration": 12,
    "start_time": "2021-09-18T22:28:15.287Z"
   },
   {
    "duration": 35,
    "start_time": "2021-09-18T22:28:50.259Z"
   },
   {
    "duration": 347,
    "start_time": "2021-09-18T22:29:56.086Z"
   },
   {
    "duration": 277,
    "start_time": "2021-09-18T22:30:09.531Z"
   },
   {
    "duration": 13,
    "start_time": "2021-09-18T22:30:13.730Z"
   },
   {
    "duration": 18,
    "start_time": "2021-09-18T22:30:21.454Z"
   },
   {
    "duration": 96,
    "start_time": "2021-09-18T22:31:01.382Z"
   },
   {
    "duration": 24,
    "start_time": "2021-09-18T22:31:20.526Z"
   },
   {
    "duration": 92,
    "start_time": "2021-09-18T22:33:44.910Z"
   },
   {
    "duration": 163,
    "start_time": "2021-09-18T22:33:50.279Z"
   },
   {
    "duration": 177,
    "start_time": "2021-09-18T22:34:09.070Z"
   },
   {
    "duration": 157,
    "start_time": "2021-09-18T22:34:21.067Z"
   },
   {
    "duration": 157,
    "start_time": "2021-09-18T22:34:40.786Z"
   },
   {
    "duration": 160,
    "start_time": "2021-09-18T22:34:46.163Z"
   },
   {
    "duration": 22,
    "start_time": "2021-09-18T22:35:05.407Z"
   },
   {
    "duration": 6543,
    "start_time": "2021-09-18T22:36:10.201Z"
   },
   {
    "duration": 9356,
    "start_time": "2021-09-18T22:36:24.967Z"
   },
   {
    "duration": 25,
    "start_time": "2021-09-18T22:37:23.655Z"
   },
   {
    "duration": 6,
    "start_time": "2021-09-18T22:37:40.270Z"
   },
   {
    "duration": 4,
    "start_time": "2021-09-18T22:38:10.718Z"
   },
   {
    "duration": 10,
    "start_time": "2021-09-18T22:38:24.526Z"
   },
   {
    "duration": 3,
    "start_time": "2021-09-18T22:41:01.046Z"
   },
   {
    "duration": 11,
    "start_time": "2021-09-18T22:47:41.444Z"
   },
   {
    "duration": 8,
    "start_time": "2021-09-18T22:48:55.434Z"
   },
   {
    "duration": 7,
    "start_time": "2021-09-18T22:50:53.466Z"
   },
   {
    "duration": 6,
    "start_time": "2021-09-18T22:51:28.850Z"
   },
   {
    "duration": 6,
    "start_time": "2021-09-18T22:51:31.886Z"
   },
   {
    "duration": 6,
    "start_time": "2021-09-18T22:51:54.445Z"
   },
   {
    "duration": 17,
    "start_time": "2021-09-18T22:52:26.354Z"
   },
   {
    "duration": 12,
    "start_time": "2021-09-18T22:52:37.194Z"
   },
   {
    "duration": 862,
    "start_time": "2021-09-18T23:02:56.474Z"
   },
   {
    "duration": 1122,
    "start_time": "2021-09-18T23:02:57.340Z"
   },
   {
    "duration": 30,
    "start_time": "2021-09-18T23:02:58.466Z"
   },
   {
    "duration": 123,
    "start_time": "2021-09-18T23:02:58.499Z"
   },
   {
    "duration": 497,
    "start_time": "2021-09-18T23:02:58.625Z"
   },
   {
    "duration": 431,
    "start_time": "2021-09-18T23:02:59.125Z"
   },
   {
    "duration": 11,
    "start_time": "2021-09-18T23:02:59.559Z"
   },
   {
    "duration": 4,
    "start_time": "2021-09-18T23:02:59.581Z"
   },
   {
    "duration": 36,
    "start_time": "2021-09-18T23:02:59.589Z"
   },
   {
    "duration": 38,
    "start_time": "2021-09-18T23:02:59.628Z"
   },
   {
    "duration": 17,
    "start_time": "2021-09-18T23:02:59.669Z"
   },
   {
    "duration": 25,
    "start_time": "2021-09-18T23:02:59.689Z"
   },
   {
    "duration": 21,
    "start_time": "2021-09-18T23:02:59.756Z"
   },
   {
    "duration": 8,
    "start_time": "2021-09-18T23:02:59.779Z"
   },
   {
    "duration": 9,
    "start_time": "2021-09-18T23:02:59.790Z"
   },
   {
    "duration": 13,
    "start_time": "2021-09-18T23:02:59.802Z"
   },
   {
    "duration": 19,
    "start_time": "2021-09-18T23:02:59.857Z"
   },
   {
    "duration": 10,
    "start_time": "2021-09-18T23:02:59.879Z"
   },
   {
    "duration": 11,
    "start_time": "2021-09-18T23:02:59.891Z"
   },
   {
    "duration": 6,
    "start_time": "2021-09-18T23:02:59.905Z"
   },
   {
    "duration": 43,
    "start_time": "2021-09-18T23:02:59.914Z"
   },
   {
    "duration": 18,
    "start_time": "2021-09-18T23:02:59.960Z"
   },
   {
    "duration": 1043,
    "start_time": "2021-09-18T23:02:59.982Z"
   },
   {
    "duration": 1077,
    "start_time": "2021-09-18T23:03:15.218Z"
   },
   {
    "duration": 863,
    "start_time": "2021-09-18T23:04:17.638Z"
   },
   {
    "duration": 360,
    "start_time": "2021-09-18T23:06:24.802Z"
   },
   {
    "duration": 343,
    "start_time": "2021-09-18T23:06:34.702Z"
   },
   {
    "duration": 334,
    "start_time": "2021-09-18T23:06:40.037Z"
   },
   {
    "duration": 801,
    "start_time": "2021-09-18T23:14:18.866Z"
   },
   {
    "duration": 442,
    "start_time": "2021-09-18T23:14:19.909Z"
   },
   {
    "duration": 329,
    "start_time": "2021-09-18T23:14:59.302Z"
   },
   {
    "duration": 320,
    "start_time": "2021-09-18T23:15:42.894Z"
   },
   {
    "duration": 306,
    "start_time": "2021-09-18T23:16:43.823Z"
   },
   {
    "duration": 321,
    "start_time": "2021-09-18T23:18:08.770Z"
   },
   {
    "duration": 319,
    "start_time": "2021-09-18T23:18:13.674Z"
   },
   {
    "duration": 7,
    "start_time": "2021-09-18T23:18:16.501Z"
   },
   {
    "duration": 327,
    "start_time": "2021-09-18T23:18:22.314Z"
   },
   {
    "duration": 699,
    "start_time": "2021-09-18T23:20:16.946Z"
   },
   {
    "duration": 656,
    "start_time": "2021-09-18T23:20:20.501Z"
   },
   {
    "duration": 331,
    "start_time": "2021-09-18T23:20:43.941Z"
   },
   {
    "duration": 324,
    "start_time": "2021-09-18T23:20:50.290Z"
   },
   {
    "duration": 321,
    "start_time": "2021-09-18T23:20:54.977Z"
   },
   {
    "duration": 626,
    "start_time": "2021-09-18T23:22:15.458Z"
   },
   {
    "duration": 333,
    "start_time": "2021-09-18T23:22:42.266Z"
   },
   {
    "duration": 84,
    "start_time": "2021-09-18T23:23:12.443Z"
   },
   {
    "duration": 340,
    "start_time": "2021-09-18T23:23:18.742Z"
   },
   {
    "duration": 336,
    "start_time": "2021-09-18T23:23:35.713Z"
   },
   {
    "duration": 321,
    "start_time": "2021-09-18T23:24:13.454Z"
   },
   {
    "duration": 320,
    "start_time": "2021-09-18T23:24:46.578Z"
   },
   {
    "duration": 319,
    "start_time": "2021-09-18T23:25:16.503Z"
   },
   {
    "duration": 327,
    "start_time": "2021-09-18T23:25:24.382Z"
   },
   {
    "duration": 319,
    "start_time": "2021-09-18T23:26:01.106Z"
   },
   {
    "duration": 6,
    "start_time": "2021-09-18T23:26:22.391Z"
   },
   {
    "duration": 690,
    "start_time": "2021-09-18T23:26:31.362Z"
   },
   {
    "duration": 323,
    "start_time": "2021-09-18T23:26:40.089Z"
   },
   {
    "duration": 320,
    "start_time": "2021-09-18T23:26:56.790Z"
   },
   {
    "duration": 325,
    "start_time": "2021-09-18T23:27:04.005Z"
   },
   {
    "duration": 319,
    "start_time": "2021-09-18T23:27:11.173Z"
   },
   {
    "duration": 339,
    "start_time": "2021-09-18T23:27:39.553Z"
   },
   {
    "duration": 316,
    "start_time": "2021-09-18T23:27:46.550Z"
   },
   {
    "duration": 11,
    "start_time": "2021-09-18T23:32:10.402Z"
   },
   {
    "duration": 10,
    "start_time": "2021-09-18T23:32:21.059Z"
   },
   {
    "duration": 85,
    "start_time": "2021-09-18T23:32:41.366Z"
   },
   {
    "duration": 7,
    "start_time": "2021-09-18T23:32:46.774Z"
   },
   {
    "duration": 7,
    "start_time": "2021-09-18T23:32:50.982Z"
   },
   {
    "duration": 7,
    "start_time": "2021-09-18T23:32:57.018Z"
   },
   {
    "duration": 7,
    "start_time": "2021-09-18T23:33:12.894Z"
   },
   {
    "duration": 8,
    "start_time": "2021-09-18T23:33:18.170Z"
   },
   {
    "duration": 7,
    "start_time": "2021-09-18T23:34:09.290Z"
   },
   {
    "duration": 7,
    "start_time": "2021-09-18T23:34:14.102Z"
   },
   {
    "duration": 7,
    "start_time": "2021-09-18T23:34:34.434Z"
   },
   {
    "duration": 6,
    "start_time": "2021-09-18T23:34:38.454Z"
   },
   {
    "duration": 6,
    "start_time": "2021-09-18T23:37:35.162Z"
   },
   {
    "duration": 7,
    "start_time": "2021-09-18T23:40:02.686Z"
   },
   {
    "duration": 7,
    "start_time": "2021-09-18T23:52:11.725Z"
   },
   {
    "duration": 135,
    "start_time": "2021-09-18T23:52:19.355Z"
   },
   {
    "duration": 138,
    "start_time": "2021-09-18T23:52:25.370Z"
   },
   {
    "duration": 765,
    "start_time": "2021-09-18T23:54:46.379Z"
   },
   {
    "duration": 435,
    "start_time": "2021-09-18T23:57:27.259Z"
   },
   {
    "duration": 376,
    "start_time": "2021-09-18T23:57:34.656Z"
   },
   {
    "duration": 128,
    "start_time": "2021-09-18T23:57:42.195Z"
   },
   {
    "duration": 141,
    "start_time": "2021-09-18T23:57:48.655Z"
   },
   {
    "duration": 388,
    "start_time": "2021-09-18T23:58:04.600Z"
   },
   {
    "duration": 352,
    "start_time": "2021-09-18T23:58:36.332Z"
   },
   {
    "duration": 137,
    "start_time": "2021-09-18T23:59:06.799Z"
   },
   {
    "duration": 387,
    "start_time": "2021-09-18T23:59:29.120Z"
   },
   {
    "duration": 375,
    "start_time": "2021-09-18T23:59:32.087Z"
   },
   {
    "duration": 391,
    "start_time": "2021-09-18T23:59:42.464Z"
   },
   {
    "duration": 438,
    "start_time": "2021-09-18T23:59:47.703Z"
   },
   {
    "duration": 229,
    "start_time": "2021-09-19T00:00:12.120Z"
   },
   {
    "duration": 403,
    "start_time": "2021-09-19T00:00:23.735Z"
   },
   {
    "duration": 393,
    "start_time": "2021-09-19T00:01:17.731Z"
   },
   {
    "duration": 625,
    "start_time": "2021-09-19T00:01:46.863Z"
   },
   {
    "duration": 346,
    "start_time": "2021-09-19T00:01:59.367Z"
   },
   {
    "duration": 382,
    "start_time": "2021-09-19T00:02:07.551Z"
   },
   {
    "duration": 357,
    "start_time": "2021-09-19T00:02:15.099Z"
   },
   {
    "duration": 138,
    "start_time": "2021-09-19T00:02:23.363Z"
   },
   {
    "duration": 1141,
    "start_time": "2021-09-19T00:02:48.575Z"
   },
   {
    "duration": 405,
    "start_time": "2021-09-19T00:02:53.115Z"
   },
   {
    "duration": 2471,
    "start_time": "2021-09-19T00:02:59.347Z"
   },
   {
    "duration": 355,
    "start_time": "2021-09-19T00:03:10.651Z"
   },
   {
    "duration": 369,
    "start_time": "2021-09-19T00:04:20.847Z"
   },
   {
    "duration": 8574,
    "start_time": "2021-09-19T00:04:43.134Z"
   },
   {
    "duration": 8943,
    "start_time": "2021-09-19T00:06:02.579Z"
   },
   {
    "duration": 8891,
    "start_time": "2021-09-19T00:06:39.763Z"
   },
   {
    "duration": 144,
    "start_time": "2021-09-19T00:07:21.635Z"
   },
   {
    "duration": 8848,
    "start_time": "2021-09-19T00:08:14.755Z"
   },
   {
    "duration": 410,
    "start_time": "2021-09-19T00:08:34.823Z"
   },
   {
    "duration": 364,
    "start_time": "2021-09-19T00:08:46.635Z"
   },
   {
    "duration": 393,
    "start_time": "2021-09-19T00:08:50.603Z"
   },
   {
    "duration": 341,
    "start_time": "2021-09-19T00:08:58.211Z"
   },
   {
    "duration": 100,
    "start_time": "2021-09-19T00:09:01.175Z"
   },
   {
    "duration": 99,
    "start_time": "2021-09-19T00:09:06.615Z"
   },
   {
    "duration": 105,
    "start_time": "2021-09-19T00:09:17.367Z"
   },
   {
    "duration": 1227,
    "start_time": "2021-09-19T00:09:30.815Z"
   },
   {
    "duration": 1463,
    "start_time": "2021-09-19T00:09:41.703Z"
   },
   {
    "duration": 377,
    "start_time": "2021-09-19T00:10:45.611Z"
   },
   {
    "duration": 414,
    "start_time": "2021-09-19T00:10:55.255Z"
   },
   {
    "duration": 1171,
    "start_time": "2021-09-19T00:12:48.999Z"
   },
   {
    "duration": 1749,
    "start_time": "2021-09-19T00:12:52.967Z"
   },
   {
    "duration": 1801,
    "start_time": "2021-09-19T00:13:03.911Z"
   },
   {
    "duration": 1531,
    "start_time": "2021-09-19T00:13:07.823Z"
   },
   {
    "duration": 1511,
    "start_time": "2021-09-19T00:13:16.839Z"
   },
   {
    "duration": 1430,
    "start_time": "2021-09-19T00:13:19.065Z"
   },
   {
    "duration": 1574,
    "start_time": "2021-09-19T00:13:25.271Z"
   },
   {
    "duration": 1394,
    "start_time": "2021-09-19T00:13:27.947Z"
   },
   {
    "duration": 1389,
    "start_time": "2021-09-19T00:14:05.883Z"
   },
   {
    "duration": 609,
    "start_time": "2021-09-19T00:14:21.263Z"
   },
   {
    "duration": 597,
    "start_time": "2021-09-19T00:15:06.020Z"
   },
   {
    "duration": 590,
    "start_time": "2021-09-19T00:15:25.515Z"
   },
   {
    "duration": 424,
    "start_time": "2021-09-19T11:29:57.154Z"
   },
   {
    "duration": 1251,
    "start_time": "2021-09-19T11:30:08.752Z"
   },
   {
    "duration": 686,
    "start_time": "2021-09-19T11:30:10.007Z"
   },
   {
    "duration": 12,
    "start_time": "2021-09-19T11:30:10.695Z"
   },
   {
    "duration": 71,
    "start_time": "2021-09-19T11:30:10.708Z"
   },
   {
    "duration": 269,
    "start_time": "2021-09-19T11:30:10.781Z"
   },
   {
    "duration": 172,
    "start_time": "2021-09-19T11:30:11.052Z"
   },
   {
    "duration": 4,
    "start_time": "2021-09-19T11:30:11.225Z"
   },
   {
    "duration": 6,
    "start_time": "2021-09-19T11:30:11.232Z"
   },
   {
    "duration": 44,
    "start_time": "2021-09-19T11:30:11.240Z"
   },
   {
    "duration": 7,
    "start_time": "2021-09-19T11:30:11.286Z"
   },
   {
    "duration": 14,
    "start_time": "2021-09-19T11:30:11.295Z"
   },
   {
    "duration": 15,
    "start_time": "2021-09-19T11:30:11.311Z"
   },
   {
    "duration": 13,
    "start_time": "2021-09-19T11:30:11.328Z"
   },
   {
    "duration": 5,
    "start_time": "2021-09-19T11:30:11.343Z"
   },
   {
    "duration": 3,
    "start_time": "2021-09-19T11:30:11.377Z"
   },
   {
    "duration": 7,
    "start_time": "2021-09-19T11:30:11.382Z"
   },
   {
    "duration": 10,
    "start_time": "2021-09-19T11:30:11.391Z"
   },
   {
    "duration": 8,
    "start_time": "2021-09-19T11:30:11.402Z"
   },
   {
    "duration": 5,
    "start_time": "2021-09-19T11:30:11.412Z"
   },
   {
    "duration": 5,
    "start_time": "2021-09-19T11:30:11.418Z"
   },
   {
    "duration": 7,
    "start_time": "2021-09-19T11:30:11.424Z"
   },
   {
    "duration": 45,
    "start_time": "2021-09-19T11:30:11.432Z"
   },
   {
    "duration": 489,
    "start_time": "2021-09-19T11:30:11.480Z"
   },
   {
    "duration": 356,
    "start_time": "2021-09-19T11:30:11.971Z"
   },
   {
    "duration": 9,
    "start_time": "2021-09-19T11:30:12.329Z"
   },
   {
    "duration": 774,
    "start_time": "2021-09-19T11:30:12.340Z"
   },
   {
    "duration": 8,
    "start_time": "2021-09-19T11:30:13.116Z"
   },
   {
    "duration": 411,
    "start_time": "2021-09-19T11:30:13.126Z"
   },
   {
    "duration": 8,
    "start_time": "2021-09-19T11:30:34.912Z"
   },
   {
    "duration": 7,
    "start_time": "2021-09-19T11:30:45.752Z"
   },
   {
    "duration": 8,
    "start_time": "2021-09-19T11:30:51.687Z"
   },
   {
    "duration": 855,
    "start_time": "2021-09-19T11:31:09.280Z"
   },
   {
    "duration": 8,
    "start_time": "2021-09-19T11:31:17.631Z"
   },
   {
    "duration": 36,
    "start_time": "2021-09-19T11:33:44.536Z"
   },
   {
    "duration": 108,
    "start_time": "2021-09-19T11:34:09.796Z"
   },
   {
    "duration": 71,
    "start_time": "2021-09-19T11:34:22.324Z"
   },
   {
    "duration": 67,
    "start_time": "2021-09-19T11:34:30.152Z"
   },
   {
    "duration": 1181,
    "start_time": "2021-09-19T12:16:39.716Z"
   },
   {
    "duration": 684,
    "start_time": "2021-09-19T12:16:40.899Z"
   },
   {
    "duration": 12,
    "start_time": "2021-09-19T12:16:41.586Z"
   },
   {
    "duration": 53,
    "start_time": "2021-09-19T12:16:41.601Z"
   },
   {
    "duration": 280,
    "start_time": "2021-09-19T12:16:41.656Z"
   },
   {
    "duration": 204,
    "start_time": "2021-09-19T12:16:41.938Z"
   },
   {
    "duration": 5,
    "start_time": "2021-09-19T12:16:42.143Z"
   },
   {
    "duration": 3,
    "start_time": "2021-09-19T12:16:42.150Z"
   },
   {
    "duration": 98,
    "start_time": "2021-09-19T12:16:42.155Z"
   },
   {
    "duration": 49,
    "start_time": "2021-09-19T12:16:42.255Z"
   },
   {
    "duration": 8,
    "start_time": "2021-09-19T12:16:42.306Z"
   },
   {
    "duration": 13,
    "start_time": "2021-09-19T12:16:42.316Z"
   },
   {
    "duration": 20,
    "start_time": "2021-09-19T12:16:42.330Z"
   },
   {
    "duration": 40,
    "start_time": "2021-09-19T12:16:42.351Z"
   },
   {
    "duration": 6,
    "start_time": "2021-09-19T12:16:42.394Z"
   },
   {
    "duration": 8,
    "start_time": "2021-09-19T12:16:42.402Z"
   },
   {
    "duration": 11,
    "start_time": "2021-09-19T12:16:42.412Z"
   },
   {
    "duration": 8,
    "start_time": "2021-09-19T12:16:42.425Z"
   },
   {
    "duration": 11,
    "start_time": "2021-09-19T12:16:42.434Z"
   },
   {
    "duration": 33,
    "start_time": "2021-09-19T12:16:42.447Z"
   },
   {
    "duration": 7,
    "start_time": "2021-09-19T12:16:42.482Z"
   },
   {
    "duration": 17,
    "start_time": "2021-09-19T12:16:42.491Z"
   },
   {
    "duration": 7,
    "start_time": "2021-09-19T12:16:42.511Z"
   },
   {
    "duration": 527,
    "start_time": "2021-09-19T12:16:42.520Z"
   },
   {
    "duration": 345,
    "start_time": "2021-09-19T12:16:43.049Z"
   },
   {
    "duration": 10,
    "start_time": "2021-09-19T12:16:43.396Z"
   },
   {
    "duration": 805,
    "start_time": "2021-09-19T12:16:43.407Z"
   },
   {
    "duration": 7,
    "start_time": "2021-09-19T12:16:44.213Z"
   },
   {
    "duration": 431,
    "start_time": "2021-09-19T12:16:44.222Z"
   },
   {
    "duration": 350,
    "start_time": "2021-09-19T12:17:09.913Z"
   },
   {
    "duration": 1180,
    "start_time": "2021-09-19T12:17:15.718Z"
   },
   {
    "duration": 666,
    "start_time": "2021-09-19T12:17:16.900Z"
   },
   {
    "duration": 12,
    "start_time": "2021-09-19T12:17:17.569Z"
   },
   {
    "duration": 57,
    "start_time": "2021-09-19T12:17:17.583Z"
   },
   {
    "duration": 292,
    "start_time": "2021-09-19T12:17:17.642Z"
   },
   {
    "duration": 187,
    "start_time": "2021-09-19T12:17:17.935Z"
   },
   {
    "duration": 4,
    "start_time": "2021-09-19T12:17:18.124Z"
   },
   {
    "duration": 8,
    "start_time": "2021-09-19T12:17:18.131Z"
   },
   {
    "duration": 89,
    "start_time": "2021-09-19T12:17:18.142Z"
   },
   {
    "duration": 24,
    "start_time": "2021-09-19T12:17:18.233Z"
   },
   {
    "duration": 19,
    "start_time": "2021-09-19T12:17:18.259Z"
   },
   {
    "duration": 13,
    "start_time": "2021-09-19T12:17:18.281Z"
   },
   {
    "duration": 18,
    "start_time": "2021-09-19T12:17:18.296Z"
   },
   {
    "duration": 13,
    "start_time": "2021-09-19T12:17:18.316Z"
   },
   {
    "duration": 11,
    "start_time": "2021-09-19T12:17:18.331Z"
   },
   {
    "duration": 32,
    "start_time": "2021-09-19T12:17:18.344Z"
   },
   {
    "duration": 8,
    "start_time": "2021-09-19T12:17:18.379Z"
   },
   {
    "duration": 8,
    "start_time": "2021-09-19T12:17:18.390Z"
   },
   {
    "duration": 12,
    "start_time": "2021-09-19T12:17:18.400Z"
   },
   {
    "duration": 6,
    "start_time": "2021-09-19T12:17:18.414Z"
   },
   {
    "duration": 9,
    "start_time": "2021-09-19T12:17:18.422Z"
   },
   {
    "duration": 5,
    "start_time": "2021-09-19T12:17:18.433Z"
   },
   {
    "duration": 36,
    "start_time": "2021-09-19T12:17:18.441Z"
   },
   {
    "duration": 518,
    "start_time": "2021-09-19T12:17:18.480Z"
   },
   {
    "duration": 351,
    "start_time": "2021-09-19T12:17:18.999Z"
   },
   {
    "duration": 9,
    "start_time": "2021-09-19T12:17:19.352Z"
   },
   {
    "duration": 824,
    "start_time": "2021-09-19T12:17:19.362Z"
   },
   {
    "duration": 9,
    "start_time": "2021-09-19T12:17:20.188Z"
   },
   {
    "duration": 437,
    "start_time": "2021-09-19T12:17:20.198Z"
   },
   {
    "duration": 1318,
    "start_time": "2021-09-19T19:31:59.517Z"
   },
   {
    "duration": 929,
    "start_time": "2021-09-19T19:32:00.837Z"
   },
   {
    "duration": 12,
    "start_time": "2021-09-19T19:32:01.768Z"
   },
   {
    "duration": 59,
    "start_time": "2021-09-19T19:32:01.782Z"
   },
   {
    "duration": 306,
    "start_time": "2021-09-19T19:32:01.843Z"
   },
   {
    "duration": 206,
    "start_time": "2021-09-19T19:32:02.151Z"
   },
   {
    "duration": 7,
    "start_time": "2021-09-19T19:32:02.359Z"
   },
   {
    "duration": 5,
    "start_time": "2021-09-19T19:32:02.368Z"
   },
   {
    "duration": 98,
    "start_time": "2021-09-19T19:32:02.375Z"
   },
   {
    "duration": 25,
    "start_time": "2021-09-19T19:32:02.474Z"
   },
   {
    "duration": 7,
    "start_time": "2021-09-19T19:32:02.501Z"
   },
   {
    "duration": 13,
    "start_time": "2021-09-19T19:32:02.509Z"
   },
   {
    "duration": 33,
    "start_time": "2021-09-19T19:32:02.523Z"
   },
   {
    "duration": 17,
    "start_time": "2021-09-19T19:32:02.557Z"
   },
   {
    "duration": 4,
    "start_time": "2021-09-19T19:32:02.575Z"
   },
   {
    "duration": 5,
    "start_time": "2021-09-19T19:32:02.581Z"
   },
   {
    "duration": 14,
    "start_time": "2021-09-19T19:32:02.588Z"
   },
   {
    "duration": 8,
    "start_time": "2021-09-19T19:32:02.603Z"
   },
   {
    "duration": 9,
    "start_time": "2021-09-19T19:32:02.613Z"
   },
   {
    "duration": 8,
    "start_time": "2021-09-19T19:32:02.650Z"
   },
   {
    "duration": 10,
    "start_time": "2021-09-19T19:32:02.659Z"
   },
   {
    "duration": 8,
    "start_time": "2021-09-19T19:32:02.671Z"
   },
   {
    "duration": 11,
    "start_time": "2021-09-19T19:32:02.683Z"
   },
   {
    "duration": 571,
    "start_time": "2021-09-19T19:32:02.696Z"
   },
   {
    "duration": 360,
    "start_time": "2021-09-19T19:32:03.269Z"
   },
   {
    "duration": 8,
    "start_time": "2021-09-19T19:32:03.631Z"
   },
   {
    "duration": 771,
    "start_time": "2021-09-19T19:32:03.640Z"
   },
   {
    "duration": 7,
    "start_time": "2021-09-19T19:32:04.413Z"
   },
   {
    "duration": 420,
    "start_time": "2021-09-19T19:32:04.422Z"
   },
   {
    "duration": 880,
    "start_time": "2021-09-19T19:32:10.899Z"
   },
   {
    "duration": 6648,
    "start_time": "2021-09-19T19:33:39.090Z"
   },
   {
    "duration": 8680,
    "start_time": "2021-09-19T19:33:48.818Z"
   },
   {
    "duration": 20,
    "start_time": "2021-09-19T19:34:08.347Z"
   },
   {
    "duration": 10,
    "start_time": "2021-09-19T19:34:44.274Z"
   },
   {
    "duration": 7995,
    "start_time": "2021-09-19T19:37:55.672Z"
   },
   {
    "duration": 15,
    "start_time": "2021-09-19T19:38:48.164Z"
   },
   {
    "duration": 2119,
    "start_time": "2021-09-19T19:39:53.908Z"
   },
   {
    "duration": 2036,
    "start_time": "2021-09-19T19:40:47.066Z"
   },
   {
    "duration": 989,
    "start_time": "2021-09-19T19:40:58.075Z"
   },
   {
    "duration": 1661,
    "start_time": "2021-09-19T19:43:00.381Z"
   },
   {
    "duration": 45,
    "start_time": "2021-09-19T19:54:41.157Z"
   },
   {
    "duration": 46,
    "start_time": "2021-09-19T19:55:18.589Z"
   },
   {
    "duration": 45,
    "start_time": "2021-09-19T19:55:27.809Z"
   },
   {
    "duration": 27,
    "start_time": "2021-09-19T19:56:30.258Z"
   },
   {
    "duration": 26,
    "start_time": "2021-09-19T19:56:37.002Z"
   },
   {
    "duration": 7595,
    "start_time": "2021-09-19T19:57:18.286Z"
   },
   {
    "duration": 29,
    "start_time": "2021-09-19T19:57:28.829Z"
   },
   {
    "duration": 37,
    "start_time": "2021-09-19T19:57:41.307Z"
   },
   {
    "duration": 13,
    "start_time": "2021-09-19T19:59:07.599Z"
   },
   {
    "duration": 248,
    "start_time": "2021-09-19T19:59:54.129Z"
   },
   {
    "duration": 256,
    "start_time": "2021-09-19T20:00:06.920Z"
   },
   {
    "duration": 261,
    "start_time": "2021-09-19T20:00:15.588Z"
   },
   {
    "duration": 1331,
    "start_time": "2021-09-19T20:01:58.943Z"
   },
   {
    "duration": 16,
    "start_time": "2021-09-19T20:02:19.254Z"
   },
   {
    "duration": 254,
    "start_time": "2021-09-19T20:02:32.773Z"
   },
   {
    "duration": 29,
    "start_time": "2021-09-19T20:02:44.759Z"
   },
   {
    "duration": 317,
    "start_time": "2021-09-19T20:03:33.393Z"
   },
   {
    "duration": 283,
    "start_time": "2021-09-19T20:04:08.929Z"
   },
   {
    "duration": 13,
    "start_time": "2021-09-19T20:04:20.441Z"
   },
   {
    "duration": 328,
    "start_time": "2021-09-19T20:04:32.254Z"
   },
   {
    "duration": 267,
    "start_time": "2021-09-19T20:05:38.557Z"
   },
   {
    "duration": 461,
    "start_time": "2021-09-19T20:05:44.229Z"
   },
   {
    "duration": 18,
    "start_time": "2021-09-19T20:09:41.365Z"
   },
   {
    "duration": 29,
    "start_time": "2021-09-19T20:11:04.469Z"
   },
   {
    "duration": 7476,
    "start_time": "2021-09-19T20:12:09.693Z"
   },
   {
    "duration": 29,
    "start_time": "2021-09-19T20:12:28.206Z"
   },
   {
    "duration": 43,
    "start_time": "2021-09-19T20:18:39.875Z"
   },
   {
    "duration": 20,
    "start_time": "2021-09-19T20:18:45.503Z"
   },
   {
    "duration": -46,
    "start_time": "2021-09-19T20:21:36.599Z"
   },
   {
    "duration": 26,
    "start_time": "2021-09-19T20:21:55.897Z"
   },
   {
    "duration": 26,
    "start_time": "2021-09-19T20:22:02.577Z"
   },
   {
    "duration": 27,
    "start_time": "2021-09-19T20:22:14.465Z"
   },
   {
    "duration": 27,
    "start_time": "2021-09-19T20:22:39.486Z"
   },
   {
    "duration": -36,
    "start_time": "2021-09-19T20:29:49.914Z"
   },
   {
    "duration": 303,
    "start_time": "2021-09-19T20:29:59.614Z"
   },
   {
    "duration": 303,
    "start_time": "2021-09-19T20:30:02.426Z"
   },
   {
    "duration": 307,
    "start_time": "2021-09-19T20:30:10.258Z"
   },
   {
    "duration": 299,
    "start_time": "2021-09-19T20:30:30.378Z"
   },
   {
    "duration": 307,
    "start_time": "2021-09-19T20:30:45.047Z"
   },
   {
    "duration": 345,
    "start_time": "2021-09-19T20:30:54.039Z"
   },
   {
    "duration": 334,
    "start_time": "2021-09-19T20:31:01.903Z"
   },
   {
    "duration": 306,
    "start_time": "2021-09-19T20:31:06.820Z"
   },
   {
    "duration": 273,
    "start_time": "2021-09-19T20:39:46.939Z"
   },
   {
    "duration": 464,
    "start_time": "2021-09-19T20:40:10.602Z"
   },
   {
    "duration": 477,
    "start_time": "2021-09-19T20:40:18.823Z"
   },
   {
    "duration": 753,
    "start_time": "2021-09-19T20:40:27.807Z"
   },
   {
    "duration": 581,
    "start_time": "2021-09-19T20:40:53.156Z"
   },
   {
    "duration": 347,
    "start_time": "2021-09-19T20:40:55.176Z"
   },
   {
    "duration": 349,
    "start_time": "2021-09-19T20:40:58.691Z"
   },
   {
    "duration": 392,
    "start_time": "2021-09-19T20:41:01.495Z"
   },
   {
    "duration": 319,
    "start_time": "2021-09-19T20:41:04.699Z"
   },
   {
    "duration": 341,
    "start_time": "2021-09-19T20:41:08.515Z"
   },
   {
    "duration": 297,
    "start_time": "2021-09-19T20:41:13.042Z"
   },
   {
    "duration": 354,
    "start_time": "2021-09-19T20:41:15.339Z"
   },
   {
    "duration": 355,
    "start_time": "2021-09-19T20:41:18.099Z"
   },
   {
    "duration": 374,
    "start_time": "2021-09-19T20:41:20.719Z"
   },
   {
    "duration": 525,
    "start_time": "2021-09-19T20:41:34.231Z"
   },
   {
    "duration": 446,
    "start_time": "2021-09-19T20:41:36.704Z"
   },
   {
    "duration": 419,
    "start_time": "2021-09-19T20:41:43.620Z"
   },
   {
    "duration": 479,
    "start_time": "2021-09-19T20:41:45.707Z"
   },
   {
    "duration": 390,
    "start_time": "2021-09-19T20:41:54.247Z"
   },
   {
    "duration": 395,
    "start_time": "2021-09-19T20:41:56.623Z"
   },
   {
    "duration": 385,
    "start_time": "2021-09-19T20:42:18.135Z"
   },
   {
    "duration": 377,
    "start_time": "2021-09-19T20:42:23.760Z"
   },
   {
    "duration": 377,
    "start_time": "2021-09-19T20:42:38.961Z"
   },
   {
    "duration": 411,
    "start_time": "2021-09-19T20:42:41.283Z"
   },
   {
    "duration": 374,
    "start_time": "2021-09-19T20:42:46.923Z"
   },
   {
    "duration": 512,
    "start_time": "2021-09-19T20:42:49.277Z"
   },
   {
    "duration": 284,
    "start_time": "2021-09-19T20:43:17.827Z"
   },
   {
    "duration": 238,
    "start_time": "2021-09-19T20:44:26.143Z"
   },
   {
    "duration": 259,
    "start_time": "2021-09-19T20:50:39.263Z"
   },
   {
    "duration": 248,
    "start_time": "2021-09-19T20:50:55.322Z"
   },
   {
    "duration": 1223,
    "start_time": "2021-09-19T20:51:18.498Z"
   },
   {
    "duration": 84,
    "start_time": "2021-09-19T20:51:21.590Z"
   },
   {
    "duration": 99,
    "start_time": "2021-09-19T20:51:30.426Z"
   },
   {
    "duration": 115,
    "start_time": "2021-09-19T20:51:34.723Z"
   },
   {
    "duration": 327,
    "start_time": "2021-09-19T20:52:57.418Z"
   },
   {
    "duration": 86,
    "start_time": "2021-09-19T20:53:11.094Z"
   },
   {
    "duration": 84,
    "start_time": "2021-09-19T20:53:15.070Z"
   },
   {
    "duration": 610,
    "start_time": "2021-09-19T20:54:17.546Z"
   },
   {
    "duration": 533,
    "start_time": "2021-09-19T20:54:38.467Z"
   },
   {
    "duration": 187,
    "start_time": "2021-09-19T20:55:23.495Z"
   },
   {
    "duration": 62,
    "start_time": "2021-09-19T20:55:39.582Z"
   },
   {
    "duration": 445,
    "start_time": "2021-09-19T20:56:13.291Z"
   },
   {
    "duration": 78,
    "start_time": "2021-09-19T20:56:17.798Z"
   },
   {
    "duration": 78,
    "start_time": "2021-09-19T20:56:26.115Z"
   },
   {
    "duration": 267,
    "start_time": "2021-09-19T20:58:41.196Z"
   },
   {
    "duration": 7,
    "start_time": "2021-09-19T20:59:08.660Z"
   },
   {
    "duration": 3,
    "start_time": "2021-09-19T20:59:10.512Z"
   },
   {
    "duration": 4,
    "start_time": "2021-09-19T20:59:44.520Z"
   },
   {
    "duration": 1232,
    "start_time": "2021-09-19T20:59:50.800Z"
   },
   {
    "duration": 1766,
    "start_time": "2021-09-19T20:59:56.516Z"
   },
   {
    "duration": 397,
    "start_time": "2021-09-19T20:59:58.284Z"
   },
   {
    "duration": 367,
    "start_time": "2021-09-19T21:00:04.385Z"
   },
   {
    "duration": 358,
    "start_time": "2021-09-19T21:00:09.009Z"
   },
   {
    "duration": 17,
    "start_time": "2021-09-19T21:00:15.925Z"
   },
   {
    "duration": 4,
    "start_time": "2021-09-19T21:00:25.749Z"
   },
   {
    "duration": 16,
    "start_time": "2021-09-19T21:00:33.401Z"
   },
   {
    "duration": 33,
    "start_time": "2021-09-19T21:01:58.637Z"
   },
   {
    "duration": 118,
    "start_time": "2021-09-19T21:03:43.786Z"
   },
   {
    "duration": 25,
    "start_time": "2021-09-19T21:14:49.098Z"
   },
   {
    "duration": 803,
    "start_time": "2021-09-19T21:15:11.130Z"
   },
   {
    "duration": 1181,
    "start_time": "2021-09-19T21:15:19.971Z"
   },
   {
    "duration": 810,
    "start_time": "2021-09-19T21:15:23.930Z"
   },
   {
    "duration": 1225,
    "start_time": "2021-09-19T21:15:28.410Z"
   },
   {
    "duration": 1067,
    "start_time": "2021-09-19T21:15:45.775Z"
   },
   {
    "duration": 1074,
    "start_time": "2021-09-19T21:15:55.671Z"
   },
   {
    "duration": 822,
    "start_time": "2021-09-19T21:16:01.859Z"
   },
   {
    "duration": 1012,
    "start_time": "2021-09-19T21:16:07.710Z"
   },
   {
    "duration": 810,
    "start_time": "2021-09-19T21:16:36.558Z"
   },
   {
    "duration": 947,
    "start_time": "2021-09-19T21:16:43.067Z"
   },
   {
    "duration": 250,
    "start_time": "2021-09-19T21:17:10.159Z"
   },
   {
    "duration": 762,
    "start_time": "2021-09-19T21:17:29.782Z"
   },
   {
    "duration": 287,
    "start_time": "2021-09-19T21:18:45.722Z"
   },
   {
    "duration": 259,
    "start_time": "2021-09-19T21:19:56.074Z"
   },
   {
    "duration": 1096,
    "start_time": "2021-09-19T21:20:04.631Z"
   },
   {
    "duration": 845,
    "start_time": "2021-09-19T21:20:17.143Z"
   },
   {
    "duration": 827,
    "start_time": "2021-09-19T21:20:21.927Z"
   },
   {
    "duration": 786,
    "start_time": "2021-09-19T21:20:26.374Z"
   },
   {
    "duration": 796,
    "start_time": "2021-09-19T21:29:35.047Z"
   },
   {
    "duration": 1290,
    "start_time": "2021-09-19T21:30:14.659Z"
   },
   {
    "duration": 8677,
    "start_time": "2021-09-19T21:43:50.426Z"
   },
   {
    "duration": 91,
    "start_time": "2021-09-19T21:44:24.958Z"
   },
   {
    "duration": 9282,
    "start_time": "2021-09-19T21:44:28.970Z"
   },
   {
    "duration": 17,
    "start_time": "2021-09-19T21:45:23.356Z"
   },
   {
    "duration": 17,
    "start_time": "2021-09-19T21:45:33.310Z"
   },
   {
    "duration": 43,
    "start_time": "2021-09-19T21:45:52.906Z"
   },
   {
    "duration": 11,
    "start_time": "2021-09-19T21:45:56.870Z"
   },
   {
    "duration": 10,
    "start_time": "2021-09-19T21:46:26.146Z"
   },
   {
    "duration": 9,
    "start_time": "2021-09-19T21:47:18.451Z"
   },
   {
    "duration": 14,
    "start_time": "2021-09-19T21:48:04.242Z"
   },
   {
    "duration": 11,
    "start_time": "2021-09-19T21:48:15.466Z"
   },
   {
    "duration": 256,
    "start_time": "2021-09-19T21:49:56.971Z"
   },
   {
    "duration": 10,
    "start_time": "2021-09-19T21:50:02.366Z"
   },
   {
    "duration": 85,
    "start_time": "2021-09-19T21:54:52.874Z"
   },
   {
    "duration": 7,
    "start_time": "2021-09-19T21:56:07.259Z"
   },
   {
    "duration": 10,
    "start_time": "2021-09-19T21:56:09.170Z"
   },
   {
    "duration": 25,
    "start_time": "2021-09-19T21:57:50.221Z"
   },
   {
    "duration": 53,
    "start_time": "2021-09-19T21:57:50.606Z"
   },
   {
    "duration": 8,
    "start_time": "2021-09-19T21:57:50.835Z"
   },
   {
    "duration": 7,
    "start_time": "2021-09-19T21:57:51.039Z"
   },
   {
    "duration": 11,
    "start_time": "2021-09-19T21:57:52.711Z"
   },
   {
    "duration": 15,
    "start_time": "2021-09-19T21:59:59.479Z"
   },
   {
    "duration": 7,
    "start_time": "2021-09-19T22:00:24.979Z"
   },
   {
    "duration": 84,
    "start_time": "2021-09-19T22:03:38.976Z"
   },
   {
    "duration": 248,
    "start_time": "2021-09-19T22:04:36.719Z"
   },
   {
    "duration": 381,
    "start_time": "2021-09-19T22:04:42.839Z"
   },
   {
    "duration": 389,
    "start_time": "2021-09-19T22:05:06.663Z"
   },
   {
    "duration": 384,
    "start_time": "2021-09-19T22:05:46.767Z"
   },
   {
    "duration": 595,
    "start_time": "2021-09-19T22:05:58.263Z"
   },
   {
    "duration": 1323,
    "start_time": "2021-09-19T22:06:11.776Z"
   },
   {
    "duration": 591,
    "start_time": "2021-09-19T22:06:19.012Z"
   },
   {
    "duration": 86,
    "start_time": "2021-09-19T22:06:33.307Z"
   },
   {
    "duration": 77,
    "start_time": "2021-09-19T22:06:37.483Z"
   },
   {
    "duration": 409,
    "start_time": "2021-09-19T22:06:40.407Z"
   },
   {
    "duration": 385,
    "start_time": "2021-09-19T22:07:00.964Z"
   },
   {
    "duration": 346,
    "start_time": "2021-09-19T22:07:02.579Z"
   },
   {
    "duration": 349,
    "start_time": "2021-09-19T22:07:07.436Z"
   },
   {
    "duration": 302,
    "start_time": "2021-09-19T22:07:09.120Z"
   },
   {
    "duration": 46,
    "start_time": "2021-09-19T22:16:45.599Z"
   },
   {
    "duration": 13,
    "start_time": "2021-09-19T22:16:52.411Z"
   },
   {
    "duration": 54,
    "start_time": "2021-09-19T22:19:15.475Z"
   },
   {
    "duration": 15,
    "start_time": "2021-09-19T22:19:15.891Z"
   },
   {
    "duration": 48,
    "start_time": "2021-09-19T22:19:22.699Z"
   },
   {
    "duration": 14,
    "start_time": "2021-09-19T22:19:22.967Z"
   },
   {
    "duration": 11,
    "start_time": "2021-09-19T22:19:41.783Z"
   },
   {
    "duration": 58,
    "start_time": "2021-09-19T22:20:17.814Z"
   },
   {
    "duration": 1166,
    "start_time": "2021-09-19T22:20:18.540Z"
   },
   {
    "duration": 8543,
    "start_time": "2021-09-19T22:20:38.075Z"
   },
   {
    "duration": 828,
    "start_time": "2021-09-19T22:21:48.163Z"
   },
   {
    "duration": 28,
    "start_time": "2021-09-19T22:21:55.383Z"
   },
   {
    "duration": 19,
    "start_time": "2021-09-19T22:24:26.815Z"
   },
   {
    "duration": 15,
    "start_time": "2021-09-19T22:25:41.071Z"
   },
   {
    "duration": 11,
    "start_time": "2021-09-19T22:25:43.867Z"
   },
   {
    "duration": 83,
    "start_time": "2021-09-19T22:27:38.363Z"
   },
   {
    "duration": 10,
    "start_time": "2021-09-19T22:28:52.535Z"
   },
   {
    "duration": 14,
    "start_time": "2021-09-19T22:31:25.819Z"
   },
   {
    "duration": 5,
    "start_time": "2021-09-19T22:32:50.783Z"
   },
   {
    "duration": 364,
    "start_time": "2021-09-19T22:34:20.139Z"
   },
   {
    "duration": 7,
    "start_time": "2021-09-19T22:34:35.691Z"
   },
   {
    "duration": 13,
    "start_time": "2021-09-19T22:34:43.751Z"
   },
   {
    "duration": 6,
    "start_time": "2021-09-19T22:34:48.208Z"
   },
   {
    "duration": 605,
    "start_time": "2021-09-19T22:34:50.344Z"
   },
   {
    "duration": 6,
    "start_time": "2021-09-19T22:35:14.144Z"
   },
   {
    "duration": 347,
    "start_time": "2021-09-19T22:35:14.799Z"
   },
   {
    "duration": 317,
    "start_time": "2021-09-19T22:35:25.923Z"
   },
   {
    "duration": 295,
    "start_time": "2021-09-19T22:35:33.319Z"
   },
   {
    "duration": 376,
    "start_time": "2021-09-19T22:35:39.819Z"
   },
   {
    "duration": 411,
    "start_time": "2021-09-19T22:35:47.747Z"
   },
   {
    "duration": 340,
    "start_time": "2021-09-19T22:35:51.940Z"
   },
   {
    "duration": 329,
    "start_time": "2021-09-19T22:36:33.539Z"
   },
   {
    "duration": 1306,
    "start_time": "2021-09-20T09:21:38.593Z"
   },
   {
    "duration": 784,
    "start_time": "2021-09-20T09:21:39.901Z"
   },
   {
    "duration": 15,
    "start_time": "2021-09-20T09:21:40.687Z"
   },
   {
    "duration": 83,
    "start_time": "2021-09-20T09:21:40.704Z"
   },
   {
    "duration": 230,
    "start_time": "2021-09-20T09:21:40.789Z"
   },
   {
    "duration": 155,
    "start_time": "2021-09-20T09:21:41.021Z"
   },
   {
    "duration": 3,
    "start_time": "2021-09-20T09:21:41.178Z"
   },
   {
    "duration": 16,
    "start_time": "2021-09-20T09:21:41.183Z"
   },
   {
    "duration": 68,
    "start_time": "2021-09-20T09:21:41.201Z"
   },
   {
    "duration": 21,
    "start_time": "2021-09-20T09:21:41.271Z"
   },
   {
    "duration": 6,
    "start_time": "2021-09-20T09:21:41.294Z"
   },
   {
    "duration": 13,
    "start_time": "2021-09-20T09:21:41.302Z"
   },
   {
    "duration": 29,
    "start_time": "2021-09-20T09:21:41.317Z"
   },
   {
    "duration": 12,
    "start_time": "2021-09-20T09:21:41.347Z"
   },
   {
    "duration": 7,
    "start_time": "2021-09-20T09:21:41.361Z"
   },
   {
    "duration": 4,
    "start_time": "2021-09-20T09:21:41.370Z"
   },
   {
    "duration": 17,
    "start_time": "2021-09-20T09:21:41.375Z"
   },
   {
    "duration": 6,
    "start_time": "2021-09-20T09:21:41.393Z"
   },
   {
    "duration": 6,
    "start_time": "2021-09-20T09:21:41.400Z"
   },
   {
    "duration": 7,
    "start_time": "2021-09-20T09:21:41.408Z"
   },
   {
    "duration": 30,
    "start_time": "2021-09-20T09:21:41.417Z"
   },
   {
    "duration": 7,
    "start_time": "2021-09-20T09:21:41.449Z"
   },
   {
    "duration": 18,
    "start_time": "2021-09-20T09:21:41.459Z"
   },
   {
    "duration": 12,
    "start_time": "2021-09-20T09:21:41.479Z"
   },
   {
    "duration": 12,
    "start_time": "2021-09-20T09:21:41.492Z"
   },
   {
    "duration": 448,
    "start_time": "2021-09-20T09:21:41.505Z"
   },
   {
    "duration": 304,
    "start_time": "2021-09-20T09:21:41.954Z"
   },
   {
    "duration": 8,
    "start_time": "2021-09-20T09:21:42.260Z"
   },
   {
    "duration": 691,
    "start_time": "2021-09-20T09:21:42.270Z"
   },
   {
    "duration": 1643,
    "start_time": "2021-09-20T09:21:42.962Z"
   },
   {
    "duration": 368,
    "start_time": "2021-09-20T09:21:44.607Z"
   },
   {
    "duration": 25,
    "start_time": "2021-09-20T09:21:44.977Z"
   },
   {
    "duration": 438,
    "start_time": "2021-09-20T09:21:45.004Z"
   },
   {
    "duration": 28,
    "start_time": "2021-09-20T09:21:45.444Z"
   },
   {
    "duration": 39,
    "start_time": "2021-09-20T09:21:45.473Z"
   },
   {
    "duration": 41,
    "start_time": "2021-09-20T09:21:45.513Z"
   },
   {
    "duration": 382,
    "start_time": "2021-09-20T09:21:45.556Z"
   },
   {
    "duration": 75,
    "start_time": "2021-09-20T09:21:45.940Z"
   },
   {
    "duration": 430,
    "start_time": "2021-09-20T09:21:46.017Z"
   },
   {
    "duration": 109,
    "start_time": "2021-09-20T09:21:46.449Z"
   },
   {
    "duration": 13,
    "start_time": "2021-09-20T09:21:46.560Z"
   },
   {
    "duration": 219,
    "start_time": "2021-09-20T09:21:46.575Z"
   },
   {
    "duration": 30,
    "start_time": "2021-09-20T09:21:46.796Z"
   },
   {
    "duration": 1095,
    "start_time": "2021-09-20T09:21:46.828Z"
   },
   {
    "duration": 25,
    "start_time": "2021-09-20T09:21:47.925Z"
   },
   {
    "duration": 52,
    "start_time": "2021-09-20T09:21:47.952Z"
   },
   {
    "duration": 10,
    "start_time": "2021-09-20T09:21:48.006Z"
   },
   {
    "duration": 6910,
    "start_time": "2021-09-20T09:21:48.018Z"
   },
   {
    "duration": -65,
    "start_time": "2021-09-20T09:21:54.995Z"
   },
   {
    "duration": -68,
    "start_time": "2021-09-20T09:21:54.999Z"
   },
   {
    "duration": -70,
    "start_time": "2021-09-20T09:21:55.002Z"
   },
   {
    "duration": -72,
    "start_time": "2021-09-20T09:21:55.006Z"
   },
   {
    "duration": -77,
    "start_time": "2021-09-20T09:21:55.012Z"
   },
   {
    "duration": -79,
    "start_time": "2021-09-20T09:21:55.015Z"
   },
   {
    "duration": -83,
    "start_time": "2021-09-20T09:21:55.019Z"
   },
   {
    "duration": -89,
    "start_time": "2021-09-20T09:21:55.026Z"
   },
   {
    "duration": -92,
    "start_time": "2021-09-20T09:21:55.030Z"
   },
   {
    "duration": -96,
    "start_time": "2021-09-20T09:21:55.035Z"
   },
   {
    "duration": -98,
    "start_time": "2021-09-20T09:21:55.038Z"
   },
   {
    "duration": 8164,
    "start_time": "2021-09-20T09:23:14.310Z"
   },
   {
    "duration": 13,
    "start_time": "2021-09-20T09:23:42.502Z"
   },
   {
    "duration": 43,
    "start_time": "2021-09-20T09:23:42.809Z"
   },
   {
    "duration": 8,
    "start_time": "2021-09-20T09:23:43.129Z"
   },
   {
    "duration": 8503,
    "start_time": "2021-09-20T09:23:43.881Z"
   },
   {
    "duration": 47,
    "start_time": "2021-09-20T09:27:29.961Z"
   },
   {
    "duration": 28,
    "start_time": "2021-09-20T09:27:33.913Z"
   },
   {
    "duration": 13,
    "start_time": "2021-09-20T09:27:34.173Z"
   },
   {
    "duration": 12,
    "start_time": "2021-09-20T09:27:34.465Z"
   },
   {
    "duration": 10,
    "start_time": "2021-09-20T09:27:36.637Z"
   },
   {
    "duration": 4,
    "start_time": "2021-09-20T09:28:07.834Z"
   },
   {
    "duration": 488,
    "start_time": "2021-09-20T23:16:28.980Z"
   },
   {
    "duration": 1609,
    "start_time": "2021-09-20T23:16:38.686Z"
   },
   {
    "duration": 856,
    "start_time": "2021-09-20T23:16:40.298Z"
   },
   {
    "duration": 16,
    "start_time": "2021-09-20T23:16:41.157Z"
   },
   {
    "duration": 73,
    "start_time": "2021-09-20T23:16:41.175Z"
   },
   {
    "duration": 538,
    "start_time": "2021-09-20T23:16:41.251Z"
   },
   {
    "duration": 427,
    "start_time": "2021-09-20T23:16:41.793Z"
   },
   {
    "duration": 7,
    "start_time": "2021-09-20T23:16:42.223Z"
   },
   {
    "duration": 19,
    "start_time": "2021-09-20T23:16:42.233Z"
   },
   {
    "duration": 157,
    "start_time": "2021-09-20T23:16:42.258Z"
   },
   {
    "duration": 48,
    "start_time": "2021-09-20T23:16:42.420Z"
   },
   {
    "duration": 15,
    "start_time": "2021-09-20T23:16:42.471Z"
   },
   {
    "duration": 39,
    "start_time": "2021-09-20T23:16:42.489Z"
   },
   {
    "duration": 24,
    "start_time": "2021-09-20T23:16:42.531Z"
   },
   {
    "duration": 62,
    "start_time": "2021-09-20T23:16:42.558Z"
   },
   {
    "duration": 7,
    "start_time": "2021-09-20T23:16:42.622Z"
   },
   {
    "duration": 10,
    "start_time": "2021-09-20T23:16:42.631Z"
   },
   {
    "duration": 84,
    "start_time": "2021-09-20T23:16:42.643Z"
   },
   {
    "duration": 26,
    "start_time": "2021-09-20T23:16:42.745Z"
   },
   {
    "duration": 47,
    "start_time": "2021-09-20T23:16:42.780Z"
   },
   {
    "duration": 37,
    "start_time": "2021-09-20T23:16:42.841Z"
   },
   {
    "duration": 30,
    "start_time": "2021-09-20T23:16:42.889Z"
   },
   {
    "duration": 17,
    "start_time": "2021-09-20T23:16:42.922Z"
   },
   {
    "duration": 33,
    "start_time": "2021-09-20T23:16:42.942Z"
   },
   {
    "duration": 49,
    "start_time": "2021-09-20T23:16:42.984Z"
   },
   {
    "duration": 35,
    "start_time": "2021-09-20T23:16:43.036Z"
   },
   {
    "duration": 1167,
    "start_time": "2021-09-20T23:16:43.075Z"
   },
   {
    "duration": 453,
    "start_time": "2021-09-20T23:16:44.248Z"
   },
   {
    "duration": 13,
    "start_time": "2021-09-20T23:16:44.704Z"
   },
   {
    "duration": 1251,
    "start_time": "2021-09-20T23:16:44.720Z"
   },
   {
    "duration": 3094,
    "start_time": "2021-09-20T23:16:45.974Z"
   },
   {
    "duration": 640,
    "start_time": "2021-09-20T23:16:49.070Z"
   },
   {
    "duration": 41,
    "start_time": "2021-09-20T23:16:49.716Z"
   },
   {
    "duration": 559,
    "start_time": "2021-09-20T23:16:49.760Z"
   },
   {
    "duration": 37,
    "start_time": "2021-09-20T23:16:50.322Z"
   },
   {
    "duration": 94,
    "start_time": "2021-09-20T23:16:50.361Z"
   },
   {
    "duration": 36,
    "start_time": "2021-09-20T23:16:50.457Z"
   },
   {
    "duration": 673,
    "start_time": "2021-09-20T23:16:50.495Z"
   },
   {
    "duration": 136,
    "start_time": "2021-09-20T23:16:51.170Z"
   },
   {
    "duration": 498,
    "start_time": "2021-09-20T23:16:51.309Z"
   },
   {
    "duration": 120,
    "start_time": "2021-09-20T23:16:51.810Z"
   },
   {
    "duration": 16,
    "start_time": "2021-09-20T23:16:51.932Z"
   },
   {
    "duration": 271,
    "start_time": "2021-09-20T23:16:51.951Z"
   },
   {
    "duration": 39,
    "start_time": "2021-09-20T23:16:52.224Z"
   },
   {
    "duration": 1310,
    "start_time": "2021-09-20T23:16:52.265Z"
   },
   {
    "duration": 21,
    "start_time": "2021-09-20T23:16:53.577Z"
   },
   {
    "duration": 101,
    "start_time": "2021-09-20T23:16:53.601Z"
   },
   {
    "duration": 19,
    "start_time": "2021-09-20T23:16:53.704Z"
   },
   {
    "duration": 10207,
    "start_time": "2021-09-20T23:16:53.726Z"
   },
   {
    "duration": -28,
    "start_time": "2021-09-20T23:17:03.963Z"
   },
   {
    "duration": -29,
    "start_time": "2021-09-20T23:17:03.965Z"
   },
   {
    "duration": -30,
    "start_time": "2021-09-20T23:17:03.968Z"
   },
   {
    "duration": -31,
    "start_time": "2021-09-20T23:17:03.971Z"
   },
   {
    "duration": -33,
    "start_time": "2021-09-20T23:17:03.974Z"
   },
   {
    "duration": -35,
    "start_time": "2021-09-20T23:17:03.977Z"
   },
   {
    "duration": -36,
    "start_time": "2021-09-20T23:17:03.979Z"
   },
   {
    "duration": -38,
    "start_time": "2021-09-20T23:17:03.983Z"
   },
   {
    "duration": -40,
    "start_time": "2021-09-20T23:17:03.986Z"
   },
   {
    "duration": -45,
    "start_time": "2021-09-20T23:17:03.992Z"
   },
   {
    "duration": -46,
    "start_time": "2021-09-20T23:17:03.995Z"
   },
   {
    "duration": -49,
    "start_time": "2021-09-20T23:17:03.999Z"
   },
   {
    "duration": 11387,
    "start_time": "2021-09-20T23:17:35.731Z"
   },
   {
    "duration": 383,
    "start_time": "2021-09-20T23:20:18.286Z"
   },
   {
    "duration": 395,
    "start_time": "2021-09-20T23:20:34.014Z"
   },
   {
    "duration": 377,
    "start_time": "2021-09-20T23:20:40.078Z"
   },
   {
    "duration": 380,
    "start_time": "2021-09-20T23:21:27.526Z"
   },
   {
    "duration": 15,
    "start_time": "2021-09-20T23:21:47.834Z"
   },
   {
    "duration": 374,
    "start_time": "2021-09-20T23:22:06.087Z"
   },
   {
    "duration": -19,
    "start_time": "2021-09-20T23:22:58.105Z"
   },
   {
    "duration": 10428,
    "start_time": "2021-09-20T23:23:06.102Z"
   },
   {
    "duration": -26,
    "start_time": "2021-09-20T23:23:16.560Z"
   },
   {
    "duration": 106,
    "start_time": "2021-09-20T23:23:45.814Z"
   },
   {
    "duration": 12,
    "start_time": "2021-09-20T23:23:47.858Z"
   },
   {
    "duration": 915,
    "start_time": "2021-09-20T23:23:59.002Z"
   },
   {
    "duration": 1414,
    "start_time": "2021-09-20T23:24:09.282Z"
   },
   {
    "duration": 135,
    "start_time": "2021-09-20T23:24:17.602Z"
   },
   {
    "duration": 1921,
    "start_time": "2021-09-20T23:24:30.291Z"
   },
   {
    "duration": 1770,
    "start_time": "2021-09-20T23:24:39.031Z"
   },
   {
    "duration": 489,
    "start_time": "2021-09-20T23:24:42.890Z"
   },
   {
    "duration": 1824,
    "start_time": "2021-09-20T23:24:50.835Z"
   },
   {
    "duration": 21,
    "start_time": "2021-09-20T23:26:09.946Z"
   },
   {
    "duration": 1881,
    "start_time": "2021-09-20T23:27:31.315Z"
   },
   {
    "duration": 1896,
    "start_time": "2021-09-20T23:27:47.590Z"
   },
   {
    "duration": 1762,
    "start_time": "2021-09-20T23:27:58.179Z"
   },
   {
    "duration": 1901,
    "start_time": "2021-09-20T23:29:00.087Z"
   },
   {
    "duration": 1772,
    "start_time": "2021-09-20T23:29:08.338Z"
   },
   {
    "duration": 1842,
    "start_time": "2021-09-20T23:29:45.015Z"
   },
   {
    "duration": 1946,
    "start_time": "2021-09-20T23:29:52.090Z"
   },
   {
    "duration": 1406,
    "start_time": "2021-09-20T23:29:55.810Z"
   },
   {
    "duration": 23,
    "start_time": "2021-09-20T23:30:02.906Z"
   },
   {
    "duration": 1854,
    "start_time": "2021-09-20T23:30:30.763Z"
   },
   {
    "duration": 1444,
    "start_time": "2021-09-20T23:30:47.366Z"
   },
   {
    "duration": 1865,
    "start_time": "2021-09-20T23:30:53.950Z"
   },
   {
    "duration": 1824,
    "start_time": "2021-09-20T23:31:06.586Z"
   },
   {
    "duration": 1427,
    "start_time": "2021-09-20T23:31:19.927Z"
   },
   {
    "duration": 25,
    "start_time": "2021-09-20T23:31:27.311Z"
   },
   {
    "duration": 386,
    "start_time": "2021-09-20T23:31:35.539Z"
   },
   {
    "duration": 15,
    "start_time": "2021-09-20T23:31:39.135Z"
   },
   {
    "duration": 17,
    "start_time": "2021-09-20T23:32:59.295Z"
   },
   {
    "duration": 1792,
    "start_time": "2021-09-20T23:34:11.305Z"
   },
   {
    "duration": 1838,
    "start_time": "2021-09-20T23:36:13.131Z"
   },
   {
    "duration": 26,
    "start_time": "2021-09-20T23:36:41.135Z"
   },
   {
    "duration": 1446,
    "start_time": "2021-09-20T23:37:48.774Z"
   },
   {
    "duration": 1864,
    "start_time": "2021-09-20T23:37:56.295Z"
   },
   {
    "duration": 785,
    "start_time": "2021-09-20T23:39:51.875Z"
   },
   {
    "duration": 703,
    "start_time": "2021-09-20T23:43:02.011Z"
   },
   {
    "duration": 10,
    "start_time": "2021-09-20T23:43:12.043Z"
   },
   {
    "duration": 17,
    "start_time": "2021-09-20T23:43:13.853Z"
   },
   {
    "duration": 103,
    "start_time": "2021-09-20T23:43:32.858Z"
   },
   {
    "duration": 12,
    "start_time": "2021-09-20T23:43:35.930Z"
   },
   {
    "duration": 993,
    "start_time": "2021-09-20T23:44:58.691Z"
   },
   {
    "duration": 62,
    "start_time": "2021-09-20T23:45:03.731Z"
   },
   {
    "duration": 1093,
    "start_time": "2021-09-20T23:46:32.859Z"
   },
   {
    "duration": 40,
    "start_time": "2021-09-20T23:46:35.195Z"
   },
   {
    "duration": 1282,
    "start_time": "2021-09-20T23:47:13.255Z"
   },
   {
    "duration": 15,
    "start_time": "2021-09-20T23:47:15.615Z"
   },
   {
    "duration": 1359,
    "start_time": "2021-09-20T23:47:32.959Z"
   },
   {
    "duration": 22,
    "start_time": "2021-09-20T23:47:35.411Z"
   },
   {
    "duration": 2138,
    "start_time": "2021-09-20T23:48:18.635Z"
   },
   {
    "duration": 1362,
    "start_time": "2021-09-20T23:48:27.867Z"
   },
   {
    "duration": 27,
    "start_time": "2021-09-20T23:48:31.899Z"
   },
   {
    "duration": 2398,
    "start_time": "2021-09-20T23:48:41.767Z"
   },
   {
    "duration": 17,
    "start_time": "2021-09-20T23:49:17.271Z"
   },
   {
    "duration": 472,
    "start_time": "2021-09-21T19:04:06.916Z"
   },
   {
    "duration": 427,
    "start_time": "2021-09-21T19:04:15.974Z"
   },
   {
    "duration": 1494,
    "start_time": "2021-09-21T19:04:22.904Z"
   },
   {
    "duration": 831,
    "start_time": "2021-09-21T19:04:24.401Z"
   },
   {
    "duration": 16,
    "start_time": "2021-09-21T19:04:25.235Z"
   },
   {
    "duration": 118,
    "start_time": "2021-09-21T19:04:25.254Z"
   },
   {
    "duration": 530,
    "start_time": "2021-09-21T19:04:25.384Z"
   },
   {
    "duration": 239,
    "start_time": "2021-09-21T19:04:25.917Z"
   },
   {
    "duration": 5,
    "start_time": "2021-09-21T19:04:26.158Z"
   },
   {
    "duration": 4,
    "start_time": "2021-09-21T19:04:26.167Z"
   },
   {
    "duration": 125,
    "start_time": "2021-09-21T19:04:26.174Z"
   },
   {
    "duration": 32,
    "start_time": "2021-09-21T19:04:26.302Z"
   },
   {
    "duration": 29,
    "start_time": "2021-09-21T19:04:26.337Z"
   },
   {
    "duration": 17,
    "start_time": "2021-09-21T19:04:26.370Z"
   },
   {
    "duration": 25,
    "start_time": "2021-09-21T19:04:26.389Z"
   },
   {
    "duration": 18,
    "start_time": "2021-09-21T19:04:26.456Z"
   },
   {
    "duration": 8,
    "start_time": "2021-09-21T19:04:26.477Z"
   },
   {
    "duration": 9,
    "start_time": "2021-09-21T19:04:26.487Z"
   },
   {
    "duration": 21,
    "start_time": "2021-09-21T19:04:26.498Z"
   },
   {
    "duration": 38,
    "start_time": "2021-09-21T19:04:26.522Z"
   },
   {
    "duration": 10,
    "start_time": "2021-09-21T19:04:26.562Z"
   },
   {
    "duration": 13,
    "start_time": "2021-09-21T19:04:26.575Z"
   },
   {
    "duration": 10,
    "start_time": "2021-09-21T19:04:26.591Z"
   },
   {
    "duration": 54,
    "start_time": "2021-09-21T19:04:26.604Z"
   },
   {
    "duration": 5,
    "start_time": "2021-09-21T19:04:26.666Z"
   },
   {
    "duration": 11,
    "start_time": "2021-09-21T19:04:26.676Z"
   },
   {
    "duration": 9,
    "start_time": "2021-09-21T19:04:26.690Z"
   },
   {
    "duration": 745,
    "start_time": "2021-09-21T19:04:26.702Z"
   },
   {
    "duration": 424,
    "start_time": "2021-09-21T19:04:27.449Z"
   },
   {
    "duration": 13,
    "start_time": "2021-09-21T19:04:27.876Z"
   },
   {
    "duration": 1212,
    "start_time": "2021-09-21T19:04:27.892Z"
   },
   {
    "duration": 3074,
    "start_time": "2021-09-21T19:04:29.107Z"
   },
   {
    "duration": 647,
    "start_time": "2021-09-21T19:04:32.184Z"
   },
   {
    "duration": 49,
    "start_time": "2021-09-21T19:04:32.833Z"
   },
   {
    "duration": 546,
    "start_time": "2021-09-21T19:04:32.884Z"
   },
   {
    "duration": 46,
    "start_time": "2021-09-21T19:04:33.432Z"
   },
   {
    "duration": 78,
    "start_time": "2021-09-21T19:04:33.481Z"
   },
   {
    "duration": 36,
    "start_time": "2021-09-21T19:04:33.561Z"
   },
   {
    "duration": 625,
    "start_time": "2021-09-21T19:04:33.599Z"
   },
   {
    "duration": 118,
    "start_time": "2021-09-21T19:04:34.227Z"
   },
   {
    "duration": 472,
    "start_time": "2021-09-21T19:04:34.355Z"
   },
   {
    "duration": 112,
    "start_time": "2021-09-21T19:04:34.829Z"
   },
   {
    "duration": 22,
    "start_time": "2021-09-21T19:04:34.943Z"
   },
   {
    "duration": 244,
    "start_time": "2021-09-21T19:04:34.968Z"
   },
   {
    "duration": 49,
    "start_time": "2021-09-21T19:04:35.214Z"
   },
   {
    "duration": 1231,
    "start_time": "2021-09-21T19:04:35.265Z"
   },
   {
    "duration": 20,
    "start_time": "2021-09-21T19:04:36.498Z"
   },
   {
    "duration": 102,
    "start_time": "2021-09-21T19:04:36.520Z"
   },
   {
    "duration": 11,
    "start_time": "2021-09-21T19:04:36.624Z"
   },
   {
    "duration": 9296,
    "start_time": "2021-09-21T19:04:36.637Z"
   },
   {
    "duration": -343,
    "start_time": "2021-09-21T19:04:46.278Z"
   },
   {
    "duration": -345,
    "start_time": "2021-09-21T19:04:46.282Z"
   },
   {
    "duration": -346,
    "start_time": "2021-09-21T19:04:46.285Z"
   },
   {
    "duration": -350,
    "start_time": "2021-09-21T19:04:46.290Z"
   },
   {
    "duration": -350,
    "start_time": "2021-09-21T19:04:46.292Z"
   },
   {
    "duration": -358,
    "start_time": "2021-09-21T19:04:46.301Z"
   },
   {
    "duration": -360,
    "start_time": "2021-09-21T19:04:46.305Z"
   },
   {
    "duration": -362,
    "start_time": "2021-09-21T19:04:46.308Z"
   },
   {
    "duration": -364,
    "start_time": "2021-09-21T19:04:46.312Z"
   },
   {
    "duration": -366,
    "start_time": "2021-09-21T19:04:46.315Z"
   },
   {
    "duration": -367,
    "start_time": "2021-09-21T19:04:46.317Z"
   },
   {
    "duration": -367,
    "start_time": "2021-09-21T19:04:46.319Z"
   },
   {
    "duration": -368,
    "start_time": "2021-09-21T19:04:46.321Z"
   },
   {
    "duration": -369,
    "start_time": "2021-09-21T19:04:46.324Z"
   },
   {
    "duration": -371,
    "start_time": "2021-09-21T19:04:46.327Z"
   },
   {
    "duration": 2237,
    "start_time": "2021-09-21T19:05:09.357Z"
   },
   {
    "duration": 1856,
    "start_time": "2021-09-21T19:05:59.888Z"
   },
   {
    "duration": 1258,
    "start_time": "2021-09-21T19:24:03.660Z"
   },
   {
    "duration": 150,
    "start_time": "2021-09-21T19:30:26.359Z"
   },
   {
    "duration": 141,
    "start_time": "2021-09-21T19:30:32.882Z"
   },
   {
    "duration": 213,
    "start_time": "2021-09-21T19:32:17.339Z"
   },
   {
    "duration": 10742,
    "start_time": "2021-09-21T19:33:02.015Z"
   },
   {
    "duration": 1521,
    "start_time": "2021-09-21T19:33:17.302Z"
   },
   {
    "duration": 828,
    "start_time": "2021-09-21T19:33:18.826Z"
   },
   {
    "duration": 17,
    "start_time": "2021-09-21T19:33:19.656Z"
   },
   {
    "duration": 82,
    "start_time": "2021-09-21T19:33:19.675Z"
   },
   {
    "duration": 381,
    "start_time": "2021-09-21T19:33:19.759Z"
   },
   {
    "duration": 238,
    "start_time": "2021-09-21T19:33:20.142Z"
   },
   {
    "duration": 5,
    "start_time": "2021-09-21T19:33:20.383Z"
   },
   {
    "duration": 8,
    "start_time": "2021-09-21T19:33:20.392Z"
   },
   {
    "duration": 120,
    "start_time": "2021-09-21T19:33:20.403Z"
   },
   {
    "duration": 43,
    "start_time": "2021-09-21T19:33:20.526Z"
   },
   {
    "duration": 11,
    "start_time": "2021-09-21T19:33:20.571Z"
   },
   {
    "duration": 20,
    "start_time": "2021-09-21T19:33:20.584Z"
   },
   {
    "duration": 23,
    "start_time": "2021-09-21T19:33:20.606Z"
   },
   {
    "duration": 18,
    "start_time": "2021-09-21T19:33:20.657Z"
   },
   {
    "duration": 10,
    "start_time": "2021-09-21T19:33:20.677Z"
   },
   {
    "duration": 8,
    "start_time": "2021-09-21T19:33:20.689Z"
   },
   {
    "duration": 19,
    "start_time": "2021-09-21T19:33:20.699Z"
   },
   {
    "duration": 37,
    "start_time": "2021-09-21T19:33:20.720Z"
   },
   {
    "duration": 12,
    "start_time": "2021-09-21T19:33:20.760Z"
   },
   {
    "duration": 20,
    "start_time": "2021-09-21T19:33:20.774Z"
   },
   {
    "duration": 9,
    "start_time": "2021-09-21T19:33:20.797Z"
   },
   {
    "duration": 6,
    "start_time": "2021-09-21T19:33:20.858Z"
   },
   {
    "duration": 23,
    "start_time": "2021-09-21T19:33:20.870Z"
   },
   {
    "duration": 23,
    "start_time": "2021-09-21T19:33:20.896Z"
   },
   {
    "duration": 10,
    "start_time": "2021-09-21T19:33:20.957Z"
   },
   {
    "duration": 1016,
    "start_time": "2021-09-21T19:33:20.970Z"
   },
   {
    "duration": 436,
    "start_time": "2021-09-21T19:33:21.988Z"
   },
   {
    "duration": 11,
    "start_time": "2021-09-21T19:33:22.427Z"
   },
   {
    "duration": 1195,
    "start_time": "2021-09-21T19:33:22.441Z"
   },
   {
    "duration": 2917,
    "start_time": "2021-09-21T19:33:23.639Z"
   },
   {
    "duration": 651,
    "start_time": "2021-09-21T19:33:26.558Z"
   },
   {
    "duration": 78,
    "start_time": "2021-09-21T19:33:27.213Z"
   },
   {
    "duration": 565,
    "start_time": "2021-09-21T19:33:27.294Z"
   },
   {
    "duration": 36,
    "start_time": "2021-09-21T19:33:27.861Z"
   },
   {
    "duration": 85,
    "start_time": "2021-09-21T19:33:27.900Z"
   },
   {
    "duration": 35,
    "start_time": "2021-09-21T19:33:27.987Z"
   },
   {
    "duration": 631,
    "start_time": "2021-09-21T19:33:28.024Z"
   },
   {
    "duration": 125,
    "start_time": "2021-09-21T19:33:28.658Z"
   },
   {
    "duration": 475,
    "start_time": "2021-09-21T19:33:28.785Z"
   },
   {
    "duration": 118,
    "start_time": "2021-09-21T19:33:29.262Z"
   },
   {
    "duration": 14,
    "start_time": "2021-09-21T19:33:29.383Z"
   },
   {
    "duration": 257,
    "start_time": "2021-09-21T19:33:29.400Z"
   },
   {
    "duration": 38,
    "start_time": "2021-09-21T19:33:29.659Z"
   },
   {
    "duration": 1291,
    "start_time": "2021-09-21T19:33:29.700Z"
   },
   {
    "duration": 10046,
    "start_time": "2021-09-21T19:33:30.994Z"
   },
   {
    "duration": -35,
    "start_time": "2021-09-21T19:33:41.078Z"
   },
   {
    "duration": -37,
    "start_time": "2021-09-21T19:33:41.081Z"
   },
   {
    "duration": -39,
    "start_time": "2021-09-21T19:33:41.085Z"
   },
   {
    "duration": -40,
    "start_time": "2021-09-21T19:33:41.088Z"
   },
   {
    "duration": -41,
    "start_time": "2021-09-21T19:33:41.090Z"
   },
   {
    "duration": -43,
    "start_time": "2021-09-21T19:33:41.094Z"
   },
   {
    "duration": 15,
    "start_time": "2021-09-21T19:33:55.476Z"
   },
   {
    "duration": 207,
    "start_time": "2021-09-21T19:34:47.987Z"
   },
   {
    "duration": 9,
    "start_time": "2021-09-21T19:36:04.424Z"
   },
   {
    "duration": 18,
    "start_time": "2021-09-21T19:36:14.437Z"
   },
   {
    "duration": 13,
    "start_time": "2021-09-21T19:36:44.171Z"
   },
   {
    "duration": 8,
    "start_time": "2021-09-21T19:36:44.477Z"
   },
   {
    "duration": 12,
    "start_time": "2021-09-21T19:36:53.095Z"
   },
   {
    "duration": 658,
    "start_time": "2021-09-21T19:37:10.210Z"
   },
   {
    "duration": 8,
    "start_time": "2021-09-21T19:37:15.338Z"
   },
   {
    "duration": 500,
    "start_time": "2021-09-21T19:38:03.683Z"
   },
   {
    "duration": 540,
    "start_time": "2021-09-21T19:38:05.238Z"
   },
   {
    "duration": 450,
    "start_time": "2021-09-21T19:38:09.801Z"
   },
   {
    "duration": 442,
    "start_time": "2021-09-21T19:38:13.586Z"
   },
   {
    "duration": 470,
    "start_time": "2021-09-21T19:38:16.505Z"
   },
   {
    "duration": 467,
    "start_time": "2021-09-21T19:38:22.458Z"
   },
   {
    "duration": 488,
    "start_time": "2021-09-21T19:38:24.802Z"
   },
   {
    "duration": 633,
    "start_time": "2021-09-21T19:38:30.181Z"
   },
   {
    "duration": 624,
    "start_time": "2021-09-21T19:38:32.753Z"
   },
   {
    "duration": 94,
    "start_time": "2021-09-21T19:40:12.500Z"
   },
   {
    "duration": 46,
    "start_time": "2021-09-21T19:40:13.203Z"
   },
   {
    "duration": 19,
    "start_time": "2021-09-21T19:40:13.824Z"
   },
   {
    "duration": 20,
    "start_time": "2021-09-21T19:40:14.396Z"
   },
   {
    "duration": 12,
    "start_time": "2021-09-21T19:40:21.100Z"
   },
   {
    "duration": 124,
    "start_time": "2021-09-21T19:42:52.202Z"
   },
   {
    "duration": 363,
    "start_time": "2021-09-21T19:44:12.968Z"
   },
   {
    "duration": 19,
    "start_time": "2021-09-21T19:44:29.849Z"
   },
   {
    "duration": 587,
    "start_time": "2021-09-21T19:44:37.485Z"
   },
   {
    "duration": 8,
    "start_time": "2021-09-21T19:44:44.825Z"
   },
   {
    "duration": 385,
    "start_time": "2021-09-21T19:44:57.315Z"
   },
   {
    "duration": 8,
    "start_time": "2021-09-21T19:45:08.904Z"
   },
   {
    "duration": 933,
    "start_time": "2021-09-21T19:45:17.249Z"
   },
   {
    "duration": 570,
    "start_time": "2021-09-21T19:45:41.528Z"
   },
   {
    "duration": 573,
    "start_time": "2021-09-21T19:45:55.512Z"
   },
   {
    "duration": 579,
    "start_time": "2021-09-21T19:46:02.145Z"
   },
   {
    "duration": 925,
    "start_time": "2021-09-21T19:46:37.239Z"
   },
   {
    "duration": 1021,
    "start_time": "2021-09-21T19:46:45.546Z"
   },
   {
    "duration": 584,
    "start_time": "2021-09-21T19:46:55.037Z"
   },
   {
    "duration": 591,
    "start_time": "2021-09-21T19:46:59.751Z"
   },
   {
    "duration": 415,
    "start_time": "2021-09-21T19:47:08.764Z"
   },
   {
    "duration": 1458,
    "start_time": "2021-09-21T19:47:19.986Z"
   },
   {
    "duration": 852,
    "start_time": "2021-09-21T19:47:21.447Z"
   },
   {
    "duration": 17,
    "start_time": "2021-09-21T19:47:22.301Z"
   },
   {
    "duration": 87,
    "start_time": "2021-09-21T19:47:22.320Z"
   },
   {
    "duration": 647,
    "start_time": "2021-09-21T19:47:22.410Z"
   },
   {
    "duration": 552,
    "start_time": "2021-09-21T19:47:23.060Z"
   },
   {
    "duration": 6,
    "start_time": "2021-09-21T19:47:23.615Z"
   },
   {
    "duration": 32,
    "start_time": "2021-09-21T19:47:23.624Z"
   },
   {
    "duration": 101,
    "start_time": "2021-09-21T19:47:23.659Z"
   },
   {
    "duration": 31,
    "start_time": "2021-09-21T19:47:23.762Z"
   },
   {
    "duration": 10,
    "start_time": "2021-09-21T19:47:23.796Z"
   },
   {
    "duration": 22,
    "start_time": "2021-09-21T19:47:23.808Z"
   },
   {
    "duration": 24,
    "start_time": "2021-09-21T19:47:23.856Z"
   },
   {
    "duration": 18,
    "start_time": "2021-09-21T19:47:23.883Z"
   },
   {
    "duration": 13,
    "start_time": "2021-09-21T19:47:23.903Z"
   },
   {
    "duration": 15,
    "start_time": "2021-09-21T19:47:23.919Z"
   },
   {
    "duration": 32,
    "start_time": "2021-09-21T19:47:23.936Z"
   },
   {
    "duration": 9,
    "start_time": "2021-09-21T19:47:23.970Z"
   },
   {
    "duration": 13,
    "start_time": "2021-09-21T19:47:23.982Z"
   },
   {
    "duration": 23,
    "start_time": "2021-09-21T19:47:23.997Z"
   },
   {
    "duration": 12,
    "start_time": "2021-09-21T19:47:24.022Z"
   },
   {
    "duration": 13,
    "start_time": "2021-09-21T19:47:24.055Z"
   },
   {
    "duration": 17,
    "start_time": "2021-09-21T19:47:24.074Z"
   },
   {
    "duration": 29,
    "start_time": "2021-09-21T19:47:24.094Z"
   },
   {
    "duration": 19,
    "start_time": "2021-09-21T19:47:24.125Z"
   },
   {
    "duration": 723,
    "start_time": "2021-09-21T19:47:24.146Z"
   },
   {
    "duration": 538,
    "start_time": "2021-09-21T19:47:24.871Z"
   },
   {
    "duration": 11,
    "start_time": "2021-09-21T19:47:25.412Z"
   },
   {
    "duration": 1238,
    "start_time": "2021-09-21T19:47:25.425Z"
   },
   {
    "duration": 3097,
    "start_time": "2021-09-21T19:47:26.665Z"
   },
   {
    "duration": 635,
    "start_time": "2021-09-21T19:47:29.764Z"
   },
   {
    "duration": 58,
    "start_time": "2021-09-21T19:47:30.402Z"
   },
   {
    "duration": 546,
    "start_time": "2021-09-21T19:47:30.462Z"
   },
   {
    "duration": 50,
    "start_time": "2021-09-21T19:47:31.010Z"
   },
   {
    "duration": 66,
    "start_time": "2021-09-21T19:47:31.062Z"
   },
   {
    "duration": 53,
    "start_time": "2021-09-21T19:47:31.130Z"
   },
   {
    "duration": 649,
    "start_time": "2021-09-21T19:47:31.186Z"
   },
   {
    "duration": 123,
    "start_time": "2021-09-21T19:47:31.837Z"
   },
   {
    "duration": 507,
    "start_time": "2021-09-21T19:47:31.962Z"
   },
   {
    "duration": 112,
    "start_time": "2021-09-21T19:47:32.471Z"
   },
   {
    "duration": 14,
    "start_time": "2021-09-21T19:47:32.586Z"
   },
   {
    "duration": 375,
    "start_time": "2021-09-21T19:47:32.603Z"
   },
   {
    "duration": 36,
    "start_time": "2021-09-21T19:47:32.980Z"
   },
   {
    "duration": 1278,
    "start_time": "2021-09-21T19:47:33.018Z"
   },
   {
    "duration": 237,
    "start_time": "2021-09-21T19:47:34.298Z"
   },
   {
    "duration": 29,
    "start_time": "2021-09-21T19:47:34.538Z"
   },
   {
    "duration": 12,
    "start_time": "2021-09-21T19:47:34.569Z"
   },
   {
    "duration": 7,
    "start_time": "2021-09-21T19:47:34.583Z"
   },
   {
    "duration": 700,
    "start_time": "2021-09-21T19:47:34.592Z"
   },
   {
    "duration": 117,
    "start_time": "2021-09-21T19:47:35.295Z"
   },
   {
    "duration": 53,
    "start_time": "2021-09-21T19:47:35.414Z"
   },
   {
    "duration": 18,
    "start_time": "2021-09-21T19:47:35.470Z"
   },
   {
    "duration": 23,
    "start_time": "2021-09-21T19:47:35.491Z"
   },
   {
    "duration": 15,
    "start_time": "2021-09-21T19:47:35.517Z"
   },
   {
    "duration": 31,
    "start_time": "2021-09-21T19:47:35.535Z"
   },
   {
    "duration": 8,
    "start_time": "2021-09-21T19:47:35.568Z"
   },
   {
    "duration": 7,
    "start_time": "2021-09-21T19:47:35.578Z"
   },
   {
    "duration": 643,
    "start_time": "2021-09-21T19:47:35.588Z"
   },
   {
    "duration": 614,
    "start_time": "2021-09-21T19:48:29.814Z"
   },
   {
    "duration": 13,
    "start_time": "2021-09-21T19:55:14.901Z"
   },
   {
    "duration": 27,
    "start_time": "2021-09-21T19:55:30.801Z"
   },
   {
    "duration": 30,
    "start_time": "2021-09-21T19:56:28.646Z"
   },
   {
    "duration": 33,
    "start_time": "2021-09-21T19:56:51.458Z"
   },
   {
    "duration": 33,
    "start_time": "2021-09-21T19:57:10.618Z"
   },
   {
    "duration": 34,
    "start_time": "2021-09-21T19:58:04.988Z"
   },
   {
    "duration": 32,
    "start_time": "2021-09-21T19:58:11.655Z"
   },
   {
    "duration": 513,
    "start_time": "2021-09-21T19:58:40.795Z"
   },
   {
    "duration": 33,
    "start_time": "2021-09-21T19:58:51.816Z"
   },
   {
    "duration": 43,
    "start_time": "2021-09-21T19:58:57.075Z"
   },
   {
    "duration": 32,
    "start_time": "2021-09-21T19:59:13.911Z"
   },
   {
    "duration": 483,
    "start_time": "2021-09-21T20:03:10.516Z"
   },
   {
    "duration": 22,
    "start_time": "2021-09-21T20:03:46.230Z"
   },
   {
    "duration": 2258,
    "start_time": "2021-09-21T20:04:33.633Z"
   },
   {
    "duration": 2627,
    "start_time": "2021-09-21T20:04:39.450Z"
   },
   {
    "duration": 11,
    "start_time": "2021-09-21T20:05:36.480Z"
   },
   {
    "duration": 27,
    "start_time": "2021-09-21T20:06:12.621Z"
   },
   {
    "duration": 10,
    "start_time": "2021-09-21T20:06:14.898Z"
   },
   {
    "duration": 35,
    "start_time": "2021-09-21T20:06:26.393Z"
   },
   {
    "duration": 35,
    "start_time": "2021-09-21T20:07:26.314Z"
   },
   {
    "duration": 41,
    "start_time": "2021-09-21T20:07:35.209Z"
   },
   {
    "duration": 29,
    "start_time": "2021-09-21T20:08:00.557Z"
   },
   {
    "duration": 20,
    "start_time": "2021-09-21T20:08:02.278Z"
   },
   {
    "duration": 387,
    "start_time": "2021-09-21T20:11:20.570Z"
   },
   {
    "duration": 125,
    "start_time": "2021-09-21T20:13:25.158Z"
   },
   {
    "duration": 131,
    "start_time": "2021-09-21T20:16:26.826Z"
   },
   {
    "duration": 123,
    "start_time": "2021-09-21T20:16:33.918Z"
   },
   {
    "duration": 13,
    "start_time": "2021-09-21T20:16:37.023Z"
   },
   {
    "duration": 20,
    "start_time": "2021-09-21T20:16:47.606Z"
   },
   {
    "duration": 13,
    "start_time": "2021-09-21T20:16:51.774Z"
   },
   {
    "duration": 137,
    "start_time": "2021-09-21T20:18:36.295Z"
   },
   {
    "duration": 142,
    "start_time": "2021-09-21T20:19:10.671Z"
   },
   {
    "duration": 10,
    "start_time": "2021-09-21T20:19:43.703Z"
   },
   {
    "duration": 11,
    "start_time": "2021-09-21T20:20:09.992Z"
   },
   {
    "duration": 20,
    "start_time": "2021-09-21T20:20:27.787Z"
   },
   {
    "duration": 15,
    "start_time": "2021-09-21T20:20:28.307Z"
   },
   {
    "duration": 11,
    "start_time": "2021-09-21T20:20:28.824Z"
   },
   {
    "duration": 362,
    "start_time": "2021-09-21T20:24:23.527Z"
   },
   {
    "duration": 10,
    "start_time": "2021-09-21T20:24:24.008Z"
   },
   {
    "duration": 10344,
    "start_time": "2021-09-21T20:24:31.235Z"
   },
   {
    "duration": -6,
    "start_time": "2021-09-21T20:24:41.587Z"
   },
   {
    "duration": 14,
    "start_time": "2021-09-21T20:25:04.547Z"
   },
   {
    "duration": 10,
    "start_time": "2021-09-21T20:25:06.551Z"
   },
   {
    "duration": 21,
    "start_time": "2021-09-21T20:25:12.071Z"
   },
   {
    "duration": 21,
    "start_time": "2021-09-21T20:25:43.174Z"
   },
   {
    "duration": 21,
    "start_time": "2021-09-21T20:25:49.999Z"
   },
   {
    "duration": 21,
    "start_time": "2021-09-21T20:25:53.175Z"
   },
   {
    "duration": 6,
    "start_time": "2021-09-21T20:27:21.727Z"
   },
   {
    "duration": 11,
    "start_time": "2021-09-21T20:27:24.591Z"
   },
   {
    "duration": 12,
    "start_time": "2021-09-21T20:27:54.577Z"
   },
   {
    "duration": 10,
    "start_time": "2021-09-21T20:28:15.568Z"
   },
   {
    "duration": 1064,
    "start_time": "2021-09-21T20:30:21.722Z"
   },
   {
    "duration": 21,
    "start_time": "2021-09-21T20:31:02.612Z"
   },
   {
    "duration": 391,
    "start_time": "2021-09-21T20:31:59.621Z"
   },
   {
    "duration": 33,
    "start_time": "2021-09-21T20:32:06.145Z"
   },
   {
    "duration": 35,
    "start_time": "2021-09-21T20:32:13.930Z"
   },
   {
    "duration": 34,
    "start_time": "2021-09-21T20:32:55.512Z"
   },
   {
    "duration": 36,
    "start_time": "2021-09-21T20:33:10.735Z"
   },
   {
    "duration": 34,
    "start_time": "2021-09-21T20:34:10.937Z"
   },
   {
    "duration": 26,
    "start_time": "2021-09-21T20:37:41.222Z"
   },
   {
    "duration": 25,
    "start_time": "2021-09-21T20:39:14.059Z"
   },
   {
    "duration": 9,
    "start_time": "2021-09-21T20:55:49.282Z"
   },
   {
    "duration": 20,
    "start_time": "2021-09-21T20:55:52.083Z"
   },
   {
    "duration": 18,
    "start_time": "2021-09-21T21:00:00.857Z"
   },
   {
    "duration": 386,
    "start_time": "2021-09-21T21:14:12.804Z"
   },
   {
    "duration": 6,
    "start_time": "2021-09-21T21:15:49.607Z"
   },
   {
    "duration": 14,
    "start_time": "2021-09-21T21:15:55.574Z"
   },
   {
    "duration": 472,
    "start_time": "2021-09-21T21:18:44.263Z"
   },
   {
    "duration": 6,
    "start_time": "2021-09-21T21:18:44.731Z"
   },
   {
    "duration": 8,
    "start_time": "2021-09-21T21:18:58.015Z"
   },
   {
    "duration": 13,
    "start_time": "2021-09-21T21:18:58.599Z"
   },
   {
    "duration": 861,
    "start_time": "2021-09-21T21:20:30.506Z"
   },
   {
    "duration": 9194,
    "start_time": "2021-09-21T21:20:41.711Z"
   },
   {
    "duration": 23,
    "start_time": "2021-09-21T21:20:55.682Z"
   },
   {
    "duration": 27,
    "start_time": "2021-09-21T21:21:15.958Z"
   },
   {
    "duration": 29,
    "start_time": "2021-09-21T21:21:24.898Z"
   },
   {
    "duration": 25,
    "start_time": "2021-09-21T21:21:30.701Z"
   },
   {
    "duration": 26,
    "start_time": "2021-09-21T21:21:35.841Z"
   },
   {
    "duration": 5,
    "start_time": "2021-09-21T21:23:16.726Z"
   },
   {
    "duration": 360,
    "start_time": "2021-09-21T21:26:27.612Z"
   },
   {
    "duration": 607,
    "start_time": "2021-09-21T21:26:42.633Z"
   },
   {
    "duration": 410,
    "start_time": "2021-09-21T21:26:55.552Z"
   },
   {
    "duration": 36,
    "start_time": "2021-09-21T21:28:21.312Z"
   },
   {
    "duration": 917,
    "start_time": "2021-09-21T21:30:19.050Z"
   },
   {
    "duration": 1056,
    "start_time": "2021-09-21T21:30:27.335Z"
   },
   {
    "duration": 1217,
    "start_time": "2021-09-21T21:32:09.233Z"
   },
   {
    "duration": 54,
    "start_time": "2021-09-21T21:34:37.100Z"
   },
   {
    "duration": 51,
    "start_time": "2021-09-21T21:35:10.775Z"
   },
   {
    "duration": 20,
    "start_time": "2021-09-21T21:50:00.746Z"
   },
   {
    "duration": 5,
    "start_time": "2021-09-21T21:50:14.656Z"
   },
   {
    "duration": 5,
    "start_time": "2021-09-21T21:50:29.524Z"
   },
   {
    "duration": 4,
    "start_time": "2021-09-21T21:57:33.212Z"
   },
   {
    "duration": 135,
    "start_time": "2021-09-21T21:59:00.673Z"
   },
   {
    "duration": 380,
    "start_time": "2021-09-21T21:59:13.344Z"
   },
   {
    "duration": 9,
    "start_time": "2021-09-21T21:59:34.083Z"
   },
   {
    "duration": 15,
    "start_time": "2021-09-21T21:59:38.906Z"
   },
   {
    "duration": 532,
    "start_time": "2021-09-21T22:00:36.061Z"
   },
   {
    "duration": 508,
    "start_time": "2021-09-21T22:00:46.355Z"
   },
   {
    "duration": 518,
    "start_time": "2021-09-21T22:01:38.154Z"
   },
   {
    "duration": 526,
    "start_time": "2021-09-21T22:01:45.215Z"
   },
   {
    "duration": 508,
    "start_time": "2021-09-21T22:02:05.727Z"
   },
   {
    "duration": 519,
    "start_time": "2021-09-21T22:02:14.340Z"
   },
   {
    "duration": 541,
    "start_time": "2021-09-21T22:02:31.775Z"
   },
   {
    "duration": 530,
    "start_time": "2021-09-21T22:04:21.598Z"
   },
   {
    "duration": 401,
    "start_time": "2021-09-21T22:05:17.820Z"
   },
   {
    "duration": 385,
    "start_time": "2021-09-21T22:05:22.996Z"
   },
   {
    "duration": 471,
    "start_time": "2021-09-21T22:05:26.512Z"
   },
   {
    "duration": 339,
    "start_time": "2021-09-21T22:05:30.823Z"
   },
   {
    "duration": 765,
    "start_time": "2021-09-21T22:07:05.391Z"
   },
   {
    "duration": 358,
    "start_time": "2021-09-21T22:07:09.180Z"
   },
   {
    "duration": 1153,
    "start_time": "2021-09-21T22:07:12.315Z"
   },
   {
    "duration": 712,
    "start_time": "2021-09-21T22:07:44.087Z"
   },
   {
    "duration": 344,
    "start_time": "2021-09-21T22:07:52.267Z"
   },
   {
    "duration": 354,
    "start_time": "2021-09-21T22:07:55.651Z"
   },
   {
    "duration": 347,
    "start_time": "2021-09-21T22:08:09.968Z"
   },
   {
    "duration": 352,
    "start_time": "2021-09-21T22:08:15.563Z"
   },
   {
    "duration": 347,
    "start_time": "2021-09-21T22:08:40.033Z"
   },
   {
    "duration": 419,
    "start_time": "2021-09-21T22:12:27.643Z"
   },
   {
    "duration": 432,
    "start_time": "2021-09-21T22:12:31.579Z"
   },
   {
    "duration": 293,
    "start_time": "2021-09-21T22:12:34.939Z"
   },
   {
    "duration": 263,
    "start_time": "2021-09-21T22:12:43.471Z"
   },
   {
    "duration": 473,
    "start_time": "2021-09-21T22:12:47.610Z"
   },
   {
    "duration": 289,
    "start_time": "2021-09-21T22:12:50.887Z"
   },
   {
    "duration": 321,
    "start_time": "2021-09-21T22:12:54.751Z"
   },
   {
    "duration": 290,
    "start_time": "2021-09-21T22:12:57.906Z"
   },
   {
    "duration": 400,
    "start_time": "2021-09-21T22:14:17.507Z"
   },
   {
    "duration": 373,
    "start_time": "2021-09-21T22:14:42.380Z"
   },
   {
    "duration": 520,
    "start_time": "2021-09-21T22:19:01.691Z"
   },
   {
    "duration": 434,
    "start_time": "2021-09-21T22:20:53.051Z"
   },
   {
    "duration": 429,
    "start_time": "2021-09-21T22:22:13.352Z"
   },
   {
    "duration": 27,
    "start_time": "2021-09-21T22:22:31.144Z"
   },
   {
    "duration": 23,
    "start_time": "2021-09-21T22:22:45.811Z"
   },
   {
    "duration": 432,
    "start_time": "2021-09-21T22:23:04.715Z"
   },
   {
    "duration": 542,
    "start_time": "2021-09-21T22:25:06.206Z"
   },
   {
    "duration": 319,
    "start_time": "2021-09-21T22:25:16.416Z"
   },
   {
    "duration": 1488,
    "start_time": "2021-09-21T22:25:28.428Z"
   },
   {
    "duration": 822,
    "start_time": "2021-09-21T22:25:29.919Z"
   },
   {
    "duration": 16,
    "start_time": "2021-09-21T22:25:30.744Z"
   },
   {
    "duration": 82,
    "start_time": "2021-09-21T22:25:30.763Z"
   },
   {
    "duration": 394,
    "start_time": "2021-09-21T22:25:30.847Z"
   },
   {
    "duration": 243,
    "start_time": "2021-09-21T22:25:31.244Z"
   },
   {
    "duration": 6,
    "start_time": "2021-09-21T22:25:31.489Z"
   },
   {
    "duration": 15,
    "start_time": "2021-09-21T22:25:31.499Z"
   },
   {
    "duration": 116,
    "start_time": "2021-09-21T22:25:31.517Z"
   },
   {
    "duration": 37,
    "start_time": "2021-09-21T22:25:31.635Z"
   },
   {
    "duration": 10,
    "start_time": "2021-09-21T22:25:31.675Z"
   },
   {
    "duration": 17,
    "start_time": "2021-09-21T22:25:31.688Z"
   },
   {
    "duration": 60,
    "start_time": "2021-09-21T22:25:31.707Z"
   },
   {
    "duration": 17,
    "start_time": "2021-09-21T22:25:31.770Z"
   },
   {
    "duration": 23,
    "start_time": "2021-09-21T22:25:31.789Z"
   },
   {
    "duration": 22,
    "start_time": "2021-09-21T22:25:31.814Z"
   },
   {
    "duration": 35,
    "start_time": "2021-09-21T22:25:31.838Z"
   },
   {
    "duration": 16,
    "start_time": "2021-09-21T22:25:31.876Z"
   },
   {
    "duration": 10,
    "start_time": "2021-09-21T22:25:31.895Z"
   },
   {
    "duration": 28,
    "start_time": "2021-09-21T22:25:31.907Z"
   },
   {
    "duration": 19,
    "start_time": "2021-09-21T22:25:31.938Z"
   },
   {
    "duration": 24,
    "start_time": "2021-09-21T22:25:31.960Z"
   },
   {
    "duration": 24,
    "start_time": "2021-09-21T22:25:31.990Z"
   },
   {
    "duration": 24,
    "start_time": "2021-09-21T22:25:32.017Z"
   },
   {
    "duration": 20,
    "start_time": "2021-09-21T22:25:32.044Z"
   },
   {
    "duration": 728,
    "start_time": "2021-09-21T22:25:32.067Z"
   },
   {
    "duration": 433,
    "start_time": "2021-09-21T22:25:32.798Z"
   },
   {
    "duration": 12,
    "start_time": "2021-09-21T22:25:33.234Z"
   },
   {
    "duration": 1204,
    "start_time": "2021-09-21T22:25:33.257Z"
   },
   {
    "duration": 3026,
    "start_time": "2021-09-21T22:25:34.464Z"
   },
   {
    "duration": 631,
    "start_time": "2021-09-21T22:25:37.493Z"
   },
   {
    "duration": 55,
    "start_time": "2021-09-21T22:25:38.127Z"
   },
   {
    "duration": 619,
    "start_time": "2021-09-21T22:25:38.184Z"
   },
   {
    "duration": 36,
    "start_time": "2021-09-21T22:25:38.805Z"
   },
   {
    "duration": 65,
    "start_time": "2021-09-21T22:25:38.855Z"
   },
   {
    "duration": 52,
    "start_time": "2021-09-21T22:25:38.922Z"
   },
   {
    "duration": 552,
    "start_time": "2021-09-21T22:25:38.976Z"
   },
   {
    "duration": 120,
    "start_time": "2021-09-21T22:25:39.530Z"
   },
   {
    "duration": 479,
    "start_time": "2021-09-21T22:25:39.655Z"
   },
   {
    "duration": 118,
    "start_time": "2021-09-21T22:25:40.138Z"
   },
   {
    "duration": 14,
    "start_time": "2021-09-21T22:25:40.258Z"
   },
   {
    "duration": 257,
    "start_time": "2021-09-21T22:25:40.275Z"
   },
   {
    "duration": 43,
    "start_time": "2021-09-21T22:25:40.534Z"
   },
   {
    "duration": 1267,
    "start_time": "2021-09-21T22:25:40.580Z"
   },
   {
    "duration": 218,
    "start_time": "2021-09-21T22:25:41.856Z"
   },
   {
    "duration": 17,
    "start_time": "2021-09-21T22:25:42.077Z"
   },
   {
    "duration": 14,
    "start_time": "2021-09-21T22:25:42.096Z"
   },
   {
    "duration": 7,
    "start_time": "2021-09-21T22:25:42.113Z"
   },
   {
    "duration": 655,
    "start_time": "2021-09-21T22:25:42.155Z"
   },
   {
    "duration": 97,
    "start_time": "2021-09-21T22:25:42.813Z"
   },
   {
    "duration": 57,
    "start_time": "2021-09-21T22:25:42.913Z"
   },
   {
    "duration": 19,
    "start_time": "2021-09-21T22:25:42.972Z"
   },
   {
    "duration": 16,
    "start_time": "2021-09-21T22:25:42.994Z"
   },
   {
    "duration": 13,
    "start_time": "2021-09-21T22:25:43.012Z"
   },
   {
    "duration": 39,
    "start_time": "2021-09-21T22:25:43.027Z"
   },
   {
    "duration": 7,
    "start_time": "2021-09-21T22:25:43.068Z"
   },
   {
    "duration": 7,
    "start_time": "2021-09-21T22:25:43.077Z"
   },
   {
    "duration": 622,
    "start_time": "2021-09-21T22:25:43.086Z"
   },
   {
    "duration": 46,
    "start_time": "2021-09-21T22:25:43.710Z"
   },
   {
    "duration": 18,
    "start_time": "2021-09-21T22:25:43.758Z"
   },
   {
    "duration": 5,
    "start_time": "2021-09-21T22:25:43.779Z"
   },
   {
    "duration": 17,
    "start_time": "2021-09-21T22:25:43.786Z"
   },
   {
    "duration": 66,
    "start_time": "2021-09-21T22:25:43.806Z"
   },
   {
    "duration": 24,
    "start_time": "2021-09-21T22:25:43.875Z"
   },
   {
    "duration": 17,
    "start_time": "2021-09-21T22:25:43.902Z"
   },
   {
    "duration": 9,
    "start_time": "2021-09-21T22:25:43.921Z"
   },
   {
    "duration": 13,
    "start_time": "2021-09-21T22:25:43.957Z"
   },
   {
    "duration": 37,
    "start_time": "2021-09-21T22:25:43.977Z"
   },
   {
    "duration": 1147,
    "start_time": "2021-09-21T22:25:44.016Z"
   },
   {
    "duration": 6,
    "start_time": "2021-09-21T22:25:45.166Z"
   },
   {
    "duration": 353,
    "start_time": "2021-09-21T22:25:45.175Z"
   },
   {
    "duration": 27,
    "start_time": "2021-09-21T22:25:45.531Z"
   },
   {
    "duration": 535,
    "start_time": "2021-09-21T22:25:45.560Z"
   },
   {
    "duration": 322,
    "start_time": "2021-09-21T22:26:09.772Z"
   },
   {
    "duration": 419,
    "start_time": "2021-09-21T22:26:15.544Z"
   },
   {
    "duration": 467,
    "start_time": "2021-09-21T22:26:39.156Z"
   },
   {
    "duration": 605,
    "start_time": "2021-09-21T22:26:42.877Z"
   },
   {
    "duration": 533,
    "start_time": "2021-09-21T22:26:53.248Z"
   },
   {
    "duration": 10,
    "start_time": "2021-09-21T22:30:03.888Z"
   },
   {
    "duration": 9,
    "start_time": "2021-09-21T22:31:05.099Z"
   },
   {
    "duration": 9,
    "start_time": "2021-09-21T22:31:45.070Z"
   },
   {
    "duration": 3,
    "start_time": "2021-09-21T22:38:01.395Z"
   },
   {
    "duration": 938,
    "start_time": "2021-09-21T22:38:12.390Z"
   },
   {
    "duration": 11,
    "start_time": "2021-09-21T22:40:14.475Z"
   },
   {
    "duration": 19,
    "start_time": "2021-09-21T22:41:23.215Z"
   },
   {
    "duration": 118,
    "start_time": "2021-09-21T22:43:12.808Z"
   },
   {
    "duration": 5,
    "start_time": "2021-09-21T22:55:02.540Z"
   },
   {
    "duration": 6,
    "start_time": "2021-09-21T22:55:36.703Z"
   },
   {
    "duration": 5,
    "start_time": "2021-09-21T22:57:40.671Z"
   },
   {
    "duration": 6,
    "start_time": "2021-09-21T22:58:15.200Z"
   },
   {
    "duration": 5,
    "start_time": "2021-09-21T22:59:08.792Z"
   },
   {
    "duration": 6,
    "start_time": "2021-09-21T22:59:36.411Z"
   },
   {
    "duration": 5,
    "start_time": "2021-09-21T23:00:01.702Z"
   },
   {
    "duration": 5,
    "start_time": "2021-09-21T23:01:38.489Z"
   },
   {
    "duration": 5,
    "start_time": "2021-09-21T23:01:49.640Z"
   },
   {
    "duration": 5,
    "start_time": "2021-09-21T23:03:11.874Z"
   },
   {
    "duration": 5,
    "start_time": "2021-09-21T23:03:51.503Z"
   },
   {
    "duration": 517,
    "start_time": "2021-09-21T23:12:04.224Z"
   },
   {
    "duration": 38,
    "start_time": "2021-09-21T23:13:27.716Z"
   },
   {
    "duration": 1131,
    "start_time": "2021-09-21T23:13:40.100Z"
   },
   {
    "duration": 1071,
    "start_time": "2021-09-21T23:13:48.180Z"
   },
   {
    "duration": 3,
    "start_time": "2021-09-21T23:21:44.974Z"
   },
   {
    "duration": 3,
    "start_time": "2021-09-21T23:23:29.049Z"
   },
   {
    "duration": 150,
    "start_time": "2021-09-21T23:23:48.280Z"
   },
   {
    "duration": 14,
    "start_time": "2021-09-21T23:24:13.329Z"
   },
   {
    "duration": 14,
    "start_time": "2021-09-21T23:24:26.544Z"
   },
   {
    "duration": 371,
    "start_time": "2021-09-21T23:25:50.995Z"
   },
   {
    "duration": 396,
    "start_time": "2021-09-21T23:27:18.683Z"
   },
   {
    "duration": 21,
    "start_time": "2021-09-21T23:27:35.111Z"
   },
   {
    "duration": 459,
    "start_time": "2021-09-21T23:28:56.134Z"
   },
   {
    "duration": 473,
    "start_time": "2021-09-21T23:29:06.558Z"
   },
   {
    "duration": 471,
    "start_time": "2021-09-21T23:29:11.602Z"
   },
   {
    "duration": 574,
    "start_time": "2021-09-21T23:29:20.403Z"
   },
   {
    "duration": 467,
    "start_time": "2021-09-21T23:29:26.612Z"
   },
   {
    "duration": 462,
    "start_time": "2021-09-21T23:29:58.453Z"
   },
   {
    "duration": 491,
    "start_time": "2021-09-21T23:30:03.793Z"
   },
   {
    "duration": 481,
    "start_time": "2021-09-21T23:31:31.363Z"
   },
   {
    "duration": 454,
    "start_time": "2021-09-21T23:31:36.275Z"
   },
   {
    "duration": 429,
    "start_time": "2021-09-21T23:32:15.665Z"
   },
   {
    "duration": 461,
    "start_time": "2021-09-21T23:32:22.802Z"
   },
   {
    "duration": 446,
    "start_time": "2021-09-21T23:32:34.234Z"
   },
   {
    "duration": 688,
    "start_time": "2021-09-21T23:32:44.054Z"
   },
   {
    "duration": 478,
    "start_time": "2021-09-21T23:32:48.431Z"
   },
   {
    "duration": 521,
    "start_time": "2021-09-21T23:33:14.868Z"
   },
   {
    "duration": 434,
    "start_time": "2021-09-21T23:33:43.257Z"
   },
   {
    "duration": 126,
    "start_time": "2021-09-21T23:36:40.456Z"
   },
   {
    "duration": 5,
    "start_time": "2021-09-21T23:52:58.802Z"
   },
   {
    "duration": 5,
    "start_time": "2021-09-21T23:53:06.067Z"
   },
   {
    "duration": 12,
    "start_time": "2021-09-22T00:04:01.003Z"
   },
   {
    "duration": 11,
    "start_time": "2021-09-22T00:05:22.000Z"
   },
   {
    "duration": 1729,
    "start_time": "2021-09-22T09:45:12.418Z"
   },
   {
    "duration": 911,
    "start_time": "2021-09-22T09:45:14.150Z"
   },
   {
    "duration": 23,
    "start_time": "2021-09-22T09:45:15.065Z"
   },
   {
    "duration": 87,
    "start_time": "2021-09-22T09:45:15.091Z"
   },
   {
    "duration": 416,
    "start_time": "2021-09-22T09:45:15.181Z"
   },
   {
    "duration": 251,
    "start_time": "2021-09-22T09:45:15.600Z"
   },
   {
    "duration": 8,
    "start_time": "2021-09-22T09:45:15.853Z"
   },
   {
    "duration": 6,
    "start_time": "2021-09-22T09:45:15.867Z"
   },
   {
    "duration": 132,
    "start_time": "2021-09-22T09:45:15.878Z"
   },
   {
    "duration": 31,
    "start_time": "2021-09-22T09:45:16.012Z"
   },
   {
    "duration": 27,
    "start_time": "2021-09-22T09:45:16.046Z"
   },
   {
    "duration": 15,
    "start_time": "2021-09-22T09:45:16.077Z"
   },
   {
    "duration": 25,
    "start_time": "2021-09-22T09:45:16.094Z"
   },
   {
    "duration": 63,
    "start_time": "2021-09-22T09:45:16.122Z"
   },
   {
    "duration": 16,
    "start_time": "2021-09-22T09:45:16.188Z"
   },
   {
    "duration": 24,
    "start_time": "2021-09-22T09:45:16.207Z"
   },
   {
    "duration": 23,
    "start_time": "2021-09-22T09:45:16.233Z"
   },
   {
    "duration": 26,
    "start_time": "2021-09-22T09:45:16.263Z"
   },
   {
    "duration": 17,
    "start_time": "2021-09-22T09:45:16.291Z"
   },
   {
    "duration": 14,
    "start_time": "2021-09-22T09:45:16.311Z"
   },
   {
    "duration": 11,
    "start_time": "2021-09-22T09:45:16.326Z"
   },
   {
    "duration": 27,
    "start_time": "2021-09-22T09:45:16.339Z"
   },
   {
    "duration": 14,
    "start_time": "2021-09-22T09:45:16.377Z"
   },
   {
    "duration": 12,
    "start_time": "2021-09-22T09:45:16.395Z"
   },
   {
    "duration": 9,
    "start_time": "2021-09-22T09:45:16.410Z"
   },
   {
    "duration": 815,
    "start_time": "2021-09-22T09:45:16.422Z"
   },
   {
    "duration": 471,
    "start_time": "2021-09-22T09:45:17.241Z"
   },
   {
    "duration": 12,
    "start_time": "2021-09-22T09:45:17.715Z"
   },
   {
    "duration": 1257,
    "start_time": "2021-09-22T09:45:17.729Z"
   },
   {
    "duration": 3321,
    "start_time": "2021-09-22T09:45:18.989Z"
   },
   {
    "duration": 773,
    "start_time": "2021-09-22T09:45:22.313Z"
   },
   {
    "duration": 42,
    "start_time": "2021-09-22T09:45:23.089Z"
   },
   {
    "duration": 628,
    "start_time": "2021-09-22T09:45:23.133Z"
   },
   {
    "duration": 42,
    "start_time": "2021-09-22T09:45:23.764Z"
   },
   {
    "duration": 97,
    "start_time": "2021-09-22T09:45:23.809Z"
   },
   {
    "duration": 38,
    "start_time": "2021-09-22T09:45:23.908Z"
   },
   {
    "duration": 776,
    "start_time": "2021-09-22T09:45:23.948Z"
   },
   {
    "duration": 155,
    "start_time": "2021-09-22T09:45:24.727Z"
   },
   {
    "duration": 522,
    "start_time": "2021-09-22T09:45:24.884Z"
   },
   {
    "duration": 128,
    "start_time": "2021-09-22T09:45:25.408Z"
   },
   {
    "duration": 36,
    "start_time": "2021-09-22T09:45:25.538Z"
   },
   {
    "duration": 247,
    "start_time": "2021-09-22T09:45:25.578Z"
   },
   {
    "duration": 55,
    "start_time": "2021-09-22T09:45:25.828Z"
   },
   {
    "duration": 1442,
    "start_time": "2021-09-22T09:45:25.886Z"
   },
   {
    "duration": 257,
    "start_time": "2021-09-22T09:45:27.331Z"
   },
   {
    "duration": 20,
    "start_time": "2021-09-22T09:45:27.590Z"
   },
   {
    "duration": 16,
    "start_time": "2021-09-22T09:45:27.613Z"
   },
   {
    "duration": 39,
    "start_time": "2021-09-22T09:45:27.632Z"
   },
   {
    "duration": 750,
    "start_time": "2021-09-22T09:45:27.675Z"
   },
   {
    "duration": 124,
    "start_time": "2021-09-22T09:45:28.428Z"
   },
   {
    "duration": 44,
    "start_time": "2021-09-22T09:45:28.554Z"
   },
   {
    "duration": 16,
    "start_time": "2021-09-22T09:45:28.601Z"
   },
   {
    "duration": 18,
    "start_time": "2021-09-22T09:45:28.620Z"
   },
   {
    "duration": 38,
    "start_time": "2021-09-22T09:45:28.640Z"
   },
   {
    "duration": 14,
    "start_time": "2021-09-22T09:45:28.680Z"
   },
   {
    "duration": 15,
    "start_time": "2021-09-22T09:45:28.697Z"
   },
   {
    "duration": 8,
    "start_time": "2021-09-22T09:45:28.714Z"
   },
   {
    "duration": 717,
    "start_time": "2021-09-22T09:45:28.725Z"
   },
   {
    "duration": 55,
    "start_time": "2021-09-22T09:45:29.444Z"
   },
   {
    "duration": 20,
    "start_time": "2021-09-22T09:45:29.501Z"
   },
   {
    "duration": 6,
    "start_time": "2021-09-22T09:45:29.523Z"
   },
   {
    "duration": 41,
    "start_time": "2021-09-22T09:45:29.531Z"
   },
   {
    "duration": 35,
    "start_time": "2021-09-22T09:45:29.575Z"
   },
   {
    "duration": 63,
    "start_time": "2021-09-22T09:45:29.612Z"
   },
   {
    "duration": 19,
    "start_time": "2021-09-22T09:45:29.678Z"
   },
   {
    "duration": 30,
    "start_time": "2021-09-22T09:45:29.699Z"
   },
   {
    "duration": 54,
    "start_time": "2021-09-22T09:45:29.731Z"
   },
   {
    "duration": 37,
    "start_time": "2021-09-22T09:45:29.793Z"
   },
   {
    "duration": 1247,
    "start_time": "2021-09-22T09:45:29.834Z"
   },
   {
    "duration": 6,
    "start_time": "2021-09-22T09:45:31.084Z"
   },
   {
    "duration": 399,
    "start_time": "2021-09-22T09:45:31.092Z"
   },
   {
    "duration": 20,
    "start_time": "2021-09-22T09:45:31.494Z"
   },
   {
    "duration": 565,
    "start_time": "2021-09-22T09:45:31.516Z"
   },
   {
    "duration": 10,
    "start_time": "2021-09-22T09:45:32.083Z"
   },
   {
    "duration": 924,
    "start_time": "2021-09-22T09:45:32.095Z"
   },
   {
    "duration": 9,
    "start_time": "2021-09-22T09:45:33.021Z"
   },
   {
    "duration": 38,
    "start_time": "2021-09-22T09:45:33.032Z"
   },
   {
    "duration": 136,
    "start_time": "2021-09-22T09:45:33.073Z"
   },
   {
    "duration": 1240,
    "start_time": "2021-09-22T09:45:33.212Z"
   },
   {
    "duration": 183,
    "start_time": "2021-09-22T09:45:34.461Z"
   },
   {
    "duration": 31,
    "start_time": "2021-09-22T09:45:34.647Z"
   },
   {
    "duration": 525,
    "start_time": "2021-09-22T09:45:34.681Z"
   },
   {
    "duration": -475,
    "start_time": "2021-09-22T09:45:35.684Z"
   },
   {
    "duration": 350,
    "start_time": "2021-09-22T09:46:06.964Z"
   },
   {
    "duration": 1540,
    "start_time": "2021-09-22T14:04:49.003Z"
   },
   {
    "duration": 914,
    "start_time": "2021-09-22T14:04:50.546Z"
   },
   {
    "duration": 7700,
    "start_time": "2021-09-22T14:15:42.731Z"
   },
   {
    "duration": 16,
    "start_time": "2021-09-22T14:15:59.135Z"
   },
   {
    "duration": 69,
    "start_time": "2021-09-22T14:15:59.514Z"
   },
   {
    "duration": 412,
    "start_time": "2021-09-22T14:16:00.259Z"
   },
   {
    "duration": 242,
    "start_time": "2021-09-22T14:16:00.673Z"
   },
   {
    "duration": 5,
    "start_time": "2021-09-22T14:16:00.963Z"
   },
   {
    "duration": 4,
    "start_time": "2021-09-22T14:16:01.303Z"
   },
   {
    "duration": 110,
    "start_time": "2021-09-22T14:16:05.007Z"
   },
   {
    "duration": 25,
    "start_time": "2021-09-22T14:16:08.407Z"
   },
   {
    "duration": 36,
    "start_time": "2021-09-22T14:17:06.595Z"
   },
   {
    "duration": 23,
    "start_time": "2021-09-22T14:17:27.191Z"
   },
   {
    "duration": 101,
    "start_time": "2021-09-22T14:18:22.567Z"
   },
   {
    "duration": 98,
    "start_time": "2021-09-22T14:18:29.035Z"
   },
   {
    "duration": 103,
    "start_time": "2021-09-22T14:18:43.507Z"
   },
   {
    "duration": 83,
    "start_time": "2021-09-22T14:18:50.403Z"
   },
   {
    "duration": 317,
    "start_time": "2021-09-22T14:19:28.539Z"
   },
   {
    "duration": 60,
    "start_time": "2021-09-22T14:19:39.935Z"
   },
   {
    "duration": 56,
    "start_time": "2021-09-22T14:19:42.115Z"
   },
   {
    "duration": 146,
    "start_time": "2021-09-22T14:20:22.315Z"
   },
   {
    "duration": 90,
    "start_time": "2021-09-22T14:21:00.931Z"
   },
   {
    "duration": 93,
    "start_time": "2021-09-22T14:21:39.351Z"
   },
   {
    "duration": 32,
    "start_time": "2021-09-22T14:21:49.283Z"
   },
   {
    "duration": 33,
    "start_time": "2021-09-22T14:21:50.991Z"
   },
   {
    "duration": 35,
    "start_time": "2021-09-22T14:21:59.303Z"
   },
   {
    "duration": 5,
    "start_time": "2021-09-22T14:23:12.151Z"
   },
   {
    "duration": 29,
    "start_time": "2021-09-22T14:24:39.671Z"
   },
   {
    "duration": 9,
    "start_time": "2021-09-22T14:24:42.307Z"
   },
   {
    "duration": 16,
    "start_time": "2021-09-22T14:24:42.637Z"
   },
   {
    "duration": 16,
    "start_time": "2021-09-22T14:24:44.476Z"
   },
   {
    "duration": 78,
    "start_time": "2021-09-22T14:27:18.739Z"
   },
   {
    "duration": 79,
    "start_time": "2021-09-22T14:27:23.015Z"
   },
   {
    "duration": 103,
    "start_time": "2021-09-22T14:42:07.419Z"
   },
   {
    "duration": 12,
    "start_time": "2021-09-22T14:42:12.499Z"
   },
   {
    "duration": 25,
    "start_time": "2021-09-22T14:43:22.675Z"
   },
   {
    "duration": 27,
    "start_time": "2021-09-22T14:43:30.326Z"
   },
   {
    "duration": 6298,
    "start_time": "2021-09-22T14:43:35.979Z"
   },
   {
    "duration": 12,
    "start_time": "2021-09-22T14:43:47.474Z"
   },
   {
    "duration": 16,
    "start_time": "2021-09-22T14:44:00.783Z"
   },
   {
    "duration": 24,
    "start_time": "2021-09-22T14:44:12.075Z"
   },
   {
    "duration": 38,
    "start_time": "2021-09-22T14:44:19.943Z"
   },
   {
    "duration": 23,
    "start_time": "2021-09-22T14:44:23.098Z"
   },
   {
    "duration": -18,
    "start_time": "2021-09-22T14:44:32.435Z"
   },
   {
    "duration": 25,
    "start_time": "2021-09-22T14:44:34.175Z"
   },
   {
    "duration": 29,
    "start_time": "2021-09-22T14:44:54.467Z"
   },
   {
    "duration": 18,
    "start_time": "2021-09-22T14:45:00.104Z"
   },
   {
    "duration": 130,
    "start_time": "2021-09-22T14:45:24.067Z"
   },
   {
    "duration": 15,
    "start_time": "2021-09-22T14:50:21.223Z"
   },
   {
    "duration": 253,
    "start_time": "2021-09-22T14:51:26.331Z"
   },
   {
    "duration": 79,
    "start_time": "2021-09-22T14:51:47.814Z"
   },
   {
    "duration": 106,
    "start_time": "2021-09-22T14:51:56.651Z"
   },
   {
    "duration": 341,
    "start_time": "2021-09-22T14:52:03.698Z"
   },
   {
    "duration": 7780,
    "start_time": "2021-09-22T14:52:08.755Z"
   },
   {
    "duration": 13,
    "start_time": "2021-09-22T14:53:28.603Z"
   },
   {
    "duration": 6,
    "start_time": "2021-09-22T14:53:55.682Z"
   },
   {
    "duration": 106,
    "start_time": "2021-09-22T14:56:37.384Z"
   },
   {
    "duration": 12,
    "start_time": "2021-09-22T14:56:52.358Z"
   },
   {
    "duration": 13,
    "start_time": "2021-09-22T14:57:04.099Z"
   },
   {
    "duration": 310,
    "start_time": "2021-09-22T14:58:37.534Z"
   },
   {
    "duration": 1536,
    "start_time": "2021-09-22T14:58:47.133Z"
   },
   {
    "duration": 827,
    "start_time": "2021-09-22T14:58:48.672Z"
   },
   {
    "duration": 16,
    "start_time": "2021-09-22T14:58:49.502Z"
   },
   {
    "duration": 125,
    "start_time": "2021-09-22T14:58:49.521Z"
   },
   {
    "duration": 518,
    "start_time": "2021-09-22T14:58:49.649Z"
   },
   {
    "duration": 297,
    "start_time": "2021-09-22T14:58:50.170Z"
   },
   {
    "duration": 5,
    "start_time": "2021-09-22T14:58:50.469Z"
   },
   {
    "duration": 38,
    "start_time": "2021-09-22T14:58:50.478Z"
   },
   {
    "duration": 137,
    "start_time": "2021-09-22T14:58:50.519Z"
   },
   {
    "duration": 35,
    "start_time": "2021-09-22T14:58:50.658Z"
   },
   {
    "duration": 8,
    "start_time": "2021-09-22T14:58:50.696Z"
   },
   {
    "duration": 62,
    "start_time": "2021-09-22T14:58:50.707Z"
   },
   {
    "duration": 35,
    "start_time": "2021-09-22T14:58:50.772Z"
   },
   {
    "duration": 45,
    "start_time": "2021-09-22T14:58:50.809Z"
   },
   {
    "duration": 35,
    "start_time": "2021-09-22T14:58:50.856Z"
   },
   {
    "duration": 41,
    "start_time": "2021-09-22T14:58:50.894Z"
   },
   {
    "duration": 23,
    "start_time": "2021-09-22T14:58:50.937Z"
   },
   {
    "duration": 20,
    "start_time": "2021-09-22T14:58:50.963Z"
   },
   {
    "duration": 15,
    "start_time": "2021-09-22T14:58:50.985Z"
   },
   {
    "duration": 33,
    "start_time": "2021-09-22T14:58:51.003Z"
   },
   {
    "duration": 27,
    "start_time": "2021-09-22T14:58:51.039Z"
   },
   {
    "duration": 16,
    "start_time": "2021-09-22T14:58:51.069Z"
   },
   {
    "duration": 36,
    "start_time": "2021-09-22T14:58:51.093Z"
   },
   {
    "duration": 33,
    "start_time": "2021-09-22T14:58:51.133Z"
   },
   {
    "duration": 23,
    "start_time": "2021-09-22T14:58:51.169Z"
   },
   {
    "duration": 29,
    "start_time": "2021-09-22T14:58:51.194Z"
   },
   {
    "duration": 13,
    "start_time": "2021-09-22T14:58:51.226Z"
   },
   {
    "duration": 30,
    "start_time": "2021-09-22T14:58:51.242Z"
   },
   {
    "duration": 22,
    "start_time": "2021-09-22T14:58:51.275Z"
   },
   {
    "duration": 738,
    "start_time": "2021-09-22T14:58:51.299Z"
   },
   {
    "duration": 429,
    "start_time": "2021-09-22T14:58:52.039Z"
   },
   {
    "duration": 11,
    "start_time": "2021-09-22T14:58:52.470Z"
   },
   {
    "duration": 1278,
    "start_time": "2021-09-22T14:58:52.484Z"
   },
   {
    "duration": 3085,
    "start_time": "2021-09-22T14:58:53.766Z"
   },
   {
    "duration": 670,
    "start_time": "2021-09-22T14:58:56.853Z"
   },
   {
    "duration": 50,
    "start_time": "2021-09-22T14:58:57.525Z"
   },
   {
    "duration": 659,
    "start_time": "2021-09-22T14:58:57.577Z"
   },
   {
    "duration": 54,
    "start_time": "2021-09-22T14:58:58.239Z"
   },
   {
    "duration": 77,
    "start_time": "2021-09-22T14:58:58.295Z"
   },
   {
    "duration": 39,
    "start_time": "2021-09-22T14:58:58.374Z"
   },
   {
    "duration": 606,
    "start_time": "2021-09-22T14:58:58.416Z"
   },
   {
    "duration": 131,
    "start_time": "2021-09-22T14:58:59.024Z"
   },
   {
    "duration": 382,
    "start_time": "2021-09-22T14:58:59.158Z"
   },
   {
    "duration": 122,
    "start_time": "2021-09-22T14:58:59.542Z"
   },
   {
    "duration": 16,
    "start_time": "2021-09-22T14:58:59.666Z"
   },
   {
    "duration": 237,
    "start_time": "2021-09-22T14:58:59.684Z"
   },
   {
    "duration": 52,
    "start_time": "2021-09-22T14:58:59.923Z"
   },
   {
    "duration": 1331,
    "start_time": "2021-09-22T14:58:59.978Z"
   },
   {
    "duration": 263,
    "start_time": "2021-09-22T14:59:01.312Z"
   },
   {
    "duration": 18,
    "start_time": "2021-09-22T14:59:01.577Z"
   },
   {
    "duration": 79,
    "start_time": "2021-09-22T14:59:01.598Z"
   },
   {
    "duration": 28,
    "start_time": "2021-09-22T14:59:01.680Z"
   },
   {
    "duration": 689,
    "start_time": "2021-09-22T14:59:01.711Z"
   },
   {
    "duration": 124,
    "start_time": "2021-09-22T14:59:02.403Z"
   },
   {
    "duration": 53,
    "start_time": "2021-09-22T14:59:02.530Z"
   },
   {
    "duration": 28,
    "start_time": "2021-09-22T14:59:02.586Z"
   },
   {
    "duration": 32,
    "start_time": "2021-09-22T14:59:02.616Z"
   },
   {
    "duration": 18,
    "start_time": "2021-09-22T14:59:02.651Z"
   },
   {
    "duration": 22,
    "start_time": "2021-09-22T14:59:02.671Z"
   },
   {
    "duration": 24,
    "start_time": "2021-09-22T14:59:02.695Z"
   },
   {
    "duration": 30,
    "start_time": "2021-09-22T14:59:02.722Z"
   },
   {
    "duration": 670,
    "start_time": "2021-09-22T14:59:02.755Z"
   },
   {
    "duration": 50,
    "start_time": "2021-09-22T14:59:03.428Z"
   },
   {
    "duration": 21,
    "start_time": "2021-09-22T14:59:03.480Z"
   },
   {
    "duration": 27,
    "start_time": "2021-09-22T14:59:03.503Z"
   },
   {
    "duration": 42,
    "start_time": "2021-09-22T14:59:03.532Z"
   },
   {
    "duration": 52,
    "start_time": "2021-09-22T14:59:03.576Z"
   },
   {
    "duration": 29,
    "start_time": "2021-09-22T14:59:03.636Z"
   },
   {
    "duration": 31,
    "start_time": "2021-09-22T14:59:03.668Z"
   },
   {
    "duration": 85,
    "start_time": "2021-09-22T14:59:03.702Z"
   },
   {
    "duration": 25,
    "start_time": "2021-09-22T14:59:03.789Z"
   },
   {
    "duration": 58,
    "start_time": "2021-09-22T14:59:03.816Z"
   },
   {
    "duration": 1193,
    "start_time": "2021-09-22T14:59:03.877Z"
   },
   {
    "duration": 7,
    "start_time": "2021-09-22T14:59:05.072Z"
   },
   {
    "duration": 381,
    "start_time": "2021-09-22T14:59:05.082Z"
   },
   {
    "duration": 21,
    "start_time": "2021-09-22T14:59:05.465Z"
   },
   {
    "duration": 558,
    "start_time": "2021-09-22T14:59:05.489Z"
   },
   {
    "duration": 19,
    "start_time": "2021-09-22T14:59:06.050Z"
   },
   {
    "duration": 801,
    "start_time": "2021-09-22T14:59:06.072Z"
   },
   {
    "duration": 10,
    "start_time": "2021-09-22T14:59:06.875Z"
   },
   {
    "duration": 32,
    "start_time": "2021-09-22T14:59:06.887Z"
   },
   {
    "duration": 58,
    "start_time": "2021-09-22T14:59:06.922Z"
   },
   {
    "duration": 1285,
    "start_time": "2021-09-22T14:59:06.982Z"
   },
   {
    "duration": 181,
    "start_time": "2021-09-22T14:59:08.270Z"
   },
   {
    "duration": 25,
    "start_time": "2021-09-22T14:59:08.453Z"
   },
   {
    "duration": 414,
    "start_time": "2021-09-22T14:59:08.481Z"
   },
   {
    "duration": -28,
    "start_time": "2021-09-22T14:59:08.926Z"
   },
   {
    "duration": 2386,
    "start_time": "2021-09-22T14:59:11.285Z"
   },
   {
    "duration": 2575,
    "start_time": "2021-09-22T14:59:15.641Z"
   },
   {
    "duration": 761,
    "start_time": "2021-09-22T15:02:15.969Z"
   },
   {
    "duration": 586,
    "start_time": "2021-09-22T15:07:13.937Z"
   },
   {
    "duration": 866,
    "start_time": "2021-09-22T15:07:38.161Z"
   },
   {
    "duration": 732,
    "start_time": "2021-09-22T15:07:56.641Z"
   },
   {
    "duration": 728,
    "start_time": "2021-09-22T15:08:09.225Z"
   },
   {
    "duration": 857,
    "start_time": "2021-09-22T15:08:33.973Z"
   },
   {
    "duration": 892,
    "start_time": "2021-09-22T15:09:26.909Z"
   },
   {
    "duration": 637,
    "start_time": "2021-09-22T15:09:28.545Z"
   },
   {
    "duration": 711,
    "start_time": "2021-09-22T15:11:47.465Z"
   },
   {
    "duration": 263,
    "start_time": "2021-09-22T15:12:28.733Z"
   },
   {
    "duration": 263,
    "start_time": "2021-09-22T15:12:33.322Z"
   },
   {
    "duration": 217,
    "start_time": "2021-09-22T15:12:53.373Z"
   },
   {
    "duration": 242,
    "start_time": "2021-09-22T15:13:01.537Z"
   },
   {
    "duration": 100,
    "start_time": "2021-09-22T15:13:34.605Z"
   },
   {
    "duration": 613,
    "start_time": "2021-09-22T15:14:12.289Z"
   },
   {
    "duration": 780,
    "start_time": "2021-09-22T15:16:00.305Z"
   },
   {
    "duration": 741,
    "start_time": "2021-09-22T15:16:35.393Z"
   },
   {
    "duration": 776,
    "start_time": "2021-09-22T15:18:38.828Z"
   },
   {
    "duration": 1152,
    "start_time": "2021-09-22T15:33:17.649Z"
   },
   {
    "duration": 1155,
    "start_time": "2021-09-22T15:34:23.416Z"
   },
   {
    "duration": 91,
    "start_time": "2021-09-22T15:35:01.196Z"
   },
   {
    "duration": 31221,
    "start_time": "2021-09-22T15:35:04.352Z"
   },
   {
    "duration": 1100,
    "start_time": "2021-09-22T15:36:13.260Z"
   },
   {
    "duration": 33397,
    "start_time": "2021-09-22T15:37:06.253Z"
   },
   {
    "duration": 7200,
    "start_time": "2021-09-22T15:37:56.500Z"
   },
   {
    "duration": 27,
    "start_time": "2021-09-22T15:38:06.373Z"
   },
   {
    "duration": 22,
    "start_time": "2021-09-22T15:38:41.353Z"
   },
   {
    "duration": 11,
    "start_time": "2021-09-22T15:38:53.331Z"
   },
   {
    "duration": 26,
    "start_time": "2021-09-22T15:38:57.820Z"
   },
   {
    "duration": 14,
    "start_time": "2021-09-22T15:39:45.756Z"
   },
   {
    "duration": 22,
    "start_time": "2021-09-22T15:39:59.876Z"
   },
   {
    "duration": 22,
    "start_time": "2021-09-22T15:40:15.489Z"
   },
   {
    "duration": 20,
    "start_time": "2021-09-22T15:40:24.964Z"
   },
   {
    "duration": 755,
    "start_time": "2021-09-22T15:41:04.977Z"
   },
   {
    "duration": 666,
    "start_time": "2021-09-22T15:41:29.229Z"
   },
   {
    "duration": 931,
    "start_time": "2021-09-22T15:42:01.053Z"
   },
   {
    "duration": 284,
    "start_time": "2021-09-22T15:42:34.409Z"
   },
   {
    "duration": 766,
    "start_time": "2021-09-22T15:43:45.769Z"
   },
   {
    "duration": 663,
    "start_time": "2021-09-22T15:44:15.537Z"
   },
   {
    "duration": 1024,
    "start_time": "2021-09-22T15:46:52.157Z"
   },
   {
    "duration": 388,
    "start_time": "2021-09-22T15:47:09.233Z"
   },
   {
    "duration": 849,
    "start_time": "2021-09-22T15:47:44.489Z"
   },
   {
    "duration": 693,
    "start_time": "2021-09-22T15:47:52.325Z"
   },
   {
    "duration": 623,
    "start_time": "2021-09-22T15:47:56.297Z"
   },
   {
    "duration": 659,
    "start_time": "2021-09-22T15:48:03.971Z"
   },
   {
    "duration": 715,
    "start_time": "2021-09-22T15:48:07.524Z"
   },
   {
    "duration": 106,
    "start_time": "2021-09-22T15:49:42.029Z"
   },
   {
    "duration": 108,
    "start_time": "2021-09-22T15:50:24.989Z"
   },
   {
    "duration": 5,
    "start_time": "2021-09-22T15:51:59.805Z"
   },
   {
    "duration": 5,
    "start_time": "2021-09-22T15:52:09.133Z"
   },
   {
    "duration": 4,
    "start_time": "2021-09-22T15:52:22.758Z"
   },
   {
    "duration": 668,
    "start_time": "2021-09-22T15:56:32.136Z"
   },
   {
    "duration": 698,
    "start_time": "2021-09-22T15:56:41.216Z"
   },
   {
    "duration": 549,
    "start_time": "2021-09-22T15:56:42.797Z"
   },
   {
    "duration": 5,
    "start_time": "2021-09-22T15:57:22.304Z"
   },
   {
    "duration": 608,
    "start_time": "2021-09-22T15:57:23.252Z"
   },
   {
    "duration": 5,
    "start_time": "2021-09-22T15:57:23.863Z"
   },
   {
    "duration": 558,
    "start_time": "2021-09-22T15:57:24.212Z"
   },
   {
    "duration": 4,
    "start_time": "2021-09-22T16:00:55.752Z"
   },
   {
    "duration": 497,
    "start_time": "2021-09-22T16:04:42.312Z"
   },
   {
    "duration": 294,
    "start_time": "2021-09-22T16:04:54.897Z"
   },
   {
    "duration": 404,
    "start_time": "2021-09-22T16:05:02.293Z"
   },
   {
    "duration": 44,
    "start_time": "2021-09-22T16:05:09.709Z"
   },
   {
    "duration": 51,
    "start_time": "2021-09-22T16:05:42.909Z"
   },
   {
    "duration": 129,
    "start_time": "2021-09-22T16:09:48.964Z"
   },
   {
    "duration": 93,
    "start_time": "2021-09-22T16:09:51.531Z"
   },
   {
    "duration": 41,
    "start_time": "2021-09-22T16:09:54.976Z"
   },
   {
    "duration": 41,
    "start_time": "2021-09-22T16:10:32.224Z"
   },
   {
    "duration": 296,
    "start_time": "2021-09-22T16:10:37.276Z"
   },
   {
    "duration": 20218,
    "start_time": "2021-09-22T16:10:45.536Z"
   },
   {
    "duration": 52,
    "start_time": "2021-09-22T16:11:06.087Z"
   },
   {
    "duration": 29,
    "start_time": "2021-09-22T16:11:56.079Z"
   },
   {
    "duration": 665,
    "start_time": "2021-09-22T16:12:07.023Z"
   },
   {
    "duration": 568,
    "start_time": "2021-09-22T16:12:26.916Z"
   },
   {
    "duration": 287,
    "start_time": "2021-09-22T16:13:31.788Z"
   },
   {
    "duration": 38,
    "start_time": "2021-09-22T16:13:40.155Z"
   },
   {
    "duration": 696,
    "start_time": "2021-09-22T16:13:55.115Z"
   },
   {
    "duration": 557,
    "start_time": "2021-09-22T16:14:03.288Z"
   },
   {
    "duration": 574,
    "start_time": "2021-09-22T16:21:01.167Z"
   },
   {
    "duration": 327,
    "start_time": "2021-09-22T16:25:59.315Z"
   },
   {
    "duration": 110,
    "start_time": "2021-09-22T16:26:03.223Z"
   },
   {
    "duration": 22,
    "start_time": "2021-09-22T16:33:44.371Z"
   },
   {
    "duration": 8,
    "start_time": "2021-09-22T16:34:01.251Z"
   },
   {
    "duration": 33,
    "start_time": "2021-09-22T16:34:15.347Z"
   },
   {
    "duration": 20,
    "start_time": "2021-09-22T16:34:46.723Z"
   },
   {
    "duration": 11,
    "start_time": "2021-09-22T16:34:52.439Z"
   },
   {
    "duration": 927,
    "start_time": "2021-09-22T16:36:30.459Z"
   },
   {
    "duration": 10,
    "start_time": "2021-09-22T16:36:58.379Z"
   },
   {
    "duration": 6386,
    "start_time": "2021-09-22T16:37:07.419Z"
   },
   {
    "duration": 235,
    "start_time": "2021-09-22T16:38:34.326Z"
   },
   {
    "duration": 16,
    "start_time": "2021-09-22T16:38:44.995Z"
   },
   {
    "duration": 40,
    "start_time": "2021-09-22T16:38:59.527Z"
   },
   {
    "duration": 28,
    "start_time": "2021-09-22T16:39:27.635Z"
   },
   {
    "duration": 1253,
    "start_time": "2021-09-22T16:39:47.979Z"
   },
   {
    "duration": 61,
    "start_time": "2021-09-22T16:43:46.747Z"
   },
   {
    "duration": 35,
    "start_time": "2021-09-22T16:43:54.532Z"
   },
   {
    "duration": 170,
    "start_time": "2021-09-22T16:44:27.542Z"
   },
   {
    "duration": 15,
    "start_time": "2021-09-22T16:44:28.399Z"
   },
   {
    "duration": 247,
    "start_time": "2021-09-22T16:44:28.979Z"
   },
   {
    "duration": 21,
    "start_time": "2021-09-22T16:44:38.958Z"
   },
   {
    "duration": 461,
    "start_time": "2021-09-22T16:44:43.414Z"
   },
   {
    "duration": 106,
    "start_time": "2021-09-22T16:45:29.902Z"
   },
   {
    "duration": 10,
    "start_time": "2021-09-22T16:47:15.190Z"
   },
   {
    "duration": 11,
    "start_time": "2021-09-22T16:48:29.726Z"
   },
   {
    "duration": 247,
    "start_time": "2021-09-22T16:48:37.482Z"
   },
   {
    "duration": 552,
    "start_time": "2021-09-22T16:48:46.423Z"
   },
   {
    "duration": 502,
    "start_time": "2021-09-22T16:50:55.670Z"
   },
   {
    "duration": 11,
    "start_time": "2021-09-22T16:51:16.094Z"
   },
   {
    "duration": 473,
    "start_time": "2021-09-22T16:51:17.214Z"
   },
   {
    "duration": 4959,
    "start_time": "2021-09-22T16:52:51.413Z"
   },
   {
    "duration": -38,
    "start_time": "2021-09-22T16:52:56.413Z"
   },
   {
    "duration": 52,
    "start_time": "2021-09-22T16:53:08.894Z"
   },
   {
    "duration": 4716,
    "start_time": "2021-09-22T16:53:25.318Z"
   },
   {
    "duration": 6980,
    "start_time": "2021-09-22T16:53:30.675Z"
   },
   {
    "duration": 5265,
    "start_time": "2021-09-22T16:53:44.142Z"
   },
   {
    "duration": -35,
    "start_time": "2021-09-22T16:53:49.444Z"
   },
   {
    "duration": 52,
    "start_time": "2021-09-22T16:54:32.806Z"
   },
   {
    "duration": 5761,
    "start_time": "2021-09-22T16:55:03.110Z"
   },
   {
    "duration": 45,
    "start_time": "2021-09-22T16:55:26.231Z"
   },
   {
    "duration": 1239,
    "start_time": "2021-09-22T16:55:28.578Z"
   },
   {
    "duration": 69,
    "start_time": "2021-09-22T16:55:40.106Z"
   },
   {
    "duration": 53,
    "start_time": "2021-09-22T16:55:54.745Z"
   },
   {
    "duration": 321,
    "start_time": "2021-09-22T16:56:21.262Z"
   },
   {
    "duration": 6194,
    "start_time": "2021-09-22T16:56:41.130Z"
   },
   {
    "duration": -35,
    "start_time": "2021-09-22T16:56:47.362Z"
   },
   {
    "duration": 53,
    "start_time": "2021-09-22T16:56:54.070Z"
   },
   {
    "duration": 1288,
    "start_time": "2021-09-22T16:56:55.866Z"
   },
   {
    "duration": 53,
    "start_time": "2021-09-22T16:57:37.515Z"
   },
   {
    "duration": 1209,
    "start_time": "2021-09-22T16:57:38.326Z"
   },
   {
    "duration": 72,
    "start_time": "2021-09-22T16:59:41.398Z"
   },
   {
    "duration": 2,
    "start_time": "2021-09-22T17:04:38.735Z"
   },
   {
    "duration": 10,
    "start_time": "2021-09-22T17:04:38.991Z"
   },
   {
    "duration": 35,
    "start_time": "2021-09-22T17:04:39.178Z"
   },
   {
    "duration": 28,
    "start_time": "2021-09-22T17:04:39.334Z"
   },
   {
    "duration": 20,
    "start_time": "2021-09-22T17:04:40.358Z"
   },
   {
    "duration": 9,
    "start_time": "2021-09-22T17:04:40.950Z"
   },
   {
    "duration": 14,
    "start_time": "2021-09-22T17:04:41.230Z"
   },
   {
    "duration": 287,
    "start_time": "2021-09-22T17:04:41.491Z"
   },
   {
    "duration": 1238,
    "start_time": "2021-09-22T17:04:42.022Z"
   },
   {
    "duration": 88,
    "start_time": "2021-09-22T17:06:37.334Z"
   },
   {
    "duration": 14,
    "start_time": "2021-09-22T17:08:37.679Z"
   },
   {
    "duration": 629,
    "start_time": "2021-09-22T17:09:06.686Z"
   },
   {
    "duration": 294,
    "start_time": "2021-09-22T17:09:33.918Z"
   },
   {
    "duration": 14,
    "start_time": "2021-09-22T17:09:45.790Z"
   },
   {
    "duration": 282,
    "start_time": "2021-09-22T17:09:46.114Z"
   },
   {
    "duration": 371,
    "start_time": "2021-09-22T17:09:57.610Z"
   },
   {
    "duration": 14,
    "start_time": "2021-09-22T17:10:05.930Z"
   },
   {
    "duration": 549,
    "start_time": "2021-09-22T17:10:06.742Z"
   },
   {
    "duration": 14,
    "start_time": "2021-09-22T17:10:19.702Z"
   },
   {
    "duration": 605,
    "start_time": "2021-09-22T17:11:42.074Z"
   },
   {
    "duration": 543,
    "start_time": "2021-09-22T17:11:57.978Z"
   },
   {
    "duration": 550,
    "start_time": "2021-09-22T17:12:09.290Z"
   },
   {
    "duration": 572,
    "start_time": "2021-09-22T17:12:44.830Z"
   },
   {
    "duration": 529,
    "start_time": "2021-09-22T17:12:52.566Z"
   },
   {
    "duration": 532,
    "start_time": "2021-09-22T17:13:08.314Z"
   },
   {
    "duration": 544,
    "start_time": "2021-09-22T17:13:41.530Z"
   },
   {
    "duration": 8,
    "start_time": "2021-09-22T17:17:37.422Z"
   },
   {
    "duration": 7,
    "start_time": "2021-09-22T17:18:12.587Z"
   },
   {
    "duration": 899,
    "start_time": "2021-09-22T17:21:29.074Z"
   },
   {
    "duration": 533,
    "start_time": "2021-09-22T17:21:43.386Z"
   },
   {
    "duration": 556,
    "start_time": "2021-09-22T17:21:50.959Z"
   },
   {
    "duration": 469,
    "start_time": "2021-09-22T17:22:22.142Z"
   },
   {
    "duration": 493,
    "start_time": "2021-09-22T17:22:30.166Z"
   },
   {
    "duration": 28,
    "start_time": "2021-09-22T17:23:43.859Z"
   },
   {
    "duration": 29,
    "start_time": "2021-09-22T17:24:27.042Z"
   },
   {
    "duration": 22,
    "start_time": "2021-09-22T17:25:11.678Z"
   },
   {
    "duration": 29,
    "start_time": "2021-09-22T17:25:12.454Z"
   },
   {
    "duration": 253,
    "start_time": "2021-09-22T17:32:31.378Z"
   },
   {
    "duration": 257,
    "start_time": "2021-09-22T17:32:43.462Z"
   },
   {
    "duration": 26,
    "start_time": "2021-09-22T17:33:10.478Z"
   },
   {
    "duration": 22,
    "start_time": "2021-09-22T17:33:16.358Z"
   },
   {
    "duration": 1274,
    "start_time": "2021-09-22T17:34:54.298Z"
   },
   {
    "duration": 327,
    "start_time": "2021-09-22T17:35:11.278Z"
   },
   {
    "duration": 21,
    "start_time": "2021-09-22T17:36:21.994Z"
   },
   {
    "duration": 717,
    "start_time": "2021-09-22T17:37:15.173Z"
   },
   {
    "duration": 649,
    "start_time": "2021-09-22T17:37:21.837Z"
   },
   {
    "duration": 951,
    "start_time": "2021-09-22T17:37:52.764Z"
   },
   {
    "duration": 22,
    "start_time": "2021-09-22T17:38:17.542Z"
   },
   {
    "duration": 27,
    "start_time": "2021-09-22T17:38:32.054Z"
   },
   {
    "duration": 22,
    "start_time": "2021-09-22T17:38:35.502Z"
   },
   {
    "duration": 20,
    "start_time": "2021-09-22T17:38:41.238Z"
   },
   {
    "duration": 18,
    "start_time": "2021-09-22T17:42:48.034Z"
   },
   {
    "duration": 11,
    "start_time": "2021-09-22T17:43:21.437Z"
   },
   {
    "duration": 28,
    "start_time": "2021-09-22T17:43:25.846Z"
   },
   {
    "duration": 18,
    "start_time": "2021-09-22T17:43:42.413Z"
   },
   {
    "duration": 296,
    "start_time": "2021-09-22T17:44:39.338Z"
   },
   {
    "duration": 8,
    "start_time": "2021-09-22T17:45:17.961Z"
   },
   {
    "duration": 7,
    "start_time": "2021-09-22T17:46:22.638Z"
   },
   {
    "duration": 19,
    "start_time": "2021-09-22T17:46:32.617Z"
   },
   {
    "duration": 23,
    "start_time": "2021-09-22T20:06:45.959Z"
   },
   {
    "duration": 28,
    "start_time": "2021-09-22T20:08:26.514Z"
   },
   {
    "duration": 281,
    "start_time": "2021-09-22T20:12:04.924Z"
   },
   {
    "duration": 26,
    "start_time": "2021-09-22T20:12:19.370Z"
   },
   {
    "duration": 19,
    "start_time": "2021-09-22T20:12:20.227Z"
   },
   {
    "duration": 34,
    "start_time": "2021-09-22T20:13:30.399Z"
   },
   {
    "duration": 36,
    "start_time": "2021-09-22T20:13:54.399Z"
   },
   {
    "duration": 29,
    "start_time": "2021-09-22T20:14:35.868Z"
   },
   {
    "duration": 19,
    "start_time": "2021-09-22T20:14:59.371Z"
   },
   {
    "duration": 19,
    "start_time": "2021-09-22T20:16:13.326Z"
   },
   {
    "duration": 23,
    "start_time": "2021-09-22T20:16:31.595Z"
   },
   {
    "duration": 23,
    "start_time": "2021-09-22T20:16:42.500Z"
   },
   {
    "duration": 20,
    "start_time": "2021-09-22T20:17:16.583Z"
   },
   {
    "duration": 24,
    "start_time": "2021-09-22T20:19:27.287Z"
   },
   {
    "duration": 20,
    "start_time": "2021-09-22T20:19:31.495Z"
   },
   {
    "duration": 17,
    "start_time": "2021-09-22T20:19:32.555Z"
   },
   {
    "duration": 5,
    "start_time": "2021-09-22T20:19:33.158Z"
   },
   {
    "duration": 24,
    "start_time": "2021-09-22T20:19:38.865Z"
   },
   {
    "duration": 5,
    "start_time": "2021-09-22T20:19:47.035Z"
   },
   {
    "duration": 9,
    "start_time": "2021-09-22T20:19:56.200Z"
   },
   {
    "duration": 426,
    "start_time": "2021-09-22T20:20:54.978Z"
   },
   {
    "duration": 282,
    "start_time": "2021-09-22T20:21:19.801Z"
   },
   {
    "duration": 239,
    "start_time": "2021-09-22T20:21:55.227Z"
   },
   {
    "duration": 8,
    "start_time": "2021-09-22T20:21:59.239Z"
   },
   {
    "duration": 279,
    "start_time": "2021-09-22T20:21:59.932Z"
   },
   {
    "duration": 340,
    "start_time": "2021-09-22T20:22:28.814Z"
   },
   {
    "duration": 42,
    "start_time": "2021-09-22T20:23:54.051Z"
   },
   {
    "duration": 41,
    "start_time": "2021-09-22T20:24:11.055Z"
   },
   {
    "duration": 27,
    "start_time": "2021-09-22T20:24:11.243Z"
   },
   {
    "duration": 18,
    "start_time": "2021-09-22T20:24:11.406Z"
   },
   {
    "duration": 9,
    "start_time": "2021-09-22T20:24:11.626Z"
   },
   {
    "duration": 256,
    "start_time": "2021-09-22T20:24:11.927Z"
   },
   {
    "duration": 272,
    "start_time": "2021-09-22T20:24:41.255Z"
   },
   {
    "duration": 838,
    "start_time": "2021-09-22T20:25:32.768Z"
   },
   {
    "duration": 39,
    "start_time": "2021-09-22T20:26:19.642Z"
   },
   {
    "duration": 59,
    "start_time": "2021-09-22T20:26:26.767Z"
   },
   {
    "duration": 24,
    "start_time": "2021-09-22T20:27:20.066Z"
   },
   {
    "duration": 36,
    "start_time": "2021-09-22T20:27:39.171Z"
   },
   {
    "duration": 61,
    "start_time": "2021-09-22T20:27:46.655Z"
   },
   {
    "duration": 35,
    "start_time": "2021-09-22T20:28:11.954Z"
   },
   {
    "duration": 54,
    "start_time": "2021-09-22T20:28:18.907Z"
   },
   {
    "duration": 56,
    "start_time": "2021-09-22T20:29:19.962Z"
   },
   {
    "duration": 232,
    "start_time": "2021-09-22T20:29:35.174Z"
   },
   {
    "duration": 1107,
    "start_time": "2021-09-22T20:29:40.052Z"
   },
   {
    "duration": 1183,
    "start_time": "2021-09-22T20:29:54.442Z"
   },
   {
    "duration": 1180,
    "start_time": "2021-09-22T20:30:06.118Z"
   },
   {
    "duration": 1339,
    "start_time": "2021-09-22T20:30:10.703Z"
   },
   {
    "duration": 1180,
    "start_time": "2021-09-22T20:31:11.935Z"
   },
   {
    "duration": 1170,
    "start_time": "2021-09-22T20:32:32.786Z"
   },
   {
    "duration": 1214,
    "start_time": "2021-09-22T20:32:45.014Z"
   },
   {
    "duration": 1229,
    "start_time": "2021-09-22T20:33:41.325Z"
   },
   {
    "duration": 1184,
    "start_time": "2021-09-22T20:33:53.983Z"
   },
   {
    "duration": 1193,
    "start_time": "2021-09-22T20:37:28.677Z"
   },
   {
    "duration": 6977,
    "start_time": "2021-09-22T20:46:41.596Z"
   },
   {
    "duration": 389,
    "start_time": "2021-09-22T20:47:10.024Z"
   },
   {
    "duration": 6,
    "start_time": "2021-09-22T20:48:31.225Z"
   },
   {
    "duration": 294,
    "start_time": "2021-09-22T20:55:29.879Z"
   },
   {
    "duration": 259,
    "start_time": "2021-09-22T20:56:25.856Z"
   },
   {
    "duration": 304,
    "start_time": "2021-09-22T20:56:41.356Z"
   },
   {
    "duration": 22,
    "start_time": "2021-09-22T20:58:11.056Z"
   },
   {
    "duration": 292,
    "start_time": "2021-09-22T20:58:53.835Z"
   },
   {
    "duration": 26,
    "start_time": "2021-09-22T20:59:58.744Z"
   },
   {
    "duration": 27,
    "start_time": "2021-09-22T20:59:59.779Z"
   },
   {
    "duration": 21,
    "start_time": "2021-09-22T21:00:00.324Z"
   },
   {
    "duration": 38,
    "start_time": "2021-09-22T21:00:00.848Z"
   },
   {
    "duration": 29,
    "start_time": "2021-09-22T21:00:01.340Z"
   },
   {
    "duration": 14,
    "start_time": "2021-09-22T21:00:02.125Z"
   },
   {
    "duration": 17,
    "start_time": "2021-09-22T21:00:06.644Z"
   },
   {
    "duration": 17,
    "start_time": "2021-09-22T21:00:07.232Z"
   },
   {
    "duration": 26,
    "start_time": "2021-09-22T21:00:07.772Z"
   },
   {
    "duration": 57,
    "start_time": "2021-09-22T21:00:08.339Z"
   },
   {
    "duration": 1369,
    "start_time": "2021-09-22T21:00:09.492Z"
   },
   {
    "duration": 9458,
    "start_time": "2021-09-22T21:01:47.976Z"
   },
   {
    "duration": 289,
    "start_time": "2021-09-22T21:01:58.380Z"
   },
   {
    "duration": 25,
    "start_time": "2021-09-22T21:02:16.940Z"
   },
   {
    "duration": 28,
    "start_time": "2021-09-22T21:02:17.903Z"
   },
   {
    "duration": 20,
    "start_time": "2021-09-22T21:02:18.300Z"
   },
   {
    "duration": 35,
    "start_time": "2021-09-22T21:02:18.752Z"
   },
   {
    "duration": 31,
    "start_time": "2021-09-22T21:02:19.264Z"
   },
   {
    "duration": 8390,
    "start_time": "2021-09-22T21:02:19.933Z"
   },
   {
    "duration": 342,
    "start_time": "2021-09-22T21:02:44.379Z"
   },
   {
    "duration": 269,
    "start_time": "2021-09-22T21:02:51.832Z"
   },
   {
    "duration": 25,
    "start_time": "2021-09-22T21:03:21.699Z"
   },
   {
    "duration": 27,
    "start_time": "2021-09-22T21:03:22.091Z"
   },
   {
    "duration": 21,
    "start_time": "2021-09-22T21:03:22.255Z"
   },
   {
    "duration": 34,
    "start_time": "2021-09-22T21:03:22.424Z"
   },
   {
    "duration": 28,
    "start_time": "2021-09-22T21:03:22.548Z"
   },
   {
    "duration": 17,
    "start_time": "2021-09-22T21:03:22.756Z"
   },
   {
    "duration": 7,
    "start_time": "2021-09-22T21:03:22.935Z"
   },
   {
    "duration": 7,
    "start_time": "2021-09-22T21:04:14.648Z"
   },
   {
    "duration": 6,
    "start_time": "2021-09-22T21:04:35.279Z"
   },
   {
    "duration": 286,
    "start_time": "2021-09-22T21:05:32.811Z"
   },
   {
    "duration": 272,
    "start_time": "2021-09-22T21:06:36.408Z"
   },
   {
    "duration": 281,
    "start_time": "2021-09-22T21:06:38.443Z"
   },
   {
    "duration": 6,
    "start_time": "2021-09-22T21:06:41.817Z"
   },
   {
    "duration": 6,
    "start_time": "2021-09-22T21:06:45.759Z"
   },
   {
    "duration": 24,
    "start_time": "2021-09-22T21:07:17.703Z"
   },
   {
    "duration": 27,
    "start_time": "2021-09-22T21:07:18.351Z"
   },
   {
    "duration": 21,
    "start_time": "2021-09-22T21:07:18.835Z"
   },
   {
    "duration": 35,
    "start_time": "2021-09-22T21:07:19.106Z"
   },
   {
    "duration": 28,
    "start_time": "2021-09-22T21:07:19.348Z"
   },
   {
    "duration": 18,
    "start_time": "2021-09-22T21:07:19.555Z"
   },
   {
    "duration": 18,
    "start_time": "2021-09-22T21:07:19.712Z"
   },
   {
    "duration": 27,
    "start_time": "2021-09-22T21:07:19.899Z"
   },
   {
    "duration": 56,
    "start_time": "2021-09-22T21:07:20.092Z"
   },
   {
    "duration": 1181,
    "start_time": "2021-09-22T21:07:20.276Z"
   },
   {
    "duration": 9,
    "start_time": "2021-09-22T21:07:22.959Z"
   },
   {
    "duration": 6,
    "start_time": "2021-09-22T21:07:29.235Z"
   },
   {
    "duration": 80,
    "start_time": "2021-09-22T21:16:43.275Z"
   },
   {
    "duration": 463,
    "start_time": "2021-09-22T21:17:13.719Z"
   },
   {
    "duration": 1305,
    "start_time": "2021-09-22T21:17:46.316Z"
   },
   {
    "duration": 116,
    "start_time": "2021-09-22T21:17:58.587Z"
   },
   {
    "duration": 304,
    "start_time": "2021-09-22T21:17:59.176Z"
   },
   {
    "duration": 115,
    "start_time": "2021-09-22T21:17:59.956Z"
   },
   {
    "duration": 20,
    "start_time": "2021-09-22T21:18:00.444Z"
   },
   {
    "duration": 199,
    "start_time": "2021-09-22T21:18:00.827Z"
   },
   {
    "duration": 57,
    "start_time": "2021-09-22T21:18:01.279Z"
   },
   {
    "duration": 1219,
    "start_time": "2021-09-22T21:18:02.455Z"
   },
   {
    "duration": 1230,
    "start_time": "2021-09-22T21:24:55.896Z"
   },
   {
    "duration": 1172,
    "start_time": "2021-09-22T21:26:38.384Z"
   },
   {
    "duration": 1178,
    "start_time": "2021-09-22T21:34:41.139Z"
   },
   {
    "duration": 1393,
    "start_time": "2021-09-22T21:34:46.831Z"
   },
   {
    "duration": 891,
    "start_time": "2021-09-22T21:35:47.941Z"
   },
   {
    "duration": 1256,
    "start_time": "2021-09-22T21:36:03.280Z"
   },
   {
    "duration": 1248,
    "start_time": "2021-09-22T21:37:03.560Z"
   },
   {
    "duration": 417,
    "start_time": "2021-09-23T06:41:50.894Z"
   },
   {
    "duration": 1334,
    "start_time": "2021-09-23T06:42:13.822Z"
   },
   {
    "duration": 948,
    "start_time": "2021-09-23T06:42:15.158Z"
   },
   {
    "duration": 14,
    "start_time": "2021-09-23T06:42:16.109Z"
   },
   {
    "duration": 59,
    "start_time": "2021-09-23T06:42:16.125Z"
   },
   {
    "duration": 294,
    "start_time": "2021-09-23T06:42:16.186Z"
   },
   {
    "duration": 167,
    "start_time": "2021-09-23T06:42:16.482Z"
   },
   {
    "duration": 4,
    "start_time": "2021-09-23T06:42:16.651Z"
   },
   {
    "duration": 9,
    "start_time": "2021-09-23T06:42:16.657Z"
   },
   {
    "duration": 81,
    "start_time": "2021-09-23T06:42:16.668Z"
   },
   {
    "duration": 26,
    "start_time": "2021-09-23T06:42:16.751Z"
   },
   {
    "duration": 8,
    "start_time": "2021-09-23T06:42:17.175Z"
   },
   {
    "duration": 20,
    "start_time": "2021-09-23T06:42:18.351Z"
   },
   {
    "duration": 10,
    "start_time": "2021-09-23T06:42:19.226Z"
   },
   {
    "duration": 9,
    "start_time": "2021-09-23T06:42:19.638Z"
   },
   {
    "duration": 11,
    "start_time": "2021-09-23T06:42:20.390Z"
   },
   {
    "duration": 16,
    "start_time": "2021-09-23T06:42:20.543Z"
   },
   {
    "duration": 19,
    "start_time": "2021-09-23T06:42:20.583Z"
   },
   {
    "duration": 4,
    "start_time": "2021-09-23T06:42:21.135Z"
   },
   {
    "duration": 5,
    "start_time": "2021-09-23T06:42:21.141Z"
   },
   {
    "duration": 15,
    "start_time": "2021-09-23T06:42:21.148Z"
   },
   {
    "duration": 6,
    "start_time": "2021-09-23T06:42:21.165Z"
   },
   {
    "duration": 9,
    "start_time": "2021-09-23T06:42:21.174Z"
   },
   {
    "duration": 9,
    "start_time": "2021-09-23T06:42:21.184Z"
   },
   {
    "duration": 8,
    "start_time": "2021-09-23T06:42:21.195Z"
   },
   {
    "duration": 7,
    "start_time": "2021-09-23T06:42:21.205Z"
   },
   {
    "duration": 4,
    "start_time": "2021-09-23T06:42:21.266Z"
   },
   {
    "duration": 9,
    "start_time": "2021-09-23T06:42:21.272Z"
   },
   {
    "duration": 15,
    "start_time": "2021-09-23T06:42:21.283Z"
   },
   {
    "duration": 5,
    "start_time": "2021-09-23T06:42:21.671Z"
   },
   {
    "duration": 520,
    "start_time": "2021-09-23T06:42:21.679Z"
   },
   {
    "duration": 355,
    "start_time": "2021-09-23T06:42:22.201Z"
   },
   {
    "duration": 9,
    "start_time": "2021-09-23T06:42:22.559Z"
   },
   {
    "duration": 348,
    "start_time": "2021-09-23T06:42:22.571Z"
   },
   {
    "duration": 4,
    "start_time": "2021-09-23T06:42:22.921Z"
   },
   {
    "duration": 352,
    "start_time": "2021-09-23T06:42:22.927Z"
   },
   {
    "duration": 4,
    "start_time": "2021-09-23T06:42:23.281Z"
   },
   {
    "duration": 338,
    "start_time": "2021-09-23T06:42:23.288Z"
   },
   {
    "duration": -6555,
    "start_time": "2021-09-23T06:42:30.183Z"
   },
   {
    "duration": -6587,
    "start_time": "2021-09-23T06:42:30.216Z"
   },
   {
    "duration": -6634,
    "start_time": "2021-09-23T06:42:30.264Z"
   },
   {
    "duration": -6650,
    "start_time": "2021-09-23T06:42:30.281Z"
   },
   {
    "duration": -6696,
    "start_time": "2021-09-23T06:42:30.328Z"
   },
   {
    "duration": -6759,
    "start_time": "2021-09-23T06:42:30.392Z"
   },
   {
    "duration": -6838,
    "start_time": "2021-09-23T06:42:30.472Z"
   },
   {
    "duration": -6881,
    "start_time": "2021-09-23T06:42:30.516Z"
   },
   {
    "duration": -6937,
    "start_time": "2021-09-23T06:42:30.573Z"
   },
   {
    "duration": -7038,
    "start_time": "2021-09-23T06:42:30.675Z"
   },
   {
    "duration": -7061,
    "start_time": "2021-09-23T06:42:30.699Z"
   },
   {
    "duration": -7073,
    "start_time": "2021-09-23T06:42:30.712Z"
   },
   {
    "duration": -7086,
    "start_time": "2021-09-23T06:42:30.726Z"
   },
   {
    "duration": -7094,
    "start_time": "2021-09-23T06:42:30.735Z"
   },
   {
    "duration": -7109,
    "start_time": "2021-09-23T06:42:30.750Z"
   },
   {
    "duration": 144,
    "start_time": "2021-09-23T06:42:23.811Z"
   },
   {
    "duration": 13,
    "start_time": "2021-09-23T06:42:23.957Z"
   },
   {
    "duration": 9,
    "start_time": "2021-09-23T06:42:23.972Z"
   },
   {
    "duration": 7,
    "start_time": "2021-09-23T06:42:24.347Z"
   },
   {
    "duration": 285,
    "start_time": "2021-09-23T06:42:24.356Z"
   },
   {
    "duration": 24,
    "start_time": "2021-09-23T06:42:24.649Z"
   },
   {
    "duration": 19,
    "start_time": "2021-09-23T06:42:24.675Z"
   },
   {
    "duration": 13,
    "start_time": "2021-09-23T06:42:24.695Z"
   },
   {
    "duration": 56,
    "start_time": "2021-09-23T06:42:24.709Z"
   },
   {
    "duration": 19,
    "start_time": "2021-09-23T06:42:24.767Z"
   },
   {
    "duration": 11,
    "start_time": "2021-09-23T06:42:24.788Z"
   },
   {
    "duration": 14,
    "start_time": "2021-09-23T06:42:24.801Z"
   },
   {
    "duration": 52,
    "start_time": "2021-09-23T06:42:24.817Z"
   },
   {
    "duration": 46,
    "start_time": "2021-09-23T06:42:24.871Z"
   },
   {
    "duration": 1001,
    "start_time": "2021-09-23T06:42:24.919Z"
   },
   {
    "duration": 7,
    "start_time": "2021-09-23T06:42:25.923Z"
   },
   {
    "duration": 18,
    "start_time": "2021-09-23T06:42:25.932Z"
   },
   {
    "duration": 329,
    "start_time": "2021-09-23T06:42:25.952Z"
   },
   {
    "duration": -8177,
    "start_time": "2021-09-23T06:42:34.461Z"
   },
   {
    "duration": -8341,
    "start_time": "2021-09-23T06:42:34.626Z"
   },
   {
    "duration": -8459,
    "start_time": "2021-09-23T06:42:34.745Z"
   },
   {
    "duration": -8467,
    "start_time": "2021-09-23T06:42:34.755Z"
   },
   {
    "duration": -8481,
    "start_time": "2021-09-23T06:42:34.770Z"
   },
   {
    "duration": -8555,
    "start_time": "2021-09-23T06:42:34.845Z"
   },
   {
    "duration": -8617,
    "start_time": "2021-09-23T06:42:34.908Z"
   },
   {
    "duration": -8638,
    "start_time": "2021-09-23T06:42:34.930Z"
   },
   {
    "duration": -8668,
    "start_time": "2021-09-23T06:42:34.961Z"
   },
   {
    "duration": -8693,
    "start_time": "2021-09-23T06:42:34.987Z"
   },
   {
    "duration": -8706,
    "start_time": "2021-09-23T06:42:35.001Z"
   },
   {
    "duration": -8717,
    "start_time": "2021-09-23T06:42:35.013Z"
   },
   {
    "duration": -8755,
    "start_time": "2021-09-23T06:42:35.052Z"
   },
   {
    "duration": -8801,
    "start_time": "2021-09-23T06:42:35.098Z"
   },
   {
    "duration": -8827,
    "start_time": "2021-09-23T06:42:35.125Z"
   },
   {
    "duration": -8850,
    "start_time": "2021-09-23T06:42:35.149Z"
   },
   {
    "duration": -8860,
    "start_time": "2021-09-23T06:42:35.160Z"
   },
   {
    "duration": -8874,
    "start_time": "2021-09-23T06:42:35.175Z"
   },
   {
    "duration": -8901,
    "start_time": "2021-09-23T06:42:35.203Z"
   },
   {
    "duration": -8916,
    "start_time": "2021-09-23T06:42:35.219Z"
   },
   {
    "duration": -8940,
    "start_time": "2021-09-23T06:42:35.244Z"
   },
   {
    "duration": -8949,
    "start_time": "2021-09-23T06:42:35.255Z"
   },
   {
    "duration": 266,
    "start_time": "2021-09-23T06:42:26.346Z"
   },
   {
    "duration": -8745,
    "start_time": "2021-09-23T06:42:35.359Z"
   },
   {
    "duration": -8761,
    "start_time": "2021-09-23T06:42:35.376Z"
   },
   {
    "duration": -8797,
    "start_time": "2021-09-23T06:42:35.413Z"
   },
   {
    "duration": -8836,
    "start_time": "2021-09-23T06:42:35.453Z"
   },
   {
    "duration": -8862,
    "start_time": "2021-09-23T06:42:35.480Z"
   },
   {
    "duration": 574,
    "start_time": "2021-09-23T06:43:37.635Z"
   },
   {
    "duration": 340,
    "start_time": "2021-09-23T06:44:23.263Z"
   },
   {
    "duration": 525,
    "start_time": "2021-09-23T06:44:26.475Z"
   },
   {
    "duration": 383,
    "start_time": "2021-09-23T06:44:40.275Z"
   },
   {
    "duration": 328,
    "start_time": "2021-09-23T06:44:48.910Z"
   },
   {
    "duration": 237,
    "start_time": "2021-09-23T06:44:54.663Z"
   },
   {
    "duration": 4,
    "start_time": "2021-09-23T06:45:06.688Z"
   },
   {
    "duration": 240,
    "start_time": "2021-09-23T06:45:07.374Z"
   },
   {
    "duration": 20,
    "start_time": "2021-09-23T06:45:56.079Z"
   },
   {
    "duration": 42,
    "start_time": "2021-09-23T07:20:19.114Z"
   },
   {
    "duration": 732,
    "start_time": "2021-09-23T07:20:19.922Z"
   },
   {
    "duration": 696,
    "start_time": "2021-09-23T07:20:41.154Z"
   },
   {
    "duration": 36,
    "start_time": "2021-09-23T07:20:43.698Z"
   },
   {
    "duration": 21,
    "start_time": "2021-09-23T07:20:44.294Z"
   },
   {
    "duration": 2,
    "start_time": "2021-09-23T07:20:44.566Z"
   },
   {
    "duration": 7,
    "start_time": "2021-09-23T07:20:44.762Z"
   },
   {
    "duration": 22,
    "start_time": "2021-09-23T07:20:44.897Z"
   },
   {
    "duration": 19,
    "start_time": "2021-09-23T07:20:44.997Z"
   },
   {
    "duration": 12,
    "start_time": "2021-09-23T07:20:45.174Z"
   },
   {
    "duration": 6,
    "start_time": "2021-09-23T07:20:45.930Z"
   },
   {
    "duration": 11,
    "start_time": "2021-09-23T07:20:46.181Z"
   },
   {
    "duration": 23,
    "start_time": "2021-09-23T07:20:46.809Z"
   },
   {
    "duration": 24,
    "start_time": "2021-09-23T07:20:54.762Z"
   },
   {
    "duration": 763,
    "start_time": "2021-09-23T07:20:55.686Z"
   },
   {
    "duration": 772,
    "start_time": "2021-09-23T07:22:15.046Z"
   },
   {
    "duration": 907,
    "start_time": "2021-09-23T07:29:05.117Z"
   },
   {
    "duration": 86,
    "start_time": "2021-09-23T07:29:45.309Z"
   },
   {
    "duration": 320,
    "start_time": "2021-09-23T07:29:45.693Z"
   },
   {
    "duration": 90,
    "start_time": "2021-09-23T07:29:46.106Z"
   },
   {
    "duration": 16,
    "start_time": "2021-09-23T07:29:46.346Z"
   },
   {
    "duration": 206,
    "start_time": "2021-09-23T07:29:46.537Z"
   },
   {
    "duration": 46,
    "start_time": "2021-09-23T07:29:46.846Z"
   },
   {
    "duration": 1064,
    "start_time": "2021-09-23T07:29:49.885Z"
   },
   {
    "duration": 813,
    "start_time": "2021-09-23T07:29:56.305Z"
   },
   {
    "duration": 544,
    "start_time": "2021-09-23T07:31:04.634Z"
   },
   {
    "duration": 263,
    "start_time": "2021-09-23T07:31:05.937Z"
   },
   {
    "duration": 4,
    "start_time": "2021-09-23T07:31:06.202Z"
   },
   {
    "duration": 474,
    "start_time": "2021-09-23T07:31:06.714Z"
   },
   {
    "duration": 4,
    "start_time": "2021-09-23T07:31:08.674Z"
   },
   {
    "duration": 396,
    "start_time": "2021-09-23T07:31:10.042Z"
   },
   {
    "duration": 3,
    "start_time": "2021-09-23T07:31:12.070Z"
   },
   {
    "duration": 388,
    "start_time": "2021-09-23T07:31:13.378Z"
   },
   {
    "duration": 4,
    "start_time": "2021-09-23T07:31:15.574Z"
   },
   {
    "duration": 236,
    "start_time": "2021-09-23T07:31:16.074Z"
   },
   {
    "duration": 518,
    "start_time": "2021-09-23T07:31:41.566Z"
   },
   {
    "duration": 244,
    "start_time": "2021-09-23T07:31:49.565Z"
   },
   {
    "duration": 82,
    "start_time": "2021-09-23T07:32:18.137Z"
   },
   {
    "duration": 12,
    "start_time": "2021-09-23T07:32:20.958Z"
   },
   {
    "duration": 305,
    "start_time": "2021-09-23T07:32:58.214Z"
   },
   {
    "duration": 571,
    "start_time": "2021-09-23T07:33:05.146Z"
   },
   {
    "duration": 505,
    "start_time": "2021-09-23T07:33:31.163Z"
   },
   {
    "duration": 497,
    "start_time": "2021-09-23T07:33:43.073Z"
   },
   {
    "duration": 465,
    "start_time": "2021-09-23T07:33:56.249Z"
   },
   {
    "duration": 659,
    "start_time": "2021-09-23T07:34:07.426Z"
   },
   {
    "duration": 249,
    "start_time": "2021-09-23T07:34:12.913Z"
   },
   {
    "duration": 5860,
    "start_time": "2021-09-23T07:34:19.514Z"
   },
   {
    "duration": -55,
    "start_time": "2021-09-23T07:34:25.432Z"
   },
   {
    "duration": -62,
    "start_time": "2021-09-23T07:34:25.440Z"
   },
   {
    "duration": -66,
    "start_time": "2021-09-23T07:34:25.445Z"
   },
   {
    "duration": 1864,
    "start_time": "2021-09-23T07:34:41.600Z"
   },
   {
    "duration": 666,
    "start_time": "2021-09-23T07:34:43.466Z"
   },
   {
    "duration": 10,
    "start_time": "2021-09-23T07:34:44.135Z"
   },
   {
    "duration": 71,
    "start_time": "2021-09-23T07:34:44.147Z"
   },
   {
    "duration": 298,
    "start_time": "2021-09-23T07:34:44.220Z"
   },
   {
    "duration": 187,
    "start_time": "2021-09-23T07:34:44.520Z"
   },
   {
    "duration": 4,
    "start_time": "2021-09-23T07:34:44.709Z"
   },
   {
    "duration": 22,
    "start_time": "2021-09-23T07:34:44.715Z"
   },
   {
    "duration": 92,
    "start_time": "2021-09-23T07:34:44.739Z"
   },
   {
    "duration": 21,
    "start_time": "2021-09-23T07:34:44.833Z"
   },
   {
    "duration": 11,
    "start_time": "2021-09-23T07:34:44.856Z"
   },
   {
    "duration": 22,
    "start_time": "2021-09-23T07:34:44.869Z"
   },
   {
    "duration": 14,
    "start_time": "2021-09-23T07:34:44.893Z"
   },
   {
    "duration": 8,
    "start_time": "2021-09-23T07:34:44.909Z"
   },
   {
    "duration": 34,
    "start_time": "2021-09-23T07:34:44.919Z"
   },
   {
    "duration": 19,
    "start_time": "2021-09-23T07:34:44.955Z"
   },
   {
    "duration": 14,
    "start_time": "2021-09-23T07:34:44.976Z"
   },
   {
    "duration": 22,
    "start_time": "2021-09-23T07:34:44.992Z"
   },
   {
    "duration": 30,
    "start_time": "2021-09-23T07:34:45.015Z"
   },
   {
    "duration": 33,
    "start_time": "2021-09-23T07:34:45.047Z"
   },
   {
    "duration": 23,
    "start_time": "2021-09-23T07:34:45.081Z"
   },
   {
    "duration": 24,
    "start_time": "2021-09-23T07:34:45.106Z"
   },
   {
    "duration": 23,
    "start_time": "2021-09-23T07:34:45.134Z"
   },
   {
    "duration": 12,
    "start_time": "2021-09-23T07:34:45.161Z"
   },
   {
    "duration": 22,
    "start_time": "2021-09-23T07:34:45.174Z"
   },
   {
    "duration": 14,
    "start_time": "2021-09-23T07:34:45.198Z"
   },
   {
    "duration": 31,
    "start_time": "2021-09-23T07:34:45.214Z"
   },
   {
    "duration": 20,
    "start_time": "2021-09-23T07:34:45.246Z"
   },
   {
    "duration": 31,
    "start_time": "2021-09-23T07:34:45.268Z"
   },
   {
    "duration": 569,
    "start_time": "2021-09-23T07:34:45.301Z"
   },
   {
    "duration": 352,
    "start_time": "2021-09-23T07:34:45.872Z"
   },
   {
    "duration": 9,
    "start_time": "2021-09-23T07:34:46.226Z"
   },
   {
    "duration": 349,
    "start_time": "2021-09-23T07:34:46.237Z"
   },
   {
    "duration": 3,
    "start_time": "2021-09-23T07:34:46.588Z"
   },
   {
    "duration": 320,
    "start_time": "2021-09-23T07:34:46.592Z"
   },
   {
    "duration": 3,
    "start_time": "2021-09-23T07:34:46.914Z"
   },
   {
    "duration": 340,
    "start_time": "2021-09-23T07:34:46.919Z"
   },
   {
    "duration": -17,
    "start_time": "2021-09-23T07:34:47.279Z"
   },
   {
    "duration": -19,
    "start_time": "2021-09-23T07:34:47.283Z"
   },
   {
    "duration": -27,
    "start_time": "2021-09-23T07:34:47.292Z"
   },
   {
    "duration": -29,
    "start_time": "2021-09-23T07:34:47.296Z"
   },
   {
    "duration": -34,
    "start_time": "2021-09-23T07:34:47.302Z"
   },
   {
    "duration": -55,
    "start_time": "2021-09-23T07:34:47.324Z"
   },
   {
    "duration": -61,
    "start_time": "2021-09-23T07:34:47.331Z"
   },
   {
    "duration": -65,
    "start_time": "2021-09-23T07:34:47.336Z"
   },
   {
    "duration": -67,
    "start_time": "2021-09-23T07:34:47.339Z"
   },
   {
    "duration": -70,
    "start_time": "2021-09-23T07:34:47.343Z"
   },
   {
    "duration": -76,
    "start_time": "2021-09-23T07:34:47.350Z"
   },
   {
    "duration": -81,
    "start_time": "2021-09-23T07:34:47.356Z"
   },
   {
    "duration": -85,
    "start_time": "2021-09-23T07:34:47.361Z"
   },
   {
    "duration": -90,
    "start_time": "2021-09-23T07:34:47.367Z"
   },
   {
    "duration": -94,
    "start_time": "2021-09-23T07:34:47.372Z"
   },
   {
    "duration": -97,
    "start_time": "2021-09-23T07:34:47.376Z"
   },
   {
    "duration": -101,
    "start_time": "2021-09-23T07:34:47.381Z"
   },
   {
    "duration": -104,
    "start_time": "2021-09-23T07:34:47.385Z"
   },
   {
    "duration": -109,
    "start_time": "2021-09-23T07:34:47.391Z"
   },
   {
    "duration": -112,
    "start_time": "2021-09-23T07:34:47.395Z"
   },
   {
    "duration": -116,
    "start_time": "2021-09-23T07:34:47.400Z"
   },
   {
    "duration": -126,
    "start_time": "2021-09-23T07:34:47.411Z"
   },
   {
    "duration": -130,
    "start_time": "2021-09-23T07:34:47.416Z"
   },
   {
    "duration": -134,
    "start_time": "2021-09-23T07:34:47.421Z"
   },
   {
    "duration": -138,
    "start_time": "2021-09-23T07:34:47.426Z"
   },
   {
    "duration": -141,
    "start_time": "2021-09-23T07:34:47.430Z"
   },
   {
    "duration": -145,
    "start_time": "2021-09-23T07:34:47.435Z"
   },
   {
    "duration": -149,
    "start_time": "2021-09-23T07:34:47.439Z"
   },
   {
    "duration": -152,
    "start_time": "2021-09-23T07:34:47.443Z"
   },
   {
    "duration": -155,
    "start_time": "2021-09-23T07:34:47.447Z"
   },
   {
    "duration": -159,
    "start_time": "2021-09-23T07:34:47.452Z"
   },
   {
    "duration": -163,
    "start_time": "2021-09-23T07:34:47.456Z"
   },
   {
    "duration": -167,
    "start_time": "2021-09-23T07:34:47.461Z"
   },
   {
    "duration": -171,
    "start_time": "2021-09-23T07:34:47.466Z"
   },
   {
    "duration": -176,
    "start_time": "2021-09-23T07:34:47.472Z"
   },
   {
    "duration": -179,
    "start_time": "2021-09-23T07:34:47.476Z"
   },
   {
    "duration": -184,
    "start_time": "2021-09-23T07:34:47.482Z"
   },
   {
    "duration": -205,
    "start_time": "2021-09-23T07:34:47.503Z"
   },
   {
    "duration": -159,
    "start_time": "2021-09-23T07:34:47.508Z"
   },
   {
    "duration": -180,
    "start_time": "2021-09-23T07:34:47.537Z"
   },
   {
    "duration": -183,
    "start_time": "2021-09-23T07:34:47.541Z"
   },
   {
    "duration": -186,
    "start_time": "2021-09-23T07:34:47.545Z"
   },
   {
    "duration": -191,
    "start_time": "2021-09-23T07:34:47.551Z"
   },
   {
    "duration": -208,
    "start_time": "2021-09-23T07:34:47.569Z"
   },
   {
    "duration": -212,
    "start_time": "2021-09-23T07:34:47.573Z"
   },
   {
    "duration": -216,
    "start_time": "2021-09-23T07:34:47.579Z"
   },
   {
    "duration": -220,
    "start_time": "2021-09-23T07:34:47.583Z"
   },
   {
    "duration": -223,
    "start_time": "2021-09-23T07:34:47.587Z"
   },
   {
    "duration": -227,
    "start_time": "2021-09-23T07:34:47.592Z"
   },
   {
    "duration": -230,
    "start_time": "2021-09-23T07:34:47.596Z"
   },
   {
    "duration": -233,
    "start_time": "2021-09-23T07:34:47.600Z"
   },
   {
    "duration": -245,
    "start_time": "2021-09-23T07:34:47.612Z"
   },
   {
    "duration": -248,
    "start_time": "2021-09-23T07:34:47.616Z"
   },
   {
    "duration": -257,
    "start_time": "2021-09-23T07:34:47.626Z"
   },
   {
    "duration": -261,
    "start_time": "2021-09-23T07:34:47.630Z"
   },
   {
    "duration": -269,
    "start_time": "2021-09-23T07:34:47.639Z"
   },
   {
    "duration": -274,
    "start_time": "2021-09-23T07:34:47.644Z"
   },
   {
    "duration": -278,
    "start_time": "2021-09-23T07:34:47.649Z"
   },
   {
    "duration": -281,
    "start_time": "2021-09-23T07:34:47.653Z"
   },
   {
    "duration": -284,
    "start_time": "2021-09-23T07:34:47.657Z"
   },
   {
    "duration": -288,
    "start_time": "2021-09-23T07:34:47.662Z"
   },
   {
    "duration": 533,
    "start_time": "2021-09-23T07:35:07.973Z"
   },
   {
    "duration": 1185,
    "start_time": "2021-09-23T07:35:30.537Z"
   },
   {
    "duration": 658,
    "start_time": "2021-09-23T07:35:31.724Z"
   },
   {
    "duration": 10,
    "start_time": "2021-09-23T07:35:32.384Z"
   },
   {
    "duration": 59,
    "start_time": "2021-09-23T07:35:32.396Z"
   },
   {
    "duration": 384,
    "start_time": "2021-09-23T07:35:32.457Z"
   },
   {
    "duration": 280,
    "start_time": "2021-09-23T07:35:32.843Z"
   },
   {
    "duration": 4,
    "start_time": "2021-09-23T07:35:33.126Z"
   },
   {
    "duration": 19,
    "start_time": "2021-09-23T07:35:33.133Z"
   },
   {
    "duration": 81,
    "start_time": "2021-09-23T07:35:33.155Z"
   },
   {
    "duration": 25,
    "start_time": "2021-09-23T07:35:33.238Z"
   },
   {
    "duration": 8,
    "start_time": "2021-09-23T07:35:33.265Z"
   },
   {
    "duration": 18,
    "start_time": "2021-09-23T07:35:33.275Z"
   },
   {
    "duration": 10,
    "start_time": "2021-09-23T07:35:33.295Z"
   },
   {
    "duration": 7,
    "start_time": "2021-09-23T07:35:33.307Z"
   },
   {
    "duration": 49,
    "start_time": "2021-09-23T07:35:33.316Z"
   },
   {
    "duration": 16,
    "start_time": "2021-09-23T07:35:33.367Z"
   },
   {
    "duration": 14,
    "start_time": "2021-09-23T07:35:33.385Z"
   },
   {
    "duration": 6,
    "start_time": "2021-09-23T07:35:33.400Z"
   },
   {
    "duration": 8,
    "start_time": "2021-09-23T07:35:33.407Z"
   },
   {
    "duration": 47,
    "start_time": "2021-09-23T07:35:33.416Z"
   },
   {
    "duration": 6,
    "start_time": "2021-09-23T07:35:33.465Z"
   },
   {
    "duration": 7,
    "start_time": "2021-09-23T07:35:33.473Z"
   },
   {
    "duration": 6,
    "start_time": "2021-09-23T07:35:33.484Z"
   },
   {
    "duration": 8,
    "start_time": "2021-09-23T07:35:33.492Z"
   },
   {
    "duration": 7,
    "start_time": "2021-09-23T07:35:33.501Z"
   },
   {
    "duration": 10,
    "start_time": "2021-09-23T07:35:33.509Z"
   },
   {
    "duration": 37,
    "start_time": "2021-09-23T07:35:33.520Z"
   },
   {
    "duration": 7,
    "start_time": "2021-09-23T07:35:33.559Z"
   },
   {
    "duration": 8,
    "start_time": "2021-09-23T07:35:33.568Z"
   },
   {
    "duration": 524,
    "start_time": "2021-09-23T07:35:33.577Z"
   },
   {
    "duration": 341,
    "start_time": "2021-09-23T07:35:34.103Z"
   },
   {
    "duration": 9,
    "start_time": "2021-09-23T07:35:34.446Z"
   },
   {
    "duration": 332,
    "start_time": "2021-09-23T07:35:34.458Z"
   },
   {
    "duration": 4,
    "start_time": "2021-09-23T07:35:34.792Z"
   },
   {
    "duration": 329,
    "start_time": "2021-09-23T07:35:34.797Z"
   },
   {
    "duration": 3,
    "start_time": "2021-09-23T07:35:35.128Z"
   },
   {
    "duration": 382,
    "start_time": "2021-09-23T07:35:35.132Z"
   },
   {
    "duration": -35,
    "start_time": "2021-09-23T07:35:35.552Z"
   },
   {
    "duration": -38,
    "start_time": "2021-09-23T07:35:35.556Z"
   },
   {
    "duration": -42,
    "start_time": "2021-09-23T07:35:35.561Z"
   },
   {
    "duration": -71,
    "start_time": "2021-09-23T07:35:35.591Z"
   },
   {
    "duration": -84,
    "start_time": "2021-09-23T07:35:35.604Z"
   },
   {
    "duration": -87,
    "start_time": "2021-09-23T07:35:35.608Z"
   },
   {
    "duration": -93,
    "start_time": "2021-09-23T07:35:35.615Z"
   },
   {
    "duration": -96,
    "start_time": "2021-09-23T07:35:35.619Z"
   },
   {
    "duration": -101,
    "start_time": "2021-09-23T07:35:35.624Z"
   },
   {
    "duration": -104,
    "start_time": "2021-09-23T07:35:35.628Z"
   },
   {
    "duration": -107,
    "start_time": "2021-09-23T07:35:35.632Z"
   },
   {
    "duration": -110,
    "start_time": "2021-09-23T07:35:35.636Z"
   },
   {
    "duration": -114,
    "start_time": "2021-09-23T07:35:35.640Z"
   },
   {
    "duration": -117,
    "start_time": "2021-09-23T07:35:35.644Z"
   },
   {
    "duration": -121,
    "start_time": "2021-09-23T07:35:35.649Z"
   },
   {
    "duration": -124,
    "start_time": "2021-09-23T07:35:35.653Z"
   },
   {
    "duration": -128,
    "start_time": "2021-09-23T07:35:35.657Z"
   },
   {
    "duration": -132,
    "start_time": "2021-09-23T07:35:35.662Z"
   },
   {
    "duration": -143,
    "start_time": "2021-09-23T07:35:35.674Z"
   },
   {
    "duration": -148,
    "start_time": "2021-09-23T07:35:35.679Z"
   },
   {
    "duration": -154,
    "start_time": "2021-09-23T07:35:35.686Z"
   },
   {
    "duration": -157,
    "start_time": "2021-09-23T07:35:35.690Z"
   },
   {
    "duration": -161,
    "start_time": "2021-09-23T07:35:35.695Z"
   },
   {
    "duration": -165,
    "start_time": "2021-09-23T07:35:35.700Z"
   },
   {
    "duration": -169,
    "start_time": "2021-09-23T07:35:35.705Z"
   },
   {
    "duration": -173,
    "start_time": "2021-09-23T07:35:35.710Z"
   },
   {
    "duration": -176,
    "start_time": "2021-09-23T07:35:35.714Z"
   },
   {
    "duration": -179,
    "start_time": "2021-09-23T07:35:35.718Z"
   },
   {
    "duration": -182,
    "start_time": "2021-09-23T07:35:35.722Z"
   },
   {
    "duration": -187,
    "start_time": "2021-09-23T07:35:35.727Z"
   },
   {
    "duration": -191,
    "start_time": "2021-09-23T07:35:35.732Z"
   },
   {
    "duration": -193,
    "start_time": "2021-09-23T07:35:35.735Z"
   },
   {
    "duration": -198,
    "start_time": "2021-09-23T07:35:35.741Z"
   },
   {
    "duration": -201,
    "start_time": "2021-09-23T07:35:35.745Z"
   },
   {
    "duration": -206,
    "start_time": "2021-09-23T07:35:35.751Z"
   },
   {
    "duration": -209,
    "start_time": "2021-09-23T07:35:35.755Z"
   },
   {
    "duration": -213,
    "start_time": "2021-09-23T07:35:35.759Z"
   },
   {
    "duration": -216,
    "start_time": "2021-09-23T07:35:35.763Z"
   },
   {
    "duration": -219,
    "start_time": "2021-09-23T07:35:35.767Z"
   },
   {
    "duration": -221,
    "start_time": "2021-09-23T07:35:35.770Z"
   },
   {
    "duration": -232,
    "start_time": "2021-09-23T07:35:35.782Z"
   },
   {
    "duration": -235,
    "start_time": "2021-09-23T07:35:35.786Z"
   },
   {
    "duration": -239,
    "start_time": "2021-09-23T07:35:35.791Z"
   },
   {
    "duration": -241,
    "start_time": "2021-09-23T07:35:35.794Z"
   },
   {
    "duration": -245,
    "start_time": "2021-09-23T07:35:35.799Z"
   },
   {
    "duration": -248,
    "start_time": "2021-09-23T07:35:35.803Z"
   },
   {
    "duration": -251,
    "start_time": "2021-09-23T07:35:35.807Z"
   },
   {
    "duration": -255,
    "start_time": "2021-09-23T07:35:35.812Z"
   },
   {
    "duration": -262,
    "start_time": "2021-09-23T07:35:35.820Z"
   },
   {
    "duration": -265,
    "start_time": "2021-09-23T07:35:35.825Z"
   },
   {
    "duration": -268,
    "start_time": "2021-09-23T07:35:35.829Z"
   },
   {
    "duration": -271,
    "start_time": "2021-09-23T07:35:35.833Z"
   },
   {
    "duration": -276,
    "start_time": "2021-09-23T07:35:35.838Z"
   },
   {
    "duration": -278,
    "start_time": "2021-09-23T07:35:35.841Z"
   },
   {
    "duration": -282,
    "start_time": "2021-09-23T07:35:35.846Z"
   },
   {
    "duration": -284,
    "start_time": "2021-09-23T07:35:35.849Z"
   },
   {
    "duration": -288,
    "start_time": "2021-09-23T07:35:35.854Z"
   },
   {
    "duration": -291,
    "start_time": "2021-09-23T07:35:35.858Z"
   },
   {
    "duration": -301,
    "start_time": "2021-09-23T07:35:35.869Z"
   },
   {
    "duration": -306,
    "start_time": "2021-09-23T07:35:35.875Z"
   },
   {
    "duration": -319,
    "start_time": "2021-09-23T07:35:35.889Z"
   },
   {
    "duration": 381,
    "start_time": "2021-09-23T07:35:41.429Z"
   },
   {
    "duration": 259,
    "start_time": "2021-09-23T07:35:46.025Z"
   },
   {
    "duration": 303,
    "start_time": "2021-09-23T07:36:13.397Z"
   },
   {
    "duration": 234,
    "start_time": "2021-09-23T07:36:28.437Z"
   },
   {
    "duration": 359,
    "start_time": "2021-09-23T07:38:25.978Z"
   },
   {
    "duration": 319,
    "start_time": "2021-09-23T07:38:34.996Z"
   },
   {
    "duration": 404,
    "start_time": "2021-09-23T07:38:42.921Z"
   },
   {
    "duration": 897,
    "start_time": "2021-09-23T07:40:15.489Z"
   },
   {
    "duration": 10,
    "start_time": "2021-09-23T07:41:05.332Z"
   },
   {
    "duration": 404,
    "start_time": "2021-09-23T07:41:46.592Z"
   },
   {
    "duration": 4,
    "start_time": "2021-09-23T07:41:48.861Z"
   },
   {
    "duration": 458,
    "start_time": "2021-09-23T07:41:49.745Z"
   },
   {
    "duration": 789,
    "start_time": "2021-09-23T07:42:37.645Z"
   },
   {
    "duration": 471,
    "start_time": "2021-09-23T07:42:57.724Z"
   },
   {
    "duration": 490,
    "start_time": "2021-09-23T07:43:07.384Z"
   },
   {
    "duration": 7,
    "start_time": "2021-09-23T07:46:02.736Z"
   },
   {
    "duration": 342,
    "start_time": "2021-09-23T07:47:45.960Z"
   },
   {
    "duration": 4,
    "start_time": "2021-09-23T07:48:06.708Z"
   },
   {
    "duration": 493,
    "start_time": "2021-09-23T07:48:07.296Z"
   },
   {
    "duration": 330,
    "start_time": "2021-09-23T07:48:51.244Z"
   },
   {
    "duration": 674,
    "start_time": "2021-09-23T07:49:17.544Z"
   },
   {
    "duration": 6159,
    "start_time": "2021-09-23T07:50:23.948Z"
   },
   {
    "duration": 269,
    "start_time": "2021-09-23T07:50:47.240Z"
   },
   {
    "duration": 86,
    "start_time": "2021-09-23T07:50:52.788Z"
   },
   {
    "duration": 96,
    "start_time": "2021-09-23T07:51:02.528Z"
   },
   {
    "duration": 85,
    "start_time": "2021-09-23T07:51:40.200Z"
   },
   {
    "duration": 11,
    "start_time": "2021-09-23T07:51:57.561Z"
   },
   {
    "duration": 399,
    "start_time": "2021-09-23T07:58:43.412Z"
   },
   {
    "duration": 312,
    "start_time": "2021-09-23T08:00:05.820Z"
   },
   {
    "duration": 531,
    "start_time": "2021-09-23T08:01:09.772Z"
   },
   {
    "duration": 352,
    "start_time": "2021-09-23T08:02:05.552Z"
   },
   {
    "duration": 432,
    "start_time": "2021-09-23T08:02:24.664Z"
   },
   {
    "duration": 434,
    "start_time": "2021-09-23T08:02:28.073Z"
   },
   {
    "duration": 522,
    "start_time": "2021-09-23T08:03:23.188Z"
   },
   {
    "duration": 395,
    "start_time": "2021-09-23T08:03:46.720Z"
   },
   {
    "duration": 4,
    "start_time": "2021-09-23T08:03:47.216Z"
   },
   {
    "duration": 330,
    "start_time": "2021-09-23T08:03:47.936Z"
   },
   {
    "duration": 340,
    "start_time": "2021-09-23T08:23:25.440Z"
   },
   {
    "duration": 339,
    "start_time": "2021-09-23T08:23:33.508Z"
   },
   {
    "duration": 464,
    "start_time": "2021-09-23T08:23:54.463Z"
   },
   {
    "duration": 514,
    "start_time": "2021-09-23T08:24:57.380Z"
   },
   {
    "duration": 339,
    "start_time": "2021-09-23T08:26:53.152Z"
   },
   {
    "duration": 332,
    "start_time": "2021-09-23T08:27:54.256Z"
   },
   {
    "duration": 528,
    "start_time": "2021-09-23T08:28:21.848Z"
   },
   {
    "duration": 540,
    "start_time": "2021-09-23T08:28:31.664Z"
   },
   {
    "duration": 423,
    "start_time": "2021-09-23T08:28:36.923Z"
   },
   {
    "duration": 555,
    "start_time": "2021-09-23T08:28:43.513Z"
   },
   {
    "duration": 519,
    "start_time": "2021-09-23T08:28:48.772Z"
   },
   {
    "duration": 524,
    "start_time": "2021-09-23T08:28:54.272Z"
   },
   {
    "duration": 649,
    "start_time": "2021-09-23T08:29:30.850Z"
   },
   {
    "duration": 331,
    "start_time": "2021-09-23T08:30:00.704Z"
   },
   {
    "duration": 286,
    "start_time": "2021-09-23T08:30:28.292Z"
   },
   {
    "duration": 4,
    "start_time": "2021-09-23T08:30:28.586Z"
   },
   {
    "duration": 381,
    "start_time": "2021-09-23T08:30:31.475Z"
   },
   {
    "duration": 4,
    "start_time": "2021-09-23T08:30:32.348Z"
   },
   {
    "duration": 330,
    "start_time": "2021-09-23T08:30:32.843Z"
   },
   {
    "duration": 323,
    "start_time": "2021-09-23T08:30:35.275Z"
   },
   {
    "duration": 448,
    "start_time": "2021-09-23T08:31:11.863Z"
   },
   {
    "duration": 406,
    "start_time": "2021-09-23T08:31:21.388Z"
   },
   {
    "duration": 5,
    "start_time": "2021-09-23T08:31:22.447Z"
   },
   {
    "duration": 354,
    "start_time": "2021-09-23T08:31:22.940Z"
   },
   {
    "duration": 433,
    "start_time": "2021-09-23T08:31:52.940Z"
   },
   {
    "duration": 329,
    "start_time": "2021-09-23T08:31:56.064Z"
   },
   {
    "duration": 6,
    "start_time": "2021-09-23T08:31:56.395Z"
   },
   {
    "duration": 413,
    "start_time": "2021-09-23T08:31:57.463Z"
   },
   {
    "duration": 4,
    "start_time": "2021-09-23T08:31:57.880Z"
   },
   {
    "duration": 524,
    "start_time": "2021-09-23T08:31:58.116Z"
   },
   {
    "duration": 1205,
    "start_time": "2021-09-23T08:46:31.234Z"
   },
   {
    "duration": 675,
    "start_time": "2021-09-23T08:46:32.441Z"
   },
   {
    "duration": 12,
    "start_time": "2021-09-23T08:46:33.118Z"
   },
   {
    "duration": 72,
    "start_time": "2021-09-23T08:46:33.132Z"
   },
   {
    "duration": 300,
    "start_time": "2021-09-23T08:46:33.206Z"
   },
   {
    "duration": 185,
    "start_time": "2021-09-23T08:46:33.508Z"
   },
   {
    "duration": 4,
    "start_time": "2021-09-23T08:46:33.696Z"
   },
   {
    "duration": 7,
    "start_time": "2021-09-23T08:46:33.702Z"
   },
   {
    "duration": 94,
    "start_time": "2021-09-23T08:46:33.712Z"
   },
   {
    "duration": 23,
    "start_time": "2021-09-23T08:46:33.808Z"
   },
   {
    "duration": 16,
    "start_time": "2021-09-23T08:46:33.833Z"
   },
   {
    "duration": 17,
    "start_time": "2021-09-23T08:46:33.851Z"
   },
   {
    "duration": 9,
    "start_time": "2021-09-23T08:46:33.870Z"
   },
   {
    "duration": 7,
    "start_time": "2021-09-23T08:46:33.881Z"
   },
   {
    "duration": 11,
    "start_time": "2021-09-23T08:46:33.890Z"
   },
   {
    "duration": 58,
    "start_time": "2021-09-23T08:46:33.903Z"
   },
   {
    "duration": 12,
    "start_time": "2021-09-23T08:46:33.962Z"
   },
   {
    "duration": 13,
    "start_time": "2021-09-23T08:46:33.976Z"
   },
   {
    "duration": 5,
    "start_time": "2021-09-23T08:46:33.990Z"
   },
   {
    "duration": 14,
    "start_time": "2021-09-23T08:46:33.997Z"
   },
   {
    "duration": 7,
    "start_time": "2021-09-23T08:46:34.013Z"
   },
   {
    "duration": 36,
    "start_time": "2021-09-23T08:46:34.022Z"
   },
   {
    "duration": 15,
    "start_time": "2021-09-23T08:46:34.060Z"
   },
   {
    "duration": 12,
    "start_time": "2021-09-23T08:46:34.077Z"
   },
   {
    "duration": 13,
    "start_time": "2021-09-23T08:46:34.091Z"
   },
   {
    "duration": 18,
    "start_time": "2021-09-23T08:46:34.105Z"
   },
   {
    "duration": 9,
    "start_time": "2021-09-23T08:46:34.127Z"
   },
   {
    "duration": 13,
    "start_time": "2021-09-23T08:46:34.139Z"
   },
   {
    "duration": 12,
    "start_time": "2021-09-23T08:46:34.154Z"
   },
   {
    "duration": 412,
    "start_time": "2021-09-23T08:46:34.169Z"
   },
   {
    "duration": 487,
    "start_time": "2021-09-23T08:46:34.583Z"
   },
   {
    "duration": 8,
    "start_time": "2021-09-23T08:46:35.071Z"
   },
   {
    "duration": 474,
    "start_time": "2021-09-23T08:46:35.081Z"
   },
   {
    "duration": 5,
    "start_time": "2021-09-23T08:46:35.557Z"
   },
   {
    "duration": 398,
    "start_time": "2021-09-23T08:46:35.564Z"
   },
   {
    "duration": 4,
    "start_time": "2021-09-23T08:46:35.965Z"
   },
   {
    "duration": 340,
    "start_time": "2021-09-23T08:46:35.971Z"
   },
   {
    "duration": 4,
    "start_time": "2021-09-23T08:46:36.313Z"
   },
   {
    "duration": 494,
    "start_time": "2021-09-23T08:46:36.318Z"
   },
   {
    "duration": 29,
    "start_time": "2021-09-23T08:46:36.813Z"
   },
   {
    "duration": 335,
    "start_time": "2021-09-23T08:46:36.852Z"
   },
   {
    "duration": -43,
    "start_time": "2021-09-23T08:46:37.232Z"
   },
   {
    "duration": -49,
    "start_time": "2021-09-23T08:46:37.239Z"
   },
   {
    "duration": -52,
    "start_time": "2021-09-23T08:46:37.243Z"
   },
   {
    "duration": -56,
    "start_time": "2021-09-23T08:46:37.248Z"
   },
   {
    "duration": -81,
    "start_time": "2021-09-23T08:46:37.274Z"
   },
   {
    "duration": -86,
    "start_time": "2021-09-23T08:46:37.280Z"
   },
   {
    "duration": -94,
    "start_time": "2021-09-23T08:46:37.289Z"
   },
   {
    "duration": -109,
    "start_time": "2021-09-23T08:46:37.305Z"
   },
   {
    "duration": -126,
    "start_time": "2021-09-23T08:46:37.323Z"
   },
   {
    "duration": -138,
    "start_time": "2021-09-23T08:46:37.336Z"
   },
   {
    "duration": -144,
    "start_time": "2021-09-23T08:46:37.343Z"
   },
   {
    "duration": -160,
    "start_time": "2021-09-23T08:46:37.360Z"
   },
   {
    "duration": -177,
    "start_time": "2021-09-23T08:46:37.378Z"
   },
   {
    "duration": -200,
    "start_time": "2021-09-23T08:46:37.403Z"
   },
   {
    "duration": -203,
    "start_time": "2021-09-23T08:46:37.407Z"
   },
   {
    "duration": -207,
    "start_time": "2021-09-23T08:46:37.412Z"
   },
   {
    "duration": -219,
    "start_time": "2021-09-23T08:46:37.425Z"
   },
   {
    "duration": -226,
    "start_time": "2021-09-23T08:46:37.433Z"
   },
   {
    "duration": -238,
    "start_time": "2021-09-23T08:46:37.446Z"
   },
   {
    "duration": -248,
    "start_time": "2021-09-23T08:46:37.457Z"
   },
   {
    "duration": -250,
    "start_time": "2021-09-23T08:46:37.460Z"
   },
   {
    "duration": -254,
    "start_time": "2021-09-23T08:46:37.465Z"
   },
   {
    "duration": -263,
    "start_time": "2021-09-23T08:46:37.475Z"
   },
   {
    "duration": -267,
    "start_time": "2021-09-23T08:46:37.480Z"
   },
   {
    "duration": -271,
    "start_time": "2021-09-23T08:46:37.485Z"
   },
   {
    "duration": -279,
    "start_time": "2021-09-23T08:46:37.494Z"
   },
   {
    "duration": -282,
    "start_time": "2021-09-23T08:46:37.498Z"
   },
   {
    "duration": -291,
    "start_time": "2021-09-23T08:46:37.508Z"
   },
   {
    "duration": -294,
    "start_time": "2021-09-23T08:46:37.512Z"
   },
   {
    "duration": -297,
    "start_time": "2021-09-23T08:46:37.516Z"
   },
   {
    "duration": -300,
    "start_time": "2021-09-23T08:46:37.520Z"
   },
   {
    "duration": -309,
    "start_time": "2021-09-23T08:46:37.530Z"
   },
   {
    "duration": -312,
    "start_time": "2021-09-23T08:46:37.534Z"
   },
   {
    "duration": -322,
    "start_time": "2021-09-23T08:46:37.545Z"
   },
   {
    "duration": -325,
    "start_time": "2021-09-23T08:46:37.549Z"
   },
   {
    "duration": -330,
    "start_time": "2021-09-23T08:46:37.555Z"
   },
   {
    "duration": -337,
    "start_time": "2021-09-23T08:46:37.563Z"
   },
   {
    "duration": -315,
    "start_time": "2021-09-23T08:46:37.568Z"
   },
   {
    "duration": -318,
    "start_time": "2021-09-23T08:46:37.572Z"
   },
   {
    "duration": -322,
    "start_time": "2021-09-23T08:46:37.576Z"
   },
   {
    "duration": -321,
    "start_time": "2021-09-23T08:46:37.580Z"
   },
   {
    "duration": -324,
    "start_time": "2021-09-23T08:46:37.584Z"
   },
   {
    "duration": -325,
    "start_time": "2021-09-23T08:46:37.587Z"
   },
   {
    "duration": -330,
    "start_time": "2021-09-23T08:46:37.592Z"
   },
   {
    "duration": -333,
    "start_time": "2021-09-23T08:46:37.596Z"
   },
   {
    "duration": -334,
    "start_time": "2021-09-23T08:46:37.600Z"
   },
   {
    "duration": -336,
    "start_time": "2021-09-23T08:46:37.604Z"
   },
   {
    "duration": -339,
    "start_time": "2021-09-23T08:46:37.608Z"
   },
   {
    "duration": -341,
    "start_time": "2021-09-23T08:46:37.612Z"
   },
   {
    "duration": -345,
    "start_time": "2021-09-23T08:46:37.617Z"
   },
   {
    "duration": -347,
    "start_time": "2021-09-23T08:46:37.621Z"
   },
   {
    "duration": -350,
    "start_time": "2021-09-23T08:46:37.625Z"
   },
   {
    "duration": -351,
    "start_time": "2021-09-23T08:46:37.628Z"
   },
   {
    "duration": -354,
    "start_time": "2021-09-23T08:46:37.632Z"
   },
   {
    "duration": -356,
    "start_time": "2021-09-23T08:46:37.636Z"
   },
   {
    "duration": -359,
    "start_time": "2021-09-23T08:46:37.640Z"
   },
   {
    "duration": -361,
    "start_time": "2021-09-23T08:46:37.644Z"
   },
   {
    "duration": 392,
    "start_time": "2021-09-23T08:46:54.247Z"
   },
   {
    "duration": 287,
    "start_time": "2021-09-23T08:48:26.241Z"
   },
   {
    "duration": 453,
    "start_time": "2021-09-23T08:48:32.351Z"
   },
   {
    "duration": 460,
    "start_time": "2021-09-23T08:49:18.464Z"
   },
   {
    "duration": 321,
    "start_time": "2021-09-23T08:51:12.004Z"
   },
   {
    "duration": 147,
    "start_time": "2021-09-23T08:57:05.547Z"
   },
   {
    "duration": 38,
    "start_time": "2021-09-23T08:57:59.743Z"
   },
   {
    "duration": 43,
    "start_time": "2021-09-23T08:58:00.431Z"
   },
   {
    "duration": 32,
    "start_time": "2021-09-23T08:58:02.824Z"
   },
   {
    "duration": 255,
    "start_time": "2021-09-23T08:58:04.819Z"
   },
   {
    "duration": 84,
    "start_time": "2021-09-23T08:58:08.472Z"
   },
   {
    "duration": 296,
    "start_time": "2021-09-23T08:58:09.015Z"
   },
   {
    "duration": 81,
    "start_time": "2021-09-23T08:58:09.403Z"
   },
   {
    "duration": 17,
    "start_time": "2021-09-23T08:58:09.590Z"
   },
   {
    "duration": 214,
    "start_time": "2021-09-23T08:58:10.031Z"
   },
   {
    "duration": 46,
    "start_time": "2021-09-23T08:58:11.071Z"
   },
   {
    "duration": 1106,
    "start_time": "2021-09-23T08:58:11.703Z"
   },
   {
    "duration": 180,
    "start_time": "2021-09-23T08:58:34.283Z"
   },
   {
    "duration": 17,
    "start_time": "2021-09-23T08:58:34.567Z"
   },
   {
    "duration": 16,
    "start_time": "2021-09-23T08:58:34.748Z"
   },
   {
    "duration": 8,
    "start_time": "2021-09-23T08:58:34.907Z"
   },
   {
    "duration": 494,
    "start_time": "2021-09-23T08:58:35.927Z"
   },
   {
    "duration": 448,
    "start_time": "2021-09-23T08:58:50.320Z"
   },
   {
    "duration": 40,
    "start_time": "2021-09-23T08:58:52.128Z"
   },
   {
    "duration": 25,
    "start_time": "2021-09-23T08:58:52.446Z"
   },
   {
    "duration": 15,
    "start_time": "2021-09-23T08:58:53.626Z"
   },
   {
    "duration": 25,
    "start_time": "2021-09-23T08:58:54.007Z"
   },
   {
    "duration": 19,
    "start_time": "2021-09-23T08:58:54.419Z"
   },
   {
    "duration": 12,
    "start_time": "2021-09-23T08:58:54.983Z"
   },
   {
    "duration": 12,
    "start_time": "2021-09-23T08:58:55.239Z"
   },
   {
    "duration": 17,
    "start_time": "2021-09-23T08:58:55.467Z"
   },
   {
    "duration": 36,
    "start_time": "2021-09-23T08:58:56.055Z"
   },
   {
    "duration": 798,
    "start_time": "2021-09-23T08:58:56.298Z"
   },
   {
    "duration": 7,
    "start_time": "2021-09-23T08:58:57.347Z"
   },
   {
    "duration": 4,
    "start_time": "2021-09-23T08:58:58.223Z"
   },
   {
    "duration": 5,
    "start_time": "2021-09-23T08:59:18.719Z"
   },
   {
    "duration": 230,
    "start_time": "2021-09-23T08:59:21.091Z"
   },
   {
    "duration": 836,
    "start_time": "2021-09-23T09:18:25.762Z"
   },
   {
    "duration": 265,
    "start_time": "2021-09-23T09:18:26.802Z"
   },
   {
    "duration": 7552,
    "start_time": "2021-09-23T09:30:15.042Z"
   },
   {
    "duration": 301,
    "start_time": "2021-09-23T09:30:23.987Z"
   },
   {
    "duration": 5,
    "start_time": "2021-09-23T09:30:28.038Z"
   },
   {
    "duration": 2,
    "start_time": "2021-09-23T09:31:19.219Z"
   },
   {
    "duration": 4,
    "start_time": "2021-09-23T09:31:21.302Z"
   },
   {
    "duration": 299,
    "start_time": "2021-09-23T09:35:10.430Z"
   },
   {
    "duration": 11,
    "start_time": "2021-09-23T09:35:28.310Z"
   },
   {
    "duration": 7,
    "start_time": "2021-09-23T09:36:00.119Z"
   },
   {
    "duration": 7475,
    "start_time": "2021-09-23T09:37:00.550Z"
   },
   {
    "duration": -62,
    "start_time": "2021-09-23T09:37:08.090Z"
   },
   {
    "duration": 8,
    "start_time": "2021-09-23T09:37:30.014Z"
   },
   {
    "duration": 11,
    "start_time": "2021-09-23T09:37:40.934Z"
   },
   {
    "duration": 3,
    "start_time": "2021-09-23T09:39:55.878Z"
   },
   {
    "duration": 13,
    "start_time": "2021-09-23T09:39:57.558Z"
   },
   {
    "duration": 13,
    "start_time": "2021-09-23T09:39:59.855Z"
   },
   {
    "duration": 6,
    "start_time": "2021-09-23T09:40:43.926Z"
   },
   {
    "duration": 4,
    "start_time": "2021-09-23T09:40:57.407Z"
   },
   {
    "duration": 309,
    "start_time": "2021-09-23T09:40:57.811Z"
   },
   {
    "duration": 254,
    "start_time": "2021-09-23T09:41:07.234Z"
   },
   {
    "duration": 1267,
    "start_time": "2021-09-23T09:41:21.844Z"
   },
   {
    "duration": 719,
    "start_time": "2021-09-23T09:41:23.113Z"
   },
   {
    "duration": 12,
    "start_time": "2021-09-23T09:41:23.835Z"
   },
   {
    "duration": 77,
    "start_time": "2021-09-23T09:41:23.849Z"
   },
   {
    "duration": 308,
    "start_time": "2021-09-23T09:41:23.928Z"
   },
   {
    "duration": 251,
    "start_time": "2021-09-23T09:41:24.238Z"
   },
   {
    "duration": 3,
    "start_time": "2021-09-23T09:41:24.491Z"
   },
   {
    "duration": 56,
    "start_time": "2021-09-23T09:41:24.497Z"
   },
   {
    "duration": 135,
    "start_time": "2021-09-23T09:41:24.556Z"
   },
   {
    "duration": 85,
    "start_time": "2021-09-23T09:41:24.693Z"
   },
   {
    "duration": 9,
    "start_time": "2021-09-23T09:41:24.780Z"
   },
   {
    "duration": 76,
    "start_time": "2021-09-23T09:41:24.791Z"
   },
   {
    "duration": 13,
    "start_time": "2021-09-23T09:41:24.870Z"
   },
   {
    "duration": 72,
    "start_time": "2021-09-23T09:41:24.885Z"
   },
   {
    "duration": 18,
    "start_time": "2021-09-23T09:41:24.959Z"
   },
   {
    "duration": 15,
    "start_time": "2021-09-23T09:41:24.979Z"
   },
   {
    "duration": 12,
    "start_time": "2021-09-23T09:41:24.996Z"
   },
   {
    "duration": 6,
    "start_time": "2021-09-23T09:41:25.010Z"
   },
   {
    "duration": 34,
    "start_time": "2021-09-23T09:41:25.018Z"
   },
   {
    "duration": 11,
    "start_time": "2021-09-23T09:41:25.057Z"
   },
   {
    "duration": 15,
    "start_time": "2021-09-23T09:41:25.073Z"
   },
   {
    "duration": 11,
    "start_time": "2021-09-23T09:41:25.090Z"
   },
   {
    "duration": 26,
    "start_time": "2021-09-23T09:41:25.105Z"
   },
   {
    "duration": 19,
    "start_time": "2021-09-23T09:41:25.134Z"
   },
   {
    "duration": 9,
    "start_time": "2021-09-23T09:41:25.155Z"
   },
   {
    "duration": 18,
    "start_time": "2021-09-23T09:41:25.166Z"
   },
   {
    "duration": 20,
    "start_time": "2021-09-23T09:41:25.185Z"
   },
   {
    "duration": 23,
    "start_time": "2021-09-23T09:41:25.206Z"
   },
   {
    "duration": 17,
    "start_time": "2021-09-23T09:41:25.231Z"
   },
   {
    "duration": 431,
    "start_time": "2021-09-23T09:41:25.250Z"
   },
   {
    "duration": 337,
    "start_time": "2021-09-23T09:41:25.683Z"
   },
   {
    "duration": 9,
    "start_time": "2021-09-23T09:41:26.022Z"
   },
   {
    "duration": 517,
    "start_time": "2021-09-23T09:41:26.033Z"
   },
   {
    "duration": 5,
    "start_time": "2021-09-23T09:41:26.553Z"
   },
   {
    "duration": 344,
    "start_time": "2021-09-23T09:41:26.563Z"
   },
   {
    "duration": 3,
    "start_time": "2021-09-23T09:41:26.909Z"
   },
   {
    "duration": 331,
    "start_time": "2021-09-23T09:41:26.914Z"
   },
   {
    "duration": 4,
    "start_time": "2021-09-23T09:41:27.248Z"
   },
   {
    "duration": 475,
    "start_time": "2021-09-23T09:41:27.255Z"
   },
   {
    "duration": 121,
    "start_time": "2021-09-23T09:41:27.732Z"
   },
   {
    "duration": 388,
    "start_time": "2021-09-23T09:41:27.855Z"
   },
   {
    "duration": 42,
    "start_time": "2021-09-23T09:41:28.249Z"
   },
   {
    "duration": 65,
    "start_time": "2021-09-23T09:41:28.293Z"
   },
   {
    "duration": 35,
    "start_time": "2021-09-23T09:41:28.360Z"
   },
   {
    "duration": 379,
    "start_time": "2021-09-23T09:41:28.397Z"
   },
   {
    "duration": 92,
    "start_time": "2021-09-23T09:41:28.778Z"
   },
   {
    "duration": 296,
    "start_time": "2021-09-23T09:41:28.872Z"
   },
   {
    "duration": 90,
    "start_time": "2021-09-23T09:41:29.170Z"
   },
   {
    "duration": 14,
    "start_time": "2021-09-23T09:41:29.262Z"
   },
   {
    "duration": 277,
    "start_time": "2021-09-23T09:41:29.278Z"
   },
   {
    "duration": 49,
    "start_time": "2021-09-23T09:41:29.557Z"
   },
   {
    "duration": 1107,
    "start_time": "2021-09-23T09:41:29.608Z"
   },
   {
    "duration": 199,
    "start_time": "2021-09-23T09:41:30.717Z"
   },
   {
    "duration": 17,
    "start_time": "2021-09-23T09:41:30.918Z"
   },
   {
    "duration": 22,
    "start_time": "2021-09-23T09:41:30.937Z"
   },
   {
    "duration": 7,
    "start_time": "2021-09-23T09:41:30.964Z"
   },
   {
    "duration": 359,
    "start_time": "2021-09-23T09:41:30.973Z"
   },
   {
    "duration": 24,
    "start_time": "2021-09-23T09:41:31.334Z"
   },
   {
    "duration": 27,
    "start_time": "2021-09-23T09:41:31.360Z"
   },
   {
    "duration": 20,
    "start_time": "2021-09-23T09:41:31.389Z"
   },
   {
    "duration": 62,
    "start_time": "2021-09-23T09:41:31.411Z"
   },
   {
    "duration": 27,
    "start_time": "2021-09-23T09:41:31.475Z"
   },
   {
    "duration": 14,
    "start_time": "2021-09-23T09:41:31.504Z"
   },
   {
    "duration": 43,
    "start_time": "2021-09-23T09:41:31.520Z"
   },
   {
    "duration": 22,
    "start_time": "2021-09-23T09:41:31.567Z"
   },
   {
    "duration": 60,
    "start_time": "2021-09-23T09:41:31.592Z"
   },
   {
    "duration": 1066,
    "start_time": "2021-09-23T09:41:31.655Z"
   },
   {
    "duration": 3,
    "start_time": "2021-09-23T09:41:32.728Z"
   },
   {
    "duration": 7984,
    "start_time": "2021-09-23T09:41:32.734Z"
   },
   {
    "duration": -48,
    "start_time": "2021-09-23T09:41:40.769Z"
   },
   {
    "duration": -63,
    "start_time": "2021-09-23T09:41:40.785Z"
   },
   {
    "duration": -70,
    "start_time": "2021-09-23T09:41:40.794Z"
   },
   {
    "duration": -75,
    "start_time": "2021-09-23T09:41:40.800Z"
   },
   {
    "duration": -109,
    "start_time": "2021-09-23T09:41:40.835Z"
   },
   {
    "duration": -132,
    "start_time": "2021-09-23T09:41:40.860Z"
   },
   {
    "duration": -168,
    "start_time": "2021-09-23T09:41:40.897Z"
   },
   {
    "duration": -183,
    "start_time": "2021-09-23T09:41:40.913Z"
   },
   {
    "duration": -198,
    "start_time": "2021-09-23T09:41:40.929Z"
   },
   {
    "duration": -215,
    "start_time": "2021-09-23T09:41:40.948Z"
   },
   {
    "duration": -229,
    "start_time": "2021-09-23T09:41:40.963Z"
   },
   {
    "duration": -255,
    "start_time": "2021-09-23T09:41:40.990Z"
   },
   {
    "duration": -273,
    "start_time": "2021-09-23T09:41:41.009Z"
   },
   {
    "duration": -308,
    "start_time": "2021-09-23T09:41:41.045Z"
   },
   {
    "duration": -340,
    "start_time": "2021-09-23T09:41:41.078Z"
   },
   {
    "duration": -376,
    "start_time": "2021-09-23T09:41:41.115Z"
   },
   {
    "duration": -388,
    "start_time": "2021-09-23T09:41:41.128Z"
   },
   {
    "duration": -411,
    "start_time": "2021-09-23T09:41:41.152Z"
   },
   {
    "duration": -427,
    "start_time": "2021-09-23T09:41:41.169Z"
   },
   {
    "duration": -439,
    "start_time": "2021-09-23T09:41:41.182Z"
   },
   {
    "duration": -458,
    "start_time": "2021-09-23T09:41:41.202Z"
   },
   {
    "duration": -502,
    "start_time": "2021-09-23T09:41:41.246Z"
   },
   {
    "duration": -509,
    "start_time": "2021-09-23T09:41:41.254Z"
   },
   {
    "duration": -525,
    "start_time": "2021-09-23T09:41:41.271Z"
   },
   {
    "duration": -535,
    "start_time": "2021-09-23T09:41:41.282Z"
   },
   {
    "duration": -544,
    "start_time": "2021-09-23T09:41:41.292Z"
   },
   {
    "duration": -554,
    "start_time": "2021-09-23T09:41:41.303Z"
   },
   {
    "duration": -557,
    "start_time": "2021-09-23T09:41:41.308Z"
   },
   {
    "duration": -570,
    "start_time": "2021-09-23T09:41:41.322Z"
   },
   {
    "duration": 795,
    "start_time": "2021-09-23T09:49:28.825Z"
   },
   {
    "duration": 3,
    "start_time": "2021-09-23T09:50:50.354Z"
   },
   {
    "duration": 28,
    "start_time": "2021-09-23T10:07:44.934Z"
   },
   {
    "duration": 857,
    "start_time": "2021-09-23T12:12:58.890Z"
   },
   {
    "duration": 822,
    "start_time": "2021-09-23T12:13:06.850Z"
   },
   {
    "duration": 886,
    "start_time": "2021-09-23T12:13:13.735Z"
   },
   {
    "duration": 817,
    "start_time": "2021-09-23T12:13:22.051Z"
   },
   {
    "duration": 750,
    "start_time": "2021-09-23T12:13:36.490Z"
   },
   {
    "duration": 7,
    "start_time": "2021-09-23T12:15:45.174Z"
   },
   {
    "duration": 5,
    "start_time": "2021-09-23T12:15:56.817Z"
   },
   {
    "duration": 5,
    "start_time": "2021-09-23T12:18:02.482Z"
   },
   {
    "duration": 18,
    "start_time": "2021-09-23T12:18:34.754Z"
   },
   {
    "duration": 4,
    "start_time": "2021-09-23T12:20:28.434Z"
   },
   {
    "duration": 6,
    "start_time": "2021-09-23T12:20:31.578Z"
   },
   {
    "duration": 11,
    "start_time": "2021-09-23T12:34:38.385Z"
   },
   {
    "duration": 238,
    "start_time": "2021-09-23T12:35:09.034Z"
   },
   {
    "duration": 245,
    "start_time": "2021-09-23T12:35:18.662Z"
   },
   {
    "duration": 267,
    "start_time": "2021-09-23T12:35:25.166Z"
   },
   {
    "duration": 315,
    "start_time": "2021-09-23T12:36:03.206Z"
   },
   {
    "duration": 258,
    "start_time": "2021-09-23T12:36:27.429Z"
   },
   {
    "duration": 17,
    "start_time": "2021-09-23T12:36:34.458Z"
   },
   {
    "duration": 25,
    "start_time": "2021-09-23T12:36:34.665Z"
   },
   {
    "duration": 21,
    "start_time": "2021-09-23T12:36:34.814Z"
   },
   {
    "duration": 54,
    "start_time": "2021-09-23T12:36:35.083Z"
   },
   {
    "duration": 13,
    "start_time": "2021-09-23T12:36:35.713Z"
   },
   {
    "duration": 18,
    "start_time": "2021-09-23T12:36:35.885Z"
   },
   {
    "duration": 26,
    "start_time": "2021-09-23T12:36:36.062Z"
   },
   {
    "duration": 806,
    "start_time": "2021-09-23T12:36:36.234Z"
   },
   {
    "duration": 270,
    "start_time": "2021-09-23T12:37:11.094Z"
   },
   {
    "duration": 259,
    "start_time": "2021-09-23T12:38:15.846Z"
   },
   {
    "duration": 18,
    "start_time": "2021-09-23T12:39:52.573Z"
   },
   {
    "duration": 25,
    "start_time": "2021-09-23T12:39:52.741Z"
   },
   {
    "duration": 16,
    "start_time": "2021-09-23T12:39:52.882Z"
   },
   {
    "duration": 26,
    "start_time": "2021-09-23T12:39:53.052Z"
   },
   {
    "duration": 19,
    "start_time": "2021-09-23T12:39:53.198Z"
   },
   {
    "duration": 13,
    "start_time": "2021-09-23T12:39:53.297Z"
   },
   {
    "duration": 15,
    "start_time": "2021-09-23T12:39:53.461Z"
   },
   {
    "duration": 16,
    "start_time": "2021-09-23T12:39:53.602Z"
   },
   {
    "duration": 31,
    "start_time": "2021-09-23T12:39:53.722Z"
   },
   {
    "duration": 1074,
    "start_time": "2021-09-23T12:39:53.805Z"
   },
   {
    "duration": 261,
    "start_time": "2021-09-23T12:39:54.881Z"
   },
   {
    "duration": 17,
    "start_time": "2021-09-23T12:40:22.241Z"
   },
   {
    "duration": 261,
    "start_time": "2021-09-23T12:41:12.413Z"
   },
   {
    "duration": 261,
    "start_time": "2021-09-23T12:41:30.802Z"
   },
   {
    "duration": 246,
    "start_time": "2021-09-23T12:41:37.738Z"
   },
   {
    "duration": 301,
    "start_time": "2021-09-23T12:42:38.126Z"
   },
   {
    "duration": 1226,
    "start_time": "2021-09-23T12:42:56.393Z"
   },
   {
    "duration": 1281,
    "start_time": "2021-09-23T12:42:57.621Z"
   },
   {
    "duration": 11,
    "start_time": "2021-09-23T12:42:58.904Z"
   },
   {
    "duration": 110,
    "start_time": "2021-09-23T12:42:58.916Z"
   },
   {
    "duration": 300,
    "start_time": "2021-09-23T12:42:59.028Z"
   },
   {
    "duration": 204,
    "start_time": "2021-09-23T12:42:59.330Z"
   },
   {
    "duration": 4,
    "start_time": "2021-09-23T12:42:59.536Z"
   },
   {
    "duration": 5,
    "start_time": "2021-09-23T12:42:59.553Z"
   },
   {
    "duration": 112,
    "start_time": "2021-09-23T12:42:59.562Z"
   },
   {
    "duration": 32,
    "start_time": "2021-09-23T12:42:59.676Z"
   },
   {
    "duration": 9,
    "start_time": "2021-09-23T12:42:59.710Z"
   },
   {
    "duration": 46,
    "start_time": "2021-09-23T12:42:59.721Z"
   },
   {
    "duration": 11,
    "start_time": "2021-09-23T12:42:59.769Z"
   },
   {
    "duration": 10,
    "start_time": "2021-09-23T12:42:59.781Z"
   },
   {
    "duration": 20,
    "start_time": "2021-09-23T12:42:59.792Z"
   },
   {
    "duration": 24,
    "start_time": "2021-09-23T12:42:59.814Z"
   },
   {
    "duration": 28,
    "start_time": "2021-09-23T12:42:59.839Z"
   },
   {
    "duration": 4,
    "start_time": "2021-09-23T12:42:59.869Z"
   },
   {
    "duration": 15,
    "start_time": "2021-09-23T12:42:59.875Z"
   },
   {
    "duration": 30,
    "start_time": "2021-09-23T12:42:59.892Z"
   },
   {
    "duration": 7,
    "start_time": "2021-09-23T12:42:59.924Z"
   },
   {
    "duration": 19,
    "start_time": "2021-09-23T12:42:59.933Z"
   },
   {
    "duration": 11,
    "start_time": "2021-09-23T12:42:59.957Z"
   },
   {
    "duration": 11,
    "start_time": "2021-09-23T12:42:59.971Z"
   },
   {
    "duration": 24,
    "start_time": "2021-09-23T12:42:59.983Z"
   },
   {
    "duration": 16,
    "start_time": "2021-09-23T12:43:00.009Z"
   },
   {
    "duration": 18,
    "start_time": "2021-09-23T12:43:00.027Z"
   },
   {
    "duration": 20,
    "start_time": "2021-09-23T12:43:00.048Z"
   },
   {
    "duration": 20,
    "start_time": "2021-09-23T12:43:00.070Z"
   },
   {
    "duration": 450,
    "start_time": "2021-09-23T12:43:00.092Z"
   },
   {
    "duration": 352,
    "start_time": "2021-09-23T12:43:00.549Z"
   },
   {
    "duration": 10,
    "start_time": "2021-09-23T12:43:00.903Z"
   },
   {
    "duration": 635,
    "start_time": "2021-09-23T12:43:00.915Z"
   },
   {
    "duration": 9,
    "start_time": "2021-09-23T12:43:01.552Z"
   },
   {
    "duration": 374,
    "start_time": "2021-09-23T12:43:01.566Z"
   },
   {
    "duration": 10,
    "start_time": "2021-09-23T12:43:01.942Z"
   },
   {
    "duration": 486,
    "start_time": "2021-09-23T12:43:01.954Z"
   },
   {
    "duration": 4,
    "start_time": "2021-09-23T12:43:02.450Z"
   },
   {
    "duration": 493,
    "start_time": "2021-09-23T12:43:02.456Z"
   },
   {
    "duration": 134,
    "start_time": "2021-09-23T12:43:02.951Z"
   },
   {
    "duration": 326,
    "start_time": "2021-09-23T12:43:03.087Z"
   },
   {
    "duration": 42,
    "start_time": "2021-09-23T12:43:03.415Z"
   },
   {
    "duration": 44,
    "start_time": "2021-09-23T12:43:03.459Z"
   },
   {
    "duration": 51,
    "start_time": "2021-09-23T12:43:03.505Z"
   },
   {
    "duration": 263,
    "start_time": "2021-09-23T12:43:03.558Z"
   },
   {
    "duration": 98,
    "start_time": "2021-09-23T12:43:03.823Z"
   },
   {
    "duration": 325,
    "start_time": "2021-09-23T12:43:03.923Z"
   },
   {
    "duration": 85,
    "start_time": "2021-09-23T12:43:04.252Z"
   },
   {
    "duration": 17,
    "start_time": "2021-09-23T12:43:04.348Z"
   },
   {
    "duration": 261,
    "start_time": "2021-09-23T12:43:04.367Z"
   },
   {
    "duration": 42,
    "start_time": "2021-09-23T12:43:04.629Z"
   },
   {
    "duration": 817,
    "start_time": "2021-09-23T12:43:04.673Z"
   },
   {
    "duration": 163,
    "start_time": "2021-09-23T12:43:05.492Z"
   },
   {
    "duration": 13,
    "start_time": "2021-09-23T12:43:05.657Z"
   },
   {
    "duration": 13,
    "start_time": "2021-09-23T12:43:05.672Z"
   },
   {
    "duration": 11,
    "start_time": "2021-09-23T12:43:05.687Z"
   },
   {
    "duration": 460,
    "start_time": "2021-09-23T12:43:05.700Z"
   },
   {
    "duration": 20,
    "start_time": "2021-09-23T12:43:06.162Z"
   },
   {
    "duration": 25,
    "start_time": "2021-09-23T12:43:06.184Z"
   },
   {
    "duration": 14,
    "start_time": "2021-09-23T12:43:06.211Z"
   },
   {
    "duration": 50,
    "start_time": "2021-09-23T12:43:06.226Z"
   },
   {
    "duration": 20,
    "start_time": "2021-09-23T12:43:06.278Z"
   },
   {
    "duration": 12,
    "start_time": "2021-09-23T12:43:06.300Z"
   },
   {
    "duration": 40,
    "start_time": "2021-09-23T12:43:06.314Z"
   },
   {
    "duration": 21,
    "start_time": "2021-09-23T12:43:06.358Z"
   },
   {
    "duration": 25,
    "start_time": "2021-09-23T12:43:06.382Z"
   },
   {
    "duration": 1101,
    "start_time": "2021-09-23T12:43:06.409Z"
   },
   {
    "duration": 14,
    "start_time": "2021-09-23T12:43:07.518Z"
   },
   {
    "duration": 8,
    "start_time": "2021-09-23T12:43:07.551Z"
   },
   {
    "duration": 348,
    "start_time": "2021-09-23T12:43:07.563Z"
   },
   {
    "duration": -55,
    "start_time": "2021-09-23T12:43:07.967Z"
   },
   {
    "duration": -73,
    "start_time": "2021-09-23T12:43:07.987Z"
   },
   {
    "duration": -89,
    "start_time": "2021-09-23T12:43:08.004Z"
   },
   {
    "duration": -110,
    "start_time": "2021-09-23T12:43:08.026Z"
   },
   {
    "duration": -127,
    "start_time": "2021-09-23T12:43:08.044Z"
   },
   {
    "duration": -159,
    "start_time": "2021-09-23T12:43:08.077Z"
   },
   {
    "duration": -178,
    "start_time": "2021-09-23T12:43:08.098Z"
   },
   {
    "duration": -195,
    "start_time": "2021-09-23T12:43:08.115Z"
   },
   {
    "duration": -204,
    "start_time": "2021-09-23T12:43:08.125Z"
   },
   {
    "duration": -209,
    "start_time": "2021-09-23T12:43:08.131Z"
   },
   {
    "duration": -222,
    "start_time": "2021-09-23T12:43:08.145Z"
   },
   {
    "duration": -232,
    "start_time": "2021-09-23T12:43:08.156Z"
   },
   {
    "duration": -240,
    "start_time": "2021-09-23T12:43:08.165Z"
   },
   {
    "duration": -258,
    "start_time": "2021-09-23T12:43:08.183Z"
   },
   {
    "duration": -275,
    "start_time": "2021-09-23T12:43:08.201Z"
   },
   {
    "duration": -292,
    "start_time": "2021-09-23T12:43:08.219Z"
   },
   {
    "duration": -312,
    "start_time": "2021-09-23T12:43:08.240Z"
   },
   {
    "duration": -325,
    "start_time": "2021-09-23T12:43:08.254Z"
   },
   {
    "duration": -341,
    "start_time": "2021-09-23T12:43:08.271Z"
   },
   {
    "duration": -357,
    "start_time": "2021-09-23T12:43:08.288Z"
   },
   {
    "duration": -362,
    "start_time": "2021-09-23T12:43:08.294Z"
   },
   {
    "duration": -380,
    "start_time": "2021-09-23T12:43:08.313Z"
   },
   {
    "duration": -394,
    "start_time": "2021-09-23T12:43:08.327Z"
   },
   {
    "duration": -413,
    "start_time": "2021-09-23T12:43:08.347Z"
   },
   {
    "duration": -429,
    "start_time": "2021-09-23T12:43:08.364Z"
   },
   {
    "duration": -442,
    "start_time": "2021-09-23T12:43:08.378Z"
   },
   {
    "duration": -458,
    "start_time": "2021-09-23T12:43:08.395Z"
   },
   {
    "duration": -462,
    "start_time": "2021-09-23T12:43:08.400Z"
   },
   {
    "duration": 253,
    "start_time": "2021-09-23T12:44:22.095Z"
   },
   {
    "duration": 258,
    "start_time": "2021-09-23T12:44:53.335Z"
   },
   {
    "duration": 3,
    "start_time": "2021-09-23T12:44:54.047Z"
   },
   {
    "duration": 270,
    "start_time": "2021-09-23T12:44:57.707Z"
   },
   {
    "duration": 16,
    "start_time": "2021-09-23T12:45:13.418Z"
   },
   {
    "duration": 251,
    "start_time": "2021-09-23T12:45:52.447Z"
   },
   {
    "duration": 6,
    "start_time": "2021-09-23T12:46:04.351Z"
   },
   {
    "duration": 366,
    "start_time": "2021-09-23T12:46:08.667Z"
   },
   {
    "duration": 2,
    "start_time": "2021-09-23T12:46:09.931Z"
   },
   {
    "duration": 18,
    "start_time": "2021-09-23T12:46:14.091Z"
   },
   {
    "duration": 6,
    "start_time": "2021-09-23T12:46:46.578Z"
   },
   {
    "duration": 7,
    "start_time": "2021-09-23T12:47:07.769Z"
   },
   {
    "duration": 7,
    "start_time": "2021-09-23T12:47:09.907Z"
   },
   {
    "duration": 120,
    "start_time": "2021-09-23T12:49:39.987Z"
   },
   {
    "duration": 4,
    "start_time": "2021-09-23T12:49:42.451Z"
   },
   {
    "duration": 5,
    "start_time": "2021-09-23T12:49:58.010Z"
   },
   {
    "duration": 442,
    "start_time": "2021-09-23T12:51:26.822Z"
   },
   {
    "duration": 1128,
    "start_time": "2021-09-23T12:51:51.060Z"
   },
   {
    "duration": 26,
    "start_time": "2021-09-23T12:52:03.670Z"
   },
   {
    "duration": 20,
    "start_time": "2021-09-23T12:52:06.875Z"
   },
   {
    "duration": 21,
    "start_time": "2021-09-23T12:52:11.475Z"
   },
   {
    "duration": 33,
    "start_time": "2021-09-23T12:52:13.575Z"
   },
   {
    "duration": 28,
    "start_time": "2021-09-23T12:52:15.087Z"
   },
   {
    "duration": 13,
    "start_time": "2021-09-23T12:52:16.735Z"
   },
   {
    "duration": 16,
    "start_time": "2021-09-23T12:52:18.154Z"
   },
   {
    "duration": 21,
    "start_time": "2021-09-23T12:52:19.687Z"
   },
   {
    "duration": 31,
    "start_time": "2021-09-23T12:52:22.319Z"
   },
   {
    "duration": 805,
    "start_time": "2021-09-23T12:52:24.082Z"
   },
   {
    "duration": 262,
    "start_time": "2021-09-23T12:52:27.263Z"
   },
   {
    "duration": 11,
    "start_time": "2021-09-23T12:52:41.319Z"
   },
   {
    "duration": 273,
    "start_time": "2021-09-23T12:53:13.050Z"
   },
   {
    "duration": 7,
    "start_time": "2021-09-23T12:53:30.483Z"
   },
   {
    "duration": 11,
    "start_time": "2021-09-23T12:53:35.031Z"
   },
   {
    "duration": 293,
    "start_time": "2021-09-23T12:54:37.915Z"
   },
   {
    "duration": 13,
    "start_time": "2021-09-23T12:55:01.151Z"
   },
   {
    "duration": 6243,
    "start_time": "2021-09-23T12:56:02.356Z"
   },
   {
    "duration": 14,
    "start_time": "2021-09-23T12:56:09.607Z"
   },
   {
    "duration": 5,
    "start_time": "2021-09-23T12:56:29.823Z"
   },
   {
    "duration": 7,
    "start_time": "2021-09-23T12:57:14.242Z"
   },
   {
    "duration": 7,
    "start_time": "2021-09-23T12:58:39.711Z"
   },
   {
    "duration": 82,
    "start_time": "2021-09-23T12:58:58.946Z"
   },
   {
    "duration": 92,
    "start_time": "2021-09-23T12:59:15.743Z"
   },
   {
    "duration": 7,
    "start_time": "2021-09-23T12:59:24.494Z"
   },
   {
    "duration": 6,
    "start_time": "2021-09-23T12:59:39.328Z"
   },
   {
    "duration": 91,
    "start_time": "2021-09-23T12:59:47.297Z"
   },
   {
    "duration": 7,
    "start_time": "2021-09-23T13:00:04.883Z"
   },
   {
    "duration": 80,
    "start_time": "2021-09-23T13:00:14.766Z"
   },
   {
    "duration": 93,
    "start_time": "2021-09-23T13:00:18.122Z"
   },
   {
    "duration": 6,
    "start_time": "2021-09-23T13:00:30.531Z"
   },
   {
    "duration": 262,
    "start_time": "2021-09-23T13:00:41.038Z"
   },
   {
    "duration": 5,
    "start_time": "2021-09-23T13:01:07.203Z"
   },
   {
    "duration": 6,
    "start_time": "2021-09-23T13:01:22.439Z"
   },
   {
    "duration": 6,
    "start_time": "2021-09-23T13:01:57.610Z"
   },
   {
    "duration": 8,
    "start_time": "2021-09-23T13:02:05.855Z"
   },
   {
    "duration": 5,
    "start_time": "2021-09-23T13:03:32.479Z"
   },
   {
    "duration": 252,
    "start_time": "2021-09-23T13:06:21.695Z"
   },
   {
    "duration": 5,
    "start_time": "2021-09-23T13:06:52.402Z"
   },
   {
    "duration": 926,
    "start_time": "2021-09-23T13:07:00.107Z"
   },
   {
    "duration": 8,
    "start_time": "2021-09-23T13:07:05.243Z"
   },
   {
    "duration": 254,
    "start_time": "2021-09-23T13:07:11.298Z"
   },
   {
    "duration": 14,
    "start_time": "2021-09-23T13:08:04.810Z"
   },
   {
    "duration": 234,
    "start_time": "2021-09-23T13:09:12.598Z"
   },
   {
    "duration": 20,
    "start_time": "2021-09-23T13:09:18.954Z"
   },
   {
    "duration": 248,
    "start_time": "2021-09-23T13:09:25.558Z"
   },
   {
    "duration": 388,
    "start_time": "2021-09-23T13:09:37.534Z"
   },
   {
    "duration": 553,
    "start_time": "2021-09-23T13:10:09.618Z"
   },
   {
    "duration": 282,
    "start_time": "2021-09-23T13:10:29.758Z"
   },
   {
    "duration": 276,
    "start_time": "2021-09-23T13:10:57.274Z"
   },
   {
    "duration": 287,
    "start_time": "2021-09-23T13:11:00.734Z"
   },
   {
    "duration": 403,
    "start_time": "2021-09-23T13:12:08.818Z"
   },
   {
    "duration": 282,
    "start_time": "2021-09-23T13:12:15.110Z"
   },
   {
    "duration": 292,
    "start_time": "2021-09-23T13:13:23.575Z"
   },
   {
    "duration": 781,
    "start_time": "2021-09-23T13:13:38.706Z"
   },
   {
    "duration": 812,
    "start_time": "2021-09-23T13:13:50.322Z"
   },
   {
    "duration": 746,
    "start_time": "2021-09-23T13:13:59.082Z"
   },
   {
    "duration": 759,
    "start_time": "2021-09-23T13:14:05.298Z"
   },
   {
    "duration": 470,
    "start_time": "2021-09-23T13:14:47.986Z"
   },
   {
    "duration": 1256,
    "start_time": "2021-09-23T13:15:18.946Z"
   },
   {
    "duration": 1176,
    "start_time": "2021-09-23T13:15:20.204Z"
   },
   {
    "duration": 11,
    "start_time": "2021-09-23T13:15:21.382Z"
   },
   {
    "duration": 58,
    "start_time": "2021-09-23T13:15:21.394Z"
   },
   {
    "duration": 413,
    "start_time": "2021-09-23T13:15:21.454Z"
   },
   {
    "duration": 172,
    "start_time": "2021-09-23T13:15:21.869Z"
   },
   {
    "duration": 9,
    "start_time": "2021-09-23T13:15:22.043Z"
   },
   {
    "duration": 4,
    "start_time": "2021-09-23T13:15:22.057Z"
   },
   {
    "duration": 122,
    "start_time": "2021-09-23T13:15:22.063Z"
   },
   {
    "duration": 23,
    "start_time": "2021-09-23T13:15:22.187Z"
   },
   {
    "duration": 8,
    "start_time": "2021-09-23T13:15:22.212Z"
   },
   {
    "duration": 46,
    "start_time": "2021-09-23T13:15:22.222Z"
   },
   {
    "duration": 12,
    "start_time": "2021-09-23T13:15:22.270Z"
   },
   {
    "duration": 8,
    "start_time": "2021-09-23T13:15:22.285Z"
   },
   {
    "duration": 17,
    "start_time": "2021-09-23T13:15:22.295Z"
   },
   {
    "duration": 44,
    "start_time": "2021-09-23T13:15:22.314Z"
   },
   {
    "duration": 15,
    "start_time": "2021-09-23T13:15:22.360Z"
   },
   {
    "duration": 9,
    "start_time": "2021-09-23T13:15:22.377Z"
   },
   {
    "duration": 7,
    "start_time": "2021-09-23T13:15:22.388Z"
   },
   {
    "duration": 16,
    "start_time": "2021-09-23T13:15:22.397Z"
   },
   {
    "duration": 7,
    "start_time": "2021-09-23T13:15:22.414Z"
   },
   {
    "duration": 27,
    "start_time": "2021-09-23T13:15:22.422Z"
   },
   {
    "duration": 12,
    "start_time": "2021-09-23T13:15:22.455Z"
   },
   {
    "duration": 6,
    "start_time": "2021-09-23T13:15:22.470Z"
   },
   {
    "duration": 17,
    "start_time": "2021-09-23T13:15:22.477Z"
   },
   {
    "duration": 12,
    "start_time": "2021-09-23T13:15:22.496Z"
   },
   {
    "duration": 12,
    "start_time": "2021-09-23T13:15:22.510Z"
   },
   {
    "duration": 33,
    "start_time": "2021-09-23T13:15:22.525Z"
   },
   {
    "duration": 6,
    "start_time": "2021-09-23T13:15:22.560Z"
   },
   {
    "duration": 442,
    "start_time": "2021-09-23T13:15:22.568Z"
   },
   {
    "duration": 366,
    "start_time": "2021-09-23T13:15:23.013Z"
   },
   {
    "duration": 9,
    "start_time": "2021-09-23T13:15:23.381Z"
   },
   {
    "duration": 364,
    "start_time": "2021-09-23T13:15:23.392Z"
   },
   {
    "duration": 5,
    "start_time": "2021-09-23T13:15:23.759Z"
   },
   {
    "duration": 377,
    "start_time": "2021-09-23T13:15:23.766Z"
   },
   {
    "duration": 8,
    "start_time": "2021-09-23T13:15:24.145Z"
   },
   {
    "duration": 353,
    "start_time": "2021-09-23T13:15:24.155Z"
   },
   {
    "duration": 5,
    "start_time": "2021-09-23T13:15:24.509Z"
   },
   {
    "duration": 653,
    "start_time": "2021-09-23T13:15:24.516Z"
   },
   {
    "duration": 120,
    "start_time": "2021-09-23T13:15:25.171Z"
   },
   {
    "duration": 326,
    "start_time": "2021-09-23T13:15:25.293Z"
   },
   {
    "duration": 45,
    "start_time": "2021-09-23T13:15:25.621Z"
   },
   {
    "duration": 55,
    "start_time": "2021-09-23T13:15:25.669Z"
   },
   {
    "duration": 58,
    "start_time": "2021-09-23T13:15:25.726Z"
   },
   {
    "duration": 394,
    "start_time": "2021-09-23T13:15:25.786Z"
   },
   {
    "duration": 102,
    "start_time": "2021-09-23T13:15:26.182Z"
   },
   {
    "duration": 338,
    "start_time": "2021-09-23T13:15:26.287Z"
   },
   {
    "duration": 94,
    "start_time": "2021-09-23T13:15:26.627Z"
   },
   {
    "duration": 26,
    "start_time": "2021-09-23T13:15:26.723Z"
   },
   {
    "duration": 260,
    "start_time": "2021-09-23T13:15:26.751Z"
   },
   {
    "duration": 48,
    "start_time": "2021-09-23T13:15:27.013Z"
   },
   {
    "duration": 1064,
    "start_time": "2021-09-23T13:15:27.063Z"
   },
   {
    "duration": 174,
    "start_time": "2021-09-23T13:15:28.130Z"
   },
   {
    "duration": 12,
    "start_time": "2021-09-23T13:15:28.306Z"
   },
   {
    "duration": 9,
    "start_time": "2021-09-23T13:15:28.320Z"
   },
   {
    "duration": 25,
    "start_time": "2021-09-23T13:15:28.331Z"
   },
   {
    "duration": 364,
    "start_time": "2021-09-23T13:15:28.359Z"
   },
   {
    "duration": 32,
    "start_time": "2021-09-23T13:15:28.725Z"
   },
   {
    "duration": 23,
    "start_time": "2021-09-23T13:15:28.760Z"
   },
   {
    "duration": 16,
    "start_time": "2021-09-23T13:15:28.784Z"
   },
   {
    "duration": 48,
    "start_time": "2021-09-23T13:15:28.802Z"
   },
   {
    "duration": 26,
    "start_time": "2021-09-23T13:15:28.853Z"
   },
   {
    "duration": 13,
    "start_time": "2021-09-23T13:15:28.881Z"
   },
   {
    "duration": 19,
    "start_time": "2021-09-23T13:15:28.896Z"
   },
   {
    "duration": 57,
    "start_time": "2021-09-23T13:15:28.917Z"
   },
   {
    "duration": 24,
    "start_time": "2021-09-23T13:15:28.976Z"
   },
   {
    "duration": 846,
    "start_time": "2021-09-23T13:15:29.003Z"
   },
   {
    "duration": 10,
    "start_time": "2021-09-23T13:15:29.858Z"
   },
   {
    "duration": 6,
    "start_time": "2021-09-23T13:15:29.872Z"
   },
   {
    "duration": 6,
    "start_time": "2021-09-23T13:15:29.880Z"
   },
   {
    "duration": 10,
    "start_time": "2021-09-23T13:15:29.888Z"
   },
   {
    "duration": 14,
    "start_time": "2021-09-23T13:15:29.900Z"
   },
   {
    "duration": 53,
    "start_time": "2021-09-23T13:15:29.916Z"
   },
   {
    "duration": 329,
    "start_time": "2021-09-23T13:15:29.971Z"
   },
   {
    "duration": 30,
    "start_time": "2021-09-23T13:15:30.302Z"
   },
   {
    "duration": 21,
    "start_time": "2021-09-23T13:15:30.348Z"
   },
   {
    "duration": 3,
    "start_time": "2021-09-23T13:15:30.371Z"
   },
   {
    "duration": 20,
    "start_time": "2021-09-23T13:15:30.376Z"
   },
   {
    "duration": 41,
    "start_time": "2021-09-23T13:15:30.398Z"
   },
   {
    "duration": 32,
    "start_time": "2021-09-23T13:15:30.441Z"
   },
   {
    "duration": 16,
    "start_time": "2021-09-23T13:15:30.476Z"
   },
   {
    "duration": 19,
    "start_time": "2021-09-23T13:15:30.494Z"
   },
   {
    "duration": 39,
    "start_time": "2021-09-23T13:15:30.515Z"
   },
   {
    "duration": 51,
    "start_time": "2021-09-23T13:15:30.557Z"
   },
   {
    "duration": 860,
    "start_time": "2021-09-23T13:15:30.611Z"
   },
   {
    "duration": 5,
    "start_time": "2021-09-23T13:15:31.473Z"
   },
   {
    "duration": 236,
    "start_time": "2021-09-23T13:15:31.480Z"
   },
   {
    "duration": 10,
    "start_time": "2021-09-23T13:15:31.718Z"
   },
   {
    "duration": 370,
    "start_time": "2021-09-23T13:15:31.730Z"
   },
   {
    "duration": -35,
    "start_time": "2021-09-23T13:15:32.137Z"
   },
   {
    "duration": -42,
    "start_time": "2021-09-23T13:15:32.145Z"
   },
   {
    "duration": -56,
    "start_time": "2021-09-23T13:15:32.160Z"
   },
   {
    "duration": -63,
    "start_time": "2021-09-23T13:15:32.168Z"
   },
   {
    "duration": -84,
    "start_time": "2021-09-23T13:15:32.190Z"
   },
   {
    "duration": -88,
    "start_time": "2021-09-23T13:15:32.195Z"
   },
   {
    "duration": -95,
    "start_time": "2021-09-23T13:15:32.203Z"
   },
   {
    "duration": -100,
    "start_time": "2021-09-23T13:15:32.209Z"
   },
   {
    "duration": -107,
    "start_time": "2021-09-23T13:15:32.218Z"
   },
   {
    "duration": -112,
    "start_time": "2021-09-23T13:15:32.224Z"
   },
   {
    "duration": 285,
    "start_time": "2021-09-23T13:16:46.426Z"
   },
   {
    "duration": 397,
    "start_time": "2021-09-23T13:16:58.606Z"
   },
   {
    "duration": 274,
    "start_time": "2021-09-23T13:17:11.470Z"
   },
   {
    "duration": 282,
    "start_time": "2021-09-23T13:17:14.754Z"
   },
   {
    "duration": 288,
    "start_time": "2021-09-23T13:17:40.466Z"
   },
   {
    "duration": 287,
    "start_time": "2021-09-23T13:17:44.126Z"
   },
   {
    "duration": 286,
    "start_time": "2021-09-23T13:17:46.002Z"
   },
   {
    "duration": 284,
    "start_time": "2021-09-23T13:18:50.503Z"
   },
   {
    "duration": 281,
    "start_time": "2021-09-23T13:18:58.262Z"
   },
   {
    "duration": 305,
    "start_time": "2021-09-23T13:19:04.598Z"
   },
   {
    "duration": 365,
    "start_time": "2021-09-23T13:19:08.906Z"
   },
   {
    "duration": 382,
    "start_time": "2021-09-23T13:19:11.179Z"
   },
   {
    "duration": 484,
    "start_time": "2021-09-23T13:19:15.098Z"
   },
   {
    "duration": 540,
    "start_time": "2021-09-23T13:19:32.979Z"
   },
   {
    "duration": 461,
    "start_time": "2021-09-23T13:19:34.594Z"
   },
   {
    "duration": 485,
    "start_time": "2021-09-23T13:19:39.946Z"
   },
   {
    "duration": 5,
    "start_time": "2021-09-23T13:19:42.750Z"
   },
   {
    "duration": 399,
    "start_time": "2021-09-23T13:19:42.938Z"
   },
   {
    "duration": 4,
    "start_time": "2021-09-23T13:19:43.339Z"
   },
   {
    "duration": 414,
    "start_time": "2021-09-23T13:19:46.838Z"
   },
   {
    "duration": 409,
    "start_time": "2021-09-23T13:19:49.314Z"
   },
   {
    "duration": 3,
    "start_time": "2021-09-23T13:19:49.725Z"
   },
   {
    "duration": 403,
    "start_time": "2021-09-23T13:19:54.122Z"
   },
   {
    "duration": 3,
    "start_time": "2021-09-23T13:19:58.278Z"
   },
   {
    "duration": 4,
    "start_time": "2021-09-23T13:19:58.821Z"
   },
   {
    "duration": 483,
    "start_time": "2021-09-23T13:19:59.352Z"
   },
   {
    "duration": 524,
    "start_time": "2021-09-23T13:20:02.282Z"
   },
   {
    "duration": 516,
    "start_time": "2021-09-23T13:20:07.898Z"
   },
   {
    "duration": 422,
    "start_time": "2021-09-23T13:20:15.198Z"
   },
   {
    "duration": 987,
    "start_time": "2021-09-23T13:20:22.346Z"
   },
   {
    "duration": 1046,
    "start_time": "2021-09-23T13:20:30.963Z"
   },
   {
    "duration": 152,
    "start_time": "2021-09-23T13:20:43.350Z"
   },
   {
    "duration": 17,
    "start_time": "2021-09-23T13:20:43.762Z"
   },
   {
    "duration": 10,
    "start_time": "2021-09-23T13:20:44.214Z"
   },
   {
    "duration": 5,
    "start_time": "2021-09-23T13:20:44.582Z"
   },
   {
    "duration": 334,
    "start_time": "2021-09-23T13:20:44.950Z"
   },
   {
    "duration": 306,
    "start_time": "2021-09-23T13:20:47.110Z"
   },
   {
    "duration": 300,
    "start_time": "2021-09-23T13:20:56.638Z"
   },
   {
    "duration": 302,
    "start_time": "2021-09-23T13:21:02.402Z"
   },
   {
    "duration": 635,
    "start_time": "2021-09-23T13:21:16.778Z"
   },
   {
    "duration": 649,
    "start_time": "2021-09-23T13:21:20.210Z"
   },
   {
    "duration": 257,
    "start_time": "2021-09-23T13:21:23.985Z"
   },
   {
    "duration": 248,
    "start_time": "2021-09-23T13:21:25.978Z"
   },
   {
    "duration": 1653,
    "start_time": "2021-09-23T13:21:35.313Z"
   },
   {
    "duration": 724,
    "start_time": "2021-09-23T13:21:36.968Z"
   },
   {
    "duration": 11,
    "start_time": "2021-09-23T13:21:37.694Z"
   },
   {
    "duration": 74,
    "start_time": "2021-09-23T13:21:37.707Z"
   },
   {
    "duration": 310,
    "start_time": "2021-09-23T13:21:37.783Z"
   },
   {
    "duration": 194,
    "start_time": "2021-09-23T13:21:38.095Z"
   },
   {
    "duration": 5,
    "start_time": "2021-09-23T13:21:38.290Z"
   },
   {
    "duration": 4,
    "start_time": "2021-09-23T13:21:38.298Z"
   },
   {
    "duration": 91,
    "start_time": "2021-09-23T13:21:38.304Z"
   },
   {
    "duration": 22,
    "start_time": "2021-09-23T13:21:38.397Z"
   },
   {
    "duration": 7,
    "start_time": "2021-09-23T13:21:38.421Z"
   },
   {
    "duration": 40,
    "start_time": "2021-09-23T13:21:38.429Z"
   },
   {
    "duration": 10,
    "start_time": "2021-09-23T13:21:38.471Z"
   },
   {
    "duration": 7,
    "start_time": "2021-09-23T13:21:38.482Z"
   },
   {
    "duration": 12,
    "start_time": "2021-09-23T13:21:38.491Z"
   },
   {
    "duration": 51,
    "start_time": "2021-09-23T13:21:38.505Z"
   },
   {
    "duration": 22,
    "start_time": "2021-09-23T13:21:38.558Z"
   },
   {
    "duration": 5,
    "start_time": "2021-09-23T13:21:38.582Z"
   },
   {
    "duration": 4,
    "start_time": "2021-09-23T13:21:38.589Z"
   },
   {
    "duration": 15,
    "start_time": "2021-09-23T13:21:38.594Z"
   },
   {
    "duration": 6,
    "start_time": "2021-09-23T13:21:38.611Z"
   },
   {
    "duration": 7,
    "start_time": "2021-09-23T13:21:38.619Z"
   },
   {
    "duration": 10,
    "start_time": "2021-09-23T13:21:38.653Z"
   },
   {
    "duration": 8,
    "start_time": "2021-09-23T13:21:38.667Z"
   },
   {
    "duration": 5,
    "start_time": "2021-09-23T13:21:38.677Z"
   },
   {
    "duration": 7,
    "start_time": "2021-09-23T13:21:38.684Z"
   },
   {
    "duration": 14,
    "start_time": "2021-09-23T13:21:38.692Z"
   },
   {
    "duration": 10,
    "start_time": "2021-09-23T13:21:38.707Z"
   },
   {
    "duration": 9,
    "start_time": "2021-09-23T13:21:38.718Z"
   },
   {
    "duration": 429,
    "start_time": "2021-09-23T13:21:38.756Z"
   },
   {
    "duration": 333,
    "start_time": "2021-09-23T13:21:39.186Z"
   },
   {
    "duration": 9,
    "start_time": "2021-09-23T13:21:39.521Z"
   },
   {
    "duration": 352,
    "start_time": "2021-09-23T13:21:39.532Z"
   },
   {
    "duration": 3,
    "start_time": "2021-09-23T13:21:39.886Z"
   },
   {
    "duration": 343,
    "start_time": "2021-09-23T13:21:39.890Z"
   },
   {
    "duration": 3,
    "start_time": "2021-09-23T13:21:40.235Z"
   },
   {
    "duration": 340,
    "start_time": "2021-09-23T13:21:40.240Z"
   },
   {
    "duration": 4,
    "start_time": "2021-09-23T13:21:40.581Z"
   },
   {
    "duration": 502,
    "start_time": "2021-09-23T13:21:40.586Z"
   },
   {
    "duration": 125,
    "start_time": "2021-09-23T13:21:41.090Z"
   },
   {
    "duration": 354,
    "start_time": "2021-09-23T13:21:41.217Z"
   },
   {
    "duration": 36,
    "start_time": "2021-09-23T13:21:41.573Z"
   },
   {
    "duration": 61,
    "start_time": "2021-09-23T13:21:41.611Z"
   },
   {
    "duration": 34,
    "start_time": "2021-09-23T13:21:41.674Z"
   },
   {
    "duration": 393,
    "start_time": "2021-09-23T13:21:41.710Z"
   },
   {
    "duration": 113,
    "start_time": "2021-09-23T13:21:42.105Z"
   },
   {
    "duration": 391,
    "start_time": "2021-09-23T13:21:42.221Z"
   },
   {
    "duration": 122,
    "start_time": "2021-09-23T13:21:42.614Z"
   },
   {
    "duration": 21,
    "start_time": "2021-09-23T13:21:42.738Z"
   },
   {
    "duration": 314,
    "start_time": "2021-09-23T13:21:42.761Z"
   },
   {
    "duration": 49,
    "start_time": "2021-09-23T13:21:43.077Z"
   },
   {
    "duration": 1066,
    "start_time": "2021-09-23T13:21:43.129Z"
   },
   {
    "duration": 151,
    "start_time": "2021-09-23T13:21:44.197Z"
   },
   {
    "duration": 19,
    "start_time": "2021-09-23T13:21:44.350Z"
   },
   {
    "duration": 11,
    "start_time": "2021-09-23T13:21:44.371Z"
   },
   {
    "duration": 6,
    "start_time": "2021-09-23T13:21:44.383Z"
   },
   {
    "duration": 339,
    "start_time": "2021-09-23T13:21:44.391Z"
   },
   {
    "duration": 35,
    "start_time": "2021-09-23T13:21:44.732Z"
   },
   {
    "duration": 21,
    "start_time": "2021-09-23T13:21:44.769Z"
   },
   {
    "duration": 17,
    "start_time": "2021-09-23T13:21:44.792Z"
   },
   {
    "duration": 51,
    "start_time": "2021-09-23T13:21:44.811Z"
   },
   {
    "duration": 22,
    "start_time": "2021-09-23T13:21:44.864Z"
   },
   {
    "duration": 12,
    "start_time": "2021-09-23T13:21:44.889Z"
   },
   {
    "duration": 14,
    "start_time": "2021-09-23T13:21:44.903Z"
   },
   {
    "duration": 42,
    "start_time": "2021-09-23T13:21:44.919Z"
   },
   {
    "duration": 24,
    "start_time": "2021-09-23T13:21:44.962Z"
   },
   {
    "duration": 754,
    "start_time": "2021-09-23T13:21:44.988Z"
   },
   {
    "duration": 11,
    "start_time": "2021-09-23T13:21:45.747Z"
   },
   {
    "duration": 8,
    "start_time": "2021-09-23T13:21:45.761Z"
   },
   {
    "duration": 8,
    "start_time": "2021-09-23T13:21:45.771Z"
   },
   {
    "duration": 9,
    "start_time": "2021-09-23T13:21:45.781Z"
   },
   {
    "duration": 16,
    "start_time": "2021-09-23T13:21:45.792Z"
   },
   {
    "duration": 47,
    "start_time": "2021-09-23T13:21:45.810Z"
   },
   {
    "duration": 283,
    "start_time": "2021-09-23T13:21:45.858Z"
   },
   {
    "duration": 28,
    "start_time": "2021-09-23T13:21:46.143Z"
   },
   {
    "duration": 15,
    "start_time": "2021-09-23T13:21:46.173Z"
   },
   {
    "duration": 2,
    "start_time": "2021-09-23T13:21:46.190Z"
   },
   {
    "duration": 10,
    "start_time": "2021-09-23T13:21:46.195Z"
   },
   {
    "duration": 54,
    "start_time": "2021-09-23T13:21:46.207Z"
   },
   {
    "duration": 20,
    "start_time": "2021-09-23T13:21:46.263Z"
   },
   {
    "duration": 11,
    "start_time": "2021-09-23T13:21:46.285Z"
   },
   {
    "duration": 12,
    "start_time": "2021-09-23T13:21:46.298Z"
   },
   {
    "duration": 17,
    "start_time": "2021-09-23T13:21:46.312Z"
   },
   {
    "duration": 52,
    "start_time": "2021-09-23T13:21:46.331Z"
   },
   {
    "duration": 858,
    "start_time": "2021-09-23T13:21:46.385Z"
   },
   {
    "duration": 4,
    "start_time": "2021-09-23T13:21:47.249Z"
   },
   {
    "duration": 230,
    "start_time": "2021-09-23T13:21:47.254Z"
   },
   {
    "duration": 9,
    "start_time": "2021-09-23T13:21:47.486Z"
   },
   {
    "duration": 380,
    "start_time": "2021-09-23T13:21:47.497Z"
   },
   {
    "duration": -25,
    "start_time": "2021-09-23T13:21:47.904Z"
   },
   {
    "duration": -29,
    "start_time": "2021-09-23T13:21:47.910Z"
   },
   {
    "duration": -32,
    "start_time": "2021-09-23T13:21:47.914Z"
   },
   {
    "duration": -37,
    "start_time": "2021-09-23T13:21:47.921Z"
   },
   {
    "duration": -52,
    "start_time": "2021-09-23T13:21:47.937Z"
   },
   {
    "duration": -57,
    "start_time": "2021-09-23T13:21:47.944Z"
   },
   {
    "duration": -63,
    "start_time": "2021-09-23T13:21:47.951Z"
   },
   {
    "duration": -65,
    "start_time": "2021-09-23T13:21:47.955Z"
   },
   {
    "duration": -69,
    "start_time": "2021-09-23T13:21:47.960Z"
   },
   {
    "duration": -72,
    "start_time": "2021-09-23T13:21:47.965Z"
   },
   {
    "duration": 433,
    "start_time": "2021-09-23T13:21:49.810Z"
   },
   {
    "duration": 544,
    "start_time": "2021-09-23T13:21:53.065Z"
   },
   {
    "duration": 689,
    "start_time": "2021-09-23T13:22:06.254Z"
   },
   {
    "duration": 655,
    "start_time": "2021-09-23T13:22:09.567Z"
   },
   {
    "duration": 254,
    "start_time": "2021-09-23T13:22:15.906Z"
   },
   {
    "duration": 1492,
    "start_time": "2021-09-23T13:22:22.733Z"
   },
   {
    "duration": 889,
    "start_time": "2021-09-23T13:22:24.227Z"
   },
   {
    "duration": 16,
    "start_time": "2021-09-23T13:22:25.118Z"
   },
   {
    "duration": 90,
    "start_time": "2021-09-23T13:22:25.136Z"
   },
   {
    "duration": 702,
    "start_time": "2021-09-23T13:22:25.228Z"
   },
   {
    "duration": 200,
    "start_time": "2021-09-23T13:22:25.932Z"
   },
   {
    "duration": 4,
    "start_time": "2021-09-23T13:22:26.134Z"
   },
   {
    "duration": 3,
    "start_time": "2021-09-23T13:22:26.149Z"
   },
   {
    "duration": 78,
    "start_time": "2021-09-23T13:22:26.154Z"
   },
   {
    "duration": 45,
    "start_time": "2021-09-23T13:22:26.233Z"
   },
   {
    "duration": 9,
    "start_time": "2021-09-23T13:22:26.280Z"
   },
   {
    "duration": 22,
    "start_time": "2021-09-23T13:22:26.291Z"
   },
   {
    "duration": 42,
    "start_time": "2021-09-23T13:22:26.317Z"
   },
   {
    "duration": 13,
    "start_time": "2021-09-23T13:22:26.364Z"
   },
   {
    "duration": 26,
    "start_time": "2021-09-23T13:22:26.381Z"
   },
   {
    "duration": 28,
    "start_time": "2021-09-23T13:22:26.409Z"
   },
   {
    "duration": 19,
    "start_time": "2021-09-23T13:22:26.440Z"
   },
   {
    "duration": 7,
    "start_time": "2021-09-23T13:22:26.462Z"
   },
   {
    "duration": 7,
    "start_time": "2021-09-23T13:22:26.471Z"
   },
   {
    "duration": 17,
    "start_time": "2021-09-23T13:22:26.479Z"
   },
   {
    "duration": 7,
    "start_time": "2021-09-23T13:22:26.497Z"
   },
   {
    "duration": 14,
    "start_time": "2021-09-23T13:22:26.506Z"
   },
   {
    "duration": 39,
    "start_time": "2021-09-23T13:22:26.525Z"
   },
   {
    "duration": 7,
    "start_time": "2021-09-23T13:22:26.567Z"
   },
   {
    "duration": 10,
    "start_time": "2021-09-23T13:22:26.576Z"
   },
   {
    "duration": 10,
    "start_time": "2021-09-23T13:22:26.588Z"
   },
   {
    "duration": 9,
    "start_time": "2021-09-23T13:22:26.600Z"
   },
   {
    "duration": 10,
    "start_time": "2021-09-23T13:22:26.611Z"
   },
   {
    "duration": 12,
    "start_time": "2021-09-23T13:22:26.622Z"
   },
   {
    "duration": 438,
    "start_time": "2021-09-23T13:22:26.649Z"
   },
   {
    "duration": 332,
    "start_time": "2021-09-23T13:22:27.089Z"
   },
   {
    "duration": 8,
    "start_time": "2021-09-23T13:22:27.423Z"
   },
   {
    "duration": 339,
    "start_time": "2021-09-23T13:22:27.432Z"
   },
   {
    "duration": 3,
    "start_time": "2021-09-23T13:22:27.773Z"
   },
   {
    "duration": 343,
    "start_time": "2021-09-23T13:22:27.778Z"
   },
   {
    "duration": 4,
    "start_time": "2021-09-23T13:22:28.123Z"
   },
   {
    "duration": 336,
    "start_time": "2021-09-23T13:22:28.129Z"
   },
   {
    "duration": 3,
    "start_time": "2021-09-23T13:22:28.467Z"
   },
   {
    "duration": 493,
    "start_time": "2021-09-23T13:22:28.472Z"
   },
   {
    "duration": 122,
    "start_time": "2021-09-23T13:22:28.967Z"
   },
   {
    "duration": 320,
    "start_time": "2021-09-23T13:22:29.091Z"
   },
   {
    "duration": 41,
    "start_time": "2021-09-23T13:22:29.412Z"
   },
   {
    "duration": 41,
    "start_time": "2021-09-23T13:22:29.455Z"
   },
   {
    "duration": 27,
    "start_time": "2021-09-23T13:22:29.498Z"
   },
   {
    "duration": 280,
    "start_time": "2021-09-23T13:22:29.527Z"
   },
   {
    "duration": 94,
    "start_time": "2021-09-23T13:22:29.809Z"
   },
   {
    "duration": 300,
    "start_time": "2021-09-23T13:22:29.905Z"
   },
   {
    "duration": 89,
    "start_time": "2021-09-23T13:22:30.207Z"
   },
   {
    "duration": 13,
    "start_time": "2021-09-23T13:22:30.297Z"
   },
   {
    "duration": 260,
    "start_time": "2021-09-23T13:22:30.312Z"
   },
   {
    "duration": 36,
    "start_time": "2021-09-23T13:22:30.574Z"
   },
   {
    "duration": 797,
    "start_time": "2021-09-23T13:22:30.613Z"
   },
   {
    "duration": 145,
    "start_time": "2021-09-23T13:22:31.411Z"
   },
   {
    "duration": 15,
    "start_time": "2021-09-23T13:22:31.559Z"
   },
   {
    "duration": 9,
    "start_time": "2021-09-23T13:22:31.576Z"
   },
   {
    "duration": 9,
    "start_time": "2021-09-23T13:22:31.587Z"
   },
   {
    "duration": 474,
    "start_time": "2021-09-23T13:22:31.598Z"
   },
   {
    "duration": 25,
    "start_time": "2021-09-23T13:22:32.075Z"
   },
   {
    "duration": 23,
    "start_time": "2021-09-23T13:22:32.102Z"
   },
   {
    "duration": 40,
    "start_time": "2021-09-23T13:22:32.127Z"
   },
   {
    "duration": 22,
    "start_time": "2021-09-23T13:22:32.169Z"
   },
   {
    "duration": 18,
    "start_time": "2021-09-23T13:22:32.192Z"
   },
   {
    "duration": 45,
    "start_time": "2021-09-23T13:22:32.212Z"
   },
   {
    "duration": 12,
    "start_time": "2021-09-23T13:22:32.264Z"
   },
   {
    "duration": 18,
    "start_time": "2021-09-23T13:22:32.277Z"
   },
   {
    "duration": 22,
    "start_time": "2021-09-23T13:22:32.296Z"
   },
   {
    "duration": 1019,
    "start_time": "2021-09-23T13:22:32.319Z"
   },
   {
    "duration": 8,
    "start_time": "2021-09-23T13:22:33.346Z"
   },
   {
    "duration": 10,
    "start_time": "2021-09-23T13:22:33.357Z"
   },
   {
    "duration": 6,
    "start_time": "2021-09-23T13:22:33.369Z"
   },
   {
    "duration": 6,
    "start_time": "2021-09-23T13:22:33.377Z"
   },
   {
    "duration": 14,
    "start_time": "2021-09-23T13:22:33.385Z"
   },
   {
    "duration": 13,
    "start_time": "2021-09-23T13:22:33.400Z"
   },
   {
    "duration": 314,
    "start_time": "2021-09-23T13:22:33.414Z"
   },
   {
    "duration": 39,
    "start_time": "2021-09-23T13:22:33.730Z"
   },
   {
    "duration": 15,
    "start_time": "2021-09-23T13:22:33.770Z"
   },
   {
    "duration": 3,
    "start_time": "2021-09-23T13:22:33.787Z"
   },
   {
    "duration": 15,
    "start_time": "2021-09-23T13:22:33.792Z"
   },
   {
    "duration": 53,
    "start_time": "2021-09-23T13:22:33.808Z"
   },
   {
    "duration": 28,
    "start_time": "2021-09-23T13:22:33.863Z"
   },
   {
    "duration": 15,
    "start_time": "2021-09-23T13:22:33.893Z"
   },
   {
    "duration": 8,
    "start_time": "2021-09-23T13:22:33.910Z"
   },
   {
    "duration": 38,
    "start_time": "2021-09-23T13:22:33.920Z"
   },
   {
    "duration": 26,
    "start_time": "2021-09-23T13:22:33.960Z"
   },
   {
    "duration": 765,
    "start_time": "2021-09-23T13:22:33.988Z"
   },
   {
    "duration": 10,
    "start_time": "2021-09-23T13:22:34.755Z"
   },
   {
    "duration": 207,
    "start_time": "2021-09-23T13:22:34.767Z"
   },
   {
    "duration": 9,
    "start_time": "2021-09-23T13:22:34.976Z"
   },
   {
    "duration": 343,
    "start_time": "2021-09-23T13:22:34.987Z"
   },
   {
    "duration": -20,
    "start_time": "2021-09-23T13:22:35.352Z"
   },
   {
    "duration": -23,
    "start_time": "2021-09-23T13:22:35.356Z"
   },
   {
    "duration": -29,
    "start_time": "2021-09-23T13:22:35.363Z"
   },
   {
    "duration": -32,
    "start_time": "2021-09-23T13:22:35.366Z"
   },
   {
    "duration": -35,
    "start_time": "2021-09-23T13:22:35.370Z"
   },
   {
    "duration": -39,
    "start_time": "2021-09-23T13:22:35.375Z"
   },
   {
    "duration": -42,
    "start_time": "2021-09-23T13:22:35.379Z"
   },
   {
    "duration": -46,
    "start_time": "2021-09-23T13:22:35.383Z"
   },
   {
    "duration": -49,
    "start_time": "2021-09-23T13:22:35.387Z"
   },
   {
    "duration": -52,
    "start_time": "2021-09-23T13:22:35.391Z"
   },
   {
    "duration": 433,
    "start_time": "2021-09-23T13:22:36.297Z"
   },
   {
    "duration": 579,
    "start_time": "2021-09-23T13:22:41.801Z"
   },
   {
    "duration": 415,
    "start_time": "2021-09-23T13:22:44.958Z"
   },
   {
    "duration": 489,
    "start_time": "2021-09-23T13:22:47.390Z"
   },
   {
    "duration": 5,
    "start_time": "2021-09-23T13:22:47.882Z"
   },
   {
    "duration": 438,
    "start_time": "2021-09-23T13:22:48.019Z"
   },
   {
    "duration": 7,
    "start_time": "2021-09-23T13:22:48.460Z"
   },
   {
    "duration": 583,
    "start_time": "2021-09-23T13:22:48.666Z"
   },
   {
    "duration": 4,
    "start_time": "2021-09-23T13:22:49.251Z"
   },
   {
    "duration": 605,
    "start_time": "2021-09-23T13:22:49.257Z"
   },
   {
    "duration": 136,
    "start_time": "2021-09-23T13:22:49.867Z"
   },
   {
    "duration": 455,
    "start_time": "2021-09-23T13:22:50.005Z"
   },
   {
    "duration": 37,
    "start_time": "2021-09-23T13:22:50.542Z"
   },
   {
    "duration": 79,
    "start_time": "2021-09-23T13:22:50.746Z"
   },
   {
    "duration": 38,
    "start_time": "2021-09-23T13:22:50.901Z"
   },
   {
    "duration": 343,
    "start_time": "2021-09-23T13:22:51.257Z"
   },
   {
    "duration": 104,
    "start_time": "2021-09-23T13:22:52.062Z"
   },
   {
    "duration": 288,
    "start_time": "2021-09-23T13:23:00.129Z"
   },
   {
    "duration": 108,
    "start_time": "2021-09-23T13:23:00.419Z"
   },
   {
    "duration": 25,
    "start_time": "2021-09-23T13:23:00.530Z"
   },
   {
    "duration": 165,
    "start_time": "2021-09-23T13:23:00.601Z"
   },
   {
    "duration": 36,
    "start_time": "2021-09-23T13:23:00.768Z"
   },
   {
    "duration": 767,
    "start_time": "2021-09-23T13:23:00.865Z"
   },
   {
    "duration": 138,
    "start_time": "2021-09-23T13:23:05.565Z"
   },
   {
    "duration": 18,
    "start_time": "2021-09-23T13:23:05.753Z"
   },
   {
    "duration": 11,
    "start_time": "2021-09-23T13:23:07.350Z"
   },
   {
    "duration": 6,
    "start_time": "2021-09-23T13:23:07.534Z"
   },
   {
    "duration": 326,
    "start_time": "2021-09-23T13:23:08.753Z"
   },
   {
    "duration": 8,
    "start_time": "2021-09-23T13:23:30.449Z"
   },
   {
    "duration": 162,
    "start_time": "2021-09-23T13:23:33.753Z"
   },
   {
    "duration": 13,
    "start_time": "2021-09-23T13:23:41.793Z"
   },
   {
    "duration": 10,
    "start_time": "2021-09-23T13:23:42.681Z"
   },
   {
    "duration": 6,
    "start_time": "2021-09-23T13:23:43.241Z"
   },
   {
    "duration": 442,
    "start_time": "2021-09-23T13:23:44.462Z"
   },
   {
    "duration": 15,
    "start_time": "2021-09-23T13:24:11.613Z"
   },
   {
    "duration": 10,
    "start_time": "2021-09-23T13:24:12.425Z"
   },
   {
    "duration": 8,
    "start_time": "2021-09-23T13:24:13.045Z"
   },
   {
    "duration": 14,
    "start_time": "2021-09-23T13:24:25.005Z"
   },
   {
    "duration": 11,
    "start_time": "2021-09-23T13:24:25.449Z"
   },
   {
    "duration": 7,
    "start_time": "2021-09-23T13:24:26.690Z"
   },
   {
    "duration": 431,
    "start_time": "2021-09-23T13:24:28.958Z"
   },
   {
    "duration": 27,
    "start_time": "2021-09-23T13:24:34.010Z"
   },
   {
    "duration": 22,
    "start_time": "2021-09-23T13:24:34.658Z"
   },
   {
    "duration": 17,
    "start_time": "2021-09-23T13:24:35.161Z"
   },
   {
    "duration": 28,
    "start_time": "2021-09-23T13:24:35.358Z"
   },
   {
    "duration": 30,
    "start_time": "2021-09-23T13:24:35.541Z"
   },
   {
    "duration": 13,
    "start_time": "2021-09-23T13:24:35.721Z"
   },
   {
    "duration": 12,
    "start_time": "2021-09-23T13:24:36.281Z"
   },
   {
    "duration": 20,
    "start_time": "2021-09-23T13:24:37.161Z"
   },
   {
    "duration": 24,
    "start_time": "2021-09-23T13:24:37.493Z"
   },
   {
    "duration": 793,
    "start_time": "2021-09-23T13:24:38.121Z"
   },
   {
    "duration": 6,
    "start_time": "2021-09-23T13:24:40.950Z"
   },
   {
    "duration": 8,
    "start_time": "2021-09-23T13:24:41.325Z"
   },
   {
    "duration": 6,
    "start_time": "2021-09-23T13:24:43.597Z"
   },
   {
    "duration": 7,
    "start_time": "2021-09-23T13:24:44.101Z"
   },
   {
    "duration": 15,
    "start_time": "2021-09-23T13:24:44.266Z"
   },
   {
    "duration": 17,
    "start_time": "2021-09-23T13:24:46.659Z"
   },
   {
    "duration": 274,
    "start_time": "2021-09-23T13:24:47.585Z"
   },
   {
    "duration": 281,
    "start_time": "2021-09-23T13:25:17.477Z"
   },
   {
    "duration": 287,
    "start_time": "2021-09-23T13:25:24.685Z"
   },
   {
    "duration": 271,
    "start_time": "2021-09-23T13:25:48.046Z"
   },
   {
    "duration": 70,
    "start_time": "2021-09-23T13:26:04.733Z"
   },
   {
    "duration": 612,
    "start_time": "2021-09-23T13:26:10.173Z"
   },
   {
    "duration": 300,
    "start_time": "2021-09-23T13:26:15.546Z"
   },
   {
    "duration": 631,
    "start_time": "2021-09-23T13:26:36.090Z"
   },
   {
    "duration": 515,
    "start_time": "2021-09-23T13:26:46.109Z"
   },
   {
    "duration": 286,
    "start_time": "2021-09-23T13:26:52.214Z"
   },
   {
    "duration": 85,
    "start_time": "2021-09-23T13:27:21.909Z"
   },
   {
    "duration": 780,
    "start_time": "2021-09-23T13:27:30.242Z"
   },
   {
    "duration": 550,
    "start_time": "2021-09-23T15:33:54.434Z"
   },
   {
    "duration": 517,
    "start_time": "2021-09-23T15:34:07.914Z"
   },
   {
    "duration": 506,
    "start_time": "2021-09-23T15:34:34.427Z"
   },
   {
    "duration": 511,
    "start_time": "2021-09-23T15:34:46.470Z"
   },
   {
    "duration": 425,
    "start_time": "2021-09-23T15:34:55.271Z"
   },
   {
    "duration": 282,
    "start_time": "2021-09-23T15:35:21.722Z"
   },
   {
    "duration": 455,
    "start_time": "2021-09-23T15:36:17.746Z"
   },
   {
    "duration": 266,
    "start_time": "2021-09-23T15:37:49.266Z"
   },
   {
    "duration": 305,
    "start_time": "2021-09-23T15:37:52.370Z"
   },
   {
    "duration": 300,
    "start_time": "2021-09-23T15:37:56.502Z"
   },
   {
    "duration": 410,
    "start_time": "2021-09-23T15:38:27.162Z"
   },
   {
    "duration": 91,
    "start_time": "2021-09-23T15:39:31.694Z"
   },
   {
    "duration": 9,
    "start_time": "2021-09-23T15:39:34.814Z"
   },
   {
    "duration": 350,
    "start_time": "2021-09-23T15:39:36.958Z"
   },
   {
    "duration": 16,
    "start_time": "2021-09-23T15:39:43.373Z"
   },
   {
    "duration": 15,
    "start_time": "2021-09-23T15:41:08.026Z"
   },
   {
    "duration": 313,
    "start_time": "2021-09-23T15:41:10.030Z"
   },
   {
    "duration": 15,
    "start_time": "2021-09-23T15:41:45.055Z"
   },
   {
    "duration": 320,
    "start_time": "2021-09-23T15:41:46.157Z"
   },
   {
    "duration": 8,
    "start_time": "2021-09-23T15:41:57.793Z"
   },
   {
    "duration": 412,
    "start_time": "2021-09-23T15:41:58.178Z"
   },
   {
    "duration": 14,
    "start_time": "2021-09-23T15:42:36.298Z"
   },
   {
    "duration": 738,
    "start_time": "2021-09-23T15:47:55.561Z"
   },
   {
    "duration": 265,
    "start_time": "2021-09-23T15:48:07.257Z"
   },
   {
    "duration": 14,
    "start_time": "2021-09-23T15:48:10.274Z"
   },
   {
    "duration": 240,
    "start_time": "2021-09-23T15:48:10.785Z"
   },
   {
    "duration": 4,
    "start_time": "2021-09-23T15:48:24.786Z"
   },
   {
    "duration": 321,
    "start_time": "2021-09-23T15:48:25.602Z"
   },
   {
    "duration": 10,
    "start_time": "2021-09-23T15:48:27.686Z"
   },
   {
    "duration": 253,
    "start_time": "2021-09-23T15:48:29.301Z"
   },
   {
    "duration": 469,
    "start_time": "2021-09-23T15:48:38.521Z"
   },
   {
    "duration": 720,
    "start_time": "2021-09-23T15:49:18.230Z"
   },
   {
    "duration": 481,
    "start_time": "2021-09-23T15:49:25.278Z"
   },
   {
    "duration": 258,
    "start_time": "2021-09-23T15:49:33.162Z"
   },
   {
    "duration": 248,
    "start_time": "2021-09-23T15:50:18.634Z"
   },
   {
    "duration": 6849,
    "start_time": "2021-09-23T15:50:31.058Z"
   },
   {
    "duration": 4,
    "start_time": "2021-09-23T15:50:44.398Z"
   },
   {
    "duration": 5,
    "start_time": "2021-09-23T15:51:21.670Z"
   },
   {
    "duration": 11,
    "start_time": "2021-09-23T15:51:31.714Z"
   },
   {
    "duration": 195,
    "start_time": "2021-09-23T15:52:07.434Z"
   },
   {
    "duration": 204,
    "start_time": "2021-09-23T15:52:25.078Z"
   },
   {
    "duration": 477,
    "start_time": "2021-09-23T15:53:09.033Z"
   },
   {
    "duration": 11,
    "start_time": "2021-09-23T15:53:24.945Z"
   },
   {
    "duration": 11,
    "start_time": "2021-09-23T15:54:18.425Z"
   },
   {
    "duration": 12,
    "start_time": "2021-09-23T15:54:57.214Z"
   },
   {
    "duration": 113,
    "start_time": "2021-09-23T15:55:31.593Z"
   },
   {
    "duration": 5,
    "start_time": "2021-09-23T15:55:33.594Z"
   },
   {
    "duration": 16,
    "start_time": "2021-09-23T15:55:41.633Z"
   },
   {
    "duration": 38,
    "start_time": "2021-09-23T15:55:45.642Z"
   },
   {
    "duration": 3,
    "start_time": "2021-09-23T15:56:04.434Z"
   },
   {
    "duration": 263,
    "start_time": "2021-09-23T15:56:15.559Z"
   },
   {
    "duration": 8,
    "start_time": "2021-09-23T15:56:55.345Z"
   },
   {
    "duration": 5,
    "start_time": "2021-09-23T15:56:57.985Z"
   },
   {
    "duration": 7,
    "start_time": "2021-09-23T15:57:02.781Z"
   },
   {
    "duration": 4,
    "start_time": "2021-09-23T15:57:03.138Z"
   },
   {
    "duration": 4,
    "start_time": "2021-09-23T15:57:16.438Z"
   },
   {
    "duration": 9,
    "start_time": "2021-09-23T15:57:27.509Z"
   },
   {
    "duration": 659,
    "start_time": "2021-09-23T15:58:58.517Z"
   },
   {
    "duration": 9,
    "start_time": "2021-09-23T15:59:00.606Z"
   },
   {
    "duration": 17,
    "start_time": "2021-09-23T15:59:01.457Z"
   },
   {
    "duration": 30,
    "start_time": "2021-09-23T17:00:21.979Z"
   },
   {
    "duration": 252,
    "start_time": "2021-09-23T17:00:27.440Z"
   },
   {
    "duration": 31,
    "start_time": "2021-09-23T17:00:29.611Z"
   },
   {
    "duration": 13,
    "start_time": "2021-09-23T17:01:46.115Z"
   },
   {
    "duration": 10,
    "start_time": "2021-09-23T17:03:15.895Z"
   },
   {
    "duration": 250,
    "start_time": "2021-09-23T17:03:48.290Z"
   },
   {
    "duration": 30,
    "start_time": "2021-09-23T17:04:38.679Z"
   },
   {
    "duration": 324,
    "start_time": "2021-09-23T17:04:40.243Z"
   },
   {
    "duration": 29,
    "start_time": "2021-09-23T17:04:42.007Z"
   },
   {
    "duration": 72,
    "start_time": "2021-09-23T17:05:16.358Z"
   },
   {
    "duration": 101,
    "start_time": "2021-09-23T17:05:23.759Z"
   },
   {
    "duration": 81,
    "start_time": "2021-09-23T17:05:35.511Z"
   },
   {
    "duration": 81,
    "start_time": "2021-09-23T17:06:10.023Z"
   },
   {
    "duration": 78,
    "start_time": "2021-09-23T17:07:39.683Z"
   },
   {
    "duration": 84,
    "start_time": "2021-09-23T17:07:45.252Z"
   },
   {
    "duration": 84,
    "start_time": "2021-09-23T17:07:48.739Z"
   },
   {
    "duration": 105,
    "start_time": "2021-09-23T17:08:58.755Z"
   },
   {
    "duration": 239,
    "start_time": "2021-09-23T17:09:50.134Z"
   },
   {
    "duration": 14,
    "start_time": "2021-09-23T17:09:54.003Z"
   },
   {
    "duration": 83,
    "start_time": "2021-09-23T17:17:35.699Z"
   },
   {
    "duration": 3,
    "start_time": "2021-09-23T17:17:56.418Z"
   },
   {
    "duration": 8,
    "start_time": "2021-09-23T17:19:40.554Z"
   },
   {
    "duration": 354,
    "start_time": "2021-09-23T17:20:35.323Z"
   },
   {
    "duration": 335,
    "start_time": "2021-09-23T17:20:44.654Z"
   },
   {
    "duration": 348,
    "start_time": "2021-09-23T17:21:15.159Z"
   },
   {
    "duration": 384,
    "start_time": "2021-09-23T17:25:12.366Z"
   },
   {
    "duration": 560,
    "start_time": "2021-09-23T17:26:19.336Z"
   },
   {
    "duration": 435,
    "start_time": "2021-09-23T17:26:23.406Z"
   },
   {
    "duration": 28,
    "start_time": "2021-09-23T17:26:42.978Z"
   },
   {
    "duration": 33,
    "start_time": "2021-09-23T17:27:21.718Z"
   },
   {
    "duration": 28,
    "start_time": "2021-09-23T17:27:41.446Z"
   },
   {
    "duration": 31,
    "start_time": "2021-09-23T17:27:44.218Z"
   },
   {
    "duration": 36,
    "start_time": "2021-09-23T17:28:26.370Z"
   },
   {
    "duration": 29,
    "start_time": "2021-09-23T17:29:00.962Z"
   },
   {
    "duration": 33,
    "start_time": "2021-09-23T17:29:05.998Z"
   },
   {
    "duration": 12,
    "start_time": "2021-09-23T17:30:06.214Z"
   },
   {
    "duration": 1098,
    "start_time": "2021-09-23T17:33:01.894Z"
   },
   {
    "duration": 32,
    "start_time": "2021-09-23T17:33:16.522Z"
   },
   {
    "duration": 81,
    "start_time": "2021-09-23T17:33:28.127Z"
   },
   {
    "duration": 77,
    "start_time": "2021-09-23T17:33:31.903Z"
   },
   {
    "duration": 37,
    "start_time": "2021-09-23T17:33:35.098Z"
   },
   {
    "duration": 31,
    "start_time": "2021-09-23T17:33:44.854Z"
   },
   {
    "duration": 23,
    "start_time": "2021-09-23T17:34:23.658Z"
   },
   {
    "duration": 1540,
    "start_time": "2021-09-23T17:34:30.587Z"
   },
   {
    "duration": 23,
    "start_time": "2021-09-23T17:34:37.923Z"
   },
   {
    "duration": 23,
    "start_time": "2021-09-23T17:34:43.674Z"
   },
   {
    "duration": 57,
    "start_time": "2021-09-23T17:35:27.798Z"
   },
   {
    "duration": 58,
    "start_time": "2021-09-23T17:38:02.618Z"
   },
   {
    "duration": 53,
    "start_time": "2021-09-23T17:38:21.238Z"
   },
   {
    "duration": 933,
    "start_time": "2021-09-24T06:35:16.890Z"
   },
   {
    "duration": 212,
    "start_time": "2021-09-24T06:35:23.359Z"
   },
   {
    "duration": 177,
    "start_time": "2021-09-24T06:35:32.481Z"
   },
   {
    "duration": 590,
    "start_time": "2021-09-24T06:35:32.921Z"
   },
   {
    "duration": -1037,
    "start_time": "2021-09-24T06:35:34.549Z"
   },
   {
    "duration": 1110,
    "start_time": "2021-09-24T06:35:38.951Z"
   },
   {
    "duration": 616,
    "start_time": "2021-09-24T06:35:40.063Z"
   },
   {
    "duration": 11,
    "start_time": "2021-09-24T06:35:40.683Z"
   },
   {
    "duration": 54,
    "start_time": "2021-09-24T06:35:40.695Z"
   },
   {
    "duration": 230,
    "start_time": "2021-09-24T06:35:40.750Z"
   },
   {
    "duration": 160,
    "start_time": "2021-09-24T06:35:40.981Z"
   },
   {
    "duration": 3,
    "start_time": "2021-09-24T06:35:41.143Z"
   },
   {
    "duration": 9,
    "start_time": "2021-09-24T06:35:41.148Z"
   },
   {
    "duration": 69,
    "start_time": "2021-09-24T06:35:41.158Z"
   },
   {
    "duration": 21,
    "start_time": "2021-09-24T06:35:41.229Z"
   },
   {
    "duration": 6,
    "start_time": "2021-09-24T06:35:41.251Z"
   },
   {
    "duration": 23,
    "start_time": "2021-09-24T06:35:41.258Z"
   },
   {
    "duration": 8,
    "start_time": "2021-09-24T06:35:41.283Z"
   },
   {
    "duration": 12,
    "start_time": "2021-09-24T06:35:41.293Z"
   },
   {
    "duration": 17,
    "start_time": "2021-09-24T06:35:41.306Z"
   },
   {
    "duration": 19,
    "start_time": "2021-09-24T06:35:41.324Z"
   },
   {
    "duration": 13,
    "start_time": "2021-09-24T06:35:41.345Z"
   },
   {
    "duration": 7,
    "start_time": "2021-09-24T06:35:41.359Z"
   },
   {
    "duration": 5,
    "start_time": "2021-09-24T06:35:41.367Z"
   },
   {
    "duration": 14,
    "start_time": "2021-09-24T06:35:41.373Z"
   },
   {
    "duration": 5,
    "start_time": "2021-09-24T06:35:41.388Z"
   },
   {
    "duration": 6,
    "start_time": "2021-09-24T06:35:41.397Z"
   },
   {
    "duration": 13,
    "start_time": "2021-09-24T06:35:41.405Z"
   },
   {
    "duration": 5,
    "start_time": "2021-09-24T06:35:41.419Z"
   },
   {
    "duration": 4,
    "start_time": "2021-09-24T06:35:41.426Z"
   },
   {
    "duration": 6,
    "start_time": "2021-09-24T06:35:41.431Z"
   },
   {
    "duration": 7,
    "start_time": "2021-09-24T06:35:41.439Z"
   },
   {
    "duration": 6,
    "start_time": "2021-09-24T06:35:41.447Z"
   },
   {
    "duration": 5,
    "start_time": "2021-09-24T06:35:41.454Z"
   },
   {
    "duration": 647,
    "start_time": "2021-09-24T06:35:41.461Z"
   },
   {
    "duration": 304,
    "start_time": "2021-09-24T06:35:42.110Z"
   },
   {
    "duration": 5,
    "start_time": "2021-09-24T06:35:42.416Z"
   },
   {
    "duration": 321,
    "start_time": "2021-09-24T06:35:42.423Z"
   },
   {
    "duration": 3,
    "start_time": "2021-09-24T06:35:42.746Z"
   },
   {
    "duration": 324,
    "start_time": "2021-09-24T06:35:42.750Z"
   },
   {
    "duration": 2,
    "start_time": "2021-09-24T06:35:43.076Z"
   },
   {
    "duration": 307,
    "start_time": "2021-09-24T06:35:43.080Z"
   },
   {
    "duration": 3,
    "start_time": "2021-09-24T06:35:43.388Z"
   },
   {
    "duration": 452,
    "start_time": "2021-09-24T06:35:43.393Z"
   },
   {
    "duration": 104,
    "start_time": "2021-09-24T06:35:43.847Z"
   },
   {
    "duration": 302,
    "start_time": "2021-09-24T06:35:43.952Z"
   },
   {
    "duration": 28,
    "start_time": "2021-09-24T06:35:44.255Z"
   },
   {
    "duration": 47,
    "start_time": "2021-09-24T06:35:44.284Z"
   },
   {
    "duration": 25,
    "start_time": "2021-09-24T06:35:44.332Z"
   },
   {
    "duration": 262,
    "start_time": "2021-09-24T06:35:44.358Z"
   },
   {
    "duration": 80,
    "start_time": "2021-09-24T06:35:44.621Z"
   },
   {
    "duration": 244,
    "start_time": "2021-09-24T06:35:44.703Z"
   },
   {
    "duration": 82,
    "start_time": "2021-09-24T06:35:44.948Z"
   },
   {
    "duration": 12,
    "start_time": "2021-09-24T06:35:45.031Z"
   },
   {
    "duration": 212,
    "start_time": "2021-09-24T06:35:45.044Z"
   },
   {
    "duration": 43,
    "start_time": "2021-09-24T06:35:45.258Z"
   },
   {
    "duration": 771,
    "start_time": "2021-09-24T06:35:45.302Z"
   },
   {
    "duration": 128,
    "start_time": "2021-09-24T06:35:46.075Z"
   },
   {
    "duration": 11,
    "start_time": "2021-09-24T06:35:46.205Z"
   },
   {
    "duration": 8,
    "start_time": "2021-09-24T06:35:46.218Z"
   },
   {
    "duration": 10,
    "start_time": "2021-09-24T06:35:46.228Z"
   },
   {
    "duration": 341,
    "start_time": "2021-09-24T06:35:46.239Z"
   },
   {
    "duration": 26,
    "start_time": "2021-09-24T06:35:46.582Z"
   },
   {
    "duration": 22,
    "start_time": "2021-09-24T06:35:46.610Z"
   },
   {
    "duration": 13,
    "start_time": "2021-09-24T06:35:46.633Z"
   },
   {
    "duration": 31,
    "start_time": "2021-09-24T06:35:46.647Z"
   },
   {
    "duration": 35,
    "start_time": "2021-09-24T06:35:46.680Z"
   },
   {
    "duration": 14,
    "start_time": "2021-09-24T06:35:46.716Z"
   },
   {
    "duration": 24,
    "start_time": "2021-09-24T06:35:46.732Z"
   },
   {
    "duration": 35,
    "start_time": "2021-09-24T06:35:46.758Z"
   },
   {
    "duration": 29,
    "start_time": "2021-09-24T06:35:46.795Z"
   },
   {
    "duration": 942,
    "start_time": "2021-09-24T06:35:46.829Z"
   },
   {
    "duration": 30,
    "start_time": "2021-09-24T06:35:47.773Z"
   },
   {
    "duration": 9,
    "start_time": "2021-09-24T06:35:47.805Z"
   },
   {
    "duration": 6,
    "start_time": "2021-09-24T06:35:47.816Z"
   },
   {
    "duration": 12,
    "start_time": "2021-09-24T06:35:47.824Z"
   },
   {
    "duration": 11,
    "start_time": "2021-09-24T06:35:47.838Z"
   },
   {
    "duration": 15,
    "start_time": "2021-09-24T06:35:47.850Z"
   },
   {
    "duration": 289,
    "start_time": "2021-09-24T06:35:47.867Z"
   },
   {
    "duration": 22,
    "start_time": "2021-09-24T06:35:48.157Z"
   },
   {
    "duration": 23,
    "start_time": "2021-09-24T06:35:48.181Z"
   },
   {
    "duration": 2,
    "start_time": "2021-09-24T06:35:48.205Z"
   },
   {
    "duration": 35,
    "start_time": "2021-09-24T06:35:48.208Z"
   },
   {
    "duration": 36,
    "start_time": "2021-09-24T06:35:48.245Z"
   },
   {
    "duration": 19,
    "start_time": "2021-09-24T06:35:48.282Z"
   },
   {
    "duration": 13,
    "start_time": "2021-09-24T06:35:48.303Z"
   },
   {
    "duration": 28,
    "start_time": "2021-09-24T06:35:48.318Z"
   },
   {
    "duration": 34,
    "start_time": "2021-09-24T06:35:48.348Z"
   },
   {
    "duration": 39,
    "start_time": "2021-09-24T06:35:48.384Z"
   },
   {
    "duration": 717,
    "start_time": "2021-09-24T06:35:48.424Z"
   },
   {
    "duration": 3,
    "start_time": "2021-09-24T06:35:49.143Z"
   },
   {
    "duration": 213,
    "start_time": "2021-09-24T06:35:49.148Z"
   },
   {
    "duration": 438,
    "start_time": "2021-09-24T06:35:49.363Z"
   },
   {
    "duration": 281,
    "start_time": "2021-09-24T06:35:49.803Z"
   },
   {
    "duration": -1042,
    "start_time": "2021-09-24T06:35:51.127Z"
   },
   {
    "duration": -1048,
    "start_time": "2021-09-24T06:35:51.134Z"
   },
   {
    "duration": -1052,
    "start_time": "2021-09-24T06:35:51.139Z"
   },
   {
    "duration": -1056,
    "start_time": "2021-09-24T06:35:51.144Z"
   },
   {
    "duration": -1059,
    "start_time": "2021-09-24T06:35:51.148Z"
   },
   {
    "duration": -1063,
    "start_time": "2021-09-24T06:35:51.153Z"
   },
   {
    "duration": -1067,
    "start_time": "2021-09-24T06:35:51.157Z"
   },
   {
    "duration": -1071,
    "start_time": "2021-09-24T06:35:51.162Z"
   },
   {
    "duration": -1077,
    "start_time": "2021-09-24T06:35:51.169Z"
   },
   {
    "duration": -1087,
    "start_time": "2021-09-24T06:35:51.180Z"
   },
   {
    "duration": -1092,
    "start_time": "2021-09-24T06:35:51.186Z"
   },
   {
    "duration": -1112,
    "start_time": "2021-09-24T06:35:51.207Z"
   },
   {
    "duration": -1118,
    "start_time": "2021-09-24T06:35:51.213Z"
   },
   {
    "duration": -1125,
    "start_time": "2021-09-24T06:35:51.221Z"
   },
   {
    "duration": 193,
    "start_time": "2021-09-24T06:36:20.631Z"
   },
   {
    "duration": 515,
    "start_time": "2021-09-24T06:36:33.122Z"
   },
   {
    "duration": 192,
    "start_time": "2021-09-24T06:36:34.672Z"
   },
   {
    "duration": 8,
    "start_time": "2021-09-24T06:36:56.399Z"
   },
   {
    "duration": 7,
    "start_time": "2021-09-24T06:38:21.819Z"
   },
   {
    "duration": 601,
    "start_time": "2021-09-24T06:38:23.024Z"
   },
   {
    "duration": 14,
    "start_time": "2021-09-24T06:38:23.627Z"
   },
   {
    "duration": 9,
    "start_time": "2021-09-24T06:38:23.642Z"
   },
   {
    "duration": 9,
    "start_time": "2021-09-24T06:38:23.653Z"
   },
   {
    "duration": 398,
    "start_time": "2021-09-24T06:38:23.738Z"
   },
   {
    "duration": 164,
    "start_time": "2021-09-24T06:38:25.359Z"
   },
   {
    "duration": 1524,
    "start_time": "2021-09-27T12:23:22.825Z"
   },
   {
    "duration": 809,
    "start_time": "2021-09-27T12:23:24.352Z"
   },
   {
    "duration": 16,
    "start_time": "2021-09-27T12:23:25.164Z"
   },
   {
    "duration": 84,
    "start_time": "2021-09-27T12:23:25.183Z"
   },
   {
    "duration": 353,
    "start_time": "2021-09-27T12:23:25.270Z"
   },
   {
    "duration": 246,
    "start_time": "2021-09-27T12:23:25.626Z"
   },
   {
    "duration": 5,
    "start_time": "2021-09-27T12:23:25.875Z"
   },
   {
    "duration": 9,
    "start_time": "2021-09-27T12:23:25.884Z"
   },
   {
    "duration": 124,
    "start_time": "2021-09-27T12:23:25.897Z"
   },
   {
    "duration": 46,
    "start_time": "2021-09-27T12:23:26.023Z"
   },
   {
    "duration": 12,
    "start_time": "2021-09-27T12:23:26.071Z"
   },
   {
    "duration": 23,
    "start_time": "2021-09-27T12:23:26.086Z"
   },
   {
    "duration": 14,
    "start_time": "2021-09-27T12:23:26.111Z"
   },
   {
    "duration": 44,
    "start_time": "2021-09-27T12:23:26.128Z"
   },
   {
    "duration": 21,
    "start_time": "2021-09-27T12:23:26.175Z"
   },
   {
    "duration": 30,
    "start_time": "2021-09-27T12:23:26.198Z"
   },
   {
    "duration": 43,
    "start_time": "2021-09-27T12:23:26.231Z"
   },
   {
    "duration": 10,
    "start_time": "2021-09-27T12:23:26.276Z"
   },
   {
    "duration": 11,
    "start_time": "2021-09-27T12:23:26.288Z"
   },
   {
    "duration": 27,
    "start_time": "2021-09-27T12:23:26.302Z"
   },
   {
    "duration": 8,
    "start_time": "2021-09-27T12:23:26.332Z"
   },
   {
    "duration": 34,
    "start_time": "2021-09-27T12:23:26.342Z"
   },
   {
    "duration": 9,
    "start_time": "2021-09-27T12:23:26.383Z"
   },
   {
    "duration": 8,
    "start_time": "2021-09-27T12:23:26.395Z"
   },
   {
    "duration": 24,
    "start_time": "2021-09-27T12:23:26.405Z"
   },
   {
    "duration": 20,
    "start_time": "2021-09-27T12:23:26.431Z"
   },
   {
    "duration": 23,
    "start_time": "2021-09-27T12:23:26.453Z"
   },
   {
    "duration": 18,
    "start_time": "2021-09-27T12:23:26.478Z"
   },
   {
    "duration": 14,
    "start_time": "2021-09-27T12:23:26.498Z"
   },
   {
    "duration": 607,
    "start_time": "2021-09-27T12:23:26.515Z"
   },
   {
    "duration": 414,
    "start_time": "2021-09-27T12:23:27.124Z"
   },
   {
    "duration": 11,
    "start_time": "2021-09-27T12:23:27.541Z"
   },
   {
    "duration": 536,
    "start_time": "2021-09-27T12:23:27.554Z"
   },
   {
    "duration": 4,
    "start_time": "2021-09-27T12:23:28.093Z"
   },
   {
    "duration": 532,
    "start_time": "2021-09-27T12:23:28.100Z"
   },
   {
    "duration": 5,
    "start_time": "2021-09-27T12:23:28.634Z"
   },
   {
    "duration": 521,
    "start_time": "2021-09-27T12:23:28.642Z"
   },
   {
    "duration": 4,
    "start_time": "2021-09-27T12:23:29.168Z"
   },
   {
    "duration": 809,
    "start_time": "2021-09-27T12:23:29.175Z"
   },
   {
    "duration": 154,
    "start_time": "2021-09-27T12:23:29.987Z"
   },
   {
    "duration": 550,
    "start_time": "2021-09-27T12:23:30.144Z"
   },
   {
    "duration": 38,
    "start_time": "2021-09-27T12:23:30.696Z"
   },
   {
    "duration": 67,
    "start_time": "2021-09-27T12:23:30.736Z"
   },
   {
    "duration": 35,
    "start_time": "2021-09-27T12:23:30.806Z"
   },
   {
    "duration": 458,
    "start_time": "2021-09-27T12:23:30.844Z"
   },
   {
    "duration": 137,
    "start_time": "2021-09-27T12:23:31.305Z"
   },
   {
    "duration": 363,
    "start_time": "2021-09-27T12:23:31.445Z"
   },
   {
    "duration": 123,
    "start_time": "2021-09-27T12:23:31.811Z"
   },
   {
    "duration": 15,
    "start_time": "2021-09-27T12:23:31.936Z"
   },
   {
    "duration": 273,
    "start_time": "2021-09-27T12:23:31.953Z"
   },
   {
    "duration": 67,
    "start_time": "2021-09-27T12:23:32.228Z"
   },
   {
    "duration": 1277,
    "start_time": "2021-09-27T12:23:32.297Z"
   },
   {
    "duration": 233,
    "start_time": "2021-09-27T12:23:33.576Z"
   },
   {
    "duration": 20,
    "start_time": "2021-09-27T12:23:33.812Z"
   },
   {
    "duration": 39,
    "start_time": "2021-09-27T12:23:33.835Z"
   },
   {
    "duration": 9,
    "start_time": "2021-09-27T12:23:33.877Z"
   },
   {
    "duration": 627,
    "start_time": "2021-09-27T12:23:33.888Z"
   },
   {
    "duration": 27,
    "start_time": "2021-09-27T12:23:34.518Z"
   },
   {
    "duration": 51,
    "start_time": "2021-09-27T12:23:34.547Z"
   },
   {
    "duration": 20,
    "start_time": "2021-09-27T12:23:34.600Z"
   },
   {
    "duration": 77,
    "start_time": "2021-09-27T12:23:34.623Z"
   },
   {
    "duration": 29,
    "start_time": "2021-09-27T12:23:34.702Z"
   },
   {
    "duration": 37,
    "start_time": "2021-09-27T12:23:34.734Z"
   },
   {
    "duration": 22,
    "start_time": "2021-09-27T12:23:34.774Z"
   },
   {
    "duration": 31,
    "start_time": "2021-09-27T12:23:34.799Z"
   },
   {
    "duration": 83,
    "start_time": "2021-09-27T12:23:34.833Z"
   },
   {
    "duration": 1410,
    "start_time": "2021-09-27T12:23:34.919Z"
   },
   {
    "duration": 7,
    "start_time": "2021-09-27T12:23:36.340Z"
   },
   {
    "duration": 72,
    "start_time": "2021-09-27T12:23:36.350Z"
   },
   {
    "duration": 13,
    "start_time": "2021-09-27T12:23:36.425Z"
   },
   {
    "duration": 12,
    "start_time": "2021-09-27T12:23:36.440Z"
   },
   {
    "duration": 35,
    "start_time": "2021-09-27T12:23:36.456Z"
   },
   {
    "duration": 24,
    "start_time": "2021-09-27T12:23:36.494Z"
   },
   {
    "duration": 510,
    "start_time": "2021-09-27T12:23:36.521Z"
   },
   {
    "duration": 52,
    "start_time": "2021-09-27T12:23:37.033Z"
   },
   {
    "duration": 21,
    "start_time": "2021-09-27T12:23:37.088Z"
   },
   {
    "duration": 3,
    "start_time": "2021-09-27T12:23:37.112Z"
   },
   {
    "duration": 26,
    "start_time": "2021-09-27T12:23:37.118Z"
   },
   {
    "duration": 36,
    "start_time": "2021-09-27T12:23:37.167Z"
   },
   {
    "duration": 30,
    "start_time": "2021-09-27T12:23:37.207Z"
   },
   {
    "duration": 20,
    "start_time": "2021-09-27T12:23:37.267Z"
   },
   {
    "duration": 14,
    "start_time": "2021-09-27T12:23:37.290Z"
   },
   {
    "duration": 30,
    "start_time": "2021-09-27T12:23:37.306Z"
   },
   {
    "duration": 59,
    "start_time": "2021-09-27T12:23:37.338Z"
   },
   {
    "duration": 1238,
    "start_time": "2021-09-27T12:23:37.400Z"
   },
   {
    "duration": 5,
    "start_time": "2021-09-27T12:23:38.640Z"
   },
   {
    "duration": 391,
    "start_time": "2021-09-27T12:23:38.648Z"
   },
   {
    "duration": 804,
    "start_time": "2021-09-27T12:23:39.042Z"
   },
   {
    "duration": 26,
    "start_time": "2021-09-27T12:23:39.848Z"
   },
   {
    "duration": 770,
    "start_time": "2021-09-27T12:23:39.876Z"
   },
   {
    "duration": 29,
    "start_time": "2021-09-27T12:23:40.649Z"
   },
   {
    "duration": 14,
    "start_time": "2021-09-27T12:23:40.680Z"
   },
   {
    "duration": 14,
    "start_time": "2021-09-27T12:23:40.697Z"
   },
   {
    "duration": 463,
    "start_time": "2021-09-27T12:23:40.714Z"
   },
   {
    "duration": 203,
    "start_time": "2021-09-27T12:23:41.180Z"
   },
   {
    "duration": 10,
    "start_time": "2021-09-27T12:23:41.385Z"
   },
   {
    "duration": 20,
    "start_time": "2021-09-27T12:23:41.397Z"
   },
   {
    "duration": 392,
    "start_time": "2021-09-27T12:23:41.420Z"
   },
   {
    "duration": -14,
    "start_time": "2021-09-27T12:23:41.829Z"
   },
   {
    "duration": -20,
    "start_time": "2021-09-27T12:23:41.836Z"
   },
   {
    "duration": -24,
    "start_time": "2021-09-27T12:23:41.842Z"
   },
   {
    "duration": -30,
    "start_time": "2021-09-27T12:23:41.849Z"
   },
   {
    "duration": -35,
    "start_time": "2021-09-27T12:23:41.856Z"
   },
   {
    "duration": 1196,
    "start_time": "2021-09-27T12:29:52.540Z"
   },
   {
    "duration": 1175,
    "start_time": "2021-09-27T12:29:56.644Z"
   },
   {
    "duration": 74,
    "start_time": "2021-09-27T12:30:27.624Z"
   },
   {
    "duration": 74,
    "start_time": "2021-09-27T12:30:41.064Z"
   },
   {
    "duration": 301,
    "start_time": "2021-09-27T12:30:47.592Z"
   },
   {
    "duration": 564,
    "start_time": "2021-09-27T12:30:50.752Z"
   },
   {
    "duration": 80,
    "start_time": "2021-09-27T12:30:54.676Z"
   },
   {
    "duration": 1027,
    "start_time": "2021-09-27T12:32:20.676Z"
   },
   {
    "duration": 69,
    "start_time": "2021-09-27T12:32:27.548Z"
   },
   {
    "duration": 7,
    "start_time": "2021-09-27T12:34:18.244Z"
   },
   {
    "duration": 12,
    "start_time": "2021-09-27T12:34:24.656Z"
   },
   {
    "duration": 15,
    "start_time": "2021-09-27T12:34:40.780Z"
   },
   {
    "duration": 16,
    "start_time": "2021-09-27T12:35:08.109Z"
   },
   {
    "duration": 11,
    "start_time": "2021-09-27T12:35:25.368Z"
   },
   {
    "duration": 14,
    "start_time": "2021-09-27T12:37:44.752Z"
   },
   {
    "duration": 379,
    "start_time": "2021-09-27T12:37:45.696Z"
   },
   {
    "duration": 208,
    "start_time": "2021-09-27T12:37:46.884Z"
   },
   {
    "duration": 383,
    "start_time": "2021-09-27T12:38:20.860Z"
   },
   {
    "duration": 241,
    "start_time": "2021-09-27T12:38:52.024Z"
   },
   {
    "duration": 19,
    "start_time": "2021-09-27T12:38:56.172Z"
   },
   {
    "duration": 177,
    "start_time": "2021-09-27T12:41:22.556Z"
   },
   {
    "duration": 71,
    "start_time": "2021-09-27T12:41:30.876Z"
   },
   {
    "duration": 11,
    "start_time": "2021-09-27T12:42:17.955Z"
   },
   {
    "duration": 270,
    "start_time": "2021-09-27T12:43:17.334Z"
   },
   {
    "duration": 71,
    "start_time": "2021-09-27T12:43:45.636Z"
   },
   {
    "duration": 15,
    "start_time": "2021-09-27T12:43:51.952Z"
   },
   {
    "duration": 71,
    "start_time": "2021-09-27T12:47:30.464Z"
   },
   {
    "duration": 15,
    "start_time": "2021-09-27T12:47:31.064Z"
   },
   {
    "duration": 246,
    "start_time": "2021-09-27T12:50:25.948Z"
   },
   {
    "duration": 21,
    "start_time": "2021-09-27T12:55:51.051Z"
   },
   {
    "duration": 27,
    "start_time": "2021-09-27T12:55:57.822Z"
   },
   {
    "duration": 78,
    "start_time": "2021-09-27T12:56:22.939Z"
   },
   {
    "duration": 25,
    "start_time": "2021-09-27T12:56:36.285Z"
   },
   {
    "duration": 349,
    "start_time": "2021-09-27T12:57:21.507Z"
   },
   {
    "duration": 72,
    "start_time": "2021-09-27T12:57:26.737Z"
   },
   {
    "duration": 263,
    "start_time": "2021-09-27T12:58:45.788Z"
   },
   {
    "duration": 120,
    "start_time": "2021-09-27T12:58:54.780Z"
   },
   {
    "duration": 122,
    "start_time": "2021-09-27T12:59:36.095Z"
   },
   {
    "duration": 463,
    "start_time": "2021-09-27T13:00:11.847Z"
   },
   {
    "duration": 138,
    "start_time": "2021-09-27T13:00:14.567Z"
   },
   {
    "duration": 113,
    "start_time": "2021-09-27T13:01:43.119Z"
   },
   {
    "duration": 19,
    "start_time": "2021-09-27T13:03:33.439Z"
   },
   {
    "duration": 383,
    "start_time": "2021-09-27T16:19:47.704Z"
   },
   {
    "duration": 287,
    "start_time": "2021-09-27T16:20:03.140Z"
   },
   {
    "duration": 1592,
    "start_time": "2021-09-27T16:20:11.205Z"
   },
   {
    "duration": 3159,
    "start_time": "2021-09-27T16:20:12.799Z"
   },
   {
    "duration": 17,
    "start_time": "2021-09-27T16:20:15.968Z"
   },
   {
    "duration": 118,
    "start_time": "2021-09-27T16:20:15.988Z"
   },
   {
    "duration": 630,
    "start_time": "2021-09-27T16:20:16.108Z"
   },
   {
    "duration": 253,
    "start_time": "2021-09-27T16:20:16.741Z"
   },
   {
    "duration": 5,
    "start_time": "2021-09-27T16:20:16.996Z"
   },
   {
    "duration": 4,
    "start_time": "2021-09-27T16:20:17.005Z"
   },
   {
    "duration": 124,
    "start_time": "2021-09-27T16:20:17.013Z"
   },
   {
    "duration": 45,
    "start_time": "2021-09-27T16:20:17.140Z"
   },
   {
    "duration": 8,
    "start_time": "2021-09-27T16:20:17.188Z"
   },
   {
    "duration": 24,
    "start_time": "2021-09-27T16:20:17.199Z"
   },
   {
    "duration": 48,
    "start_time": "2021-09-27T16:20:17.225Z"
   },
   {
    "duration": 12,
    "start_time": "2021-09-27T16:20:17.276Z"
   },
   {
    "duration": 17,
    "start_time": "2021-09-27T16:20:17.291Z"
   },
   {
    "duration": 67,
    "start_time": "2021-09-27T16:20:17.311Z"
   },
   {
    "duration": 20,
    "start_time": "2021-09-27T16:20:17.381Z"
   },
   {
    "duration": 8,
    "start_time": "2021-09-27T16:20:17.403Z"
   },
   {
    "duration": 7,
    "start_time": "2021-09-27T16:20:17.413Z"
   },
   {
    "duration": 52,
    "start_time": "2021-09-27T16:20:17.422Z"
   },
   {
    "duration": 9,
    "start_time": "2021-09-27T16:20:17.476Z"
   },
   {
    "duration": 10,
    "start_time": "2021-09-27T16:20:17.487Z"
   },
   {
    "duration": 10,
    "start_time": "2021-09-27T16:20:17.504Z"
   },
   {
    "duration": 50,
    "start_time": "2021-09-27T16:20:17.517Z"
   },
   {
    "duration": 6,
    "start_time": "2021-09-27T16:20:17.570Z"
   },
   {
    "duration": 8,
    "start_time": "2021-09-27T16:20:17.578Z"
   },
   {
    "duration": 12,
    "start_time": "2021-09-27T16:20:17.589Z"
   },
   {
    "duration": 11,
    "start_time": "2021-09-27T16:20:17.604Z"
   },
   {
    "duration": 52,
    "start_time": "2021-09-27T16:20:17.618Z"
   },
   {
    "duration": 597,
    "start_time": "2021-09-27T16:20:17.673Z"
   },
   {
    "duration": 414,
    "start_time": "2021-09-27T16:20:18.272Z"
   },
   {
    "duration": 12,
    "start_time": "2021-09-27T16:20:18.688Z"
   },
   {
    "duration": 525,
    "start_time": "2021-09-27T16:20:18.703Z"
   },
   {
    "duration": 5,
    "start_time": "2021-09-27T16:20:19.231Z"
   },
   {
    "duration": 532,
    "start_time": "2021-09-27T16:20:19.239Z"
   },
   {
    "duration": 5,
    "start_time": "2021-09-27T16:20:19.773Z"
   },
   {
    "duration": 534,
    "start_time": "2021-09-27T16:20:19.781Z"
   },
   {
    "duration": 4,
    "start_time": "2021-09-27T16:20:20.317Z"
   },
   {
    "duration": 773,
    "start_time": "2021-09-27T16:20:20.324Z"
   },
   {
    "duration": 147,
    "start_time": "2021-09-27T16:20:21.100Z"
   },
   {
    "duration": 522,
    "start_time": "2021-09-27T16:20:21.249Z"
   },
   {
    "duration": 37,
    "start_time": "2021-09-27T16:20:21.773Z"
   },
   {
    "duration": 75,
    "start_time": "2021-09-27T16:20:21.813Z"
   },
   {
    "duration": 35,
    "start_time": "2021-09-27T16:20:21.891Z"
   },
   {
    "duration": 446,
    "start_time": "2021-09-27T16:20:21.929Z"
   },
   {
    "duration": 131,
    "start_time": "2021-09-27T16:20:22.378Z"
   },
   {
    "duration": 328,
    "start_time": "2021-09-27T16:20:22.512Z"
   },
   {
    "duration": 117,
    "start_time": "2021-09-27T16:20:22.842Z"
   },
   {
    "duration": 20,
    "start_time": "2021-09-27T16:20:22.961Z"
   },
   {
    "duration": 273,
    "start_time": "2021-09-27T16:20:22.983Z"
   },
   {
    "duration": 58,
    "start_time": "2021-09-27T16:20:23.259Z"
   },
   {
    "duration": 1210,
    "start_time": "2021-09-27T16:20:23.319Z"
   },
   {
    "duration": 226,
    "start_time": "2021-09-27T16:20:24.531Z"
   },
   {
    "duration": 23,
    "start_time": "2021-09-27T16:20:24.760Z"
   },
   {
    "duration": 13,
    "start_time": "2021-09-27T16:20:24.785Z"
   },
   {
    "duration": 8,
    "start_time": "2021-09-27T16:20:24.800Z"
   },
   {
    "duration": 828,
    "start_time": "2021-09-27T16:20:24.811Z"
   },
   {
    "duration": 31,
    "start_time": "2021-09-27T16:20:25.641Z"
   },
   {
    "duration": 27,
    "start_time": "2021-09-27T16:20:25.674Z"
   },
   {
    "duration": 22,
    "start_time": "2021-09-27T16:20:25.703Z"
   },
   {
    "duration": 67,
    "start_time": "2021-09-27T16:20:25.727Z"
   },
   {
    "duration": 28,
    "start_time": "2021-09-27T16:20:25.796Z"
   },
   {
    "duration": 17,
    "start_time": "2021-09-27T16:20:25.826Z"
   },
   {
    "duration": 17,
    "start_time": "2021-09-27T16:20:25.868Z"
   },
   {
    "duration": 25,
    "start_time": "2021-09-27T16:20:25.888Z"
   },
   {
    "duration": 75,
    "start_time": "2021-09-27T16:20:25.916Z"
   },
   {
    "duration": 1215,
    "start_time": "2021-09-27T16:20:25.994Z"
   },
   {
    "duration": 7,
    "start_time": "2021-09-27T16:20:27.217Z"
   },
   {
    "duration": 18,
    "start_time": "2021-09-27T16:20:27.228Z"
   },
   {
    "duration": 7,
    "start_time": "2021-09-27T16:20:27.267Z"
   },
   {
    "duration": 15,
    "start_time": "2021-09-27T16:20:27.276Z"
   },
   {
    "duration": 23,
    "start_time": "2021-09-27T16:20:27.293Z"
   },
   {
    "duration": 18,
    "start_time": "2021-09-27T16:20:27.318Z"
   },
   {
    "duration": 498,
    "start_time": "2021-09-27T16:20:27.339Z"
   },
   {
    "duration": 48,
    "start_time": "2021-09-27T16:20:27.840Z"
   },
   {
    "duration": 20,
    "start_time": "2021-09-27T16:20:27.890Z"
   },
   {
    "duration": 3,
    "start_time": "2021-09-27T16:20:27.913Z"
   },
   {
    "duration": 16,
    "start_time": "2021-09-27T16:20:27.918Z"
   },
   {
    "duration": 60,
    "start_time": "2021-09-27T16:20:27.936Z"
   },
   {
    "duration": 28,
    "start_time": "2021-09-27T16:20:27.998Z"
   },
   {
    "duration": 43,
    "start_time": "2021-09-27T16:20:28.029Z"
   },
   {
    "duration": 10,
    "start_time": "2021-09-27T16:20:28.074Z"
   },
   {
    "duration": 29,
    "start_time": "2021-09-27T16:20:28.087Z"
   },
   {
    "duration": 55,
    "start_time": "2021-09-27T16:20:28.118Z"
   },
   {
    "duration": 1160,
    "start_time": "2021-09-27T16:20:28.175Z"
   },
   {
    "duration": 5,
    "start_time": "2021-09-27T16:20:29.338Z"
   },
   {
    "duration": 422,
    "start_time": "2021-09-27T16:20:29.346Z"
   },
   {
    "duration": 787,
    "start_time": "2021-09-27T16:20:29.771Z"
   },
   {
    "duration": 17,
    "start_time": "2021-09-27T16:20:30.560Z"
   },
   {
    "duration": 555,
    "start_time": "2021-09-27T16:20:30.579Z"
   },
   {
    "duration": -51,
    "start_time": "2021-09-27T16:20:31.187Z"
   },
   {
    "duration": -61,
    "start_time": "2021-09-27T16:20:31.198Z"
   },
   {
    "duration": -63,
    "start_time": "2021-09-27T16:20:31.202Z"
   },
   {
    "duration": -68,
    "start_time": "2021-09-27T16:20:31.208Z"
   },
   {
    "duration": -70,
    "start_time": "2021-09-27T16:20:31.212Z"
   },
   {
    "duration": -75,
    "start_time": "2021-09-27T16:20:31.218Z"
   },
   {
    "duration": -78,
    "start_time": "2021-09-27T16:20:31.222Z"
   },
   {
    "duration": -82,
    "start_time": "2021-09-27T16:20:31.228Z"
   },
   {
    "duration": -93,
    "start_time": "2021-09-27T16:20:31.241Z"
   },
   {
    "duration": 295,
    "start_time": "2021-09-27T16:21:03.849Z"
   },
   {
    "duration": 18,
    "start_time": "2021-09-27T16:21:16.181Z"
   },
   {
    "duration": 29,
    "start_time": "2021-09-27T16:21:26.274Z"
   },
   {
    "duration": 49,
    "start_time": "2021-09-27T16:21:36.345Z"
   },
   {
    "duration": 25,
    "start_time": "2021-09-27T16:22:19.709Z"
   },
   {
    "duration": 297,
    "start_time": "2021-09-27T16:22:41.093Z"
   },
   {
    "duration": 101,
    "start_time": "2021-09-27T16:23:54.457Z"
   },
   {
    "duration": 17,
    "start_time": "2021-09-27T16:23:56.773Z"
   },
   {
    "duration": 10,
    "start_time": "2021-09-27T16:24:07.757Z"
   },
   {
    "duration": 18,
    "start_time": "2021-09-27T16:24:20.382Z"
   },
   {
    "duration": 668,
    "start_time": "2021-09-27T16:24:35.645Z"
   },
   {
    "duration": 10,
    "start_time": "2021-09-27T16:24:49.261Z"
   },
   {
    "duration": 18,
    "start_time": "2021-09-27T16:25:34.714Z"
   },
   {
    "duration": 16,
    "start_time": "2021-09-27T16:26:28.317Z"
   },
   {
    "duration": 1281,
    "start_time": "2021-09-27T16:26:36.041Z"
   },
   {
    "duration": 15,
    "start_time": "2021-09-27T16:26:45.757Z"
   },
   {
    "duration": 2992,
    "start_time": "2021-09-27T16:26:49.721Z"
   },
   {
    "duration": 47,
    "start_time": "2021-09-27T16:30:51.749Z"
   },
   {
    "duration": 25,
    "start_time": "2021-09-27T16:30:57.382Z"
   },
   {
    "duration": 275,
    "start_time": "2021-09-27T16:34:16.317Z"
   },
   {
    "duration": 1016,
    "start_time": "2021-09-27T16:34:25.817Z"
   },
   {
    "duration": 4,
    "start_time": "2021-09-27T16:34:44.917Z"
   },
   {
    "duration": 136,
    "start_time": "2021-09-27T16:34:59.513Z"
   },
   {
    "duration": 28,
    "start_time": "2021-09-27T16:35:05.093Z"
   },
   {
    "duration": 142,
    "start_time": "2021-09-27T16:35:43.549Z"
   },
   {
    "duration": 25,
    "start_time": "2021-09-27T16:36:00.673Z"
   },
   {
    "duration": 28,
    "start_time": "2021-09-27T16:36:11.061Z"
   },
   {
    "duration": 135,
    "start_time": "2021-09-27T16:36:12.829Z"
   },
   {
    "duration": 141,
    "start_time": "2021-09-27T16:36:55.881Z"
   },
   {
    "duration": 1993,
    "start_time": "2021-09-27T16:39:13.889Z"
   },
   {
    "duration": 334,
    "start_time": "2021-09-27T16:39:25.973Z"
   },
   {
    "duration": 298,
    "start_time": "2021-09-27T16:40:08.209Z"
   },
   {
    "duration": 298,
    "start_time": "2021-09-27T16:40:23.777Z"
   },
   {
    "duration": 325,
    "start_time": "2021-09-27T16:41:21.165Z"
   },
   {
    "duration": 189,
    "start_time": "2021-09-27T16:41:24.478Z"
   },
   {
    "duration": 158,
    "start_time": "2021-09-27T16:41:57.954Z"
   },
   {
    "duration": 132,
    "start_time": "2021-09-27T16:42:26.889Z"
   },
   {
    "duration": 176,
    "start_time": "2021-09-27T16:42:38.029Z"
   },
   {
    "duration": 118,
    "start_time": "2021-09-27T16:42:47.909Z"
   },
   {
    "duration": 7,
    "start_time": "2021-09-27T16:43:13.001Z"
   },
   {
    "duration": 158,
    "start_time": "2021-09-27T16:43:15.581Z"
   },
   {
    "duration": 20,
    "start_time": "2021-09-27T16:44:03.057Z"
   },
   {
    "duration": 22,
    "start_time": "2021-09-27T16:44:12.481Z"
   },
   {
    "duration": 322,
    "start_time": "2021-09-27T16:45:02.253Z"
   },
   {
    "duration": 27,
    "start_time": "2021-09-27T16:45:08.517Z"
   },
   {
    "duration": 180,
    "start_time": "2021-09-27T16:47:35.201Z"
   },
   {
    "duration": 258,
    "start_time": "2021-09-27T16:49:26.677Z"
   },
   {
    "duration": 152,
    "start_time": "2021-09-27T16:49:33.913Z"
   },
   {
    "duration": 26,
    "start_time": "2021-09-27T16:51:53.997Z"
   },
   {
    "duration": 26,
    "start_time": "2021-09-27T16:52:27.165Z"
   },
   {
    "duration": 44,
    "start_time": "2021-09-27T16:54:29.589Z"
   },
   {
    "duration": 7653,
    "start_time": "2021-09-27T16:57:30.001Z"
   },
   {
    "duration": 7728,
    "start_time": "2021-09-27T16:58:03.661Z"
   },
   {
    "duration": 274,
    "start_time": "2021-09-27T16:58:44.521Z"
   },
   {
    "duration": 288,
    "start_time": "2021-09-27T16:58:56.084Z"
   },
   {
    "duration": 28,
    "start_time": "2021-09-27T16:59:09.928Z"
   },
   {
    "duration": 23,
    "start_time": "2021-09-27T16:59:32.077Z"
   },
   {
    "duration": 131,
    "start_time": "2021-09-27T17:00:10.920Z"
   },
   {
    "duration": 115,
    "start_time": "2021-09-27T17:00:23.845Z"
   },
   {
    "duration": 113,
    "start_time": "2021-09-27T17:00:57.233Z"
   },
   {
    "duration": 122,
    "start_time": "2021-09-27T17:01:05.361Z"
   },
   {
    "duration": 235,
    "start_time": "2021-09-27T17:01:29.125Z"
   },
   {
    "duration": 253,
    "start_time": "2021-09-27T17:01:44.252Z"
   },
   {
    "duration": 250,
    "start_time": "2021-09-27T17:02:11.492Z"
   },
   {
    "duration": 102,
    "start_time": "2021-09-27T17:02:13.381Z"
   },
   {
    "duration": 93,
    "start_time": "2021-09-27T17:03:03.333Z"
   },
   {
    "duration": 83,
    "start_time": "2021-09-27T17:06:21.781Z"
   },
   {
    "duration": 21,
    "start_time": "2021-09-27T17:06:32.928Z"
   },
   {
    "duration": 28,
    "start_time": "2021-09-27T17:08:59.884Z"
   },
   {
    "duration": 21,
    "start_time": "2021-09-27T17:10:33.165Z"
   },
   {
    "duration": 11,
    "start_time": "2021-09-27T17:10:44.116Z"
   },
   {
    "duration": 284,
    "start_time": "2021-09-27T17:13:03.988Z"
   },
   {
    "duration": 980,
    "start_time": "2021-09-27T17:13:21.455Z"
   },
   {
    "duration": 35,
    "start_time": "2021-09-27T17:14:13.292Z"
   },
   {
    "duration": 11,
    "start_time": "2021-09-27T17:14:22.828Z"
   },
   {
    "duration": 325,
    "start_time": "2021-09-27T17:14:26.288Z"
   },
   {
    "duration": 297,
    "start_time": "2021-09-27T17:14:34.668Z"
   },
   {
    "duration": 263,
    "start_time": "2021-09-27T17:14:51.420Z"
   },
   {
    "duration": 48,
    "start_time": "2021-09-27T17:15:38.709Z"
   },
   {
    "duration": 30,
    "start_time": "2021-09-27T17:16:04.584Z"
   },
   {
    "duration": 26,
    "start_time": "2021-09-27T17:16:07.225Z"
   },
   {
    "duration": 284,
    "start_time": "2021-09-27T17:16:30.984Z"
   },
   {
    "duration": 305,
    "start_time": "2021-09-27T17:16:34.112Z"
   },
   {
    "duration": 303,
    "start_time": "2021-09-27T17:16:41.576Z"
   },
   {
    "duration": 319,
    "start_time": "2021-09-27T17:17:10.564Z"
   },
   {
    "duration": 271,
    "start_time": "2021-09-27T17:17:26.452Z"
   },
   {
    "duration": 9,
    "start_time": "2021-09-27T17:17:31.924Z"
   },
   {
    "duration": 26,
    "start_time": "2021-09-27T17:17:41.060Z"
   },
   {
    "duration": 28,
    "start_time": "2021-09-27T17:17:59.516Z"
   },
   {
    "duration": 11,
    "start_time": "2021-09-27T17:18:04.108Z"
   },
   {
    "duration": 31,
    "start_time": "2021-09-27T17:18:24.012Z"
   },
   {
    "duration": 26,
    "start_time": "2021-09-27T17:18:32.580Z"
   },
   {
    "duration": 15,
    "start_time": "2021-09-27T17:18:37.700Z"
   },
   {
    "duration": 321,
    "start_time": "2021-09-27T17:18:46.321Z"
   },
   {
    "duration": 44,
    "start_time": "2021-09-27T17:19:07.128Z"
   },
   {
    "duration": 36,
    "start_time": "2021-09-27T17:19:14.476Z"
   },
   {
    "duration": 31,
    "start_time": "2021-09-27T17:20:10.208Z"
   },
   {
    "duration": 12,
    "start_time": "2021-09-27T17:20:13.408Z"
   },
   {
    "duration": 30,
    "start_time": "2021-09-27T17:20:49.412Z"
   },
   {
    "duration": 38,
    "start_time": "2021-09-27T17:21:08.149Z"
   },
   {
    "duration": 1869,
    "start_time": "2021-09-27T19:24:41.095Z"
   },
   {
    "duration": 1434,
    "start_time": "2021-09-27T19:24:42.968Z"
   },
   {
    "duration": 16,
    "start_time": "2021-09-27T19:24:44.405Z"
   },
   {
    "duration": 89,
    "start_time": "2021-09-27T19:24:44.424Z"
   },
   {
    "duration": 451,
    "start_time": "2021-09-27T19:24:44.516Z"
   },
   {
    "duration": 418,
    "start_time": "2021-09-27T19:24:44.970Z"
   },
   {
    "duration": 6,
    "start_time": "2021-09-27T19:24:45.391Z"
   },
   {
    "duration": 4,
    "start_time": "2021-09-27T19:24:45.401Z"
   },
   {
    "duration": 123,
    "start_time": "2021-09-27T19:24:45.427Z"
   },
   {
    "duration": 42,
    "start_time": "2021-09-27T19:24:45.553Z"
   },
   {
    "duration": 28,
    "start_time": "2021-09-27T19:24:45.598Z"
   },
   {
    "duration": 32,
    "start_time": "2021-09-27T19:24:45.628Z"
   },
   {
    "duration": 13,
    "start_time": "2021-09-27T19:24:45.662Z"
   },
   {
    "duration": 10,
    "start_time": "2021-09-27T19:24:45.678Z"
   },
   {
    "duration": 29,
    "start_time": "2021-09-27T19:24:45.733Z"
   },
   {
    "duration": 28,
    "start_time": "2021-09-27T19:24:45.766Z"
   },
   {
    "duration": 31,
    "start_time": "2021-09-27T19:24:45.797Z"
   },
   {
    "duration": 6,
    "start_time": "2021-09-27T19:24:45.831Z"
   },
   {
    "duration": 5,
    "start_time": "2021-09-27T19:24:45.839Z"
   },
   {
    "duration": 23,
    "start_time": "2021-09-27T19:24:45.846Z"
   },
   {
    "duration": 8,
    "start_time": "2021-09-27T19:24:45.871Z"
   },
   {
    "duration": 60,
    "start_time": "2021-09-27T19:24:45.881Z"
   },
   {
    "duration": 11,
    "start_time": "2021-09-27T19:24:45.951Z"
   },
   {
    "duration": 7,
    "start_time": "2021-09-27T19:24:45.966Z"
   },
   {
    "duration": 54,
    "start_time": "2021-09-27T19:24:45.976Z"
   },
   {
    "duration": 8,
    "start_time": "2021-09-27T19:24:46.034Z"
   },
   {
    "duration": 18,
    "start_time": "2021-09-27T19:24:46.051Z"
   },
   {
    "duration": 9,
    "start_time": "2021-09-27T19:24:46.073Z"
   },
   {
    "duration": 6,
    "start_time": "2021-09-27T19:24:46.085Z"
   },
   {
    "duration": 876,
    "start_time": "2021-09-27T19:24:46.129Z"
   },
   {
    "duration": 542,
    "start_time": "2021-09-27T19:24:47.008Z"
   },
   {
    "duration": 36,
    "start_time": "2021-09-27T19:24:47.553Z"
   },
   {
    "duration": 620,
    "start_time": "2021-09-27T19:24:47.592Z"
   },
   {
    "duration": 10,
    "start_time": "2021-09-27T19:24:48.214Z"
   },
   {
    "duration": 619,
    "start_time": "2021-09-27T19:24:48.228Z"
   },
   {
    "duration": 7,
    "start_time": "2021-09-27T19:24:48.853Z"
   },
   {
    "duration": 671,
    "start_time": "2021-09-27T19:24:48.863Z"
   },
   {
    "duration": 6,
    "start_time": "2021-09-27T19:24:49.537Z"
   },
   {
    "duration": 969,
    "start_time": "2021-09-27T19:24:49.547Z"
   },
   {
    "duration": 173,
    "start_time": "2021-09-27T19:24:50.524Z"
   },
   {
    "duration": 691,
    "start_time": "2021-09-27T19:24:50.700Z"
   },
   {
    "duration": 55,
    "start_time": "2021-09-27T19:24:51.394Z"
   },
   {
    "duration": 50,
    "start_time": "2021-09-27T19:24:51.452Z"
   },
   {
    "duration": 46,
    "start_time": "2021-09-27T19:24:51.522Z"
   },
   {
    "duration": 509,
    "start_time": "2021-09-27T19:24:51.570Z"
   },
   {
    "duration": 133,
    "start_time": "2021-09-27T19:24:52.082Z"
   },
   {
    "duration": 352,
    "start_time": "2021-09-27T19:24:52.222Z"
   },
   {
    "duration": 128,
    "start_time": "2021-09-27T19:24:52.577Z"
   },
   {
    "duration": 21,
    "start_time": "2021-09-27T19:24:52.708Z"
   },
   {
    "duration": 297,
    "start_time": "2021-09-27T19:24:52.731Z"
   },
   {
    "duration": 54,
    "start_time": "2021-09-27T19:24:53.031Z"
   },
   {
    "duration": 1368,
    "start_time": "2021-09-27T19:24:53.087Z"
   },
   {
    "duration": 234,
    "start_time": "2021-09-27T19:24:54.459Z"
   },
   {
    "duration": 36,
    "start_time": "2021-09-27T19:24:54.696Z"
   },
   {
    "duration": 18,
    "start_time": "2021-09-27T19:24:54.735Z"
   },
   {
    "duration": 12,
    "start_time": "2021-09-27T19:24:54.756Z"
   },
   {
    "duration": 624,
    "start_time": "2021-09-27T19:24:54.770Z"
   },
   {
    "duration": 48,
    "start_time": "2021-09-27T19:24:55.396Z"
   },
   {
    "duration": 26,
    "start_time": "2021-09-27T19:24:55.447Z"
   },
   {
    "duration": 18,
    "start_time": "2021-09-27T19:24:55.475Z"
   },
   {
    "duration": 42,
    "start_time": "2021-09-27T19:24:55.522Z"
   },
   {
    "duration": 57,
    "start_time": "2021-09-27T19:24:55.567Z"
   },
   {
    "duration": 22,
    "start_time": "2021-09-27T19:24:55.627Z"
   },
   {
    "duration": 29,
    "start_time": "2021-09-27T19:24:55.652Z"
   },
   {
    "duration": 47,
    "start_time": "2021-09-27T19:24:55.683Z"
   },
   {
    "duration": 52,
    "start_time": "2021-09-27T19:24:55.733Z"
   },
   {
    "duration": 1360,
    "start_time": "2021-09-27T19:24:55.788Z"
   },
   {
    "duration": 8,
    "start_time": "2021-09-27T19:24:57.159Z"
   },
   {
    "duration": 33,
    "start_time": "2021-09-27T19:24:57.172Z"
   },
   {
    "duration": 15,
    "start_time": "2021-09-27T19:24:57.207Z"
   },
   {
    "duration": 21,
    "start_time": "2021-09-27T19:24:57.225Z"
   },
   {
    "duration": 28,
    "start_time": "2021-09-27T19:24:57.249Z"
   },
   {
    "duration": 45,
    "start_time": "2021-09-27T19:24:57.280Z"
   },
   {
    "duration": 579,
    "start_time": "2021-09-27T19:24:57.328Z"
   },
   {
    "duration": 51,
    "start_time": "2021-09-27T19:24:57.909Z"
   },
   {
    "duration": 20,
    "start_time": "2021-09-27T19:24:57.962Z"
   },
   {
    "duration": 3,
    "start_time": "2021-09-27T19:24:57.985Z"
   },
   {
    "duration": 41,
    "start_time": "2021-09-27T19:24:57.991Z"
   },
   {
    "duration": 41,
    "start_time": "2021-09-27T19:24:58.035Z"
   },
   {
    "duration": 84,
    "start_time": "2021-09-27T19:24:58.079Z"
   },
   {
    "duration": 18,
    "start_time": "2021-09-27T19:24:58.165Z"
   },
   {
    "duration": 10,
    "start_time": "2021-09-27T19:24:58.186Z"
   },
   {
    "duration": 50,
    "start_time": "2021-09-27T19:24:58.199Z"
   },
   {
    "duration": 42,
    "start_time": "2021-09-27T19:24:58.252Z"
   },
   {
    "duration": 1267,
    "start_time": "2021-09-27T19:24:58.296Z"
   },
   {
    "duration": 5,
    "start_time": "2021-09-27T19:24:59.566Z"
   },
   {
    "duration": 437,
    "start_time": "2021-09-27T19:24:59.573Z"
   },
   {
    "duration": 898,
    "start_time": "2021-09-27T19:25:00.012Z"
   },
   {
    "duration": 21,
    "start_time": "2021-09-27T19:25:00.913Z"
   },
   {
    "duration": 73,
    "start_time": "2021-09-27T19:25:00.938Z"
   },
   {
    "duration": 313,
    "start_time": "2021-09-27T19:25:01.014Z"
   },
   {
    "duration": 118,
    "start_time": "2021-09-27T19:25:01.333Z"
   },
   {
    "duration": 30,
    "start_time": "2021-09-27T19:25:01.454Z"
   },
   {
    "duration": 38,
    "start_time": "2021-09-27T19:25:01.487Z"
   },
   {
    "duration": 465,
    "start_time": "2021-09-27T19:25:01.528Z"
   },
   {
    "duration": -49,
    "start_time": "2021-09-27T19:25:02.045Z"
   },
   {
    "duration": -57,
    "start_time": "2021-09-27T19:25:02.054Z"
   },
   {
    "duration": -63,
    "start_time": "2021-09-27T19:25:02.062Z"
   },
   {
    "duration": -67,
    "start_time": "2021-09-27T19:25:02.067Z"
   },
   {
    "duration": -72,
    "start_time": "2021-09-27T19:25:02.074Z"
   },
   {
    "duration": -77,
    "start_time": "2021-09-27T19:25:02.080Z"
   },
   {
    "duration": -81,
    "start_time": "2021-09-27T19:25:02.086Z"
   },
   {
    "duration": -85,
    "start_time": "2021-09-27T19:25:02.092Z"
   },
   {
    "duration": 28,
    "start_time": "2021-09-27T19:25:37.208Z"
   },
   {
    "duration": 27,
    "start_time": "2021-09-27T19:25:57.804Z"
   },
   {
    "duration": 719,
    "start_time": "2021-09-27T19:31:11.464Z"
   },
   {
    "duration": 4,
    "start_time": "2021-09-27T19:31:12.182Z"
   },
   {
    "duration": -6,
    "start_time": "2021-09-27T19:31:12.193Z"
   },
   {
    "duration": 25,
    "start_time": "2021-09-27T19:31:12.295Z"
   },
   {
    "duration": 11,
    "start_time": "2021-09-27T19:31:12.984Z"
   },
   {
    "duration": 325,
    "start_time": "2021-09-27T19:31:14.063Z"
   },
   {
    "duration": 84,
    "start_time": "2021-09-27T19:31:28.068Z"
   },
   {
    "duration": 27,
    "start_time": "2021-09-27T19:31:31.979Z"
   },
   {
    "duration": 11,
    "start_time": "2021-09-27T19:31:32.591Z"
   },
   {
    "duration": 768,
    "start_time": "2021-09-27T19:31:33.272Z"
   },
   {
    "duration": 316,
    "start_time": "2021-09-27T19:32:49.532Z"
   },
   {
    "duration": 800,
    "start_time": "2021-09-27T19:33:19.568Z"
   },
   {
    "duration": 38,
    "start_time": "2021-09-27T19:33:26.115Z"
   },
   {
    "duration": 239,
    "start_time": "2021-09-27T19:33:27.240Z"
   },
   {
    "duration": 101,
    "start_time": "2021-09-27T19:33:27.659Z"
   },
   {
    "duration": 38,
    "start_time": "2021-09-27T19:33:28.319Z"
   },
   {
    "duration": 11,
    "start_time": "2021-09-27T19:33:29.103Z"
   },
   {
    "duration": 303,
    "start_time": "2021-09-27T19:33:30.109Z"
   },
   {
    "duration": 30,
    "start_time": "2021-09-27T19:34:43.207Z"
   },
   {
    "duration": 229,
    "start_time": "2021-09-27T19:34:43.463Z"
   },
   {
    "duration": 95,
    "start_time": "2021-09-27T19:34:43.694Z"
   },
   {
    "duration": 25,
    "start_time": "2021-09-27T19:34:43.959Z"
   },
   {
    "duration": 11,
    "start_time": "2021-09-27T19:34:44.160Z"
   },
   {
    "duration": 299,
    "start_time": "2021-09-27T19:34:44.295Z"
   },
   {
    "duration": 32,
    "start_time": "2021-09-27T19:34:54.695Z"
   },
   {
    "duration": 23,
    "start_time": "2021-09-27T19:35:15.887Z"
   },
   {
    "duration": 21,
    "start_time": "2021-09-27T19:35:39.803Z"
   },
   {
    "duration": 379,
    "start_time": "2021-09-27T19:39:08.519Z"
   },
   {
    "duration": 306,
    "start_time": "2021-09-27T19:39:17.884Z"
   },
   {
    "duration": 260,
    "start_time": "2021-09-27T19:39:36.515Z"
   },
   {
    "duration": 312,
    "start_time": "2021-09-27T19:39:43.995Z"
   },
   {
    "duration": 22,
    "start_time": "2021-09-27T19:39:56.287Z"
   },
   {
    "duration": 1114,
    "start_time": "2021-09-27T19:40:58.744Z"
   },
   {
    "duration": 774,
    "start_time": "2021-09-27T19:41:05.495Z"
   },
   {
    "duration": 14,
    "start_time": "2021-09-27T19:41:31.087Z"
   },
   {
    "duration": 26,
    "start_time": "2021-09-27T19:42:23.339Z"
   },
   {
    "duration": 30,
    "start_time": "2021-09-27T19:42:54.307Z"
   },
   {
    "duration": 28,
    "start_time": "2021-09-27T19:43:09.586Z"
   },
   {
    "duration": 20,
    "start_time": "2021-09-27T19:43:15.291Z"
   },
   {
    "duration": 17,
    "start_time": "2021-09-27T19:44:07.856Z"
   },
   {
    "duration": 96,
    "start_time": "2021-09-27T19:45:37.771Z"
   },
   {
    "duration": 13,
    "start_time": "2021-09-27T19:46:53.579Z"
   },
   {
    "duration": 1556,
    "start_time": "2021-09-27T20:19:40.903Z"
   },
   {
    "duration": 1096,
    "start_time": "2021-09-27T20:19:42.462Z"
   },
   {
    "duration": 16,
    "start_time": "2021-09-27T20:19:43.561Z"
   },
   {
    "duration": 92,
    "start_time": "2021-09-27T20:19:43.580Z"
   },
   {
    "duration": 361,
    "start_time": "2021-09-27T20:19:43.674Z"
   },
   {
    "duration": 235,
    "start_time": "2021-09-27T20:19:44.037Z"
   },
   {
    "duration": 6,
    "start_time": "2021-09-27T20:19:44.274Z"
   },
   {
    "duration": 7,
    "start_time": "2021-09-27T20:19:44.287Z"
   },
   {
    "duration": 112,
    "start_time": "2021-09-27T20:19:44.297Z"
   },
   {
    "duration": 38,
    "start_time": "2021-09-27T20:19:44.412Z"
   },
   {
    "duration": 9,
    "start_time": "2021-09-27T20:19:44.453Z"
   },
   {
    "duration": 35,
    "start_time": "2021-09-27T20:19:44.465Z"
   },
   {
    "duration": 29,
    "start_time": "2021-09-27T20:19:44.503Z"
   },
   {
    "duration": 13,
    "start_time": "2021-09-27T20:19:44.535Z"
   },
   {
    "duration": 20,
    "start_time": "2021-09-27T20:19:44.551Z"
   },
   {
    "duration": 60,
    "start_time": "2021-09-27T20:19:44.574Z"
   },
   {
    "duration": 17,
    "start_time": "2021-09-27T20:19:44.637Z"
   },
   {
    "duration": 8,
    "start_time": "2021-09-27T20:19:44.657Z"
   },
   {
    "duration": 3,
    "start_time": "2021-09-27T20:19:44.668Z"
   },
   {
    "duration": 17,
    "start_time": "2021-09-27T20:19:44.674Z"
   },
   {
    "duration": 9,
    "start_time": "2021-09-27T20:19:44.723Z"
   },
   {
    "duration": 10,
    "start_time": "2021-09-27T20:19:44.735Z"
   },
   {
    "duration": 11,
    "start_time": "2021-09-27T20:19:44.751Z"
   },
   {
    "duration": 9,
    "start_time": "2021-09-27T20:19:44.768Z"
   },
   {
    "duration": 7,
    "start_time": "2021-09-27T20:19:44.823Z"
   },
   {
    "duration": 10,
    "start_time": "2021-09-27T20:19:44.833Z"
   },
   {
    "duration": 11,
    "start_time": "2021-09-27T20:19:44.845Z"
   },
   {
    "duration": 9,
    "start_time": "2021-09-27T20:19:44.858Z"
   },
   {
    "duration": 8,
    "start_time": "2021-09-27T20:19:44.870Z"
   },
   {
    "duration": 569,
    "start_time": "2021-09-27T20:19:44.922Z"
   },
   {
    "duration": 392,
    "start_time": "2021-09-27T20:19:45.493Z"
   },
   {
    "duration": 13,
    "start_time": "2021-09-27T20:19:45.887Z"
   },
   {
    "duration": 542,
    "start_time": "2021-09-27T20:19:45.902Z"
   },
   {
    "duration": 4,
    "start_time": "2021-09-27T20:19:46.447Z"
   },
   {
    "duration": 513,
    "start_time": "2021-09-27T20:19:46.453Z"
   },
   {
    "duration": 4,
    "start_time": "2021-09-27T20:19:46.969Z"
   },
   {
    "duration": 487,
    "start_time": "2021-09-27T20:19:46.975Z"
   },
   {
    "duration": 4,
    "start_time": "2021-09-27T20:19:47.465Z"
   },
   {
    "duration": 854,
    "start_time": "2021-09-27T20:19:47.472Z"
   },
   {
    "duration": 144,
    "start_time": "2021-09-27T20:19:48.328Z"
   },
   {
    "duration": 510,
    "start_time": "2021-09-27T20:19:48.474Z"
   },
   {
    "duration": 46,
    "start_time": "2021-09-27T20:19:48.986Z"
   },
   {
    "duration": 46,
    "start_time": "2021-09-27T20:19:49.035Z"
   },
   {
    "duration": 54,
    "start_time": "2021-09-27T20:19:49.084Z"
   },
   {
    "duration": 454,
    "start_time": "2021-09-27T20:19:49.140Z"
   },
   {
    "duration": 123,
    "start_time": "2021-09-27T20:19:49.596Z"
   },
   {
    "duration": 315,
    "start_time": "2021-09-27T20:19:49.723Z"
   },
   {
    "duration": 119,
    "start_time": "2021-09-27T20:19:50.040Z"
   },
   {
    "duration": 14,
    "start_time": "2021-09-27T20:19:50.161Z"
   },
   {
    "duration": 258,
    "start_time": "2021-09-27T20:19:50.178Z"
   },
   {
    "duration": 53,
    "start_time": "2021-09-27T20:19:50.439Z"
   },
   {
    "duration": 1196,
    "start_time": "2021-09-27T20:19:50.495Z"
   },
   {
    "duration": 222,
    "start_time": "2021-09-27T20:19:51.694Z"
   },
   {
    "duration": 16,
    "start_time": "2021-09-27T20:19:51.922Z"
   },
   {
    "duration": 19,
    "start_time": "2021-09-27T20:19:51.940Z"
   },
   {
    "duration": 24,
    "start_time": "2021-09-27T20:19:51.961Z"
   },
   {
    "duration": 547,
    "start_time": "2021-09-27T20:19:51.987Z"
   },
   {
    "duration": 25,
    "start_time": "2021-09-27T20:19:52.536Z"
   },
   {
    "duration": 45,
    "start_time": "2021-09-27T20:19:52.563Z"
   },
   {
    "duration": 23,
    "start_time": "2021-09-27T20:19:52.610Z"
   },
   {
    "duration": 38,
    "start_time": "2021-09-27T20:19:52.635Z"
   },
   {
    "duration": 51,
    "start_time": "2021-09-27T20:19:52.675Z"
   },
   {
    "duration": 21,
    "start_time": "2021-09-27T20:19:52.729Z"
   },
   {
    "duration": 33,
    "start_time": "2021-09-27T20:19:52.753Z"
   },
   {
    "duration": 60,
    "start_time": "2021-09-27T20:19:52.789Z"
   },
   {
    "duration": 54,
    "start_time": "2021-09-27T20:19:52.852Z"
   },
   {
    "duration": 1174,
    "start_time": "2021-09-27T20:19:52.908Z"
   },
   {
    "duration": 7,
    "start_time": "2021-09-27T20:19:54.090Z"
   },
   {
    "duration": 23,
    "start_time": "2021-09-27T20:19:54.101Z"
   },
   {
    "duration": 13,
    "start_time": "2021-09-27T20:19:54.126Z"
   },
   {
    "duration": 24,
    "start_time": "2021-09-27T20:19:54.142Z"
   },
   {
    "duration": 31,
    "start_time": "2021-09-27T20:19:54.169Z"
   },
   {
    "duration": 40,
    "start_time": "2021-09-27T20:19:54.203Z"
   },
   {
    "duration": 479,
    "start_time": "2021-09-27T20:19:54.246Z"
   },
   {
    "duration": 33,
    "start_time": "2021-09-27T20:19:54.728Z"
   },
   {
    "duration": 19,
    "start_time": "2021-09-27T20:19:54.764Z"
   },
   {
    "duration": 3,
    "start_time": "2021-09-27T20:19:54.786Z"
   },
   {
    "duration": 10,
    "start_time": "2021-09-27T20:19:54.823Z"
   },
   {
    "duration": 49,
    "start_time": "2021-09-27T20:19:54.835Z"
   },
   {
    "duration": 38,
    "start_time": "2021-09-27T20:19:54.886Z"
   },
   {
    "duration": 18,
    "start_time": "2021-09-27T20:19:54.927Z"
   },
   {
    "duration": 17,
    "start_time": "2021-09-27T20:19:54.947Z"
   },
   {
    "duration": 23,
    "start_time": "2021-09-27T20:19:54.966Z"
   },
   {
    "duration": 58,
    "start_time": "2021-09-27T20:19:54.991Z"
   },
   {
    "duration": 1172,
    "start_time": "2021-09-27T20:19:55.051Z"
   },
   {
    "duration": 6,
    "start_time": "2021-09-27T20:19:56.225Z"
   },
   {
    "duration": 365,
    "start_time": "2021-09-27T20:19:56.233Z"
   },
   {
    "duration": 838,
    "start_time": "2021-09-27T20:19:56.600Z"
   },
   {
    "duration": 12,
    "start_time": "2021-09-27T20:19:57.440Z"
   },
   {
    "duration": 35,
    "start_time": "2021-09-27T20:19:57.454Z"
   },
   {
    "duration": 239,
    "start_time": "2021-09-27T20:19:57.491Z"
   },
   {
    "duration": 103,
    "start_time": "2021-09-27T20:19:57.732Z"
   },
   {
    "duration": 406,
    "start_time": "2021-09-27T20:19:57.838Z"
   },
   {
    "duration": -89,
    "start_time": "2021-09-27T20:19:58.335Z"
   },
   {
    "duration": -95,
    "start_time": "2021-09-27T20:19:58.343Z"
   },
   {
    "duration": -101,
    "start_time": "2021-09-27T20:19:58.351Z"
   },
   {
    "duration": -109,
    "start_time": "2021-09-27T20:19:58.361Z"
   },
   {
    "duration": -115,
    "start_time": "2021-09-27T20:19:58.368Z"
   },
   {
    "duration": -119,
    "start_time": "2021-09-27T20:19:58.374Z"
   },
   {
    "duration": -127,
    "start_time": "2021-09-27T20:19:58.383Z"
   },
   {
    "duration": 76,
    "start_time": "2021-09-27T20:28:03.740Z"
   },
   {
    "duration": 81,
    "start_time": "2021-09-27T20:28:11.863Z"
   },
   {
    "duration": 715,
    "start_time": "2021-09-27T20:30:49.907Z"
   },
   {
    "duration": 217,
    "start_time": "2021-09-27T20:31:57.134Z"
   },
   {
    "duration": 77,
    "start_time": "2021-09-27T20:31:58.071Z"
   },
   {
    "duration": 26,
    "start_time": "2021-09-27T20:33:29.666Z"
   },
   {
    "duration": 232,
    "start_time": "2021-09-27T20:33:30.575Z"
   },
   {
    "duration": 82,
    "start_time": "2021-09-27T20:33:31.727Z"
   },
   {
    "duration": 18,
    "start_time": "2021-09-27T20:35:08.146Z"
   },
   {
    "duration": 15,
    "start_time": "2021-09-27T20:35:25.710Z"
   },
   {
    "duration": 2638,
    "start_time": "2021-09-27T20:37:21.450Z"
   },
   {
    "duration": 399,
    "start_time": "2021-09-27T20:38:09.558Z"
   },
   {
    "duration": 281,
    "start_time": "2021-09-27T20:38:20.542Z"
   },
   {
    "duration": 396,
    "start_time": "2021-09-27T20:38:30.482Z"
   },
   {
    "duration": 29,
    "start_time": "2021-09-27T20:38:48.306Z"
   },
   {
    "duration": 301,
    "start_time": "2021-09-27T20:38:58.362Z"
   },
   {
    "duration": 296,
    "start_time": "2021-09-27T20:39:02.438Z"
   },
   {
    "duration": 303,
    "start_time": "2021-09-27T20:39:07.978Z"
   },
   {
    "duration": 23,
    "start_time": "2021-09-27T20:39:21.610Z"
   },
   {
    "duration": 26,
    "start_time": "2021-09-27T20:39:34.306Z"
   },
   {
    "duration": 22,
    "start_time": "2021-09-27T20:39:48.090Z"
   },
   {
    "duration": 25,
    "start_time": "2021-09-27T20:40:57.478Z"
   },
   {
    "duration": 29,
    "start_time": "2021-09-27T20:41:16.046Z"
   },
   {
    "duration": 24,
    "start_time": "2021-09-27T20:41:31.754Z"
   },
   {
    "duration": 19,
    "start_time": "2021-09-27T20:43:01.570Z"
   },
   {
    "duration": 12,
    "start_time": "2021-09-27T20:43:07.712Z"
   },
   {
    "duration": 182,
    "start_time": "2021-09-27T20:45:03.549Z"
   },
   {
    "duration": 160,
    "start_time": "2021-09-27T20:45:35.041Z"
   },
   {
    "duration": 148,
    "start_time": "2021-09-27T20:47:41.257Z"
   },
   {
    "duration": 142,
    "start_time": "2021-09-27T20:59:06.279Z"
   },
   {
    "duration": 149,
    "start_time": "2021-09-27T20:59:13.196Z"
   },
   {
    "duration": 183,
    "start_time": "2021-09-27T20:59:23.407Z"
   },
   {
    "duration": 195,
    "start_time": "2021-09-27T20:59:32.791Z"
   },
   {
    "duration": 142,
    "start_time": "2021-09-27T20:59:47.891Z"
   },
   {
    "duration": 141,
    "start_time": "2021-09-27T21:00:08.100Z"
   },
   {
    "duration": 144,
    "start_time": "2021-09-27T21:00:14.048Z"
   },
   {
    "duration": 12,
    "start_time": "2021-09-27T21:00:54.387Z"
   },
   {
    "duration": 152,
    "start_time": "2021-09-27T21:01:29.919Z"
   },
   {
    "duration": 140,
    "start_time": "2021-09-27T21:01:35.487Z"
   },
   {
    "duration": 138,
    "start_time": "2021-09-27T21:01:46.927Z"
   },
   {
    "duration": 24,
    "start_time": "2021-09-27T21:02:21.127Z"
   },
   {
    "duration": 24,
    "start_time": "2021-09-27T21:02:29.019Z"
   },
   {
    "duration": 202,
    "start_time": "2021-09-27T21:03:27.651Z"
   },
   {
    "duration": 23,
    "start_time": "2021-09-27T21:04:37.289Z"
   },
   {
    "duration": 27,
    "start_time": "2021-09-27T21:04:47.815Z"
   },
   {
    "duration": 27,
    "start_time": "2021-09-27T21:04:59.251Z"
   },
   {
    "duration": 29,
    "start_time": "2021-09-27T21:05:04.158Z"
   },
   {
    "duration": 27,
    "start_time": "2021-09-27T21:05:15.639Z"
   },
   {
    "duration": 28,
    "start_time": "2021-09-27T21:05:22.187Z"
   },
   {
    "duration": 34,
    "start_time": "2021-09-27T21:05:46.207Z"
   },
   {
    "duration": 30,
    "start_time": "2021-09-27T21:05:52.918Z"
   },
   {
    "duration": 12,
    "start_time": "2021-09-27T21:06:00.042Z"
   },
   {
    "duration": 281,
    "start_time": "2021-09-27T21:06:06.023Z"
   },
   {
    "duration": 8862,
    "start_time": "2021-09-27T21:09:13.282Z"
   },
   {
    "duration": 242,
    "start_time": "2021-09-27T21:09:46.754Z"
   },
   {
    "duration": 15,
    "start_time": "2021-09-27T21:11:11.882Z"
   },
   {
    "duration": 107,
    "start_time": "2021-09-27T21:18:10.058Z"
   },
   {
    "duration": 10,
    "start_time": "2021-09-27T21:19:30.326Z"
   },
   {
    "duration": 96,
    "start_time": "2021-09-27T21:19:36.689Z"
   },
   {
    "duration": 101,
    "start_time": "2021-09-27T21:24:44.881Z"
   },
   {
    "duration": 108,
    "start_time": "2021-09-27T21:25:05.973Z"
   },
   {
    "duration": 90,
    "start_time": "2021-09-27T21:25:19.537Z"
   },
   {
    "duration": 163,
    "start_time": "2021-09-27T21:25:28.633Z"
   },
   {
    "duration": 133,
    "start_time": "2021-09-27T21:26:29.549Z"
   },
   {
    "duration": 21,
    "start_time": "2021-09-27T21:27:44.445Z"
   },
   {
    "duration": 25,
    "start_time": "2021-09-27T21:33:02.781Z"
   },
   {
    "duration": 24,
    "start_time": "2021-09-27T21:33:59.456Z"
   },
   {
    "duration": 309,
    "start_time": "2021-09-27T21:35:32.832Z"
   },
   {
    "duration": 304,
    "start_time": "2021-09-27T21:35:50.188Z"
   },
   {
    "duration": 288,
    "start_time": "2021-09-27T21:36:01.692Z"
   },
   {
    "duration": 310,
    "start_time": "2021-09-27T21:37:22.052Z"
   },
   {
    "duration": 280,
    "start_time": "2021-09-27T21:37:59.621Z"
   },
   {
    "duration": 273,
    "start_time": "2021-09-27T21:38:03.820Z"
   },
   {
    "duration": 276,
    "start_time": "2021-09-27T21:40:45.444Z"
   },
   {
    "duration": 414,
    "start_time": "2021-09-27T21:42:05.872Z"
   },
   {
    "duration": 846,
    "start_time": "2021-09-27T21:42:11.544Z"
   },
   {
    "duration": 14,
    "start_time": "2021-09-27T21:42:22.976Z"
   },
   {
    "duration": 11,
    "start_time": "2021-09-27T21:44:49.755Z"
   },
   {
    "duration": 15,
    "start_time": "2021-09-27T21:44:56.719Z"
   },
   {
    "duration": 8860,
    "start_time": "2021-09-27T21:50:59.559Z"
   },
   {
    "duration": 63,
    "start_time": "2021-09-27T21:51:27.051Z"
   },
   {
    "duration": 201,
    "start_time": "2021-09-27T21:51:59.143Z"
   },
   {
    "duration": 83,
    "start_time": "2021-09-27T21:53:17.091Z"
   },
   {
    "duration": 23,
    "start_time": "2021-09-27T21:55:50.643Z"
   },
   {
    "duration": 14,
    "start_time": "2021-09-27T21:55:51.859Z"
   },
   {
    "duration": 1143,
    "start_time": "2021-09-27T21:58:19.655Z"
   },
   {
    "duration": 22,
    "start_time": "2021-09-27T21:58:29.219Z"
   },
   {
    "duration": 374,
    "start_time": "2021-09-27T21:59:05.551Z"
   },
   {
    "duration": 20,
    "start_time": "2021-09-27T21:59:32.059Z"
   },
   {
    "duration": 21,
    "start_time": "2021-09-27T21:59:37.043Z"
   },
   {
    "duration": 13,
    "start_time": "2021-09-27T21:59:45.275Z"
   },
   {
    "duration": 24,
    "start_time": "2021-09-27T22:00:28.226Z"
   },
   {
    "duration": 57,
    "start_time": "2021-09-27T22:00:32.612Z"
   },
   {
    "duration": 23,
    "start_time": "2021-09-27T22:00:55.655Z"
   },
   {
    "duration": 7918,
    "start_time": "2021-09-27T22:04:58.934Z"
   },
   {
    "duration": 289,
    "start_time": "2021-09-27T22:06:14.990Z"
   },
   {
    "duration": 317,
    "start_time": "2021-09-27T22:06:29.238Z"
   },
   {
    "duration": 342,
    "start_time": "2021-09-27T22:06:36.098Z"
   },
   {
    "duration": 341,
    "start_time": "2021-09-27T22:08:13.170Z"
   },
   {
    "duration": 9213,
    "start_time": "2021-09-27T22:12:49.830Z"
   },
   {
    "duration": 7088,
    "start_time": "2021-09-27T22:13:00.878Z"
   },
   {
    "duration": 8437,
    "start_time": "2021-09-27T22:13:29.166Z"
   },
   {
    "duration": 9,
    "start_time": "2021-09-27T22:13:39.597Z"
   },
   {
    "duration": 10,
    "start_time": "2021-09-27T22:13:41.109Z"
   },
   {
    "duration": 96,
    "start_time": "2021-09-27T22:13:54.146Z"
   },
   {
    "duration": 101,
    "start_time": "2021-09-27T22:14:02.833Z"
   },
   {
    "duration": 10,
    "start_time": "2021-09-27T22:14:04.345Z"
   },
   {
    "duration": 96,
    "start_time": "2021-09-27T22:14:17.038Z"
   },
   {
    "duration": 1879,
    "start_time": "2021-09-27T22:14:21.777Z"
   },
   {
    "duration": 8,
    "start_time": "2021-09-27T22:14:28.294Z"
   },
   {
    "duration": 10,
    "start_time": "2021-09-27T22:14:29.221Z"
   },
   {
    "duration": 359,
    "start_time": "2021-09-27T22:15:13.537Z"
   },
   {
    "duration": 12,
    "start_time": "2021-09-27T22:21:55.701Z"
   },
   {
    "duration": 23,
    "start_time": "2021-09-27T22:24:54.558Z"
   },
   {
    "duration": 350,
    "start_time": "2021-09-27T22:26:27.068Z"
   },
   {
    "duration": 13,
    "start_time": "2021-09-27T22:27:02.960Z"
   },
   {
    "duration": 25,
    "start_time": "2021-09-27T22:27:05.668Z"
   },
   {
    "duration": 13,
    "start_time": "2021-09-27T22:27:15.759Z"
   },
   {
    "duration": 22,
    "start_time": "2021-09-27T22:31:34.647Z"
   },
   {
    "duration": 449,
    "start_time": "2021-09-27T22:31:36.743Z"
   },
   {
    "duration": 530,
    "start_time": "2021-09-27T22:35:41.655Z"
   },
   {
    "duration": 814,
    "start_time": "2021-09-27T22:35:46.195Z"
   },
   {
    "duration": 30,
    "start_time": "2021-09-27T22:37:48.638Z"
   },
   {
    "duration": 31,
    "start_time": "2021-09-27T22:38:05.882Z"
   },
   {
    "duration": 14,
    "start_time": "2021-09-27T22:38:21.035Z"
   },
   {
    "duration": 17,
    "start_time": "2021-09-27T22:40:05.586Z"
   },
   {
    "duration": 14,
    "start_time": "2021-09-27T22:40:22.210Z"
   },
   {
    "duration": 23,
    "start_time": "2021-09-27T22:43:13.974Z"
   },
   {
    "duration": 206,
    "start_time": "2021-09-27T22:43:39.466Z"
   },
   {
    "duration": 26,
    "start_time": "2021-09-27T22:43:40.046Z"
   },
   {
    "duration": 86,
    "start_time": "2021-09-27T22:45:53.118Z"
   },
   {
    "duration": 11,
    "start_time": "2021-09-27T22:47:07.889Z"
   },
   {
    "duration": 11,
    "start_time": "2021-09-27T22:47:58.637Z"
   },
   {
    "duration": 82,
    "start_time": "2021-09-27T22:51:34.461Z"
   },
   {
    "duration": 19,
    "start_time": "2021-09-27T22:52:28.048Z"
   },
   {
    "duration": 1465,
    "start_time": "2021-09-27T22:54:47.227Z"
   },
   {
    "duration": 772,
    "start_time": "2021-09-27T22:54:48.695Z"
   },
   {
    "duration": 15,
    "start_time": "2021-09-27T22:54:49.471Z"
   },
   {
    "duration": 71,
    "start_time": "2021-09-27T22:54:49.489Z"
   },
   {
    "duration": 351,
    "start_time": "2021-09-27T22:54:49.563Z"
   },
   {
    "duration": 242,
    "start_time": "2021-09-27T22:54:49.916Z"
   },
   {
    "duration": 7,
    "start_time": "2021-09-27T22:54:50.160Z"
   },
   {
    "duration": 10,
    "start_time": "2021-09-27T22:54:50.173Z"
   },
   {
    "duration": 119,
    "start_time": "2021-09-27T22:54:50.186Z"
   },
   {
    "duration": 41,
    "start_time": "2021-09-27T22:54:50.308Z"
   },
   {
    "duration": 11,
    "start_time": "2021-09-27T22:54:50.352Z"
   },
   {
    "duration": 22,
    "start_time": "2021-09-27T22:54:50.365Z"
   },
   {
    "duration": 43,
    "start_time": "2021-09-27T22:54:50.389Z"
   },
   {
    "duration": 11,
    "start_time": "2021-09-27T22:54:50.435Z"
   },
   {
    "duration": 19,
    "start_time": "2021-09-27T22:54:50.448Z"
   },
   {
    "duration": 22,
    "start_time": "2021-09-27T22:54:50.469Z"
   },
   {
    "duration": 17,
    "start_time": "2021-09-27T22:54:50.523Z"
   },
   {
    "duration": 8,
    "start_time": "2021-09-27T22:54:50.542Z"
   },
   {
    "duration": 7,
    "start_time": "2021-09-27T22:54:50.553Z"
   },
   {
    "duration": 21,
    "start_time": "2021-09-27T22:54:50.562Z"
   },
   {
    "duration": 39,
    "start_time": "2021-09-27T22:54:50.586Z"
   },
   {
    "duration": 11,
    "start_time": "2021-09-27T22:54:50.628Z"
   },
   {
    "duration": 20,
    "start_time": "2021-09-27T22:54:50.647Z"
   },
   {
    "duration": 8,
    "start_time": "2021-09-27T22:54:50.672Z"
   },
   {
    "duration": 45,
    "start_time": "2021-09-27T22:54:50.683Z"
   },
   {
    "duration": 30,
    "start_time": "2021-09-27T22:54:50.731Z"
   },
   {
    "duration": 25,
    "start_time": "2021-09-27T22:54:50.764Z"
   },
   {
    "duration": 19,
    "start_time": "2021-09-27T22:54:50.792Z"
   },
   {
    "duration": 21,
    "start_time": "2021-09-27T22:54:50.814Z"
   },
   {
    "duration": 655,
    "start_time": "2021-09-27T22:54:50.838Z"
   },
   {
    "duration": 404,
    "start_time": "2021-09-27T22:54:51.496Z"
   },
   {
    "duration": 12,
    "start_time": "2021-09-27T22:54:51.902Z"
   },
   {
    "duration": 513,
    "start_time": "2021-09-27T22:54:51.917Z"
   },
   {
    "duration": 5,
    "start_time": "2021-09-27T22:54:52.432Z"
   },
   {
    "duration": 509,
    "start_time": "2021-09-27T22:54:52.439Z"
   },
   {
    "duration": 4,
    "start_time": "2021-09-27T22:54:52.951Z"
   },
   {
    "duration": 774,
    "start_time": "2021-09-27T22:54:52.957Z"
   },
   {
    "duration": 4,
    "start_time": "2021-09-27T22:54:53.733Z"
   },
   {
    "duration": 834,
    "start_time": "2021-09-27T22:54:53.740Z"
   },
   {
    "duration": 147,
    "start_time": "2021-09-27T22:54:54.577Z"
   },
   {
    "duration": 499,
    "start_time": "2021-09-27T22:54:54.727Z"
   },
   {
    "duration": 37,
    "start_time": "2021-09-27T22:54:55.229Z"
   },
   {
    "duration": 88,
    "start_time": "2021-09-27T22:54:55.269Z"
   },
   {
    "duration": 37,
    "start_time": "2021-09-27T22:54:55.359Z"
   },
   {
    "duration": 435,
    "start_time": "2021-09-27T22:54:55.399Z"
   },
   {
    "duration": 122,
    "start_time": "2021-09-27T22:54:55.837Z"
   },
   {
    "duration": 338,
    "start_time": "2021-09-27T22:54:55.962Z"
   },
   {
    "duration": 110,
    "start_time": "2021-09-27T22:54:56.302Z"
   },
   {
    "duration": 14,
    "start_time": "2021-09-27T22:54:56.423Z"
   },
   {
    "duration": 263,
    "start_time": "2021-09-27T22:54:56.439Z"
   },
   {
    "duration": 59,
    "start_time": "2021-09-27T22:54:56.704Z"
   },
   {
    "duration": 1178,
    "start_time": "2021-09-27T22:54:56.766Z"
   },
   {
    "duration": 231,
    "start_time": "2021-09-27T22:54:57.947Z"
   },
   {
    "duration": 15,
    "start_time": "2021-09-27T22:54:58.181Z"
   },
   {
    "duration": 31,
    "start_time": "2021-09-27T22:54:58.199Z"
   },
   {
    "duration": 11,
    "start_time": "2021-09-27T22:54:58.233Z"
   },
   {
    "duration": 522,
    "start_time": "2021-09-27T22:54:58.247Z"
   },
   {
    "duration": 23,
    "start_time": "2021-09-27T22:54:58.772Z"
   },
   {
    "duration": 46,
    "start_time": "2021-09-27T22:54:58.798Z"
   },
   {
    "duration": 19,
    "start_time": "2021-09-27T22:54:58.847Z"
   },
   {
    "duration": 59,
    "start_time": "2021-09-27T22:54:58.868Z"
   },
   {
    "duration": 26,
    "start_time": "2021-09-27T22:54:58.930Z"
   },
   {
    "duration": 16,
    "start_time": "2021-09-27T22:54:58.958Z"
   },
   {
    "duration": 48,
    "start_time": "2021-09-27T22:54:58.976Z"
   },
   {
    "duration": 24,
    "start_time": "2021-09-27T22:54:59.027Z"
   },
   {
    "duration": 43,
    "start_time": "2021-09-27T22:54:59.053Z"
   },
   {
    "duration": 1152,
    "start_time": "2021-09-27T22:54:59.099Z"
   },
   {
    "duration": 7,
    "start_time": "2021-09-27T22:55:00.259Z"
   },
   {
    "duration": 25,
    "start_time": "2021-09-27T22:55:00.270Z"
   },
   {
    "duration": 31,
    "start_time": "2021-09-27T22:55:00.298Z"
   },
   {
    "duration": 22,
    "start_time": "2021-09-27T22:55:00.332Z"
   },
   {
    "duration": 35,
    "start_time": "2021-09-27T22:55:00.356Z"
   },
   {
    "duration": 35,
    "start_time": "2021-09-27T22:55:00.393Z"
   },
   {
    "duration": 496,
    "start_time": "2021-09-27T22:55:00.431Z"
   },
   {
    "duration": 36,
    "start_time": "2021-09-27T22:55:00.929Z"
   },
   {
    "duration": 21,
    "start_time": "2021-09-27T22:55:01.023Z"
   },
   {
    "duration": 75,
    "start_time": "2021-09-27T22:55:01.048Z"
   },
   {
    "duration": 44,
    "start_time": "2021-09-27T22:55:01.125Z"
   },
   {
    "duration": 90,
    "start_time": "2021-09-27T22:55:01.172Z"
   },
   {
    "duration": 74,
    "start_time": "2021-09-27T22:55:01.265Z"
   },
   {
    "duration": 18,
    "start_time": "2021-09-27T22:55:01.341Z"
   },
   {
    "duration": 64,
    "start_time": "2021-09-27T22:55:01.362Z"
   },
   {
    "duration": 35,
    "start_time": "2021-09-27T22:55:01.428Z"
   },
   {
    "duration": 87,
    "start_time": "2021-09-27T22:55:01.465Z"
   },
   {
    "duration": 1183,
    "start_time": "2021-09-27T22:55:01.555Z"
   },
   {
    "duration": 9,
    "start_time": "2021-09-27T22:55:02.740Z"
   },
   {
    "duration": 408,
    "start_time": "2021-09-27T22:55:02.753Z"
   },
   {
    "duration": 722,
    "start_time": "2021-09-27T22:55:03.163Z"
   },
   {
    "duration": 11,
    "start_time": "2021-09-27T22:55:03.888Z"
   },
   {
    "duration": 42329,
    "start_time": "2021-09-27T22:55:03.901Z"
   },
   {
    "duration": 25,
    "start_time": "2021-09-27T22:55:46.232Z"
   },
   {
    "duration": 143,
    "start_time": "2021-09-27T22:55:46.260Z"
   },
   {
    "duration": 10,
    "start_time": "2021-09-27T22:55:46.405Z"
   },
   {
    "duration": 435,
    "start_time": "2021-09-27T22:55:46.424Z"
   },
   {
    "duration": -52,
    "start_time": "2021-09-27T22:55:46.915Z"
   },
   {
    "duration": -59,
    "start_time": "2021-09-27T22:55:46.924Z"
   },
   {
    "duration": -65,
    "start_time": "2021-09-27T22:55:46.932Z"
   },
   {
    "duration": -69,
    "start_time": "2021-09-27T22:55:46.938Z"
   },
   {
    "duration": -74,
    "start_time": "2021-09-27T22:55:46.945Z"
   },
   {
    "duration": -77,
    "start_time": "2021-09-27T22:55:46.950Z"
   },
   {
    "duration": -81,
    "start_time": "2021-09-27T22:55:46.957Z"
   },
   {
    "duration": -85,
    "start_time": "2021-09-27T22:55:46.963Z"
   },
   {
    "duration": -90,
    "start_time": "2021-09-27T22:55:46.970Z"
   },
   {
    "duration": -93,
    "start_time": "2021-09-27T22:55:46.975Z"
   },
   {
    "duration": 27,
    "start_time": "2021-09-27T22:56:44.315Z"
   },
   {
    "duration": 108,
    "start_time": "2021-09-27T22:56:45.291Z"
   },
   {
    "duration": 11,
    "start_time": "2021-09-27T22:56:46.143Z"
   },
   {
    "duration": 23,
    "start_time": "2021-09-27T22:56:52.769Z"
   },
   {
    "duration": 21,
    "start_time": "2021-09-27T22:56:57.632Z"
   },
   {
    "duration": 332,
    "start_time": "2021-09-27T22:56:58.104Z"
   },
   {
    "duration": 42103,
    "start_time": "2021-09-27T22:58:02.343Z"
   },
   {
    "duration": 26,
    "start_time": "2021-09-27T22:59:04.264Z"
   },
   {
    "duration": 26,
    "start_time": "2021-09-27T22:59:44.119Z"
   },
   {
    "duration": 114,
    "start_time": "2021-09-27T22:59:44.871Z"
   },
   {
    "duration": 118,
    "start_time": "2021-09-27T22:59:51.379Z"
   },
   {
    "duration": 121,
    "start_time": "2021-09-27T22:59:58.123Z"
   },
   {
    "duration": 129,
    "start_time": "2021-09-27T23:00:04.979Z"
   },
   {
    "duration": 131,
    "start_time": "2021-09-27T23:00:10.495Z"
   },
   {
    "duration": 218,
    "start_time": "2021-09-27T23:00:13.471Z"
   },
   {
    "duration": 22,
    "start_time": "2021-09-27T23:00:34.839Z"
   },
   {
    "duration": 15,
    "start_time": "2021-09-27T23:00:36.171Z"
   },
   {
    "duration": 22,
    "start_time": "2021-09-27T23:00:36.935Z"
   },
   {
    "duration": 334,
    "start_time": "2021-09-27T23:00:37.683Z"
   },
   {
    "duration": 293,
    "start_time": "2021-09-27T23:01:34.979Z"
   },
   {
    "duration": 22,
    "start_time": "2021-09-27T23:02:15.391Z"
   },
   {
    "duration": 15,
    "start_time": "2021-09-27T23:02:16.019Z"
   },
   {
    "duration": 24,
    "start_time": "2021-09-27T23:02:21.579Z"
   },
   {
    "duration": 336,
    "start_time": "2021-09-27T23:02:22.051Z"
   },
   {
    "duration": 737,
    "start_time": "2021-09-27T23:11:30.666Z"
   },
   {
    "duration": 915,
    "start_time": "2021-09-27T23:13:12.450Z"
   },
   {
    "duration": 9,
    "start_time": "2021-09-27T23:23:39.149Z"
   },
   {
    "duration": 17,
    "start_time": "2021-09-27T23:23:47.797Z"
   },
   {
    "duration": 35,
    "start_time": "2021-09-27T23:24:36.784Z"
   },
   {
    "duration": 13,
    "start_time": "2021-09-27T23:24:40.096Z"
   },
   {
    "duration": 7101,
    "start_time": "2021-09-27T23:25:46.240Z"
   },
   {
    "duration": 8391,
    "start_time": "2021-09-27T23:26:08.240Z"
   },
   {
    "duration": 209,
    "start_time": "2021-09-27T23:26:23.840Z"
   },
   {
    "duration": 27,
    "start_time": "2021-09-27T23:26:26.307Z"
   },
   {
    "duration": 88,
    "start_time": "2021-09-27T23:26:27.496Z"
   },
   {
    "duration": 11,
    "start_time": "2021-09-27T23:26:29.139Z"
   },
   {
    "duration": 27,
    "start_time": "2021-09-27T23:26:30.816Z"
   },
   {
    "duration": 14,
    "start_time": "2021-09-27T23:26:34.736Z"
   },
   {
    "duration": 21,
    "start_time": "2021-09-27T23:26:49.348Z"
   },
   {
    "duration": 318,
    "start_time": "2021-09-27T23:26:52.934Z"
   },
   {
    "duration": 79,
    "start_time": "2021-09-27T23:27:44.576Z"
   },
   {
    "duration": 11,
    "start_time": "2021-09-27T23:27:45.207Z"
   },
   {
    "duration": 28,
    "start_time": "2021-09-27T23:27:47.335Z"
   },
   {
    "duration": 13,
    "start_time": "2021-09-27T23:27:48.571Z"
   },
   {
    "duration": 23,
    "start_time": "2021-09-27T23:27:49.603Z"
   },
   {
    "duration": 329,
    "start_time": "2021-09-27T23:27:50.831Z"
   },
   {
    "duration": 101,
    "start_time": "2021-09-27T23:30:12.739Z"
   },
   {
    "duration": 94,
    "start_time": "2021-09-27T23:30:20.071Z"
   },
   {
    "duration": 833,
    "start_time": "2021-09-27T23:30:31.327Z"
   },
   {
    "duration": 278,
    "start_time": "2021-09-27T23:32:09.359Z"
   },
   {
    "duration": 24,
    "start_time": "2021-09-27T23:32:32.167Z"
   },
   {
    "duration": 1061,
    "start_time": "2021-09-27T23:32:52.907Z"
   },
   {
    "duration": 958,
    "start_time": "2021-09-27T23:33:05.559Z"
   },
   {
    "duration": 812,
    "start_time": "2021-09-27T23:33:25.203Z"
   },
   {
    "duration": 848,
    "start_time": "2021-09-27T23:33:31.974Z"
   },
   {
    "duration": 935,
    "start_time": "2021-09-27T23:33:34.387Z"
   },
   {
    "duration": 866,
    "start_time": "2021-09-27T23:35:17.186Z"
   },
   {
    "duration": 738,
    "start_time": "2021-09-27T23:35:24.622Z"
   },
   {
    "duration": 101,
    "start_time": "2021-09-27T23:36:23.890Z"
   },
   {
    "duration": 94,
    "start_time": "2021-09-27T23:36:35.374Z"
   },
   {
    "duration": 734,
    "start_time": "2021-09-27T23:36:42.290Z"
   },
   {
    "duration": 2098,
    "start_time": "2021-09-27T23:38:12.190Z"
   },
   {
    "duration": 756,
    "start_time": "2021-09-27T23:38:30.414Z"
   },
   {
    "duration": 341,
    "start_time": "2021-09-27T23:43:54.709Z"
   },
   {
    "duration": 11,
    "start_time": "2021-09-27T23:45:51.973Z"
   },
   {
    "duration": 22,
    "start_time": "2021-09-27T23:46:02.549Z"
   },
   {
    "duration": 300,
    "start_time": "2021-09-27T23:46:54.381Z"
   },
   {
    "duration": 90,
    "start_time": "2021-09-27T23:47:17.789Z"
   },
   {
    "duration": 15,
    "start_time": "2021-09-27T23:47:26.037Z"
   },
   {
    "duration": 15,
    "start_time": "2021-09-27T23:48:13.876Z"
   },
   {
    "duration": 298,
    "start_time": "2021-09-27T23:49:08.485Z"
   },
   {
    "duration": 332,
    "start_time": "2021-09-27T23:49:17.085Z"
   },
   {
    "duration": 7201,
    "start_time": "2021-09-27T23:53:01.740Z"
   },
   {
    "duration": 11,
    "start_time": "2021-09-27T23:54:05.200Z"
   },
   {
    "duration": 12,
    "start_time": "2021-09-27T23:54:14.172Z"
   },
   {
    "duration": 745,
    "start_time": "2021-09-27T23:54:54.456Z"
   },
   {
    "duration": 10,
    "start_time": "2021-09-27T23:55:10.208Z"
   },
   {
    "duration": 301,
    "start_time": "2021-09-27T23:55:19.072Z"
   },
   {
    "duration": 24,
    "start_time": "2021-09-27T23:55:44.428Z"
   },
   {
    "duration": 28,
    "start_time": "2021-09-27T23:56:03.360Z"
   },
   {
    "duration": 1498,
    "start_time": "2021-09-28T11:59:03.757Z"
   },
   {
    "duration": 813,
    "start_time": "2021-09-28T11:59:05.258Z"
   },
   {
    "duration": 15,
    "start_time": "2021-09-28T11:59:06.074Z"
   },
   {
    "duration": 69,
    "start_time": "2021-09-28T11:59:06.092Z"
   },
   {
    "duration": 495,
    "start_time": "2021-09-28T11:59:06.163Z"
   },
   {
    "duration": 244,
    "start_time": "2021-09-28T11:59:06.661Z"
   },
   {
    "duration": 5,
    "start_time": "2021-09-28T11:59:06.907Z"
   },
   {
    "duration": 4,
    "start_time": "2021-09-28T11:59:06.916Z"
   },
   {
    "duration": 121,
    "start_time": "2021-09-28T11:59:06.923Z"
   },
   {
    "duration": 46,
    "start_time": "2021-09-28T11:59:07.047Z"
   },
   {
    "duration": 8,
    "start_time": "2021-09-28T11:59:07.096Z"
   },
   {
    "duration": 21,
    "start_time": "2021-09-28T11:59:07.108Z"
   },
   {
    "duration": 53,
    "start_time": "2021-09-28T11:59:07.131Z"
   },
   {
    "duration": 10,
    "start_time": "2021-09-28T11:59:07.186Z"
   },
   {
    "duration": 13,
    "start_time": "2021-09-28T11:59:07.199Z"
   },
   {
    "duration": 22,
    "start_time": "2021-09-28T11:59:07.214Z"
   },
   {
    "duration": 54,
    "start_time": "2021-09-28T11:59:07.238Z"
   },
   {
    "duration": 10,
    "start_time": "2021-09-28T11:59:07.295Z"
   },
   {
    "duration": 9,
    "start_time": "2021-09-28T11:59:07.307Z"
   },
   {
    "duration": 18,
    "start_time": "2021-09-28T11:59:07.318Z"
   },
   {
    "duration": 44,
    "start_time": "2021-09-28T11:59:07.339Z"
   },
   {
    "duration": 10,
    "start_time": "2021-09-28T11:59:07.386Z"
   },
   {
    "duration": 10,
    "start_time": "2021-09-28T11:59:07.403Z"
   },
   {
    "duration": 7,
    "start_time": "2021-09-28T11:59:07.417Z"
   },
   {
    "duration": 59,
    "start_time": "2021-09-28T11:59:07.426Z"
   },
   {
    "duration": 5,
    "start_time": "2021-09-28T11:59:07.487Z"
   },
   {
    "duration": 11,
    "start_time": "2021-09-28T11:59:07.494Z"
   },
   {
    "duration": 8,
    "start_time": "2021-09-28T11:59:07.507Z"
   },
   {
    "duration": 6,
    "start_time": "2021-09-28T11:59:07.517Z"
   },
   {
    "duration": 647,
    "start_time": "2021-09-28T11:59:07.525Z"
   },
   {
    "duration": 392,
    "start_time": "2021-09-28T11:59:08.182Z"
   },
   {
    "duration": 15,
    "start_time": "2021-09-28T11:59:08.576Z"
   },
   {
    "duration": 517,
    "start_time": "2021-09-28T11:59:08.593Z"
   },
   {
    "duration": 4,
    "start_time": "2021-09-28T11:59:09.113Z"
   },
   {
    "duration": 504,
    "start_time": "2021-09-28T11:59:09.120Z"
   },
   {
    "duration": 6,
    "start_time": "2021-09-28T11:59:09.627Z"
   },
   {
    "duration": 498,
    "start_time": "2021-09-28T11:59:09.636Z"
   },
   {
    "duration": 5,
    "start_time": "2021-09-28T11:59:10.137Z"
   },
   {
    "duration": 758,
    "start_time": "2021-09-28T11:59:10.145Z"
   },
   {
    "duration": 148,
    "start_time": "2021-09-28T11:59:10.906Z"
   },
   {
    "duration": 524,
    "start_time": "2021-09-28T11:59:11.057Z"
   },
   {
    "duration": 38,
    "start_time": "2021-09-28T11:59:11.584Z"
   },
   {
    "duration": 80,
    "start_time": "2021-09-28T11:59:11.625Z"
   },
   {
    "duration": 35,
    "start_time": "2021-09-28T11:59:11.708Z"
   },
   {
    "duration": 426,
    "start_time": "2021-09-28T11:59:11.745Z"
   },
   {
    "duration": 125,
    "start_time": "2021-09-28T11:59:12.174Z"
   },
   {
    "duration": 327,
    "start_time": "2021-09-28T11:59:12.301Z"
   },
   {
    "duration": 126,
    "start_time": "2021-09-28T11:59:12.630Z"
   },
   {
    "duration": 24,
    "start_time": "2021-09-28T11:59:12.759Z"
   },
   {
    "duration": 266,
    "start_time": "2021-09-28T11:59:12.785Z"
   },
   {
    "duration": 66,
    "start_time": "2021-09-28T11:59:13.054Z"
   },
   {
    "duration": 1178,
    "start_time": "2021-09-28T11:59:13.123Z"
   },
   {
    "duration": 218,
    "start_time": "2021-09-28T11:59:14.303Z"
   },
   {
    "duration": 18,
    "start_time": "2021-09-28T11:59:14.523Z"
   },
   {
    "duration": 12,
    "start_time": "2021-09-28T11:59:14.543Z"
   },
   {
    "duration": 8,
    "start_time": "2021-09-28T11:59:14.583Z"
   },
   {
    "duration": 544,
    "start_time": "2021-09-28T11:59:14.594Z"
   },
   {
    "duration": 26,
    "start_time": "2021-09-28T11:59:15.140Z"
   },
   {
    "duration": 26,
    "start_time": "2021-09-28T11:59:15.183Z"
   },
   {
    "duration": 22,
    "start_time": "2021-09-28T11:59:15.211Z"
   },
   {
    "duration": 67,
    "start_time": "2021-09-28T11:59:15.236Z"
   },
   {
    "duration": 25,
    "start_time": "2021-09-28T11:59:15.306Z"
   },
   {
    "duration": 48,
    "start_time": "2021-09-28T11:59:15.333Z"
   },
   {
    "duration": 17,
    "start_time": "2021-09-28T11:59:15.384Z"
   },
   {
    "duration": 27,
    "start_time": "2021-09-28T11:59:15.403Z"
   },
   {
    "duration": 60,
    "start_time": "2021-09-28T11:59:15.432Z"
   },
   {
    "duration": 1141,
    "start_time": "2021-09-28T11:59:15.495Z"
   },
   {
    "duration": 7,
    "start_time": "2021-09-28T11:59:16.648Z"
   },
   {
    "duration": 26,
    "start_time": "2021-09-28T11:59:16.660Z"
   },
   {
    "duration": 16,
    "start_time": "2021-09-28T11:59:16.688Z"
   },
   {
    "duration": 10,
    "start_time": "2021-09-28T11:59:16.707Z"
   },
   {
    "duration": 19,
    "start_time": "2021-09-28T11:59:16.720Z"
   },
   {
    "duration": 54,
    "start_time": "2021-09-28T11:59:16.742Z"
   },
   {
    "duration": 478,
    "start_time": "2021-09-28T11:59:16.798Z"
   },
   {
    "duration": 36,
    "start_time": "2021-09-28T11:59:17.282Z"
   },
   {
    "duration": 21,
    "start_time": "2021-09-28T11:59:17.320Z"
   },
   {
    "duration": 3,
    "start_time": "2021-09-28T11:59:17.343Z"
   },
   {
    "duration": 37,
    "start_time": "2021-09-28T11:59:17.349Z"
   },
   {
    "duration": 43,
    "start_time": "2021-09-28T11:59:17.389Z"
   },
   {
    "duration": 49,
    "start_time": "2021-09-28T11:59:17.435Z"
   },
   {
    "duration": 18,
    "start_time": "2021-09-28T11:59:17.486Z"
   },
   {
    "duration": 17,
    "start_time": "2021-09-28T11:59:17.507Z"
   },
   {
    "duration": 26,
    "start_time": "2021-09-28T11:59:17.527Z"
   },
   {
    "duration": 70,
    "start_time": "2021-09-28T11:59:17.556Z"
   },
   {
    "duration": 1184,
    "start_time": "2021-09-28T11:59:17.630Z"
   },
   {
    "duration": 6,
    "start_time": "2021-09-28T11:59:18.817Z"
   },
   {
    "duration": 356,
    "start_time": "2021-09-28T11:59:18.826Z"
   },
   {
    "duration": 735,
    "start_time": "2021-09-28T11:59:19.185Z"
   },
   {
    "duration": 12,
    "start_time": "2021-09-28T11:59:19.923Z"
   },
   {
    "duration": 255,
    "start_time": "2021-09-28T11:59:19.937Z"
   },
   {
    "duration": 26,
    "start_time": "2021-09-28T11:59:20.194Z"
   },
   {
    "duration": 105,
    "start_time": "2021-09-28T11:59:20.223Z"
   },
   {
    "duration": 27,
    "start_time": "2021-09-28T11:59:20.331Z"
   },
   {
    "duration": 38,
    "start_time": "2021-09-28T11:59:20.361Z"
   },
   {
    "duration": 338,
    "start_time": "2021-09-28T11:59:20.402Z"
   },
   {
    "duration": 855,
    "start_time": "2021-09-28T11:59:20.742Z"
   },
   {
    "duration": 729,
    "start_time": "2021-09-28T11:59:21.599Z"
   },
   {
    "duration": 54781,
    "start_time": "2021-09-28T11:58:27.549Z"
   },
   {
    "duration": 54776,
    "start_time": "2021-09-28T11:58:27.555Z"
   },
   {
    "duration": 54773,
    "start_time": "2021-09-28T11:58:27.560Z"
   },
   {
    "duration": 54769,
    "start_time": "2021-09-28T11:58:27.566Z"
   },
   {
    "duration": 54766,
    "start_time": "2021-09-28T11:58:27.571Z"
   },
   {
    "duration": 286,
    "start_time": "2021-09-28T14:39:51.130Z"
   },
   {
    "duration": 1102,
    "start_time": "2021-09-28T14:39:57.840Z"
   },
   {
    "duration": 586,
    "start_time": "2021-09-28T14:39:58.944Z"
   },
   {
    "duration": 11,
    "start_time": "2021-09-28T14:39:59.532Z"
   },
   {
    "duration": 56,
    "start_time": "2021-09-28T14:39:59.544Z"
   },
   {
    "duration": 254,
    "start_time": "2021-09-28T14:39:59.602Z"
   },
   {
    "duration": 169,
    "start_time": "2021-09-28T14:39:59.858Z"
   },
   {
    "duration": 5,
    "start_time": "2021-09-28T14:40:00.029Z"
   },
   {
    "duration": 20,
    "start_time": "2021-09-28T14:40:00.036Z"
   },
   {
    "duration": 80,
    "start_time": "2021-09-28T14:40:00.058Z"
   },
   {
    "duration": 21,
    "start_time": "2021-09-28T14:40:00.140Z"
   },
   {
    "duration": 9,
    "start_time": "2021-09-28T14:40:00.162Z"
   },
   {
    "duration": 32,
    "start_time": "2021-09-28T14:40:00.172Z"
   },
   {
    "duration": 8,
    "start_time": "2021-09-28T14:40:00.206Z"
   },
   {
    "duration": 24,
    "start_time": "2021-09-28T14:40:00.216Z"
   },
   {
    "duration": 18,
    "start_time": "2021-09-28T14:40:00.242Z"
   },
   {
    "duration": 36,
    "start_time": "2021-09-28T14:40:00.261Z"
   },
   {
    "duration": 12,
    "start_time": "2021-09-28T14:40:00.299Z"
   },
   {
    "duration": 15,
    "start_time": "2021-09-28T14:40:00.312Z"
   },
   {
    "duration": 12,
    "start_time": "2021-09-28T14:40:00.329Z"
   },
   {
    "duration": 21,
    "start_time": "2021-09-28T14:40:00.342Z"
   },
   {
    "duration": 11,
    "start_time": "2021-09-28T14:40:00.365Z"
   },
   {
    "duration": 13,
    "start_time": "2021-09-28T14:40:00.378Z"
   },
   {
    "duration": 16,
    "start_time": "2021-09-28T14:40:00.394Z"
   },
   {
    "duration": 12,
    "start_time": "2021-09-28T14:40:00.413Z"
   },
   {
    "duration": 15,
    "start_time": "2021-09-28T14:40:00.427Z"
   },
   {
    "duration": 7,
    "start_time": "2021-09-28T14:40:00.444Z"
   },
   {
    "duration": 14,
    "start_time": "2021-09-28T14:40:00.452Z"
   },
   {
    "duration": 10,
    "start_time": "2021-09-28T14:40:00.467Z"
   },
   {
    "duration": 14,
    "start_time": "2021-09-28T14:40:00.479Z"
   },
   {
    "duration": 397,
    "start_time": "2021-09-28T14:40:00.495Z"
   },
   {
    "duration": 327,
    "start_time": "2021-09-28T14:40:00.893Z"
   },
   {
    "duration": 5,
    "start_time": "2021-09-28T14:40:01.222Z"
   },
   {
    "duration": 350,
    "start_time": "2021-09-28T14:40:01.229Z"
   },
   {
    "duration": 4,
    "start_time": "2021-09-28T14:40:01.581Z"
   },
   {
    "duration": 372,
    "start_time": "2021-09-28T14:40:01.587Z"
   },
   {
    "duration": 3,
    "start_time": "2021-09-28T14:40:01.961Z"
   },
   {
    "duration": 362,
    "start_time": "2021-09-28T14:40:01.966Z"
   },
   {
    "duration": 3,
    "start_time": "2021-09-28T14:40:02.330Z"
   },
   {
    "duration": 496,
    "start_time": "2021-09-28T14:40:02.335Z"
   },
   {
    "duration": 117,
    "start_time": "2021-09-28T14:40:02.833Z"
   },
   {
    "duration": 323,
    "start_time": "2021-09-28T14:40:02.952Z"
   },
   {
    "duration": 42,
    "start_time": "2021-09-28T14:40:03.277Z"
   },
   {
    "duration": 45,
    "start_time": "2021-09-28T14:40:03.321Z"
   },
   {
    "duration": 44,
    "start_time": "2021-09-28T14:40:03.368Z"
   },
   {
    "duration": 399,
    "start_time": "2021-09-28T14:40:03.414Z"
   },
   {
    "duration": 133,
    "start_time": "2021-09-28T14:40:03.815Z"
   },
   {
    "duration": 341,
    "start_time": "2021-09-28T14:40:04.000Z"
   },
   {
    "duration": 81,
    "start_time": "2021-09-28T14:40:04.343Z"
   },
   {
    "duration": 12,
    "start_time": "2021-09-28T14:40:04.426Z"
   },
   {
    "duration": 228,
    "start_time": "2021-09-28T14:40:04.439Z"
   },
   {
    "duration": 40,
    "start_time": "2021-09-28T14:40:04.669Z"
   },
   {
    "duration": 836,
    "start_time": "2021-09-28T14:40:04.712Z"
   },
   {
    "duration": 139,
    "start_time": "2021-09-28T14:40:05.549Z"
   },
   {
    "duration": 19,
    "start_time": "2021-09-28T14:40:05.690Z"
   },
   {
    "duration": 29,
    "start_time": "2021-09-28T14:40:05.711Z"
   },
   {
    "duration": 19,
    "start_time": "2021-09-28T14:40:05.742Z"
   },
   {
    "duration": 360,
    "start_time": "2021-09-28T14:40:05.763Z"
   },
   {
    "duration": 27,
    "start_time": "2021-09-28T14:40:06.125Z"
   },
   {
    "duration": 46,
    "start_time": "2021-09-28T14:40:06.155Z"
   },
   {
    "duration": 18,
    "start_time": "2021-09-28T14:40:06.203Z"
   },
   {
    "duration": 29,
    "start_time": "2021-09-28T14:40:06.223Z"
   },
   {
    "duration": 47,
    "start_time": "2021-09-28T14:40:06.254Z"
   },
   {
    "duration": 16,
    "start_time": "2021-09-28T14:40:06.303Z"
   },
   {
    "duration": 16,
    "start_time": "2021-09-28T14:40:06.321Z"
   },
   {
    "duration": 20,
    "start_time": "2021-09-28T14:40:06.339Z"
   },
   {
    "duration": 55,
    "start_time": "2021-09-28T14:40:06.361Z"
   },
   {
    "duration": 806,
    "start_time": "2021-09-28T14:40:06.418Z"
   },
   {
    "duration": 5,
    "start_time": "2021-09-28T14:40:07.229Z"
   },
   {
    "duration": 22,
    "start_time": "2021-09-28T14:40:07.237Z"
   },
   {
    "duration": 15,
    "start_time": "2021-09-28T14:40:07.261Z"
   },
   {
    "duration": 16,
    "start_time": "2021-09-28T14:40:07.278Z"
   },
   {
    "duration": 21,
    "start_time": "2021-09-28T14:40:07.296Z"
   },
   {
    "duration": 26,
    "start_time": "2021-09-28T14:40:07.320Z"
   },
   {
    "duration": 304,
    "start_time": "2021-09-28T14:40:07.348Z"
   },
   {
    "duration": 31,
    "start_time": "2021-09-28T14:40:07.654Z"
   },
   {
    "duration": 26,
    "start_time": "2021-09-28T14:40:07.686Z"
   },
   {
    "duration": 2,
    "start_time": "2021-09-28T14:40:07.713Z"
   },
   {
    "duration": 10,
    "start_time": "2021-09-28T14:40:07.717Z"
   },
   {
    "duration": 22,
    "start_time": "2021-09-28T14:40:07.728Z"
   },
   {
    "duration": 17,
    "start_time": "2021-09-28T14:40:07.751Z"
   },
   {
    "duration": 39,
    "start_time": "2021-09-28T14:40:07.770Z"
   },
   {
    "duration": 12,
    "start_time": "2021-09-28T14:40:07.810Z"
   },
   {
    "duration": 20,
    "start_time": "2021-09-28T14:40:07.823Z"
   },
   {
    "duration": 24,
    "start_time": "2021-09-28T14:40:07.845Z"
   },
   {
    "duration": 804,
    "start_time": "2021-09-28T14:40:07.871Z"
   },
   {
    "duration": 3,
    "start_time": "2021-09-28T14:40:08.677Z"
   },
   {
    "duration": 17,
    "start_time": "2021-09-28T14:40:08.682Z"
   },
   {
    "duration": 261,
    "start_time": "2021-09-28T14:40:08.701Z"
   },
   {
    "duration": 508,
    "start_time": "2021-09-28T14:40:08.974Z"
   },
   {
    "duration": 16,
    "start_time": "2021-09-28T14:40:09.484Z"
   },
   {
    "duration": 155,
    "start_time": "2021-09-28T14:40:09.501Z"
   },
   {
    "duration": 18,
    "start_time": "2021-09-28T14:40:09.657Z"
   },
   {
    "duration": 59,
    "start_time": "2021-09-28T14:40:09.677Z"
   },
   {
    "duration": 27,
    "start_time": "2021-09-28T14:40:09.737Z"
   },
   {
    "duration": 34,
    "start_time": "2021-09-28T14:40:09.766Z"
   },
   {
    "duration": 243,
    "start_time": "2021-09-28T14:40:09.802Z"
   },
   {
    "duration": 560,
    "start_time": "2021-09-28T14:40:10.048Z"
   },
   {
    "duration": 272,
    "start_time": "2021-09-28T14:40:10.609Z"
   },
   {
    "duration": -573,
    "start_time": "2021-09-28T14:40:11.456Z"
   },
   {
    "duration": -585,
    "start_time": "2021-09-28T14:40:11.469Z"
   },
   {
    "duration": -596,
    "start_time": "2021-09-28T14:40:11.481Z"
   },
   {
    "duration": -650,
    "start_time": "2021-09-28T14:40:11.536Z"
   },
   {
    "duration": -670,
    "start_time": "2021-09-28T14:40:11.557Z"
   },
   {
    "duration": 6,
    "start_time": "2021-09-28T14:40:25.035Z"
   },
   {
    "duration": 64,
    "start_time": "2021-09-28T14:41:54.635Z"
   },
   {
    "duration": 67,
    "start_time": "2021-09-28T14:41:57.859Z"
   },
   {
    "duration": 4,
    "start_time": "2021-09-28T14:42:51.122Z"
   },
   {
    "duration": 371,
    "start_time": "2021-10-02T15:01:18.180Z"
   },
   {
    "duration": 1262,
    "start_time": "2021-10-02T15:01:32.040Z"
   },
   {
    "duration": 689,
    "start_time": "2021-10-02T15:01:33.304Z"
   },
   {
    "duration": 12,
    "start_time": "2021-10-02T15:01:33.997Z"
   },
   {
    "duration": 55,
    "start_time": "2021-10-02T15:01:34.011Z"
   },
   {
    "duration": 307,
    "start_time": "2021-10-02T15:01:34.068Z"
   },
   {
    "duration": 181,
    "start_time": "2021-10-02T15:01:34.377Z"
   },
   {
    "duration": 4,
    "start_time": "2021-10-02T15:01:34.561Z"
   },
   {
    "duration": 10,
    "start_time": "2021-10-02T15:01:34.567Z"
   },
   {
    "duration": 78,
    "start_time": "2021-10-02T15:01:34.578Z"
   },
   {
    "duration": 34,
    "start_time": "2021-10-02T15:01:34.658Z"
   },
   {
    "duration": 7,
    "start_time": "2021-10-02T15:01:34.694Z"
   },
   {
    "duration": 20,
    "start_time": "2021-10-02T15:01:34.703Z"
   },
   {
    "duration": 10,
    "start_time": "2021-10-02T15:01:34.725Z"
   },
   {
    "duration": 39,
    "start_time": "2021-10-02T15:01:34.737Z"
   },
   {
    "duration": 9,
    "start_time": "2021-10-02T15:01:34.779Z"
   },
   {
    "duration": 18,
    "start_time": "2021-10-02T15:01:34.790Z"
   },
   {
    "duration": 13,
    "start_time": "2021-10-02T15:01:34.809Z"
   },
   {
    "duration": 9,
    "start_time": "2021-10-02T15:01:34.824Z"
   },
   {
    "duration": 4,
    "start_time": "2021-10-02T15:01:34.835Z"
   },
   {
    "duration": 42,
    "start_time": "2021-10-02T15:01:34.841Z"
   },
   {
    "duration": 6,
    "start_time": "2021-10-02T15:01:34.884Z"
   },
   {
    "duration": 7,
    "start_time": "2021-10-02T15:01:34.894Z"
   },
   {
    "duration": 9,
    "start_time": "2021-10-02T15:01:34.904Z"
   },
   {
    "duration": 5,
    "start_time": "2021-10-02T15:01:34.915Z"
   },
   {
    "duration": 5,
    "start_time": "2021-10-02T15:01:34.922Z"
   },
   {
    "duration": 5,
    "start_time": "2021-10-02T15:01:34.929Z"
   },
   {
    "duration": 43,
    "start_time": "2021-10-02T15:01:34.936Z"
   },
   {
    "duration": 7,
    "start_time": "2021-10-02T15:01:34.981Z"
   },
   {
    "duration": 5,
    "start_time": "2021-10-02T15:01:34.990Z"
   },
   {
    "duration": 441,
    "start_time": "2021-10-02T15:01:34.997Z"
   },
   {
    "duration": 326,
    "start_time": "2021-10-02T15:01:35.440Z"
   },
   {
    "duration": 15,
    "start_time": "2021-10-02T15:01:35.768Z"
   },
   {
    "duration": 342,
    "start_time": "2021-10-02T15:01:35.785Z"
   },
   {
    "duration": 4,
    "start_time": "2021-10-02T15:01:36.129Z"
   },
   {
    "duration": 355,
    "start_time": "2021-10-02T15:01:36.135Z"
   },
   {
    "duration": 4,
    "start_time": "2021-10-02T15:01:36.491Z"
   },
   {
    "duration": 338,
    "start_time": "2021-10-02T15:01:36.497Z"
   },
   {
    "duration": 4,
    "start_time": "2021-10-02T15:01:36.836Z"
   },
   {
    "duration": 488,
    "start_time": "2021-10-02T15:01:36.842Z"
   },
   {
    "duration": 128,
    "start_time": "2021-10-02T15:01:37.332Z"
   },
   {
    "duration": 327,
    "start_time": "2021-10-02T15:01:37.463Z"
   },
   {
    "duration": 33,
    "start_time": "2021-10-02T15:01:37.793Z"
   },
   {
    "duration": 60,
    "start_time": "2021-10-02T15:01:37.829Z"
   },
   {
    "duration": 30,
    "start_time": "2021-10-02T15:01:37.891Z"
   },
   {
    "duration": 297,
    "start_time": "2021-10-02T15:01:37.923Z"
   },
   {
    "duration": 259,
    "start_time": "2021-10-02T15:01:38.223Z"
   },
   {
    "duration": 584,
    "start_time": "2021-10-02T15:01:38.485Z"
   },
   {
    "duration": 83,
    "start_time": "2021-10-02T15:01:39.071Z"
   },
   {
    "duration": 31,
    "start_time": "2021-10-02T15:01:39.156Z"
   },
   {
    "duration": 249,
    "start_time": "2021-10-02T15:01:39.189Z"
   },
   {
    "duration": 55,
    "start_time": "2021-10-02T15:01:39.440Z"
   },
   {
    "duration": 766,
    "start_time": "2021-10-02T15:01:39.497Z"
   },
   {
    "duration": 153,
    "start_time": "2021-10-02T15:01:40.264Z"
   },
   {
    "duration": 13,
    "start_time": "2021-10-02T15:01:40.419Z"
   },
   {
    "duration": 14,
    "start_time": "2021-10-02T15:01:40.434Z"
   },
   {
    "duration": 28,
    "start_time": "2021-10-02T15:01:40.449Z"
   },
   {
    "duration": 330,
    "start_time": "2021-10-02T15:01:40.479Z"
   },
   {
    "duration": 20,
    "start_time": "2021-10-02T15:01:40.811Z"
   },
   {
    "duration": 43,
    "start_time": "2021-10-02T15:01:40.833Z"
   },
   {
    "duration": 14,
    "start_time": "2021-10-02T15:01:40.879Z"
   },
   {
    "duration": 22,
    "start_time": "2021-10-02T15:01:40.895Z"
   },
   {
    "duration": 19,
    "start_time": "2021-10-02T15:01:40.919Z"
   },
   {
    "duration": 43,
    "start_time": "2021-10-02T15:01:40.940Z"
   },
   {
    "duration": 14,
    "start_time": "2021-10-02T15:01:40.984Z"
   },
   {
    "duration": 23,
    "start_time": "2021-10-02T15:01:41.000Z"
   },
   {
    "duration": 26,
    "start_time": "2021-10-02T15:01:41.025Z"
   },
   {
    "duration": 781,
    "start_time": "2021-10-02T15:01:41.079Z"
   },
   {
    "duration": 15,
    "start_time": "2021-10-02T15:01:41.863Z"
   },
   {
    "duration": 7,
    "start_time": "2021-10-02T15:01:41.880Z"
   },
   {
    "duration": 4,
    "start_time": "2021-10-02T15:01:41.889Z"
   },
   {
    "duration": 6,
    "start_time": "2021-10-02T15:01:41.894Z"
   },
   {
    "duration": 12,
    "start_time": "2021-10-02T15:01:41.902Z"
   },
   {
    "duration": 13,
    "start_time": "2021-10-02T15:01:41.915Z"
   },
   {
    "duration": 334,
    "start_time": "2021-10-02T15:01:41.930Z"
   },
   {
    "duration": 35,
    "start_time": "2021-10-02T15:01:42.265Z"
   },
   {
    "duration": 14,
    "start_time": "2021-10-02T15:01:42.301Z"
   },
   {
    "duration": 2,
    "start_time": "2021-10-02T15:01:42.317Z"
   },
   {
    "duration": 12,
    "start_time": "2021-10-02T15:01:42.321Z"
   },
   {
    "duration": 49,
    "start_time": "2021-10-02T15:01:42.334Z"
   },
   {
    "duration": 18,
    "start_time": "2021-10-02T15:01:42.385Z"
   },
   {
    "duration": 12,
    "start_time": "2021-10-02T15:01:42.405Z"
   },
   {
    "duration": 7,
    "start_time": "2021-10-02T15:01:42.419Z"
   },
   {
    "duration": 12,
    "start_time": "2021-10-02T15:01:42.427Z"
   },
   {
    "duration": 53,
    "start_time": "2021-10-02T15:01:42.441Z"
   },
   {
    "duration": 867,
    "start_time": "2021-10-02T15:01:42.496Z"
   },
   {
    "duration": 14,
    "start_time": "2021-10-02T15:01:43.364Z"
   },
   {
    "duration": 5,
    "start_time": "2021-10-02T15:01:43.380Z"
   },
   {
    "duration": 230,
    "start_time": "2021-10-02T15:01:43.387Z"
   },
   {
    "duration": 551,
    "start_time": "2021-10-02T15:01:43.619Z"
   },
   {
    "duration": 9,
    "start_time": "2021-10-02T15:01:44.172Z"
   },
   {
    "duration": 164,
    "start_time": "2021-10-02T15:01:44.183Z"
   },
   {
    "duration": 1470,
    "start_time": "2021-10-02T15:01:44.349Z"
   },
   {
    "duration": -41,
    "start_time": "2021-10-02T15:01:45.862Z"
   },
   {
    "duration": -45,
    "start_time": "2021-10-02T15:01:45.867Z"
   },
   {
    "duration": -52,
    "start_time": "2021-10-02T15:01:45.875Z"
   },
   {
    "duration": -56,
    "start_time": "2021-10-02T15:01:45.880Z"
   },
   {
    "duration": -60,
    "start_time": "2021-10-02T15:01:45.885Z"
   },
   {
    "duration": -64,
    "start_time": "2021-10-02T15:01:45.890Z"
   },
   {
    "duration": -68,
    "start_time": "2021-10-02T15:01:45.894Z"
   },
   {
    "duration": -72,
    "start_time": "2021-10-02T15:01:45.899Z"
   },
   {
    "duration": 11,
    "start_time": "2021-10-02T15:02:08.916Z"
   },
   {
    "duration": 358,
    "start_time": "2021-10-02T15:02:20.271Z"
   },
   {
    "duration": 10,
    "start_time": "2021-10-02T15:04:34.104Z"
   },
   {
    "duration": 17,
    "start_time": "2021-10-02T15:05:04.372Z"
   },
   {
    "duration": 490,
    "start_time": "2021-10-02T15:05:21.724Z"
   },
   {
    "duration": 10,
    "start_time": "2021-10-02T15:08:24.320Z"
   },
   {
    "duration": 13,
    "start_time": "2021-10-02T15:08:51.717Z"
   },
   {
    "duration": 10,
    "start_time": "2021-10-02T15:10:16.031Z"
   },
   {
    "duration": 16,
    "start_time": "2021-10-02T15:10:21.775Z"
   },
   {
    "duration": 13,
    "start_time": "2021-10-02T15:11:34.687Z"
   },
   {
    "duration": 7,
    "start_time": "2021-10-02T15:11:52.983Z"
   },
   {
    "duration": 26,
    "start_time": "2021-10-02T15:12:00.092Z"
   },
   {
    "duration": 359,
    "start_time": "2021-10-02T15:12:19.996Z"
   },
   {
    "duration": 108,
    "start_time": "2021-10-02T15:12:26.128Z"
   },
   {
    "duration": 29,
    "start_time": "2021-10-02T15:12:43.056Z"
   },
   {
    "duration": 19,
    "start_time": "2021-10-02T15:14:01.294Z"
   },
   {
    "duration": 24,
    "start_time": "2021-10-02T15:15:39.564Z"
   },
   {
    "duration": 16,
    "start_time": "2021-10-02T15:15:50.171Z"
   },
   {
    "duration": 834,
    "start_time": "2021-10-02T15:17:18.463Z"
   },
   {
    "duration": 506,
    "start_time": "2021-10-02T15:17:26.643Z"
   },
   {
    "duration": 6,
    "start_time": "2021-10-02T15:20:35.411Z"
   },
   {
    "duration": 5,
    "start_time": "2021-10-02T15:21:36.172Z"
   },
   {
    "duration": 14,
    "start_time": "2021-10-02T15:21:36.611Z"
   },
   {
    "duration": 529,
    "start_time": "2021-10-02T15:21:55.155Z"
   },
   {
    "duration": 23,
    "start_time": "2021-10-02T15:23:28.083Z"
   },
   {
    "duration": 361,
    "start_time": "2021-10-02T15:23:34.391Z"
   },
   {
    "duration": 14,
    "start_time": "2021-10-02T15:23:34.762Z"
   },
   {
    "duration": 517,
    "start_time": "2021-10-02T15:23:35.651Z"
   },
   {
    "duration": 552,
    "start_time": "2021-10-02T15:23:39.339Z"
   },
   {
    "duration": 14,
    "start_time": "2021-10-02T15:24:50.835Z"
   },
   {
    "duration": 493,
    "start_time": "2021-10-02T15:24:53.735Z"
   },
   {
    "duration": 337,
    "start_time": "2021-10-02T15:25:22.867Z"
   },
   {
    "duration": 462,
    "start_time": "2021-10-02T15:25:51.231Z"
   },
   {
    "duration": 396,
    "start_time": "2021-10-02T15:26:22.195Z"
   },
   {
    "duration": 355,
    "start_time": "2021-10-02T15:26:37.559Z"
   },
   {
    "duration": 14,
    "start_time": "2021-10-02T15:26:41.215Z"
   },
   {
    "duration": 6,
    "start_time": "2021-10-02T15:26:41.683Z"
   },
   {
    "duration": 16,
    "start_time": "2021-10-02T15:26:43.251Z"
   },
   {
    "duration": 454,
    "start_time": "2021-10-02T15:26:44.259Z"
   },
   {
    "duration": 466,
    "start_time": "2021-10-02T15:27:46.139Z"
   },
   {
    "duration": 346,
    "start_time": "2021-10-02T15:29:32.399Z"
   },
   {
    "duration": 17,
    "start_time": "2021-10-02T15:29:49.762Z"
   },
   {
    "duration": 150592,
    "start_time": "2021-10-02T15:30:42.103Z"
   },
   {
    "duration": 148157,
    "start_time": "2021-10-02T15:35:33.056Z"
   },
   {
    "duration": 46,
    "start_time": "2021-10-02T15:38:52.023Z"
   },
   {
    "duration": 55,
    "start_time": "2021-10-02T15:38:57.658Z"
   },
   {
    "duration": 9883,
    "start_time": "2021-10-02T15:39:18.679Z"
   },
   {
    "duration": 58,
    "start_time": "2021-10-02T15:39:42.759Z"
   },
   {
    "duration": 14,
    "start_time": "2021-10-02T15:40:42.839Z"
   },
   {
    "duration": 399,
    "start_time": "2021-10-02T15:41:34.434Z"
   },
   {
    "duration": 104,
    "start_time": "2021-10-02T15:42:46.966Z"
   },
   {
    "duration": 392,
    "start_time": "2021-10-02T15:43:06.738Z"
   },
   {
    "duration": 86,
    "start_time": "2021-10-02T15:43:27.154Z"
   },
   {
    "duration": 143363,
    "start_time": "2021-10-02T15:43:47.014Z"
   },
   {
    "duration": 149515,
    "start_time": "2021-10-02T15:46:35.422Z"
   },
   {
    "duration": 144649,
    "start_time": "2021-10-02T15:49:44.086Z"
   },
   {
    "duration": 1877,
    "start_time": "2021-10-02T15:52:08.737Z"
   },
   {
    "duration": 353,
    "start_time": "2021-10-02T15:52:37.769Z"
   },
   {
    "duration": 390,
    "start_time": "2021-10-02T15:56:32.425Z"
   },
   {
    "duration": 1250,
    "start_time": "2021-10-02T15:56:38.866Z"
   },
   {
    "duration": 660,
    "start_time": "2021-10-02T15:56:40.118Z"
   },
   {
    "duration": 12,
    "start_time": "2021-10-02T15:56:40.780Z"
   },
   {
    "duration": 58,
    "start_time": "2021-10-02T15:56:40.794Z"
   },
   {
    "duration": 297,
    "start_time": "2021-10-02T15:56:40.854Z"
   },
   {
    "duration": 183,
    "start_time": "2021-10-02T15:56:41.152Z"
   },
   {
    "duration": 4,
    "start_time": "2021-10-02T15:56:41.337Z"
   },
   {
    "duration": 4,
    "start_time": "2021-10-02T15:56:41.343Z"
   },
   {
    "duration": 87,
    "start_time": "2021-10-02T15:56:41.349Z"
   },
   {
    "duration": 22,
    "start_time": "2021-10-02T15:56:41.438Z"
   },
   {
    "duration": 16,
    "start_time": "2021-10-02T15:56:41.462Z"
   },
   {
    "duration": 18,
    "start_time": "2021-10-02T15:56:41.480Z"
   },
   {
    "duration": 9,
    "start_time": "2021-10-02T15:56:41.500Z"
   },
   {
    "duration": 7,
    "start_time": "2021-10-02T15:56:41.511Z"
   },
   {
    "duration": 12,
    "start_time": "2021-10-02T15:56:41.520Z"
   },
   {
    "duration": 54,
    "start_time": "2021-10-02T15:56:41.533Z"
   },
   {
    "duration": 13,
    "start_time": "2021-10-02T15:56:41.589Z"
   },
   {
    "duration": 5,
    "start_time": "2021-10-02T15:56:41.604Z"
   },
   {
    "duration": 4,
    "start_time": "2021-10-02T15:56:41.611Z"
   },
   {
    "duration": 13,
    "start_time": "2021-10-02T15:56:41.617Z"
   },
   {
    "duration": 6,
    "start_time": "2021-10-02T15:56:41.631Z"
   },
   {
    "duration": 39,
    "start_time": "2021-10-02T15:56:41.639Z"
   },
   {
    "duration": 7,
    "start_time": "2021-10-02T15:56:41.682Z"
   },
   {
    "duration": 7,
    "start_time": "2021-10-02T15:56:41.692Z"
   },
   {
    "duration": 9,
    "start_time": "2021-10-02T15:56:41.701Z"
   },
   {
    "duration": 16,
    "start_time": "2021-10-02T15:56:41.712Z"
   },
   {
    "duration": 15,
    "start_time": "2021-10-02T15:56:41.730Z"
   },
   {
    "duration": 14,
    "start_time": "2021-10-02T15:56:41.747Z"
   },
   {
    "duration": 4,
    "start_time": "2021-10-02T15:56:41.776Z"
   },
   {
    "duration": 411,
    "start_time": "2021-10-02T15:56:41.782Z"
   },
   {
    "duration": 324,
    "start_time": "2021-10-02T15:56:42.195Z"
   },
   {
    "duration": 10,
    "start_time": "2021-10-02T15:56:42.522Z"
   },
   {
    "duration": 346,
    "start_time": "2021-10-02T15:56:42.534Z"
   },
   {
    "duration": 4,
    "start_time": "2021-10-02T15:56:42.882Z"
   },
   {
    "duration": 348,
    "start_time": "2021-10-02T15:56:42.887Z"
   },
   {
    "duration": 3,
    "start_time": "2021-10-02T15:56:43.236Z"
   },
   {
    "duration": 327,
    "start_time": "2021-10-02T15:56:43.241Z"
   },
   {
    "duration": 7,
    "start_time": "2021-10-02T15:56:43.569Z"
   },
   {
    "duration": 512,
    "start_time": "2021-10-02T15:56:43.578Z"
   },
   {
    "duration": 119,
    "start_time": "2021-10-02T15:56:44.091Z"
   },
   {
    "duration": 311,
    "start_time": "2021-10-02T15:56:44.212Z"
   },
   {
    "duration": 30,
    "start_time": "2021-10-02T15:56:44.525Z"
   },
   {
    "duration": 52,
    "start_time": "2021-10-02T15:56:44.557Z"
   },
   {
    "duration": 28,
    "start_time": "2021-10-02T15:56:44.611Z"
   },
   {
    "duration": 276,
    "start_time": "2021-10-02T15:56:44.641Z"
   },
   {
    "duration": 88,
    "start_time": "2021-10-02T15:56:44.919Z"
   },
   {
    "duration": 267,
    "start_time": "2021-10-02T15:56:45.009Z"
   },
   {
    "duration": 78,
    "start_time": "2021-10-02T15:56:45.278Z"
   },
   {
    "duration": 21,
    "start_time": "2021-10-02T15:56:45.358Z"
   },
   {
    "duration": 223,
    "start_time": "2021-10-02T15:56:45.380Z"
   },
   {
    "duration": 32,
    "start_time": "2021-10-02T15:56:45.605Z"
   },
   {
    "duration": 811,
    "start_time": "2021-10-02T15:56:45.638Z"
   },
   {
    "duration": 135,
    "start_time": "2021-10-02T15:56:46.451Z"
   },
   {
    "duration": 13,
    "start_time": "2021-10-02T15:56:46.588Z"
   },
   {
    "duration": 9,
    "start_time": "2021-10-02T15:56:46.602Z"
   },
   {
    "duration": 5,
    "start_time": "2021-10-02T15:56:46.613Z"
   },
   {
    "duration": 343,
    "start_time": "2021-10-02T15:56:46.620Z"
   },
   {
    "duration": 22,
    "start_time": "2021-10-02T15:56:46.965Z"
   },
   {
    "duration": 18,
    "start_time": "2021-10-02T15:56:46.989Z"
   },
   {
    "duration": 13,
    "start_time": "2021-10-02T15:56:47.009Z"
   },
   {
    "duration": 21,
    "start_time": "2021-10-02T15:56:47.024Z"
   },
   {
    "duration": 48,
    "start_time": "2021-10-02T15:56:47.047Z"
   },
   {
    "duration": 12,
    "start_time": "2021-10-02T15:56:47.096Z"
   },
   {
    "duration": 13,
    "start_time": "2021-10-02T15:56:47.110Z"
   },
   {
    "duration": 18,
    "start_time": "2021-10-02T15:56:47.125Z"
   },
   {
    "duration": 51,
    "start_time": "2021-10-02T15:56:47.145Z"
   },
   {
    "duration": 748,
    "start_time": "2021-10-02T15:56:47.197Z"
   },
   {
    "duration": 5,
    "start_time": "2021-10-02T15:56:47.950Z"
   },
   {
    "duration": 20,
    "start_time": "2021-10-02T15:56:47.958Z"
   },
   {
    "duration": 4,
    "start_time": "2021-10-02T15:56:47.980Z"
   },
   {
    "duration": 6,
    "start_time": "2021-10-02T15:56:47.986Z"
   },
   {
    "duration": 14,
    "start_time": "2021-10-02T15:56:47.994Z"
   },
   {
    "duration": 17,
    "start_time": "2021-10-02T15:56:48.009Z"
   },
   {
    "duration": 318,
    "start_time": "2021-10-02T15:56:48.028Z"
   },
   {
    "duration": 33,
    "start_time": "2021-10-02T15:56:48.348Z"
   },
   {
    "duration": 15,
    "start_time": "2021-10-02T15:56:48.383Z"
   },
   {
    "duration": 4,
    "start_time": "2021-10-02T15:56:48.400Z"
   },
   {
    "duration": 10,
    "start_time": "2021-10-02T15:56:48.406Z"
   },
   {
    "duration": 23,
    "start_time": "2021-10-02T15:56:48.418Z"
   },
   {
    "duration": 50,
    "start_time": "2021-10-02T15:56:48.443Z"
   },
   {
    "duration": 12,
    "start_time": "2021-10-02T15:56:48.495Z"
   },
   {
    "duration": 7,
    "start_time": "2021-10-02T15:56:48.509Z"
   },
   {
    "duration": 10,
    "start_time": "2021-10-02T15:56:48.518Z"
   },
   {
    "duration": 57,
    "start_time": "2021-10-02T15:56:48.530Z"
   },
   {
    "duration": 743,
    "start_time": "2021-10-02T15:56:48.589Z"
   },
   {
    "duration": 5,
    "start_time": "2021-10-02T15:56:49.334Z"
   },
   {
    "duration": 7,
    "start_time": "2021-10-02T15:56:49.341Z"
   },
   {
    "duration": 230,
    "start_time": "2021-10-02T15:56:49.350Z"
   },
   {
    "duration": 472,
    "start_time": "2021-10-02T15:56:49.582Z"
   },
   {
    "duration": 21,
    "start_time": "2021-10-02T15:56:50.056Z"
   },
   {
    "duration": 157,
    "start_time": "2021-10-02T15:56:50.079Z"
   },
   {
    "duration": 13,
    "start_time": "2021-10-02T15:56:50.238Z"
   },
   {
    "duration": 6,
    "start_time": "2021-10-02T15:56:50.252Z"
   },
   {
    "duration": 30,
    "start_time": "2021-10-02T15:56:50.259Z"
   },
   {
    "duration": 485,
    "start_time": "2021-10-02T15:56:50.291Z"
   },
   {
    "duration": 16,
    "start_time": "2021-10-02T15:56:50.778Z"
   },
   {
    "duration": 6,
    "start_time": "2021-10-02T15:56:50.796Z"
   },
   {
    "duration": 425,
    "start_time": "2021-10-02T15:56:50.804Z"
   },
   {
    "duration": -28,
    "start_time": "2021-10-02T15:56:51.259Z"
   },
   {
    "duration": -32,
    "start_time": "2021-10-02T15:56:51.264Z"
   },
   {
    "duration": -39,
    "start_time": "2021-10-02T15:56:51.272Z"
   },
   {
    "duration": -43,
    "start_time": "2021-10-02T15:56:51.277Z"
   },
   {
    "duration": -47,
    "start_time": "2021-10-02T15:56:51.282Z"
   },
   {
    "duration": -51,
    "start_time": "2021-10-02T15:56:51.288Z"
   },
   {
    "duration": -55,
    "start_time": "2021-10-02T15:56:51.293Z"
   },
   {
    "duration": -58,
    "start_time": "2021-10-02T15:56:51.297Z"
   },
   {
    "duration": 147325,
    "start_time": "2021-10-02T15:57:30.034Z"
   },
   {
    "duration": 710,
    "start_time": "2021-10-02T16:00:52.842Z"
   },
   {
    "duration": 125,
    "start_time": "2021-10-02T16:01:16.046Z"
   },
   {
    "duration": 154053,
    "start_time": "2021-10-02T16:01:21.336Z"
   },
   {
    "duration": -34,
    "start_time": "2021-10-02T16:03:55.425Z"
   },
   {
    "duration": 143983,
    "start_time": "2021-10-02T16:05:24.146Z"
   },
   {
    "duration": 2,
    "start_time": "2021-10-02T16:07:48.131Z"
   },
   {
    "duration": 389,
    "start_time": "2021-10-02T16:07:48.135Z"
   },
   {
    "duration": 3,
    "start_time": "2021-10-02T16:54:53.618Z"
   },
   {
    "duration": 16,
    "start_time": "2021-10-02T16:54:59.034Z"
   },
   {
    "duration": 2,
    "start_time": "2021-10-02T16:55:22.530Z"
   },
   {
    "duration": 6,
    "start_time": "2021-10-02T16:55:29.153Z"
   },
   {
    "duration": 332,
    "start_time": "2021-10-02T16:55:32.354Z"
   },
   {
    "duration": 14,
    "start_time": "2021-10-02T16:56:16.026Z"
   },
   {
    "duration": 5,
    "start_time": "2021-10-02T16:56:41.894Z"
   },
   {
    "duration": 8672,
    "start_time": "2021-10-02T16:58:36.009Z"
   },
   {
    "duration": 144398,
    "start_time": "2021-10-02T16:59:19.430Z"
   },
   {
    "duration": 5,
    "start_time": "2021-10-02T17:01:43.830Z"
   },
   {
    "duration": 8,
    "start_time": "2021-10-02T17:01:59.841Z"
   },
   {
    "duration": 8,
    "start_time": "2021-10-02T17:02:19.077Z"
   },
   {
    "duration": 8,
    "start_time": "2021-10-02T17:02:29.286Z"
   },
   {
    "duration": 13,
    "start_time": "2021-10-02T17:03:02.341Z"
   },
   {
    "duration": 9,
    "start_time": "2021-10-02T17:03:17.937Z"
   },
   {
    "duration": 17,
    "start_time": "2021-10-02T17:03:27.213Z"
   },
   {
    "duration": 372,
    "start_time": "2021-10-02T17:07:00.205Z"
   },
   {
    "duration": 436,
    "start_time": "2021-10-02T17:07:18.953Z"
   },
   {
    "duration": 747,
    "start_time": "2021-10-02T17:08:17.089Z"
   },
   {
    "duration": 786,
    "start_time": "2021-10-02T17:08:24.941Z"
   },
   {
    "duration": 110,
    "start_time": "2021-10-02T17:08:31.002Z"
   },
   {
    "duration": 654,
    "start_time": "2021-10-02T17:08:36.529Z"
   },
   {
    "duration": 515,
    "start_time": "2021-10-02T17:08:41.617Z"
   },
   {
    "duration": 136,
    "start_time": "2021-10-02T17:08:53.998Z"
   },
   {
    "duration": 494,
    "start_time": "2021-10-02T17:08:56.597Z"
   },
   {
    "duration": 481,
    "start_time": "2021-10-02T17:09:01.337Z"
   },
   {
    "duration": 358,
    "start_time": "2021-10-02T17:09:46.561Z"
   },
   {
    "duration": 107,
    "start_time": "2021-10-02T17:10:59.873Z"
   },
   {
    "duration": 486,
    "start_time": "2021-10-02T17:11:10.637Z"
   },
   {
    "duration": 477,
    "start_time": "2021-10-02T17:11:26.181Z"
   },
   {
    "duration": 523,
    "start_time": "2021-10-02T17:12:23.921Z"
   },
   {
    "duration": 453,
    "start_time": "2021-10-02T17:14:54.557Z"
   },
   {
    "duration": 14,
    "start_time": "2021-10-02T17:15:34.533Z"
   },
   {
    "duration": 26,
    "start_time": "2021-10-02T17:15:39.985Z"
   },
   {
    "duration": 346,
    "start_time": "2021-10-02T17:16:01.029Z"
   },
   {
    "duration": 13,
    "start_time": "2021-10-02T17:16:18.789Z"
   },
   {
    "duration": 350,
    "start_time": "2021-10-02T17:16:58.829Z"
   },
   {
    "duration": 528,
    "start_time": "2021-10-02T17:18:09.141Z"
   },
   {
    "duration": 536,
    "start_time": "2021-10-02T17:18:17.261Z"
   },
   {
    "duration": 27,
    "start_time": "2021-10-02T17:18:19.957Z"
   },
   {
    "duration": 16,
    "start_time": "2021-10-02T17:19:14.441Z"
   },
   {
    "duration": 8,
    "start_time": "2021-10-02T17:19:16.925Z"
   },
   {
    "duration": 145330,
    "start_time": "2021-10-02T17:20:51.913Z"
   },
   {
    "duration": 152596,
    "start_time": "2021-10-02T17:24:19.333Z"
   },
   {
    "duration": 15,
    "start_time": "2021-10-02T17:27:32.429Z"
   },
   {
    "duration": 24,
    "start_time": "2021-10-02T17:28:22.761Z"
   },
   {
    "duration": 26,
    "start_time": "2021-10-02T17:28:28.373Z"
   },
   {
    "duration": 7,
    "start_time": "2021-10-02T17:32:38.693Z"
   },
   {
    "duration": 4,
    "start_time": "2021-10-02T17:34:23.193Z"
   },
   {
    "duration": 4,
    "start_time": "2021-10-02T17:34:38.952Z"
   },
   {
    "duration": 1243,
    "start_time": "2021-10-02T17:34:48.700Z"
   },
   {
    "duration": 148,
    "start_time": "2021-10-02T17:35:11.537Z"
   },
   {
    "duration": 112,
    "start_time": "2021-10-02T17:35:14.804Z"
   },
   {
    "duration": 4,
    "start_time": "2021-10-02T17:35:22.205Z"
   },
   {
    "duration": 3,
    "start_time": "2021-10-02T17:36:40.769Z"
   },
   {
    "duration": 243,
    "start_time": "2021-10-02T17:36:45.413Z"
   },
   {
    "duration": 339,
    "start_time": "2021-10-02T17:39:03.457Z"
   },
   {
    "duration": 336,
    "start_time": "2021-10-02T17:39:10.029Z"
   },
   {
    "duration": 5,
    "start_time": "2021-10-02T17:39:18.276Z"
   },
   {
    "duration": 4,
    "start_time": "2021-10-02T17:39:48.393Z"
   },
   {
    "duration": 4,
    "start_time": "2021-10-02T17:40:02.064Z"
   },
   {
    "duration": 3,
    "start_time": "2021-10-02T17:40:15.569Z"
   },
   {
    "duration": 151747,
    "start_time": "2021-10-02T17:40:35.604Z"
   },
   {
    "duration": 481,
    "start_time": "2021-10-02T17:46:28.132Z"
   },
   {
    "duration": 144930,
    "start_time": "2021-10-02T17:54:44.376Z"
   },
   {
    "duration": 113,
    "start_time": "2021-10-02T18:59:19.732Z"
   },
   {
    "duration": 26,
    "start_time": "2021-10-02T19:00:43.335Z"
   },
   {
    "duration": 778,
    "start_time": "2021-10-02T19:00:47.068Z"
   },
   {
    "duration": 12,
    "start_time": "2021-10-02T19:02:42.072Z"
   },
   {
    "duration": 10,
    "start_time": "2021-10-02T19:03:05.807Z"
   },
   {
    "duration": 109,
    "start_time": "2021-10-02T19:04:12.487Z"
   },
   {
    "duration": 11,
    "start_time": "2021-10-02T19:04:16.826Z"
   },
   {
    "duration": 491,
    "start_time": "2021-10-02T19:04:20.435Z"
   },
   {
    "duration": 14,
    "start_time": "2021-10-02T19:05:58.838Z"
   },
   {
    "duration": 300,
    "start_time": "2021-10-02T19:06:02.415Z"
   },
   {
    "duration": 352,
    "start_time": "2021-10-02T19:08:51.826Z"
   },
   {
    "duration": 367,
    "start_time": "2021-10-02T19:09:54.206Z"
   },
   {
    "duration": 335,
    "start_time": "2021-10-02T19:10:02.827Z"
   },
   {
    "duration": 24,
    "start_time": "2021-10-02T19:10:42.702Z"
   },
   {
    "duration": 152,
    "start_time": "2021-10-02T19:25:51.587Z"
   },
   {
    "duration": 1184,
    "start_time": "2021-10-02T19:53:38.422Z"
   },
   {
    "duration": 695,
    "start_time": "2021-10-02T19:53:39.608Z"
   },
   {
    "duration": 11,
    "start_time": "2021-10-02T19:53:40.305Z"
   },
   {
    "duration": 65,
    "start_time": "2021-10-02T19:53:40.318Z"
   },
   {
    "duration": 268,
    "start_time": "2021-10-02T19:53:40.385Z"
   },
   {
    "duration": 177,
    "start_time": "2021-10-02T19:53:40.655Z"
   },
   {
    "duration": 3,
    "start_time": "2021-10-02T19:53:40.834Z"
   },
   {
    "duration": 3,
    "start_time": "2021-10-02T19:53:40.840Z"
   },
   {
    "duration": 93,
    "start_time": "2021-10-02T19:53:40.845Z"
   },
   {
    "duration": 24,
    "start_time": "2021-10-02T19:53:40.939Z"
   },
   {
    "duration": 17,
    "start_time": "2021-10-02T19:53:40.964Z"
   },
   {
    "duration": 16,
    "start_time": "2021-10-02T19:53:40.982Z"
   },
   {
    "duration": 10,
    "start_time": "2021-10-02T19:53:41.000Z"
   },
   {
    "duration": 7,
    "start_time": "2021-10-02T19:53:41.012Z"
   },
   {
    "duration": 13,
    "start_time": "2021-10-02T19:53:41.020Z"
   },
   {
    "duration": 48,
    "start_time": "2021-10-02T19:53:41.035Z"
   },
   {
    "duration": 13,
    "start_time": "2021-10-02T19:53:41.085Z"
   },
   {
    "duration": 6,
    "start_time": "2021-10-02T19:53:41.100Z"
   },
   {
    "duration": 5,
    "start_time": "2021-10-02T19:53:41.107Z"
   },
   {
    "duration": 14,
    "start_time": "2021-10-02T19:53:41.114Z"
   },
   {
    "duration": 7,
    "start_time": "2021-10-02T19:53:41.130Z"
   },
   {
    "duration": 42,
    "start_time": "2021-10-02T19:53:41.139Z"
   },
   {
    "duration": 8,
    "start_time": "2021-10-02T19:53:41.187Z"
   },
   {
    "duration": 6,
    "start_time": "2021-10-02T19:53:41.198Z"
   },
   {
    "duration": 8,
    "start_time": "2021-10-02T19:53:41.205Z"
   },
   {
    "duration": 6,
    "start_time": "2021-10-02T19:53:41.215Z"
   },
   {
    "duration": 7,
    "start_time": "2021-10-02T19:53:41.223Z"
   },
   {
    "duration": 45,
    "start_time": "2021-10-02T19:53:41.232Z"
   },
   {
    "duration": 5,
    "start_time": "2021-10-02T19:53:41.279Z"
   },
   {
    "duration": 419,
    "start_time": "2021-10-02T19:53:41.285Z"
   },
   {
    "duration": 319,
    "start_time": "2021-10-02T19:53:41.706Z"
   },
   {
    "duration": 9,
    "start_time": "2021-10-02T19:53:42.026Z"
   },
   {
    "duration": 344,
    "start_time": "2021-10-02T19:53:42.036Z"
   },
   {
    "duration": 4,
    "start_time": "2021-10-02T19:53:42.382Z"
   },
   {
    "duration": 348,
    "start_time": "2021-10-02T19:53:42.388Z"
   },
   {
    "duration": 4,
    "start_time": "2021-10-02T19:53:42.738Z"
   },
   {
    "duration": 335,
    "start_time": "2021-10-02T19:53:42.744Z"
   },
   {
    "duration": 3,
    "start_time": "2021-10-02T19:53:43.081Z"
   },
   {
    "duration": 489,
    "start_time": "2021-10-02T19:53:43.087Z"
   },
   {
    "duration": 115,
    "start_time": "2021-10-02T19:53:43.578Z"
   },
   {
    "duration": 335,
    "start_time": "2021-10-02T19:53:43.695Z"
   },
   {
    "duration": 30,
    "start_time": "2021-10-02T19:53:44.032Z"
   },
   {
    "duration": 36,
    "start_time": "2021-10-02T19:53:44.077Z"
   },
   {
    "duration": 30,
    "start_time": "2021-10-02T19:53:44.115Z"
   },
   {
    "duration": 286,
    "start_time": "2021-10-02T19:53:44.147Z"
   },
   {
    "duration": 93,
    "start_time": "2021-10-02T19:53:44.435Z"
   },
   {
    "duration": 253,
    "start_time": "2021-10-02T19:53:44.530Z"
   },
   {
    "duration": 77,
    "start_time": "2021-10-02T19:53:44.785Z"
   },
   {
    "duration": 22,
    "start_time": "2021-10-02T19:53:44.863Z"
   },
   {
    "duration": 225,
    "start_time": "2021-10-02T19:53:44.887Z"
   },
   {
    "duration": 32,
    "start_time": "2021-10-02T19:53:45.113Z"
   },
   {
    "duration": 796,
    "start_time": "2021-10-02T19:53:45.147Z"
   },
   {
    "duration": 137,
    "start_time": "2021-10-02T19:53:45.945Z"
   },
   {
    "duration": 11,
    "start_time": "2021-10-02T19:53:46.084Z"
   },
   {
    "duration": 9,
    "start_time": "2021-10-02T19:53:46.097Z"
   },
   {
    "duration": 8,
    "start_time": "2021-10-02T19:53:46.107Z"
   },
   {
    "duration": 346,
    "start_time": "2021-10-02T19:53:46.116Z"
   },
   {
    "duration": 26,
    "start_time": "2021-10-02T19:53:46.464Z"
   },
   {
    "duration": 18,
    "start_time": "2021-10-02T19:53:46.492Z"
   },
   {
    "duration": 14,
    "start_time": "2021-10-02T19:53:46.512Z"
   },
   {
    "duration": 22,
    "start_time": "2021-10-02T19:53:46.527Z"
   },
   {
    "duration": 20,
    "start_time": "2021-10-02T19:53:46.577Z"
   },
   {
    "duration": 11,
    "start_time": "2021-10-02T19:53:46.599Z"
   },
   {
    "duration": 12,
    "start_time": "2021-10-02T19:53:46.611Z"
   },
   {
    "duration": 19,
    "start_time": "2021-10-02T19:53:46.624Z"
   },
   {
    "duration": 53,
    "start_time": "2021-10-02T19:53:46.644Z"
   },
   {
    "duration": 738,
    "start_time": "2021-10-02T19:53:46.699Z"
   },
   {
    "duration": 5,
    "start_time": "2021-10-02T19:53:47.442Z"
   },
   {
    "duration": 10,
    "start_time": "2021-10-02T19:53:47.449Z"
   },
   {
    "duration": 16,
    "start_time": "2021-10-02T19:53:47.460Z"
   },
   {
    "duration": 6,
    "start_time": "2021-10-02T19:53:47.478Z"
   },
   {
    "duration": 12,
    "start_time": "2021-10-02T19:53:47.486Z"
   },
   {
    "duration": 14,
    "start_time": "2021-10-02T19:53:47.501Z"
   },
   {
    "duration": 317,
    "start_time": "2021-10-02T19:53:47.517Z"
   },
   {
    "duration": 24,
    "start_time": "2021-10-02T19:53:47.836Z"
   },
   {
    "duration": 25,
    "start_time": "2021-10-02T19:53:47.862Z"
   },
   {
    "duration": 2,
    "start_time": "2021-10-02T19:53:47.889Z"
   },
   {
    "duration": 8,
    "start_time": "2021-10-02T19:53:47.892Z"
   },
   {
    "duration": 20,
    "start_time": "2021-10-02T19:53:47.902Z"
   },
   {
    "duration": 18,
    "start_time": "2021-10-02T19:53:47.924Z"
   },
   {
    "duration": 36,
    "start_time": "2021-10-02T19:53:47.944Z"
   },
   {
    "duration": 7,
    "start_time": "2021-10-02T19:53:47.982Z"
   },
   {
    "duration": 16,
    "start_time": "2021-10-02T19:53:47.990Z"
   },
   {
    "duration": 22,
    "start_time": "2021-10-02T19:53:48.008Z"
   },
   {
    "duration": 805,
    "start_time": "2021-10-02T19:53:48.032Z"
   },
   {
    "duration": 4,
    "start_time": "2021-10-02T19:53:48.839Z"
   },
   {
    "duration": 7,
    "start_time": "2021-10-02T19:53:48.845Z"
   },
   {
    "duration": 226,
    "start_time": "2021-10-02T19:53:48.854Z"
   },
   {
    "duration": 470,
    "start_time": "2021-10-02T19:53:49.082Z"
   },
   {
    "duration": 9,
    "start_time": "2021-10-02T19:53:49.554Z"
   },
   {
    "duration": 157,
    "start_time": "2021-10-02T19:53:49.577Z"
   },
   {
    "duration": 8,
    "start_time": "2021-10-02T19:53:49.736Z"
   },
   {
    "duration": 360,
    "start_time": "2021-10-02T19:53:49.746Z"
   },
   {
    "duration": 55497,
    "start_time": "2021-10-02T19:52:54.611Z"
   },
   {
    "duration": 55493,
    "start_time": "2021-10-02T19:52:54.617Z"
   },
   {
    "duration": 55490,
    "start_time": "2021-10-02T19:52:54.622Z"
   },
   {
    "duration": 55486,
    "start_time": "2021-10-02T19:52:54.627Z"
   },
   {
    "duration": 55483,
    "start_time": "2021-10-02T19:52:54.632Z"
   },
   {
    "duration": 55479,
    "start_time": "2021-10-02T19:52:54.637Z"
   },
   {
    "duration": 55476,
    "start_time": "2021-10-02T19:52:54.642Z"
   },
   {
    "duration": 55471,
    "start_time": "2021-10-02T19:52:54.648Z"
   },
   {
    "duration": 55468,
    "start_time": "2021-10-02T19:52:54.653Z"
   },
   {
    "duration": 55457,
    "start_time": "2021-10-02T19:52:54.665Z"
   },
   {
    "duration": 55454,
    "start_time": "2021-10-02T19:52:54.670Z"
   },
   {
    "duration": 1394,
    "start_time": "2021-10-02T19:56:19.609Z"
   },
   {
    "duration": 638,
    "start_time": "2021-10-02T19:56:21.005Z"
   },
   {
    "duration": 12,
    "start_time": "2021-10-02T19:56:21.645Z"
   },
   {
    "duration": 52,
    "start_time": "2021-10-02T19:56:21.660Z"
   },
   {
    "duration": 268,
    "start_time": "2021-10-02T19:56:21.714Z"
   },
   {
    "duration": 179,
    "start_time": "2021-10-02T19:56:21.984Z"
   },
   {
    "duration": 5,
    "start_time": "2021-10-02T19:56:22.164Z"
   },
   {
    "duration": 3,
    "start_time": "2021-10-02T19:56:22.178Z"
   },
   {
    "duration": 72,
    "start_time": "2021-10-02T19:56:22.183Z"
   },
   {
    "duration": 40,
    "start_time": "2021-10-02T19:56:22.257Z"
   },
   {
    "duration": 8,
    "start_time": "2021-10-02T19:56:22.299Z"
   },
   {
    "duration": 18,
    "start_time": "2021-10-02T19:56:22.309Z"
   },
   {
    "duration": 10,
    "start_time": "2021-10-02T19:56:22.329Z"
   },
   {
    "duration": 42,
    "start_time": "2021-10-02T19:56:22.341Z"
   },
   {
    "duration": 11,
    "start_time": "2021-10-02T19:56:22.385Z"
   },
   {
    "duration": 17,
    "start_time": "2021-10-02T19:56:22.398Z"
   },
   {
    "duration": 13,
    "start_time": "2021-10-02T19:56:22.417Z"
   },
   {
    "duration": 9,
    "start_time": "2021-10-02T19:56:22.432Z"
   },
   {
    "duration": 34,
    "start_time": "2021-10-02T19:56:22.443Z"
   },
   {
    "duration": 13,
    "start_time": "2021-10-02T19:56:22.478Z"
   },
   {
    "duration": 6,
    "start_time": "2021-10-02T19:56:22.493Z"
   },
   {
    "duration": 12,
    "start_time": "2021-10-02T19:56:22.500Z"
   },
   {
    "duration": 10,
    "start_time": "2021-10-02T19:56:22.516Z"
   },
   {
    "duration": 5,
    "start_time": "2021-10-02T19:56:22.529Z"
   },
   {
    "duration": 5,
    "start_time": "2021-10-02T19:56:22.535Z"
   },
   {
    "duration": 37,
    "start_time": "2021-10-02T19:56:22.542Z"
   },
   {
    "duration": 8,
    "start_time": "2021-10-02T19:56:22.581Z"
   },
   {
    "duration": 6,
    "start_time": "2021-10-02T19:56:22.591Z"
   },
   {
    "duration": 6,
    "start_time": "2021-10-02T19:56:22.598Z"
   },
   {
    "duration": 424,
    "start_time": "2021-10-02T19:56:22.606Z"
   },
   {
    "duration": 316,
    "start_time": "2021-10-02T19:56:23.032Z"
   },
   {
    "duration": 9,
    "start_time": "2021-10-02T19:56:23.350Z"
   },
   {
    "duration": 333,
    "start_time": "2021-10-02T19:56:23.361Z"
   },
   {
    "duration": 4,
    "start_time": "2021-10-02T19:56:23.696Z"
   },
   {
    "duration": 340,
    "start_time": "2021-10-02T19:56:23.701Z"
   },
   {
    "duration": 4,
    "start_time": "2021-10-02T19:56:24.042Z"
   },
   {
    "duration": 322,
    "start_time": "2021-10-02T19:56:24.048Z"
   },
   {
    "duration": 6,
    "start_time": "2021-10-02T19:56:24.372Z"
   },
   {
    "duration": 475,
    "start_time": "2021-10-02T19:56:24.379Z"
   },
   {
    "duration": 108,
    "start_time": "2021-10-02T19:56:24.855Z"
   },
   {
    "duration": 306,
    "start_time": "2021-10-02T19:56:24.977Z"
   },
   {
    "duration": 30,
    "start_time": "2021-10-02T19:56:25.285Z"
   },
   {
    "duration": 35,
    "start_time": "2021-10-02T19:56:25.317Z"
   },
   {
    "duration": 49,
    "start_time": "2021-10-02T19:56:25.353Z"
   },
   {
    "duration": 272,
    "start_time": "2021-10-02T19:56:25.404Z"
   },
   {
    "duration": 77,
    "start_time": "2021-10-02T19:56:25.678Z"
   },
   {
    "duration": 363,
    "start_time": "2021-10-02T19:56:25.757Z"
   },
   {
    "duration": 83,
    "start_time": "2021-10-02T19:56:26.121Z"
   },
   {
    "duration": 13,
    "start_time": "2021-10-02T19:56:26.205Z"
   },
   {
    "duration": 224,
    "start_time": "2021-10-02T19:56:26.219Z"
   },
   {
    "duration": 43,
    "start_time": "2021-10-02T19:56:26.444Z"
   },
   {
    "duration": 752,
    "start_time": "2021-10-02T19:56:26.489Z"
   },
   {
    "duration": 198,
    "start_time": "2021-10-02T19:56:27.243Z"
   },
   {
    "duration": 12,
    "start_time": "2021-10-02T19:56:27.442Z"
   },
   {
    "duration": 21,
    "start_time": "2021-10-02T19:56:27.456Z"
   },
   {
    "duration": 6,
    "start_time": "2021-10-02T19:56:27.479Z"
   },
   {
    "duration": 316,
    "start_time": "2021-10-02T19:56:27.487Z"
   },
   {
    "duration": 17,
    "start_time": "2021-10-02T19:56:27.805Z"
   },
   {
    "duration": 20,
    "start_time": "2021-10-02T19:56:27.824Z"
   },
   {
    "duration": 14,
    "start_time": "2021-10-02T19:56:27.846Z"
   },
   {
    "duration": 31,
    "start_time": "2021-10-02T19:56:27.862Z"
   },
   {
    "duration": 24,
    "start_time": "2021-10-02T19:56:27.894Z"
   },
   {
    "duration": 11,
    "start_time": "2021-10-02T19:56:27.920Z"
   },
   {
    "duration": 11,
    "start_time": "2021-10-02T19:56:27.933Z"
   },
   {
    "duration": 31,
    "start_time": "2021-10-02T19:56:27.946Z"
   },
   {
    "duration": 24,
    "start_time": "2021-10-02T19:56:27.979Z"
   },
   {
    "duration": 1023,
    "start_time": "2021-10-02T19:56:28.005Z"
   },
   {
    "duration": 4,
    "start_time": "2021-10-02T19:56:29.034Z"
   },
   {
    "duration": 7,
    "start_time": "2021-10-02T19:56:29.042Z"
   },
   {
    "duration": 4,
    "start_time": "2021-10-02T19:56:29.051Z"
   },
   {
    "duration": 7,
    "start_time": "2021-10-02T19:56:29.057Z"
   },
   {
    "duration": 20,
    "start_time": "2021-10-02T19:56:29.066Z"
   },
   {
    "duration": 13,
    "start_time": "2021-10-02T19:56:29.088Z"
   },
   {
    "duration": 286,
    "start_time": "2021-10-02T19:56:29.102Z"
   },
   {
    "duration": 24,
    "start_time": "2021-10-02T19:56:29.389Z"
   },
   {
    "duration": 13,
    "start_time": "2021-10-02T19:56:29.414Z"
   },
   {
    "duration": 2,
    "start_time": "2021-10-02T19:56:29.428Z"
   },
   {
    "duration": 11,
    "start_time": "2021-10-02T19:56:29.432Z"
   },
   {
    "duration": 23,
    "start_time": "2021-10-02T19:56:29.445Z"
   },
   {
    "duration": 19,
    "start_time": "2021-10-02T19:56:29.469Z"
   },
   {
    "duration": 13,
    "start_time": "2021-10-02T19:56:29.489Z"
   },
   {
    "duration": 8,
    "start_time": "2021-10-02T19:56:29.503Z"
   },
   {
    "duration": 12,
    "start_time": "2021-10-02T19:56:29.513Z"
   },
   {
    "duration": 23,
    "start_time": "2021-10-02T19:56:29.527Z"
   },
   {
    "duration": 960,
    "start_time": "2021-10-02T19:56:29.552Z"
   },
   {
    "duration": 4,
    "start_time": "2021-10-02T19:56:30.513Z"
   },
   {
    "duration": 22,
    "start_time": "2021-10-02T19:56:30.519Z"
   },
   {
    "duration": 215,
    "start_time": "2021-10-02T19:56:30.543Z"
   },
   {
    "duration": 460,
    "start_time": "2021-10-02T19:56:30.760Z"
   },
   {
    "duration": 7,
    "start_time": "2021-10-02T19:56:31.222Z"
   },
   {
    "duration": 154,
    "start_time": "2021-10-02T19:56:31.231Z"
   },
   {
    "duration": 6,
    "start_time": "2021-10-02T19:56:31.387Z"
   },
   {
    "duration": 366,
    "start_time": "2021-10-02T19:56:31.395Z"
   },
   {
    "duration": 55501,
    "start_time": "2021-10-02T19:55:36.262Z"
   },
   {
    "duration": 55497,
    "start_time": "2021-10-02T19:55:36.268Z"
   },
   {
    "duration": 55493,
    "start_time": "2021-10-02T19:55:36.273Z"
   },
   {
    "duration": 55488,
    "start_time": "2021-10-02T19:55:36.279Z"
   },
   {
    "duration": 55484,
    "start_time": "2021-10-02T19:55:36.284Z"
   },
   {
    "duration": 55478,
    "start_time": "2021-10-02T19:55:36.291Z"
   },
   {
    "duration": 55474,
    "start_time": "2021-10-02T19:55:36.296Z"
   },
   {
    "duration": 55470,
    "start_time": "2021-10-02T19:55:36.301Z"
   },
   {
    "duration": 55466,
    "start_time": "2021-10-02T19:55:36.306Z"
   },
   {
    "duration": 55461,
    "start_time": "2021-10-02T19:55:36.312Z"
   },
   {
    "duration": 55457,
    "start_time": "2021-10-02T19:55:36.317Z"
   },
   {
    "duration": 2087,
    "start_time": "2021-10-02T19:57:03.328Z"
   },
   {
    "duration": 638,
    "start_time": "2021-10-02T19:57:05.417Z"
   },
   {
    "duration": 11,
    "start_time": "2021-10-02T19:57:06.057Z"
   },
   {
    "duration": 56,
    "start_time": "2021-10-02T19:57:06.070Z"
   },
   {
    "duration": 277,
    "start_time": "2021-10-02T19:57:06.127Z"
   },
   {
    "duration": 175,
    "start_time": "2021-10-02T19:57:06.406Z"
   },
   {
    "duration": 4,
    "start_time": "2021-10-02T19:57:06.583Z"
   },
   {
    "duration": 5,
    "start_time": "2021-10-02T19:57:06.589Z"
   },
   {
    "duration": 87,
    "start_time": "2021-10-02T19:57:06.596Z"
   },
   {
    "duration": 23,
    "start_time": "2021-10-02T19:57:06.684Z"
   },
   {
    "duration": 7,
    "start_time": "2021-10-02T19:57:06.708Z"
   },
   {
    "duration": 18,
    "start_time": "2021-10-02T19:57:06.716Z"
   },
   {
    "duration": 9,
    "start_time": "2021-10-02T19:57:06.735Z"
   },
   {
    "duration": 35,
    "start_time": "2021-10-02T19:57:06.745Z"
   },
   {
    "duration": 9,
    "start_time": "2021-10-02T19:57:06.782Z"
   },
   {
    "duration": 15,
    "start_time": "2021-10-02T19:57:06.793Z"
   },
   {
    "duration": 12,
    "start_time": "2021-10-02T19:57:06.810Z"
   },
   {
    "duration": 6,
    "start_time": "2021-10-02T19:57:06.823Z"
   },
   {
    "duration": 4,
    "start_time": "2021-10-02T19:57:06.830Z"
   },
   {
    "duration": 43,
    "start_time": "2021-10-02T19:57:06.835Z"
   },
   {
    "duration": 6,
    "start_time": "2021-10-02T19:57:06.880Z"
   },
   {
    "duration": 6,
    "start_time": "2021-10-02T19:57:06.888Z"
   },
   {
    "duration": 7,
    "start_time": "2021-10-02T19:57:06.899Z"
   },
   {
    "duration": 6,
    "start_time": "2021-10-02T19:57:06.908Z"
   },
   {
    "duration": 5,
    "start_time": "2021-10-02T19:57:06.915Z"
   },
   {
    "duration": 5,
    "start_time": "2021-10-02T19:57:06.922Z"
   },
   {
    "duration": 49,
    "start_time": "2021-10-02T19:57:06.929Z"
   },
   {
    "duration": 7,
    "start_time": "2021-10-02T19:57:06.980Z"
   },
   {
    "duration": 5,
    "start_time": "2021-10-02T19:57:06.989Z"
   },
   {
    "duration": 430,
    "start_time": "2021-10-02T19:57:06.996Z"
   },
   {
    "duration": 325,
    "start_time": "2021-10-02T19:57:07.428Z"
   },
   {
    "duration": 10,
    "start_time": "2021-10-02T19:57:07.755Z"
   },
   {
    "duration": 336,
    "start_time": "2021-10-02T19:57:07.776Z"
   },
   {
    "duration": 3,
    "start_time": "2021-10-02T19:57:08.113Z"
   },
   {
    "duration": 338,
    "start_time": "2021-10-02T19:57:08.118Z"
   },
   {
    "duration": 3,
    "start_time": "2021-10-02T19:57:08.458Z"
   },
   {
    "duration": 420,
    "start_time": "2021-10-02T19:57:08.463Z"
   },
   {
    "duration": 3,
    "start_time": "2021-10-02T19:57:08.885Z"
   },
   {
    "duration": 490,
    "start_time": "2021-10-02T19:57:08.889Z"
   },
   {
    "duration": 118,
    "start_time": "2021-10-02T19:57:09.381Z"
   },
   {
    "duration": 316,
    "start_time": "2021-10-02T19:57:09.501Z"
   },
   {
    "duration": 30,
    "start_time": "2021-10-02T19:57:09.819Z"
   },
   {
    "duration": 49,
    "start_time": "2021-10-02T19:57:09.850Z"
   },
   {
    "duration": 29,
    "start_time": "2021-10-02T19:57:09.901Z"
   },
   {
    "duration": 278,
    "start_time": "2021-10-02T19:57:09.931Z"
   },
   {
    "duration": 86,
    "start_time": "2021-10-02T19:57:10.210Z"
   },
   {
    "duration": 255,
    "start_time": "2021-10-02T19:57:10.298Z"
   },
   {
    "duration": 86,
    "start_time": "2021-10-02T19:57:10.555Z"
   },
   {
    "duration": 12,
    "start_time": "2021-10-02T19:57:10.642Z"
   },
   {
    "duration": 224,
    "start_time": "2021-10-02T19:57:10.656Z"
   },
   {
    "duration": 33,
    "start_time": "2021-10-02T19:57:10.882Z"
   },
   {
    "duration": 766,
    "start_time": "2021-10-02T19:57:10.916Z"
   },
   {
    "duration": 141,
    "start_time": "2021-10-02T19:57:11.684Z"
   },
   {
    "duration": 12,
    "start_time": "2021-10-02T19:57:11.827Z"
   },
   {
    "duration": 20,
    "start_time": "2021-10-02T19:57:11.841Z"
   },
   {
    "duration": 16,
    "start_time": "2021-10-02T19:57:11.862Z"
   },
   {
    "duration": 322,
    "start_time": "2021-10-02T19:57:11.879Z"
   },
   {
    "duration": 19,
    "start_time": "2021-10-02T19:57:12.203Z"
   },
   {
    "duration": 19,
    "start_time": "2021-10-02T19:57:12.223Z"
   },
   {
    "duration": 35,
    "start_time": "2021-10-02T19:57:12.243Z"
   },
   {
    "duration": 22,
    "start_time": "2021-10-02T19:57:12.279Z"
   },
   {
    "duration": 19,
    "start_time": "2021-10-02T19:57:12.303Z"
   },
   {
    "duration": 14,
    "start_time": "2021-10-02T19:57:12.324Z"
   },
   {
    "duration": 42,
    "start_time": "2021-10-02T19:57:12.340Z"
   },
   {
    "duration": 30,
    "start_time": "2021-10-02T19:57:12.384Z"
   },
   {
    "duration": 33,
    "start_time": "2021-10-02T19:57:12.416Z"
   },
   {
    "duration": 781,
    "start_time": "2021-10-02T19:57:12.450Z"
   },
   {
    "duration": 5,
    "start_time": "2021-10-02T19:57:13.237Z"
   },
   {
    "duration": 37,
    "start_time": "2021-10-02T19:57:13.244Z"
   },
   {
    "duration": 19,
    "start_time": "2021-10-02T19:57:13.283Z"
   },
   {
    "duration": 21,
    "start_time": "2021-10-02T19:57:13.304Z"
   },
   {
    "duration": 22,
    "start_time": "2021-10-02T19:57:13.327Z"
   },
   {
    "duration": 23,
    "start_time": "2021-10-02T19:57:13.351Z"
   },
   {
    "duration": 281,
    "start_time": "2021-10-02T19:57:13.376Z"
   },
   {
    "duration": 34,
    "start_time": "2021-10-02T19:57:13.658Z"
   },
   {
    "duration": 14,
    "start_time": "2021-10-02T19:57:13.693Z"
   },
   {
    "duration": 13,
    "start_time": "2021-10-02T19:57:13.709Z"
   },
   {
    "duration": 29,
    "start_time": "2021-10-02T19:57:13.724Z"
   },
   {
    "duration": 25,
    "start_time": "2021-10-02T19:57:13.755Z"
   },
   {
    "duration": 18,
    "start_time": "2021-10-02T19:57:13.782Z"
   },
   {
    "duration": 21,
    "start_time": "2021-10-02T19:57:13.801Z"
   },
   {
    "duration": 19,
    "start_time": "2021-10-02T19:57:13.824Z"
   },
   {
    "duration": 25,
    "start_time": "2021-10-02T19:57:13.845Z"
   },
   {
    "duration": 35,
    "start_time": "2021-10-02T19:57:13.872Z"
   },
   {
    "duration": 753,
    "start_time": "2021-10-02T19:57:13.909Z"
   },
   {
    "duration": 13,
    "start_time": "2021-10-02T19:57:14.663Z"
   },
   {
    "duration": 13,
    "start_time": "2021-10-02T19:57:14.678Z"
   },
   {
    "duration": 224,
    "start_time": "2021-10-02T19:57:14.693Z"
   },
   {
    "duration": 464,
    "start_time": "2021-10-02T19:57:14.919Z"
   },
   {
    "duration": 7,
    "start_time": "2021-10-02T19:57:15.385Z"
   },
   {
    "duration": 161,
    "start_time": "2021-10-02T19:57:15.394Z"
   },
   {
    "duration": 19,
    "start_time": "2021-10-02T19:57:15.557Z"
   },
   {
    "duration": 455,
    "start_time": "2021-10-02T19:57:15.578Z"
   },
   {
    "duration": 55496,
    "start_time": "2021-10-02T19:56:20.540Z"
   },
   {
    "duration": 55488,
    "start_time": "2021-10-02T19:56:20.549Z"
   },
   {
    "duration": 55483,
    "start_time": "2021-10-02T19:56:20.555Z"
   },
   {
    "duration": 55479,
    "start_time": "2021-10-02T19:56:20.561Z"
   },
   {
    "duration": 55475,
    "start_time": "2021-10-02T19:56:20.566Z"
   },
   {
    "duration": 55469,
    "start_time": "2021-10-02T19:56:20.573Z"
   },
   {
    "duration": 55466,
    "start_time": "2021-10-02T19:56:20.578Z"
   },
   {
    "duration": 55460,
    "start_time": "2021-10-02T19:56:20.585Z"
   },
   {
    "duration": 55457,
    "start_time": "2021-10-02T19:56:20.590Z"
   },
   {
    "duration": 55452,
    "start_time": "2021-10-02T19:56:20.596Z"
   },
   {
    "duration": 55449,
    "start_time": "2021-10-02T19:56:20.601Z"
   },
   {
    "duration": 250,
    "start_time": "2021-10-02T19:58:46.791Z"
   },
   {
    "duration": 250,
    "start_time": "2021-10-02T19:58:50.622Z"
   },
   {
    "duration": 263,
    "start_time": "2021-10-02T19:59:15.960Z"
   },
   {
    "duration": 58477,
    "start_time": "2021-10-02T20:00:01.695Z"
   },
   {
    "duration": 226,
    "start_time": "2021-10-02T23:45:04.769Z"
   },
   {
    "duration": 1076,
    "start_time": "2021-10-02T23:45:14.748Z"
   },
   {
    "duration": 710,
    "start_time": "2021-10-02T23:45:15.826Z"
   },
   {
    "duration": 10,
    "start_time": "2021-10-02T23:45:16.538Z"
   },
   {
    "duration": 89,
    "start_time": "2021-10-02T23:45:16.549Z"
   },
   {
    "duration": 350,
    "start_time": "2021-10-02T23:45:16.640Z"
   },
   {
    "duration": 171,
    "start_time": "2021-10-02T23:45:16.992Z"
   },
   {
    "duration": 4,
    "start_time": "2021-10-02T23:45:17.165Z"
   },
   {
    "duration": 6,
    "start_time": "2021-10-02T23:45:17.172Z"
   },
   {
    "duration": 81,
    "start_time": "2021-10-02T23:45:17.181Z"
   },
   {
    "duration": 22,
    "start_time": "2021-10-02T23:45:17.264Z"
   },
   {
    "duration": 16,
    "start_time": "2021-10-02T23:45:17.288Z"
   },
   {
    "duration": 15,
    "start_time": "2021-10-02T23:45:17.306Z"
   },
   {
    "duration": 9,
    "start_time": "2021-10-02T23:45:17.323Z"
   },
   {
    "duration": 7,
    "start_time": "2021-10-02T23:45:17.334Z"
   },
   {
    "duration": 10,
    "start_time": "2021-10-02T23:45:17.343Z"
   },
   {
    "duration": 53,
    "start_time": "2021-10-02T23:45:17.355Z"
   },
   {
    "duration": 13,
    "start_time": "2021-10-02T23:45:17.410Z"
   },
   {
    "duration": 6,
    "start_time": "2021-10-02T23:45:17.425Z"
   },
   {
    "duration": 3,
    "start_time": "2021-10-02T23:45:17.433Z"
   },
   {
    "duration": 12,
    "start_time": "2021-10-02T23:45:17.438Z"
   },
   {
    "duration": 8,
    "start_time": "2021-10-02T23:45:17.451Z"
   },
   {
    "duration": 45,
    "start_time": "2021-10-02T23:45:17.460Z"
   },
   {
    "duration": 7,
    "start_time": "2021-10-02T23:45:17.510Z"
   },
   {
    "duration": 5,
    "start_time": "2021-10-02T23:45:17.520Z"
   },
   {
    "duration": 4,
    "start_time": "2021-10-02T23:45:17.527Z"
   },
   {
    "duration": 6,
    "start_time": "2021-10-02T23:45:17.533Z"
   },
   {
    "duration": 8,
    "start_time": "2021-10-02T23:45:17.540Z"
   },
   {
    "duration": 6,
    "start_time": "2021-10-02T23:45:17.549Z"
   },
   {
    "duration": 4,
    "start_time": "2021-10-02T23:45:17.599Z"
   },
   {
    "duration": 616,
    "start_time": "2021-10-02T23:45:17.605Z"
   },
   {
    "duration": 311,
    "start_time": "2021-10-02T23:45:18.222Z"
   },
   {
    "duration": 6,
    "start_time": "2021-10-02T23:45:18.534Z"
   },
   {
    "duration": 345,
    "start_time": "2021-10-02T23:45:18.541Z"
   },
   {
    "duration": 3,
    "start_time": "2021-10-02T23:45:18.887Z"
   },
   {
    "duration": 430,
    "start_time": "2021-10-02T23:45:18.892Z"
   },
   {
    "duration": 3,
    "start_time": "2021-10-02T23:45:19.324Z"
   },
   {
    "duration": 432,
    "start_time": "2021-10-02T23:45:19.328Z"
   },
   {
    "duration": 4,
    "start_time": "2021-10-02T23:45:19.761Z"
   },
   {
    "duration": 490,
    "start_time": "2021-10-02T23:45:19.766Z"
   },
   {
    "duration": 113,
    "start_time": "2021-10-02T23:45:20.258Z"
   },
   {
    "duration": 314,
    "start_time": "2021-10-02T23:45:20.372Z"
   },
   {
    "duration": 33,
    "start_time": "2021-10-02T23:45:20.688Z"
   },
   {
    "duration": 37,
    "start_time": "2021-10-02T23:45:20.722Z"
   },
   {
    "duration": 43,
    "start_time": "2021-10-02T23:45:20.760Z"
   },
   {
    "duration": 270,
    "start_time": "2021-10-02T23:45:20.805Z"
   },
   {
    "duration": 81,
    "start_time": "2021-10-02T23:45:21.077Z"
   },
   {
    "duration": 261,
    "start_time": "2021-10-02T23:45:21.159Z"
   },
   {
    "duration": 81,
    "start_time": "2021-10-02T23:45:21.421Z"
   },
   {
    "duration": 12,
    "start_time": "2021-10-02T23:45:21.504Z"
   },
   {
    "duration": 222,
    "start_time": "2021-10-02T23:45:21.517Z"
   },
   {
    "duration": 34,
    "start_time": "2021-10-02T23:45:21.740Z"
   },
   {
    "duration": 831,
    "start_time": "2021-10-02T23:45:21.776Z"
   },
   {
    "duration": 137,
    "start_time": "2021-10-02T23:45:22.608Z"
   },
   {
    "duration": 12,
    "start_time": "2021-10-02T23:45:22.747Z"
   },
   {
    "duration": 13,
    "start_time": "2021-10-02T23:45:22.760Z"
   },
   {
    "duration": 26,
    "start_time": "2021-10-02T23:45:22.774Z"
   },
   {
    "duration": 352,
    "start_time": "2021-10-02T23:45:22.802Z"
   },
   {
    "duration": 17,
    "start_time": "2021-10-02T23:45:23.156Z"
   },
   {
    "duration": 29,
    "start_time": "2021-10-02T23:45:23.175Z"
   },
   {
    "duration": 13,
    "start_time": "2021-10-02T23:45:23.206Z"
   },
   {
    "duration": 21,
    "start_time": "2021-10-02T23:45:23.220Z"
   },
   {
    "duration": 19,
    "start_time": "2021-10-02T23:45:23.242Z"
   },
   {
    "duration": 48,
    "start_time": "2021-10-02T23:45:23.262Z"
   },
   {
    "duration": 11,
    "start_time": "2021-10-02T23:45:23.312Z"
   },
   {
    "duration": 18,
    "start_time": "2021-10-02T23:45:23.324Z"
   },
   {
    "duration": 21,
    "start_time": "2021-10-02T23:45:23.343Z"
   },
   {
    "duration": 825,
    "start_time": "2021-10-02T23:45:23.366Z"
   },
   {
    "duration": 5,
    "start_time": "2021-10-02T23:45:24.197Z"
   },
   {
    "duration": 6,
    "start_time": "2021-10-02T23:45:24.204Z"
   },
   {
    "duration": 4,
    "start_time": "2021-10-02T23:45:24.212Z"
   },
   {
    "duration": 6,
    "start_time": "2021-10-02T23:45:24.218Z"
   },
   {
    "duration": 12,
    "start_time": "2021-10-02T23:45:24.225Z"
   },
   {
    "duration": 12,
    "start_time": "2021-10-02T23:45:24.239Z"
   },
   {
    "duration": 331,
    "start_time": "2021-10-02T23:45:24.253Z"
   },
   {
    "duration": 28,
    "start_time": "2021-10-02T23:45:24.585Z"
   },
   {
    "duration": 13,
    "start_time": "2021-10-02T23:45:24.614Z"
   },
   {
    "duration": 2,
    "start_time": "2021-10-02T23:45:24.628Z"
   },
   {
    "duration": 7,
    "start_time": "2021-10-02T23:45:24.632Z"
   },
   {
    "duration": 21,
    "start_time": "2021-10-02T23:45:24.641Z"
   },
   {
    "duration": 45,
    "start_time": "2021-10-02T23:45:24.663Z"
   },
   {
    "duration": 11,
    "start_time": "2021-10-02T23:45:24.710Z"
   },
   {
    "duration": 6,
    "start_time": "2021-10-02T23:45:24.723Z"
   },
   {
    "duration": 12,
    "start_time": "2021-10-02T23:45:24.730Z"
   },
   {
    "duration": 21,
    "start_time": "2021-10-02T23:45:24.744Z"
   },
   {
    "duration": 815,
    "start_time": "2021-10-02T23:45:24.767Z"
   },
   {
    "duration": 3,
    "start_time": "2021-10-02T23:45:25.584Z"
   },
   {
    "duration": 10,
    "start_time": "2021-10-02T23:45:25.589Z"
   },
   {
    "duration": 241,
    "start_time": "2021-10-02T23:45:25.601Z"
   },
   {
    "duration": 472,
    "start_time": "2021-10-02T23:45:25.844Z"
   },
   {
    "duration": 8,
    "start_time": "2021-10-02T23:45:26.317Z"
   },
   {
    "duration": 154,
    "start_time": "2021-10-02T23:45:26.327Z"
   },
   {
    "duration": 7,
    "start_time": "2021-10-02T23:45:26.483Z"
   },
   {
    "duration": 284,
    "start_time": "2021-10-02T23:45:26.492Z"
   },
   {
    "duration": -39,
    "start_time": "2021-10-02T23:45:26.817Z"
   },
   {
    "duration": -44,
    "start_time": "2021-10-02T23:45:26.823Z"
   },
   {
    "duration": -47,
    "start_time": "2021-10-02T23:45:26.827Z"
   },
   {
    "duration": -50,
    "start_time": "2021-10-02T23:45:26.831Z"
   },
   {
    "duration": -54,
    "start_time": "2021-10-02T23:45:26.836Z"
   },
   {
    "duration": -58,
    "start_time": "2021-10-02T23:45:26.841Z"
   },
   {
    "duration": -63,
    "start_time": "2021-10-02T23:45:26.847Z"
   },
   {
    "duration": -67,
    "start_time": "2021-10-02T23:45:26.852Z"
   },
   {
    "duration": -73,
    "start_time": "2021-10-02T23:45:26.859Z"
   },
   {
    "duration": -78,
    "start_time": "2021-10-02T23:45:26.865Z"
   },
   {
    "duration": -82,
    "start_time": "2021-10-02T23:45:26.870Z"
   },
   {
    "duration": 8,
    "start_time": "2021-10-02T23:47:49.457Z"
   },
   {
    "duration": 7,
    "start_time": "2021-10-02T23:47:56.849Z"
   },
   {
    "duration": 7,
    "start_time": "2021-10-02T23:48:02.482Z"
   },
   {
    "duration": 175,
    "start_time": "2021-10-02T23:48:44.973Z"
   },
   {
    "duration": 480,
    "start_time": "2021-10-02T23:53:03.628Z"
   },
   {
    "duration": 473,
    "start_time": "2021-10-02T23:53:12.957Z"
   },
   {
    "duration": 363,
    "start_time": "2021-10-02T23:53:35.565Z"
   },
   {
    "duration": 3,
    "start_time": "2021-10-02T23:54:46.945Z"
   },
   {
    "duration": 451,
    "start_time": "2021-10-02T23:54:52.584Z"
   },
   {
    "duration": 175,
    "start_time": "2021-10-02T23:55:33.641Z"
   },
   {
    "duration": 182,
    "start_time": "2021-10-02T23:55:40.081Z"
   },
   {
    "duration": 188,
    "start_time": "2021-10-02T23:56:12.517Z"
   },
   {
    "duration": 8,
    "start_time": "2021-10-02T23:56:58.769Z"
   },
   {
    "duration": 181,
    "start_time": "2021-10-02T23:57:18.017Z"
   },
   {
    "duration": 9,
    "start_time": "2021-10-02T23:57:21.169Z"
   },
   {
    "duration": -41,
    "start_time": "2021-10-02T23:59:12.475Z"
   },
   {
    "duration": 1106,
    "start_time": "2021-10-02T23:59:28.193Z"
   },
   {
    "duration": 591,
    "start_time": "2021-10-02T23:59:29.301Z"
   },
   {
    "duration": 10,
    "start_time": "2021-10-02T23:59:29.894Z"
   },
   {
    "duration": 54,
    "start_time": "2021-10-02T23:59:29.906Z"
   },
   {
    "duration": 279,
    "start_time": "2021-10-02T23:59:29.961Z"
   },
   {
    "duration": 171,
    "start_time": "2021-10-02T23:59:30.242Z"
   },
   {
    "duration": 4,
    "start_time": "2021-10-02T23:59:30.415Z"
   },
   {
    "duration": 18,
    "start_time": "2021-10-02T23:59:30.422Z"
   },
   {
    "duration": 88,
    "start_time": "2021-10-02T23:59:30.442Z"
   },
   {
    "duration": 20,
    "start_time": "2021-10-02T23:59:30.532Z"
   },
   {
    "duration": 6,
    "start_time": "2021-10-02T23:59:30.554Z"
   },
   {
    "duration": 39,
    "start_time": "2021-10-02T23:59:30.562Z"
   },
   {
    "duration": 9,
    "start_time": "2021-10-02T23:59:30.603Z"
   },
   {
    "duration": 6,
    "start_time": "2021-10-02T23:59:30.614Z"
   },
   {
    "duration": 15,
    "start_time": "2021-10-02T23:59:30.622Z"
   },
   {
    "duration": 21,
    "start_time": "2021-10-02T23:59:30.638Z"
   },
   {
    "duration": 12,
    "start_time": "2021-10-02T23:59:30.660Z"
   },
   {
    "duration": 3,
    "start_time": "2021-10-02T23:59:30.700Z"
   },
   {
    "duration": 13,
    "start_time": "2021-10-02T23:59:30.705Z"
   },
   {
    "duration": 17,
    "start_time": "2021-10-02T23:59:30.719Z"
   },
   {
    "duration": 9,
    "start_time": "2021-10-02T23:59:30.737Z"
   },
   {
    "duration": 13,
    "start_time": "2021-10-02T23:59:30.747Z"
   },
   {
    "duration": 10,
    "start_time": "2021-10-02T23:59:30.763Z"
   },
   {
    "duration": 28,
    "start_time": "2021-10-02T23:59:30.775Z"
   },
   {
    "duration": 5,
    "start_time": "2021-10-02T23:59:30.804Z"
   },
   {
    "duration": 5,
    "start_time": "2021-10-02T23:59:30.810Z"
   },
   {
    "duration": 9,
    "start_time": "2021-10-02T23:59:30.817Z"
   },
   {
    "duration": 8,
    "start_time": "2021-10-02T23:59:30.827Z"
   },
   {
    "duration": 8,
    "start_time": "2021-10-02T23:59:30.837Z"
   },
   {
    "duration": 415,
    "start_time": "2021-10-02T23:59:30.846Z"
   },
   {
    "duration": 341,
    "start_time": "2021-10-02T23:59:31.263Z"
   },
   {
    "duration": 35,
    "start_time": "2021-10-02T23:59:31.612Z"
   },
   {
    "duration": 428,
    "start_time": "2021-10-02T23:59:31.658Z"
   },
   {
    "duration": 4,
    "start_time": "2021-10-02T23:59:32.099Z"
   },
   {
    "duration": 328,
    "start_time": "2021-10-02T23:59:32.105Z"
   },
   {
    "duration": 5,
    "start_time": "2021-10-02T23:59:32.435Z"
   },
   {
    "duration": 317,
    "start_time": "2021-10-02T23:59:32.442Z"
   },
   {
    "duration": 4,
    "start_time": "2021-10-02T23:59:32.761Z"
   },
   {
    "duration": 461,
    "start_time": "2021-10-02T23:59:32.767Z"
   },
   {
    "duration": 186,
    "start_time": "2021-10-02T23:59:33.230Z"
   },
   {
    "duration": 436,
    "start_time": "2021-10-02T23:59:33.418Z"
   },
   {
    "duration": 29,
    "start_time": "2021-10-02T23:59:33.856Z"
   },
   {
    "duration": 48,
    "start_time": "2021-10-02T23:59:33.886Z"
   },
   {
    "duration": 26,
    "start_time": "2021-10-02T23:59:33.936Z"
   },
   {
    "duration": 272,
    "start_time": "2021-10-02T23:59:33.963Z"
   },
   {
    "duration": 90,
    "start_time": "2021-10-02T23:59:34.237Z"
   },
   {
    "duration": 258,
    "start_time": "2021-10-02T23:59:34.328Z"
   },
   {
    "duration": 78,
    "start_time": "2021-10-02T23:59:34.587Z"
   },
   {
    "duration": 12,
    "start_time": "2021-10-02T23:59:34.666Z"
   },
   {
    "duration": 215,
    "start_time": "2021-10-02T23:59:34.680Z"
   },
   {
    "duration": 33,
    "start_time": "2021-10-02T23:59:34.896Z"
   },
   {
    "duration": 772,
    "start_time": "2021-10-02T23:59:34.931Z"
   },
   {
    "duration": 133,
    "start_time": "2021-10-02T23:59:35.705Z"
   },
   {
    "duration": 11,
    "start_time": "2021-10-02T23:59:35.840Z"
   },
   {
    "duration": 9,
    "start_time": "2021-10-02T23:59:35.852Z"
   },
   {
    "duration": 12,
    "start_time": "2021-10-02T23:59:35.862Z"
   },
   {
    "duration": 337,
    "start_time": "2021-10-02T23:59:35.875Z"
   },
   {
    "duration": 16,
    "start_time": "2021-10-02T23:59:36.214Z"
   },
   {
    "duration": 15,
    "start_time": "2021-10-02T23:59:36.232Z"
   },
   {
    "duration": 11,
    "start_time": "2021-10-02T23:59:36.249Z"
   },
   {
    "duration": 46,
    "start_time": "2021-10-02T23:59:36.261Z"
   },
   {
    "duration": 16,
    "start_time": "2021-10-02T23:59:36.309Z"
   },
   {
    "duration": 10,
    "start_time": "2021-10-02T23:59:36.327Z"
   },
   {
    "duration": 10,
    "start_time": "2021-10-02T23:59:36.339Z"
   },
   {
    "duration": 15,
    "start_time": "2021-10-02T23:59:36.351Z"
   },
   {
    "duration": 48,
    "start_time": "2021-10-02T23:59:36.367Z"
   },
   {
    "duration": 771,
    "start_time": "2021-10-02T23:59:36.416Z"
   },
   {
    "duration": 8,
    "start_time": "2021-10-02T23:59:37.193Z"
   },
   {
    "duration": 7,
    "start_time": "2021-10-02T23:59:37.204Z"
   },
   {
    "duration": 5,
    "start_time": "2021-10-02T23:59:37.212Z"
   },
   {
    "duration": 6,
    "start_time": "2021-10-02T23:59:37.219Z"
   },
   {
    "duration": 12,
    "start_time": "2021-10-02T23:59:37.226Z"
   },
   {
    "duration": 13,
    "start_time": "2021-10-02T23:59:37.240Z"
   },
   {
    "duration": 326,
    "start_time": "2021-10-02T23:59:37.254Z"
   },
   {
    "duration": 31,
    "start_time": "2021-10-02T23:59:37.582Z"
   },
   {
    "duration": 12,
    "start_time": "2021-10-02T23:59:37.615Z"
   },
   {
    "duration": 2,
    "start_time": "2021-10-02T23:59:37.629Z"
   },
   {
    "duration": 9,
    "start_time": "2021-10-02T23:59:37.632Z"
   },
   {
    "duration": 23,
    "start_time": "2021-10-02T23:59:37.642Z"
   },
   {
    "duration": 40,
    "start_time": "2021-10-02T23:59:37.667Z"
   },
   {
    "duration": 11,
    "start_time": "2021-10-02T23:59:37.708Z"
   },
   {
    "duration": 5,
    "start_time": "2021-10-02T23:59:37.721Z"
   },
   {
    "duration": 12,
    "start_time": "2021-10-02T23:59:37.728Z"
   },
   {
    "duration": 20,
    "start_time": "2021-10-02T23:59:37.742Z"
   },
   {
    "duration": 784,
    "start_time": "2021-10-02T23:59:37.763Z"
   },
   {
    "duration": 4,
    "start_time": "2021-10-02T23:59:38.548Z"
   },
   {
    "duration": 7,
    "start_time": "2021-10-02T23:59:38.554Z"
   },
   {
    "duration": 217,
    "start_time": "2021-10-02T23:59:38.562Z"
   },
   {
    "duration": 12499,
    "start_time": "2021-10-02T23:59:38.780Z"
   },
   {
    "duration": 7,
    "start_time": "2021-10-02T23:59:51.281Z"
   },
   {
    "duration": 154,
    "start_time": "2021-10-02T23:59:51.290Z"
   },
   {
    "duration": 6,
    "start_time": "2021-10-02T23:59:51.445Z"
   },
   {
    "duration": 9,
    "start_time": "2021-10-02T23:59:51.453Z"
   },
   {
    "duration": 265,
    "start_time": "2021-10-02T23:59:51.464Z"
   },
   {
    "duration": -29,
    "start_time": "2021-10-02T23:59:51.760Z"
   },
   {
    "duration": -36,
    "start_time": "2021-10-02T23:59:51.768Z"
   },
   {
    "duration": -41,
    "start_time": "2021-10-02T23:59:51.774Z"
   },
   {
    "duration": -44,
    "start_time": "2021-10-02T23:59:51.779Z"
   },
   {
    "duration": -48,
    "start_time": "2021-10-02T23:59:51.784Z"
   },
   {
    "duration": -52,
    "start_time": "2021-10-02T23:59:51.789Z"
   },
   {
    "duration": -57,
    "start_time": "2021-10-02T23:59:51.795Z"
   },
   {
    "duration": -61,
    "start_time": "2021-10-02T23:59:51.800Z"
   },
   {
    "duration": -65,
    "start_time": "2021-10-02T23:59:51.805Z"
   },
   {
    "duration": -69,
    "start_time": "2021-10-02T23:59:51.810Z"
   },
   {
    "duration": -73,
    "start_time": "2021-10-02T23:59:51.815Z"
   },
   {
    "duration": 461,
    "start_time": "2021-10-02T23:59:58.033Z"
   },
   {
    "duration": 10,
    "start_time": "2021-10-03T00:00:25.849Z"
   },
   {
    "duration": 193,
    "start_time": "2021-10-03T00:01:27.337Z"
   },
   {
    "duration": 11,
    "start_time": "2021-10-03T00:01:39.553Z"
   },
   {
    "duration": 9,
    "start_time": "2021-10-03T00:01:45.305Z"
   },
   {
    "duration": 17,
    "start_time": "2021-10-03T00:01:55.813Z"
   },
   {
    "duration": 8,
    "start_time": "2021-10-03T00:02:31.865Z"
   },
   {
    "duration": 22,
    "start_time": "2021-10-03T00:02:37.729Z"
   },
   {
    "duration": 4253,
    "start_time": "2021-10-03T00:02:42.565Z"
   },
   {
    "duration": -31,
    "start_time": "2021-10-03T00:02:46.851Z"
   },
   {
    "duration": 189,
    "start_time": "2021-10-03T00:03:02.377Z"
   },
   {
    "duration": 25,
    "start_time": "2021-10-03T00:03:27.552Z"
   },
   {
    "duration": 15,
    "start_time": "2021-10-03T00:03:43.293Z"
   },
   {
    "duration": 570,
    "start_time": "2021-10-03T00:03:49.045Z"
   },
   {
    "duration": 197,
    "start_time": "2021-10-03T00:07:51.101Z"
   },
   {
    "duration": 2774,
    "start_time": "2021-10-03T00:08:04.353Z"
   },
   {
    "duration": 3271,
    "start_time": "2021-10-03T00:08:14.950Z"
   },
   {
    "duration": 10,
    "start_time": "2021-10-03T00:08:37.733Z"
   },
   {
    "duration": 10,
    "start_time": "2021-10-03T00:08:54.357Z"
   },
   {
    "duration": 12,
    "start_time": "2021-10-03T00:09:07.865Z"
   },
   {
    "duration": 9,
    "start_time": "2021-10-03T00:09:22.765Z"
   },
   {
    "duration": 12,
    "start_time": "2021-10-03T00:09:31.953Z"
   },
   {
    "duration": 9,
    "start_time": "2021-10-03T00:09:34.765Z"
   },
   {
    "duration": 138,
    "start_time": "2021-10-03T00:09:38.049Z"
   },
   {
    "duration": 15,
    "start_time": "2021-10-03T00:09:56.473Z"
   },
   {
    "duration": 22,
    "start_time": "2021-10-03T00:09:57.421Z"
   },
   {
    "duration": 14,
    "start_time": "2021-10-03T00:09:58.197Z"
   },
   {
    "duration": 454,
    "start_time": "2021-10-03T00:09:58.805Z"
   },
   {
    "duration": 467,
    "start_time": "2021-10-03T00:10:02.173Z"
   },
   {
    "duration": 4,
    "start_time": "2021-10-03T00:10:08.153Z"
   },
   {
    "duration": 133040,
    "start_time": "2021-10-03T00:10:11.477Z"
   },
   {
    "duration": 27,
    "start_time": "2021-10-03T00:12:24.519Z"
   },
   {
    "duration": 25,
    "start_time": "2021-10-03T00:13:33.201Z"
   },
   {
    "duration": 959,
    "start_time": "2021-10-03T00:15:04.533Z"
   },
   {
    "duration": 23,
    "start_time": "2021-10-03T00:15:14.129Z"
   },
   {
    "duration": 22,
    "start_time": "2021-10-03T00:15:20.985Z"
   },
   {
    "duration": 21,
    "start_time": "2021-10-03T00:16:28.313Z"
   },
   {
    "duration": 13,
    "start_time": "2021-10-03T00:16:33.633Z"
   },
   {
    "duration": 188,
    "start_time": "2021-10-03T00:16:46.369Z"
   },
   {
    "duration": 291,
    "start_time": "2021-10-03T00:16:51.505Z"
   },
   {
    "duration": 188,
    "start_time": "2021-10-03T00:16:54.229Z"
   },
   {
    "duration": 296,
    "start_time": "2021-10-03T00:17:00.833Z"
   },
   {
    "duration": 23,
    "start_time": "2021-10-03T00:17:04.808Z"
   },
   {
    "duration": 14,
    "start_time": "2021-10-03T00:17:06.524Z"
   },
   {
    "duration": 3,
    "start_time": "2021-10-03T00:17:18.829Z"
   },
   {
    "duration": 64329,
    "start_time": "2021-10-03T00:17:23.253Z"
   },
   {
    "duration": -31,
    "start_time": "2021-10-03T00:18:27.616Z"
   },
   {
    "duration": 1378,
    "start_time": "2021-10-03T00:18:32.424Z"
   },
   {
    "duration": 615,
    "start_time": "2021-10-03T00:18:33.804Z"
   },
   {
    "duration": 10,
    "start_time": "2021-10-03T00:18:34.421Z"
   },
   {
    "duration": 54,
    "start_time": "2021-10-03T00:18:34.433Z"
   },
   {
    "duration": 247,
    "start_time": "2021-10-03T00:18:34.489Z"
   },
   {
    "duration": 165,
    "start_time": "2021-10-03T00:18:34.738Z"
   },
   {
    "duration": 4,
    "start_time": "2021-10-03T00:18:34.905Z"
   },
   {
    "duration": 14,
    "start_time": "2021-10-03T00:18:34.911Z"
   },
   {
    "duration": 73,
    "start_time": "2021-10-03T00:18:34.927Z"
   },
   {
    "duration": 22,
    "start_time": "2021-10-03T00:18:35.002Z"
   },
   {
    "duration": 16,
    "start_time": "2021-10-03T00:18:35.025Z"
   },
   {
    "duration": 23,
    "start_time": "2021-10-03T00:18:35.043Z"
   },
   {
    "duration": 18,
    "start_time": "2021-10-03T00:18:35.068Z"
   },
   {
    "duration": 16,
    "start_time": "2021-10-03T00:18:35.088Z"
   },
   {
    "duration": 18,
    "start_time": "2021-10-03T00:18:35.106Z"
   },
   {
    "duration": 26,
    "start_time": "2021-10-03T00:18:35.126Z"
   },
   {
    "duration": 19,
    "start_time": "2021-10-03T00:18:35.154Z"
   },
   {
    "duration": 20,
    "start_time": "2021-10-03T00:18:35.175Z"
   },
   {
    "duration": 5,
    "start_time": "2021-10-03T00:18:35.200Z"
   },
   {
    "duration": 22,
    "start_time": "2021-10-03T00:18:35.207Z"
   },
   {
    "duration": 7,
    "start_time": "2021-10-03T00:18:35.231Z"
   },
   {
    "duration": 25,
    "start_time": "2021-10-03T00:18:35.240Z"
   },
   {
    "duration": 16,
    "start_time": "2021-10-03T00:18:35.271Z"
   },
   {
    "duration": 15,
    "start_time": "2021-10-03T00:18:35.290Z"
   },
   {
    "duration": 6,
    "start_time": "2021-10-03T00:18:35.307Z"
   },
   {
    "duration": 12,
    "start_time": "2021-10-03T00:18:35.315Z"
   },
   {
    "duration": 24,
    "start_time": "2021-10-03T00:18:35.328Z"
   },
   {
    "duration": 9,
    "start_time": "2021-10-03T00:18:35.354Z"
   },
   {
    "duration": 21,
    "start_time": "2021-10-03T00:18:35.364Z"
   },
   {
    "duration": 409,
    "start_time": "2021-10-03T00:18:35.387Z"
   },
   {
    "duration": 311,
    "start_time": "2021-10-03T00:18:35.800Z"
   },
   {
    "duration": 6,
    "start_time": "2021-10-03T00:18:36.114Z"
   },
   {
    "duration": 383,
    "start_time": "2021-10-03T00:18:36.122Z"
   },
   {
    "duration": 3,
    "start_time": "2021-10-03T00:18:36.507Z"
   },
   {
    "duration": 335,
    "start_time": "2021-10-03T00:18:36.512Z"
   },
   {
    "duration": 3,
    "start_time": "2021-10-03T00:18:36.849Z"
   },
   {
    "duration": 326,
    "start_time": "2021-10-03T00:18:36.854Z"
   },
   {
    "duration": 3,
    "start_time": "2021-10-03T00:18:37.182Z"
   },
   {
    "duration": 445,
    "start_time": "2021-10-03T00:18:37.199Z"
   },
   {
    "duration": 107,
    "start_time": "2021-10-03T00:18:37.645Z"
   },
   {
    "duration": 313,
    "start_time": "2021-10-03T00:18:37.754Z"
   },
   {
    "duration": 42,
    "start_time": "2021-10-03T00:18:38.068Z"
   },
   {
    "duration": 37,
    "start_time": "2021-10-03T00:18:38.112Z"
   },
   {
    "duration": 27,
    "start_time": "2021-10-03T00:18:38.150Z"
   },
   {
    "duration": 281,
    "start_time": "2021-10-03T00:18:38.179Z"
   },
   {
    "duration": 81,
    "start_time": "2021-10-03T00:18:38.462Z"
   },
   {
    "duration": 265,
    "start_time": "2021-10-03T00:18:38.545Z"
   },
   {
    "duration": 73,
    "start_time": "2021-10-03T00:18:38.812Z"
   },
   {
    "duration": 20,
    "start_time": "2021-10-03T00:18:38.887Z"
   },
   {
    "duration": 229,
    "start_time": "2021-10-03T00:18:38.909Z"
   },
   {
    "duration": 32,
    "start_time": "2021-10-03T00:18:39.140Z"
   },
   {
    "duration": 801,
    "start_time": "2021-10-03T00:18:39.174Z"
   },
   {
    "duration": 140,
    "start_time": "2021-10-03T00:18:39.977Z"
   },
   {
    "duration": 10,
    "start_time": "2021-10-03T00:18:40.119Z"
   },
   {
    "duration": 19,
    "start_time": "2021-10-03T00:18:40.131Z"
   },
   {
    "duration": 10,
    "start_time": "2021-10-03T00:18:40.152Z"
   },
   {
    "duration": 320,
    "start_time": "2021-10-03T00:18:40.163Z"
   },
   {
    "duration": 29,
    "start_time": "2021-10-03T00:18:40.484Z"
   },
   {
    "duration": 16,
    "start_time": "2021-10-03T00:18:40.515Z"
   },
   {
    "duration": 12,
    "start_time": "2021-10-03T00:18:40.533Z"
   },
   {
    "duration": 20,
    "start_time": "2021-10-03T00:18:40.546Z"
   },
   {
    "duration": 45,
    "start_time": "2021-10-03T00:18:40.567Z"
   },
   {
    "duration": 11,
    "start_time": "2021-10-03T00:18:40.614Z"
   },
   {
    "duration": 21,
    "start_time": "2021-10-03T00:18:40.626Z"
   },
   {
    "duration": 22,
    "start_time": "2021-10-03T00:18:40.649Z"
   },
   {
    "duration": 27,
    "start_time": "2021-10-03T00:18:40.673Z"
   },
   {
    "duration": 780,
    "start_time": "2021-10-03T00:18:40.702Z"
   },
   {
    "duration": 13,
    "start_time": "2021-10-03T00:18:41.490Z"
   },
   {
    "duration": 8,
    "start_time": "2021-10-03T00:18:41.505Z"
   },
   {
    "duration": 5,
    "start_time": "2021-10-03T00:18:41.515Z"
   },
   {
    "duration": 8,
    "start_time": "2021-10-03T00:18:41.522Z"
   },
   {
    "duration": 16,
    "start_time": "2021-10-03T00:18:41.532Z"
   },
   {
    "duration": 15,
    "start_time": "2021-10-03T00:18:41.550Z"
   },
   {
    "duration": 288,
    "start_time": "2021-10-03T00:18:41.600Z"
   },
   {
    "duration": 27,
    "start_time": "2021-10-03T00:18:41.890Z"
   },
   {
    "duration": 13,
    "start_time": "2021-10-03T00:18:41.918Z"
   },
   {
    "duration": 2,
    "start_time": "2021-10-03T00:18:41.932Z"
   },
   {
    "duration": 8,
    "start_time": "2021-10-03T00:18:41.936Z"
   },
   {
    "duration": 20,
    "start_time": "2021-10-03T00:18:41.945Z"
   },
   {
    "duration": 48,
    "start_time": "2021-10-03T00:18:41.967Z"
   },
   {
    "duration": 12,
    "start_time": "2021-10-03T00:18:42.016Z"
   },
   {
    "duration": 6,
    "start_time": "2021-10-03T00:18:42.030Z"
   },
   {
    "duration": 10,
    "start_time": "2021-10-03T00:18:42.037Z"
   },
   {
    "duration": 51,
    "start_time": "2021-10-03T00:18:42.049Z"
   },
   {
    "duration": 1016,
    "start_time": "2021-10-03T00:18:42.102Z"
   },
   {
    "duration": 4,
    "start_time": "2021-10-03T00:18:43.119Z"
   },
   {
    "duration": 8,
    "start_time": "2021-10-03T00:18:43.124Z"
   },
   {
    "duration": 223,
    "start_time": "2021-10-03T00:18:43.133Z"
   },
   {
    "duration": 481,
    "start_time": "2021-10-03T00:18:43.358Z"
   },
   {
    "duration": 8,
    "start_time": "2021-10-03T00:18:43.840Z"
   },
   {
    "duration": 155,
    "start_time": "2021-10-03T00:18:43.849Z"
   },
   {
    "duration": 3,
    "start_time": "2021-10-03T00:18:44.005Z"
   },
   {
    "duration": 320,
    "start_time": "2021-10-03T00:18:44.009Z"
   },
   {
    "duration": -23,
    "start_time": "2021-10-03T00:18:44.354Z"
   },
   {
    "duration": -28,
    "start_time": "2021-10-03T00:18:44.360Z"
   },
   {
    "duration": -31,
    "start_time": "2021-10-03T00:18:44.364Z"
   },
   {
    "duration": -35,
    "start_time": "2021-10-03T00:18:44.369Z"
   },
   {
    "duration": -38,
    "start_time": "2021-10-03T00:18:44.373Z"
   },
   {
    "duration": -42,
    "start_time": "2021-10-03T00:18:44.378Z"
   },
   {
    "duration": -46,
    "start_time": "2021-10-03T00:18:44.383Z"
   },
   {
    "duration": -50,
    "start_time": "2021-10-03T00:18:44.388Z"
   },
   {
    "duration": -55,
    "start_time": "2021-10-03T00:18:44.393Z"
   },
   {
    "duration": -59,
    "start_time": "2021-10-03T00:18:44.398Z"
   },
   {
    "duration": -62,
    "start_time": "2021-10-03T00:18:44.402Z"
   },
   {
    "duration": 276,
    "start_time": "2021-10-03T00:18:49.312Z"
   },
   {
    "duration": 12,
    "start_time": "2021-10-03T00:19:05.884Z"
   },
   {
    "duration": 9,
    "start_time": "2021-10-03T00:19:18.028Z"
   },
   {
    "duration": 185,
    "start_time": "2021-10-03T00:19:25.456Z"
   },
   {
    "duration": 12,
    "start_time": "2021-10-03T00:20:40.508Z"
   },
   {
    "duration": 11,
    "start_time": "2021-10-03T00:21:28.728Z"
   },
   {
    "duration": 8,
    "start_time": "2021-10-03T00:22:09.200Z"
   },
   {
    "duration": 11,
    "start_time": "2021-10-03T00:22:22.464Z"
   },
   {
    "duration": 11,
    "start_time": "2021-10-03T00:22:33.080Z"
   },
   {
    "duration": 11,
    "start_time": "2021-10-03T00:22:46.244Z"
   },
   {
    "duration": 12,
    "start_time": "2021-10-03T00:22:59.888Z"
   },
   {
    "duration": 10,
    "start_time": "2021-10-03T00:23:11.192Z"
   },
   {
    "duration": 137,
    "start_time": "2021-10-03T00:23:15.684Z"
   },
   {
    "duration": 174,
    "start_time": "2021-10-03T00:23:17.528Z"
   },
   {
    "duration": 8,
    "start_time": "2021-10-03T00:23:23.736Z"
   },
   {
    "duration": 8,
    "start_time": "2021-10-03T00:23:48.892Z"
   },
   {
    "duration": 16,
    "start_time": "2021-10-03T00:23:51.772Z"
   },
   {
    "duration": 14,
    "start_time": "2021-10-03T00:23:53.848Z"
   },
   {
    "duration": 179,
    "start_time": "2021-10-03T00:23:55.297Z"
   },
   {
    "duration": 457,
    "start_time": "2021-10-03T00:24:03.024Z"
   },
   {
    "duration": 4,
    "start_time": "2021-10-03T00:24:07.656Z"
   },
   {
    "duration": 135489,
    "start_time": "2021-10-03T00:24:12.352Z"
   },
   {
    "duration": 25,
    "start_time": "2021-10-03T00:26:27.842Z"
   },
   {
    "duration": 1037,
    "start_time": "2021-10-03T00:37:51.366Z"
   },
   {
    "duration": 586,
    "start_time": "2021-10-03T00:37:52.404Z"
   },
   {
    "duration": 10,
    "start_time": "2021-10-03T00:37:52.992Z"
   },
   {
    "duration": 61,
    "start_time": "2021-10-03T00:37:53.004Z"
   },
   {
    "duration": 238,
    "start_time": "2021-10-03T00:37:53.066Z"
   },
   {
    "duration": 168,
    "start_time": "2021-10-03T00:37:53.306Z"
   },
   {
    "duration": 4,
    "start_time": "2021-10-03T00:37:53.475Z"
   },
   {
    "duration": 3,
    "start_time": "2021-10-03T00:37:53.482Z"
   },
   {
    "duration": 75,
    "start_time": "2021-10-03T00:37:53.487Z"
   },
   {
    "duration": 36,
    "start_time": "2021-10-03T00:37:53.563Z"
   },
   {
    "duration": 6,
    "start_time": "2021-10-03T00:37:53.601Z"
   },
   {
    "duration": 16,
    "start_time": "2021-10-03T00:37:53.609Z"
   },
   {
    "duration": 9,
    "start_time": "2021-10-03T00:37:53.626Z"
   },
   {
    "duration": 6,
    "start_time": "2021-10-03T00:37:53.636Z"
   },
   {
    "duration": 12,
    "start_time": "2021-10-03T00:37:53.644Z"
   },
   {
    "duration": 47,
    "start_time": "2021-10-03T00:37:53.658Z"
   },
   {
    "duration": 12,
    "start_time": "2021-10-03T00:37:53.706Z"
   },
   {
    "duration": 5,
    "start_time": "2021-10-03T00:37:53.720Z"
   },
   {
    "duration": 4,
    "start_time": "2021-10-03T00:37:53.726Z"
   },
   {
    "duration": 11,
    "start_time": "2021-10-03T00:37:53.732Z"
   },
   {
    "duration": 5,
    "start_time": "2021-10-03T00:37:53.745Z"
   },
   {
    "duration": 48,
    "start_time": "2021-10-03T00:37:53.752Z"
   },
   {
    "duration": 7,
    "start_time": "2021-10-03T00:37:53.803Z"
   },
   {
    "duration": 5,
    "start_time": "2021-10-03T00:37:53.812Z"
   },
   {
    "duration": 4,
    "start_time": "2021-10-03T00:37:53.819Z"
   },
   {
    "duration": 6,
    "start_time": "2021-10-03T00:37:53.824Z"
   },
   {
    "duration": 6,
    "start_time": "2021-10-03T00:37:53.831Z"
   },
   {
    "duration": 5,
    "start_time": "2021-10-03T00:37:53.838Z"
   },
   {
    "duration": 5,
    "start_time": "2021-10-03T00:37:53.845Z"
   },
   {
    "duration": 390,
    "start_time": "2021-10-03T00:37:53.899Z"
   },
   {
    "duration": 306,
    "start_time": "2021-10-03T00:37:54.290Z"
   },
   {
    "duration": 5,
    "start_time": "2021-10-03T00:37:54.599Z"
   },
   {
    "duration": 388,
    "start_time": "2021-10-03T00:37:54.606Z"
   },
   {
    "duration": 3,
    "start_time": "2021-10-03T00:37:55.000Z"
   },
   {
    "duration": 331,
    "start_time": "2021-10-03T00:37:55.005Z"
   },
   {
    "duration": 3,
    "start_time": "2021-10-03T00:37:55.338Z"
   },
   {
    "duration": 312,
    "start_time": "2021-10-03T00:37:55.343Z"
   },
   {
    "duration": 3,
    "start_time": "2021-10-03T00:37:55.657Z"
   },
   {
    "duration": 454,
    "start_time": "2021-10-03T00:37:55.661Z"
   },
   {
    "duration": 110,
    "start_time": "2021-10-03T00:37:56.116Z"
   },
   {
    "duration": 306,
    "start_time": "2021-10-03T00:37:56.228Z"
   },
   {
    "duration": 29,
    "start_time": "2021-10-03T00:37:56.535Z"
   },
   {
    "duration": 52,
    "start_time": "2021-10-03T00:37:56.565Z"
   },
   {
    "duration": 28,
    "start_time": "2021-10-03T00:37:56.619Z"
   },
   {
    "duration": 279,
    "start_time": "2021-10-03T00:37:56.648Z"
   },
   {
    "duration": 85,
    "start_time": "2021-10-03T00:37:56.928Z"
   },
   {
    "duration": 255,
    "start_time": "2021-10-03T00:37:57.015Z"
   },
   {
    "duration": 81,
    "start_time": "2021-10-03T00:37:57.271Z"
   },
   {
    "duration": 13,
    "start_time": "2021-10-03T00:37:57.353Z"
   },
   {
    "duration": 223,
    "start_time": "2021-10-03T00:37:57.367Z"
   },
   {
    "duration": 35,
    "start_time": "2021-10-03T00:37:57.591Z"
   },
   {
    "duration": 739,
    "start_time": "2021-10-03T00:37:57.628Z"
   },
   {
    "duration": 132,
    "start_time": "2021-10-03T00:37:58.368Z"
   },
   {
    "duration": 10,
    "start_time": "2021-10-03T00:37:58.502Z"
   },
   {
    "duration": 8,
    "start_time": "2021-10-03T00:37:58.514Z"
   },
   {
    "duration": 5,
    "start_time": "2021-10-03T00:37:58.523Z"
   },
   {
    "duration": 342,
    "start_time": "2021-10-03T00:37:58.530Z"
   },
   {
    "duration": 28,
    "start_time": "2021-10-03T00:37:58.874Z"
   },
   {
    "duration": 16,
    "start_time": "2021-10-03T00:37:58.904Z"
   },
   {
    "duration": 12,
    "start_time": "2021-10-03T00:37:58.922Z"
   },
   {
    "duration": 20,
    "start_time": "2021-10-03T00:37:58.936Z"
   },
   {
    "duration": 54,
    "start_time": "2021-10-03T00:37:58.958Z"
   },
   {
    "duration": 11,
    "start_time": "2021-10-03T00:37:59.014Z"
   },
   {
    "duration": 12,
    "start_time": "2021-10-03T00:37:59.026Z"
   },
   {
    "duration": 15,
    "start_time": "2021-10-03T00:37:59.039Z"
   },
   {
    "duration": 57,
    "start_time": "2021-10-03T00:37:59.055Z"
   },
   {
    "duration": 776,
    "start_time": "2021-10-03T00:37:59.113Z"
   },
   {
    "duration": 5,
    "start_time": "2021-10-03T00:37:59.894Z"
   },
   {
    "duration": 17,
    "start_time": "2021-10-03T00:37:59.901Z"
   },
   {
    "duration": 15,
    "start_time": "2021-10-03T00:37:59.920Z"
   },
   {
    "duration": 11,
    "start_time": "2021-10-03T00:37:59.936Z"
   },
   {
    "duration": 23,
    "start_time": "2021-10-03T00:37:59.948Z"
   },
   {
    "duration": 17,
    "start_time": "2021-10-03T00:37:59.973Z"
   },
   {
    "duration": 276,
    "start_time": "2021-10-03T00:37:59.992Z"
   },
   {
    "duration": 34,
    "start_time": "2021-10-03T00:38:00.271Z"
   },
   {
    "duration": 14,
    "start_time": "2021-10-03T00:38:00.307Z"
   },
   {
    "duration": 13,
    "start_time": "2021-10-03T00:38:00.323Z"
   },
   {
    "duration": 26,
    "start_time": "2021-10-03T00:38:00.338Z"
   },
   {
    "duration": 27,
    "start_time": "2021-10-03T00:38:00.366Z"
   },
   {
    "duration": 19,
    "start_time": "2021-10-03T00:38:00.396Z"
   },
   {
    "duration": 13,
    "start_time": "2021-10-03T00:38:00.416Z"
   },
   {
    "duration": 12,
    "start_time": "2021-10-03T00:38:00.431Z"
   },
   {
    "duration": 22,
    "start_time": "2021-10-03T00:38:00.445Z"
   },
   {
    "duration": 32,
    "start_time": "2021-10-03T00:38:00.469Z"
   },
   {
    "duration": 745,
    "start_time": "2021-10-03T00:38:00.503Z"
   },
   {
    "duration": 4,
    "start_time": "2021-10-03T00:38:01.250Z"
   },
   {
    "duration": 14,
    "start_time": "2021-10-03T00:38:01.256Z"
   },
   {
    "duration": 216,
    "start_time": "2021-10-03T00:38:01.272Z"
   },
   {
    "duration": 627,
    "start_time": "2021-10-03T00:38:01.490Z"
   },
   {
    "duration": 11,
    "start_time": "2021-10-03T00:38:02.118Z"
   },
   {
    "duration": 235,
    "start_time": "2021-10-03T00:38:02.131Z"
   },
   {
    "duration": 34,
    "start_time": "2021-10-03T00:38:02.367Z"
   },
   {
    "duration": 19,
    "start_time": "2021-10-03T00:38:02.402Z"
   },
   {
    "duration": 15,
    "start_time": "2021-10-03T00:38:02.422Z"
   },
   {
    "duration": 467,
    "start_time": "2021-10-03T00:38:02.438Z"
   },
   {
    "duration": 4,
    "start_time": "2021-10-03T00:38:02.906Z"
   },
   {
    "duration": 132029,
    "start_time": "2021-10-03T00:38:02.911Z"
   },
   {
    "duration": 26,
    "start_time": "2021-10-03T00:40:14.942Z"
   },
   {
    "duration": 40,
    "start_time": "2021-10-03T00:40:14.970Z"
   },
   {
    "duration": 741,
    "start_time": "2021-10-03T00:40:15.012Z"
   },
   {
    "duration": 116,
    "start_time": "2021-10-03T00:40:15.755Z"
   },
   {
    "duration": 11,
    "start_time": "2021-10-03T00:40:15.873Z"
   },
   {
    "duration": 27,
    "start_time": "2021-10-03T00:40:15.885Z"
   },
   {
    "duration": 307,
    "start_time": "2021-10-03T00:40:15.914Z"
   },
   {
    "duration": 62,
    "start_time": "2021-10-03T00:40:16.224Z"
   },
   {
    "duration": 1768,
    "start_time": "2021-10-03T08:14:05.975Z"
   },
   {
    "duration": 818,
    "start_time": "2021-10-03T08:14:07.746Z"
   },
   {
    "duration": 19,
    "start_time": "2021-10-03T08:14:08.567Z"
   },
   {
    "duration": 71,
    "start_time": "2021-10-03T08:14:08.590Z"
   },
   {
    "duration": 369,
    "start_time": "2021-10-03T08:14:08.683Z"
   },
   {
    "duration": 258,
    "start_time": "2021-10-03T08:14:09.055Z"
   },
   {
    "duration": 5,
    "start_time": "2021-10-03T08:14:09.316Z"
   },
   {
    "duration": 6,
    "start_time": "2021-10-03T08:14:09.324Z"
   },
   {
    "duration": 126,
    "start_time": "2021-10-03T08:14:09.333Z"
   },
   {
    "duration": 47,
    "start_time": "2021-10-03T08:14:09.462Z"
   },
   {
    "duration": 9,
    "start_time": "2021-10-03T08:14:09.512Z"
   },
   {
    "duration": 21,
    "start_time": "2021-10-03T08:14:09.524Z"
   },
   {
    "duration": 46,
    "start_time": "2021-10-03T08:14:09.548Z"
   },
   {
    "duration": 12,
    "start_time": "2021-10-03T08:14:09.597Z"
   },
   {
    "duration": 22,
    "start_time": "2021-10-03T08:14:09.612Z"
   },
   {
    "duration": 66,
    "start_time": "2021-10-03T08:14:09.637Z"
   },
   {
    "duration": 20,
    "start_time": "2021-10-03T08:14:09.706Z"
   },
   {
    "duration": 9,
    "start_time": "2021-10-03T08:14:09.729Z"
   },
   {
    "duration": 5,
    "start_time": "2021-10-03T08:14:09.741Z"
   },
   {
    "duration": 54,
    "start_time": "2021-10-03T08:14:09.748Z"
   },
   {
    "duration": 9,
    "start_time": "2021-10-03T08:14:09.804Z"
   },
   {
    "duration": 10,
    "start_time": "2021-10-03T08:14:09.815Z"
   },
   {
    "duration": 9,
    "start_time": "2021-10-03T08:14:09.832Z"
   },
   {
    "duration": 11,
    "start_time": "2021-10-03T08:14:09.885Z"
   },
   {
    "duration": 6,
    "start_time": "2021-10-03T08:14:09.900Z"
   },
   {
    "duration": 7,
    "start_time": "2021-10-03T08:14:09.909Z"
   },
   {
    "duration": 11,
    "start_time": "2021-10-03T08:14:09.918Z"
   },
   {
    "duration": 8,
    "start_time": "2021-10-03T08:14:09.931Z"
   },
   {
    "duration": 8,
    "start_time": "2021-10-03T08:14:09.983Z"
   },
   {
    "duration": 611,
    "start_time": "2021-10-03T08:14:09.994Z"
   },
   {
    "duration": 407,
    "start_time": "2021-10-03T08:14:10.608Z"
   },
   {
    "duration": 13,
    "start_time": "2021-10-03T08:14:11.018Z"
   },
   {
    "duration": 639,
    "start_time": "2021-10-03T08:14:11.034Z"
   },
   {
    "duration": 7,
    "start_time": "2021-10-03T08:14:11.676Z"
   },
   {
    "duration": 537,
    "start_time": "2021-10-03T08:14:11.686Z"
   },
   {
    "duration": 5,
    "start_time": "2021-10-03T08:14:12.225Z"
   },
   {
    "duration": 506,
    "start_time": "2021-10-03T08:14:12.232Z"
   },
   {
    "duration": 5,
    "start_time": "2021-10-03T08:14:12.740Z"
   },
   {
    "duration": 813,
    "start_time": "2021-10-03T08:14:12.748Z"
   },
   {
    "duration": 153,
    "start_time": "2021-10-03T08:14:13.564Z"
   },
   {
    "duration": 530,
    "start_time": "2021-10-03T08:14:13.719Z"
   },
   {
    "duration": 54,
    "start_time": "2021-10-03T08:14:14.251Z"
   },
   {
    "duration": 48,
    "start_time": "2021-10-03T08:14:14.308Z"
   },
   {
    "duration": 57,
    "start_time": "2021-10-03T08:14:14.358Z"
   },
   {
    "duration": 432,
    "start_time": "2021-10-03T08:14:14.417Z"
   },
   {
    "duration": 124,
    "start_time": "2021-10-03T08:14:14.852Z"
   },
   {
    "duration": 341,
    "start_time": "2021-10-03T08:14:14.982Z"
   },
   {
    "duration": 118,
    "start_time": "2021-10-03T08:14:15.326Z"
   },
   {
    "duration": 14,
    "start_time": "2021-10-03T08:14:15.447Z"
   },
   {
    "duration": 276,
    "start_time": "2021-10-03T08:14:15.464Z"
   },
   {
    "duration": 61,
    "start_time": "2021-10-03T08:14:15.742Z"
   },
   {
    "duration": 1341,
    "start_time": "2021-10-03T08:14:15.806Z"
   },
   {
    "duration": 216,
    "start_time": "2021-10-03T08:14:17.149Z"
   },
   {
    "duration": 29,
    "start_time": "2021-10-03T08:14:17.367Z"
   },
   {
    "duration": 13,
    "start_time": "2021-10-03T08:14:17.399Z"
   },
   {
    "duration": 7,
    "start_time": "2021-10-03T08:14:17.414Z"
   },
   {
    "duration": 578,
    "start_time": "2021-10-03T08:14:17.424Z"
   },
   {
    "duration": 25,
    "start_time": "2021-10-03T08:14:18.005Z"
   },
   {
    "duration": 25,
    "start_time": "2021-10-03T08:14:18.032Z"
   },
   {
    "duration": 25,
    "start_time": "2021-10-03T08:14:18.083Z"
   },
   {
    "duration": 31,
    "start_time": "2021-10-03T08:14:18.110Z"
   },
   {
    "duration": 59,
    "start_time": "2021-10-03T08:14:18.143Z"
   },
   {
    "duration": 18,
    "start_time": "2021-10-03T08:14:18.205Z"
   },
   {
    "duration": 19,
    "start_time": "2021-10-03T08:14:18.225Z"
   },
   {
    "duration": 58,
    "start_time": "2021-10-03T08:14:18.246Z"
   },
   {
    "duration": 35,
    "start_time": "2021-10-03T08:14:18.307Z"
   },
   {
    "duration": 1244,
    "start_time": "2021-10-03T08:14:18.344Z"
   },
   {
    "duration": 7,
    "start_time": "2021-10-03T08:14:19.602Z"
   },
   {
    "duration": 11,
    "start_time": "2021-10-03T08:14:19.612Z"
   },
   {
    "duration": 6,
    "start_time": "2021-10-03T08:14:19.625Z"
   },
   {
    "duration": 8,
    "start_time": "2021-10-03T08:14:19.634Z"
   },
   {
    "duration": 25,
    "start_time": "2021-10-03T08:14:19.684Z"
   },
   {
    "duration": 22,
    "start_time": "2021-10-03T08:14:19.711Z"
   },
   {
    "duration": 509,
    "start_time": "2021-10-03T08:14:19.735Z"
   },
   {
    "duration": 52,
    "start_time": "2021-10-03T08:14:20.246Z"
   },
   {
    "duration": 25,
    "start_time": "2021-10-03T08:14:20.301Z"
   },
   {
    "duration": 3,
    "start_time": "2021-10-03T08:14:20.329Z"
   },
   {
    "duration": 49,
    "start_time": "2021-10-03T08:14:20.336Z"
   },
   {
    "duration": 40,
    "start_time": "2021-10-03T08:14:20.389Z"
   },
   {
    "duration": 53,
    "start_time": "2021-10-03T08:14:20.431Z"
   },
   {
    "duration": 22,
    "start_time": "2021-10-03T08:14:20.487Z"
   },
   {
    "duration": 9,
    "start_time": "2021-10-03T08:14:20.511Z"
   },
   {
    "duration": 24,
    "start_time": "2021-10-03T08:14:20.523Z"
   },
   {
    "duration": 66,
    "start_time": "2021-10-03T08:14:20.550Z"
   },
   {
    "duration": 1227,
    "start_time": "2021-10-03T08:14:20.618Z"
   },
   {
    "duration": 4,
    "start_time": "2021-10-03T08:14:21.847Z"
   },
   {
    "duration": 9,
    "start_time": "2021-10-03T08:14:21.854Z"
   },
   {
    "duration": 370,
    "start_time": "2021-10-03T08:14:21.884Z"
   },
   {
    "duration": 872,
    "start_time": "2021-10-03T08:14:22.257Z"
   },
   {
    "duration": 18,
    "start_time": "2021-10-03T08:14:23.131Z"
   },
   {
    "duration": 278,
    "start_time": "2021-10-03T08:14:23.152Z"
   },
   {
    "duration": 10,
    "start_time": "2021-10-03T08:14:23.432Z"
   },
   {
    "duration": 48,
    "start_time": "2021-10-03T08:14:23.444Z"
   },
   {
    "duration": 23,
    "start_time": "2021-10-03T08:14:23.495Z"
   },
   {
    "duration": 838,
    "start_time": "2021-10-03T08:14:23.520Z"
   },
   {
    "duration": 5,
    "start_time": "2021-10-03T08:14:24.361Z"
   },
   {
    "duration": 282239,
    "start_time": "2021-10-03T08:14:24.383Z"
   },
   {
    "duration": 38,
    "start_time": "2021-10-03T08:19:06.625Z"
   },
   {
    "duration": 39,
    "start_time": "2021-10-03T08:19:06.682Z"
   },
   {
    "duration": 1231,
    "start_time": "2021-10-03T08:19:06.723Z"
   },
   {
    "duration": 168,
    "start_time": "2021-10-03T08:19:07.956Z"
   },
   {
    "duration": 15,
    "start_time": "2021-10-03T08:19:08.126Z"
   },
   {
    "duration": 47,
    "start_time": "2021-10-03T08:19:08.143Z"
   },
   {
    "duration": 445,
    "start_time": "2021-10-03T08:19:08.192Z"
   },
   {
    "duration": 2523,
    "start_time": "2021-10-08T19:35:06.000Z"
   },
   {
    "duration": 1831,
    "start_time": "2021-10-08T19:35:08.526Z"
   },
   {
    "duration": 49,
    "start_time": "2021-10-08T19:35:10.361Z"
   },
   {
    "duration": 127,
    "start_time": "2021-10-08T19:35:10.413Z"
   },
   {
    "duration": 779,
    "start_time": "2021-10-08T19:35:10.542Z"
   },
   {
    "duration": 513,
    "start_time": "2021-10-08T19:35:11.324Z"
   },
   {
    "duration": 63,
    "start_time": "2021-10-08T19:35:11.840Z"
   },
   {
    "duration": 4,
    "start_time": "2021-10-08T19:35:11.909Z"
   },
   {
    "duration": 221,
    "start_time": "2021-10-08T19:35:11.917Z"
   },
   {
    "duration": 91,
    "start_time": "2021-10-08T19:35:12.141Z"
   },
   {
    "duration": 71,
    "start_time": "2021-10-08T19:35:12.234Z"
   },
   {
    "duration": 22,
    "start_time": "2021-10-08T19:35:12.308Z"
   },
   {
    "duration": 73,
    "start_time": "2021-10-08T19:35:12.333Z"
   },
   {
    "duration": 9,
    "start_time": "2021-10-08T19:35:12.409Z"
   },
   {
    "duration": 80,
    "start_time": "2021-10-08T19:35:12.420Z"
   },
   {
    "duration": 23,
    "start_time": "2021-10-08T19:35:12.503Z"
   },
   {
    "duration": 75,
    "start_time": "2021-10-08T19:35:12.528Z"
   },
   {
    "duration": 6,
    "start_time": "2021-10-08T19:35:12.606Z"
   },
   {
    "duration": 7,
    "start_time": "2021-10-08T19:35:12.614Z"
   },
   {
    "duration": 86,
    "start_time": "2021-10-08T19:35:12.623Z"
   },
   {
    "duration": 9,
    "start_time": "2021-10-08T19:35:12.711Z"
   },
   {
    "duration": 112,
    "start_time": "2021-10-08T19:35:12.722Z"
   },
   {
    "duration": 58,
    "start_time": "2021-10-08T19:35:12.842Z"
   },
   {
    "duration": 7,
    "start_time": "2021-10-08T19:35:12.904Z"
   },
   {
    "duration": 7,
    "start_time": "2021-10-08T19:35:12.913Z"
   },
   {
    "duration": 7,
    "start_time": "2021-10-08T19:35:12.922Z"
   },
   {
    "duration": 72,
    "start_time": "2021-10-08T19:35:12.932Z"
   },
   {
    "duration": 8,
    "start_time": "2021-10-08T19:35:13.006Z"
   },
   {
    "duration": 9,
    "start_time": "2021-10-08T19:35:13.016Z"
   },
   {
    "duration": 1474,
    "start_time": "2021-10-08T19:35:13.028Z"
   },
   {
    "duration": 916,
    "start_time": "2021-10-08T19:35:14.505Z"
   },
   {
    "duration": 10,
    "start_time": "2021-10-08T19:35:15.423Z"
   },
   {
    "duration": 902,
    "start_time": "2021-10-08T19:35:15.436Z"
   },
   {
    "duration": 4,
    "start_time": "2021-10-08T19:35:16.341Z"
   },
   {
    "duration": 532,
    "start_time": "2021-10-08T19:35:16.347Z"
   },
   {
    "duration": 5,
    "start_time": "2021-10-08T19:35:16.881Z"
   },
   {
    "duration": 519,
    "start_time": "2021-10-08T19:35:16.888Z"
   },
   {
    "duration": 4,
    "start_time": "2021-10-08T19:35:17.409Z"
   },
   {
    "duration": 901,
    "start_time": "2021-10-08T19:35:17.415Z"
   },
   {
    "duration": 151,
    "start_time": "2021-10-08T19:35:18.318Z"
   },
   {
    "duration": 531,
    "start_time": "2021-10-08T19:35:18.472Z"
   },
   {
    "duration": 36,
    "start_time": "2021-10-08T19:35:19.006Z"
   },
   {
    "duration": 70,
    "start_time": "2021-10-08T19:35:19.044Z"
   },
   {
    "duration": 35,
    "start_time": "2021-10-08T19:35:19.117Z"
   },
   {
    "duration": 451,
    "start_time": "2021-10-08T19:35:19.155Z"
   },
   {
    "duration": 132,
    "start_time": "2021-10-08T19:35:19.609Z"
   },
   {
    "duration": 347,
    "start_time": "2021-10-08T19:35:19.745Z"
   },
   {
    "duration": 123,
    "start_time": "2021-10-08T19:35:20.099Z"
   },
   {
    "duration": 17,
    "start_time": "2021-10-08T19:35:20.225Z"
   },
   {
    "duration": 292,
    "start_time": "2021-10-08T19:35:20.245Z"
   },
   {
    "duration": 69,
    "start_time": "2021-10-08T19:35:20.540Z"
   },
   {
    "duration": 1177,
    "start_time": "2021-10-08T19:35:20.612Z"
   },
   {
    "duration": 232,
    "start_time": "2021-10-08T19:35:21.792Z"
   },
   {
    "duration": 20,
    "start_time": "2021-10-08T19:35:22.027Z"
   },
   {
    "duration": 13,
    "start_time": "2021-10-08T19:35:22.050Z"
   },
   {
    "duration": 37,
    "start_time": "2021-10-08T19:35:22.065Z"
   },
   {
    "duration": 544,
    "start_time": "2021-10-08T19:35:22.104Z"
   },
   {
    "duration": 27,
    "start_time": "2021-10-08T19:35:22.651Z"
   },
   {
    "duration": 43,
    "start_time": "2021-10-08T19:35:22.681Z"
   },
   {
    "duration": 19,
    "start_time": "2021-10-08T19:35:22.727Z"
   },
   {
    "duration": 72,
    "start_time": "2021-10-08T19:35:22.749Z"
   },
   {
    "duration": 25,
    "start_time": "2021-10-08T19:35:22.824Z"
   },
   {
    "duration": 16,
    "start_time": "2021-10-08T19:35:22.852Z"
   },
   {
    "duration": 45,
    "start_time": "2021-10-08T19:35:22.870Z"
   },
   {
    "duration": 27,
    "start_time": "2021-10-08T19:35:22.918Z"
   },
   {
    "duration": 63,
    "start_time": "2021-10-08T19:35:22.947Z"
   },
   {
    "duration": 1191,
    "start_time": "2021-10-08T19:35:23.012Z"
   },
   {
    "duration": 6,
    "start_time": "2021-10-08T19:35:24.212Z"
   },
   {
    "duration": 10,
    "start_time": "2021-10-08T19:35:24.222Z"
   },
   {
    "duration": 7,
    "start_time": "2021-10-08T19:35:24.234Z"
   },
   {
    "duration": 8,
    "start_time": "2021-10-08T19:35:24.243Z"
   },
   {
    "duration": 59,
    "start_time": "2021-10-08T19:35:24.254Z"
   },
   {
    "duration": 19,
    "start_time": "2021-10-08T19:35:24.316Z"
   },
   {
    "duration": 515,
    "start_time": "2021-10-08T19:35:24.338Z"
   },
   {
    "duration": 47,
    "start_time": "2021-10-08T19:35:24.855Z"
   },
   {
    "duration": 20,
    "start_time": "2021-10-08T19:35:24.904Z"
   },
   {
    "duration": 3,
    "start_time": "2021-10-08T19:35:24.926Z"
   },
   {
    "duration": 16,
    "start_time": "2021-10-08T19:35:24.931Z"
   },
   {
    "duration": 63,
    "start_time": "2021-10-08T19:35:24.950Z"
   },
   {
    "duration": 26,
    "start_time": "2021-10-08T19:35:25.016Z"
   },
   {
    "duration": 17,
    "start_time": "2021-10-08T19:35:25.044Z"
   },
   {
    "duration": 37,
    "start_time": "2021-10-08T19:35:25.064Z"
   },
   {
    "duration": 16,
    "start_time": "2021-10-08T19:35:25.103Z"
   },
   {
    "duration": 34,
    "start_time": "2021-10-08T19:35:25.122Z"
   },
   {
    "duration": 1276,
    "start_time": "2021-10-08T19:35:25.159Z"
   },
   {
    "duration": 5,
    "start_time": "2021-10-08T19:35:26.438Z"
   },
   {
    "duration": 12,
    "start_time": "2021-10-08T19:35:26.446Z"
   },
   {
    "duration": 456,
    "start_time": "2021-10-08T19:35:26.460Z"
   },
   {
    "duration": 1114,
    "start_time": "2021-10-08T19:35:26.918Z"
   },
   {
    "duration": 17,
    "start_time": "2021-10-08T19:35:28.034Z"
   },
   {
    "duration": 240,
    "start_time": "2021-10-08T19:35:28.054Z"
   },
   {
    "duration": 11,
    "start_time": "2021-10-08T19:35:28.296Z"
   },
   {
    "duration": 25,
    "start_time": "2021-10-08T19:35:28.310Z"
   },
   {
    "duration": 20,
    "start_time": "2021-10-08T19:35:28.338Z"
   },
   {
    "duration": 950,
    "start_time": "2021-10-08T19:35:28.361Z"
   },
   {
    "duration": 4,
    "start_time": "2021-10-08T19:35:29.314Z"
   },
   {
    "duration": 284751,
    "start_time": "2021-10-08T19:35:29.321Z"
   },
   {
    "duration": 50,
    "start_time": "2021-10-08T19:40:14.074Z"
   },
   {
    "duration": 36,
    "start_time": "2021-10-08T19:40:14.127Z"
   },
   {
    "duration": 1154,
    "start_time": "2021-10-08T19:40:14.166Z"
   },
   {
    "duration": 167,
    "start_time": "2021-10-08T19:40:15.323Z"
   },
   {
    "duration": 14,
    "start_time": "2021-10-08T19:40:15.500Z"
   },
   {
    "duration": 20,
    "start_time": "2021-10-08T19:40:15.517Z"
   },
   {
    "duration": 465,
    "start_time": "2021-10-08T19:40:15.540Z"
   }
  ],
  "kernelspec": {
   "display_name": "Python 3",
   "language": "python",
   "name": "python3"
  },
  "language_info": {
   "codemirror_mode": {
    "name": "ipython",
    "version": 3
   },
   "file_extension": ".py",
   "mimetype": "text/x-python",
   "name": "python",
   "nbconvert_exporter": "python",
   "pygments_lexer": "ipython3",
   "version": "3.7.11"
  },
  "toc": {
   "base_numbering": 1,
   "nav_menu": {
    "height": "464px",
    "width": "278px"
   },
   "number_sections": true,
   "sideBar": true,
   "skip_h1_title": false,
   "title_cell": "Table of Contents",
   "title_sidebar": "Contents",
   "toc_cell": false,
   "toc_position": {
    "height": "calc(100% - 180px)",
    "left": "10px",
    "top": "150px",
    "width": "290.688px"
   },
   "toc_section_display": true,
   "toc_window_display": true
  }
 },
 "nbformat": 4,
 "nbformat_minor": 2
}
