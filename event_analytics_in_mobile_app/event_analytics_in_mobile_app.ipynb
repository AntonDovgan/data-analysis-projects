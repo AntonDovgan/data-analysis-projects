{
 "cells": [
  {
   "cell_type": "markdown",
   "metadata": {},
   "source": [
    "# Исследование поведения пользователей в приложении\n",
    "\n",
    "## Описание проекта\n",
    "\n",
    "Мы работаем в стартапе, который продаёт продукты питания. Нужно разобраться, как ведут себя пользователи нашего мобильного приложения. Изучив воронку событий, узнаем, как пользователи доходят до покупки. Сколько пользователей доходит до покупки, а сколько — «застревает» на предыдущих шагах? На каких именно?\n",
    "\n",
    "После этого исследуем результаты A/ A/ B-эксперимента. Дизайнеры захотели поменять шрифты во всём приложении, а менеджеры испугались, что пользователям будет непривычно. Договорились принять решение по результатам A/ A/ B-теста. Пользователей разбили на 3 группы: 2 контрольные со старыми шрифтами и одну экспериментальную — с новыми. Выясните, какой шрифт лучше.\n",
    "\n",
    "Создание двух групп A вместо одной имеет определённые преимущества. Если две контрольные группы окажутся равны, мы можем быть уверены в точности проведенного тестирования. Если же между значениями A и A будут существенные различия, это поможет обнаружить факторы, которые привели к искажению результатов. Сравнение контрольных групп также поможет понять, сколько времени и данных потребуется для дальнейших тестов."
   ]
  },
  {
   "cell_type": "markdown",
   "metadata": {},
   "source": [
    "`EventName` — название события;    \n",
    "`DeviceIDHash` — уникальный идентификатор пользователя;    \n",
    "`EventTimestamp` — время события;    \n",
    "`ExpId` — номер эксперимента: 246 и 247 — контрольные группы, а 248 — экспериментальная.     "
   ]
  },
  {
   "cell_type": "markdown",
   "metadata": {},
   "source": [
    "# Импорт библиотек"
   ]
  },
  {
   "cell_type": "code",
   "execution_count": 1,
   "metadata": {},
   "outputs": [],
   "source": [
    "import pandas as pd\n",
    "import seaborn as sns\n",
    "import matplotlib.pyplot as plt\n",
    "from plotly import graph_objects as go \n",
    "import numpy as np\n",
    "from scipy import stats as st\n",
    "import math as mth\n",
    "\n",
    "plt.style.use('bmh')"
   ]
  },
  {
   "cell_type": "markdown",
   "metadata": {},
   "source": [
    "# Подготовка данных к анализу"
   ]
  },
  {
   "cell_type": "code",
   "execution_count": 2,
   "metadata": {},
   "outputs": [],
   "source": [
    "data = pd.read_csv('logs_exp.csv', sep = '\\t')"
   ]
  },
  {
   "cell_type": "code",
   "execution_count": 3,
   "metadata": {},
   "outputs": [
    {
     "data": {
      "text/html": [
       "<div>\n",
       "<style scoped>\n",
       "    .dataframe tbody tr th:only-of-type {\n",
       "        vertical-align: middle;\n",
       "    }\n",
       "\n",
       "    .dataframe tbody tr th {\n",
       "        vertical-align: top;\n",
       "    }\n",
       "\n",
       "    .dataframe thead th {\n",
       "        text-align: right;\n",
       "    }\n",
       "</style>\n",
       "<table border=\"1\" class=\"dataframe\">\n",
       "  <thead>\n",
       "    <tr style=\"text-align: right;\">\n",
       "      <th></th>\n",
       "      <th>EventName</th>\n",
       "      <th>DeviceIDHash</th>\n",
       "      <th>EventTimestamp</th>\n",
       "      <th>ExpId</th>\n",
       "    </tr>\n",
       "  </thead>\n",
       "  <tbody>\n",
       "    <tr>\n",
       "      <td>0</td>\n",
       "      <td>MainScreenAppear</td>\n",
       "      <td>4575588528974610257</td>\n",
       "      <td>1564029816</td>\n",
       "      <td>246</td>\n",
       "    </tr>\n",
       "    <tr>\n",
       "      <td>1</td>\n",
       "      <td>MainScreenAppear</td>\n",
       "      <td>7416695313311560658</td>\n",
       "      <td>1564053102</td>\n",
       "      <td>246</td>\n",
       "    </tr>\n",
       "    <tr>\n",
       "      <td>2</td>\n",
       "      <td>PaymentScreenSuccessful</td>\n",
       "      <td>3518123091307005509</td>\n",
       "      <td>1564054127</td>\n",
       "      <td>248</td>\n",
       "    </tr>\n",
       "    <tr>\n",
       "      <td>3</td>\n",
       "      <td>CartScreenAppear</td>\n",
       "      <td>3518123091307005509</td>\n",
       "      <td>1564054127</td>\n",
       "      <td>248</td>\n",
       "    </tr>\n",
       "    <tr>\n",
       "      <td>4</td>\n",
       "      <td>PaymentScreenSuccessful</td>\n",
       "      <td>6217807653094995999</td>\n",
       "      <td>1564055322</td>\n",
       "      <td>248</td>\n",
       "    </tr>\n",
       "  </tbody>\n",
       "</table>\n",
       "</div>"
      ],
      "text/plain": [
       "                 EventName         DeviceIDHash  EventTimestamp  ExpId\n",
       "0         MainScreenAppear  4575588528974610257      1564029816    246\n",
       "1         MainScreenAppear  7416695313311560658      1564053102    246\n",
       "2  PaymentScreenSuccessful  3518123091307005509      1564054127    248\n",
       "3         CartScreenAppear  3518123091307005509      1564054127    248\n",
       "4  PaymentScreenSuccessful  6217807653094995999      1564055322    248"
      ]
     },
     "execution_count": 3,
     "metadata": {},
     "output_type": "execute_result"
    }
   ],
   "source": [
    "data.head()"
   ]
  },
  {
   "cell_type": "code",
   "execution_count": 4,
   "metadata": {},
   "outputs": [
    {
     "name": "stdout",
     "output_type": "stream",
     "text": [
      "<class 'pandas.core.frame.DataFrame'>\n",
      "RangeIndex: 244126 entries, 0 to 244125\n",
      "Data columns (total 4 columns):\n",
      "EventName         244126 non-null object\n",
      "DeviceIDHash      244126 non-null int64\n",
      "EventTimestamp    244126 non-null int64\n",
      "ExpId             244126 non-null int64\n",
      "dtypes: int64(3), object(1)\n",
      "memory usage: 7.5+ MB\n"
     ]
    },
    {
     "data": {
      "text/plain": [
       "(244126, 4)"
      ]
     },
     "execution_count": 4,
     "metadata": {},
     "output_type": "execute_result"
    }
   ],
   "source": [
    "data.info()\n",
    "data.shape"
   ]
  },
  {
   "cell_type": "code",
   "execution_count": 5,
   "metadata": {},
   "outputs": [
    {
     "name": "stdout",
     "output_type": "stream",
     "text": [
      "EventName         0\n",
      "DeviceIDHash      0\n",
      "EventTimestamp    0\n",
      "ExpId             0\n",
      "dtype: int64\n"
     ]
    }
   ],
   "source": [
    "# наличие пропусков\n",
    "print(data.isna().sum())"
   ]
  },
  {
   "cell_type": "code",
   "execution_count": 6,
   "metadata": {},
   "outputs": [
    {
     "name": "stdout",
     "output_type": "stream",
     "text": [
      "Найдено дубликатов: 413 , что составляет 0.17 % .\n"
     ]
    }
   ],
   "source": [
    "print('Найдено дубликатов:', data.duplicated().sum(),',' ,'что составляет', round((data.duplicated().sum() / data.shape[0])*100, 2), '% .')"
   ]
  },
  {
   "cell_type": "markdown",
   "metadata": {},
   "source": [
    "## Удаление дубликатов"
   ]
  },
  {
   "cell_type": "code",
   "execution_count": 7,
   "metadata": {},
   "outputs": [],
   "source": [
    "## удаляем дубли\n",
    "data = data.drop_duplicates()"
   ]
  },
  {
   "cell_type": "code",
   "execution_count": 8,
   "metadata": {},
   "outputs": [
    {
     "name": "stdout",
     "output_type": "stream",
     "text": [
      "<class 'pandas.core.frame.DataFrame'>\n",
      "Int64Index: 243713 entries, 0 to 244125\n",
      "Data columns (total 4 columns):\n",
      "EventName         243713 non-null object\n",
      "DeviceIDHash      243713 non-null int64\n",
      "EventTimestamp    243713 non-null int64\n",
      "ExpId             243713 non-null int64\n",
      "dtypes: int64(3), object(1)\n",
      "memory usage: 9.3+ MB\n"
     ]
    }
   ],
   "source": [
    "data.info()"
   ]
  },
  {
   "cell_type": "markdown",
   "metadata": {},
   "source": [
    "## Корреткировка формата времени"
   ]
  },
  {
   "cell_type": "code",
   "execution_count": 9,
   "metadata": {},
   "outputs": [],
   "source": [
    "# корректировка формата времени из unix формата\n",
    "data['EventTimestamp'] = data['EventTimestamp'].astype('datetime64[s]')\n",
    "data['date'] = data['EventTimestamp'].dt.date\n",
    "data['time'] = data['EventTimestamp'].dt.time\n",
    "data['date'] = pd.to_datetime(data.date)"
   ]
  },
  {
   "cell_type": "code",
   "execution_count": 10,
   "metadata": {},
   "outputs": [
    {
     "name": "stdout",
     "output_type": "stream",
     "text": [
      "<class 'pandas.core.frame.DataFrame'>\n",
      "Int64Index: 243713 entries, 0 to 244125\n",
      "Data columns (total 6 columns):\n",
      "EventName         243713 non-null object\n",
      "DeviceIDHash      243713 non-null int64\n",
      "EventTimestamp    243713 non-null datetime64[ns]\n",
      "ExpId             243713 non-null int64\n",
      "date              243713 non-null datetime64[ns]\n",
      "time              243713 non-null object\n",
      "dtypes: datetime64[ns](2), int64(2), object(2)\n",
      "memory usage: 13.0+ MB\n"
     ]
    }
   ],
   "source": [
    "data.info()"
   ]
  },
  {
   "cell_type": "markdown",
   "metadata": {},
   "source": [
    "## Статистические данные"
   ]
  },
  {
   "cell_type": "code",
   "execution_count": 11,
   "metadata": {},
   "outputs": [
    {
     "data": {
      "text/html": [
       "<div>\n",
       "<style scoped>\n",
       "    .dataframe tbody tr th:only-of-type {\n",
       "        vertical-align: middle;\n",
       "    }\n",
       "\n",
       "    .dataframe tbody tr th {\n",
       "        vertical-align: top;\n",
       "    }\n",
       "\n",
       "    .dataframe thead th {\n",
       "        text-align: right;\n",
       "    }\n",
       "</style>\n",
       "<table border=\"1\" class=\"dataframe\">\n",
       "  <thead>\n",
       "    <tr style=\"text-align: right;\">\n",
       "      <th></th>\n",
       "      <th>count</th>\n",
       "      <th>mean</th>\n",
       "      <th>std</th>\n",
       "      <th>min</th>\n",
       "      <th>25%</th>\n",
       "      <th>50%</th>\n",
       "      <th>75%</th>\n",
       "      <th>max</th>\n",
       "    </tr>\n",
       "  </thead>\n",
       "  <tbody>\n",
       "    <tr>\n",
       "      <td>DeviceIDHash</td>\n",
       "      <td>243713.0</td>\n",
       "      <td>4.627963e+18</td>\n",
       "      <td>2.642723e+18</td>\n",
       "      <td>6.888747e+15</td>\n",
       "      <td>2.372212e+18</td>\n",
       "      <td>4.623192e+18</td>\n",
       "      <td>6.932517e+18</td>\n",
       "      <td>9.222603e+18</td>\n",
       "    </tr>\n",
       "    <tr>\n",
       "      <td>ExpId</td>\n",
       "      <td>243713.0</td>\n",
       "      <td>2.470222e+02</td>\n",
       "      <td>8.244199e-01</td>\n",
       "      <td>2.460000e+02</td>\n",
       "      <td>2.460000e+02</td>\n",
       "      <td>2.470000e+02</td>\n",
       "      <td>2.480000e+02</td>\n",
       "      <td>2.480000e+02</td>\n",
       "    </tr>\n",
       "  </tbody>\n",
       "</table>\n",
       "</div>"
      ],
      "text/plain": [
       "                 count          mean           std           min  \\\n",
       "DeviceIDHash  243713.0  4.627963e+18  2.642723e+18  6.888747e+15   \n",
       "ExpId         243713.0  2.470222e+02  8.244199e-01  2.460000e+02   \n",
       "\n",
       "                       25%           50%           75%           max  \n",
       "DeviceIDHash  2.372212e+18  4.623192e+18  6.932517e+18  9.222603e+18  \n",
       "ExpId         2.460000e+02  2.470000e+02  2.480000e+02  2.480000e+02  "
      ]
     },
     "execution_count": 11,
     "metadata": {},
     "output_type": "execute_result"
    }
   ],
   "source": [
    "data.describe().T"
   ]
  },
  {
   "cell_type": "code",
   "execution_count": 12,
   "metadata": {},
   "outputs": [
    {
     "data": {
      "text/html": [
       "<div>\n",
       "<style scoped>\n",
       "    .dataframe tbody tr th:only-of-type {\n",
       "        vertical-align: middle;\n",
       "    }\n",
       "\n",
       "    .dataframe tbody tr th {\n",
       "        vertical-align: top;\n",
       "    }\n",
       "\n",
       "    .dataframe thead th {\n",
       "        text-align: right;\n",
       "    }\n",
       "</style>\n",
       "<table border=\"1\" class=\"dataframe\">\n",
       "  <thead>\n",
       "    <tr style=\"text-align: right;\">\n",
       "      <th></th>\n",
       "      <th>count</th>\n",
       "      <th>unique</th>\n",
       "      <th>top</th>\n",
       "      <th>freq</th>\n",
       "    </tr>\n",
       "  </thead>\n",
       "  <tbody>\n",
       "    <tr>\n",
       "      <td>EventName</td>\n",
       "      <td>243713</td>\n",
       "      <td>5</td>\n",
       "      <td>MainScreenAppear</td>\n",
       "      <td>119101</td>\n",
       "    </tr>\n",
       "    <tr>\n",
       "      <td>time</td>\n",
       "      <td>243713</td>\n",
       "      <td>69824</td>\n",
       "      <td>12:29:55</td>\n",
       "      <td>19</td>\n",
       "    </tr>\n",
       "  </tbody>\n",
       "</table>\n",
       "</div>"
      ],
      "text/plain": [
       "            count unique               top    freq\n",
       "EventName  243713      5  MainScreenAppear  119101\n",
       "time       243713  69824          12:29:55      19"
      ]
     },
     "execution_count": 12,
     "metadata": {},
     "output_type": "execute_result"
    }
   ],
   "source": [
    "data.describe(include = 'object').T"
   ]
  },
  {
   "cell_type": "markdown",
   "metadata": {},
   "source": [
    "**Вывод:**    \n",
    "- размер таблицы 244126 на 4.\n",
    "- дубликаты: 413 строк, удалены;\n",
    "- пропуски: отсутствуют;\n",
    "- формат времени сконвертирован;\n",
    "- аномалии в данных: отсутствуют."
   ]
  },
  {
   "cell_type": "markdown",
   "metadata": {},
   "source": [
    "# Изучение и проверка данных"
   ]
  },
  {
   "cell_type": "markdown",
   "metadata": {},
   "source": [
    "## Количество событий в логе"
   ]
  },
  {
   "cell_type": "code",
   "execution_count": 13,
   "metadata": {},
   "outputs": [
    {
     "data": {
      "text/html": [
       "<div>\n",
       "<style scoped>\n",
       "    .dataframe tbody tr th:only-of-type {\n",
       "        vertical-align: middle;\n",
       "    }\n",
       "\n",
       "    .dataframe tbody tr th {\n",
       "        vertical-align: top;\n",
       "    }\n",
       "\n",
       "    .dataframe thead th {\n",
       "        text-align: right;\n",
       "    }\n",
       "</style>\n",
       "<table border=\"1\" class=\"dataframe\">\n",
       "  <thead>\n",
       "    <tr style=\"text-align: right;\">\n",
       "      <th></th>\n",
       "      <th>EventName</th>\n",
       "      <th>Amount</th>\n",
       "    </tr>\n",
       "  </thead>\n",
       "  <tbody>\n",
       "    <tr>\n",
       "      <td>1</td>\n",
       "      <td>MainScreenAppear</td>\n",
       "      <td>119101</td>\n",
       "    </tr>\n",
       "    <tr>\n",
       "      <td>2</td>\n",
       "      <td>OffersScreenAppear</td>\n",
       "      <td>46808</td>\n",
       "    </tr>\n",
       "    <tr>\n",
       "      <td>0</td>\n",
       "      <td>CartScreenAppear</td>\n",
       "      <td>42668</td>\n",
       "    </tr>\n",
       "    <tr>\n",
       "      <td>3</td>\n",
       "      <td>PaymentScreenSuccessful</td>\n",
       "      <td>34118</td>\n",
       "    </tr>\n",
       "    <tr>\n",
       "      <td>4</td>\n",
       "      <td>Tutorial</td>\n",
       "      <td>1018</td>\n",
       "    </tr>\n",
       "  </tbody>\n",
       "</table>\n",
       "</div>"
      ],
      "text/plain": [
       "                 EventName  Amount\n",
       "1         MainScreenAppear  119101\n",
       "2       OffersScreenAppear   46808\n",
       "0         CartScreenAppear   42668\n",
       "3  PaymentScreenSuccessful   34118\n",
       "4                 Tutorial    1018"
      ]
     },
     "execution_count": 13,
     "metadata": {},
     "output_type": "execute_result"
    }
   ],
   "source": [
    "event_stat = data.groupby('EventName')['DeviceIDHash'].count().reset_index()\n",
    "event_stat.columns = 'EventName', 'Amount'\n",
    "event_stat.sort_values(by='Amount', ascending = False)"
   ]
  },
  {
   "cell_type": "markdown",
   "metadata": {},
   "source": [
    "## Количество событий пользователей в логе    "
   ]
  },
  {
   "cell_type": "code",
   "execution_count": 14,
   "metadata": {},
   "outputs": [
    {
     "name": "stdout",
     "output_type": "stream",
     "text": [
      "Всего пользователей в логе 7551\n"
     ]
    }
   ],
   "source": [
    "print('Всего пользователей в логе',data['DeviceIDHash'].nunique())"
   ]
  },
  {
   "cell_type": "markdown",
   "metadata": {},
   "source": [
    "## Количество событий в среднем на пользователя  "
   ]
  },
  {
   "cell_type": "code",
   "execution_count": 15,
   "metadata": {},
   "outputs": [
    {
     "data": {
      "text/plain": [
       "'В среднем на одного пользователя приходится 32 события'"
      ]
     },
     "execution_count": 15,
     "metadata": {},
     "output_type": "execute_result"
    }
   ],
   "source": [
    "mean_event_per_user = data.groupby('DeviceIDHash')['EventName'].count().mean()\n",
    "f'В среднем на одного пользователя приходится {mean_event_per_user:.0f} события'"
   ]
  },
  {
   "cell_type": "code",
   "execution_count": 16,
   "metadata": {},
   "outputs": [
    {
     "data": {
      "image/png": "[encoded data removed]",
      "text/plain": [
       "<Figure size 432x288 with 1 Axes>"
      ]
     },
     "metadata": {
      "needs_background": "light"
     },
     "output_type": "display_data"
    }
   ],
   "source": [
    "data.groupby('DeviceIDHash')['EventName'].count().hist(bins = 500)\n",
    "plt.gca().set(title='Гистограмма распределения событий', xlabel='Количество', ylabel='Частота событий')\n",
    "plt.show()"
   ]
  },
  {
   "cell_type": "markdown",
   "metadata": {},
   "source": [
    "Распределение отлично от нормального, а следовательно наилучшей мерой среднего для нас является мода или медиана."
   ]
  },
  {
   "cell_type": "code",
   "execution_count": 17,
   "metadata": {},
   "outputs": [
    {
     "name": "stdout",
     "output_type": "stream",
     "text": [
      "Медиана количества событий в среднем на пользователя: 20.0\n"
     ]
    }
   ],
   "source": [
    "print('Медиана количества событий в среднем на пользователя:', data.groupby('DeviceIDHash')['EventName'].count().median())"
   ]
  },
  {
   "cell_type": "markdown",
   "metadata": {},
   "source": [
    "Пользователь может совершить несколько событий за сессию или за несколько сессий. Например, несколько раз просмотреть предложения."
   ]
  },
  {
   "cell_type": "markdown",
   "metadata": {},
   "source": [
    "## Период данных"
   ]
  },
  {
   "cell_type": "code",
   "execution_count": 18,
   "metadata": {},
   "outputs": [
    {
     "name": "stdout",
     "output_type": "stream",
     "text": [
      "Данные лежат в диапазоне дат: 2019-07-25 00:00:00 - 2019-08-07 00:00:00\n"
     ]
    }
   ],
   "source": [
    "print('Данные лежат в диапазоне дат:', data['date'].min(), '-', data['date'].max())"
   ]
  },
  {
   "cell_type": "code",
   "execution_count": 19,
   "metadata": {},
   "outputs": [
    {
     "name": "stderr",
     "output_type": "stream",
     "text": [
      "C:\\Users\\Anton.Dovgan\\Documents\\praktikum\\lib\\site-packages\\pandas\\plotting\\_matplotlib\\converter.py:103: FutureWarning:\n",
      "\n",
      "Using an implicitly registered datetime converter for a matplotlib plotting method. The converter was registered by pandas on import. Future versions of pandas will require you to explicitly register matplotlib converters.\n",
      "\n",
      "To register the converters:\n",
      "\t>>> from pandas.plotting import register_matplotlib_converters\n",
      "\t>>> register_matplotlib_converters()\n",
      "\n"
     ]
    },
    {
     "data": {
      "image/png": "[encoded data removed]",
      "text/plain": [
       "<Figure size 1152x360 with 1 Axes>"
      ]
     },
     "metadata": {
      "needs_background": "light"
     },
     "output_type": "display_data"
    }
   ],
   "source": [
    "plt.figure(figsize=(16,5))\n",
    "data['EventTimestamp'].hist(bins = 70) \n",
    "plt.gca().set(title='Гистограмма распределения событий по датам', xlabel='Дата', ylabel='Количество данных')\n",
    "plt.show()"
   ]
  },
  {
   "cell_type": "code",
   "execution_count": 20,
   "metadata": {
    "scrolled": true
   },
   "outputs": [
    {
     "data": {
      "text/html": [
       "<div>\n",
       "<style scoped>\n",
       "    .dataframe tbody tr th:only-of-type {\n",
       "        vertical-align: middle;\n",
       "    }\n",
       "\n",
       "    .dataframe tbody tr th {\n",
       "        vertical-align: top;\n",
       "    }\n",
       "\n",
       "    .dataframe thead th {\n",
       "        text-align: right;\n",
       "    }\n",
       "</style>\n",
       "<table border=\"1\" class=\"dataframe\">\n",
       "  <thead>\n",
       "    <tr style=\"text-align: right;\">\n",
       "      <th></th>\n",
       "      <th>EventName</th>\n",
       "      <th>DeviceIDHash</th>\n",
       "      <th>EventTimestamp</th>\n",
       "      <th>ExpId</th>\n",
       "      <th>date</th>\n",
       "      <th>time</th>\n",
       "    </tr>\n",
       "  </thead>\n",
       "  <tbody>\n",
       "    <tr>\n",
       "      <td>0</td>\n",
       "      <td>MainScreenAppear</td>\n",
       "      <td>4575588528974610257</td>\n",
       "      <td>2019-07-25 04:43:36</td>\n",
       "      <td>246</td>\n",
       "      <td>2019-07-25</td>\n",
       "      <td>04:43:36</td>\n",
       "    </tr>\n",
       "    <tr>\n",
       "      <td>1</td>\n",
       "      <td>MainScreenAppear</td>\n",
       "      <td>7416695313311560658</td>\n",
       "      <td>2019-07-25 11:11:42</td>\n",
       "      <td>246</td>\n",
       "      <td>2019-07-25</td>\n",
       "      <td>11:11:42</td>\n",
       "    </tr>\n",
       "    <tr>\n",
       "      <td>2</td>\n",
       "      <td>PaymentScreenSuccessful</td>\n",
       "      <td>3518123091307005509</td>\n",
       "      <td>2019-07-25 11:28:47</td>\n",
       "      <td>248</td>\n",
       "      <td>2019-07-25</td>\n",
       "      <td>11:28:47</td>\n",
       "    </tr>\n",
       "    <tr>\n",
       "      <td>3</td>\n",
       "      <td>CartScreenAppear</td>\n",
       "      <td>3518123091307005509</td>\n",
       "      <td>2019-07-25 11:28:47</td>\n",
       "      <td>248</td>\n",
       "      <td>2019-07-25</td>\n",
       "      <td>11:28:47</td>\n",
       "    </tr>\n",
       "    <tr>\n",
       "      <td>4</td>\n",
       "      <td>PaymentScreenSuccessful</td>\n",
       "      <td>6217807653094995999</td>\n",
       "      <td>2019-07-25 11:48:42</td>\n",
       "      <td>248</td>\n",
       "      <td>2019-07-25</td>\n",
       "      <td>11:48:42</td>\n",
       "    </tr>\n",
       "  </tbody>\n",
       "</table>\n",
       "</div>"
      ],
      "text/plain": [
       "                 EventName         DeviceIDHash      EventTimestamp  ExpId  \\\n",
       "0         MainScreenAppear  4575588528974610257 2019-07-25 04:43:36    246   \n",
       "1         MainScreenAppear  7416695313311560658 2019-07-25 11:11:42    246   \n",
       "2  PaymentScreenSuccessful  3518123091307005509 2019-07-25 11:28:47    248   \n",
       "3         CartScreenAppear  3518123091307005509 2019-07-25 11:28:47    248   \n",
       "4  PaymentScreenSuccessful  6217807653094995999 2019-07-25 11:48:42    248   \n",
       "\n",
       "        date      time  \n",
       "0 2019-07-25  04:43:36  \n",
       "1 2019-07-25  11:11:42  \n",
       "2 2019-07-25  11:28:47  \n",
       "3 2019-07-25  11:28:47  \n",
       "4 2019-07-25  11:48:42  "
      ]
     },
     "execution_count": 20,
     "metadata": {},
     "output_type": "execute_result"
    }
   ],
   "source": [
    "data.head()"
   ]
  },
  {
   "cell_type": "markdown",
   "metadata": {},
   "source": [
    "**Вывод:**    \n",
    "отсекаем данные младше 2019-08-01, так как они являются не полными."
   ]
  },
  {
   "cell_type": "markdown",
   "metadata": {},
   "source": [
    "### Отсечение неполных данных"
   ]
  },
  {
   "cell_type": "code",
   "execution_count": 21,
   "metadata": {},
   "outputs": [],
   "source": [
    "data_log = data.query('date >=\"2019-08-01\"')"
   ]
  },
  {
   "cell_type": "code",
   "execution_count": 22,
   "metadata": {},
   "outputs": [
    {
     "name": "stdout",
     "output_type": "stream",
     "text": [
      "В результате удаления,\n",
      "потеряли событий = 2826 шт. или 1.16%\n",
      "пользователей = 17 шт. или 0.23%\n"
     ]
    }
   ],
   "source": [
    "# Много ли событий и пользователей вы потеряли, отбросив старые данные?\n",
    "print('В результате удаления,\\nпотеряли событий = {lost_ec} шт. или {lost_ep:.2%}\\nпользователей = {lost_uc} шт. или {lost_up:.2%}'\n",
    "      .format(lost_ec = data.shape[0] - data_log.shape[0], \n",
    "              lost_ep = 1-(data_log.shape[0]/data.shape[0]), \n",
    "              lost_uc = data['DeviceIDHash'].nunique() - data_log['DeviceIDHash'].nunique(),\n",
    "              lost_up = 1-(data_log['DeviceIDHash'].nunique()/data['DeviceIDHash'].nunique())))"
   ]
  },
  {
   "cell_type": "markdown",
   "metadata": {},
   "source": [
    "### Проверка пользователей в группах"
   ]
  },
  {
   "cell_type": "markdown",
   "metadata": {},
   "source": [
    "#### Количество уникальных групп"
   ]
  },
  {
   "cell_type": "code",
   "execution_count": 23,
   "metadata": {},
   "outputs": [
    {
     "name": "stdout",
     "output_type": "stream",
     "text": [
      "Количесво уникальных групп = 3 шт.\n"
     ]
    }
   ],
   "source": [
    "print('Количесво уникальных групп =', data_log['ExpId'].nunique(), 'шт.')"
   ]
  },
  {
   "cell_type": "markdown",
   "metadata": {},
   "source": [
    "#### Количество уникальных пользователей по группам"
   ]
  },
  {
   "cell_type": "code",
   "execution_count": 24,
   "metadata": {},
   "outputs": [
    {
     "data": {
      "text/html": [
       "<div>\n",
       "<style scoped>\n",
       "    .dataframe tbody tr th:only-of-type {\n",
       "        vertical-align: middle;\n",
       "    }\n",
       "\n",
       "    .dataframe tbody tr th {\n",
       "        vertical-align: top;\n",
       "    }\n",
       "\n",
       "    .dataframe thead th {\n",
       "        text-align: right;\n",
       "    }\n",
       "</style>\n",
       "<table border=\"1\" class=\"dataframe\">\n",
       "  <thead>\n",
       "    <tr style=\"text-align: right;\">\n",
       "      <th></th>\n",
       "      <th>GroupId</th>\n",
       "      <th>UserCount</th>\n",
       "    </tr>\n",
       "  </thead>\n",
       "  <tbody>\n",
       "    <tr>\n",
       "      <td>0</td>\n",
       "      <td>246</td>\n",
       "      <td>2484</td>\n",
       "    </tr>\n",
       "    <tr>\n",
       "      <td>1</td>\n",
       "      <td>247</td>\n",
       "      <td>2513</td>\n",
       "    </tr>\n",
       "    <tr>\n",
       "      <td>2</td>\n",
       "      <td>248</td>\n",
       "      <td>2537</td>\n",
       "    </tr>\n",
       "  </tbody>\n",
       "</table>\n",
       "</div>"
      ],
      "text/plain": [
       "   GroupId  UserCount\n",
       "0      246       2484\n",
       "1      247       2513\n",
       "2      248       2537"
      ]
     },
     "execution_count": 24,
     "metadata": {},
     "output_type": "execute_result"
    }
   ],
   "source": [
    "data_count_user = data_log.pivot_table(index = 'DeviceIDHash', values = 'ExpId', aggfunc={'nunique'}).reset_index()\n",
    "data_count_user = data_log.groupby('ExpId')['DeviceIDHash'].nunique().reset_index()\n",
    "data_count_user.columns = 'GroupId', 'UserCount'\n",
    "data_count_user"
   ]
  },
  {
   "cell_type": "markdown",
   "metadata": {},
   "source": [
    "# Воронка событий"
   ]
  },
  {
   "cell_type": "markdown",
   "metadata": {},
   "source": [
    "## Наличие и количесво событий"
   ]
  },
  {
   "cell_type": "code",
   "execution_count": 25,
   "metadata": {},
   "outputs": [
    {
     "data": {
      "text/html": [
       "<div>\n",
       "<style scoped>\n",
       "    .dataframe tbody tr th:only-of-type {\n",
       "        vertical-align: middle;\n",
       "    }\n",
       "\n",
       "    .dataframe tbody tr th {\n",
       "        vertical-align: top;\n",
       "    }\n",
       "\n",
       "    .dataframe thead th {\n",
       "        text-align: right;\n",
       "    }\n",
       "</style>\n",
       "<table border=\"1\" class=\"dataframe\">\n",
       "  <thead>\n",
       "    <tr style=\"text-align: right;\">\n",
       "      <th></th>\n",
       "      <th>EventName</th>\n",
       "      <th>Amount</th>\n",
       "    </tr>\n",
       "  </thead>\n",
       "  <tbody>\n",
       "    <tr>\n",
       "      <td>1</td>\n",
       "      <td>MainScreenAppear</td>\n",
       "      <td>117328</td>\n",
       "    </tr>\n",
       "    <tr>\n",
       "      <td>2</td>\n",
       "      <td>OffersScreenAppear</td>\n",
       "      <td>46333</td>\n",
       "    </tr>\n",
       "    <tr>\n",
       "      <td>0</td>\n",
       "      <td>CartScreenAppear</td>\n",
       "      <td>42303</td>\n",
       "    </tr>\n",
       "    <tr>\n",
       "      <td>3</td>\n",
       "      <td>PaymentScreenSuccessful</td>\n",
       "      <td>33918</td>\n",
       "    </tr>\n",
       "    <tr>\n",
       "      <td>4</td>\n",
       "      <td>Tutorial</td>\n",
       "      <td>1005</td>\n",
       "    </tr>\n",
       "  </tbody>\n",
       "</table>\n",
       "</div>"
      ],
      "text/plain": [
       "                 EventName  Amount\n",
       "1         MainScreenAppear  117328\n",
       "2       OffersScreenAppear   46333\n",
       "0         CartScreenAppear   42303\n",
       "3  PaymentScreenSuccessful   33918\n",
       "4                 Tutorial    1005"
      ]
     },
     "execution_count": 25,
     "metadata": {},
     "output_type": "execute_result"
    }
   ],
   "source": [
    "event_stat_new = data_log.groupby('EventName')['DeviceIDHash'].count().reset_index()\n",
    "event_stat_new.columns = 'EventName', 'Amount'\n",
    "event_stat_new.sort_values(by='Amount', ascending = False)"
   ]
  },
  {
   "cell_type": "markdown",
   "metadata": {},
   "source": [
    "## Воронка     \n",
    "Узнаем сколько пользователей совершили каждое событие."
   ]
  },
  {
   "cell_type": "code",
   "execution_count": 26,
   "metadata": {},
   "outputs": [
    {
     "data": {
      "text/html": [
       "<div>\n",
       "<style scoped>\n",
       "    .dataframe tbody tr th:only-of-type {\n",
       "        vertical-align: middle;\n",
       "    }\n",
       "\n",
       "    .dataframe tbody tr th {\n",
       "        vertical-align: top;\n",
       "    }\n",
       "\n",
       "    .dataframe thead th {\n",
       "        text-align: right;\n",
       "    }\n",
       "</style>\n",
       "<table border=\"1\" class=\"dataframe\">\n",
       "  <thead>\n",
       "    <tr style=\"text-align: right;\">\n",
       "      <th></th>\n",
       "      <th>EventName</th>\n",
       "      <th>EventCount</th>\n",
       "      <th>UserCount</th>\n",
       "      <th>UserRate, %</th>\n",
       "    </tr>\n",
       "  </thead>\n",
       "  <tbody>\n",
       "    <tr>\n",
       "      <td>1</td>\n",
       "      <td>MainScreenAppear</td>\n",
       "      <td>117328</td>\n",
       "      <td>7419</td>\n",
       "      <td>98</td>\n",
       "    </tr>\n",
       "    <tr>\n",
       "      <td>2</td>\n",
       "      <td>OffersScreenAppear</td>\n",
       "      <td>46333</td>\n",
       "      <td>4593</td>\n",
       "      <td>60</td>\n",
       "    </tr>\n",
       "    <tr>\n",
       "      <td>0</td>\n",
       "      <td>CartScreenAppear</td>\n",
       "      <td>42303</td>\n",
       "      <td>3734</td>\n",
       "      <td>49</td>\n",
       "    </tr>\n",
       "    <tr>\n",
       "      <td>3</td>\n",
       "      <td>PaymentScreenSuccessful</td>\n",
       "      <td>33918</td>\n",
       "      <td>3539</td>\n",
       "      <td>46</td>\n",
       "    </tr>\n",
       "    <tr>\n",
       "      <td>4</td>\n",
       "      <td>Tutorial</td>\n",
       "      <td>1005</td>\n",
       "      <td>840</td>\n",
       "      <td>11</td>\n",
       "    </tr>\n",
       "  </tbody>\n",
       "</table>\n",
       "</div>"
      ],
      "text/plain": [
       "                 EventName  EventCount  UserCount  UserRate, %\n",
       "1         MainScreenAppear      117328       7419           98\n",
       "2       OffersScreenAppear       46333       4593           60\n",
       "0         CartScreenAppear       42303       3734           49\n",
       "3  PaymentScreenSuccessful       33918       3539           46\n",
       "4                 Tutorial        1005        840           11"
      ]
     },
     "execution_count": 26,
     "metadata": {},
     "output_type": "execute_result"
    }
   ],
   "source": [
    "user_count = data_log.pivot_table(index = ['EventName'], values = 'DeviceIDHash', aggfunc = {'nunique','count'}).reset_index()\n",
    "user_count.columns = 'EventName', 'EventCount', 'UserCount'\n",
    "# Посчитаем долю пользователей, которые хоть раз совершали событие\n",
    "user_count['UserRate, %'] = ((user_count['UserCount']/data_log['DeviceIDHash'].nunique())*100).astype('int')\n",
    "# Сортируем и выводим на экран\n",
    "user_count.sort_values(by = 'UserCount', ascending = False, inplace=True)\n",
    "user_count"
   ]
  },
  {
   "cell_type": "markdown",
   "metadata": {},
   "source": [
    "'MainScreenAppear' = 98%, связано с тем, что пользоватли могли обойти данный этап."
   ]
  },
  {
   "cell_type": "markdown",
   "metadata": {},
   "source": [
    "## Визуальная воронка"
   ]
  },
  {
   "cell_type": "code",
   "execution_count": 27,
   "metadata": {},
   "outputs": [
    {
     "data": {
      "application/vnd.plotly.v1+json": {
       "config": {
        "plotlyServerURL": "https://plot.ly"
       },
       "data": [
        {
         "textinfo": "value+percent initial",
         "textposition": "inside",
         "type": "funnel",
         "x": [
          7419,
          4593,
          3734,
          3539,
          840
         ],
         "y": [
          "MainScreenAppear",
          "OffersScreenAppear",
          "CartScreenAppear",
          "PaymentScreenSuccessful",
          "Tutorial"
         ]
        }
       ],
       "layout": {
        "template": {
         "data": {
          "bar": [
           {
            "error_x": {
             "color": "#2a3f5f"
            },
            "error_y": {
             "color": "#2a3f5f"
            },
            "marker": {
             "line": {
              "color": "#E5ECF6",
              "width": 0.5
             }
            },
            "type": "bar"
           }
          ],
          "barpolar": [
           {
            "marker": {
             "line": {
              "color": "#E5ECF6",
              "width": 0.5
             }
            },
            "type": "barpolar"
           }
          ],
          "carpet": [
           {
            "aaxis": {
             "endlinecolor": "#2a3f5f",
             "gridcolor": "white",
             "linecolor": "white",
             "minorgridcolor": "white",
             "startlinecolor": "#2a3f5f"
            },
            "baxis": {
             "endlinecolor": "#2a3f5f",
             "gridcolor": "white",
             "linecolor": "white",
             "minorgridcolor": "white",
             "startlinecolor": "#2a3f5f"
            },
            "type": "carpet"
           }
          ],
          "choropleth": [
           {
            "colorbar": {
             "outlinewidth": 0,
             "ticks": ""
            },
            "type": "choropleth"
           }
          ],
          "contour": [
           {
            "colorbar": {
             "outlinewidth": 0,
             "ticks": ""
            },
            "colorscale": [
             [
              0,
              "#0d0887"
             ],
             [
              0.1111111111111111,
              "#46039f"
             ],
             [
              0.2222222222222222,
              "#7201a8"
             ],
             [
              0.3333333333333333,
              "#9c179e"
             ],
             [
              0.4444444444444444,
              "#bd3786"
             ],
             [
              0.5555555555555556,
              "#d8576b"
             ],
             [
              0.6666666666666666,
              "#ed7953"
             ],
             [
              0.7777777777777778,
              "#fb9f3a"
             ],
             [
              0.8888888888888888,
              "#fdca26"
             ],
             [
              1,
              "#f0f921"
             ]
            ],
            "type": "contour"
           }
          ],
          "contourcarpet": [
           {
            "colorbar": {
             "outlinewidth": 0,
             "ticks": ""
            },
            "type": "contourcarpet"
           }
          ],
          "heatmap": [
           {
            "colorbar": {
             "outlinewidth": 0,
             "ticks": ""
            },
            "colorscale": [
             [
              0,
              "#0d0887"
             ],
             [
              0.1111111111111111,
              "#46039f"
             ],
             [
              0.2222222222222222,
              "#7201a8"
             ],
             [
              0.3333333333333333,
              "#9c179e"
             ],
             [
              0.4444444444444444,
              "#bd3786"
             ],
             [
              0.5555555555555556,
              "#d8576b"
             ],
             [
              0.6666666666666666,
              "#ed7953"
             ],
             [
              0.7777777777777778,
              "#fb9f3a"
             ],
             [
              0.8888888888888888,
              "#fdca26"
             ],
             [
              1,
              "#f0f921"
             ]
            ],
            "type": "heatmap"
           }
          ],
          "heatmapgl": [
           {
            "colorbar": {
             "outlinewidth": 0,
             "ticks": ""
            },
            "colorscale": [
             [
              0,
              "#0d0887"
             ],
             [
              0.1111111111111111,
              "#46039f"
             ],
             [
              0.2222222222222222,
              "#7201a8"
             ],
             [
              0.3333333333333333,
              "#9c179e"
             ],
             [
              0.4444444444444444,
              "#bd3786"
             ],
             [
              0.5555555555555556,
              "#d8576b"
             ],
             [
              0.6666666666666666,
              "#ed7953"
             ],
             [
              0.7777777777777778,
              "#fb9f3a"
             ],
             [
              0.8888888888888888,
              "#fdca26"
             ],
             [
              1,
              "#f0f921"
             ]
            ],
            "type": "heatmapgl"
           }
          ],
          "histogram": [
           {
            "marker": {
             "colorbar": {
              "outlinewidth": 0,
              "ticks": ""
             }
            },
            "type": "histogram"
           }
          ],
          "histogram2d": [
           {
            "colorbar": {
             "outlinewidth": 0,
             "ticks": ""
            },
            "colorscale": [
             [
              0,
              "#0d0887"
             ],
             [
              0.1111111111111111,
              "#46039f"
             ],
             [
              0.2222222222222222,
              "#7201a8"
             ],
             [
              0.3333333333333333,
              "#9c179e"
             ],
             [
              0.4444444444444444,
              "#bd3786"
             ],
             [
              0.5555555555555556,
              "#d8576b"
             ],
             [
              0.6666666666666666,
              "#ed7953"
             ],
             [
              0.7777777777777778,
              "#fb9f3a"
             ],
             [
              0.8888888888888888,
              "#fdca26"
             ],
             [
              1,
              "#f0f921"
             ]
            ],
            "type": "histogram2d"
           }
          ],
          "histogram2dcontour": [
           {
            "colorbar": {
             "outlinewidth": 0,
             "ticks": ""
            },
            "colorscale": [
             [
              0,
              "#0d0887"
             ],
             [
              0.1111111111111111,
              "#46039f"
             ],
             [
              0.2222222222222222,
              "#7201a8"
             ],
             [
              0.3333333333333333,
              "#9c179e"
             ],
             [
              0.4444444444444444,
              "#bd3786"
             ],
             [
              0.5555555555555556,
              "#d8576b"
             ],
             [
              0.6666666666666666,
              "#ed7953"
             ],
             [
              0.7777777777777778,
              "#fb9f3a"
             ],
             [
              0.8888888888888888,
              "#fdca26"
             ],
             [
              1,
              "#f0f921"
             ]
            ],
            "type": "histogram2dcontour"
           }
          ],
          "mesh3d": [
           {
            "colorbar": {
             "outlinewidth": 0,
             "ticks": ""
            },
            "type": "mesh3d"
           }
          ],
          "parcoords": [
           {
            "line": {
             "colorbar": {
              "outlinewidth": 0,
              "ticks": ""
             }
            },
            "type": "parcoords"
           }
          ],
          "scatter": [
           {
            "marker": {
             "colorbar": {
              "outlinewidth": 0,
              "ticks": ""
             }
            },
            "type": "scatter"
           }
          ],
          "scatter3d": [
           {
            "line": {
             "colorbar": {
              "outlinewidth": 0,
              "ticks": ""
             }
            },
            "marker": {
             "colorbar": {
              "outlinewidth": 0,
              "ticks": ""
             }
            },
            "type": "scatter3d"
           }
          ],
          "scattercarpet": [
           {
            "marker": {
             "colorbar": {
              "outlinewidth": 0,
              "ticks": ""
             }
            },
            "type": "scattercarpet"
           }
          ],
          "scattergeo": [
           {
            "marker": {
             "colorbar": {
              "outlinewidth": 0,
              "ticks": ""
             }
            },
            "type": "scattergeo"
           }
          ],
          "scattergl": [
           {
            "marker": {
             "colorbar": {
              "outlinewidth": 0,
              "ticks": ""
             }
            },
            "type": "scattergl"
           }
          ],
          "scattermapbox": [
           {
            "marker": {
             "colorbar": {
              "outlinewidth": 0,
              "ticks": ""
             }
            },
            "type": "scattermapbox"
           }
          ],
          "scatterpolar": [
           {
            "marker": {
             "colorbar": {
              "outlinewidth": 0,
              "ticks": ""
             }
            },
            "type": "scatterpolar"
           }
          ],
          "scatterpolargl": [
           {
            "marker": {
             "colorbar": {
              "outlinewidth": 0,
              "ticks": ""
             }
            },
            "type": "scatterpolargl"
           }
          ],
          "scatterternary": [
           {
            "marker": {
             "colorbar": {
              "outlinewidth": 0,
              "ticks": ""
             }
            },
            "type": "scatterternary"
           }
          ],
          "surface": [
           {
            "colorbar": {
             "outlinewidth": 0,
             "ticks": ""
            },
            "colorscale": [
             [
              0,
              "#0d0887"
             ],
             [
              0.1111111111111111,
              "#46039f"
             ],
             [
              0.2222222222222222,
              "#7201a8"
             ],
             [
              0.3333333333333333,
              "#9c179e"
             ],
             [
              0.4444444444444444,
              "#bd3786"
             ],
             [
              0.5555555555555556,
              "#d8576b"
             ],
             [
              0.6666666666666666,
              "#ed7953"
             ],
             [
              0.7777777777777778,
              "#fb9f3a"
             ],
             [
              0.8888888888888888,
              "#fdca26"
             ],
             [
              1,
              "#f0f921"
             ]
            ],
            "type": "surface"
           }
          ],
          "table": [
           {
            "cells": {
             "fill": {
              "color": "#EBF0F8"
             },
             "line": {
              "color": "white"
             }
            },
            "header": {
             "fill": {
              "color": "#C8D4E3"
             },
             "line": {
              "color": "white"
             }
            },
            "type": "table"
           }
          ]
         },
         "layout": {
          "annotationdefaults": {
           "arrowcolor": "#2a3f5f",
           "arrowhead": 0,
           "arrowwidth": 1
          },
          "colorscale": {
           "diverging": [
            [
             0,
             "#8e0152"
            ],
            [
             0.1,
             "#c51b7d"
            ],
            [
             0.2,
             "#de77ae"
            ],
            [
             0.3,
             "#f1b6da"
            ],
            [
             0.4,
             "#fde0ef"
            ],
            [
             0.5,
             "#f7f7f7"
            ],
            [
             0.6,
             "#e6f5d0"
            ],
            [
             0.7,
             "#b8e186"
            ],
            [
             0.8,
             "#7fbc41"
            ],
            [
             0.9,
             "#4d9221"
            ],
            [
             1,
             "#276419"
            ]
           ],
           "sequential": [
            [
             0,
             "#0d0887"
            ],
            [
             0.1111111111111111,
             "#46039f"
            ],
            [
             0.2222222222222222,
             "#7201a8"
            ],
            [
             0.3333333333333333,
             "#9c179e"
            ],
            [
             0.4444444444444444,
             "#bd3786"
            ],
            [
             0.5555555555555556,
             "#d8576b"
            ],
            [
             0.6666666666666666,
             "#ed7953"
            ],
            [
             0.7777777777777778,
             "#fb9f3a"
            ],
            [
             0.8888888888888888,
             "#fdca26"
            ],
            [
             1,
             "#f0f921"
            ]
           ],
           "sequentialminus": [
            [
             0,
             "#0d0887"
            ],
            [
             0.1111111111111111,
             "#46039f"
            ],
            [
             0.2222222222222222,
             "#7201a8"
            ],
            [
             0.3333333333333333,
             "#9c179e"
            ],
            [
             0.4444444444444444,
             "#bd3786"
            ],
            [
             0.5555555555555556,
             "#d8576b"
            ],
            [
             0.6666666666666666,
             "#ed7953"
            ],
            [
             0.7777777777777778,
             "#fb9f3a"
            ],
            [
             0.8888888888888888,
             "#fdca26"
            ],
            [
             1,
             "#f0f921"
            ]
           ]
          },
          "colorway": [
           "#636efa",
           "#EF553B",
           "#00cc96",
           "#ab63fa",
           "#FFA15A",
           "#19d3f3",
           "#FF6692",
           "#B6E880",
           "#FF97FF",
           "#FECB52"
          ],
          "font": {
           "color": "#2a3f5f"
          },
          "geo": {
           "bgcolor": "white",
           "lakecolor": "white",
           "landcolor": "#E5ECF6",
           "showlakes": true,
           "showland": true,
           "subunitcolor": "white"
          },
          "hoverlabel": {
           "align": "left"
          },
          "hovermode": "closest",
          "mapbox": {
           "style": "light"
          },
          "paper_bgcolor": "white",
          "plot_bgcolor": "#E5ECF6",
          "polar": {
           "angularaxis": {
            "gridcolor": "white",
            "linecolor": "white",
            "ticks": ""
           },
           "bgcolor": "#E5ECF6",
           "radialaxis": {
            "gridcolor": "white",
            "linecolor": "white",
            "ticks": ""
           }
          },
          "scene": {
           "xaxis": {
            "backgroundcolor": "#E5ECF6",
            "gridcolor": "white",
            "gridwidth": 2,
            "linecolor": "white",
            "showbackground": true,
            "ticks": "",
            "zerolinecolor": "white"
           },
           "yaxis": {
            "backgroundcolor": "#E5ECF6",
            "gridcolor": "white",
            "gridwidth": 2,
            "linecolor": "white",
            "showbackground": true,
            "ticks": "",
            "zerolinecolor": "white"
           },
           "zaxis": {
            "backgroundcolor": "#E5ECF6",
            "gridcolor": "white",
            "gridwidth": 2,
            "linecolor": "white",
            "showbackground": true,
            "ticks": "",
            "zerolinecolor": "white"
           }
          },
          "shapedefaults": {
           "line": {
            "color": "#2a3f5f"
           }
          },
          "ternary": {
           "aaxis": {
            "gridcolor": "white",
            "linecolor": "white",
            "ticks": ""
           },
           "baxis": {
            "gridcolor": "white",
            "linecolor": "white",
            "ticks": ""
           },
           "bgcolor": "#E5ECF6",
           "caxis": {
            "gridcolor": "white",
            "linecolor": "white",
            "ticks": ""
           }
          },
          "title": {
           "x": 0.05
          },
          "xaxis": {
           "automargin": true,
           "gridcolor": "white",
           "linecolor": "white",
           "ticks": "",
           "zerolinecolor": "white",
           "zerolinewidth": 2
          },
          "yaxis": {
           "automargin": true,
           "gridcolor": "white",
           "linecolor": "white",
           "ticks": "",
           "zerolinecolor": "white",
           "zerolinewidth": 2
          }
         }
        },
        "title": {
         "text": "Воронка событий с долей пользователей, переходящих на следующий шаг"
        },
        "yaxis": {
         "title": {
          "text": "Названия событий"
         }
        }
       }
      }
     },
     "metadata": {},
     "output_type": "display_data"
    }
   ],
   "source": [
    "fig = go.Figure(\n",
    "    go.Funnel(\n",
    "        y=user_count['EventName'],\n",
    "        x=user_count['UserCount'],\n",
    "    textposition = \"inside\",\n",
    "    textinfo = \"value+percent initial\",\n",
    "    )\n",
    ")\n",
    "fig.update_layout(title='Воронка событий с долей пользователей, переходящих на следующий шаг', yaxis_title=\"Названия событий\")\n",
    "\n",
    "fig.show() "
   ]
  },
  {
   "cell_type": "markdown",
   "metadata": {},
   "source": [
    "**Вывод:**     \n",
    "Процент потерянных корзин очень мал, всего 5.2%, 47% пользователей от общего числа, доходят до оплаты. Больше всех пользователей теряется после просмотра \"MainScreenAppear\" 38%, т.е на 'OffersScreenAppear' переходит 62%.\n",
    "\n",
    "А туториал смотрят всего 11% от общего числа пользователей."
   ]
  },
  {
   "cell_type": "markdown",
   "metadata": {},
   "source": [
    "## Последовательность событий    \n",
    "MainScreenAppear => OffersScreenAppear => CartScreenAppear => PaymentScreenSuccessful. <br>\n",
    "Tutorial не входит в воронку, так как наша основная цель, это довести пользователя до оплаты. Какой на самом деле контент находиться в данном разделе, нам не известно. Возможно там обучение по оформлению заказа или по приготовлению чего-либо. Это вторая причина, почему мы отклоняем этот этап."
   ]
  },
  {
   "cell_type": "markdown",
   "metadata": {},
   "source": [
    "## Наличие пользователей в группах"
   ]
  },
  {
   "cell_type": "code",
   "execution_count": 28,
   "metadata": {},
   "outputs": [
    {
     "data": {
      "text/html": [
       "<div>\n",
       "<style scoped>\n",
       "    .dataframe tbody tr th:only-of-type {\n",
       "        vertical-align: middle;\n",
       "    }\n",
       "\n",
       "    .dataframe tbody tr th {\n",
       "        vertical-align: top;\n",
       "    }\n",
       "\n",
       "    .dataframe thead th {\n",
       "        text-align: right;\n",
       "    }\n",
       "</style>\n",
       "<table border=\"1\" class=\"dataframe\">\n",
       "  <thead>\n",
       "    <tr style=\"text-align: right;\">\n",
       "      <th></th>\n",
       "      <th>EventName</th>\n",
       "      <th>246</th>\n",
       "      <th>247</th>\n",
       "      <th>248</th>\n",
       "    </tr>\n",
       "  </thead>\n",
       "  <tbody>\n",
       "    <tr>\n",
       "      <td>1</td>\n",
       "      <td>MainScreenAppear</td>\n",
       "      <td>2450</td>\n",
       "      <td>2476</td>\n",
       "      <td>2493</td>\n",
       "    </tr>\n",
       "    <tr>\n",
       "      <td>2</td>\n",
       "      <td>OffersScreenAppear</td>\n",
       "      <td>1542</td>\n",
       "      <td>1520</td>\n",
       "      <td>1531</td>\n",
       "    </tr>\n",
       "    <tr>\n",
       "      <td>0</td>\n",
       "      <td>CartScreenAppear</td>\n",
       "      <td>1266</td>\n",
       "      <td>1238</td>\n",
       "      <td>1230</td>\n",
       "    </tr>\n",
       "    <tr>\n",
       "      <td>3</td>\n",
       "      <td>PaymentScreenSuccessful</td>\n",
       "      <td>1200</td>\n",
       "      <td>1158</td>\n",
       "      <td>1181</td>\n",
       "    </tr>\n",
       "    <tr>\n",
       "      <td>4</td>\n",
       "      <td>Tutorial</td>\n",
       "      <td>278</td>\n",
       "      <td>283</td>\n",
       "      <td>279</td>\n",
       "    </tr>\n",
       "  </tbody>\n",
       "</table>\n",
       "</div>"
      ],
      "text/plain": [
       "                 EventName   246   247   248\n",
       "1         MainScreenAppear  2450  2476  2493\n",
       "2       OffersScreenAppear  1542  1520  1531\n",
       "0         CartScreenAppear  1266  1238  1230\n",
       "3  PaymentScreenSuccessful  1200  1158  1181\n",
       "4                 Tutorial   278   283   279"
      ]
     },
     "execution_count": 28,
     "metadata": {},
     "output_type": "execute_result"
    }
   ],
   "source": [
    "user_count_group = data_log.pivot_table(index = ['EventName'], values = 'DeviceIDHash', columns = 'ExpId', aggfunc = {'nunique'}).reset_index()\n",
    "user_count_group.columns = 'EventName', '246', '247' , '248'\n",
    "user_count_group.sort_values(by=['246'], ascending = False, inplace = True)\n",
    "user_count_group"
   ]
  },
  {
   "cell_type": "markdown",
   "metadata": {},
   "source": [
    "## Воронока по группам"
   ]
  },
  {
   "cell_type": "code",
   "execution_count": 29,
   "metadata": {
    "code_folding": []
   },
   "outputs": [
    {
     "data": {
      "application/vnd.plotly.v1+json": {
       "config": {
        "plotlyServerURL": "https://plot.ly"
       },
       "data": [
        {
         "name": "Группа 246",
         "textinfo": "value+percent initial",
         "type": "funnel",
         "x": [
          2450,
          1542,
          1266,
          1200,
          278
         ],
         "y": [
          "MainScreenAppear",
          "OffersScreenAppear",
          "CartScreenAppear",
          "PaymentScreenSuccessful",
          "Tutorial"
         ]
        },
        {
         "name": "Группа 247",
         "textinfo": "value+percent initial",
         "type": "funnel",
         "x": [
          2476,
          1520,
          1238,
          1158,
          283
         ],
         "y": [
          "MainScreenAppear",
          "OffersScreenAppear",
          "CartScreenAppear",
          "PaymentScreenSuccessful",
          "Tutorial"
         ]
        },
        {
         "name": "Группа 248",
         "textinfo": "value+percent initial",
         "type": "funnel",
         "x": [
          2493,
          1531,
          1230,
          1181,
          279
         ],
         "y": [
          "MainScreenAppear",
          "OffersScreenAppear",
          "CartScreenAppear",
          "PaymentScreenSuccessful",
          "Tutorial"
         ]
        }
       ],
       "layout": {
        "template": {
         "data": {
          "bar": [
           {
            "error_x": {
             "color": "#2a3f5f"
            },
            "error_y": {
             "color": "#2a3f5f"
            },
            "marker": {
             "line": {
              "color": "#E5ECF6",
              "width": 0.5
             }
            },
            "type": "bar"
           }
          ],
          "barpolar": [
           {
            "marker": {
             "line": {
              "color": "#E5ECF6",
              "width": 0.5
             }
            },
            "type": "barpolar"
           }
          ],
          "carpet": [
           {
            "aaxis": {
             "endlinecolor": "#2a3f5f",
             "gridcolor": "white",
             "linecolor": "white",
             "minorgridcolor": "white",
             "startlinecolor": "#2a3f5f"
            },
            "baxis": {
             "endlinecolor": "#2a3f5f",
             "gridcolor": "white",
             "linecolor": "white",
             "minorgridcolor": "white",
             "startlinecolor": "#2a3f5f"
            },
            "type": "carpet"
           }
          ],
          "choropleth": [
           {
            "colorbar": {
             "outlinewidth": 0,
             "ticks": ""
            },
            "type": "choropleth"
           }
          ],
          "contour": [
           {
            "colorbar": {
             "outlinewidth": 0,
             "ticks": ""
            },
            "colorscale": [
             [
              0,
              "#0d0887"
             ],
             [
              0.1111111111111111,
              "#46039f"
             ],
             [
              0.2222222222222222,
              "#7201a8"
             ],
             [
              0.3333333333333333,
              "#9c179e"
             ],
             [
              0.4444444444444444,
              "#bd3786"
             ],
             [
              0.5555555555555556,
              "#d8576b"
             ],
             [
              0.6666666666666666,
              "#ed7953"
             ],
             [
              0.7777777777777778,
              "#fb9f3a"
             ],
             [
              0.8888888888888888,
              "#fdca26"
             ],
             [
              1,
              "#f0f921"
             ]
            ],
            "type": "contour"
           }
          ],
          "contourcarpet": [
           {
            "colorbar": {
             "outlinewidth": 0,
             "ticks": ""
            },
            "type": "contourcarpet"
           }
          ],
          "heatmap": [
           {
            "colorbar": {
             "outlinewidth": 0,
             "ticks": ""
            },
            "colorscale": [
             [
              0,
              "#0d0887"
             ],
             [
              0.1111111111111111,
              "#46039f"
             ],
             [
              0.2222222222222222,
              "#7201a8"
             ],
             [
              0.3333333333333333,
              "#9c179e"
             ],
             [
              0.4444444444444444,
              "#bd3786"
             ],
             [
              0.5555555555555556,
              "#d8576b"
             ],
             [
              0.6666666666666666,
              "#ed7953"
             ],
             [
              0.7777777777777778,
              "#fb9f3a"
             ],
             [
              0.8888888888888888,
              "#fdca26"
             ],
             [
              1,
              "#f0f921"
             ]
            ],
            "type": "heatmap"
           }
          ],
          "heatmapgl": [
           {
            "colorbar": {
             "outlinewidth": 0,
             "ticks": ""
            },
            "colorscale": [
             [
              0,
              "#0d0887"
             ],
             [
              0.1111111111111111,
              "#46039f"
             ],
             [
              0.2222222222222222,
              "#7201a8"
             ],
             [
              0.3333333333333333,
              "#9c179e"
             ],
             [
              0.4444444444444444,
              "#bd3786"
             ],
             [
              0.5555555555555556,
              "#d8576b"
             ],
             [
              0.6666666666666666,
              "#ed7953"
             ],
             [
              0.7777777777777778,
              "#fb9f3a"
             ],
             [
              0.8888888888888888,
              "#fdca26"
             ],
             [
              1,
              "#f0f921"
             ]
            ],
            "type": "heatmapgl"
           }
          ],
          "histogram": [
           {
            "marker": {
             "colorbar": {
              "outlinewidth": 0,
              "ticks": ""
             }
            },
            "type": "histogram"
           }
          ],
          "histogram2d": [
           {
            "colorbar": {
             "outlinewidth": 0,
             "ticks": ""
            },
            "colorscale": [
             [
              0,
              "#0d0887"
             ],
             [
              0.1111111111111111,
              "#46039f"
             ],
             [
              0.2222222222222222,
              "#7201a8"
             ],
             [
              0.3333333333333333,
              "#9c179e"
             ],
             [
              0.4444444444444444,
              "#bd3786"
             ],
             [
              0.5555555555555556,
              "#d8576b"
             ],
             [
              0.6666666666666666,
              "#ed7953"
             ],
             [
              0.7777777777777778,
              "#fb9f3a"
             ],
             [
              0.8888888888888888,
              "#fdca26"
             ],
             [
              1,
              "#f0f921"
             ]
            ],
            "type": "histogram2d"
           }
          ],
          "histogram2dcontour": [
           {
            "colorbar": {
             "outlinewidth": 0,
             "ticks": ""
            },
            "colorscale": [
             [
              0,
              "#0d0887"
             ],
             [
              0.1111111111111111,
              "#46039f"
             ],
             [
              0.2222222222222222,
              "#7201a8"
             ],
             [
              0.3333333333333333,
              "#9c179e"
             ],
             [
              0.4444444444444444,
              "#bd3786"
             ],
             [
              0.5555555555555556,
              "#d8576b"
             ],
             [
              0.6666666666666666,
              "#ed7953"
             ],
             [
              0.7777777777777778,
              "#fb9f3a"
             ],
             [
              0.8888888888888888,
              "#fdca26"
             ],
             [
              1,
              "#f0f921"
             ]
            ],
            "type": "histogram2dcontour"
           }
          ],
          "mesh3d": [
           {
            "colorbar": {
             "outlinewidth": 0,
             "ticks": ""
            },
            "type": "mesh3d"
           }
          ],
          "parcoords": [
           {
            "line": {
             "colorbar": {
              "outlinewidth": 0,
              "ticks": ""
             }
            },
            "type": "parcoords"
           }
          ],
          "scatter": [
           {
            "marker": {
             "colorbar": {
              "outlinewidth": 0,
              "ticks": ""
             }
            },
            "type": "scatter"
           }
          ],
          "scatter3d": [
           {
            "line": {
             "colorbar": {
              "outlinewidth": 0,
              "ticks": ""
             }
            },
            "marker": {
             "colorbar": {
              "outlinewidth": 0,
              "ticks": ""
             }
            },
            "type": "scatter3d"
           }
          ],
          "scattercarpet": [
           {
            "marker": {
             "colorbar": {
              "outlinewidth": 0,
              "ticks": ""
             }
            },
            "type": "scattercarpet"
           }
          ],
          "scattergeo": [
           {
            "marker": {
             "colorbar": {
              "outlinewidth": 0,
              "ticks": ""
             }
            },
            "type": "scattergeo"
           }
          ],
          "scattergl": [
           {
            "marker": {
             "colorbar": {
              "outlinewidth": 0,
              "ticks": ""
             }
            },
            "type": "scattergl"
           }
          ],
          "scattermapbox": [
           {
            "marker": {
             "colorbar": {
              "outlinewidth": 0,
              "ticks": ""
             }
            },
            "type": "scattermapbox"
           }
          ],
          "scatterpolar": [
           {
            "marker": {
             "colorbar": {
              "outlinewidth": 0,
              "ticks": ""
             }
            },
            "type": "scatterpolar"
           }
          ],
          "scatterpolargl": [
           {
            "marker": {
             "colorbar": {
              "outlinewidth": 0,
              "ticks": ""
             }
            },
            "type": "scatterpolargl"
           }
          ],
          "scatterternary": [
           {
            "marker": {
             "colorbar": {
              "outlinewidth": 0,
              "ticks": ""
             }
            },
            "type": "scatterternary"
           }
          ],
          "surface": [
           {
            "colorbar": {
             "outlinewidth": 0,
             "ticks": ""
            },
            "colorscale": [
             [
              0,
              "#0d0887"
             ],
             [
              0.1111111111111111,
              "#46039f"
             ],
             [
              0.2222222222222222,
              "#7201a8"
             ],
             [
              0.3333333333333333,
              "#9c179e"
             ],
             [
              0.4444444444444444,
              "#bd3786"
             ],
             [
              0.5555555555555556,
              "#d8576b"
             ],
             [
              0.6666666666666666,
              "#ed7953"
             ],
             [
              0.7777777777777778,
              "#fb9f3a"
             ],
             [
              0.8888888888888888,
              "#fdca26"
             ],
             [
              1,
              "#f0f921"
             ]
            ],
            "type": "surface"
           }
          ],
          "table": [
           {
            "cells": {
             "fill": {
              "color": "#EBF0F8"
             },
             "line": {
              "color": "white"
             }
            },
            "header": {
             "fill": {
              "color": "#C8D4E3"
             },
             "line": {
              "color": "white"
             }
            },
            "type": "table"
           }
          ]
         },
         "layout": {
          "annotationdefaults": {
           "arrowcolor": "#2a3f5f",
           "arrowhead": 0,
           "arrowwidth": 1
          },
          "colorscale": {
           "diverging": [
            [
             0,
             "#8e0152"
            ],
            [
             0.1,
             "#c51b7d"
            ],
            [
             0.2,
             "#de77ae"
            ],
            [
             0.3,
             "#f1b6da"
            ],
            [
             0.4,
             "#fde0ef"
            ],
            [
             0.5,
             "#f7f7f7"
            ],
            [
             0.6,
             "#e6f5d0"
            ],
            [
             0.7,
             "#b8e186"
            ],
            [
             0.8,
             "#7fbc41"
            ],
            [
             0.9,
             "#4d9221"
            ],
            [
             1,
             "#276419"
            ]
           ],
           "sequential": [
            [
             0,
             "#0d0887"
            ],
            [
             0.1111111111111111,
             "#46039f"
            ],
            [
             0.2222222222222222,
             "#7201a8"
            ],
            [
             0.3333333333333333,
             "#9c179e"
            ],
            [
             0.4444444444444444,
             "#bd3786"
            ],
            [
             0.5555555555555556,
             "#d8576b"
            ],
            [
             0.6666666666666666,
             "#ed7953"
            ],
            [
             0.7777777777777778,
             "#fb9f3a"
            ],
            [
             0.8888888888888888,
             "#fdca26"
            ],
            [
             1,
             "#f0f921"
            ]
           ],
           "sequentialminus": [
            [
             0,
             "#0d0887"
            ],
            [
             0.1111111111111111,
             "#46039f"
            ],
            [
             0.2222222222222222,
             "#7201a8"
            ],
            [
             0.3333333333333333,
             "#9c179e"
            ],
            [
             0.4444444444444444,
             "#bd3786"
            ],
            [
             0.5555555555555556,
             "#d8576b"
            ],
            [
             0.6666666666666666,
             "#ed7953"
            ],
            [
             0.7777777777777778,
             "#fb9f3a"
            ],
            [
             0.8888888888888888,
             "#fdca26"
            ],
            [
             1,
             "#f0f921"
            ]
           ]
          },
          "colorway": [
           "#636efa",
           "#EF553B",
           "#00cc96",
           "#ab63fa",
           "#FFA15A",
           "#19d3f3",
           "#FF6692",
           "#B6E880",
           "#FF97FF",
           "#FECB52"
          ],
          "font": {
           "color": "#2a3f5f"
          },
          "geo": {
           "bgcolor": "white",
           "lakecolor": "white",
           "landcolor": "#E5ECF6",
           "showlakes": true,
           "showland": true,
           "subunitcolor": "white"
          },
          "hoverlabel": {
           "align": "left"
          },
          "hovermode": "closest",
          "mapbox": {
           "style": "light"
          },
          "paper_bgcolor": "white",
          "plot_bgcolor": "#E5ECF6",
          "polar": {
           "angularaxis": {
            "gridcolor": "white",
            "linecolor": "white",
            "ticks": ""
           },
           "bgcolor": "#E5ECF6",
           "radialaxis": {
            "gridcolor": "white",
            "linecolor": "white",
            "ticks": ""
           }
          },
          "scene": {
           "xaxis": {
            "backgroundcolor": "#E5ECF6",
            "gridcolor": "white",
            "gridwidth": 2,
            "linecolor": "white",
            "showbackground": true,
            "ticks": "",
            "zerolinecolor": "white"
           },
           "yaxis": {
            "backgroundcolor": "#E5ECF6",
            "gridcolor": "white",
            "gridwidth": 2,
            "linecolor": "white",
            "showbackground": true,
            "ticks": "",
            "zerolinecolor": "white"
           },
           "zaxis": {
            "backgroundcolor": "#E5ECF6",
            "gridcolor": "white",
            "gridwidth": 2,
            "linecolor": "white",
            "showbackground": true,
            "ticks": "",
            "zerolinecolor": "white"
           }
          },
          "shapedefaults": {
           "line": {
            "color": "#2a3f5f"
           }
          },
          "ternary": {
           "aaxis": {
            "gridcolor": "white",
            "linecolor": "white",
            "ticks": ""
           },
           "baxis": {
            "gridcolor": "white",
            "linecolor": "white",
            "ticks": ""
           },
           "bgcolor": "#E5ECF6",
           "caxis": {
            "gridcolor": "white",
            "linecolor": "white",
            "ticks": ""
           }
          },
          "title": {
           "x": 0.05
          },
          "xaxis": {
           "automargin": true,
           "gridcolor": "white",
           "linecolor": "white",
           "ticks": "",
           "zerolinecolor": "white",
           "zerolinewidth": 2
          },
          "yaxis": {
           "automargin": true,
           "gridcolor": "white",
           "linecolor": "white",
           "ticks": "",
           "zerolinecolor": "white",
           "zerolinewidth": 2
          }
         }
        },
        "title": {
         "text": "Воронка событий с долей пользователей, переходящих на следующий шаг"
        },
        "yaxis": {
         "title": {
          "text": "Названия событий"
         }
        }
       }
      }
     },
     "metadata": {},
     "output_type": "display_data"
    }
   ],
   "source": [
    "fig = go.Figure()\n",
    "\n",
    "fig.add_trace(go.Funnel(\n",
    "    name = 'Группа 246',\n",
    "    y = user_count_group['EventName'],\n",
    "    x = user_count_group['246'],\n",
    "    textinfo = \"value+percent initial\"))\n",
    "\n",
    "fig.add_trace(go.Funnel(\n",
    "    name = 'Группа 247',\n",
    "    y = user_count_group['EventName'],\n",
    "    x = user_count_group['247'],\n",
    "    textinfo = \"value+percent initial\"))\n",
    "\n",
    "fig.add_trace(go.Funnel(\n",
    "    name = 'Группа 248',\n",
    "    y = user_count_group['EventName'],\n",
    "    x = user_count_group['248'],\n",
    "    textinfo = \"value+percent initial\"))\n",
    "\n",
    "fig.update_layout(title='Воронка событий с долей пользователей, переходящих на следующий шаг', yaxis_title=\"Названия событий\")\n",
    "\n",
    "fig.show()"
   ]
  },
  {
   "cell_type": "markdown",
   "metadata": {},
   "source": [
    "**Вывод:**    \n",
    "Группа 246 на данный момент выглядит немного лучше, например в оплату переходит на 2% больше, чем в других группах.\n",
    "Также во всех группах наблюдается одинаковая тенденция, а именно большинство пользователей \"отваливается\" на этапе 'MainScreenAppear', т.е примерно всего 62% пользователей переходит на этап 'OffersScreenAppear' и всего 2% не переходит с этапа 'CartScreenAppear' на 'PaymentScreenSuccessful'. \n",
    "\n",
    "Глобально от первого события до успешной оплаты доходит примерно 48%."
   ]
  },
  {
   "cell_type": "markdown",
   "metadata": {},
   "source": [
    "# Результаты эксперимента"
   ]
  },
  {
   "cell_type": "markdown",
   "metadata": {},
   "source": [
    "## Количесво пользователей в группах"
   ]
  },
  {
   "cell_type": "code",
   "execution_count": 30,
   "metadata": {},
   "outputs": [
    {
     "data": {
      "text/html": [
       "<div>\n",
       "<style scoped>\n",
       "    .dataframe tbody tr th:only-of-type {\n",
       "        vertical-align: middle;\n",
       "    }\n",
       "\n",
       "    .dataframe tbody tr th {\n",
       "        vertical-align: top;\n",
       "    }\n",
       "\n",
       "    .dataframe thead th {\n",
       "        text-align: right;\n",
       "    }\n",
       "</style>\n",
       "<table border=\"1\" class=\"dataframe\">\n",
       "  <thead>\n",
       "    <tr style=\"text-align: right;\">\n",
       "      <th></th>\n",
       "      <th>DeviceIDHash</th>\n",
       "      <th>nunique</th>\n",
       "    </tr>\n",
       "  </thead>\n",
       "  <tbody>\n",
       "    <tr>\n",
       "      <td>0</td>\n",
       "      <td>6888746892508752</td>\n",
       "      <td>1</td>\n",
       "    </tr>\n",
       "    <tr>\n",
       "      <td>1</td>\n",
       "      <td>6909561520679493</td>\n",
       "      <td>1</td>\n",
       "    </tr>\n",
       "    <tr>\n",
       "      <td>2</td>\n",
       "      <td>6922444491712477</td>\n",
       "      <td>1</td>\n",
       "    </tr>\n",
       "    <tr>\n",
       "      <td>3</td>\n",
       "      <td>7435777799948366</td>\n",
       "      <td>1</td>\n",
       "    </tr>\n",
       "    <tr>\n",
       "      <td>4</td>\n",
       "      <td>7702139951469979</td>\n",
       "      <td>1</td>\n",
       "    </tr>\n",
       "    <tr>\n",
       "      <td>...</td>\n",
       "      <td>...</td>\n",
       "      <td>...</td>\n",
       "    </tr>\n",
       "    <tr>\n",
       "      <td>7529</td>\n",
       "      <td>9217594193087726423</td>\n",
       "      <td>1</td>\n",
       "    </tr>\n",
       "    <tr>\n",
       "      <td>7530</td>\n",
       "      <td>9219463515465815368</td>\n",
       "      <td>1</td>\n",
       "    </tr>\n",
       "    <tr>\n",
       "      <td>7531</td>\n",
       "      <td>9220879493065341500</td>\n",
       "      <td>1</td>\n",
       "    </tr>\n",
       "    <tr>\n",
       "      <td>7532</td>\n",
       "      <td>9221926045299980007</td>\n",
       "      <td>1</td>\n",
       "    </tr>\n",
       "    <tr>\n",
       "      <td>7533</td>\n",
       "      <td>9222603179720523844</td>\n",
       "      <td>1</td>\n",
       "    </tr>\n",
       "  </tbody>\n",
       "</table>\n",
       "<p>7534 rows × 2 columns</p>\n",
       "</div>"
      ],
      "text/plain": [
       "             DeviceIDHash  nunique\n",
       "0        6888746892508752        1\n",
       "1        6909561520679493        1\n",
       "2        6922444491712477        1\n",
       "3        7435777799948366        1\n",
       "4        7702139951469979        1\n",
       "...                   ...      ...\n",
       "7529  9217594193087726423        1\n",
       "7530  9219463515465815368        1\n",
       "7531  9220879493065341500        1\n",
       "7532  9221926045299980007        1\n",
       "7533  9222603179720523844        1\n",
       "\n",
       "[7534 rows x 2 columns]"
      ]
     },
     "execution_count": 30,
     "metadata": {},
     "output_type": "execute_result"
    }
   ],
   "source": [
    "data_count_user = data_log.pivot_table(index = 'DeviceIDHash', values = 'ExpId', aggfunc={'nunique'}).reset_index()\n",
    "data_count_user"
   ]
  },
  {
   "cell_type": "code",
   "execution_count": 31,
   "metadata": {},
   "outputs": [
    {
     "data": {
      "text/html": [
       "<div>\n",
       "<style scoped>\n",
       "    .dataframe tbody tr th:only-of-type {\n",
       "        vertical-align: middle;\n",
       "    }\n",
       "\n",
       "    .dataframe tbody tr th {\n",
       "        vertical-align: top;\n",
       "    }\n",
       "\n",
       "    .dataframe thead th {\n",
       "        text-align: right;\n",
       "    }\n",
       "</style>\n",
       "<table border=\"1\" class=\"dataframe\">\n",
       "  <thead>\n",
       "    <tr style=\"text-align: right;\">\n",
       "      <th></th>\n",
       "      <th>GroupId</th>\n",
       "      <th>UserCount</th>\n",
       "    </tr>\n",
       "  </thead>\n",
       "  <tbody>\n",
       "    <tr>\n",
       "      <td>0</td>\n",
       "      <td>246</td>\n",
       "      <td>2484</td>\n",
       "    </tr>\n",
       "    <tr>\n",
       "      <td>1</td>\n",
       "      <td>247</td>\n",
       "      <td>2513</td>\n",
       "    </tr>\n",
       "    <tr>\n",
       "      <td>2</td>\n",
       "      <td>248</td>\n",
       "      <td>2537</td>\n",
       "    </tr>\n",
       "  </tbody>\n",
       "</table>\n",
       "</div>"
      ],
      "text/plain": [
       "   GroupId  UserCount\n",
       "0      246       2484\n",
       "1      247       2513\n",
       "2      248       2537"
      ]
     },
     "execution_count": 31,
     "metadata": {},
     "output_type": "execute_result"
    }
   ],
   "source": [
    "data_count_user = data_log.groupby('ExpId')['DeviceIDHash'].nunique().reset_index()\n",
    "data_count_user.columns = 'GroupId', 'UserCount'\n",
    "data_count_user"
   ]
  },
  {
   "cell_type": "markdown",
   "metadata": {},
   "source": [
    "246 = 2484 пользователей;    \n",
    "247 = 2513 пользователей;    \n",
    "248 = 2537 пользователей.    \n",
    "Группы различаются, но не значительно."
   ]
  },
  {
   "cell_type": "markdown",
   "metadata": {},
   "source": [
    "## Функция проверки гипотезы методом Фишера (z-test)."
   ]
  },
  {
   "cell_type": "code",
   "execution_count": 32,
   "metadata": {},
   "outputs": [],
   "source": [
    "def z_test(data_1, data_2, group_1, group_2):\n",
    "    alpha =.05\n",
    "\n",
    "    # пропорция успеха в первой группе\n",
    "    p1 = data_1/group_1\n",
    "    # пропорция успеха во второй группе\n",
    "    p2 = data_2/group_2\n",
    "\n",
    "    # пропорция успехов в комбинированном датасете:\n",
    "    p_combined = (data_1 + data_2) / (group_1 + group_1)\n",
    "\n",
    "    # разница пропорций в датасетах\n",
    "    difference = p1 - p2\n",
    "\n",
    "    # статистика в ст.отклонениях стандартного нормального распределение\n",
    "    z_value = difference / mth.sqrt(p_combined *(1 - p_combined) * (1/group_1 + 1/group_2))\n",
    "\n",
    "    # укажем стандартное нормальное распределение (среднее 0, ст. отклонение 1)\n",
    "    distr = st.norm(0, 1)\n",
    "\n",
    "    p_value = (1 - distr.cdf(z_value)) * 2\n",
    "\n",
    "    print('p-значение: ', p_value)\n",
    "\n",
    "    if (p_value < alpha):\n",
    "        print(\"Отвергаем нулевую гипотезу:\\nразница в долях пользователей экспериментальных групп статистически не значима.\")\n",
    "    else:\n",
    "        print(\"Не получилось отвергнуть нулевую гипотезу,\\nразница в долях пользователей экспериментальных групп статистически не значима.\")"
   ]
  },
  {
   "cell_type": "markdown",
   "metadata": {},
   "source": [
    "## А/А-тест по группам 246 и 247    \n",
    "Выполним сравнение события MainScreenAppear между группами, в которых: \n",
    "    \n",
    "H<sub>0</sub> - разница в долях пользователей экспериментальных групп статистически не значима.\n",
    "\n",
    "H<sub>1</sub> - разница в долях пользователей экспериментальных групп статистически значима.   \n",
    "\n",
    "α  = 0.05"
   ]
  },
  {
   "cell_type": "code",
   "execution_count": 33,
   "metadata": {},
   "outputs": [
    {
     "name": "stdout",
     "output_type": "stream",
     "text": [
      "p-значение:  0.6892523366167316\n",
      "Не получилось отвергнуть нулевую гипотезу,\n",
      "разница в долях пользователей экспериментальных групп статистически не значима.\n"
     ]
    }
   ],
   "source": [
    "z_test(user_count_group.iloc[0]['246'],\n",
    "                 user_count_group.iloc[0]['247'],\n",
    "                 data_count_user.iloc[0]['UserCount'],\n",
    "                 data_count_user.iloc[1]['UserCount'],\n",
    "                )"
   ]
  },
  {
   "cell_type": "code",
   "execution_count": 34,
   "metadata": {},
   "outputs": [
    {
     "data": {
      "text/html": [
       "<div>\n",
       "<style scoped>\n",
       "    .dataframe tbody tr th:only-of-type {\n",
       "        vertical-align: middle;\n",
       "    }\n",
       "\n",
       "    .dataframe tbody tr th {\n",
       "        vertical-align: top;\n",
       "    }\n",
       "\n",
       "    .dataframe thead th {\n",
       "        text-align: right;\n",
       "    }\n",
       "</style>\n",
       "<table border=\"1\" class=\"dataframe\">\n",
       "  <thead>\n",
       "    <tr style=\"text-align: right;\">\n",
       "      <th></th>\n",
       "      <th>EventName</th>\n",
       "      <th>246</th>\n",
       "      <th>247</th>\n",
       "      <th>248</th>\n",
       "    </tr>\n",
       "  </thead>\n",
       "  <tbody>\n",
       "    <tr>\n",
       "      <td>1</td>\n",
       "      <td>MainScreenAppear</td>\n",
       "      <td>2450</td>\n",
       "      <td>2476</td>\n",
       "      <td>2493</td>\n",
       "    </tr>\n",
       "    <tr>\n",
       "      <td>2</td>\n",
       "      <td>OffersScreenAppear</td>\n",
       "      <td>1542</td>\n",
       "      <td>1520</td>\n",
       "      <td>1531</td>\n",
       "    </tr>\n",
       "    <tr>\n",
       "      <td>0</td>\n",
       "      <td>CartScreenAppear</td>\n",
       "      <td>1266</td>\n",
       "      <td>1238</td>\n",
       "      <td>1230</td>\n",
       "    </tr>\n",
       "    <tr>\n",
       "      <td>3</td>\n",
       "      <td>PaymentScreenSuccessful</td>\n",
       "      <td>1200</td>\n",
       "      <td>1158</td>\n",
       "      <td>1181</td>\n",
       "    </tr>\n",
       "    <tr>\n",
       "      <td>4</td>\n",
       "      <td>Tutorial</td>\n",
       "      <td>278</td>\n",
       "      <td>283</td>\n",
       "      <td>279</td>\n",
       "    </tr>\n",
       "  </tbody>\n",
       "</table>\n",
       "</div>"
      ],
      "text/plain": [
       "                 EventName   246   247   248\n",
       "1         MainScreenAppear  2450  2476  2493\n",
       "2       OffersScreenAppear  1542  1520  1531\n",
       "0         CartScreenAppear  1266  1238  1230\n",
       "3  PaymentScreenSuccessful  1200  1158  1181\n",
       "4                 Tutorial   278   283   279"
      ]
     },
     "execution_count": 34,
     "metadata": {},
     "output_type": "execute_result"
    }
   ],
   "source": [
    "user_count_group"
   ]
  },
  {
   "cell_type": "markdown",
   "metadata": {},
   "source": [
    "## Популярное событие"
   ]
  },
  {
   "cell_type": "code",
   "execution_count": 35,
   "metadata": {},
   "outputs": [
    {
     "data": {
      "text/html": [
       "<div>\n",
       "<style scoped>\n",
       "    .dataframe tbody tr th:only-of-type {\n",
       "        vertical-align: middle;\n",
       "    }\n",
       "\n",
       "    .dataframe tbody tr th {\n",
       "        vertical-align: top;\n",
       "    }\n",
       "\n",
       "    .dataframe thead th {\n",
       "        text-align: right;\n",
       "    }\n",
       "</style>\n",
       "<table border=\"1\" class=\"dataframe\">\n",
       "  <thead>\n",
       "    <tr style=\"text-align: right;\">\n",
       "      <th></th>\n",
       "      <th>EventName</th>\n",
       "      <th>246</th>\n",
       "      <th>247</th>\n",
       "      <th>248</th>\n",
       "    </tr>\n",
       "  </thead>\n",
       "  <tbody>\n",
       "    <tr>\n",
       "      <td>1</td>\n",
       "      <td>MainScreenAppear</td>\n",
       "      <td>2450</td>\n",
       "      <td>2476</td>\n",
       "      <td>2493</td>\n",
       "    </tr>\n",
       "    <tr>\n",
       "      <td>2</td>\n",
       "      <td>OffersScreenAppear</td>\n",
       "      <td>1542</td>\n",
       "      <td>1520</td>\n",
       "      <td>1531</td>\n",
       "    </tr>\n",
       "    <tr>\n",
       "      <td>0</td>\n",
       "      <td>CartScreenAppear</td>\n",
       "      <td>1266</td>\n",
       "      <td>1238</td>\n",
       "      <td>1230</td>\n",
       "    </tr>\n",
       "    <tr>\n",
       "      <td>3</td>\n",
       "      <td>PaymentScreenSuccessful</td>\n",
       "      <td>1200</td>\n",
       "      <td>1158</td>\n",
       "      <td>1181</td>\n",
       "    </tr>\n",
       "    <tr>\n",
       "      <td>4</td>\n",
       "      <td>Tutorial</td>\n",
       "      <td>278</td>\n",
       "      <td>283</td>\n",
       "      <td>279</td>\n",
       "    </tr>\n",
       "  </tbody>\n",
       "</table>\n",
       "</div>"
      ],
      "text/plain": [
       "                 EventName   246   247   248\n",
       "1         MainScreenAppear  2450  2476  2493\n",
       "2       OffersScreenAppear  1542  1520  1531\n",
       "0         CartScreenAppear  1266  1238  1230\n",
       "3  PaymentScreenSuccessful  1200  1158  1181\n",
       "4                 Tutorial   278   283   279"
      ]
     },
     "execution_count": 35,
     "metadata": {},
     "output_type": "execute_result"
    }
   ],
   "source": [
    "user_count_group"
   ]
  },
  {
   "cell_type": "markdown",
   "metadata": {},
   "source": [
    "Популярное событие 'MainScreenAppear'. Данное событие выполнено:     \n",
    "гр.246 - 2450       \n",
    "гр.247 - 2476         \n",
    "гр 248 - 2493"
   ]
  },
  {
   "cell_type": "markdown",
   "metadata": {},
   "source": [
    "## Количество пользователей в группе"
   ]
  },
  {
   "cell_type": "code",
   "execution_count": 36,
   "metadata": {
    "scrolled": false
   },
   "outputs": [
    {
     "data": {
      "text/html": [
       "<div>\n",
       "<style scoped>\n",
       "    .dataframe tbody tr th:only-of-type {\n",
       "        vertical-align: middle;\n",
       "    }\n",
       "\n",
       "    .dataframe tbody tr th {\n",
       "        vertical-align: top;\n",
       "    }\n",
       "\n",
       "    .dataframe thead th {\n",
       "        text-align: right;\n",
       "    }\n",
       "</style>\n",
       "<table border=\"1\" class=\"dataframe\">\n",
       "  <thead>\n",
       "    <tr style=\"text-align: right;\">\n",
       "      <th></th>\n",
       "      <th>GroupId</th>\n",
       "      <th>UserCount</th>\n",
       "    </tr>\n",
       "  </thead>\n",
       "  <tbody>\n",
       "    <tr>\n",
       "      <td>0</td>\n",
       "      <td>246</td>\n",
       "      <td>2484</td>\n",
       "    </tr>\n",
       "    <tr>\n",
       "      <td>1</td>\n",
       "      <td>247</td>\n",
       "      <td>2513</td>\n",
       "    </tr>\n",
       "    <tr>\n",
       "      <td>2</td>\n",
       "      <td>248</td>\n",
       "      <td>2537</td>\n",
       "    </tr>\n",
       "  </tbody>\n",
       "</table>\n",
       "</div>"
      ],
      "text/plain": [
       "   GroupId  UserCount\n",
       "0      246       2484\n",
       "1      247       2513\n",
       "2      248       2537"
      ]
     },
     "execution_count": 36,
     "metadata": {},
     "output_type": "execute_result"
    }
   ],
   "source": [
    "data_count_user"
   ]
  },
  {
   "cell_type": "markdown",
   "metadata": {},
   "source": [
    "## Расчёт долей пользователей в группе"
   ]
  },
  {
   "cell_type": "code",
   "execution_count": 37,
   "metadata": {
    "scrolled": true
   },
   "outputs": [
    {
     "data": {
      "text/html": [
       "<div>\n",
       "<style scoped>\n",
       "    .dataframe tbody tr th:only-of-type {\n",
       "        vertical-align: middle;\n",
       "    }\n",
       "\n",
       "    .dataframe tbody tr th {\n",
       "        vertical-align: top;\n",
       "    }\n",
       "\n",
       "    .dataframe thead th {\n",
       "        text-align: right;\n",
       "    }\n",
       "</style>\n",
       "<table border=\"1\" class=\"dataframe\">\n",
       "  <thead>\n",
       "    <tr style=\"text-align: right;\">\n",
       "      <th></th>\n",
       "      <th>EventName</th>\n",
       "      <th>246</th>\n",
       "      <th>247</th>\n",
       "      <th>248</th>\n",
       "      <th>rate 246, %</th>\n",
       "      <th>rate 247, %</th>\n",
       "      <th>rate 248, %</th>\n",
       "    </tr>\n",
       "  </thead>\n",
       "  <tbody>\n",
       "    <tr>\n",
       "      <td>1</td>\n",
       "      <td>MainScreenAppear</td>\n",
       "      <td>2450</td>\n",
       "      <td>2476</td>\n",
       "      <td>2493</td>\n",
       "      <td>0.99</td>\n",
       "      <td>0.99</td>\n",
       "      <td>0.98</td>\n",
       "    </tr>\n",
       "    <tr>\n",
       "      <td>2</td>\n",
       "      <td>OffersScreenAppear</td>\n",
       "      <td>1542</td>\n",
       "      <td>1520</td>\n",
       "      <td>1531</td>\n",
       "      <td>0.62</td>\n",
       "      <td>0.60</td>\n",
       "      <td>0.60</td>\n",
       "    </tr>\n",
       "    <tr>\n",
       "      <td>0</td>\n",
       "      <td>CartScreenAppear</td>\n",
       "      <td>1266</td>\n",
       "      <td>1238</td>\n",
       "      <td>1230</td>\n",
       "      <td>0.51</td>\n",
       "      <td>0.49</td>\n",
       "      <td>0.48</td>\n",
       "    </tr>\n",
       "    <tr>\n",
       "      <td>3</td>\n",
       "      <td>PaymentScreenSuccessful</td>\n",
       "      <td>1200</td>\n",
       "      <td>1158</td>\n",
       "      <td>1181</td>\n",
       "      <td>0.48</td>\n",
       "      <td>0.46</td>\n",
       "      <td>0.47</td>\n",
       "    </tr>\n",
       "    <tr>\n",
       "      <td>4</td>\n",
       "      <td>Tutorial</td>\n",
       "      <td>278</td>\n",
       "      <td>283</td>\n",
       "      <td>279</td>\n",
       "      <td>0.11</td>\n",
       "      <td>0.11</td>\n",
       "      <td>0.11</td>\n",
       "    </tr>\n",
       "  </tbody>\n",
       "</table>\n",
       "</div>"
      ],
      "text/plain": [
       "                 EventName   246   247   248  rate 246, %  rate 247, %  \\\n",
       "1         MainScreenAppear  2450  2476  2493         0.99         0.99   \n",
       "2       OffersScreenAppear  1542  1520  1531         0.62         0.60   \n",
       "0         CartScreenAppear  1266  1238  1230         0.51         0.49   \n",
       "3  PaymentScreenSuccessful  1200  1158  1181         0.48         0.46   \n",
       "4                 Tutorial   278   283   279         0.11         0.11   \n",
       "\n",
       "   rate 248, %  \n",
       "1         0.98  \n",
       "2         0.60  \n",
       "0         0.48  \n",
       "3         0.47  \n",
       "4         0.11  "
      ]
     },
     "execution_count": 37,
     "metadata": {},
     "output_type": "execute_result"
    }
   ],
   "source": [
    "user_count_group['rate 246, %'] =  round(user_count_group['246'] / data_count_user.iloc[0]['UserCount'], 2)\n",
    "user_count_group['rate 247, %'] =  round(user_count_group['247'] / data_count_user.iloc[1]['UserCount'], 2)\n",
    "user_count_group['rate 248, %'] =  round(user_count_group['248'] / data_count_user.iloc[2]['UserCount'], 2)\n",
    "user_count_group"
   ]
  },
  {
   "cell_type": "markdown",
   "metadata": {},
   "source": [
    "**Вывод:**     \n",
    "доли почти равны."
   ]
  },
  {
   "cell_type": "markdown",
   "metadata": {},
   "source": [
    "## Z-Test"
   ]
  },
  {
   "cell_type": "markdown",
   "metadata": {},
   "source": [
    "## A/A и A/B-тест - 'MainScreenAppear'"
   ]
  },
  {
   "cell_type": "markdown",
   "metadata": {},
   "source": [
    "### Группы: 246, 247"
   ]
  },
  {
   "cell_type": "code",
   "execution_count": 38,
   "metadata": {
    "scrolled": true
   },
   "outputs": [
    {
     "name": "stdout",
     "output_type": "stream",
     "text": [
      "p-значение:  0.6892523366167316\n",
      "Не получилось отвергнуть нулевую гипотезу,\n",
      "разница в долях пользователей экспериментальных групп статистически не значима.\n"
     ]
    }
   ],
   "source": [
    "z_test(user_count_group.iloc[0]['246'],\n",
    "                 user_count_group.iloc[0]['247'],\n",
    "                 data_count_user.iloc[0]['UserCount'],\n",
    "                 data_count_user.iloc[1]['UserCount'],\n",
    "                )"
   ]
  },
  {
   "cell_type": "markdown",
   "metadata": {},
   "source": [
    "### Группы: 246, 248"
   ]
  },
  {
   "cell_type": "code",
   "execution_count": 39,
   "metadata": {},
   "outputs": [
    {
     "name": "stdout",
     "output_type": "stream",
     "text": [
      "p-значение:  0.0672002846378863\n",
      "Не получилось отвергнуть нулевую гипотезу,\n",
      "разница в долях пользователей экспериментальных групп статистически не значима.\n"
     ]
    }
   ],
   "source": [
    "z_test(user_count_group.iloc[0]['246'],\n",
    "                 user_count_group.iloc[0]['248'],\n",
    "                 data_count_user.iloc[0]['UserCount'],\n",
    "                 data_count_user.iloc[2]['UserCount'],\n",
    "                )"
   ]
  },
  {
   "cell_type": "markdown",
   "metadata": {},
   "source": [
    "### Группы: 247, 248"
   ]
  },
  {
   "cell_type": "code",
   "execution_count": 40,
   "metadata": {},
   "outputs": [
    {
     "name": "stdout",
     "output_type": "stream",
     "text": [
      "p-значение:  0.37934201817586866\n",
      "Не получилось отвергнуть нулевую гипотезу,\n",
      "разница в долях пользователей экспериментальных групп статистически не значима.\n"
     ]
    }
   ],
   "source": [
    "z_test(user_count_group.iloc[0]['247'],\n",
    "                 user_count_group.iloc[0]['248'],\n",
    "                 data_count_user.iloc[1]['UserCount'],\n",
    "                 data_count_user.iloc[2]['UserCount'],\n",
    "                )"
   ]
  },
  {
   "cell_type": "markdown",
   "metadata": {},
   "source": [
    "### Группы: 246+247, 248"
   ]
  },
  {
   "cell_type": "code",
   "execution_count": 41,
   "metadata": {
    "scrolled": true
   },
   "outputs": [
    {
     "name": "stdout",
     "output_type": "stream",
     "text": [
      "p-значение:  0.7687362863210951\n",
      "Не получилось отвергнуть нулевую гипотезу,\n",
      "разница в долях пользователей экспериментальных групп статистически не значима.\n"
     ]
    }
   ],
   "source": [
    "z_test((user_count_group.iloc[0]['246'] + user_count_group.iloc[0]['247']),\n",
    "                 user_count_group.iloc[0]['248'],\n",
    "                 data_count_user.iloc[0]['UserCount'] + data_count_user.iloc[1]['UserCount'],\n",
    "                 data_count_user.iloc[2]['UserCount'],\n",
    "                )"
   ]
  },
  {
   "cell_type": "markdown",
   "metadata": {},
   "source": [
    "**Вывод:** z-test показывает, что нет оснований считать доли разными. Глобально принимаем гипотезу H<sub>0</sub>"
   ]
  },
  {
   "cell_type": "markdown",
   "metadata": {},
   "source": [
    "## A/A и A/B-тест - 'OffersScreenAppear'"
   ]
  },
  {
   "cell_type": "markdown",
   "metadata": {},
   "source": [
    "### Группы: 246, 247"
   ]
  },
  {
   "cell_type": "code",
   "execution_count": 42,
   "metadata": {
    "scrolled": true
   },
   "outputs": [
    {
     "name": "stdout",
     "output_type": "stream",
     "text": [
      "p-значение:  0.24727749816441724\n",
      "Не получилось отвергнуть нулевую гипотезу,\n",
      "разница в долях пользователей экспериментальных групп статистически не значима.\n"
     ]
    }
   ],
   "source": [
    "z_test(user_count_group.iloc[1]['246'],\n",
    "                 user_count_group.iloc[1]['247'],\n",
    "                 data_count_user.iloc[0]['UserCount'],\n",
    "                 data_count_user.iloc[1]['UserCount'],\n",
    "                )"
   ]
  },
  {
   "cell_type": "markdown",
   "metadata": {},
   "source": [
    "### Группы: 246, 248"
   ]
  },
  {
   "cell_type": "code",
   "execution_count": 43,
   "metadata": {},
   "outputs": [
    {
     "name": "stdout",
     "output_type": "stream",
     "text": [
      "p-значение:  0.2069165034814664\n",
      "Не получилось отвергнуть нулевую гипотезу,\n",
      "разница в долях пользователей экспериментальных групп статистически не значима.\n"
     ]
    }
   ],
   "source": [
    "z_test(user_count_group.iloc[1]['246'],\n",
    "                 user_count_group.iloc[1]['248'],\n",
    "                 data_count_user.iloc[0]['UserCount'],\n",
    "                 data_count_user.iloc[2]['UserCount'],\n",
    "                )"
   ]
  },
  {
   "cell_type": "markdown",
   "metadata": {},
   "source": [
    "### Группы: 247, 248"
   ]
  },
  {
   "cell_type": "code",
   "execution_count": 44,
   "metadata": {},
   "outputs": [
    {
     "name": "stdout",
     "output_type": "stream",
     "text": [
      "p-значение:  0.9196797438130537\n",
      "Не получилось отвергнуть нулевую гипотезу,\n",
      "разница в долях пользователей экспериментальных групп статистически не значима.\n"
     ]
    }
   ],
   "source": [
    "z_test(user_count_group.iloc[1]['247'],\n",
    "                 user_count_group.iloc[1]['248'],\n",
    "                 data_count_user.iloc[1]['UserCount'],\n",
    "                 data_count_user.iloc[2]['UserCount'],\n",
    "                )"
   ]
  },
  {
   "cell_type": "markdown",
   "metadata": {},
   "source": [
    "### Группы: 246+247, 248"
   ]
  },
  {
   "cell_type": "code",
   "execution_count": 45,
   "metadata": {
    "scrolled": true
   },
   "outputs": [
    {
     "name": "stdout",
     "output_type": "stream",
     "text": [
      "p-значение:  0.4440294319831386\n",
      "Не получилось отвергнуть нулевую гипотезу,\n",
      "разница в долях пользователей экспериментальных групп статистически не значима.\n"
     ]
    }
   ],
   "source": [
    "z_test((user_count_group.iloc[1]['246'] + user_count_group.iloc[1]['247']),\n",
    "                 user_count_group.iloc[1]['248'],\n",
    "                 data_count_user.iloc[0]['UserCount'] + data_count_user.iloc[1]['UserCount'],\n",
    "                 data_count_user.iloc[2]['UserCount'],\n",
    "                )"
   ]
  },
  {
   "cell_type": "markdown",
   "metadata": {},
   "source": [
    "**Вывод:** z-test показывает, что нет оснований считать доли разными. Глобально принимаем гипотезу H<sub>0</sub>"
   ]
  },
  {
   "cell_type": "markdown",
   "metadata": {},
   "source": [
    "## A/A и A/B-тест - 'CartScreenAppear'"
   ]
  },
  {
   "cell_type": "markdown",
   "metadata": {},
   "source": [
    "### Группы: 246, 247"
   ]
  },
  {
   "cell_type": "code",
   "execution_count": 46,
   "metadata": {
    "scrolled": true
   },
   "outputs": [
    {
     "name": "stdout",
     "output_type": "stream",
     "text": [
      "p-значение:  0.2288197623317827\n",
      "Не получилось отвергнуть нулевую гипотезу,\n",
      "разница в долях пользователей экспериментальных групп статистически не значима.\n"
     ]
    }
   ],
   "source": [
    "z_test(user_count_group.iloc[2]['246'],\n",
    "                 user_count_group.iloc[2]['247'],\n",
    "                 data_count_user.iloc[0]['UserCount'],\n",
    "                 data_count_user.iloc[1]['UserCount'],\n",
    "                )"
   ]
  },
  {
   "cell_type": "markdown",
   "metadata": {},
   "source": [
    "### Группы: 246, 248"
   ]
  },
  {
   "cell_type": "code",
   "execution_count": 47,
   "metadata": {},
   "outputs": [
    {
     "name": "stdout",
     "output_type": "stream",
     "text": [
      "p-значение:  0.07843072791160144\n",
      "Не получилось отвергнуть нулевую гипотезу,\n",
      "разница в долях пользователей экспериментальных групп статистически не значима.\n"
     ]
    }
   ],
   "source": [
    "z_test(user_count_group.iloc[2]['246'],\n",
    "                 user_count_group.iloc[2]['248'],\n",
    "                 data_count_user.iloc[0]['UserCount'],\n",
    "                 data_count_user.iloc[2]['UserCount'],\n",
    "                )"
   ]
  },
  {
   "cell_type": "markdown",
   "metadata": {},
   "source": [
    "### Группы: 247, 248"
   ]
  },
  {
   "cell_type": "code",
   "execution_count": 48,
   "metadata": {},
   "outputs": [
    {
     "name": "stdout",
     "output_type": "stream",
     "text": [
      "p-значение:  0.5786556822269917\n",
      "Не получилось отвергнуть нулевую гипотезу,\n",
      "разница в долях пользователей экспериментальных групп статистически не значима.\n"
     ]
    }
   ],
   "source": [
    "z_test(user_count_group.iloc[2]['247'],\n",
    "                 user_count_group.iloc[2]['248'],\n",
    "                 data_count_user.iloc[1]['UserCount'],\n",
    "                 data_count_user.iloc[2]['UserCount'],\n",
    "                )"
   ]
  },
  {
   "cell_type": "markdown",
   "metadata": {},
   "source": [
    "### Группы: 246+247, 248"
   ]
  },
  {
   "cell_type": "code",
   "execution_count": 49,
   "metadata": {
    "scrolled": true
   },
   "outputs": [
    {
     "name": "stdout",
     "output_type": "stream",
     "text": [
      "p-значение:  0.16755002057756174\n",
      "Не получилось отвергнуть нулевую гипотезу,\n",
      "разница в долях пользователей экспериментальных групп статистически не значима.\n"
     ]
    }
   ],
   "source": [
    "z_test((user_count_group.iloc[2]['246'] + user_count_group.iloc[2]['247']),\n",
    "                 user_count_group.iloc[2]['248'],\n",
    "                 data_count_user.iloc[0]['UserCount'] + data_count_user.iloc[1]['UserCount'],\n",
    "                 data_count_user.iloc[2]['UserCount'],\n",
    "                )"
   ]
  },
  {
   "cell_type": "markdown",
   "metadata": {},
   "source": [
    "**Вывод:** z-test показывает, что нет оснований считать доли разными. Глобально принимаем гипотезу H<sub>0</sub>"
   ]
  },
  {
   "cell_type": "markdown",
   "metadata": {},
   "source": [
    "## A/A и A/B-тест - 'PaymentScreenSuccessful'"
   ]
  },
  {
   "cell_type": "markdown",
   "metadata": {},
   "source": [
    "### Группы: 246, 247"
   ]
  },
  {
   "cell_type": "code",
   "execution_count": 50,
   "metadata": {
    "scrolled": true
   },
   "outputs": [
    {
     "name": "stdout",
     "output_type": "stream",
     "text": [
      "p-значение:  0.11467393093464251\n",
      "Не получилось отвергнуть нулевую гипотезу,\n",
      "разница в долях пользователей экспериментальных групп статистически не значима.\n"
     ]
    }
   ],
   "source": [
    "z_test(user_count_group.iloc[3]['246'],\n",
    "                 user_count_group.iloc[3]['247'],\n",
    "                 data_count_user.iloc[0]['UserCount'],\n",
    "                 data_count_user.iloc[1]['UserCount'],\n",
    "                )"
   ]
  },
  {
   "cell_type": "markdown",
   "metadata": {},
   "source": [
    "### Группы: 246, 248"
   ]
  },
  {
   "cell_type": "code",
   "execution_count": 51,
   "metadata": {},
   "outputs": [
    {
     "name": "stdout",
     "output_type": "stream",
     "text": [
      "p-значение:  0.21247102681031782\n",
      "Не получилось отвергнуть нулевую гипотезу,\n",
      "разница в долях пользователей экспериментальных групп статистически не значима.\n"
     ]
    }
   ],
   "source": [
    "z_test(user_count_group.iloc[3]['246'],\n",
    "                 user_count_group.iloc[3]['248'],\n",
    "                 data_count_user.iloc[0]['UserCount'],\n",
    "                 data_count_user.iloc[2]['UserCount'],\n",
    "                )"
   ]
  },
  {
   "cell_type": "markdown",
   "metadata": {},
   "source": [
    "### Группы: 247, 248"
   ]
  },
  {
   "cell_type": "code",
   "execution_count": 52,
   "metadata": {},
   "outputs": [
    {
     "name": "stdout",
     "output_type": "stream",
     "text": [
      "p-значение:  1.2625781454033826\n",
      "Не получилось отвергнуть нулевую гипотезу,\n",
      "разница в долях пользователей экспериментальных групп статистически не значима.\n"
     ]
    }
   ],
   "source": [
    "z_test(user_count_group.iloc[3]['247'],\n",
    "                 user_count_group.iloc[3]['248'],\n",
    "                 data_count_user.iloc[1]['UserCount'],\n",
    "                 data_count_user.iloc[2]['UserCount'],\n",
    "                )"
   ]
  },
  {
   "cell_type": "markdown",
   "metadata": {},
   "source": [
    "### Группы: 246+247, 248"
   ]
  },
  {
   "cell_type": "code",
   "execution_count": 53,
   "metadata": {
    "scrolled": true
   },
   "outputs": [
    {
     "name": "stdout",
     "output_type": "stream",
     "text": [
      "p-значение:  0.5846485274549968\n",
      "Не получилось отвергнуть нулевую гипотезу,\n",
      "разница в долях пользователей экспериментальных групп статистически не значима.\n"
     ]
    }
   ],
   "source": [
    "z_test((user_count_group.iloc[3]['246'] + user_count_group.iloc[3]['247']),\n",
    "                 user_count_group.iloc[3]['248'],\n",
    "                 data_count_user.iloc[0]['UserCount'] + data_count_user.iloc[1]['UserCount'],\n",
    "                 data_count_user.iloc[2]['UserCount'],\n",
    "                )"
   ]
  },
  {
   "cell_type": "markdown",
   "metadata": {},
   "source": [
    "**Вывод:** z-test показывает, что нет оснований считать доли разными. Глобально принимаем гипотезу H<sub>0</sub>. Поэтому нет коммерческого смысла вносить предложенные изменения в продукт, так как это не оказывает ни какого влияния активность пользователей. \n",
    "\n",
    "В ходе теста также был применён уровень значимости 0.1. При использовании данного уровня, увеличивается вероятность того, что мы отвергнем гипозезу H<sub>0</sub>, соответсвенно увеличивается вероятность ошибки первого рода. Поэтому оставляем α  = 0.05."
   ]
  },
  {
   "cell_type": "markdown",
   "metadata": {},
   "source": [
    "# Общий вывод"
   ]
  },
  {
   "attachments": {
    "newplot.png": {
     "image/png": "[encoded data removed]"
    }
   },
   "cell_type": "markdown",
   "metadata": {},
   "source": [
    "## Выполненные работы:    \n",
    "1. изучение документа;    \n",
    "2. поиск и удаление дубликатов, в размере 413 шт.;     \n",
    "3. перекодирование формата времени из unix формата;\n",
    "4. построена и проанализирована воронка;\n",
    "5. выполнен z-тест.\n",
    "    \n",
    "## Содержание лога    \n",
    "  - 7551 пользователь;\n",
    "  - 5 событий;\n",
    "  - 3 группы;\n",
    "  - на одного пользователя в среднем приходиться 32 события;\n",
    "  - были удалены неполные данные. После удаления лог содержит данные от 08-01-2019 включительно.\n",
    "\n",
    "## Воронка\n",
    "Согласно воронке, около 62% переходит на шаг 'OffersScreenAppear', остальные 38% покидают приложение. Это самая крупная часть по отказу пользователей.     \n",
    "В остальном пользователи ведут себя предсказуемо: выбрали продукт, положили его в корзину, оформили и оплатили. \n",
    "До оплаты доходит 48% от всех пользователей.\n",
    "Т.е имеется очень низкий % брошенных корзин, приблизительно равный 5%, от оплаченных заказов.\n",
    "\n",
    "Туториал просматривают не часто, но это не критично. Но если мы продаём технику, то конечно это может повлиять на количество обращений в сервисный центр.\n",
    "  ![newplot.png](attachment:newplot.png)\n",
    "  \n",
    "## Z-тест(критерий Фишера)\n",
    "- проведены попарные сравнения, включая с объединённой контрольной группой.\n",
    "- проведённые тесты не показали разницы между контрольными группами, а значит выполненные изменения не повлияют на активность пользователей, а команда не улучшит свои показатели. Глобально принимаем гипотезу H0.\n",
    "\n",
    "## Рекомендации\n",
    "Стоит обратить внимание на первый и второй этап воронки, так как именно на данных этапах происходит наибольший отказ со стороны пользователей. На данный момент он более 20%, а это значит что ситуация там критическая и требует скорейшей корректировки."
   ]
  }
 ],
 "metadata": {
  "ExecuteTimeLog": [
   {
    "duration": 1307,
    "start_time": "2021-10-25T17:24:31.989Z"
   },
   {
    "duration": 1791,
    "start_time": "2021-10-25T17:24:33.297Z"
   },
   {
    "duration": -156,
    "start_time": "2021-10-25T17:24:35.249Z"
   },
   {
    "duration": -160,
    "start_time": "2021-10-25T17:24:35.255Z"
   },
   {
    "duration": -161,
    "start_time": "2021-10-25T17:24:35.257Z"
   },
   {
    "duration": -163,
    "start_time": "2021-10-25T17:24:35.260Z"
   },
   {
    "duration": -165,
    "start_time": "2021-10-25T17:24:35.263Z"
   },
   {
    "duration": -167,
    "start_time": "2021-10-25T17:24:35.266Z"
   },
   {
    "duration": -171,
    "start_time": "2021-10-25T17:24:35.272Z"
   },
   {
    "duration": -174,
    "start_time": "2021-10-25T17:24:35.276Z"
   },
   {
    "duration": -176,
    "start_time": "2021-10-25T17:24:35.279Z"
   },
   {
    "duration": -177,
    "start_time": "2021-10-25T17:24:35.282Z"
   },
   {
    "duration": -181,
    "start_time": "2021-10-25T17:24:35.287Z"
   },
   {
    "duration": -184,
    "start_time": "2021-10-25T17:24:35.291Z"
   },
   {
    "duration": -185,
    "start_time": "2021-10-25T17:24:35.293Z"
   },
   {
    "duration": -188,
    "start_time": "2021-10-25T17:24:35.297Z"
   },
   {
    "duration": -190,
    "start_time": "2021-10-25T17:24:35.300Z"
   },
   {
    "duration": -194,
    "start_time": "2021-10-25T17:24:35.305Z"
   },
   {
    "duration": -196,
    "start_time": "2021-10-25T17:24:35.308Z"
   },
   {
    "duration": -199,
    "start_time": "2021-10-25T17:24:35.312Z"
   },
   {
    "duration": -202,
    "start_time": "2021-10-25T17:24:35.316Z"
   },
   {
    "duration": -206,
    "start_time": "2021-10-25T17:24:35.321Z"
   },
   {
    "duration": -208,
    "start_time": "2021-10-25T17:24:35.324Z"
   },
   {
    "duration": -211,
    "start_time": "2021-10-25T17:24:35.328Z"
   },
   {
    "duration": -211,
    "start_time": "2021-10-25T17:24:35.331Z"
   },
   {
    "duration": -216,
    "start_time": "2021-10-25T17:24:35.337Z"
   },
   {
    "duration": -217,
    "start_time": "2021-10-25T17:24:35.340Z"
   },
   {
    "duration": -219,
    "start_time": "2021-10-25T17:24:35.343Z"
   },
   {
    "duration": -221,
    "start_time": "2021-10-25T17:24:35.346Z"
   },
   {
    "duration": -223,
    "start_time": "2021-10-25T17:24:35.349Z"
   },
   {
    "duration": -226,
    "start_time": "2021-10-25T17:24:35.353Z"
   },
   {
    "duration": -229,
    "start_time": "2021-10-25T17:24:35.357Z"
   },
   {
    "duration": -231,
    "start_time": "2021-10-25T17:24:35.359Z"
   },
   {
    "duration": -232,
    "start_time": "2021-10-25T17:24:35.362Z"
   },
   {
    "duration": -234,
    "start_time": "2021-10-25T17:24:35.365Z"
   },
   {
    "duration": -237,
    "start_time": "2021-10-25T17:24:35.369Z"
   },
   {
    "duration": -240,
    "start_time": "2021-10-25T17:24:35.373Z"
   },
   {
    "duration": -242,
    "start_time": "2021-10-25T17:24:35.375Z"
   },
   {
    "duration": -244,
    "start_time": "2021-10-25T17:24:35.378Z"
   },
   {
    "duration": -247,
    "start_time": "2021-10-25T17:24:35.381Z"
   },
   {
    "duration": -196,
    "start_time": "2021-10-25T17:24:35.387Z"
   },
   {
    "duration": -197,
    "start_time": "2021-10-25T17:24:35.390Z"
   },
   {
    "duration": -198,
    "start_time": "2021-10-25T17:24:35.392Z"
   },
   {
    "duration": -211,
    "start_time": "2021-10-25T17:24:35.406Z"
   },
   {
    "duration": -212,
    "start_time": "2021-10-25T17:24:35.409Z"
   },
   {
    "duration": -213,
    "start_time": "2021-10-25T17:24:35.412Z"
   },
   {
    "duration": -214,
    "start_time": "2021-10-25T17:24:35.414Z"
   },
   {
    "duration": 521,
    "start_time": "2021-10-25T22:17:36.698Z"
   },
   {
    "duration": 1923,
    "start_time": "2021-10-25T22:17:40.834Z"
   },
   {
    "duration": 176,
    "start_time": "2021-10-25T22:17:42.760Z"
   },
   {
    "duration": 1926,
    "start_time": "2021-10-25T22:17:55.429Z"
   },
   {
    "duration": 173,
    "start_time": "2021-10-25T22:17:57.357Z"
   },
   {
    "duration": 15,
    "start_time": "2021-10-25T22:17:57.533Z"
   },
   {
    "duration": 22,
    "start_time": "2021-10-25T22:17:57.550Z"
   },
   {
    "duration": 18,
    "start_time": "2021-10-25T22:17:57.605Z"
   },
   {
    "duration": 88,
    "start_time": "2021-10-25T22:17:57.626Z"
   },
   {
    "duration": 97,
    "start_time": "2021-10-25T22:17:57.716Z"
   },
   {
    "duration": 22,
    "start_time": "2021-10-25T22:17:57.818Z"
   },
   {
    "duration": 321,
    "start_time": "2021-10-25T22:17:57.844Z"
   },
   {
    "duration": 60,
    "start_time": "2021-10-25T22:17:58.167Z"
   },
   {
    "duration": 36,
    "start_time": "2021-10-25T22:17:58.229Z"
   },
   {
    "duration": 54,
    "start_time": "2021-10-25T22:17:58.268Z"
   },
   {
    "duration": 7,
    "start_time": "2021-10-25T22:17:58.324Z"
   },
   {
    "duration": 23,
    "start_time": "2021-10-25T22:17:58.333Z"
   },
   {
    "duration": 6,
    "start_time": "2021-10-25T22:17:58.358Z"
   },
   {
    "duration": 571,
    "start_time": "2021-10-25T22:17:58.401Z"
   },
   {
    "duration": 37,
    "start_time": "2021-10-25T22:17:58.975Z"
   },
   {
    "duration": 15,
    "start_time": "2021-10-25T22:17:59.015Z"
   },
   {
    "duration": 7,
    "start_time": "2021-10-25T22:17:59.033Z"
   },
   {
    "duration": 66,
    "start_time": "2021-10-25T22:17:59.042Z"
   },
   {
    "duration": 139,
    "start_time": "2021-10-25T22:17:59.110Z"
   },
   {
    "duration": 875,
    "start_time": "2021-10-25T22:17:59.251Z"
   },
   {
    "duration": 194,
    "start_time": "2021-10-25T22:18:00.134Z"
   },
   {
    "duration": 400,
    "start_time": "2021-10-25T22:18:00.331Z"
   },
   {
    "duration": 82,
    "start_time": "2021-10-25T22:18:00.734Z"
   },
   {
    "duration": 42,
    "start_time": "2021-10-25T22:18:00.818Z"
   },
   {
    "duration": 6,
    "start_time": "2021-10-25T22:18:00.862Z"
   },
   {
    "duration": 42,
    "start_time": "2021-10-25T22:18:00.871Z"
   },
   {
    "duration": 16,
    "start_time": "2021-10-25T22:18:00.916Z"
   },
   {
    "duration": 13,
    "start_time": "2021-10-25T22:18:00.934Z"
   },
   {
    "duration": 24,
    "start_time": "2021-10-25T22:18:00.949Z"
   },
   {
    "duration": 37,
    "start_time": "2021-10-25T22:18:00.975Z"
   },
   {
    "duration": 23,
    "start_time": "2021-10-25T22:18:01.015Z"
   },
   {
    "duration": 16,
    "start_time": "2021-10-25T22:18:01.040Z"
   },
   {
    "duration": 13,
    "start_time": "2021-10-25T22:18:01.058Z"
   },
   {
    "duration": 15,
    "start_time": "2021-10-25T22:18:01.073Z"
   },
   {
    "duration": 22,
    "start_time": "2021-10-25T22:18:01.090Z"
   },
   {
    "duration": 20,
    "start_time": "2021-10-25T22:18:01.115Z"
   },
   {
    "duration": 22,
    "start_time": "2021-10-25T22:18:01.137Z"
   },
   {
    "duration": 11,
    "start_time": "2021-10-25T22:18:01.162Z"
   },
   {
    "duration": 23,
    "start_time": "2021-10-25T22:18:01.176Z"
   },
   {
    "duration": 24,
    "start_time": "2021-10-25T22:18:01.202Z"
   },
   {
    "duration": 34,
    "start_time": "2021-10-25T22:18:01.229Z"
   },
   {
    "duration": 25,
    "start_time": "2021-10-25T22:18:01.265Z"
   },
   {
    "duration": 18,
    "start_time": "2021-10-25T22:18:01.293Z"
   },
   {
    "duration": 22,
    "start_time": "2021-10-25T22:18:01.314Z"
   },
   {
    "duration": 24,
    "start_time": "2021-10-25T22:18:01.339Z"
   },
   {
    "duration": 1846,
    "start_time": "2021-10-26T19:03:19.065Z"
   },
   {
    "duration": 166,
    "start_time": "2021-10-26T19:03:20.913Z"
   },
   {
    "duration": 15,
    "start_time": "2021-10-26T19:03:21.082Z"
   },
   {
    "duration": 38,
    "start_time": "2021-10-26T19:03:21.100Z"
   },
   {
    "duration": 21,
    "start_time": "2021-10-26T19:03:21.141Z"
   },
   {
    "duration": 92,
    "start_time": "2021-10-26T19:03:21.164Z"
   },
   {
    "duration": 91,
    "start_time": "2021-10-26T19:03:21.258Z"
   },
   {
    "duration": 20,
    "start_time": "2021-10-26T19:03:21.352Z"
   },
   {
    "duration": 304,
    "start_time": "2021-10-26T19:03:21.375Z"
   },
   {
    "duration": 57,
    "start_time": "2021-10-26T19:03:21.682Z"
   },
   {
    "duration": 36,
    "start_time": "2021-10-26T19:03:21.741Z"
   },
   {
    "duration": 53,
    "start_time": "2021-10-26T19:03:21.780Z"
   },
   {
    "duration": 6,
    "start_time": "2021-10-26T19:03:21.835Z"
   },
   {
    "duration": 31,
    "start_time": "2021-10-26T19:03:21.844Z"
   },
   {
    "duration": 6,
    "start_time": "2021-10-26T19:03:21.878Z"
   },
   {
    "duration": 701,
    "start_time": "2021-10-26T19:03:21.886Z"
   },
   {
    "duration": 25,
    "start_time": "2021-10-26T19:03:22.589Z"
   },
   {
    "duration": 23,
    "start_time": "2021-10-26T19:03:22.617Z"
   },
   {
    "duration": 14,
    "start_time": "2021-10-26T19:03:22.643Z"
   },
   {
    "duration": 37,
    "start_time": "2021-10-26T19:03:22.660Z"
   },
   {
    "duration": 143,
    "start_time": "2021-10-26T19:03:22.699Z"
   },
   {
    "duration": 771,
    "start_time": "2021-10-26T19:03:22.844Z"
   },
   {
    "duration": 206,
    "start_time": "2021-10-26T19:03:23.631Z"
   },
   {
    "duration": 339,
    "start_time": "2021-10-26T19:03:23.839Z"
   },
   {
    "duration": 83,
    "start_time": "2021-10-26T19:03:24.181Z"
   },
   {
    "duration": 41,
    "start_time": "2021-10-26T19:03:24.266Z"
   },
   {
    "duration": 24,
    "start_time": "2021-10-26T19:03:24.309Z"
   },
   {
    "duration": 14,
    "start_time": "2021-10-26T19:03:24.336Z"
   },
   {
    "duration": 11,
    "start_time": "2021-10-26T19:03:24.352Z"
   },
   {
    "duration": 16,
    "start_time": "2021-10-26T19:03:24.366Z"
   },
   {
    "duration": 54,
    "start_time": "2021-10-26T19:03:24.385Z"
   },
   {
    "duration": 10,
    "start_time": "2021-10-26T19:03:24.441Z"
   },
   {
    "duration": 12,
    "start_time": "2021-10-26T19:03:24.453Z"
   },
   {
    "duration": 10,
    "start_time": "2021-10-26T19:03:24.468Z"
   },
   {
    "duration": 10,
    "start_time": "2021-10-26T19:03:24.481Z"
   },
   {
    "duration": 41,
    "start_time": "2021-10-26T19:03:24.493Z"
   },
   {
    "duration": 11,
    "start_time": "2021-10-26T19:03:24.537Z"
   },
   {
    "duration": 11,
    "start_time": "2021-10-26T19:03:24.551Z"
   },
   {
    "duration": 9,
    "start_time": "2021-10-26T19:03:24.565Z"
   },
   {
    "duration": 12,
    "start_time": "2021-10-26T19:03:24.576Z"
   },
   {
    "duration": 50,
    "start_time": "2021-10-26T19:03:24.590Z"
   },
   {
    "duration": 13,
    "start_time": "2021-10-26T19:03:24.642Z"
   },
   {
    "duration": 14,
    "start_time": "2021-10-26T19:03:24.658Z"
   },
   {
    "duration": 17,
    "start_time": "2021-10-26T19:03:24.674Z"
   },
   {
    "duration": 11,
    "start_time": "2021-10-26T19:03:24.693Z"
   },
   {
    "duration": 29,
    "start_time": "2021-10-26T19:03:24.706Z"
   },
   {
    "duration": 15,
    "start_time": "2021-10-26T19:03:24.738Z"
   },
   {
    "duration": 67,
    "start_time": "2021-10-26T19:05:46.081Z"
   },
   {
    "duration": 372,
    "start_time": "2021-10-26T19:17:43.078Z"
   },
   {
    "duration": 8,
    "start_time": "2021-10-26T19:17:58.868Z"
   },
   {
    "duration": 23,
    "start_time": "2021-10-26T19:18:38.827Z"
   },
   {
    "duration": 534,
    "start_time": "2021-10-26T19:19:04.190Z"
   },
   {
    "duration": 175,
    "start_time": "2021-10-26T19:38:04.877Z"
   },
   {
    "duration": 175,
    "start_time": "2021-10-26T19:38:09.617Z"
   },
   {
    "duration": 86,
    "start_time": "2021-10-26T19:38:35.808Z"
   },
   {
    "duration": 14,
    "start_time": "2021-10-26T19:49:52.906Z"
   },
   {
    "duration": 2001,
    "start_time": "2021-10-26T21:38:32.821Z"
   },
   {
    "duration": 167,
    "start_time": "2021-10-26T21:38:34.825Z"
   },
   {
    "duration": 15,
    "start_time": "2021-10-26T21:38:34.995Z"
   },
   {
    "duration": 23,
    "start_time": "2021-10-26T21:38:35.012Z"
   },
   {
    "duration": 18,
    "start_time": "2021-10-26T21:38:35.057Z"
   },
   {
    "duration": 90,
    "start_time": "2021-10-26T21:38:35.078Z"
   },
   {
    "duration": 97,
    "start_time": "2021-10-26T21:38:35.171Z"
   },
   {
    "duration": 22,
    "start_time": "2021-10-26T21:38:35.272Z"
   },
   {
    "duration": 314,
    "start_time": "2021-10-26T21:38:35.296Z"
   },
   {
    "duration": 57,
    "start_time": "2021-10-26T21:38:35.612Z"
   },
   {
    "duration": 35,
    "start_time": "2021-10-26T21:38:35.671Z"
   },
   {
    "duration": 52,
    "start_time": "2021-10-26T21:38:35.708Z"
   },
   {
    "duration": 7,
    "start_time": "2021-10-26T21:38:35.762Z"
   },
   {
    "duration": 23,
    "start_time": "2021-10-26T21:38:35.772Z"
   },
   {
    "duration": 6,
    "start_time": "2021-10-26T21:38:35.797Z"
   },
   {
    "duration": 658,
    "start_time": "2021-10-26T21:38:35.805Z"
   },
   {
    "duration": 28,
    "start_time": "2021-10-26T21:38:36.466Z"
   },
   {
    "duration": 68,
    "start_time": "2021-10-26T21:38:36.496Z"
   },
   {
    "duration": 5,
    "start_time": "2021-10-26T21:38:36.567Z"
   },
   {
    "duration": 88,
    "start_time": "2021-10-26T21:38:36.575Z"
   },
   {
    "duration": 223,
    "start_time": "2021-10-26T21:38:36.666Z"
   },
   {
    "duration": 843,
    "start_time": "2021-10-26T21:38:36.892Z"
   },
   {
    "duration": 243,
    "start_time": "2021-10-26T21:38:37.757Z"
   },
   {
    "duration": 332,
    "start_time": "2021-10-26T21:38:38.059Z"
   },
   {
    "duration": 78,
    "start_time": "2021-10-26T21:38:38.393Z"
   },
   {
    "duration": 39,
    "start_time": "2021-10-26T21:38:38.474Z"
   },
   {
    "duration": 8,
    "start_time": "2021-10-26T21:38:38.516Z"
   },
   {
    "duration": 33,
    "start_time": "2021-10-26T21:38:38.526Z"
   },
   {
    "duration": 10,
    "start_time": "2021-10-26T21:38:38.561Z"
   },
   {
    "duration": 11,
    "start_time": "2021-10-26T21:38:38.573Z"
   },
   {
    "duration": 8,
    "start_time": "2021-10-26T21:38:38.586Z"
   },
   {
    "duration": 63,
    "start_time": "2021-10-26T21:38:38.597Z"
   },
   {
    "duration": 10,
    "start_time": "2021-10-26T21:38:38.663Z"
   },
   {
    "duration": 11,
    "start_time": "2021-10-26T21:38:38.676Z"
   },
   {
    "duration": 7,
    "start_time": "2021-10-26T21:38:38.690Z"
   },
   {
    "duration": 10,
    "start_time": "2021-10-26T21:38:38.700Z"
   },
   {
    "duration": 13,
    "start_time": "2021-10-26T21:38:38.757Z"
   },
   {
    "duration": 10,
    "start_time": "2021-10-26T21:38:38.772Z"
   },
   {
    "duration": 8,
    "start_time": "2021-10-26T21:38:38.785Z"
   },
   {
    "duration": 8,
    "start_time": "2021-10-26T21:38:38.795Z"
   },
   {
    "duration": 10,
    "start_time": "2021-10-26T21:38:38.805Z"
   },
   {
    "duration": 7,
    "start_time": "2021-10-26T21:38:38.857Z"
   },
   {
    "duration": 14,
    "start_time": "2021-10-26T21:38:38.867Z"
   },
   {
    "duration": 10,
    "start_time": "2021-10-26T21:38:38.884Z"
   },
   {
    "duration": 11,
    "start_time": "2021-10-26T21:38:38.897Z"
   },
   {
    "duration": 10,
    "start_time": "2021-10-26T21:38:38.911Z"
   },
   {
    "duration": 7,
    "start_time": "2021-10-26T21:38:38.959Z"
   },
   {
    "duration": 16,
    "start_time": "2021-10-26T21:38:38.968Z"
   },
   {
    "duration": 591,
    "start_time": "2021-10-26T21:40:15.029Z"
   },
   {
    "duration": 377,
    "start_time": "2021-10-26T21:40:26.349Z"
   },
   {
    "duration": 371,
    "start_time": "2021-10-26T21:40:38.761Z"
   },
   {
    "duration": 353,
    "start_time": "2021-10-26T21:40:44.393Z"
   },
   {
    "duration": 347,
    "start_time": "2021-10-26T21:40:46.760Z"
   },
   {
    "duration": 5,
    "start_time": "2021-10-26T21:40:59.880Z"
   },
   {
    "duration": 5,
    "start_time": "2021-10-26T21:41:03.633Z"
   },
   {
    "duration": 372,
    "start_time": "2021-10-26T21:41:07.385Z"
   },
   {
    "duration": 5,
    "start_time": "2021-10-26T21:41:10.421Z"
   },
   {
    "duration": 128,
    "start_time": "2021-10-26T21:41:29.345Z"
   },
   {
    "duration": 115,
    "start_time": "2021-10-26T21:41:38.061Z"
   },
   {
    "duration": 109,
    "start_time": "2021-10-26T21:41:50.077Z"
   },
   {
    "duration": 380,
    "start_time": "2021-10-26T21:41:58.881Z"
   },
   {
    "duration": 5,
    "start_time": "2021-10-26T21:42:36.296Z"
   },
   {
    "duration": 118,
    "start_time": "2021-10-26T21:42:50.169Z"
   },
   {
    "duration": 123,
    "start_time": "2021-10-26T21:43:19.222Z"
   },
   {
    "duration": 111,
    "start_time": "2021-10-26T21:43:23.793Z"
   },
   {
    "duration": 116,
    "start_time": "2021-10-26T21:43:35.489Z"
   },
   {
    "duration": 2299,
    "start_time": "2021-10-26T21:43:46.923Z"
   },
   {
    "duration": 273,
    "start_time": "2021-10-26T21:43:49.225Z"
   },
   {
    "duration": 65,
    "start_time": "2021-10-26T21:43:49.505Z"
   },
   {
    "duration": 22,
    "start_time": "2021-10-26T21:43:49.573Z"
   },
   {
    "duration": 66,
    "start_time": "2021-10-26T21:43:49.597Z"
   },
   {
    "duration": 134,
    "start_time": "2021-10-26T21:43:49.665Z"
   },
   {
    "duration": -289,
    "start_time": "2021-10-26T21:43:50.093Z"
   },
   {
    "duration": -290,
    "start_time": "2021-10-26T21:43:50.097Z"
   },
   {
    "duration": -291,
    "start_time": "2021-10-26T21:43:50.100Z"
   },
   {
    "duration": -292,
    "start_time": "2021-10-26T21:43:50.103Z"
   },
   {
    "duration": -462,
    "start_time": "2021-10-26T21:43:50.275Z"
   },
   {
    "duration": -462,
    "start_time": "2021-10-26T21:43:50.278Z"
   },
   {
    "duration": -463,
    "start_time": "2021-10-26T21:43:50.281Z"
   },
   {
    "duration": -468,
    "start_time": "2021-10-26T21:43:50.288Z"
   },
   {
    "duration": -469,
    "start_time": "2021-10-26T21:43:50.291Z"
   },
   {
    "duration": -438,
    "start_time": "2021-10-26T21:43:50.295Z"
   },
   {
    "duration": -439,
    "start_time": "2021-10-26T21:43:50.298Z"
   },
   {
    "duration": -440,
    "start_time": "2021-10-26T21:43:50.302Z"
   },
   {
    "duration": -515,
    "start_time": "2021-10-26T21:43:50.379Z"
   },
   {
    "duration": -517,
    "start_time": "2021-10-26T21:43:50.383Z"
   },
   {
    "duration": -520,
    "start_time": "2021-10-26T21:43:50.388Z"
   },
   {
    "duration": -520,
    "start_time": "2021-10-26T21:43:50.391Z"
   },
   {
    "duration": -521,
    "start_time": "2021-10-26T21:43:50.394Z"
   },
   {
    "duration": -522,
    "start_time": "2021-10-26T21:43:50.397Z"
   },
   {
    "duration": -523,
    "start_time": "2021-10-26T21:43:50.401Z"
   },
   {
    "duration": -524,
    "start_time": "2021-10-26T21:43:50.404Z"
   },
   {
    "duration": -525,
    "start_time": "2021-10-26T21:43:50.407Z"
   },
   {
    "duration": -526,
    "start_time": "2021-10-26T21:43:50.410Z"
   },
   {
    "duration": -776,
    "start_time": "2021-10-26T21:43:50.662Z"
   },
   {
    "duration": -777,
    "start_time": "2021-10-26T21:43:50.665Z"
   },
   {
    "duration": -777,
    "start_time": "2021-10-26T21:43:50.668Z"
   },
   {
    "duration": -778,
    "start_time": "2021-10-26T21:43:50.671Z"
   },
   {
    "duration": -780,
    "start_time": "2021-10-26T21:43:50.675Z"
   },
   {
    "duration": -782,
    "start_time": "2021-10-26T21:43:50.679Z"
   },
   {
    "duration": -723,
    "start_time": "2021-10-26T21:43:50.682Z"
   },
   {
    "duration": -724,
    "start_time": "2021-10-26T21:43:50.685Z"
   },
   {
    "duration": -725,
    "start_time": "2021-10-26T21:43:50.688Z"
   },
   {
    "duration": -726,
    "start_time": "2021-10-26T21:43:50.691Z"
   },
   {
    "duration": -727,
    "start_time": "2021-10-26T21:43:50.694Z"
   },
   {
    "duration": -728,
    "start_time": "2021-10-26T21:43:50.697Z"
   },
   {
    "duration": -729,
    "start_time": "2021-10-26T21:43:50.700Z"
   },
   {
    "duration": -730,
    "start_time": "2021-10-26T21:43:50.703Z"
   },
   {
    "duration": -732,
    "start_time": "2021-10-26T21:43:50.706Z"
   },
   {
    "duration": -733,
    "start_time": "2021-10-26T21:43:50.709Z"
   },
   {
    "duration": -736,
    "start_time": "2021-10-26T21:43:50.713Z"
   },
   {
    "duration": -745,
    "start_time": "2021-10-26T21:43:50.723Z"
   },
   {
    "duration": -747,
    "start_time": "2021-10-26T21:43:50.727Z"
   },
   {
    "duration": -751,
    "start_time": "2021-10-26T21:43:50.733Z"
   },
   {
    "duration": 144,
    "start_time": "2021-10-26T21:43:58.613Z"
   },
   {
    "duration": 143,
    "start_time": "2021-10-26T21:44:05.104Z"
   },
   {
    "duration": 148,
    "start_time": "2021-10-26T21:44:10.248Z"
   },
   {
    "duration": 144,
    "start_time": "2021-10-26T21:44:20.241Z"
   },
   {
    "duration": 6,
    "start_time": "2021-10-26T21:44:29.787Z"
   },
   {
    "duration": 747,
    "start_time": "2021-10-26T21:45:13.280Z"
   },
   {
    "duration": 123,
    "start_time": "2021-10-26T21:45:24.100Z"
   },
   {
    "duration": 140,
    "start_time": "2021-10-26T21:45:45.106Z"
   },
   {
    "duration": 119,
    "start_time": "2021-10-26T21:46:00.925Z"
   },
   {
    "duration": 132,
    "start_time": "2021-10-26T21:46:15.672Z"
   },
   {
    "duration": 137,
    "start_time": "2021-10-26T21:46:31.688Z"
   },
   {
    "duration": 827,
    "start_time": "2021-10-26T21:46:35.765Z"
   },
   {
    "duration": 134,
    "start_time": "2021-10-26T21:46:41.300Z"
   },
   {
    "duration": 142,
    "start_time": "2021-10-26T21:47:50.789Z"
   },
   {
    "duration": 140,
    "start_time": "2021-10-26T21:48:01.376Z"
   },
   {
    "duration": 139,
    "start_time": "2021-10-26T21:48:16.788Z"
   },
   {
    "duration": 140,
    "start_time": "2021-10-26T21:48:19.048Z"
   },
   {
    "duration": 20,
    "start_time": "2021-10-26T21:48:32.164Z"
   },
   {
    "duration": 295,
    "start_time": "2021-10-26T21:48:34.674Z"
   },
   {
    "duration": 52,
    "start_time": "2021-10-26T21:48:35.436Z"
   },
   {
    "duration": 360,
    "start_time": "2021-10-26T21:49:19.580Z"
   },
   {
    "duration": 380,
    "start_time": "2021-10-26T21:49:24.564Z"
   },
   {
    "duration": 304,
    "start_time": "2021-10-26T21:49:27.656Z"
   },
   {
    "duration": 426,
    "start_time": "2021-10-26T21:53:15.260Z"
   },
   {
    "duration": 640,
    "start_time": "2021-10-26T21:53:22.408Z"
   },
   {
    "duration": 374,
    "start_time": "2021-10-26T21:53:26.524Z"
   },
   {
    "duration": 412,
    "start_time": "2021-10-26T21:53:30.180Z"
   },
   {
    "duration": 291,
    "start_time": "2021-10-26T21:53:33.268Z"
   },
   {
    "duration": 38,
    "start_time": "2021-10-26T21:55:03.728Z"
   },
   {
    "duration": 39,
    "start_time": "2021-10-26T21:55:15.520Z"
   },
   {
    "duration": 149,
    "start_time": "2021-10-26T21:55:38.392Z"
   },
   {
    "duration": 213,
    "start_time": "2021-10-26T21:55:57.504Z"
   },
   {
    "duration": 42,
    "start_time": "2021-10-26T21:56:03.460Z"
   },
   {
    "duration": 136,
    "start_time": "2021-10-26T21:56:11.856Z"
   },
   {
    "duration": 145,
    "start_time": "2021-10-26T21:56:25.172Z"
   },
   {
    "duration": 36,
    "start_time": "2021-10-26T22:00:00.623Z"
   },
   {
    "duration": 7,
    "start_time": "2021-10-26T22:00:01.035Z"
   },
   {
    "duration": 24,
    "start_time": "2021-10-26T22:00:01.647Z"
   },
   {
    "duration": 5,
    "start_time": "2021-10-26T22:00:38.687Z"
   },
   {
    "duration": 2276,
    "start_time": "2021-10-26T22:02:02.027Z"
   },
   {
    "duration": 169,
    "start_time": "2021-10-26T22:02:04.305Z"
   },
   {
    "duration": 16,
    "start_time": "2021-10-26T22:02:04.477Z"
   },
   {
    "duration": 23,
    "start_time": "2021-10-26T22:02:04.495Z"
   },
   {
    "duration": 43,
    "start_time": "2021-10-26T22:02:04.520Z"
   },
   {
    "duration": 154,
    "start_time": "2021-10-26T22:02:04.565Z"
   },
   {
    "duration": 97,
    "start_time": "2021-10-26T22:02:04.721Z"
   },
   {
    "duration": 19,
    "start_time": "2021-10-26T22:02:04.822Z"
   },
   {
    "duration": 315,
    "start_time": "2021-10-26T22:02:04.857Z"
   },
   {
    "duration": 56,
    "start_time": "2021-10-26T22:02:05.174Z"
   },
   {
    "duration": 55,
    "start_time": "2021-10-26T22:02:05.233Z"
   },
   {
    "duration": 178,
    "start_time": "2021-10-26T22:02:05.291Z"
   },
   {
    "duration": 33,
    "start_time": "2021-10-26T22:02:05.472Z"
   },
   {
    "duration": 8,
    "start_time": "2021-10-26T22:02:05.507Z"
   },
   {
    "duration": 59,
    "start_time": "2021-10-26T22:02:05.517Z"
   },
   {
    "duration": 1916,
    "start_time": "2021-10-26T22:02:46.047Z"
   },
   {
    "duration": 163,
    "start_time": "2021-10-26T22:02:47.966Z"
   },
   {
    "duration": 31,
    "start_time": "2021-10-26T22:02:48.132Z"
   },
   {
    "duration": 26,
    "start_time": "2021-10-26T22:02:48.166Z"
   },
   {
    "duration": 68,
    "start_time": "2021-10-26T22:02:48.194Z"
   },
   {
    "duration": 301,
    "start_time": "2021-10-26T22:02:48.265Z"
   },
   {
    "duration": 130,
    "start_time": "2021-10-26T22:02:48.568Z"
   },
   {
    "duration": 73,
    "start_time": "2021-10-26T22:02:48.701Z"
   },
   {
    "duration": 375,
    "start_time": "2021-10-26T22:02:48.778Z"
   },
   {
    "duration": 124,
    "start_time": "2021-10-26T22:02:49.158Z"
   },
   {
    "duration": 95,
    "start_time": "2021-10-26T22:02:49.285Z"
   },
   {
    "duration": 312,
    "start_time": "2021-10-26T22:02:49.382Z"
   },
   {
    "duration": 80,
    "start_time": "2021-10-26T22:02:49.697Z"
   },
   {
    "duration": 6,
    "start_time": "2021-10-26T22:02:49.780Z"
   },
   {
    "duration": 79,
    "start_time": "2021-10-26T22:02:49.789Z"
   },
   {
    "duration": 2564,
    "start_time": "2021-10-26T22:04:25.743Z"
   },
   {
    "duration": 172,
    "start_time": "2021-10-26T22:04:28.310Z"
   },
   {
    "duration": 15,
    "start_time": "2021-10-26T22:04:28.485Z"
   },
   {
    "duration": 34,
    "start_time": "2021-10-26T22:04:28.502Z"
   },
   {
    "duration": 20,
    "start_time": "2021-10-26T22:04:28.538Z"
   },
   {
    "duration": 147,
    "start_time": "2021-10-26T22:04:28.560Z"
   },
   {
    "duration": 83,
    "start_time": "2021-10-26T22:04:28.710Z"
   },
   {
    "duration": 20,
    "start_time": "2021-10-26T22:04:28.795Z"
   },
   {
    "duration": 298,
    "start_time": "2021-10-26T22:04:28.818Z"
   },
   {
    "duration": 60,
    "start_time": "2021-10-26T22:04:29.119Z"
   },
   {
    "duration": 105,
    "start_time": "2021-10-26T22:04:29.182Z"
   },
   {
    "duration": 269,
    "start_time": "2021-10-26T22:04:29.290Z"
   },
   {
    "duration": 44,
    "start_time": "2021-10-26T22:04:29.561Z"
   },
   {
    "duration": 51,
    "start_time": "2021-10-26T22:04:29.608Z"
   },
   {
    "duration": 23,
    "start_time": "2021-10-26T22:04:29.662Z"
   },
   {
    "duration": 3,
    "start_time": "2021-10-26T22:04:29.687Z"
   },
   {
    "duration": 12,
    "start_time": "2021-10-26T22:04:29.692Z"
   },
   {
    "duration": 1192,
    "start_time": "2021-10-26T22:04:29.707Z"
   },
   {
    "duration": 26,
    "start_time": "2021-10-26T22:04:30.902Z"
   },
   {
    "duration": 36,
    "start_time": "2021-10-26T22:04:30.931Z"
   },
   {
    "duration": 7,
    "start_time": "2021-10-26T22:04:30.970Z"
   },
   {
    "duration": 37,
    "start_time": "2021-10-26T22:04:30.979Z"
   },
   {
    "duration": 155,
    "start_time": "2021-10-26T22:04:31.019Z"
   },
   {
    "duration": 767,
    "start_time": "2021-10-26T22:04:31.177Z"
   },
   {
    "duration": 223,
    "start_time": "2021-10-26T22:04:31.947Z"
   },
   {
    "duration": 353,
    "start_time": "2021-10-26T22:04:32.173Z"
   },
   {
    "duration": 78,
    "start_time": "2021-10-26T22:04:32.532Z"
   },
   {
    "duration": 59,
    "start_time": "2021-10-26T22:04:32.613Z"
   },
   {
    "duration": 6,
    "start_time": "2021-10-26T22:04:32.675Z"
   },
   {
    "duration": 14,
    "start_time": "2021-10-26T22:04:32.684Z"
   },
   {
    "duration": 12,
    "start_time": "2021-10-26T22:04:32.701Z"
   },
   {
    "duration": 43,
    "start_time": "2021-10-26T22:04:32.716Z"
   },
   {
    "duration": 12,
    "start_time": "2021-10-26T22:04:32.762Z"
   },
   {
    "duration": 23,
    "start_time": "2021-10-26T22:04:32.776Z"
   },
   {
    "duration": 10,
    "start_time": "2021-10-26T22:04:32.802Z"
   },
   {
    "duration": 12,
    "start_time": "2021-10-26T22:04:32.859Z"
   },
   {
    "duration": 9,
    "start_time": "2021-10-26T22:04:32.874Z"
   },
   {
    "duration": 14,
    "start_time": "2021-10-26T22:04:32.886Z"
   },
   {
    "duration": 10,
    "start_time": "2021-10-26T22:04:32.903Z"
   },
   {
    "duration": 49,
    "start_time": "2021-10-26T22:04:32.915Z"
   },
   {
    "duration": 9,
    "start_time": "2021-10-26T22:04:32.967Z"
   },
   {
    "duration": 11,
    "start_time": "2021-10-26T22:04:32.978Z"
   },
   {
    "duration": 8,
    "start_time": "2021-10-26T22:04:32.992Z"
   },
   {
    "duration": 58,
    "start_time": "2021-10-26T22:04:33.002Z"
   },
   {
    "duration": 9,
    "start_time": "2021-10-26T22:04:33.062Z"
   },
   {
    "duration": 9,
    "start_time": "2021-10-26T22:04:33.074Z"
   },
   {
    "duration": 9,
    "start_time": "2021-10-26T22:04:33.085Z"
   },
   {
    "duration": 13,
    "start_time": "2021-10-26T22:04:33.096Z"
   },
   {
    "duration": 51,
    "start_time": "2021-10-26T22:04:33.112Z"
   },
   {
    "duration": 11,
    "start_time": "2021-10-26T22:04:33.165Z"
   },
   {
    "duration": 573,
    "start_time": "2021-10-26T22:07:47.456Z"
   },
   {
    "duration": 583,
    "start_time": "2021-10-26T22:07:54.964Z"
   },
   {
    "duration": 426,
    "start_time": "2021-10-26T22:21:39.265Z"
   },
   {
    "duration": 2008,
    "start_time": "2021-10-26T22:21:49.537Z"
   },
   {
    "duration": 166,
    "start_time": "2021-10-26T22:21:51.548Z"
   },
   {
    "duration": 14,
    "start_time": "2021-10-26T22:21:51.717Z"
   },
   {
    "duration": 37,
    "start_time": "2021-10-26T22:21:51.734Z"
   },
   {
    "duration": 17,
    "start_time": "2021-10-26T22:21:51.774Z"
   },
   {
    "duration": 164,
    "start_time": "2021-10-26T22:21:51.794Z"
   },
   {
    "duration": 82,
    "start_time": "2021-10-26T22:21:51.960Z"
   },
   {
    "duration": 19,
    "start_time": "2021-10-26T22:21:52.060Z"
   },
   {
    "duration": 312,
    "start_time": "2021-10-26T22:21:52.083Z"
   },
   {
    "duration": 60,
    "start_time": "2021-10-26T22:21:52.397Z"
   },
   {
    "duration": 41,
    "start_time": "2021-10-26T22:21:52.460Z"
   },
   {
    "duration": 174,
    "start_time": "2021-10-26T22:21:52.504Z"
   },
   {
    "duration": 33,
    "start_time": "2021-10-26T22:21:52.681Z"
   },
   {
    "duration": 6,
    "start_time": "2021-10-26T22:21:52.717Z"
   },
   {
    "duration": 43,
    "start_time": "2021-10-26T22:21:52.726Z"
   },
   {
    "duration": 5,
    "start_time": "2021-10-26T22:21:52.772Z"
   },
   {
    "duration": 698,
    "start_time": "2021-10-26T22:21:52.779Z"
   },
   {
    "duration": 24,
    "start_time": "2021-10-26T22:21:53.479Z"
   },
   {
    "duration": 65,
    "start_time": "2021-10-26T22:21:53.505Z"
   },
   {
    "duration": 15,
    "start_time": "2021-10-26T22:21:53.573Z"
   },
   {
    "duration": 12,
    "start_time": "2021-10-26T22:21:53.591Z"
   },
   {
    "duration": 56,
    "start_time": "2021-10-26T22:21:53.606Z"
   },
   {
    "duration": 233,
    "start_time": "2021-10-26T22:21:53.668Z"
   },
   {
    "duration": 1027,
    "start_time": "2021-10-26T22:21:53.904Z"
   },
   {
    "duration": 127,
    "start_time": "2021-10-26T22:21:54.933Z"
   },
   {
    "duration": 326,
    "start_time": "2021-10-26T22:21:55.062Z"
   },
   {
    "duration": 89,
    "start_time": "2021-10-26T22:21:55.390Z"
   },
   {
    "duration": 97,
    "start_time": "2021-10-26T22:21:55.481Z"
   },
   {
    "duration": 6,
    "start_time": "2021-10-26T22:21:55.581Z"
   },
   {
    "duration": 24,
    "start_time": "2021-10-26T22:21:55.589Z"
   },
   {
    "duration": 13,
    "start_time": "2021-10-26T22:21:55.658Z"
   },
   {
    "duration": 21,
    "start_time": "2021-10-26T22:21:55.674Z"
   },
   {
    "duration": 9,
    "start_time": "2021-10-26T22:21:55.699Z"
   },
   {
    "duration": 66,
    "start_time": "2021-10-26T22:21:55.710Z"
   },
   {
    "duration": 9,
    "start_time": "2021-10-26T22:21:55.779Z"
   },
   {
    "duration": 68,
    "start_time": "2021-10-26T22:21:55.791Z"
   },
   {
    "duration": 12,
    "start_time": "2021-10-26T22:21:55.861Z"
   },
   {
    "duration": 10,
    "start_time": "2021-10-26T22:21:55.875Z"
   },
   {
    "duration": 10,
    "start_time": "2021-10-26T22:21:55.888Z"
   },
   {
    "duration": 10,
    "start_time": "2021-10-26T22:21:55.900Z"
   },
   {
    "duration": 47,
    "start_time": "2021-10-26T22:21:55.912Z"
   },
   {
    "duration": 13,
    "start_time": "2021-10-26T22:21:55.962Z"
   },
   {
    "duration": 12,
    "start_time": "2021-10-26T22:21:55.977Z"
   },
   {
    "duration": 13,
    "start_time": "2021-10-26T22:21:55.991Z"
   },
   {
    "duration": 10,
    "start_time": "2021-10-26T22:21:56.006Z"
   },
   {
    "duration": 46,
    "start_time": "2021-10-26T22:21:56.018Z"
   },
   {
    "duration": 10,
    "start_time": "2021-10-26T22:21:56.067Z"
   },
   {
    "duration": 10,
    "start_time": "2021-10-26T22:21:56.079Z"
   },
   {
    "duration": 12,
    "start_time": "2021-10-26T22:21:56.091Z"
   },
   {
    "duration": 12,
    "start_time": "2021-10-26T22:21:56.105Z"
   },
   {
    "duration": 552,
    "start_time": "2021-10-26T22:26:41.165Z"
   },
   {
    "duration": 557,
    "start_time": "2021-10-26T22:27:06.064Z"
   },
   {
    "duration": 14,
    "start_time": "2021-10-26T22:31:50.307Z"
   },
   {
    "duration": 15,
    "start_time": "2021-10-26T22:33:52.312Z"
   },
   {
    "duration": 6,
    "start_time": "2021-10-26T22:33:53.576Z"
   },
   {
    "duration": 43,
    "start_time": "2021-10-26T22:36:31.808Z"
   },
   {
    "duration": 4,
    "start_time": "2021-10-26T22:37:31.320Z"
   },
   {
    "duration": 8,
    "start_time": "2021-10-26T22:38:54.368Z"
   },
   {
    "duration": 647,
    "start_time": "2021-10-26T22:41:38.459Z"
   },
   {
    "duration": 373,
    "start_time": "2021-10-26T22:41:48.723Z"
   },
   {
    "duration": 122,
    "start_time": "2021-10-26T22:41:57.505Z"
   },
   {
    "duration": 386,
    "start_time": "2021-10-26T22:41:59.768Z"
   },
   {
    "duration": 370,
    "start_time": "2021-10-26T22:42:07.739Z"
   },
   {
    "duration": 268,
    "start_time": "2021-10-26T22:42:13.804Z"
   },
   {
    "duration": 372,
    "start_time": "2021-10-26T22:42:25.024Z"
   },
   {
    "duration": 119,
    "start_time": "2021-10-26T22:42:31.651Z"
   },
   {
    "duration": 269,
    "start_time": "2021-10-26T22:42:34.119Z"
   },
   {
    "duration": 468,
    "start_time": "2021-10-26T22:43:51.135Z"
   },
   {
    "duration": 486,
    "start_time": "2021-10-26T22:44:43.188Z"
   },
   {
    "duration": 1036,
    "start_time": "2021-10-26T22:44:51.079Z"
   },
   {
    "duration": 381,
    "start_time": "2021-10-26T22:44:56.267Z"
   },
   {
    "duration": 373,
    "start_time": "2021-10-26T22:45:03.039Z"
   },
   {
    "duration": 361,
    "start_time": "2021-10-26T22:45:16.776Z"
   },
   {
    "duration": 370,
    "start_time": "2021-10-26T22:45:24.075Z"
   },
   {
    "duration": 551,
    "start_time": "2021-10-26T22:45:29.963Z"
   },
   {
    "duration": 473,
    "start_time": "2021-10-26T22:48:02.103Z"
   },
   {
    "duration": 499,
    "start_time": "2021-10-26T22:48:49.147Z"
   },
   {
    "duration": 478,
    "start_time": "2021-10-26T22:48:58.783Z"
   },
   {
    "duration": 474,
    "start_time": "2021-10-26T22:49:17.655Z"
   },
   {
    "duration": 474,
    "start_time": "2021-10-26T22:49:44.531Z"
   },
   {
    "duration": 454,
    "start_time": "2021-10-26T22:49:54.051Z"
   },
   {
    "duration": 452,
    "start_time": "2021-10-26T22:49:59.527Z"
   },
   {
    "duration": 255,
    "start_time": "2021-10-26T22:50:08.923Z"
   },
   {
    "duration": 353,
    "start_time": "2021-10-26T22:50:24.795Z"
   },
   {
    "duration": 253,
    "start_time": "2021-10-26T22:50:53.911Z"
   },
   {
    "duration": 254,
    "start_time": "2021-10-26T22:50:59.103Z"
   },
   {
    "duration": 347,
    "start_time": "2021-10-26T22:51:07.047Z"
   },
   {
    "duration": 306,
    "start_time": "2021-10-26T22:51:18.651Z"
   },
   {
    "duration": 338,
    "start_time": "2021-10-26T22:51:23.359Z"
   },
   {
    "duration": 683,
    "start_time": "2021-10-26T23:14:59.146Z"
   },
   {
    "duration": 487,
    "start_time": "2021-10-26T23:15:02.870Z"
   },
   {
    "duration": 693,
    "start_time": "2021-10-26T23:15:32.006Z"
   },
   {
    "duration": 429,
    "start_time": "2021-10-26T23:15:41.486Z"
   },
   {
    "duration": 158,
    "start_time": "2021-10-26T23:18:34.505Z"
   },
   {
    "duration": 374,
    "start_time": "2021-10-26T23:18:40.628Z"
   },
   {
    "duration": 138,
    "start_time": "2021-10-26T23:21:35.637Z"
   },
   {
    "duration": 299,
    "start_time": "2021-10-26T23:21:48.975Z"
   },
   {
    "duration": 305,
    "start_time": "2021-10-26T23:21:58.313Z"
   },
   {
    "duration": 319,
    "start_time": "2021-10-26T23:22:19.769Z"
   },
   {
    "duration": 914,
    "start_time": "2021-10-26T23:24:02.657Z"
   },
   {
    "duration": 122,
    "start_time": "2021-10-26T23:24:12.833Z"
   },
   {
    "duration": 180,
    "start_time": "2021-10-26T23:24:22.214Z"
   },
   {
    "duration": 196,
    "start_time": "2021-10-26T23:29:20.509Z"
   },
   {
    "duration": 71,
    "start_time": "2021-10-26T23:29:48.157Z"
   },
   {
    "duration": 122,
    "start_time": "2021-10-26T23:30:21.394Z"
   },
   {
    "duration": 13,
    "start_time": "2021-10-26T23:30:27.062Z"
   },
   {
    "duration": 12,
    "start_time": "2021-10-26T23:30:37.622Z"
   },
   {
    "duration": 12,
    "start_time": "2021-10-26T23:30:46.074Z"
   },
   {
    "duration": 64,
    "start_time": "2021-10-26T23:31:12.510Z"
   },
   {
    "duration": 8,
    "start_time": "2021-10-26T23:31:22.362Z"
   },
   {
    "duration": 70,
    "start_time": "2021-10-26T23:31:30.134Z"
   },
   {
    "duration": 13,
    "start_time": "2021-10-26T23:31:32.118Z"
   },
   {
    "duration": 73,
    "start_time": "2021-10-26T23:32:08.830Z"
   },
   {
    "duration": 13,
    "start_time": "2021-10-26T23:32:26.930Z"
   },
   {
    "duration": 73,
    "start_time": "2021-10-26T23:32:48.722Z"
   },
   {
    "duration": 48,
    "start_time": "2021-10-26T23:32:56.182Z"
   },
   {
    "duration": 104,
    "start_time": "2021-10-26T23:33:41.535Z"
   },
   {
    "duration": 67,
    "start_time": "2021-10-26T23:33:58.082Z"
   },
   {
    "duration": 47,
    "start_time": "2021-10-26T23:34:00.071Z"
   },
   {
    "duration": 7,
    "start_time": "2021-10-26T23:48:14.315Z"
   },
   {
    "duration": 9,
    "start_time": "2021-10-26T23:48:18.123Z"
   },
   {
    "duration": 8,
    "start_time": "2021-10-26T23:49:52.051Z"
   },
   {
    "duration": 9,
    "start_time": "2021-10-26T23:49:56.543Z"
   },
   {
    "duration": 372,
    "start_time": "2021-10-26T23:58:02.592Z"
   },
   {
    "duration": 583,
    "start_time": "2021-10-26T23:58:09.859Z"
   },
   {
    "duration": 462,
    "start_time": "2021-10-26T23:58:16.636Z"
   },
   {
    "duration": 367,
    "start_time": "2021-10-26T23:58:20.948Z"
   },
   {
    "duration": 3373,
    "start_time": "2021-10-26T23:58:24.688Z"
   },
   {
    "duration": 586,
    "start_time": "2021-10-26T23:58:35.176Z"
   },
   {
    "duration": 371,
    "start_time": "2021-10-26T23:58:44.804Z"
   },
   {
    "duration": 764,
    "start_time": "2021-10-26T23:58:49.804Z"
   },
   {
    "duration": 1612,
    "start_time": "2021-10-26T23:58:58.308Z"
   },
   {
    "duration": 1736,
    "start_time": "2021-10-27T00:00:15.244Z"
   },
   {
    "duration": 9,
    "start_time": "2021-10-27T00:24:49.270Z"
   },
   {
    "duration": 8,
    "start_time": "2021-10-27T00:24:51.082Z"
   },
   {
    "duration": 9,
    "start_time": "2021-10-27T00:24:52.627Z"
   },
   {
    "duration": 8,
    "start_time": "2021-10-27T00:24:54.107Z"
   },
   {
    "duration": 8,
    "start_time": "2021-10-27T00:24:55.411Z"
   },
   {
    "duration": 9,
    "start_time": "2021-10-27T00:24:56.746Z"
   },
   {
    "duration": 8,
    "start_time": "2021-10-27T00:24:58.134Z"
   },
   {
    "duration": 8,
    "start_time": "2021-10-27T00:24:59.602Z"
   },
   {
    "duration": 7,
    "start_time": "2021-10-27T00:25:01.095Z"
   },
   {
    "duration": 218,
    "start_time": "2021-10-27T00:25:02.652Z"
   },
   {
    "duration": 8,
    "start_time": "2021-10-27T00:25:04.202Z"
   },
   {
    "duration": 9,
    "start_time": "2021-10-27T00:25:05.702Z"
   },
   {
    "duration": 8,
    "start_time": "2021-10-27T00:25:07.115Z"
   },
   {
    "duration": 9,
    "start_time": "2021-10-27T00:25:08.527Z"
   },
   {
    "duration": 8,
    "start_time": "2021-10-27T00:25:10.023Z"
   },
   {
    "duration": 8,
    "start_time": "2021-10-27T00:25:11.311Z"
   },
   {
    "duration": 8,
    "start_time": "2021-10-27T00:25:12.887Z"
   },
   {
    "duration": 9,
    "start_time": "2021-10-27T00:25:14.462Z"
   },
   {
    "duration": 7,
    "start_time": "2021-10-27T00:25:15.847Z"
   },
   {
    "duration": 9,
    "start_time": "2021-10-27T00:25:18.920Z"
   },
   {
    "duration": 1581,
    "start_time": "2021-10-27T13:56:20.573Z"
   },
   {
    "duration": 126,
    "start_time": "2021-10-27T13:56:22.156Z"
   },
   {
    "duration": 10,
    "start_time": "2021-10-27T13:56:22.284Z"
   },
   {
    "duration": 19,
    "start_time": "2021-10-27T13:56:22.296Z"
   },
   {
    "duration": 15,
    "start_time": "2021-10-27T13:56:22.316Z"
   },
   {
    "duration": 136,
    "start_time": "2021-10-27T13:56:22.333Z"
   },
   {
    "duration": 64,
    "start_time": "2021-10-27T13:56:22.471Z"
   },
   {
    "duration": 16,
    "start_time": "2021-10-27T13:56:22.538Z"
   },
   {
    "duration": 213,
    "start_time": "2021-10-27T13:56:22.557Z"
   },
   {
    "duration": 37,
    "start_time": "2021-10-27T13:56:22.776Z"
   },
   {
    "duration": 30,
    "start_time": "2021-10-27T13:56:22.815Z"
   },
   {
    "duration": 138,
    "start_time": "2021-10-27T13:56:22.847Z"
   },
   {
    "duration": 22,
    "start_time": "2021-10-27T13:56:22.986Z"
   },
   {
    "duration": 5,
    "start_time": "2021-10-27T13:56:23.010Z"
   },
   {
    "duration": 20,
    "start_time": "2021-10-27T13:56:23.017Z"
   },
   {
    "duration": 957,
    "start_time": "2021-10-27T13:56:23.039Z"
   },
   {
    "duration": 5,
    "start_time": "2021-10-27T13:56:23.998Z"
   },
   {
    "duration": 460,
    "start_time": "2021-10-27T13:56:24.005Z"
   },
   {
    "duration": 15,
    "start_time": "2021-10-27T13:56:24.466Z"
   },
   {
    "duration": 20,
    "start_time": "2021-10-27T13:56:24.483Z"
   },
   {
    "duration": 12,
    "start_time": "2021-10-27T13:56:24.505Z"
   },
   {
    "duration": 5,
    "start_time": "2021-10-27T13:56:24.519Z"
   },
   {
    "duration": 117,
    "start_time": "2021-10-27T13:56:24.528Z"
   },
   {
    "duration": 31,
    "start_time": "2021-10-27T13:56:24.647Z"
   },
   {
    "duration": 67,
    "start_time": "2021-10-27T13:56:24.679Z"
   },
   {
    "duration": 559,
    "start_time": "2021-10-27T13:56:24.748Z"
   },
   {
    "duration": 189,
    "start_time": "2021-10-27T13:56:25.309Z"
   },
   {
    "duration": 233,
    "start_time": "2021-10-27T13:56:25.501Z"
   },
   {
    "duration": 66,
    "start_time": "2021-10-27T13:56:25.736Z"
   },
   {
    "duration": 33,
    "start_time": "2021-10-27T13:56:25.804Z"
   },
   {
    "duration": 5,
    "start_time": "2021-10-27T13:56:25.839Z"
   },
   {
    "duration": 30,
    "start_time": "2021-10-27T13:56:25.846Z"
   },
   {
    "duration": 9,
    "start_time": "2021-10-27T13:56:25.878Z"
   },
   {
    "duration": 8,
    "start_time": "2021-10-27T13:56:25.889Z"
   },
   {
    "duration": 7,
    "start_time": "2021-10-27T13:56:25.899Z"
   },
   {
    "duration": 14,
    "start_time": "2021-10-27T13:56:25.908Z"
   },
   {
    "duration": 13,
    "start_time": "2021-10-27T13:56:25.924Z"
   },
   {
    "duration": 42,
    "start_time": "2021-10-27T13:56:25.939Z"
   },
   {
    "duration": 8,
    "start_time": "2021-10-27T13:56:25.983Z"
   },
   {
    "duration": 8,
    "start_time": "2021-10-27T13:56:25.993Z"
   },
   {
    "duration": 7,
    "start_time": "2021-10-27T13:56:26.003Z"
   },
   {
    "duration": 6,
    "start_time": "2021-10-27T13:56:26.012Z"
   },
   {
    "duration": 7,
    "start_time": "2021-10-27T13:56:26.019Z"
   },
   {
    "duration": 49,
    "start_time": "2021-10-27T13:56:26.027Z"
   },
   {
    "duration": 6,
    "start_time": "2021-10-27T13:56:26.078Z"
   },
   {
    "duration": 7,
    "start_time": "2021-10-27T13:56:26.086Z"
   },
   {
    "duration": 7,
    "start_time": "2021-10-27T13:56:26.095Z"
   },
   {
    "duration": 8,
    "start_time": "2021-10-27T13:56:26.104Z"
   },
   {
    "duration": 10,
    "start_time": "2021-10-27T13:56:26.113Z"
   },
   {
    "duration": 8,
    "start_time": "2021-10-27T13:56:26.124Z"
   },
   {
    "duration": 45,
    "start_time": "2021-10-27T13:56:26.133Z"
   },
   {
    "duration": 9,
    "start_time": "2021-10-27T13:56:26.180Z"
   },
   {
    "duration": 351,
    "start_time": "2021-10-27T13:58:21.953Z"
   },
   {
    "duration": 356,
    "start_time": "2021-10-27T13:58:57.525Z"
   },
   {
    "duration": 1951,
    "start_time": "2021-10-27T17:02:22.254Z"
   },
   {
    "duration": 175,
    "start_time": "2021-10-27T17:02:24.208Z"
   },
   {
    "duration": 17,
    "start_time": "2021-10-27T17:02:24.386Z"
   },
   {
    "duration": 39,
    "start_time": "2021-10-27T17:02:24.407Z"
   },
   {
    "duration": 23,
    "start_time": "2021-10-27T17:02:24.449Z"
   },
   {
    "duration": 183,
    "start_time": "2021-10-27T17:02:24.476Z"
   },
   {
    "duration": 98,
    "start_time": "2021-10-27T17:02:24.662Z"
   },
   {
    "duration": 20,
    "start_time": "2021-10-27T17:02:24.764Z"
   },
   {
    "duration": 317,
    "start_time": "2021-10-27T17:02:24.787Z"
   },
   {
    "duration": 59,
    "start_time": "2021-10-27T17:02:25.106Z"
   },
   {
    "duration": 56,
    "start_time": "2021-10-27T17:02:25.168Z"
   },
   {
    "duration": 170,
    "start_time": "2021-10-27T17:02:25.227Z"
   },
   {
    "duration": 41,
    "start_time": "2021-10-27T17:02:25.399Z"
   },
   {
    "duration": 7,
    "start_time": "2021-10-27T17:02:25.442Z"
   },
   {
    "duration": 24,
    "start_time": "2021-10-27T17:02:25.451Z"
   },
   {
    "duration": 1759,
    "start_time": "2021-10-27T17:02:25.478Z"
   },
   {
    "duration": 6,
    "start_time": "2021-10-27T17:02:27.240Z"
   },
   {
    "duration": 747,
    "start_time": "2021-10-27T17:02:27.248Z"
   },
   {
    "duration": 14,
    "start_time": "2021-10-27T17:02:27.998Z"
   },
   {
    "duration": 27,
    "start_time": "2021-10-27T17:02:28.023Z"
   },
   {
    "duration": 17,
    "start_time": "2021-10-27T17:02:28.052Z"
   },
   {
    "duration": 6,
    "start_time": "2021-10-27T17:02:28.071Z"
   },
   {
    "duration": 166,
    "start_time": "2021-10-27T17:02:28.084Z"
   },
   {
    "duration": 34,
    "start_time": "2021-10-27T17:02:28.255Z"
   },
   {
    "duration": 115,
    "start_time": "2021-10-27T17:02:28.292Z"
   },
   {
    "duration": 798,
    "start_time": "2021-10-27T17:02:28.409Z"
   },
   {
    "duration": 216,
    "start_time": "2021-10-27T17:02:29.209Z"
   },
   {
    "duration": 228,
    "start_time": "2021-10-27T17:02:29.427Z"
   },
   {
    "duration": 82,
    "start_time": "2021-10-27T17:02:29.658Z"
   },
   {
    "duration": 41,
    "start_time": "2021-10-27T17:02:29.743Z"
   },
   {
    "duration": 7,
    "start_time": "2021-10-27T17:02:29.787Z"
   },
   {
    "duration": 35,
    "start_time": "2021-10-27T17:02:29.796Z"
   },
   {
    "duration": 10,
    "start_time": "2021-10-27T17:02:29.834Z"
   },
   {
    "duration": 11,
    "start_time": "2021-10-27T17:02:29.846Z"
   },
   {
    "duration": 11,
    "start_time": "2021-10-27T17:02:29.859Z"
   },
   {
    "duration": 63,
    "start_time": "2021-10-27T17:02:29.873Z"
   },
   {
    "duration": 10,
    "start_time": "2021-10-27T17:02:29.939Z"
   },
   {
    "duration": 8,
    "start_time": "2021-10-27T17:02:29.951Z"
   },
   {
    "duration": 9,
    "start_time": "2021-10-27T17:02:29.961Z"
   },
   {
    "duration": 53,
    "start_time": "2021-10-27T17:02:29.973Z"
   },
   {
    "duration": 9,
    "start_time": "2021-10-27T17:02:30.028Z"
   },
   {
    "duration": 11,
    "start_time": "2021-10-27T17:02:30.039Z"
   },
   {
    "duration": 11,
    "start_time": "2021-10-27T17:02:30.052Z"
   },
   {
    "duration": 11,
    "start_time": "2021-10-27T17:02:30.066Z"
   },
   {
    "duration": 47,
    "start_time": "2021-10-27T17:02:30.079Z"
   },
   {
    "duration": 11,
    "start_time": "2021-10-27T17:02:30.128Z"
   },
   {
    "duration": 11,
    "start_time": "2021-10-27T17:02:30.142Z"
   },
   {
    "duration": 11,
    "start_time": "2021-10-27T17:02:30.155Z"
   },
   {
    "duration": 12,
    "start_time": "2021-10-27T17:02:30.169Z"
   },
   {
    "duration": 10,
    "start_time": "2021-10-27T17:02:30.224Z"
   },
   {
    "duration": 18,
    "start_time": "2021-10-27T17:02:30.237Z"
   },
   {
    "duration": 16,
    "start_time": "2021-10-27T17:02:30.258Z"
   },
   {
    "duration": 530,
    "start_time": "2021-10-27T17:12:03.774Z"
   },
   {
    "duration": 7349,
    "start_time": "2021-10-27T17:12:13.477Z"
   },
   {
    "duration": 279,
    "start_time": "2021-10-27T17:12:55.576Z"
   },
   {
    "duration": 25,
    "start_time": "2021-10-27T17:13:03.550Z"
   },
   {
    "duration": 356,
    "start_time": "2021-10-27T17:45:39.608Z"
   },
   {
    "duration": 305,
    "start_time": "2021-10-27T17:46:25.900Z"
   },
   {
    "duration": 1957,
    "start_time": "2021-10-27T17:46:31.740Z"
   },
   {
    "duration": 291,
    "start_time": "2021-10-27T17:46:33.700Z"
   },
   {
    "duration": 14,
    "start_time": "2021-10-27T17:46:33.994Z"
   },
   {
    "duration": 23,
    "start_time": "2021-10-27T17:46:34.011Z"
   },
   {
    "duration": 52,
    "start_time": "2021-10-27T17:46:34.038Z"
   },
   {
    "duration": 161,
    "start_time": "2021-10-27T17:46:34.093Z"
   },
   {
    "duration": 92,
    "start_time": "2021-10-27T17:46:34.257Z"
   },
   {
    "duration": 29,
    "start_time": "2021-10-27T17:46:34.355Z"
   },
   {
    "duration": 312,
    "start_time": "2021-10-27T17:46:34.387Z"
   },
   {
    "duration": 48,
    "start_time": "2021-10-27T17:46:34.702Z"
   },
   {
    "duration": 59,
    "start_time": "2021-10-27T17:46:34.753Z"
   },
   {
    "duration": 159,
    "start_time": "2021-10-27T17:46:34.814Z"
   },
   {
    "duration": 33,
    "start_time": "2021-10-27T17:46:34.981Z"
   },
   {
    "duration": 7,
    "start_time": "2021-10-27T17:46:35.016Z"
   },
   {
    "duration": 26,
    "start_time": "2021-10-27T17:46:35.025Z"
   },
   {
    "duration": 1784,
    "start_time": "2021-10-27T17:46:35.053Z"
   },
   {
    "duration": 27,
    "start_time": "2021-10-27T17:46:36.839Z"
   },
   {
    "duration": 18,
    "start_time": "2021-10-27T17:46:36.868Z"
   },
   {
    "duration": 724,
    "start_time": "2021-10-27T17:46:36.889Z"
   },
   {
    "duration": 14,
    "start_time": "2021-10-27T17:46:37.615Z"
   },
   {
    "duration": 29,
    "start_time": "2021-10-27T17:46:37.631Z"
   },
   {
    "duration": 34,
    "start_time": "2021-10-27T17:46:37.662Z"
   },
   {
    "duration": 7,
    "start_time": "2021-10-27T17:46:37.701Z"
   },
   {
    "duration": 151,
    "start_time": "2021-10-27T17:46:37.712Z"
   },
   {
    "duration": 38,
    "start_time": "2021-10-27T17:46:37.865Z"
   },
   {
    "duration": 109,
    "start_time": "2021-10-27T17:46:37.905Z"
   },
   {
    "duration": 770,
    "start_time": "2021-10-27T17:46:38.016Z"
   },
   {
    "duration": 206,
    "start_time": "2021-10-27T17:46:38.791Z"
   },
   {
    "duration": 246,
    "start_time": "2021-10-27T17:46:38.999Z"
   },
   {
    "duration": 87,
    "start_time": "2021-10-27T17:46:39.248Z"
   },
   {
    "duration": 63,
    "start_time": "2021-10-27T17:46:39.338Z"
   },
   {
    "duration": 7,
    "start_time": "2021-10-27T17:46:39.405Z"
   },
   {
    "duration": 12,
    "start_time": "2021-10-27T17:46:39.414Z"
   },
   {
    "duration": 12,
    "start_time": "2021-10-27T17:46:39.429Z"
   },
   {
    "duration": 42,
    "start_time": "2021-10-27T17:46:39.444Z"
   },
   {
    "duration": 10,
    "start_time": "2021-10-27T17:46:39.488Z"
   },
   {
    "duration": 24,
    "start_time": "2021-10-27T17:46:39.501Z"
   },
   {
    "duration": 14,
    "start_time": "2021-10-27T17:46:39.528Z"
   },
   {
    "duration": 25,
    "start_time": "2021-10-27T17:46:39.544Z"
   },
   {
    "duration": 8,
    "start_time": "2021-10-27T17:46:39.583Z"
   },
   {
    "duration": 16,
    "start_time": "2021-10-27T17:46:39.593Z"
   },
   {
    "duration": 12,
    "start_time": "2021-10-27T17:46:39.612Z"
   },
   {
    "duration": 20,
    "start_time": "2021-10-27T17:46:39.626Z"
   },
   {
    "duration": 34,
    "start_time": "2021-10-27T17:46:39.648Z"
   },
   {
    "duration": 15,
    "start_time": "2021-10-27T17:46:39.685Z"
   },
   {
    "duration": 14,
    "start_time": "2021-10-27T17:46:39.702Z"
   },
   {
    "duration": 8,
    "start_time": "2021-10-27T17:46:39.719Z"
   },
   {
    "duration": 7,
    "start_time": "2021-10-27T17:46:39.730Z"
   },
   {
    "duration": 47,
    "start_time": "2021-10-27T17:46:39.739Z"
   },
   {
    "duration": 10,
    "start_time": "2021-10-27T17:46:39.789Z"
   },
   {
    "duration": 9,
    "start_time": "2021-10-27T17:46:39.801Z"
   },
   {
    "duration": 8,
    "start_time": "2021-10-27T17:46:39.813Z"
   },
   {
    "duration": 12,
    "start_time": "2021-10-27T17:46:39.823Z"
   },
   {
    "duration": 1771,
    "start_time": "2021-10-27T17:47:44.629Z"
   },
   {
    "duration": 1634,
    "start_time": "2021-10-27T17:48:17.430Z"
   },
   {
    "duration": 1837,
    "start_time": "2021-10-27T17:49:55.049Z"
   }
  ],
  "interpreter": {
   "hash": "ca245c89ab4b52adaad0722eedfc7565fac49c7e5fb2d55eac2e677d335cda88"
  },
  "kernelspec": {
   "display_name": "Python 3.7.11 64-bit (conda)",
   "name": "python3"
  },
  "language_info": {
   "codemirror_mode": {
    "name": "ipython",
    "version": 3
   },
   "file_extension": ".py",
   "mimetype": "text/x-python",
   "name": "python",
   "nbconvert_exporter": "python",
   "pygments_lexer": "ipython3",
   "version": "3.7.11"
  },
  "toc": {
   "base_numbering": 1,
   "nav_menu": {},
   "number_sections": true,
   "sideBar": true,
   "skip_h1_title": false,
   "title_cell": "Table of Contents",
   "title_sidebar": "Contents",
   "toc_cell": false,
   "toc_position": {},
   "toc_section_display": true,
   "toc_window_display": true
  }
 },
 "nbformat": 4,
 "nbformat_minor": 5
}
